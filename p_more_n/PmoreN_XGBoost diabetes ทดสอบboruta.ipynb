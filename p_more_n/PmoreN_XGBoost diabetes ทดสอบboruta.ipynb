line 263 setup variables for Boruta
line 264 n_sample 614
line 265 n_feat 8
line 275 holds the decision about each feature 0 1 -1
line 276 dec_reg shape (8,)
line 280 the best of the shadow features
line 281 hit_reg shape (8,)
line 284  these record the history of the iterations
line 285 imp_history shape (8,)
set n_estimators
main feature selection loop
find features that are tentative still
line 490 imp_real [0.0546079  0.17188953 0.05637596 0.05434681 0.06862133 0.09614959
 0.05465402 0.08105544]
line 491 imp_sha [0.05227031 0.04064108 0.04946154 0.04476378 0.0535339  0.03184022
 0.04626315 0.04352553]
get the threshold of shadow importances we will use for rejection
line 313 get the threshold of shadow importances we will use for rejection imp_sha_max 0.053533896803855896
record importance history
line 318 sha_max_history [0.053533896803855896]
line 319 imp_history [[0.         0.         0.         0.         0.         0.
  0.         0.        ]
 [0.0546079  0.17188953 0.05637596 0.05434681 0.06862133 0.09614959
  0.05465402 0.08105544]]
register which feature is more imp than the max of shadows
assign hit
line 324 hit_reg [1 1 1 1 1 1 1 1]
expected by chance
get uncorrected p values based on hit_reg
line 509 to_accept_ps [0.5 0.5 0.5 0.5 0.5 0.5 0.5 0.5]
line 511 to_reject_ps [1. 1. 1. 1. 1. 1. 1. 1.]
pvals=np.asarray(pvals) [0.5 0.5 0.5 0.5 0.5 0.5 0.5 0.5]
pvals [0.5 0.5 0.5 0.5 0.5 0.5 0.5 0.5]
pvals_sortind=np.argsort(pvals) [0 1 2 3 4 5 6 7]
pvals_sorted=np.take(pvals, pvals_sortind) [0.5 0.5 0.5 0.5 0.5 0.5 0.5 0.5]
pvals_sortind [0 1 2 3 4 5 6 7]
nobs=len(pvals_sorted) 8
pvals_sorted [0.5 0.5 0.5 0.5 0.5 0.5 0.5 0.5]
ecdffactor=np.arange(1, nobs + 1) / float(nobs) [0.125 0.25  0.375 0.5   0.625 0.75  0.875 1.   ]
1.1.pvals_sorted [0.5 0.5 0.5 0.5 0.5 0.5 0.5 0.5]
ecdffactor [0.125 0.25  0.375 0.5   0.625 0.75  0.875 1.   ]
1.2.pvals_corrected_raw= pvals_sorted / ecdffactor [4.         2.         1.33333333 1.         0.8        0.66666667
 0.57142857 0.5       ]
2.1. pvals_corrected_raw[::-1] [0.5        0.57142857 0.66666667 0.8        1.         1.33333333
 2.         4.        ]
pvals_corrected = np.minimum.accumulate(pvals_corrected_raw[::-1])[::-1] [0.5 0.5 0.5 0.5 0.5 0.5 0.5 0.5]
reorder p-values and rejection mask to original order of pvals
pvals_corrected_ [0.5 0.5 0.5 0.5 0.5 0.5 0.5 0.5]
pvals_corrected_[pvals_sortind] = pvals_corrected [0.5 0.5 0.5 0.5 0.5 0.5 0.5 0.5]
line 579 reject_ [False False False False False False False False]
line 580 pvals_corrected_ [0.5 0.5 0.5 0.5 0.5 0.5 0.5 0.5]
pvals=np.asarray(pvals) [1. 1. 1. 1. 1. 1. 1. 1.]
pvals [1. 1. 1. 1. 1. 1. 1. 1.]
pvals_sortind=np.argsort(pvals) [0 1 2 3 4 5 6 7]
pvals_sorted=np.take(pvals, pvals_sortind) [1. 1. 1. 1. 1. 1. 1. 1.]
pvals_sortind [0 1 2 3 4 5 6 7]
nobs=len(pvals_sorted) 8
pvals_sorted [1. 1. 1. 1. 1. 1. 1. 1.]
ecdffactor=np.arange(1, nobs + 1) / float(nobs) [0.125 0.25  0.375 0.5   0.625 0.75  0.875 1.   ]
1.1.pvals_sorted [1. 1. 1. 1. 1. 1. 1. 1.]
ecdffactor [0.125 0.25  0.375 0.5   0.625 0.75  0.875 1.   ]
1.2.pvals_corrected_raw= pvals_sorted / ecdffactor [8.         4.         2.66666667 2.         1.6        1.33333333
 1.14285714 1.        ]
2.1. pvals_corrected_raw[::-1] [1.         1.14285714 1.33333333 1.6        2.         2.66666667
 4.         8.        ]
pvals_corrected = np.minimum.accumulate(pvals_corrected_raw[::-1])[::-1] [1. 1. 1. 1. 1. 1. 1. 1.]
reorder p-values and rejection mask to original order of pvals
pvals_corrected_ [1. 1. 1. 1. 1. 1. 1. 1.]
pvals_corrected_[pvals_sortind] = pvals_corrected [1. 1. 1. 1. 1. 1. 1. 1.]
line 579 reject_ [False False False False False False False False]
line 580 pvals_corrected_ [1. 1. 1. 1. 1. 1. 1. 1.]
line 540 dec_reg [0 0 0 0 0 0 0 0]
line 329 dec_reg [0 0 0 0 0 0 0 0]
print out confirmed features
line 606 n_confirmed 0
line 608 n_rejected 0
still in feature selection if flag == 0
line 619 content <map object at 0x000001C8F063A680>
line 628 output Iteration: 	1 / 10
Confirmed: 	0
Tentative: 	8
Rejected: 	0
find features that are tentative still
line 490 imp_real [0.04901228 0.17726992 0.0486168  0.05889989 0.0625367  0.08491986
 0.06048062 0.07289048]
line 491 imp_sha [0.04733207 0.06454787 0.06949015 0.02487678 0.05294594 0.04979989
 0.04117055 0.0352102 ]
get the threshold of shadow importances we will use for rejection
line 313 get the threshold of shadow importances we will use for rejection imp_sha_max 0.06949014961719513
record importance history
line 318 sha_max_history [0.053533896803855896, 0.06949014961719513]
line 319 imp_history [[0.         0.         0.         0.         0.         0.
  0.         0.        ]
 [0.0546079  0.17188953 0.05637596 0.05434681 0.06862133 0.09614959
  0.05465402 0.08105544]
 [0.04901228 0.17726992 0.0486168  0.05889989 0.0625367  0.08491986
  0.06048062 0.07289048]]
register which feature is more imp than the max of shadows
assign hit
line 324 hit_reg [1 2 1 1 1 2 1 2]
expected by chance
get uncorrected p values based on hit_reg
line 509 to_accept_ps [0.75 0.25 0.75 0.75 0.75 0.25 0.75 0.25]
line 511 to_reject_ps [0.75 1.   0.75 0.75 0.75 1.   0.75 1.  ]
pvals=np.asarray(pvals) [0.75 0.25 0.75 0.75 0.75 0.25 0.75 0.25]
pvals [0.75 0.25 0.75 0.75 0.75 0.25 0.75 0.25]
pvals_sortind=np.argsort(pvals) [1 5 7 0 2 3 4 6]
pvals_sorted=np.take(pvals, pvals_sortind) [0.25 0.25 0.25 0.75 0.75 0.75 0.75 0.75]
pvals_sortind [1 5 7 0 2 3 4 6]
nobs=len(pvals_sorted) 8
pvals_sorted [0.25 0.25 0.25 0.75 0.75 0.75 0.75 0.75]
ecdffactor=np.arange(1, nobs + 1) / float(nobs) [0.125 0.25  0.375 0.5   0.625 0.75  0.875 1.   ]
1.1.pvals_sorted [0.25 0.25 0.25 0.75 0.75 0.75 0.75 0.75]
ecdffactor [0.125 0.25  0.375 0.5   0.625 0.75  0.875 1.   ]
1.2.pvals_corrected_raw= pvals_sorted / ecdffactor [2.         1.         0.66666667 1.5        1.2        1.
 0.85714286 0.75      ]
2.1. pvals_corrected_raw[::-1] [0.75       0.85714286 1.         1.2        1.5        0.66666667
 1.         2.        ]
pvals_corrected = np.minimum.accumulate(pvals_corrected_raw[::-1])[::-1] [0.66666667 0.66666667 0.66666667 0.75       0.75       0.75
 0.75       0.75      ]
reorder p-values and rejection mask to original order of pvals
pvals_corrected_ [0.66666667 0.66666667 0.66666667 0.75       0.75       0.75
 0.75       0.75      ]
pvals_corrected_[pvals_sortind] = pvals_corrected [0.66666667 0.66666667 0.66666667 0.75       0.75       0.75
 0.75       0.75      ]
line 579 reject_ [False False False False False False False False]
line 580 pvals_corrected_ [0.75       0.66666667 0.75       0.75       0.75       0.66666667
 0.75       0.66666667]
pvals=np.asarray(pvals) [0.75 1.   0.75 0.75 0.75 1.   0.75 1.  ]
pvals [0.75 1.   0.75 0.75 0.75 1.   0.75 1.  ]
pvals_sortind=np.argsort(pvals) [0 2 3 4 6 1 5 7]
pvals_sorted=np.take(pvals, pvals_sortind) [0.75 0.75 0.75 0.75 0.75 1.   1.   1.  ]
pvals_sortind [0 2 3 4 6 1 5 7]
nobs=len(pvals_sorted) 8
pvals_sorted [0.75 0.75 0.75 0.75 0.75 1.   1.   1.  ]
ecdffactor=np.arange(1, nobs + 1) / float(nobs) [0.125 0.25  0.375 0.5   0.625 0.75  0.875 1.   ]
1.1.pvals_sorted [0.75 0.75 0.75 0.75 0.75 1.   1.   1.  ]
ecdffactor [0.125 0.25  0.375 0.5   0.625 0.75  0.875 1.   ]
1.2.pvals_corrected_raw= pvals_sorted / ecdffactor [6.         3.         2.         1.5        1.2        1.33333333
 1.14285714 1.        ]
2.1. pvals_corrected_raw[::-1] [1.         1.14285714 1.33333333 1.2        1.5        2.
 3.         6.        ]
pvals_corrected = np.minimum.accumulate(pvals_corrected_raw[::-1])[::-1] [1. 1. 1. 1. 1. 1. 1. 1.]
reorder p-values and rejection mask to original order of pvals
pvals_corrected_ [1. 1. 1. 1. 1. 1. 1. 1.]
pvals_corrected_[pvals_sortind] = pvals_corrected [1. 1. 1. 1. 1. 1. 1. 1.]
line 579 reject_ [False False False False False False False False]
line 580 pvals_corrected_ [1. 1. 1. 1. 1. 1. 1. 1.]
line 540 dec_reg [0 0 0 0 0 0 0 0]
line 329 dec_reg [0 0 0 0 0 0 0 0]
print out confirmed features
line 606 n_confirmed 0
line 608 n_rejected 0
still in feature selection if flag == 0
line 619 content <map object at 0x000001C8F0639C90>
line 628 output Iteration: 	2 / 10
Confirmed: 	0
Tentative: 	8
Rejected: 	0
find features that are tentative still
line 490 imp_real [0.04622941 0.19297302 0.04902548 0.04328109 0.0618919  0.09673594
 0.05949614 0.07380688]
line 491 imp_sha [0.03995442 0.03774958 0.04910835 0.05756073 0.04347233 0.05051742
 0.05114542 0.047052  ]
get the threshold of shadow importances we will use for rejection
line 313 get the threshold of shadow importances we will use for rejection imp_sha_max 0.05756073072552681
record importance history
line 318 sha_max_history [0.053533896803855896, 0.06949014961719513, 0.05756073072552681]
line 319 imp_history [[0.         0.         0.         0.         0.         0.
  0.         0.        ]
 [0.0546079  0.17188953 0.05637596 0.05434681 0.06862133 0.09614959
  0.05465402 0.08105544]
 [0.04901228 0.17726992 0.0486168  0.05889989 0.0625367  0.08491986
  0.06048062 0.07289048]
 [0.04622941 0.19297302 0.04902548 0.04328109 0.0618919  0.09673594
  0.05949614 0.07380688]]
register which feature is more imp than the max of shadows
assign hit
line 324 hit_reg [1 3 1 1 2 3 2 3]
expected by chance
get uncorrected p values based on hit_reg
line 509 to_accept_ps [0.875 0.125 0.875 0.875 0.5   0.125 0.5   0.125]
line 511 to_reject_ps [0.5   1.    0.5   0.5   0.875 1.    0.875 1.   ]
pvals=np.asarray(pvals) [0.875 0.125 0.875 0.875 0.5   0.125 0.5   0.125]
pvals [0.875 0.125 0.875 0.875 0.5   0.125 0.5   0.125]
pvals_sortind=np.argsort(pvals) [1 5 7 4 6 0 2 3]
pvals_sorted=np.take(pvals, pvals_sortind) [0.125 0.125 0.125 0.5   0.5   0.875 0.875 0.875]
pvals_sortind [1 5 7 4 6 0 2 3]
nobs=len(pvals_sorted) 8
pvals_sorted [0.125 0.125 0.125 0.5   0.5   0.875 0.875 0.875]
ecdffactor=np.arange(1, nobs + 1) / float(nobs) [0.125 0.25  0.375 0.5   0.625 0.75  0.875 1.   ]
1.1.pvals_sorted [0.125 0.125 0.125 0.5   0.5   0.875 0.875 0.875]
ecdffactor [0.125 0.25  0.375 0.5   0.625 0.75  0.875 1.   ]
1.2.pvals_corrected_raw= pvals_sorted / ecdffactor [1.         0.5        0.33333333 1.         0.8        1.16666667
 1.         0.875     ]
2.1. pvals_corrected_raw[::-1] [0.875      1.         1.16666667 0.8        1.         0.33333333
 0.5        1.        ]
pvals_corrected = np.minimum.accumulate(pvals_corrected_raw[::-1])[::-1] [0.33333333 0.33333333 0.33333333 0.8        0.8        0.875
 0.875      0.875     ]
reorder p-values and rejection mask to original order of pvals
pvals_corrected_ [0.33333333 0.33333333 0.33333333 0.8        0.8        0.875
 0.875      0.875     ]
pvals_corrected_[pvals_sortind] = pvals_corrected [0.33333333 0.33333333 0.33333333 0.8        0.8        0.875
 0.875      0.875     ]
line 579 reject_ [False False False False False False False False]
line 580 pvals_corrected_ [0.875      0.33333333 0.875      0.875      0.8        0.33333333
 0.8        0.33333333]
pvals=np.asarray(pvals) [0.5   1.    0.5   0.5   0.875 1.    0.875 1.   ]
pvals [0.5   1.    0.5   0.5   0.875 1.    0.875 1.   ]
pvals_sortind=np.argsort(pvals) [0 2 3 4 6 1 5 7]
pvals_sorted=np.take(pvals, pvals_sortind) [0.5   0.5   0.5   0.875 0.875 1.    1.    1.   ]
pvals_sortind [0 2 3 4 6 1 5 7]
nobs=len(pvals_sorted) 8
pvals_sorted [0.5   0.5   0.5   0.875 0.875 1.    1.    1.   ]
ecdffactor=np.arange(1, nobs + 1) / float(nobs) [0.125 0.25  0.375 0.5   0.625 0.75  0.875 1.   ]
1.1.pvals_sorted [0.5   0.5   0.5   0.875 0.875 1.    1.    1.   ]
ecdffactor [0.125 0.25  0.375 0.5   0.625 0.75  0.875 1.   ]
1.2.pvals_corrected_raw= pvals_sorted / ecdffactor [4.         2.         1.33333333 1.75       1.4        1.33333333
 1.14285714 1.        ]
2.1. pvals_corrected_raw[::-1] [1.         1.14285714 1.33333333 1.4        1.75       1.33333333
 2.         4.        ]
pvals_corrected = np.minimum.accumulate(pvals_corrected_raw[::-1])[::-1] [1. 1. 1. 1. 1. 1. 1. 1.]
reorder p-values and rejection mask to original order of pvals
pvals_corrected_ [1. 1. 1. 1. 1. 1. 1. 1.]
pvals_corrected_[pvals_sortind] = pvals_corrected [1. 1. 1. 1. 1. 1. 1. 1.]
line 579 reject_ [False False False False False False False False]
line 580 pvals_corrected_ [1. 1. 1. 1. 1. 1. 1. 1.]
line 540 dec_reg [0 0 0 0 0 0 0 0]
line 329 dec_reg [0 0 0 0 0 0 0 0]
print out confirmed features
line 606 n_confirmed 0
line 608 n_rejected 0
still in feature selection if flag == 0
line 619 content <map object at 0x000001C8F063A680>
line 628 output Iteration: 	3 / 10
Confirmed: 	0
Tentative: 	8
Rejected: 	0
find features that are tentative still
line 490 imp_real [0.04065579 0.17237946 0.05555227 0.05163584 0.06500659 0.10197756
 0.05374785 0.08507942]
line 491 imp_sha [0.04127249 0.04724105 0.05407581 0.03896812 0.04713637 0.03905877
 0.04770655 0.05850602]
get the threshold of shadow importances we will use for rejection
line 313 get the threshold of shadow importances we will use for rejection imp_sha_max 0.05850602313876152
record importance history
line 318 sha_max_history [0.053533896803855896, 0.06949014961719513, 0.05756073072552681, 0.05850602313876152]
line 319 imp_history [[0.         0.         0.         0.         0.         0.
  0.         0.        ]
 [0.0546079  0.17188953 0.05637596 0.05434681 0.06862133 0.09614959
  0.05465402 0.08105544]
 [0.04901228 0.17726992 0.0486168  0.05889989 0.0625367  0.08491986
  0.06048062 0.07289048]
 [0.04622941 0.19297302 0.04902548 0.04328109 0.0618919  0.09673594
  0.05949614 0.07380688]
 [0.04065579 0.17237946 0.05555227 0.05163584 0.06500659 0.10197756
  0.05374785 0.08507942]]
register which feature is more imp than the max of shadows
assign hit
line 324 hit_reg [1 4 1 1 3 4 2 4]
expected by chance
get uncorrected p values based on hit_reg
line 509 to_accept_ps [0.9375 0.0625 0.9375 0.9375 0.3125 0.0625 0.6875 0.0625]
line 511 to_reject_ps [0.3125 1.     0.3125 0.3125 0.9375 1.     0.6875 1.    ]
pvals=np.asarray(pvals) [0.9375 0.0625 0.9375 0.9375 0.3125 0.0625 0.6875 0.0625]
pvals [0.9375 0.0625 0.9375 0.9375 0.3125 0.0625 0.6875 0.0625]
pvals_sortind=np.argsort(pvals) [1 5 7 4 6 0 2 3]
pvals_sorted=np.take(pvals, pvals_sortind) [0.0625 0.0625 0.0625 0.3125 0.6875 0.9375 0.9375 0.9375]
pvals_sortind [1 5 7 4 6 0 2 3]
nobs=len(pvals_sorted) 8
pvals_sorted [0.0625 0.0625 0.0625 0.3125 0.6875 0.9375 0.9375 0.9375]
ecdffactor=np.arange(1, nobs + 1) / float(nobs) [0.125 0.25  0.375 0.5   0.625 0.75  0.875 1.   ]
1.1.pvals_sorted [0.0625 0.0625 0.0625 0.3125 0.6875 0.9375 0.9375 0.9375]
ecdffactor [0.125 0.25  0.375 0.5   0.625 0.75  0.875 1.   ]
1.2.pvals_corrected_raw= pvals_sorted / ecdffactor [0.5        0.25       0.16666667 0.625      1.1        1.25
 1.07142857 0.9375    ]
2.1. pvals_corrected_raw[::-1] [0.9375     1.07142857 1.25       1.1        0.625      0.16666667
 0.25       0.5       ]
pvals_corrected = np.minimum.accumulate(pvals_corrected_raw[::-1])[::-1] [0.16666667 0.16666667 0.16666667 0.625      0.9375     0.9375
 0.9375     0.9375    ]
reorder p-values and rejection mask to original order of pvals
pvals_corrected_ [0.16666667 0.16666667 0.16666667 0.625      0.9375     0.9375
 0.9375     0.9375    ]
pvals_corrected_[pvals_sortind] = pvals_corrected [0.16666667 0.16666667 0.16666667 0.625      0.9375     0.9375
 0.9375     0.9375    ]
line 579 reject_ [False False False False False False False False]
line 580 pvals_corrected_ [0.9375     0.16666667 0.9375     0.9375     0.625      0.16666667
 0.9375     0.16666667]
pvals=np.asarray(pvals) [0.3125 1.     0.3125 0.3125 0.9375 1.     0.6875 1.    ]
pvals [0.3125 1.     0.3125 0.3125 0.9375 1.     0.6875 1.    ]
pvals_sortind=np.argsort(pvals) [0 2 3 6 4 1 5 7]
pvals_sorted=np.take(pvals, pvals_sortind) [0.3125 0.3125 0.3125 0.6875 0.9375 1.     1.     1.    ]
pvals_sortind [0 2 3 6 4 1 5 7]
nobs=len(pvals_sorted) 8
pvals_sorted [0.3125 0.3125 0.3125 0.6875 0.9375 1.     1.     1.    ]
ecdffactor=np.arange(1, nobs + 1) / float(nobs) [0.125 0.25  0.375 0.5   0.625 0.75  0.875 1.   ]
1.1.pvals_sorted [0.3125 0.3125 0.3125 0.6875 0.9375 1.     1.     1.    ]
ecdffactor [0.125 0.25  0.375 0.5   0.625 0.75  0.875 1.   ]
1.2.pvals_corrected_raw= pvals_sorted / ecdffactor [2.5        1.25       0.83333333 1.375      1.5        1.33333333
 1.14285714 1.        ]
2.1. pvals_corrected_raw[::-1] [1.         1.14285714 1.33333333 1.5        1.375      0.83333333
 1.25       2.5       ]
pvals_corrected = np.minimum.accumulate(pvals_corrected_raw[::-1])[::-1] [0.83333333 0.83333333 0.83333333 1.         1.         1.
 1.         1.        ]
reorder p-values and rejection mask to original order of pvals
pvals_corrected_ [0.83333333 0.83333333 0.83333333 1.         1.         1.
 1.         1.        ]
pvals_corrected_[pvals_sortind] = pvals_corrected [0.83333333 0.83333333 0.83333333 1.         1.         1.
 1.         1.        ]
line 579 reject_ [False False False False False False False False]
line 580 pvals_corrected_ [0.83333333 1.         0.83333333 0.83333333 1.         1.
 1.         1.        ]
line 540 dec_reg [0 0 0 0 0 0 0 0]
line 329 dec_reg [0 0 0 0 0 0 0 0]
print out confirmed features
line 606 n_confirmed 0
line 608 n_rejected 0
still in feature selection if flag == 0
line 619 content <map object at 0x000001C8F0639C90>
line 628 output Iteration: 	4 / 10
Confirmed: 	0
Tentative: 	8
Rejected: 	0
find features that are tentative still
line 490 imp_real [0.05623871 0.183294   0.04989254 0.05959764 0.06840153 0.09070699
 0.05312495 0.08121023]
line 491 imp_sha [0.04299185 0.0355642  0.05800021 0.05183618 0.03399198 0.05205191
 0.03536712 0.04772991]
get the threshold of shadow importances we will use for rejection
line 313 get the threshold of shadow importances we will use for rejection imp_sha_max 0.05800020694732666
record importance history
line 318 sha_max_history [0.053533896803855896, 0.06949014961719513, 0.05756073072552681, 0.05850602313876152, 0.05800020694732666]
line 319 imp_history [[0.         0.         0.         0.         0.         0.
  0.         0.        ]
 [0.0546079  0.17188953 0.05637596 0.05434681 0.06862133 0.09614959
  0.05465402 0.08105544]
 [0.04901228 0.17726992 0.0486168  0.05889989 0.0625367  0.08491986
  0.06048062 0.07289048]
 [0.04622941 0.19297302 0.04902548 0.04328109 0.0618919  0.09673594
  0.05949614 0.07380688]
 [0.04065579 0.17237946 0.05555227 0.05163584 0.06500659 0.10197756
  0.05374785 0.08507942]
 [0.05623871 0.183294   0.04989254 0.05959764 0.06840153 0.09070699
  0.05312495 0.08121023]]
register which feature is more imp than the max of shadows
assign hit
line 324 hit_reg [1 5 1 2 4 5 2 5]
expected by chance
get uncorrected p values based on hit_reg
line 509 to_accept_ps [0.96875 0.03125 0.96875 0.8125  0.1875  0.03125 0.8125  0.03125]
line 511 to_reject_ps [0.1875  1.      0.1875  0.5     0.96875 1.      0.5     1.     ]
pvals=np.asarray(pvals) [0.96875 0.03125 0.96875 0.8125  0.1875  0.03125 0.8125  0.03125]
pvals [0.96875 0.03125 0.96875 0.8125  0.1875  0.03125 0.8125  0.03125]
pvals_sortind=np.argsort(pvals) [1 5 7 4 3 6 0 2]
pvals_sorted=np.take(pvals, pvals_sortind) [0.03125 0.03125 0.03125 0.1875  0.8125  0.8125  0.96875 0.96875]
pvals_sortind [1 5 7 4 3 6 0 2]
nobs=len(pvals_sorted) 8
pvals_sorted [0.03125 0.03125 0.03125 0.1875  0.8125  0.8125  0.96875 0.96875]
ecdffactor=np.arange(1, nobs + 1) / float(nobs) [0.125 0.25  0.375 0.5   0.625 0.75  0.875 1.   ]
1.1.pvals_sorted [0.03125 0.03125 0.03125 0.1875  0.8125  0.8125  0.96875 0.96875]
ecdffactor [0.125 0.25  0.375 0.5   0.625 0.75  0.875 1.   ]
1.2.pvals_corrected_raw= pvals_sorted / ecdffactor [0.25       0.125      0.08333333 0.375      1.3        1.08333333
 1.10714286 0.96875   ]
2.1. pvals_corrected_raw[::-1] [0.96875    1.10714286 1.08333333 1.3        0.375      0.08333333
 0.125      0.25      ]
pvals_corrected = np.minimum.accumulate(pvals_corrected_raw[::-1])[::-1] [0.08333333 0.08333333 0.08333333 0.375      0.96875    0.96875
 0.96875    0.96875   ]
reorder p-values and rejection mask to original order of pvals
pvals_corrected_ [0.08333333 0.08333333 0.08333333 0.375      0.96875    0.96875
 0.96875    0.96875   ]
pvals_corrected_[pvals_sortind] = pvals_corrected [0.08333333 0.08333333 0.08333333 0.375      0.96875    0.96875
 0.96875    0.96875   ]
line 579 reject_ [False False False False False False False False]
line 580 pvals_corrected_ [0.96875    0.08333333 0.96875    0.96875    0.375      0.08333333
 0.96875    0.08333333]
pvals=np.asarray(pvals) [0.1875  1.      0.1875  0.5     0.96875 1.      0.5     1.     ]
pvals [0.1875  1.      0.1875  0.5     0.96875 1.      0.5     1.     ]
pvals_sortind=np.argsort(pvals) [0 2 3 6 4 1 5 7]
pvals_sorted=np.take(pvals, pvals_sortind) [0.1875  0.1875  0.5     0.5     0.96875 1.      1.      1.     ]
pvals_sortind [0 2 3 6 4 1 5 7]
nobs=len(pvals_sorted) 8
pvals_sorted [0.1875  0.1875  0.5     0.5     0.96875 1.      1.      1.     ]
ecdffactor=np.arange(1, nobs + 1) / float(nobs) [0.125 0.25  0.375 0.5   0.625 0.75  0.875 1.   ]
1.1.pvals_sorted [0.1875  0.1875  0.5     0.5     0.96875 1.      1.      1.     ]
ecdffactor [0.125 0.25  0.375 0.5   0.625 0.75  0.875 1.   ]
1.2.pvals_corrected_raw= pvals_sorted / ecdffactor [1.5        0.75       1.33333333 1.         1.55       1.33333333
 1.14285714 1.        ]
2.1. pvals_corrected_raw[::-1] [1.         1.14285714 1.33333333 1.55       1.         1.33333333
 0.75       1.5       ]
pvals_corrected = np.minimum.accumulate(pvals_corrected_raw[::-1])[::-1] [0.75 0.75 1.   1.   1.   1.   1.   1.  ]
reorder p-values and rejection mask to original order of pvals
pvals_corrected_ [0.75 0.75 1.   1.   1.   1.   1.   1.  ]
pvals_corrected_[pvals_sortind] = pvals_corrected [0.75 0.75 1.   1.   1.   1.   1.   1.  ]
line 579 reject_ [False False False False False False False False]
line 580 pvals_corrected_ [0.75 1.   0.75 1.   1.   1.   1.   1.  ]
line 540 dec_reg [0 0 0 0 0 0 0 0]
line 329 dec_reg [0 0 0 0 0 0 0 0]
print out confirmed features
line 606 n_confirmed 0
line 608 n_rejected 0
still in feature selection if flag == 0
line 619 content <map object at 0x000001C8F063A680>
line 628 output Iteration: 	5 / 10
Confirmed: 	0
Tentative: 	8
Rejected: 	0
find features that are tentative still
line 490 imp_real [0.03368325 0.16333762 0.0513216  0.05911791 0.06501892 0.09987381
 0.06723541 0.09039866]
line 491 imp_sha [0.05334247 0.04759695 0.0488847  0.04172098 0.04272952 0.04375874
 0.05012513 0.04185439]
get the threshold of shadow importances we will use for rejection
line 313 get the threshold of shadow importances we will use for rejection imp_sha_max 0.05334247276186943
record importance history
line 318 sha_max_history [0.053533896803855896, 0.06949014961719513, 0.05756073072552681, 0.05850602313876152, 0.05800020694732666, 0.05334247276186943]
line 319 imp_history [[0.         0.         0.         0.         0.         0.
  0.         0.        ]
 [0.0546079  0.17188953 0.05637596 0.05434681 0.06862133 0.09614959
  0.05465402 0.08105544]
 [0.04901228 0.17726992 0.0486168  0.05889989 0.0625367  0.08491986
  0.06048062 0.07289048]
 [0.04622941 0.19297302 0.04902548 0.04328109 0.0618919  0.09673594
  0.05949614 0.07380688]
 [0.04065579 0.17237946 0.05555227 0.05163584 0.06500659 0.10197756
  0.05374785 0.08507942]
 [0.05623871 0.183294   0.04989254 0.05959764 0.06840153 0.09070699
  0.05312495 0.08121023]
 [0.03368325 0.16333762 0.0513216  0.05911791 0.06501892 0.09987381
  0.06723541 0.09039866]]
register which feature is more imp than the max of shadows
assign hit
line 324 hit_reg [1 6 1 3 5 6 3 6]
expected by chance
get uncorrected p values based on hit_reg
line 509 to_accept_ps [0.984375 0.015625 0.984375 0.65625  0.109375 0.015625 0.65625  0.015625]
line 511 to_reject_ps [0.109375 1.       0.109375 0.65625  0.984375 1.       0.65625  1.      ]
pvals=np.asarray(pvals) [0.984375 0.015625 0.984375 0.65625  0.109375 0.015625 0.65625  0.015625]
pvals [0.984375 0.015625 0.984375 0.65625  0.109375 0.015625 0.65625  0.015625]
pvals_sortind=np.argsort(pvals) [1 5 7 4 3 6 0 2]
pvals_sorted=np.take(pvals, pvals_sortind) [0.015625 0.015625 0.015625 0.109375 0.65625  0.65625  0.984375 0.984375]
pvals_sortind [1 5 7 4 3 6 0 2]
nobs=len(pvals_sorted) 8
pvals_sorted [0.015625 0.015625 0.015625 0.109375 0.65625  0.65625  0.984375 0.984375]
ecdffactor=np.arange(1, nobs + 1) / float(nobs) [0.125 0.25  0.375 0.5   0.625 0.75  0.875 1.   ]
1.1.pvals_sorted [0.015625 0.015625 0.015625 0.109375 0.65625  0.65625  0.984375 0.984375]
ecdffactor [0.125 0.25  0.375 0.5   0.625 0.75  0.875 1.   ]
1.2.pvals_corrected_raw= pvals_sorted / ecdffactor [0.125      0.0625     0.04166667 0.21875    1.05       0.875
 1.125      0.984375  ]
2.1. pvals_corrected_raw[::-1] [0.984375   1.125      0.875      1.05       0.21875    0.04166667
 0.0625     0.125     ]
pvals_corrected = np.minimum.accumulate(pvals_corrected_raw[::-1])[::-1] [0.04166667 0.04166667 0.04166667 0.21875    0.875      0.875
 0.984375   0.984375  ]
reorder p-values and rejection mask to original order of pvals
pvals_corrected_ [0.04166667 0.04166667 0.04166667 0.21875    0.875      0.875
 0.984375   0.984375  ]
pvals_corrected_[pvals_sortind] = pvals_corrected [0.04166667 0.04166667 0.04166667 0.21875    0.875      0.875
 0.984375   0.984375  ]
line 579 reject_ [False  True False False False  True False  True]
line 580 pvals_corrected_ [0.984375   0.04166667 0.984375   0.875      0.21875    0.04166667
 0.875      0.04166667]
pvals=np.asarray(pvals) [0.109375 1.       0.109375 0.65625  0.984375 1.       0.65625  1.      ]
pvals [0.109375 1.       0.109375 0.65625  0.984375 1.       0.65625  1.      ]
pvals_sortind=np.argsort(pvals) [0 2 3 6 4 1 5 7]
pvals_sorted=np.take(pvals, pvals_sortind) [0.109375 0.109375 0.65625  0.65625  0.984375 1.       1.       1.      ]
pvals_sortind [0 2 3 6 4 1 5 7]
nobs=len(pvals_sorted) 8
pvals_sorted [0.109375 0.109375 0.65625  0.65625  0.984375 1.       1.       1.      ]
ecdffactor=np.arange(1, nobs + 1) / float(nobs) [0.125 0.25  0.375 0.5   0.625 0.75  0.875 1.   ]
1.1.pvals_sorted [0.109375 0.109375 0.65625  0.65625  0.984375 1.       1.       1.      ]
ecdffactor [0.125 0.25  0.375 0.5   0.625 0.75  0.875 1.   ]
1.2.pvals_corrected_raw= pvals_sorted / ecdffactor [0.875      0.4375     1.75       1.3125     1.575      1.33333333
 1.14285714 1.        ]
2.1. pvals_corrected_raw[::-1] [1.         1.14285714 1.33333333 1.575      1.3125     1.75
 0.4375     0.875     ]
pvals_corrected = np.minimum.accumulate(pvals_corrected_raw[::-1])[::-1] [0.4375 0.4375 1.     1.     1.     1.     1.     1.    ]
reorder p-values and rejection mask to original order of pvals
pvals_corrected_ [0.4375 0.4375 1.     1.     1.     1.     1.     1.    ]
pvals_corrected_[pvals_sortind] = pvals_corrected [0.4375 0.4375 1.     1.     1.     1.     1.     1.    ]
line 579 reject_ [False False False False False False False False]
line 580 pvals_corrected_ [0.4375 1.     0.4375 1.     1.     1.     1.     1.    ]
line 540 dec_reg [0 0 0 0 0 0 0 0]
line 329 dec_reg [0 0 0 0 0 0 0 0]
print out confirmed features
line 606 n_confirmed 0
line 608 n_rejected 0
still in feature selection if flag == 0
line 619 content <map object at 0x000001C8F0639C90>
line 628 output Iteration: 	6 / 10
Confirmed: 	0
Tentative: 	8
Rejected: 	0
find features that are tentative still
line 490 imp_real [0.04368813 0.1852732  0.04616376 0.04538899 0.06076296 0.09725042
 0.05611202 0.08825694]
line 491 imp_sha [0.05966968 0.05056313 0.0448641  0.03648709 0.04394953 0.03818654
 0.05741278 0.04597079]
get the threshold of shadow importances we will use for rejection
line 313 get the threshold of shadow importances we will use for rejection imp_sha_max 0.05966968089342117
record importance history
line 318 sha_max_history [0.053533896803855896, 0.06949014961719513, 0.05756073072552681, 0.05850602313876152, 0.05800020694732666, 0.05334247276186943, 0.05966968089342117]
line 319 imp_history [[0.         0.         0.         0.         0.         0.
  0.         0.        ]
 [0.0546079  0.17188953 0.05637596 0.05434681 0.06862133 0.09614959
  0.05465402 0.08105544]
 [0.04901228 0.17726992 0.0486168  0.05889989 0.0625367  0.08491986
  0.06048062 0.07289048]
 [0.04622941 0.19297302 0.04902548 0.04328109 0.0618919  0.09673594
  0.05949614 0.07380688]
 [0.04065579 0.17237946 0.05555227 0.05163584 0.06500659 0.10197756
  0.05374785 0.08507942]
 [0.05623871 0.183294   0.04989254 0.05959764 0.06840153 0.09070699
  0.05312495 0.08121023]
 [0.03368325 0.16333762 0.0513216  0.05911791 0.06501892 0.09987381
  0.06723541 0.09039866]
 [0.04368813 0.1852732  0.04616376 0.04538899 0.06076296 0.09725042
  0.05611202 0.08825694]]
register which feature is more imp than the max of shadows
assign hit
line 324 hit_reg [1 7 1 3 6 7 3 7]
expected by chance
get uncorrected p values based on hit_reg
line 509 to_accept_ps [0.9921875 0.0078125 0.9921875 0.7734375 0.0625    0.0078125 0.7734375
 0.0078125]
line 511 to_reject_ps [0.0625    1.        0.0625    0.5       0.9921875 1.        0.5
 1.       ]
pvals=np.asarray(pvals) [0.9921875 0.0078125 0.9921875 0.7734375 0.0625    0.0078125 0.7734375
 0.0078125]
pvals [0.9921875 0.0078125 0.9921875 0.7734375 0.0625    0.0078125 0.7734375
 0.0078125]
pvals_sortind=np.argsort(pvals) [1 5 7 4 3 6 0 2]
pvals_sorted=np.take(pvals, pvals_sortind) [0.0078125 0.0078125 0.0078125 0.0625    0.7734375 0.7734375 0.9921875
 0.9921875]
pvals_sortind [1 5 7 4 3 6 0 2]
nobs=len(pvals_sorted) 8
pvals_sorted [0.0078125 0.0078125 0.0078125 0.0625    0.7734375 0.7734375 0.9921875
 0.9921875]
ecdffactor=np.arange(1, nobs + 1) / float(nobs) [0.125 0.25  0.375 0.5   0.625 0.75  0.875 1.   ]
1.1.pvals_sorted [0.0078125 0.0078125 0.0078125 0.0625    0.7734375 0.7734375 0.9921875
 0.9921875]
ecdffactor [0.125 0.25  0.375 0.5   0.625 0.75  0.875 1.   ]
1.2.pvals_corrected_raw= pvals_sorted / ecdffactor [0.0625     0.03125    0.02083333 0.125      1.2375     1.03125
 1.13392857 0.9921875 ]
2.1. pvals_corrected_raw[::-1] [0.9921875  1.13392857 1.03125    1.2375     0.125      0.02083333
 0.03125    0.0625    ]
pvals_corrected = np.minimum.accumulate(pvals_corrected_raw[::-1])[::-1] [0.02083333 0.02083333 0.02083333 0.125      0.9921875  0.9921875
 0.9921875  0.9921875 ]
reorder p-values and rejection mask to original order of pvals
pvals_corrected_ [0.02083333 0.02083333 0.02083333 0.125      0.9921875  0.9921875
 0.9921875  0.9921875 ]
pvals_corrected_[pvals_sortind] = pvals_corrected [0.02083333 0.02083333 0.02083333 0.125      0.9921875  0.9921875
 0.9921875  0.9921875 ]
line 579 reject_ [False  True False False False  True False  True]
line 580 pvals_corrected_ [0.9921875  0.02083333 0.9921875  0.9921875  0.125      0.02083333
 0.9921875  0.02083333]
pvals=np.asarray(pvals) [0.0625    1.        0.0625    0.5       0.9921875 1.        0.5
 1.       ]
pvals [0.0625    1.        0.0625    0.5       0.9921875 1.        0.5
 1.       ]
pvals_sortind=np.argsort(pvals) [0 2 3 6 4 1 5 7]
pvals_sorted=np.take(pvals, pvals_sortind) [0.0625    0.0625    0.5       0.5       0.9921875 1.        1.
 1.       ]
pvals_sortind [0 2 3 6 4 1 5 7]
nobs=len(pvals_sorted) 8
pvals_sorted [0.0625    0.0625    0.5       0.5       0.9921875 1.        1.
 1.       ]
ecdffactor=np.arange(1, nobs + 1) / float(nobs) [0.125 0.25  0.375 0.5   0.625 0.75  0.875 1.   ]
1.1.pvals_sorted [0.0625    0.0625    0.5       0.5       0.9921875 1.        1.
 1.       ]
ecdffactor [0.125 0.25  0.375 0.5   0.625 0.75  0.875 1.   ]
1.2.pvals_corrected_raw= pvals_sorted / ecdffactor [0.5        0.25       1.33333333 1.         1.5875     1.33333333
 1.14285714 1.        ]
2.1. pvals_corrected_raw[::-1] [1.         1.14285714 1.33333333 1.5875     1.         1.33333333
 0.25       0.5       ]
pvals_corrected = np.minimum.accumulate(pvals_corrected_raw[::-1])[::-1] [0.25 0.25 1.   1.   1.   1.   1.   1.  ]
reorder p-values and rejection mask to original order of pvals
pvals_corrected_ [0.25 0.25 1.   1.   1.   1.   1.   1.  ]
pvals_corrected_[pvals_sortind] = pvals_corrected [0.25 0.25 1.   1.   1.   1.   1.   1.  ]
line 579 reject_ [False False False False False False False False]
line 580 pvals_corrected_ [0.25 1.   0.25 1.   1.   1.   1.   1.  ]
line 540 dec_reg [0 0 0 0 0 0 0 0]
line 329 dec_reg [0 0 0 0 0 0 0 0]
print out confirmed features
line 606 n_confirmed 0
line 608 n_rejected 0
still in feature selection if flag == 0
line 619 content <map object at 0x000001C8F063A680>
line 628 output Iteration: 	7 / 10
Confirmed: 	0
Tentative: 	8
Rejected: 	0
find features that are tentative still
line 490 imp_real [0.05558535 0.17008917 0.05328258 0.06835511 0.06545293 0.09368334
 0.05802432 0.0833665 ]
line 491 imp_sha [0.04456827 0.03339414 0.04133222 0.04016236 0.04262395 0.04277102
 0.04481762 0.0624911 ]
get the threshold of shadow importances we will use for rejection
line 313 get the threshold of shadow importances we will use for rejection imp_sha_max 0.06249110400676727
record importance history
line 318 sha_max_history [0.053533896803855896, 0.06949014961719513, 0.05756073072552681, 0.05850602313876152, 0.05800020694732666, 0.05334247276186943, 0.05966968089342117, 0.06249110400676727]
line 319 imp_history [[0.         0.         0.         0.         0.         0.
  0.         0.        ]
 [0.0546079  0.17188953 0.05637596 0.05434681 0.06862133 0.09614959
  0.05465402 0.08105544]
 [0.04901228 0.17726992 0.0486168  0.05889989 0.0625367  0.08491986
  0.06048062 0.07289048]
 [0.04622941 0.19297302 0.04902548 0.04328109 0.0618919  0.09673594
  0.05949614 0.07380688]
 [0.04065579 0.17237946 0.05555227 0.05163584 0.06500659 0.10197756
  0.05374785 0.08507942]
 [0.05623871 0.183294   0.04989254 0.05959764 0.06840153 0.09070699
  0.05312495 0.08121023]
 [0.03368325 0.16333762 0.0513216  0.05911791 0.06501892 0.09987381
  0.06723541 0.09039866]
 [0.04368813 0.1852732  0.04616376 0.04538899 0.06076296 0.09725042
  0.05611202 0.08825694]
 [0.05558535 0.17008917 0.05328258 0.06835511 0.06545293 0.09368334
  0.05802432 0.0833665 ]]
register which feature is more imp than the max of shadows
assign hit
line 324 hit_reg [1 8 1 4 7 8 3 8]
expected by chance
get uncorrected p values based on hit_reg
line 509 to_accept_ps [0.99609375 0.00390625 0.99609375 0.63671875 0.03515625 0.00390625
 0.85546875 0.00390625]
line 511 to_reject_ps [0.03515625 1.         0.03515625 0.63671875 0.99609375 1.
 0.36328125 1.        ]
pvals=np.asarray(pvals) [0.99609375 0.00390625 0.99609375 0.63671875 0.03515625 0.00390625
 0.85546875 0.00390625]
pvals [0.99609375 0.00390625 0.99609375 0.63671875 0.03515625 0.00390625
 0.85546875 0.00390625]
pvals_sortind=np.argsort(pvals) [1 5 7 4 3 6 0 2]
pvals_sorted=np.take(pvals, pvals_sortind) [0.00390625 0.00390625 0.00390625 0.03515625 0.63671875 0.85546875
 0.99609375 0.99609375]
pvals_sortind [1 5 7 4 3 6 0 2]
nobs=len(pvals_sorted) 8
pvals_sorted [0.00390625 0.00390625 0.00390625 0.03515625 0.63671875 0.85546875
 0.99609375 0.99609375]
ecdffactor=np.arange(1, nobs + 1) / float(nobs) [0.125 0.25  0.375 0.5   0.625 0.75  0.875 1.   ]
1.1.pvals_sorted [0.00390625 0.00390625 0.00390625 0.03515625 0.63671875 0.85546875
 0.99609375 0.99609375]
ecdffactor [0.125 0.25  0.375 0.5   0.625 0.75  0.875 1.   ]
1.2.pvals_corrected_raw= pvals_sorted / ecdffactor [0.03125    0.015625   0.01041667 0.0703125  1.01875    1.140625
 1.13839286 0.99609375]
2.1. pvals_corrected_raw[::-1] [0.99609375 1.13839286 1.140625   1.01875    0.0703125  0.01041667
 0.015625   0.03125   ]
pvals_corrected = np.minimum.accumulate(pvals_corrected_raw[::-1])[::-1] [0.01041667 0.01041667 0.01041667 0.0703125  0.99609375 0.99609375
 0.99609375 0.99609375]
reorder p-values and rejection mask to original order of pvals
pvals_corrected_ [0.01041667 0.01041667 0.01041667 0.0703125  0.99609375 0.99609375
 0.99609375 0.99609375]
pvals_corrected_[pvals_sortind] = pvals_corrected [0.01041667 0.01041667 0.01041667 0.0703125  0.99609375 0.99609375
 0.99609375 0.99609375]
line 579 reject_ [False  True False False False  True False  True]
line 580 pvals_corrected_ [0.99609375 0.01041667 0.99609375 0.99609375 0.0703125  0.01041667
 0.99609375 0.01041667]
pvals=np.asarray(pvals) [0.03515625 1.         0.03515625 0.63671875 0.99609375 1.
 0.36328125 1.        ]
pvals [0.03515625 1.         0.03515625 0.63671875 0.99609375 1.
 0.36328125 1.        ]
pvals_sortind=np.argsort(pvals) [0 2 6 3 4 1 5 7]
pvals_sorted=np.take(pvals, pvals_sortind) [0.03515625 0.03515625 0.36328125 0.63671875 0.99609375 1.
 1.         1.        ]
pvals_sortind [0 2 6 3 4 1 5 7]
nobs=len(pvals_sorted) 8
pvals_sorted [0.03515625 0.03515625 0.36328125 0.63671875 0.99609375 1.
 1.         1.        ]
ecdffactor=np.arange(1, nobs + 1) / float(nobs) [0.125 0.25  0.375 0.5   0.625 0.75  0.875 1.   ]
1.1.pvals_sorted [0.03515625 0.03515625 0.36328125 0.63671875 0.99609375 1.
 1.         1.        ]
ecdffactor [0.125 0.25  0.375 0.5   0.625 0.75  0.875 1.   ]
1.2.pvals_corrected_raw= pvals_sorted / ecdffactor [0.28125    0.140625   0.96875    1.2734375  1.59375    1.33333333
 1.14285714 1.        ]
2.1. pvals_corrected_raw[::-1] [1.         1.14285714 1.33333333 1.59375    1.2734375  0.96875
 0.140625   0.28125   ]
pvals_corrected = np.minimum.accumulate(pvals_corrected_raw[::-1])[::-1] [0.140625 0.140625 0.96875  1.       1.       1.       1.       1.      ]
reorder p-values and rejection mask to original order of pvals
pvals_corrected_ [0.140625 0.140625 0.96875  1.       1.       1.       1.       1.      ]
pvals_corrected_[pvals_sortind] = pvals_corrected [0.140625 0.140625 0.96875  1.       1.       1.       1.       1.      ]
line 579 reject_ [False False False False False False False False]
line 580 pvals_corrected_ [0.140625 1.       0.140625 1.       1.       1.       0.96875  1.      ]
line 540 dec_reg [0 1 0 0 0 1 0 1]
line 329 dec_reg [0 1 0 0 0 1 0 1]
print out confirmed features
line 606 n_confirmed 3
line 608 n_rejected 0
still in feature selection if flag == 0
line 619 content <map object at 0x000001C8F0639C90>
line 628 output Iteration: 	8 / 10
Confirmed: 	3
Tentative: 	5
Rejected: 	0
find features that are tentative still
line 490 imp_real [0.04615639 0.16168833 0.04625002 0.04746206 0.04496055 0.11067488
 0.05232284 0.08804624]
line 491 imp_sha [0.05252853 0.04813213 0.05572088 0.05879372 0.06158303 0.04521221
 0.04474715 0.03572096]
get the threshold of shadow importances we will use for rejection
line 313 get the threshold of shadow importances we will use for rejection imp_sha_max 0.0615830272436142
record importance history
line 318 sha_max_history [0.053533896803855896, 0.06949014961719513, 0.05756073072552681, 0.05850602313876152, 0.05800020694732666, 0.05334247276186943, 0.05966968089342117, 0.06249110400676727, 0.0615830272436142]
line 319 imp_history [[0.         0.         0.         0.         0.         0.
  0.         0.        ]
 [0.0546079  0.17188953 0.05637596 0.05434681 0.06862133 0.09614959
  0.05465402 0.08105544]
 [0.04901228 0.17726992 0.0486168  0.05889989 0.0625367  0.08491986
  0.06048062 0.07289048]
 [0.04622941 0.19297302 0.04902548 0.04328109 0.0618919  0.09673594
  0.05949614 0.07380688]
 [0.04065579 0.17237946 0.05555227 0.05163584 0.06500659 0.10197756
  0.05374785 0.08507942]
 [0.05623871 0.183294   0.04989254 0.05959764 0.06840153 0.09070699
  0.05312495 0.08121023]
 [0.03368325 0.16333762 0.0513216  0.05911791 0.06501892 0.09987381
  0.06723541 0.09039866]
 [0.04368813 0.1852732  0.04616376 0.04538899 0.06076296 0.09725042
  0.05611202 0.08825694]
 [0.05558535 0.17008917 0.05328258 0.06835511 0.06545293 0.09368334
  0.05802432 0.0833665 ]
 [0.04615639 0.16168833 0.04625002 0.04746206 0.04496055 0.11067488
  0.05232284 0.08804624]]
register which feature is more imp than the max of shadows
assign hit
line 324 hit_reg [1 9 1 4 7 9 3 9]
expected by chance
get uncorrected p values based on hit_reg
line 509 to_accept_ps [0.99804688 0.00195312 0.99804688 0.74609375 0.08984375 0.00195312
 0.91015625 0.00195312]
line 511 to_reject_ps [0.01953125 1.         0.01953125 0.5        0.98046875 1.
 0.25390625 1.        ]
pvals=np.asarray(pvals) [0.99804688 0.00195312 0.99804688 0.74609375 0.08984375 0.00195312
 0.91015625 0.00195312]
pvals [0.99804688 0.00195312 0.99804688 0.74609375 0.08984375 0.00195312
 0.91015625 0.00195312]
pvals_sortind=np.argsort(pvals) [1 5 7 4 3 6 0 2]
pvals_sorted=np.take(pvals, pvals_sortind) [0.00195312 0.00195312 0.00195312 0.08984375 0.74609375 0.91015625
 0.99804688 0.99804688]
pvals_sortind [1 5 7 4 3 6 0 2]
nobs=len(pvals_sorted) 8
pvals_sorted [0.00195312 0.00195312 0.00195312 0.08984375 0.74609375 0.91015625
 0.99804688 0.99804688]
ecdffactor=np.arange(1, nobs + 1) / float(nobs) [0.125 0.25  0.375 0.5   0.625 0.75  0.875 1.   ]
1.1.pvals_sorted [0.00195312 0.00195312 0.00195312 0.08984375 0.74609375 0.91015625
 0.99804688 0.99804688]
ecdffactor [0.125 0.25  0.375 0.5   0.625 0.75  0.875 1.   ]
1.2.pvals_corrected_raw= pvals_sorted / ecdffactor [0.015625   0.0078125  0.00520833 0.1796875  1.19375    1.21354167
 1.140625   0.99804688]
2.1. pvals_corrected_raw[::-1] [0.99804688 1.140625   1.21354167 1.19375    0.1796875  0.00520833
 0.0078125  0.015625  ]
pvals_corrected = np.minimum.accumulate(pvals_corrected_raw[::-1])[::-1] [0.00520833 0.00520833 0.00520833 0.1796875  0.99804688 0.99804688
 0.99804688 0.99804688]
reorder p-values and rejection mask to original order of pvals
pvals_corrected_ [0.00520833 0.00520833 0.00520833 0.1796875  0.99804688 0.99804688
 0.99804688 0.99804688]
pvals_corrected_[pvals_sortind] = pvals_corrected [0.00520833 0.00520833 0.00520833 0.1796875  0.99804688 0.99804688
 0.99804688 0.99804688]
line 579 reject_ [False  True False False False  True False  True]
line 580 pvals_corrected_ [0.99804688 0.00520833 0.99804688 0.99804688 0.1796875  0.00520833
 0.99804688 0.00520833]
pvals=np.asarray(pvals) [0.01953125 1.         0.01953125 0.5        0.98046875 1.
 0.25390625 1.        ]
pvals [0.01953125 1.         0.01953125 0.5        0.98046875 1.
 0.25390625 1.        ]
pvals_sortind=np.argsort(pvals) [0 2 6 3 4 1 5 7]
pvals_sorted=np.take(pvals, pvals_sortind) [0.01953125 0.01953125 0.25390625 0.5        0.98046875 1.
 1.         1.        ]
pvals_sortind [0 2 6 3 4 1 5 7]
nobs=len(pvals_sorted) 8
pvals_sorted [0.01953125 0.01953125 0.25390625 0.5        0.98046875 1.
 1.         1.        ]
ecdffactor=np.arange(1, nobs + 1) / float(nobs) [0.125 0.25  0.375 0.5   0.625 0.75  0.875 1.   ]
1.1.pvals_sorted [0.01953125 0.01953125 0.25390625 0.5        0.98046875 1.
 1.         1.        ]
ecdffactor [0.125 0.25  0.375 0.5   0.625 0.75  0.875 1.   ]
1.2.pvals_corrected_raw= pvals_sorted / ecdffactor [0.15625    0.078125   0.67708333 1.         1.56875    1.33333333
 1.14285714 1.        ]
2.1. pvals_corrected_raw[::-1] [1.         1.14285714 1.33333333 1.56875    1.         0.67708333
 0.078125   0.15625   ]
pvals_corrected = np.minimum.accumulate(pvals_corrected_raw[::-1])[::-1] [0.078125   0.078125   0.67708333 1.         1.         1.
 1.         1.        ]
reorder p-values and rejection mask to original order of pvals
pvals_corrected_ [0.078125   0.078125   0.67708333 1.         1.         1.
 1.         1.        ]
pvals_corrected_[pvals_sortind] = pvals_corrected [0.078125   0.078125   0.67708333 1.         1.         1.
 1.         1.        ]
line 579 reject_ [False False False False False False False False]
line 580 pvals_corrected_ [0.078125   1.         0.078125   1.         1.         1.
 0.67708333 1.        ]
line 540 dec_reg [0 1 0 0 0 1 0 1]
line 329 dec_reg [0 1 0 0 0 1 0 1]
print out confirmed features
line 606 n_confirmed 3
line 608 n_rejected 0
still in feature selection if flag == 0
line 619 content <map object at 0x000001C8F063A680>
line 628 output Iteration: 	9 / 10
Confirmed: 	3
Tentative: 	5
Rejected: 	0
line 351 imp_history [[0.         0.         0.         0.         0.         0.
  0.         0.        ]
 [0.0546079  0.17188953 0.05637596 0.05434681 0.06862133 0.09614959
  0.05465402 0.08105544]
 [0.04901228 0.17726992 0.0486168  0.05889989 0.0625367  0.08491986
  0.06048062 0.07289048]
 [0.04622941 0.19297302 0.04902548 0.04328109 0.0618919  0.09673594
  0.05949614 0.07380688]
 [0.04065579 0.17237946 0.05555227 0.05163584 0.06500659 0.10197756
  0.05374785 0.08507942]
 [0.05623871 0.183294   0.04989254 0.05959764 0.06840153 0.09070699
  0.05312495 0.08121023]
 [0.03368325 0.16333762 0.0513216  0.05911791 0.06501892 0.09987381
  0.06723541 0.09039866]
 [0.04368813 0.1852732  0.04616376 0.04538899 0.06076296 0.09725042
  0.05611202 0.08825694]
 [0.05558535 0.17008917 0.05328258 0.06835511 0.06545293 0.09368334
  0.05802432 0.0833665 ]
 [0.04615639 0.16168833 0.04625002 0.04746206 0.04496055 0.11067488
  0.05232284 0.08804624]]
line 352 hit_reg [1 9 1 4 7 9 3 9]
line 353 dec_reg [0 1 0 0 0 1 0 1]
we automatically apply R packages rough fix for tentative ones
line 366 confirmed [1 5 7]
line 367 tentative [4]
line 368 tentative_median [0.04622941 0.04989254 0.05434681 0.06500659 0.05611202]
line 369 tentative_confirmed [3]
line 370 sha_max_history [0.053533896803855896, 0.06949014961719513, 0.05756073072552681, 0.05850602313876152, 0.05800020694732666, 0.05334247276186943, 0.05966968089342117, 0.06249110400676727, 0.0615830272436142]
ranking, confirmed variables are rank 1 /n ranking, confirmed variables are rank 1
line 389 imp_history[1:, not_selected] [[0.0546079  0.05637596 0.05434681 0.05465402]
 [0.04901228 0.0486168  0.05889989 0.06048062]
 [0.04622941 0.04902548 0.04328109 0.05949614]
 [0.04065579 0.05555227 0.05163584 0.05374785]
 [0.05623871 0.04989254 0.05959764 0.05312495]
 [0.03368325 0.0513216  0.05911791 0.06723541]
 [0.04368813 0.04616376 0.04538899 0.05611202]
 [0.05558535 0.05328258 0.06835511 0.05802432]
 [0.04615639 0.04625002 0.04746206 0.05232284]]
line 390 large importance values should rank higher = lower ranks -> *(-1) imp_history_rejected [[-0.0546079  -0.05637596 -0.05434681 -0.05465402]
 [-0.04901228 -0.0486168  -0.05889989 -0.06048062]
 [-0.04622941 -0.04902548 -0.04328109 -0.05949614]
 [-0.04065579 -0.05555227 -0.05163584 -0.05374785]
 [-0.05623871 -0.04989254 -0.05959764 -0.05312495]
 [-0.03368325 -0.0513216  -0.05911791 -0.06723541]
 [-0.04368813 -0.04616376 -0.04538899 -0.05611202]
 [-0.05558535 -0.05328258 -0.06835511 -0.05802432]
 [-0.04615639 -0.04625002 -0.04746206 -0.05232284]]
update rank for not_selected features: imp_history_rejected [[-0.0546079  -0.05637596 -0.05434681 -0.05465402]
 [-0.04901228 -0.0486168  -0.05889989 -0.06048062]
 [-0.04622941 -0.04902548 -0.04328109 -0.05949614]
 [-0.04065579 -0.05555227 -0.05163584 -0.05374785]
 [-0.05623871 -0.04989254 -0.05959764 -0.05312495]
 [-0.03368325 -0.0513216  -0.05911791 -0.06723541]
 [-0.04368813 -0.04616376 -0.04538899 -0.05611202]
 [-0.05558535 -0.05328258 -0.06835511 -0.05802432]
 [-0.04615639 -0.04625002 -0.04746206 -0.05232284]]
update rank for not_selected features: iter_ranks [[3. 1. 4. 2.]
 [3. 4. 2. 1.]
 [3. 2. 4. 1.]
 [4. 1. 3. 2.]
 [2. 4. 1. 3.]
 [4. 3. 2. 1.]
 [4. 2. 3. 1.]
 [3. 4. 1. 2.]
 [4. 3. 2. 1.]]
update rank for not_selected features: rank_medians [3. 3. 2. 1.]
update rank for not_selected features: calculate ranks in each iteration, then median of ranks across feats: ranks [3.5 3.5 2.  1. ]
update rank for not_selected features: tentative feats ranks [5.5 5.5 4.  3. ]
line 606 n_confirmed 3
line 608 n_rejected 0
Boruta finished running and tentatives have been filtered
line 628 output 

BorutaPy finished running.

Iteration: 	10 / 10
Confirmed: 	3
Tentative: 	1
Rejected: 	4
feature_importance [5 1 5 4 2 1 3 1]
feature_support [False  True False False False  True False  True]
