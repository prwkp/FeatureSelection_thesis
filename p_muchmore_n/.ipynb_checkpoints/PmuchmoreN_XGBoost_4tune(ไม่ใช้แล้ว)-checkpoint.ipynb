{
 "cells": [
  {
   "cell_type": "code",
   "execution_count": 3,
   "id": "62b2504b",
   "metadata": {},
   "outputs": [],
   "source": [
    "import pandas as pd\n",
    "import numpy as np\n",
    "import math\n",
    "from sklearn.metrics import confusion_matrix\n",
    "from sklearn.model_selection import train_test_split\n",
    "from sklearn.model_selection import cross_val_score, KFold\n",
    "import xgboost as xgb\n",
    "from xgboost import XGBRegressor\n",
    "from xgboost import XGBClassifier\n",
    "\n",
    "from sklearn.metrics import mean_squared_error\n",
    "from sklearn.metrics import accuracy_score\n",
    "from sklearn.model_selection import StratifiedKFold\n",
    "from sklearn.model_selection import RandomizedSearchCV, GridSearchCV\n",
    "from datetime import datetime\n",
    "from sklearn.metrics import classification_report, confusion_matrix\n",
    "\n",
    "from sklearn.inspection import permutation_importance\n",
    "import shap\n",
    "\n",
    "import statistics\n",
    "\n",
    "# create the random forest model.\n",
    "from sklearn import model_selection\n",
    "from sklearn.ensemble import RandomForestClassifier\n",
    "\n",
    "\n",
    "from sklearn.preprocessing import StandardScaler\n",
    "\n",
    "# from sklearn.experimental import enable_halving_search_cv  # noqa\n",
    "# from sklearn.model_selection import HalvingGridSearchCV\n",
    "from boruta import BorutaPy\n",
    "import random\n",
    "from sklearn.feature_selection import mutual_info_classif as MIC\n",
    "from functools import reduce"
   ]
  },
  {
   "cell_type": "code",
   "execution_count": 2,
   "id": "3c979feb",
   "metadata": {},
   "outputs": [],
   "source": [
    "def timer(start_time=None):\n",
    "    if not start_time:\n",
    "        start_time = datetime.now()\n",
    "        return start_time\n",
    "    elif start_time:\n",
    "        thour, temp_sec = divmod((datetime.now() - start_time).total_seconds(), 3600)\n",
    "        tmin, tsec = divmod(temp_sec, 60)\n",
    "        print('\\n Time taken: %i hours %i minutes and %s seconds.' % (thour, tmin, round(tsec, 2)))"
   ]
  },
  {
   "cell_type": "code",
   "execution_count": 3,
   "id": "2ae7389c",
   "metadata": {},
   "outputs": [],
   "source": [
    "# for threshold\n",
    "def filter_arr(sample_arr, filter_index):\n",
    "    result_val = sample_arr[filter_index]\n",
    "    result_index = filter_index\n",
    "    compare_index = filter_index + 1\n",
    "    \n",
    "    if (len(sample_arr) -1 == filter_index):\n",
    "        compare_index = filter_index - 1\n",
    "    \n",
    "    if (sample_arr[filter_index] == sample_arr[compare_index]):\n",
    "        for index, val in enumerate(sample_arr):\n",
    "            if (val == result_val):\n",
    "                result_val = sample_arr[index - 1]\n",
    "                result_index = index - 1\n",
    "\n",
    "    return (result_val, result_index)\n",
    "\n"
   ]
  },
  {
   "cell_type": "code",
   "execution_count": 4,
   "id": "395f9063",
   "metadata": {},
   "outputs": [],
   "source": [
    "def categorise(row):  \n",
    "    if row['Overall Probability'] >= 0.8 :\n",
    "        return 1\n",
    "    else:\n",
    "        return 0"
   ]
  },
  {
   "cell_type": "code",
   "execution_count": 5,
   "id": "a92b74e2",
   "metadata": {},
   "outputs": [],
   "source": [
    "def crossvalidresults(model,X,y):\n",
    "    rfc_cv_score = cross_val_score(model, X, y, cv=10)\n",
    "    rfc_cv_f1 = cross_val_score(model, X, y, scoring=\"f1\", cv = 10).mean()\n",
    "    rfc_cv_f1sd = cross_val_score(model, X, y, scoring=\"f1\", cv = 10).std()\n",
    "    print(\"=== Mean F1 Score ===\")\n",
    "    print(\"Mean F1 Score - : \", rfc_cv_f1)\n",
    "    print(\"=== sd F1 Score ===\")\n",
    "    print(\"sd F1 Score - : \", rfc_cv_f1sd)\n",
    "    print('\\n')"
   ]
  },
  {
   "cell_type": "code",
   "execution_count": 6,
   "id": "486ea1ac",
   "metadata": {},
   "outputs": [],
   "source": [
    "pd.set_option('display.max_columns', None)"
   ]
  },
  {
   "cell_type": "code",
   "execution_count": 4,
   "id": "b96d2968",
   "metadata": {},
   "outputs": [
    {
     "data": {
      "text/html": [
       "<div>\n",
       "<style scoped>\n",
       "    .dataframe tbody tr th:only-of-type {\n",
       "        vertical-align: middle;\n",
       "    }\n",
       "\n",
       "    .dataframe tbody tr th {\n",
       "        vertical-align: top;\n",
       "    }\n",
       "\n",
       "    .dataframe thead th {\n",
       "        text-align: right;\n",
       "    }\n",
       "</style>\n",
       "<table border=\"1\" class=\"dataframe\">\n",
       "  <thead>\n",
       "    <tr style=\"text-align: right;\">\n",
       "      <th></th>\n",
       "      <th>H55933</th>\n",
       "      <th>R39465</th>\n",
       "      <th>R39465_</th>\n",
       "      <th>R85482</th>\n",
       "      <th>U14973</th>\n",
       "      <th>R02593</th>\n",
       "      <th>T51496</th>\n",
       "      <th>H80240</th>\n",
       "      <th>T65938</th>\n",
       "      <th>T55131</th>\n",
       "      <th>...</th>\n",
       "      <th>R70790</th>\n",
       "      <th>L11706</th>\n",
       "      <th>T90549</th>\n",
       "      <th>D17390</th>\n",
       "      <th>M33210</th>\n",
       "      <th>H18490</th>\n",
       "      <th>H40891</th>\n",
       "      <th>R77780</th>\n",
       "      <th>T49647</th>\n",
       "      <th>class</th>\n",
       "    </tr>\n",
       "  </thead>\n",
       "  <tbody>\n",
       "    <tr>\n",
       "      <th>0</th>\n",
       "      <td>8589.4160</td>\n",
       "      <td>5468.2407</td>\n",
       "      <td>4263.4077</td>\n",
       "      <td>4064.9358</td>\n",
       "      <td>1997.8930</td>\n",
       "      <td>5282.3250</td>\n",
       "      <td>2169.7200</td>\n",
       "      <td>2773.4211</td>\n",
       "      <td>7526.3860</td>\n",
       "      <td>4607.6763</td>\n",
       "      <td>...</td>\n",
       "      <td>67.56125</td>\n",
       "      <td>259.91250</td>\n",
       "      <td>138.89874</td>\n",
       "      <td>88.23250</td>\n",
       "      <td>39.667860</td>\n",
       "      <td>67.82875</td>\n",
       "      <td>75.67750</td>\n",
       "      <td>83.52250</td>\n",
       "      <td>28.70125</td>\n",
       "      <td>0</td>\n",
       "    </tr>\n",
       "    <tr>\n",
       "      <th>1</th>\n",
       "      <td>9164.2540</td>\n",
       "      <td>6719.5293</td>\n",
       "      <td>4883.4487</td>\n",
       "      <td>3718.1590</td>\n",
       "      <td>2015.2214</td>\n",
       "      <td>5569.9070</td>\n",
       "      <td>3849.0588</td>\n",
       "      <td>2793.3875</td>\n",
       "      <td>7017.7340</td>\n",
       "      <td>4802.2524</td>\n",
       "      <td>...</td>\n",
       "      <td>92.23875</td>\n",
       "      <td>96.27625</td>\n",
       "      <td>150.59000</td>\n",
       "      <td>82.23750</td>\n",
       "      <td>85.033330</td>\n",
       "      <td>152.19500</td>\n",
       "      <td>186.56750</td>\n",
       "      <td>44.47250</td>\n",
       "      <td>16.77375</td>\n",
       "      <td>1</td>\n",
       "    </tr>\n",
       "    <tr>\n",
       "      <th>2</th>\n",
       "      <td>3825.7050</td>\n",
       "      <td>6970.3613</td>\n",
       "      <td>5369.9688</td>\n",
       "      <td>4705.6500</td>\n",
       "      <td>1166.5536</td>\n",
       "      <td>1572.1678</td>\n",
       "      <td>1325.4025</td>\n",
       "      <td>1472.2587</td>\n",
       "      <td>3296.9512</td>\n",
       "      <td>2786.5820</td>\n",
       "      <td>...</td>\n",
       "      <td>82.71500</td>\n",
       "      <td>31.10250</td>\n",
       "      <td>193.92000</td>\n",
       "      <td>76.97250</td>\n",
       "      <td>224.620240</td>\n",
       "      <td>31.22500</td>\n",
       "      <td>42.65625</td>\n",
       "      <td>16.09250</td>\n",
       "      <td>15.15625</td>\n",
       "      <td>0</td>\n",
       "    </tr>\n",
       "    <tr>\n",
       "      <th>3</th>\n",
       "      <td>6246.4487</td>\n",
       "      <td>7823.5340</td>\n",
       "      <td>5955.8350</td>\n",
       "      <td>3975.5642</td>\n",
       "      <td>2002.6132</td>\n",
       "      <td>2130.5430</td>\n",
       "      <td>1531.1425</td>\n",
       "      <td>1714.6312</td>\n",
       "      <td>3869.7850</td>\n",
       "      <td>4989.4070</td>\n",
       "      <td>...</td>\n",
       "      <td>41.68375</td>\n",
       "      <td>5.92500</td>\n",
       "      <td>183.00626</td>\n",
       "      <td>74.52875</td>\n",
       "      <td>67.710720</td>\n",
       "      <td>48.33875</td>\n",
       "      <td>42.52000</td>\n",
       "      <td>49.98250</td>\n",
       "      <td>16.08500</td>\n",
       "      <td>1</td>\n",
       "    </tr>\n",
       "    <tr>\n",
       "      <th>4</th>\n",
       "      <td>3230.3286</td>\n",
       "      <td>3694.4500</td>\n",
       "      <td>3400.7400</td>\n",
       "      <td>3463.5857</td>\n",
       "      <td>2181.4202</td>\n",
       "      <td>2922.7820</td>\n",
       "      <td>2069.2463</td>\n",
       "      <td>2948.5750</td>\n",
       "      <td>3303.3710</td>\n",
       "      <td>3109.4130</td>\n",
       "      <td>...</td>\n",
       "      <td>76.60375</td>\n",
       "      <td>161.35000</td>\n",
       "      <td>61.70125</td>\n",
       "      <td>54.56375</td>\n",
       "      <td>223.359530</td>\n",
       "      <td>73.09875</td>\n",
       "      <td>57.59875</td>\n",
       "      <td>7.48875</td>\n",
       "      <td>31.81250</td>\n",
       "      <td>0</td>\n",
       "    </tr>\n",
       "    <tr>\n",
       "      <th>...</th>\n",
       "      <td>...</td>\n",
       "      <td>...</td>\n",
       "      <td>...</td>\n",
       "      <td>...</td>\n",
       "      <td>...</td>\n",
       "      <td>...</td>\n",
       "      <td>...</td>\n",
       "      <td>...</td>\n",
       "      <td>...</td>\n",
       "      <td>...</td>\n",
       "      <td>...</td>\n",
       "      <td>...</td>\n",
       "      <td>...</td>\n",
       "      <td>...</td>\n",
       "      <td>...</td>\n",
       "      <td>...</td>\n",
       "      <td>...</td>\n",
       "      <td>...</td>\n",
       "      <td>...</td>\n",
       "      <td>...</td>\n",
       "      <td>...</td>\n",
       "    </tr>\n",
       "    <tr>\n",
       "      <th>57</th>\n",
       "      <td>4972.1660</td>\n",
       "      <td>4173.9180</td>\n",
       "      <td>3668.5337</td>\n",
       "      <td>1567.5554</td>\n",
       "      <td>1570.4406</td>\n",
       "      <td>3466.8108</td>\n",
       "      <td>2106.4988</td>\n",
       "      <td>1535.7574</td>\n",
       "      <td>1887.6212</td>\n",
       "      <td>3519.6000</td>\n",
       "      <td>...</td>\n",
       "      <td>6.44750</td>\n",
       "      <td>156.44500</td>\n",
       "      <td>93.95000</td>\n",
       "      <td>86.90875</td>\n",
       "      <td>95.442856</td>\n",
       "      <td>31.18750</td>\n",
       "      <td>57.15250</td>\n",
       "      <td>13.96000</td>\n",
       "      <td>10.54750</td>\n",
       "      <td>0</td>\n",
       "    </tr>\n",
       "    <tr>\n",
       "      <th>58</th>\n",
       "      <td>9112.3720</td>\n",
       "      <td>6824.4863</td>\n",
       "      <td>5982.8460</td>\n",
       "      <td>3147.0430</td>\n",
       "      <td>4847.3080</td>\n",
       "      <td>11222.6820</td>\n",
       "      <td>6333.4727</td>\n",
       "      <td>4299.5024</td>\n",
       "      <td>4644.4424</td>\n",
       "      <td>5888.5464</td>\n",
       "      <td>...</td>\n",
       "      <td>35.87875</td>\n",
       "      <td>342.65000</td>\n",
       "      <td>84.75125</td>\n",
       "      <td>60.27375</td>\n",
       "      <td>143.877380</td>\n",
       "      <td>8.99625</td>\n",
       "      <td>106.87875</td>\n",
       "      <td>23.20250</td>\n",
       "      <td>32.16625</td>\n",
       "      <td>0</td>\n",
       "    </tr>\n",
       "    <tr>\n",
       "      <th>59</th>\n",
       "      <td>6730.6250</td>\n",
       "      <td>3472.1250</td>\n",
       "      <td>2559.4624</td>\n",
       "      <td>2624.6892</td>\n",
       "      <td>1596.2179</td>\n",
       "      <td>4372.7890</td>\n",
       "      <td>3798.5261</td>\n",
       "      <td>1026.4775</td>\n",
       "      <td>3512.3337</td>\n",
       "      <td>3243.1690</td>\n",
       "      <td>...</td>\n",
       "      <td>119.96250</td>\n",
       "      <td>111.60375</td>\n",
       "      <td>166.75500</td>\n",
       "      <td>130.45500</td>\n",
       "      <td>124.253570</td>\n",
       "      <td>96.46500</td>\n",
       "      <td>133.52126</td>\n",
       "      <td>93.09875</td>\n",
       "      <td>7.43250</td>\n",
       "      <td>1</td>\n",
       "    </tr>\n",
       "    <tr>\n",
       "      <th>60</th>\n",
       "      <td>6234.6226</td>\n",
       "      <td>4005.3000</td>\n",
       "      <td>3093.6750</td>\n",
       "      <td>3183.0857</td>\n",
       "      <td>1795.3107</td>\n",
       "      <td>3940.8464</td>\n",
       "      <td>2019.8500</td>\n",
       "      <td>1406.6500</td>\n",
       "      <td>2927.7937</td>\n",
       "      <td>2177.3203</td>\n",
       "      <td>...</td>\n",
       "      <td>85.25875</td>\n",
       "      <td>206.53625</td>\n",
       "      <td>80.44875</td>\n",
       "      <td>104.80500</td>\n",
       "      <td>180.941670</td>\n",
       "      <td>68.93375</td>\n",
       "      <td>118.20125</td>\n",
       "      <td>32.68750</td>\n",
       "      <td>23.26500</td>\n",
       "      <td>0</td>\n",
       "    </tr>\n",
       "    <tr>\n",
       "      <th>61</th>\n",
       "      <td>7472.0100</td>\n",
       "      <td>3653.9340</td>\n",
       "      <td>2728.2163</td>\n",
       "      <td>3494.4805</td>\n",
       "      <td>2404.6655</td>\n",
       "      <td>5791.6070</td>\n",
       "      <td>2876.4211</td>\n",
       "      <td>2150.9587</td>\n",
       "      <td>3767.0024</td>\n",
       "      <td>2685.3000</td>\n",
       "      <td>...</td>\n",
       "      <td>63.63500</td>\n",
       "      <td>437.65250</td>\n",
       "      <td>178.27250</td>\n",
       "      <td>153.84875</td>\n",
       "      <td>269.436900</td>\n",
       "      <td>67.86250</td>\n",
       "      <td>77.21500</td>\n",
       "      <td>49.86250</td>\n",
       "      <td>39.63125</td>\n",
       "      <td>1</td>\n",
       "    </tr>\n",
       "  </tbody>\n",
       "</table>\n",
       "<p>62 rows × 2001 columns</p>\n",
       "</div>"
      ],
      "text/plain": [
       "       H55933     R39465    R39465_     R85482     U14973      R02593  \\\n",
       "0   8589.4160  5468.2407  4263.4077  4064.9358  1997.8930   5282.3250   \n",
       "1   9164.2540  6719.5293  4883.4487  3718.1590  2015.2214   5569.9070   \n",
       "2   3825.7050  6970.3613  5369.9688  4705.6500  1166.5536   1572.1678   \n",
       "3   6246.4487  7823.5340  5955.8350  3975.5642  2002.6132   2130.5430   \n",
       "4   3230.3286  3694.4500  3400.7400  3463.5857  2181.4202   2922.7820   \n",
       "..        ...        ...        ...        ...        ...         ...   \n",
       "57  4972.1660  4173.9180  3668.5337  1567.5554  1570.4406   3466.8108   \n",
       "58  9112.3720  6824.4863  5982.8460  3147.0430  4847.3080  11222.6820   \n",
       "59  6730.6250  3472.1250  2559.4624  2624.6892  1596.2179   4372.7890   \n",
       "60  6234.6226  4005.3000  3093.6750  3183.0857  1795.3107   3940.8464   \n",
       "61  7472.0100  3653.9340  2728.2163  3494.4805  2404.6655   5791.6070   \n",
       "\n",
       "       T51496     H80240     T65938     T55131  ...     R70790     L11706  \\\n",
       "0   2169.7200  2773.4211  7526.3860  4607.6763  ...   67.56125  259.91250   \n",
       "1   3849.0588  2793.3875  7017.7340  4802.2524  ...   92.23875   96.27625   \n",
       "2   1325.4025  1472.2587  3296.9512  2786.5820  ...   82.71500   31.10250   \n",
       "3   1531.1425  1714.6312  3869.7850  4989.4070  ...   41.68375    5.92500   \n",
       "4   2069.2463  2948.5750  3303.3710  3109.4130  ...   76.60375  161.35000   \n",
       "..        ...        ...        ...        ...  ...        ...        ...   \n",
       "57  2106.4988  1535.7574  1887.6212  3519.6000  ...    6.44750  156.44500   \n",
       "58  6333.4727  4299.5024  4644.4424  5888.5464  ...   35.87875  342.65000   \n",
       "59  3798.5261  1026.4775  3512.3337  3243.1690  ...  119.96250  111.60375   \n",
       "60  2019.8500  1406.6500  2927.7937  2177.3203  ...   85.25875  206.53625   \n",
       "61  2876.4211  2150.9587  3767.0024  2685.3000  ...   63.63500  437.65250   \n",
       "\n",
       "       T90549     D17390      M33210     H18490     H40891    R77780  \\\n",
       "0   138.89874   88.23250   39.667860   67.82875   75.67750  83.52250   \n",
       "1   150.59000   82.23750   85.033330  152.19500  186.56750  44.47250   \n",
       "2   193.92000   76.97250  224.620240   31.22500   42.65625  16.09250   \n",
       "3   183.00626   74.52875   67.710720   48.33875   42.52000  49.98250   \n",
       "4    61.70125   54.56375  223.359530   73.09875   57.59875   7.48875   \n",
       "..        ...        ...         ...        ...        ...       ...   \n",
       "57   93.95000   86.90875   95.442856   31.18750   57.15250  13.96000   \n",
       "58   84.75125   60.27375  143.877380    8.99625  106.87875  23.20250   \n",
       "59  166.75500  130.45500  124.253570   96.46500  133.52126  93.09875   \n",
       "60   80.44875  104.80500  180.941670   68.93375  118.20125  32.68750   \n",
       "61  178.27250  153.84875  269.436900   67.86250   77.21500  49.86250   \n",
       "\n",
       "      T49647  class  \n",
       "0   28.70125      0  \n",
       "1   16.77375      1  \n",
       "2   15.15625      0  \n",
       "3   16.08500      1  \n",
       "4   31.81250      0  \n",
       "..       ...    ...  \n",
       "57  10.54750      0  \n",
       "58  32.16625      0  \n",
       "59   7.43250      1  \n",
       "60  23.26500      0  \n",
       "61  39.63125      1  \n",
       "\n",
       "[62 rows x 2001 columns]"
      ]
     },
     "execution_count": 4,
     "metadata": {},
     "output_type": "execute_result"
    }
   ],
   "source": [
    "df = pd.read_csv('colon_.csv', header=0)\n",
    "df = df.rename(columns={'NSP': 'class'})\n",
    "df"
   ]
  },
  {
   "cell_type": "code",
   "execution_count": 12,
   "id": "2549be12",
   "metadata": {},
   "outputs": [
    {
     "data": {
      "text/html": [
       "<div>\n",
       "<style scoped>\n",
       "    .dataframe tbody tr th:only-of-type {\n",
       "        vertical-align: middle;\n",
       "    }\n",
       "\n",
       "    .dataframe tbody tr th {\n",
       "        vertical-align: top;\n",
       "    }\n",
       "\n",
       "    .dataframe thead th {\n",
       "        text-align: right;\n",
       "    }\n",
       "</style>\n",
       "<table border=\"1\" class=\"dataframe\">\n",
       "  <thead>\n",
       "    <tr style=\"text-align: right;\">\n",
       "      <th></th>\n",
       "      <th>H55933</th>\n",
       "      <th>R39465</th>\n",
       "      <th>R39465_</th>\n",
       "      <th>R85482</th>\n",
       "      <th>U14973</th>\n",
       "      <th>R02593</th>\n",
       "      <th>T51496</th>\n",
       "      <th>H80240</th>\n",
       "      <th>T65938</th>\n",
       "      <th>T55131</th>\n",
       "      <th>...</th>\n",
       "      <th>R70790</th>\n",
       "      <th>L11706</th>\n",
       "      <th>T90549</th>\n",
       "      <th>D17390</th>\n",
       "      <th>M33210</th>\n",
       "      <th>H18490</th>\n",
       "      <th>H40891</th>\n",
       "      <th>R77780</th>\n",
       "      <th>T49647</th>\n",
       "      <th>class</th>\n",
       "    </tr>\n",
       "  </thead>\n",
       "  <tbody>\n",
       "    <tr>\n",
       "      <th>0</th>\n",
       "      <td>0.512929</td>\n",
       "      <td>0.230881</td>\n",
       "      <td>0.093536</td>\n",
       "      <td>0.038521</td>\n",
       "      <td>-0.697824</td>\n",
       "      <td>0.242380</td>\n",
       "      <td>-0.764201</td>\n",
       "      <td>-0.088808</td>\n",
       "      <td>1.187069</td>\n",
       "      <td>0.283765</td>\n",
       "      <td>...</td>\n",
       "      <td>-0.422099</td>\n",
       "      <td>-0.187349</td>\n",
       "      <td>0.190130</td>\n",
       "      <td>-0.447078</td>\n",
       "      <td>-0.910785</td>\n",
       "      <td>-0.190557</td>\n",
       "      <td>-0.449632</td>\n",
       "      <td>0.793452</td>\n",
       "      <td>-0.506460</td>\n",
       "      <td>0</td>\n",
       "    </tr>\n",
       "    <tr>\n",
       "      <th>1</th>\n",
       "      <td>0.700300</td>\n",
       "      <td>0.807202</td>\n",
       "      <td>0.437362</td>\n",
       "      <td>-0.134631</td>\n",
       "      <td>-0.684950</td>\n",
       "      <td>0.363141</td>\n",
       "      <td>0.140154</td>\n",
       "      <td>-0.070873</td>\n",
       "      <td>0.974924</td>\n",
       "      <td>0.380971</td>\n",
       "      <td>...</td>\n",
       "      <td>-0.103231</td>\n",
       "      <td>-1.107699</td>\n",
       "      <td>0.346171</td>\n",
       "      <td>-0.506699</td>\n",
       "      <td>-0.624784</td>\n",
       "      <td>0.796365</td>\n",
       "      <td>0.820597</td>\n",
       "      <td>-0.230103</td>\n",
       "      <td>-0.929943</td>\n",
       "      <td>1</td>\n",
       "    </tr>\n",
       "    <tr>\n",
       "      <th>2</th>\n",
       "      <td>-1.039817</td>\n",
       "      <td>0.922730</td>\n",
       "      <td>0.707147</td>\n",
       "      <td>0.358440</td>\n",
       "      <td>-1.315486</td>\n",
       "      <td>-1.315588</td>\n",
       "      <td>-1.218881</td>\n",
       "      <td>-1.257575</td>\n",
       "      <td>-0.576911</td>\n",
       "      <td>-0.626007</td>\n",
       "      <td>...</td>\n",
       "      <td>-0.226291</td>\n",
       "      <td>-1.474261</td>\n",
       "      <td>0.924489</td>\n",
       "      <td>-0.559060</td>\n",
       "      <td>0.255224</td>\n",
       "      <td>-0.618751</td>\n",
       "      <td>-0.827886</td>\n",
       "      <td>-0.973982</td>\n",
       "      <td>-0.987372</td>\n",
       "      <td>0</td>\n",
       "    </tr>\n",
       "    <tr>\n",
       "      <th>3</th>\n",
       "      <td>-0.250768</td>\n",
       "      <td>1.315686</td>\n",
       "      <td>1.032022</td>\n",
       "      <td>-0.006104</td>\n",
       "      <td>-0.694317</td>\n",
       "      <td>-1.081115</td>\n",
       "      <td>-1.108086</td>\n",
       "      <td>-1.039864</td>\n",
       "      <td>-0.337998</td>\n",
       "      <td>0.474468</td>\n",
       "      <td>...</td>\n",
       "      <td>-0.756473</td>\n",
       "      <td>-1.615868</td>\n",
       "      <td>0.778825</td>\n",
       "      <td>-0.583363</td>\n",
       "      <td>-0.733993</td>\n",
       "      <td>-0.418553</td>\n",
       "      <td>-0.829446</td>\n",
       "      <td>-0.085678</td>\n",
       "      <td>-0.954397</td>\n",
       "      <td>1</td>\n",
       "    </tr>\n",
       "    <tr>\n",
       "      <th>4</th>\n",
       "      <td>-1.233882</td>\n",
       "      <td>-0.586095</td>\n",
       "      <td>-0.384831</td>\n",
       "      <td>-0.261744</td>\n",
       "      <td>-0.561468</td>\n",
       "      <td>-0.748439</td>\n",
       "      <td>-0.818308</td>\n",
       "      <td>0.068524</td>\n",
       "      <td>-0.574233</td>\n",
       "      <td>-0.464729</td>\n",
       "      <td>...</td>\n",
       "      <td>-0.305257</td>\n",
       "      <td>-0.741701</td>\n",
       "      <td>-0.840211</td>\n",
       "      <td>-0.781918</td>\n",
       "      <td>0.247276</td>\n",
       "      <td>-0.128908</td>\n",
       "      <td>-0.656721</td>\n",
       "      <td>-1.199498</td>\n",
       "      <td>-0.395996</td>\n",
       "      <td>0</td>\n",
       "    </tr>\n",
       "    <tr>\n",
       "      <th>...</th>\n",
       "      <td>...</td>\n",
       "      <td>...</td>\n",
       "      <td>...</td>\n",
       "      <td>...</td>\n",
       "      <td>...</td>\n",
       "      <td>...</td>\n",
       "      <td>...</td>\n",
       "      <td>...</td>\n",
       "      <td>...</td>\n",
       "      <td>...</td>\n",
       "      <td>...</td>\n",
       "      <td>...</td>\n",
       "      <td>...</td>\n",
       "      <td>...</td>\n",
       "      <td>...</td>\n",
       "      <td>...</td>\n",
       "      <td>...</td>\n",
       "      <td>...</td>\n",
       "      <td>...</td>\n",
       "      <td>...</td>\n",
       "      <td>...</td>\n",
       "    </tr>\n",
       "    <tr>\n",
       "      <th>57</th>\n",
       "      <td>-0.666125</td>\n",
       "      <td>-0.365261</td>\n",
       "      <td>-0.236333</td>\n",
       "      <td>-1.208463</td>\n",
       "      <td>-1.015409</td>\n",
       "      <td>-0.519990</td>\n",
       "      <td>-0.798247</td>\n",
       "      <td>-1.200538</td>\n",
       "      <td>-1.164703</td>\n",
       "      <td>-0.259810</td>\n",
       "      <td>...</td>\n",
       "      <td>-1.211775</td>\n",
       "      <td>-0.769288</td>\n",
       "      <td>-0.409793</td>\n",
       "      <td>-0.460243</td>\n",
       "      <td>-0.559159</td>\n",
       "      <td>-0.619189</td>\n",
       "      <td>-0.661833</td>\n",
       "      <td>-1.029877</td>\n",
       "      <td>-1.151004</td>\n",
       "      <td>0</td>\n",
       "    </tr>\n",
       "    <tr>\n",
       "      <th>58</th>\n",
       "      <td>0.683389</td>\n",
       "      <td>0.855543</td>\n",
       "      <td>1.047000</td>\n",
       "      <td>-0.419798</td>\n",
       "      <td>1.419212</td>\n",
       "      <td>2.736853</td>\n",
       "      <td>1.478056</td>\n",
       "      <td>1.281993</td>\n",
       "      <td>-0.014910</td>\n",
       "      <td>0.923655</td>\n",
       "      <td>...</td>\n",
       "      <td>-0.831482</td>\n",
       "      <td>0.277997</td>\n",
       "      <td>-0.532567</td>\n",
       "      <td>-0.725131</td>\n",
       "      <td>-0.253809</td>\n",
       "      <td>-0.878784</td>\n",
       "      <td>-0.092226</td>\n",
       "      <td>-0.787619</td>\n",
       "      <td>-0.383436</td>\n",
       "      <td>0</td>\n",
       "    </tr>\n",
       "    <tr>\n",
       "      <th>59</th>\n",
       "      <td>-0.092949</td>\n",
       "      <td>-0.688494</td>\n",
       "      <td>-0.851336</td>\n",
       "      <td>-0.680618</td>\n",
       "      <td>-0.996258</td>\n",
       "      <td>-0.139552</td>\n",
       "      <td>0.112941</td>\n",
       "      <td>-1.657998</td>\n",
       "      <td>-0.487081</td>\n",
       "      <td>-0.397908</td>\n",
       "      <td>...</td>\n",
       "      <td>0.254999</td>\n",
       "      <td>-1.021492</td>\n",
       "      <td>0.561923</td>\n",
       "      <td>-0.027169</td>\n",
       "      <td>-0.377525</td>\n",
       "      <td>0.144432</td>\n",
       "      <td>0.212960</td>\n",
       "      <td>1.044458</td>\n",
       "      <td>-1.261602</td>\n",
       "      <td>1</td>\n",
       "    </tr>\n",
       "    <tr>\n",
       "      <th>60</th>\n",
       "      <td>-0.254623</td>\n",
       "      <td>-0.442923</td>\n",
       "      <td>-0.555104</td>\n",
       "      <td>-0.401802</td>\n",
       "      <td>-0.848337</td>\n",
       "      <td>-0.320933</td>\n",
       "      <td>-0.844908</td>\n",
       "      <td>-1.316508</td>\n",
       "      <td>-0.730876</td>\n",
       "      <td>-0.930378</td>\n",
       "      <td>...</td>\n",
       "      <td>-0.193423</td>\n",
       "      <td>-0.487557</td>\n",
       "      <td>-0.589991</td>\n",
       "      <td>-0.282262</td>\n",
       "      <td>-0.020142</td>\n",
       "      <td>-0.177631</td>\n",
       "      <td>0.037472</td>\n",
       "      <td>-0.539004</td>\n",
       "      <td>-0.699473</td>\n",
       "      <td>0</td>\n",
       "    </tr>\n",
       "    <tr>\n",
       "      <th>61</th>\n",
       "      <td>0.148707</td>\n",
       "      <td>-0.604756</td>\n",
       "      <td>-0.757759</td>\n",
       "      <td>-0.246317</td>\n",
       "      <td>-0.395603</td>\n",
       "      <td>0.456238</td>\n",
       "      <td>-0.383629</td>\n",
       "      <td>-0.647934</td>\n",
       "      <td>-0.380866</td>\n",
       "      <td>-0.676605</td>\n",
       "      <td>...</td>\n",
       "      <td>-0.472832</td>\n",
       "      <td>0.812326</td>\n",
       "      <td>0.715645</td>\n",
       "      <td>0.205484</td>\n",
       "      <td>0.537765</td>\n",
       "      <td>-0.190163</td>\n",
       "      <td>-0.432020</td>\n",
       "      <td>-0.088823</td>\n",
       "      <td>-0.118393</td>\n",
       "      <td>1</td>\n",
       "    </tr>\n",
       "  </tbody>\n",
       "</table>\n",
       "<p>62 rows × 2001 columns</p>\n",
       "</div>"
      ],
      "text/plain": [
       "      H55933    R39465   R39465_    R85482    U14973    R02593    T51496  \\\n",
       "0   0.512929  0.230881  0.093536  0.038521 -0.697824  0.242380 -0.764201   \n",
       "1   0.700300  0.807202  0.437362 -0.134631 -0.684950  0.363141  0.140154   \n",
       "2  -1.039817  0.922730  0.707147  0.358440 -1.315486 -1.315588 -1.218881   \n",
       "3  -0.250768  1.315686  1.032022 -0.006104 -0.694317 -1.081115 -1.108086   \n",
       "4  -1.233882 -0.586095 -0.384831 -0.261744 -0.561468 -0.748439 -0.818308   \n",
       "..       ...       ...       ...       ...       ...       ...       ...   \n",
       "57 -0.666125 -0.365261 -0.236333 -1.208463 -1.015409 -0.519990 -0.798247   \n",
       "58  0.683389  0.855543  1.047000 -0.419798  1.419212  2.736853  1.478056   \n",
       "59 -0.092949 -0.688494 -0.851336 -0.680618 -0.996258 -0.139552  0.112941   \n",
       "60 -0.254623 -0.442923 -0.555104 -0.401802 -0.848337 -0.320933 -0.844908   \n",
       "61  0.148707 -0.604756 -0.757759 -0.246317 -0.395603  0.456238 -0.383629   \n",
       "\n",
       "      H80240    T65938    T55131  ...    R70790    L11706    T90549    D17390  \\\n",
       "0  -0.088808  1.187069  0.283765  ... -0.422099 -0.187349  0.190130 -0.447078   \n",
       "1  -0.070873  0.974924  0.380971  ... -0.103231 -1.107699  0.346171 -0.506699   \n",
       "2  -1.257575 -0.576911 -0.626007  ... -0.226291 -1.474261  0.924489 -0.559060   \n",
       "3  -1.039864 -0.337998  0.474468  ... -0.756473 -1.615868  0.778825 -0.583363   \n",
       "4   0.068524 -0.574233 -0.464729  ... -0.305257 -0.741701 -0.840211 -0.781918   \n",
       "..       ...       ...       ...  ...       ...       ...       ...       ...   \n",
       "57 -1.200538 -1.164703 -0.259810  ... -1.211775 -0.769288 -0.409793 -0.460243   \n",
       "58  1.281993 -0.014910  0.923655  ... -0.831482  0.277997 -0.532567 -0.725131   \n",
       "59 -1.657998 -0.487081 -0.397908  ...  0.254999 -1.021492  0.561923 -0.027169   \n",
       "60 -1.316508 -0.730876 -0.930378  ... -0.193423 -0.487557 -0.589991 -0.282262   \n",
       "61 -0.647934 -0.380866 -0.676605  ... -0.472832  0.812326  0.715645  0.205484   \n",
       "\n",
       "      M33210    H18490    H40891    R77780    T49647  class  \n",
       "0  -0.910785 -0.190557 -0.449632  0.793452 -0.506460      0  \n",
       "1  -0.624784  0.796365  0.820597 -0.230103 -0.929943      1  \n",
       "2   0.255224 -0.618751 -0.827886 -0.973982 -0.987372      0  \n",
       "3  -0.733993 -0.418553 -0.829446 -0.085678 -0.954397      1  \n",
       "4   0.247276 -0.128908 -0.656721 -1.199498 -0.395996      0  \n",
       "..       ...       ...       ...       ...       ...    ...  \n",
       "57 -0.559159 -0.619189 -0.661833 -1.029877 -1.151004      0  \n",
       "58 -0.253809 -0.878784 -0.092226 -0.787619 -0.383436      0  \n",
       "59 -0.377525  0.144432  0.212960  1.044458 -1.261602      1  \n",
       "60 -0.020142 -0.177631  0.037472 -0.539004 -0.699473      0  \n",
       "61  0.537765 -0.190163 -0.432020 -0.088823 -0.118393      1  \n",
       "\n",
       "[62 rows x 2001 columns]"
      ]
     },
     "execution_count": 12,
     "metadata": {},
     "output_type": "execute_result"
    }
   ],
   "source": [
    "col_names = list(df.columns[:-1])\n",
    "features = df[col_names]\n",
    "scaler = StandardScaler().fit(features.values)\n",
    "features = scaler.transform(features.values)\n",
    "df1 = pd.DataFrame(features, columns = col_names)\n",
    "df1['class']  = df['class']\n",
    "# df1 = df1[ ['gender'] + [ col for col in df1.columns if col not in ['gender','class'] ] + ['class']]\n",
    "\n",
    "df1\n"
   ]
  },
  {
   "cell_type": "code",
   "execution_count": 8,
   "id": "d98d9f43",
   "metadata": {},
   "outputs": [
    {
     "name": "stdout",
     "output_type": "stream",
     "text": [
      "class 0 =  40 ตัว\n",
      "class 1 =  22 ตัว\n",
      "Majority Class=  0.6451612903225806\n"
     ]
    }
   ],
   "source": [
    "# df1['class'] = df1.apply(lambda row: categorise(row), axis=1)\n",
    "print('class 0 = ',df1['class'].value_counts()[0],'ตัว')\n",
    "print('class 1 = ',df1['class'].value_counts()[1],'ตัว')\n",
    "print('Majority Class= ', df1['class'].value_counts()[0]/len(df1))"
   ]
  },
  {
   "cell_type": "code",
   "execution_count": 9,
   "id": "cd8983e4",
   "metadata": {},
   "outputs": [
    {
     "name": "stdout",
     "output_type": "stream",
     "text": [
      "treshold logbase2(n): 6\n",
      "treshold 2.5%: 50\n",
      "treshold 5%: 100\n",
      "treshold 10%: 200\n",
      "treshold 20%: 400\n"
     ]
    }
   ],
   "source": [
    "# threshold:\n",
    "\n",
    "log_2base = math.log(len(df1),2.0)\n",
    "thres_base2n = int(round(log_2base,0))\n",
    "thres_p2_5 = int(round(len(df1.columns)*0.025,0))\n",
    "thres_p5 =  int(round(len(df1.columns)*0.05,0))\n",
    "thres_p10 =  int(round(len(df1.columns)*0.1,0))\n",
    "thres_p20 =  int(round(len(df1.columns)*0.2,0))\n",
    "\n",
    "print('treshold logbase2(n):', thres_base2n)\n",
    "print('treshold 2.5%:',thres_p2_5)\n",
    "print('treshold 5%:',thres_p5)\n",
    "print('treshold 10%:',thres_p10)\n",
    "print('treshold 20%:',thres_p20)\n"
   ]
  },
  {
   "cell_type": "code",
   "execution_count": 10,
   "id": "5fd30675",
   "metadata": {},
   "outputs": [
    {
     "data": {
      "text/plain": [
       "2000"
      ]
     },
     "execution_count": 10,
     "metadata": {},
     "output_type": "execute_result"
    }
   ],
   "source": [
    "X_ = df1.drop(['class'], axis=1)\n",
    "len(X_.columns)"
   ]
  },
  {
   "cell_type": "code",
   "execution_count": null,
   "id": "7b519a9e",
   "metadata": {},
   "outputs": [],
   "source": []
  },
  {
   "cell_type": "code",
   "execution_count": 11,
   "id": "7d80b864",
   "metadata": {},
   "outputs": [],
   "source": [
    "paramXGBoost_grid1 = {\"subsample\":[0.5, 0.75, 1],\n",
    "              \"colsample_bytree\":[0.5, 0.75, 1],\n",
    "              \"max_depth\":[5, 6, 7],\n",
    "              \"min_child_weight\":[1,5,15],\n",
    "              \"learning_rate\":[0.1, 0.01, 0.05],\n",
    "              'eta': [0.01, 0.015, 0.02]\n",
    "    }"
   ]
  },
  {
   "cell_type": "code",
   "execution_count": 12,
   "id": "1f0b4b2a",
   "metadata": {},
   "outputs": [],
   "source": [
    "paramXGBoost_grid2 = {\"subsample\":[0.2,0.6,0.9],\n",
    "              \"colsample_bytree\":[0.5, 0.75, 1],\n",
    "              \"max_depth\":[7,15,25],\n",
    "              \"min_child_weight\":[0.1,0.5,1],\n",
    "              \"learning_rate\":[0.1, 0.01, 0.05],\n",
    "              'eta': [0.01, 0.015, 0.02]\n",
    "    }"
   ]
  },
  {
   "cell_type": "code",
   "execution_count": 13,
   "id": "9b5a3e27",
   "metadata": {},
   "outputs": [],
   "source": [
    "paramXGBoost_grid3 = {\"subsample\":[0.2,0.6,0.9],\n",
    "              \"colsample_bytree\":[0.1,0.25, 0.5],\n",
    "              \"max_depth\":[10,15,20],\n",
    "              \"min_child_weight\":[20,40,60],\n",
    "              \"learning_rate\":[0.1, 0.01, 0.05],\n",
    "              'eta': [0.01, 0.015, 0.02]\n",
    "    }"
   ]
  },
  {
   "cell_type": "code",
   "execution_count": 14,
   "id": "f4a5bc83",
   "metadata": {},
   "outputs": [],
   "source": [
    "paramXGBoost_grid4 = {\"subsample\":[0.75,0.9,1],\n",
    "              \"colsample_bytree\":[0.1,0.25, 0.5],\n",
    "              \"max_depth\":[5,10,15],\n",
    "              \"min_child_weight\":[5,10,20],\n",
    "              \"learning_rate\":[0.1, 0.01, 0.05],\n",
    "              'eta': [0.01, 0.015, 0.02]\n",
    "    }"
   ]
  },
  {
   "cell_type": "markdown",
   "id": "7bed07d6",
   "metadata": {},
   "source": [
    "# XGBoost"
   ]
  },
  {
   "cell_type": "code",
   "execution_count": 15,
   "id": "a0863caf",
   "metadata": {},
   "outputs": [
    {
     "name": "stdout",
     "output_type": "stream",
     "text": [
      "\n",
      "\n",
      "Mean F1 Score:  0.6233333333333333\n",
      "std F1 Score:  0.2732723509207943\n"
     ]
    }
   ],
   "source": [
    "# baseline model\n",
    "\n",
    "X = df1.drop(['class'], axis=1)\n",
    "y = df1['class']\n",
    "\n",
    "\n",
    "\n",
    "\n",
    "X_train, X_test, y_train, y_test = train_test_split(X, y, test_size=0.2, random_state=123) \n",
    "\n",
    "# random forest model creation\n",
    "xgbc = XGBClassifier(random_state=123)\n",
    "xgbc.fit(X_train,y_train)\n",
    "\n",
    "print('\\n')\n",
    "\n",
    "# #result\n",
    "# crossvalidresults(model=rfc,X=X,y=y)\n",
    "\n",
    "## results F1 and stdF1 ##\n",
    "avgF1_baselineXGBoost = cross_val_score(xgbc, X, y, scoring=\"f1\", cv = 10).mean() ##<3## \n",
    "stdF1_baselineXGBoost = cross_val_score(xgbc, X, y, scoring=\"f1\", cv = 10).std() ##<3##\n",
    "print('Mean F1 Score: ', avgF1_baselineXGBoost)\n",
    "print('std F1 Score: ', stdF1_baselineXGBoost)\n",
    "\n"
   ]
  },
  {
   "cell_type": "code",
   "execution_count": 16,
   "id": "da8889b6",
   "metadata": {},
   "outputs": [
    {
     "data": {
      "text/plain": [
       "2000"
      ]
     },
     "execution_count": 16,
     "metadata": {},
     "output_type": "execute_result"
    }
   ],
   "source": [
    "n_baselineXGBoost = len(X_.columns)\n",
    "n_baselineXGBoost"
   ]
  },
  {
   "cell_type": "code",
   "execution_count": 17,
   "id": "7349758b",
   "metadata": {},
   "outputs": [
    {
     "name": "stdout",
     "output_type": "stream",
     "text": [
      "Fitting 5 folds for each of 729 candidates, totalling 3645 fits\n",
      "\n",
      " Time taken: 0 hours 7 minutes and 25.82 seconds.\n",
      "{'colsample_bytree': 0.5, 'eta': 0.01, 'learning_rate': 0.1, 'max_depth': 5, 'min_child_weight': 1, 'subsample': 0.75}\n",
      "\n",
      "\n",
      "Mean F1 Score:  0.6923809523809524\n",
      "std F1 Score:  0.2964047609484793\n"
     ]
    }
   ],
   "source": [
    "# tuned baseline model_ parameterset1 \n",
    "\n",
    "start_time = timer(None)\n",
    "# Instantiate the grid search model\n",
    "grid_search = GridSearchCV(estimator = xgbc, param_grid = paramXGBoost_grid1,\n",
    "                           cv = 5, n_jobs = -1, verbose = 2,scoring='f1')\n",
    "# Fit the grid search to the data\n",
    "grid_search.fit(X_train, y_train)\n",
    "\n",
    "timer(start_time)\n",
    "print(grid_search.best_params_)\n",
    "\n",
    "\n",
    "xgbc_tuned1 = XGBClassifier(subsample=grid_search.best_params_['subsample'],\n",
    "                                   max_depth=grid_search.best_params_['max_depth'],\n",
    "                                   colsample_bytree=grid_search.best_params_['colsample_bytree'],\n",
    "                                   min_child_weight=grid_search.best_params_['min_child_weight'],\n",
    "                                   learning_rate=grid_search.best_params_['learning_rate'],\n",
    "                                   eta=grid_search.best_params_['eta'])\n",
    "xgbc_tuned1.fit(X_train,y_train)\n",
    "\n",
    "print('\\n')\n",
    "\n",
    "## results F1 and stdF1 ##\n",
    "avgF1set1_baselineXGBoost = cross_val_score(xgbc_tuned1, X, y, scoring=\"f1\", cv = 10).mean() ##<3## \n",
    "stdF1set1_baselineXGBoost = cross_val_score(xgbc_tuned1, X, y, scoring=\"f1\", cv = 10).std() ##<3##\n",
    "print('Mean F1 Score: ', avgF1set1_baselineXGBoost)\n",
    "print('std F1 Score: ', stdF1set1_baselineXGBoost)"
   ]
  },
  {
   "cell_type": "code",
   "execution_count": 18,
   "id": "3c5c6c98",
   "metadata": {},
   "outputs": [
    {
     "name": "stdout",
     "output_type": "stream",
     "text": [
      "Fitting 5 folds for each of 729 candidates, totalling 3645 fits\n",
      "\n",
      " Time taken: 0 hours 4 minutes and 19.41 seconds.\n",
      "{'colsample_bytree': 0.5, 'eta': 0.01, 'learning_rate': 0.1, 'max_depth': 7, 'min_child_weight': 1, 'subsample': 0.6}\n",
      "\n",
      "\n",
      "Mean F1 Score:  0.7223809523809523\n",
      "std F1 Score:  0.18550721056085134\n"
     ]
    }
   ],
   "source": [
    "# tuned baseline model_ parameterset2\n",
    "\n",
    "start_time = timer(None)\n",
    "# Instantiate the grid search model\n",
    "grid_search = GridSearchCV(estimator = xgbc, param_grid = paramXGBoost_grid2,\n",
    "                           cv = 5, n_jobs = -1, verbose = 2,scoring='f1')\n",
    "# Fit the grid search to the data\n",
    "grid_search.fit(X_train, y_train)\n",
    "\n",
    "timer(start_time)\n",
    "print(grid_search.best_params_)\n",
    "\n",
    "\n",
    "xgbc_tuned2 = XGBClassifier(subsample=grid_search.best_params_['subsample'],\n",
    "                                   max_depth=grid_search.best_params_['max_depth'],\n",
    "                                   colsample_bytree=grid_search.best_params_['colsample_bytree'],\n",
    "                                   min_child_weight=grid_search.best_params_['min_child_weight'],\n",
    "                                   learning_rate=grid_search.best_params_['learning_rate'],\n",
    "                                   eta=grid_search.best_params_['eta'])\n",
    "xgbc_tuned2.fit(X_train,y_train)\n",
    "\n",
    "print('\\n')\n",
    "\n",
    "## results F1 and stdF1 ##\n",
    "avgF1set2_baselineXGBoost = cross_val_score(xgbc_tuned2, X, y, scoring=\"f1\", cv = 10).mean() ##<3## \n",
    "stdF1set2_baselineXGBoost = cross_val_score(xgbc_tuned2, X, y, scoring=\"f1\", cv = 10).std() ##<3##\n",
    "print('Mean F1 Score: ', avgF1set2_baselineXGBoost)\n",
    "print('std F1 Score: ', stdF1set2_baselineXGBoost)"
   ]
  },
  {
   "cell_type": "code",
   "execution_count": 19,
   "id": "ec18ccca",
   "metadata": {
    "scrolled": true
   },
   "outputs": [
    {
     "name": "stdout",
     "output_type": "stream",
     "text": [
      "Fitting 5 folds for each of 729 candidates, totalling 3645 fits\n",
      "\n",
      " Time taken: 0 hours 2 minutes and 58.33 seconds.\n",
      "{'colsample_bytree': 0.1, 'eta': 0.01, 'learning_rate': 0.1, 'max_depth': 10, 'min_child_weight': 20, 'subsample': 0.2}\n",
      "\n",
      "\n",
      "Mean F1 Score:  0.0\n",
      "std F1 Score:  0.0\n"
     ]
    }
   ],
   "source": [
    "# tuned baseline model_ parameterset3\n",
    "\n",
    "start_time = timer(None)\n",
    "# Instantiate the grid search model\n",
    "grid_search = GridSearchCV(estimator = xgbc, param_grid = paramXGBoost_grid3,\n",
    "                           cv = 5, n_jobs = -1, verbose = 2,scoring='f1')\n",
    "# Fit the grid search to the data\n",
    "grid_search.fit(X_train, y_train)\n",
    "\n",
    "timer(start_time)\n",
    "print(grid_search.best_params_)\n",
    "\n",
    "\n",
    "xgbc_tuned3 = XGBClassifier(subsample=grid_search.best_params_['subsample'],\n",
    "                                   max_depth=grid_search.best_params_['max_depth'],\n",
    "                                   colsample_bytree=grid_search.best_params_['colsample_bytree'],\n",
    "                                   min_child_weight=grid_search.best_params_['min_child_weight'],\n",
    "                                   learning_rate=grid_search.best_params_['learning_rate'],\n",
    "                                   eta=grid_search.best_params_['eta'])\n",
    "xgbc_tuned3.fit(X_train,y_train)\n",
    "\n",
    "print('\\n')\n",
    "\n",
    "## results F1 and stdF1 ##\n",
    "avgF1set3_baselineXGBoost = cross_val_score(xgbc_tuned3, X, y, scoring=\"f1\", cv = 10).mean() ##<3## \n",
    "stdF1set3_baselineXGBoost = cross_val_score(xgbc_tuned3, X, y, scoring=\"f1\", cv = 10).std() ##<3##\n",
    "print('Mean F1 Score: ', avgF1set3_baselineXGBoost)\n",
    "print('std F1 Score: ', stdF1set3_baselineXGBoost)"
   ]
  },
  {
   "cell_type": "code",
   "execution_count": 20,
   "id": "5a99a48a",
   "metadata": {},
   "outputs": [
    {
     "name": "stdout",
     "output_type": "stream",
     "text": [
      "Fitting 5 folds for each of 729 candidates, totalling 3645 fits\n",
      "\n",
      " Time taken: 0 hours 3 minutes and 12.79 seconds.\n",
      "{'colsample_bytree': 0.1, 'eta': 0.01, 'learning_rate': 0.1, 'max_depth': 5, 'min_child_weight': 5, 'subsample': 0.75}\n",
      "Mean F1 Score:  0.4333333333333333\n",
      "std F1 Score:  0.29059326290271154\n"
     ]
    }
   ],
   "source": [
    "# tuned baseline model_ parameterset4\n",
    "\n",
    "start_time = timer(None)\n",
    "# Instantiate the grid search model\n",
    "grid_search = GridSearchCV(estimator = xgbc, param_grid = paramXGBoost_grid4,\n",
    "                           cv = 5, n_jobs = -1, verbose = 2,scoring='f1')\n",
    "# Fit the grid search to the data\n",
    "grid_search.fit(X_train, y_train)\n",
    "\n",
    "timer(start_time)\n",
    "print(grid_search.best_params_)\n",
    "\n",
    "\n",
    "xgbc_tuned4 = XGBClassifier(subsample=grid_search.best_params_['subsample'],\n",
    "                                   max_depth=grid_search.best_params_['max_depth'],\n",
    "                                   colsample_bytree=grid_search.best_params_['colsample_bytree'],\n",
    "                                   min_child_weight=grid_search.best_params_['min_child_weight'],\n",
    "                                   learning_rate=grid_search.best_params_['learning_rate'],\n",
    "                                   eta=grid_search.best_params_['eta'])\n",
    "xgbc_tuned4.fit(X_train,y_train)\n",
    "\n",
    "## results F1 and stdF1 ##\n",
    "avgF1set4_baselineXGBoost = cross_val_score(xgbc_tuned4, X, y, scoring=\"f1\", cv = 10).mean() ##<3## \n",
    "stdF1set4_baselineXGBoost = cross_val_score(xgbc_tuned4, X, y, scoring=\"f1\", cv = 10).std() ##<3##\n",
    "print('Mean F1 Score: ', avgF1set4_baselineXGBoost)\n",
    "print('std F1 Score: ', stdF1set4_baselineXGBoost)"
   ]
  },
  {
   "cell_type": "code",
   "execution_count": null,
   "id": "066b7cc1",
   "metadata": {},
   "outputs": [],
   "source": []
  },
  {
   "cell_type": "code",
   "execution_count": 23,
   "id": "1dbdbd6e",
   "metadata": {},
   "outputs": [
    {
     "data": {
      "text/plain": [
       "{'n_baselineXGBoost': 2000,\n",
       " 'avgF1_baselineXGBoost': 0.6233333333333333,\n",
       " 'stdF1_baselineXGBoost': 0.2732723509207943,\n",
       " 'avgF1set1_baselineXGBoost': 0.6923809523809524,\n",
       " 'stdF1set1_baselineXGBoost': 0.2964047609484793,\n",
       " 'avgF1set2_baselineXGBoost': 0.7223809523809523,\n",
       " 'stdF1set2_baselineXGBoost': 0.18550721056085134,\n",
       " 'avgF1set3_baselineXGBoost': 0.0,\n",
       " 'stdF1set3_baselineXGBoost': 0.0,\n",
       " 'avgF1set4_baselineXGBoost': 0.4333333333333333,\n",
       " 'stdF1set4_baselineXGBoost': 0.29059326290271154}"
      ]
     },
     "execution_count": 23,
     "metadata": {},
     "output_type": "execute_result"
    }
   ],
   "source": [
    "output_basedlineXGBoost = {'n_baselineXGBoost':n_baselineXGBoost ,\n",
    "                   'avgF1_baselineXGBoost':avgF1_baselineXGBoost ,\n",
    "                   'stdF1_baselineXGBoost': stdF1_baselineXGBoost,\n",
    "                   'avgF1set1_baselineXGBoost':avgF1set1_baselineXGBoost  ,\n",
    "                   'stdF1set1_baselineXGBoost': stdF1set1_baselineXGBoost,\n",
    "                   'avgF1set2_baselineXGBoost':avgF1set2_baselineXGBoost ,\n",
    "                   'stdF1set2_baselineXGBoost':stdF1set2_baselineXGBoost ,\n",
    "                   'avgF1set3_baselineXGBoost':avgF1set3_baselineXGBoost ,\n",
    "                   'stdF1set3_baselineXGBoost':stdF1set3_baselineXGBoost ,\n",
    "                   'avgF1set4_baselineXGBoost':avgF1set4_baselineXGBoost ,\n",
    "                   'stdF1set4_baselineXGBoost':stdF1set4_baselineXGBoost ,\n",
    "                     }\n",
    "output_basedlineXGBoost"
   ]
  },
  {
   "cell_type": "code",
   "execution_count": 24,
   "id": "8a269c9c",
   "metadata": {},
   "outputs": [],
   "source": [
    "output_basedlineXGBoost = pd.DataFrame([output_basedlineXGBoost])\n",
    "output_basedlineXGBoost = output_basedlineXGBoost.transpose()\n",
    "output_basedlineXGBoost.to_csv('output_basedlineXGBoost.csv', index=True)"
   ]
  },
  {
   "cell_type": "code",
   "execution_count": null,
   "id": "3180e6b4",
   "metadata": {},
   "outputs": [],
   "source": []
  },
  {
   "cell_type": "markdown",
   "id": "920dcf0f",
   "metadata": {},
   "source": [
    "## Feature Selection"
   ]
  },
  {
   "cell_type": "code",
   "execution_count": 25,
   "id": "6c0202e6",
   "metadata": {},
   "outputs": [
    {
     "name": "stdout",
     "output_type": "stream",
     "text": [
      "\n",
      " Time taken: 0 hours 0 minutes and 3.13 seconds.\n"
     ]
    },
    {
     "data": {
      "text/html": [
       "<div>\n",
       "<style scoped>\n",
       "    .dataframe tbody tr th:only-of-type {\n",
       "        vertical-align: middle;\n",
       "    }\n",
       "\n",
       "    .dataframe tbody tr th {\n",
       "        vertical-align: top;\n",
       "    }\n",
       "\n",
       "    .dataframe thead th {\n",
       "        text-align: right;\n",
       "    }\n",
       "</style>\n",
       "<table border=\"1\" class=\"dataframe\">\n",
       "  <thead>\n",
       "    <tr style=\"text-align: right;\">\n",
       "      <th></th>\n",
       "      <th>value_MI</th>\n",
       "    </tr>\n",
       "    <tr>\n",
       "      <th>Feature</th>\n",
       "      <th></th>\n",
       "    </tr>\n",
       "  </thead>\n",
       "  <tbody>\n",
       "    <tr>\n",
       "      <th>M22382</th>\n",
       "      <td>0.3694007175992788383</td>\n",
       "    </tr>\n",
       "    <tr>\n",
       "      <th>X12671</th>\n",
       "      <td>0.3386396585969231321</td>\n",
       "    </tr>\n",
       "    <tr>\n",
       "      <th>M26383</th>\n",
       "      <td>0.3060107265315921143</td>\n",
       "    </tr>\n",
       "    <tr>\n",
       "      <th>H23544</th>\n",
       "      <td>0.2957035414261122153</td>\n",
       "    </tr>\n",
       "    <tr>\n",
       "      <th>X55715</th>\n",
       "      <td>0.2837018809550639897</td>\n",
       "    </tr>\n",
       "    <tr>\n",
       "      <th>...</th>\n",
       "      <td>...</td>\n",
       "    </tr>\n",
       "    <tr>\n",
       "      <th>D50063</th>\n",
       "      <td>0.0000000000000000000</td>\n",
       "    </tr>\n",
       "    <tr>\n",
       "      <th>M25160</th>\n",
       "      <td>0.0000000000000000000</td>\n",
       "    </tr>\n",
       "    <tr>\n",
       "      <th>T61090</th>\n",
       "      <td>0.0000000000000000000</td>\n",
       "    </tr>\n",
       "    <tr>\n",
       "      <th>D31767</th>\n",
       "      <td>0.0000000000000000000</td>\n",
       "    </tr>\n",
       "    <tr>\n",
       "      <th>M16029_</th>\n",
       "      <td>0.0000000000000000000</td>\n",
       "    </tr>\n",
       "  </tbody>\n",
       "</table>\n",
       "<p>2000 rows × 1 columns</p>\n",
       "</div>"
      ],
      "text/plain": [
       "                      value_MI\n",
       "Feature                       \n",
       "M22382   0.3694007175992788383\n",
       "X12671   0.3386396585969231321\n",
       "M26383   0.3060107265315921143\n",
       "H23544   0.2957035414261122153\n",
       "X55715   0.2837018809550639897\n",
       "...                        ...\n",
       "D50063   0.0000000000000000000\n",
       "M25160   0.0000000000000000000\n",
       "T61090   0.0000000000000000000\n",
       "D31767   0.0000000000000000000\n",
       "M16029_  0.0000000000000000000\n",
       "\n",
       "[2000 rows x 1 columns]"
      ]
     },
     "execution_count": 25,
     "metadata": {},
     "output_type": "execute_result"
    }
   ],
   "source": [
    "# Mutual Information: Filter method\n",
    "start_time = timer(None)\n",
    "mi_XGBoostscore = MIC(X_train,y_train)\n",
    "mi_XGBoostfeatures = pd.DataFrame({'Feature':list(X_.columns),\n",
    "                            'value_MI':mi_XGBoostscore})\n",
    "mi_XGBoostfeatures['value_MI'] = mi_XGBoostfeatures['value_MI'].map('{:,.19f}'.format)\n",
    "mi_XGBoostfeatures = mi_XGBoostfeatures.sort_values(by='value_MI',ascending=False)\n",
    "mi_XGBoostfeatures = mi_XGBoostfeatures.set_index('Feature')\n",
    "mi_XGBoostfeatures.to_csv('mi_XGBoostfeatures.csv', index=True)\n",
    "timer(start_time)\n",
    "mi_XGBoostfeatures"
   ]
  },
  {
   "cell_type": "code",
   "execution_count": 26,
   "id": "d2231558",
   "metadata": {},
   "outputs": [
    {
     "name": "stderr",
     "output_type": "stream",
     "text": [
      "ntree_limit is deprecated, use `iteration_range` or model slicing instead.\n"
     ]
    },
    {
     "name": "stdout",
     "output_type": "stream",
     "text": [
      "\n",
      " Time taken: 0 hours 0 minutes and 0.47 seconds.\n"
     ]
    },
    {
     "data": {
      "text/html": [
       "<div>\n",
       "<style scoped>\n",
       "    .dataframe tbody tr th:only-of-type {\n",
       "        vertical-align: middle;\n",
       "    }\n",
       "\n",
       "    .dataframe tbody tr th {\n",
       "        vertical-align: top;\n",
       "    }\n",
       "\n",
       "    .dataframe thead th {\n",
       "        text-align: right;\n",
       "    }\n",
       "</style>\n",
       "<table border=\"1\" class=\"dataframe\">\n",
       "  <thead>\n",
       "    <tr style=\"text-align: right;\">\n",
       "      <th></th>\n",
       "      <th>Feature</th>\n",
       "      <th>value_SHAP</th>\n",
       "    </tr>\n",
       "  </thead>\n",
       "  <tbody>\n",
       "    <tr>\n",
       "      <th>779</th>\n",
       "      <td>H40095</td>\n",
       "      <td>0.3403580188751220703</td>\n",
       "    </tr>\n",
       "    <tr>\n",
       "      <th>248</th>\n",
       "      <td>M63391</td>\n",
       "      <td>0.3188769221305847168</td>\n",
       "    </tr>\n",
       "    <tr>\n",
       "      <th>1771</th>\n",
       "      <td>H08393</td>\n",
       "      <td>0.2932315468788146973</td>\n",
       "    </tr>\n",
       "    <tr>\n",
       "      <th>1670</th>\n",
       "      <td>M26383</td>\n",
       "      <td>0.2829504311084747314</td>\n",
       "    </tr>\n",
       "    <tr>\n",
       "      <th>492</th>\n",
       "      <td>R87126</td>\n",
       "      <td>0.2168045192956924438</td>\n",
       "    </tr>\n",
       "    <tr>\n",
       "      <th>...</th>\n",
       "      <td>...</td>\n",
       "      <td>...</td>\n",
       "    </tr>\n",
       "    <tr>\n",
       "      <th>673</th>\n",
       "      <td>H89983</td>\n",
       "      <td>0.0000000000000000000</td>\n",
       "    </tr>\n",
       "    <tr>\n",
       "      <th>672</th>\n",
       "      <td>H71150</td>\n",
       "      <td>0.0000000000000000000</td>\n",
       "    </tr>\n",
       "    <tr>\n",
       "      <th>671</th>\n",
       "      <td>D25216</td>\n",
       "      <td>0.0000000000000000000</td>\n",
       "    </tr>\n",
       "    <tr>\n",
       "      <th>670</th>\n",
       "      <td>U18934</td>\n",
       "      <td>0.0000000000000000000</td>\n",
       "    </tr>\n",
       "    <tr>\n",
       "      <th>1999</th>\n",
       "      <td>T49647</td>\n",
       "      <td>0.0000000000000000000</td>\n",
       "    </tr>\n",
       "  </tbody>\n",
       "</table>\n",
       "<p>2000 rows × 2 columns</p>\n",
       "</div>"
      ],
      "text/plain": [
       "     Feature             value_SHAP\n",
       "779   H40095  0.3403580188751220703\n",
       "248   M63391  0.3188769221305847168\n",
       "1771  H08393  0.2932315468788146973\n",
       "1670  M26383  0.2829504311084747314\n",
       "492   R87126  0.2168045192956924438\n",
       "...      ...                    ...\n",
       "673   H89983  0.0000000000000000000\n",
       "672   H71150  0.0000000000000000000\n",
       "671   D25216  0.0000000000000000000\n",
       "670   U18934  0.0000000000000000000\n",
       "1999  T49647  0.0000000000000000000\n",
       "\n",
       "[2000 rows x 2 columns]"
      ]
     },
     "execution_count": 26,
     "metadata": {},
     "output_type": "execute_result"
    }
   ],
   "source": [
    "# SHAP: Wrapper method\n",
    "\n",
    "start_time = timer(None)\n",
    "\n",
    "# Explain model predictions using shap library:\n",
    "explainer = shap.TreeExplainer(xgbc_tuned2) #### changeherepearl\n",
    "shap_values = explainer.shap_values(X_train)\n",
    "vals= np.abs(shap_values).mean(0)\n",
    "\n",
    "SHAP_XGBoostfeatures= pd.DataFrame({'Feature':list(X_.columns),\n",
    "                                 'value_SHAP':vals})\n",
    "SHAP_XGBoostfeatures['value_SHAP'] = SHAP_XGBoostfeatures['value_SHAP'].map('{:,.19f}'.format)\n",
    "SHAP_XGBoostfeatures = SHAP_XGBoostfeatures.sort_values(by=['value_SHAP'],ascending=False)\n",
    "SHAP_XGBoostfeatures.to_csv('SHAP_XGBoostfeatures.csv', index=True)\n",
    "\n",
    "timer(start_time)\n",
    "SHAP_XGBoostfeatures"
   ]
  },
  {
   "cell_type": "code",
   "execution_count": 27,
   "id": "5c80f917",
   "metadata": {},
   "outputs": [
    {
     "name": "stdout",
     "output_type": "stream",
     "text": [
      "\n",
      " Time taken: 0 hours 0 minutes and 0.06 seconds.\n"
     ]
    },
    {
     "data": {
      "text/html": [
       "<div>\n",
       "<style scoped>\n",
       "    .dataframe tbody tr th:only-of-type {\n",
       "        vertical-align: middle;\n",
       "    }\n",
       "\n",
       "    .dataframe tbody tr th {\n",
       "        vertical-align: top;\n",
       "    }\n",
       "\n",
       "    .dataframe thead th {\n",
       "        text-align: right;\n",
       "    }\n",
       "</style>\n",
       "<table border=\"1\" class=\"dataframe\">\n",
       "  <thead>\n",
       "    <tr style=\"text-align: right;\">\n",
       "      <th></th>\n",
       "      <th>value_embed</th>\n",
       "    </tr>\n",
       "    <tr>\n",
       "      <th>Feature</th>\n",
       "      <th></th>\n",
       "    </tr>\n",
       "  </thead>\n",
       "  <tbody>\n",
       "    <tr>\n",
       "      <th>U17899</th>\n",
       "      <td>0.0683292821049690247</td>\n",
       "    </tr>\n",
       "    <tr>\n",
       "      <th>M76378__</th>\n",
       "      <td>0.0527550950646400452</td>\n",
       "    </tr>\n",
       "    <tr>\n",
       "      <th>M63391</th>\n",
       "      <td>0.0404410138726234436</td>\n",
       "    </tr>\n",
       "    <tr>\n",
       "      <th>M26383</th>\n",
       "      <td>0.0391832403838634491</td>\n",
       "    </tr>\n",
       "    <tr>\n",
       "      <th>R87126</th>\n",
       "      <td>0.0351083092391490936</td>\n",
       "    </tr>\n",
       "    <tr>\n",
       "      <th>...</th>\n",
       "      <td>...</td>\n",
       "    </tr>\n",
       "    <tr>\n",
       "      <th>H89983</th>\n",
       "      <td>0.0000000000000000000</td>\n",
       "    </tr>\n",
       "    <tr>\n",
       "      <th>H71150</th>\n",
       "      <td>0.0000000000000000000</td>\n",
       "    </tr>\n",
       "    <tr>\n",
       "      <th>D25216</th>\n",
       "      <td>0.0000000000000000000</td>\n",
       "    </tr>\n",
       "    <tr>\n",
       "      <th>U18934</th>\n",
       "      <td>0.0000000000000000000</td>\n",
       "    </tr>\n",
       "    <tr>\n",
       "      <th>T49647</th>\n",
       "      <td>0.0000000000000000000</td>\n",
       "    </tr>\n",
       "  </tbody>\n",
       "</table>\n",
       "<p>2000 rows × 1 columns</p>\n",
       "</div>"
      ],
      "text/plain": [
       "                    value_embed\n",
       "Feature                        \n",
       "U17899    0.0683292821049690247\n",
       "M76378__  0.0527550950646400452\n",
       "M63391    0.0404410138726234436\n",
       "M26383    0.0391832403838634491\n",
       "R87126    0.0351083092391490936\n",
       "...                         ...\n",
       "H89983    0.0000000000000000000\n",
       "H71150    0.0000000000000000000\n",
       "D25216    0.0000000000000000000\n",
       "U18934    0.0000000000000000000\n",
       "T49647    0.0000000000000000000\n",
       "\n",
       "[2000 rows x 1 columns]"
      ]
     },
     "execution_count": 27,
     "metadata": {},
     "output_type": "execute_result"
    }
   ],
   "source": [
    "# built-in Feature Importance: Embedded mehod\n",
    "start_time = timer(None)\n",
    "embed_XGBoostfeatures = pd.DataFrame({'Feature':list(X_.columns),\n",
    "                                 'value_embed':xgbc_tuned2.feature_importances_}) #### changeherepearl\n",
    "embed_XGBoostfeatures['value_embed'] = embed_XGBoostfeatures['value_embed'].map('{:,.19f}'.format)\n",
    "embed_XGBoostfeatures = embed_XGBoostfeatures.sort_values(by=['value_embed'],ascending=False)\n",
    "embed_XGBoostfeatures = embed_XGBoostfeatures.set_index('Feature')\n",
    "embed_XGBoostfeatures.to_csv('embed_XGBoostfeatures.csv', index=True)\n",
    "timer(start_time)\n",
    "embed_XGBoostfeatures"
   ]
  },
  {
   "cell_type": "code",
   "execution_count": null,
   "id": "d8d89f18",
   "metadata": {},
   "outputs": [],
   "source": []
  },
  {
   "cell_type": "markdown",
   "id": "e202148a",
   "metadata": {},
   "source": [
    "# single FS"
   ]
  },
  {
   "cell_type": "markdown",
   "id": "ccd87257",
   "metadata": {},
   "source": [
    "## 1.Mutual Information"
   ]
  },
  {
   "cell_type": "markdown",
   "id": "cc8524f3",
   "metadata": {},
   "source": [
    "### threshold: logbase2(n)"
   ]
  },
  {
   "cell_type": "code",
   "execution_count": 28,
   "id": "f4a4e1bc",
   "metadata": {},
   "outputs": [
    {
     "name": "stdout",
     "output_type": "stream",
     "text": [
      "thres_base2n (value,iloc_threshold)(0.2797892239445431, 5)\n",
      "Mean F1 Score:  0.5847619047619047\n",
      "std F1 Score:  0.3284527045684386\n"
     ]
    }
   ],
   "source": [
    "# threshold: logbase2(n)\n",
    "mi_XGBoostfeatures_single = pd.read_csv('mi_XGBoostfeatures.csv')\n",
    "k =(filter_arr(mi_XGBoostfeatures_single['value_MI'], thres_base2n-1))\n",
    "print(\"thres_base2n (value,iloc_threshold)\" + str(filter_arr(mi_XGBoostfeatures_single['value_MI'], thres_base2n-1)))\n",
    "mi_XGBoostfeatures_single = mi_XGBoostfeatures_single.iloc[:k[1]+1]\n",
    "\n",
    "df_filter = df1.filter(items=mi_XGBoostfeatures_single['Feature'])\n",
    "X = df_filter\n",
    "y = df1['class']\n",
    "\n",
    "\n",
    "\n",
    "\n",
    "## before tuned ##\n",
    "X_train, X_test, y_train, y_test = train_test_split(X, y, test_size=0.2, random_state=123) \n",
    "xgbc = XGBClassifier(random_state=123)\n",
    "xgbc.fit(X_train,y_train)\n",
    "## results F1 and stdF1 ##\n",
    "avgF1_singleMI_base2XGBoost = cross_val_score(xgbc, X, y, scoring=\"f1\", cv = 10).mean() ##<3## \n",
    "stdF1_singleMI_base2XGBoost = cross_val_score(xgbc, X, y, scoring=\"f1\", cv = 10).std() ##<3##\n",
    "print('Mean F1 Score: ', avgF1_singleMI_base2XGBoost)\n",
    "print('std F1 Score: ', stdF1_singleMI_base2XGBoost)"
   ]
  },
  {
   "cell_type": "code",
   "execution_count": 29,
   "id": "80ca4fe2",
   "metadata": {},
   "outputs": [
    {
     "data": {
      "text/plain": [
       "6"
      ]
     },
     "execution_count": 29,
     "metadata": {},
     "output_type": "execute_result"
    }
   ],
   "source": [
    "n_singleMI_base2XGBoost = k[1]+1\n",
    "n_singleMI_base2XGBoost"
   ]
  },
  {
   "cell_type": "code",
   "execution_count": 30,
   "id": "6dcf627e",
   "metadata": {},
   "outputs": [
    {
     "name": "stdout",
     "output_type": "stream",
     "text": [
      "Fitting 5 folds for each of 729 candidates, totalling 3645 fits\n",
      "\n",
      " Time taken: 0 hours 3 minutes and 29.63 seconds.\n",
      "{'colsample_bytree': 0.5, 'eta': 0.01, 'learning_rate': 0.01, 'max_depth': 5, 'min_child_weight': 1, 'subsample': 0.5}\n",
      "Mean F1 Score:  0.6523809523809524\n",
      "std F1 Score:  0.37724385372073066\n"
     ]
    }
   ],
   "source": [
    "## tuned parameter_set1##\n",
    "\n",
    "start_time = timer(None)\n",
    "# Instantiate the grid search model\n",
    "grid_search = GridSearchCV(estimator = xgbc, param_grid = paramXGBoost_grid1,\n",
    "                           cv = 5, n_jobs = -1, verbose = 2,scoring='f1')\n",
    "# Fit the grid search to the data\n",
    "grid_search.fit(X_train, y_train)\n",
    "\n",
    "timer(start_time)\n",
    "print(grid_search.best_params_)\n",
    "\n",
    "\n",
    "xgbc_tuned = XGBClassifier(subsample=grid_search.best_params_['subsample'],\n",
    "                                   max_depth=grid_search.best_params_['max_depth'],\n",
    "                                   colsample_bytree=grid_search.best_params_['colsample_bytree'],\n",
    "                                   min_child_weight=grid_search.best_params_['min_child_weight'],\n",
    "                                   learning_rate=grid_search.best_params_['learning_rate'],\n",
    "                                   eta=grid_search.best_params_['eta'])\n",
    "xgbc_tuned.fit(X_train,y_train)\n",
    "\n",
    "## results F1 and stdF1 ##\n",
    "avgF1set1_singleMI_base2tunedXGBoost  = cross_val_score(xgbc_tuned, X, y, scoring=\"f1\", cv = 10).mean() ##<3## \n",
    "stdF1set1_singleMI_base2tunedXGBoost  = cross_val_score(xgbc_tuned, X, y, scoring=\"f1\", cv = 10).std() ##<3##\n",
    "print('Mean F1 Score: ', avgF1set1_singleMI_base2tunedXGBoost)\n",
    "print('std F1 Score: ', stdF1set1_singleMI_base2tunedXGBoost)"
   ]
  },
  {
   "cell_type": "code",
   "execution_count": 31,
   "id": "84949f2a",
   "metadata": {},
   "outputs": [
    {
     "name": "stdout",
     "output_type": "stream",
     "text": [
      "Fitting 5 folds for each of 729 candidates, totalling 3645 fits\n",
      "\n",
      " Time taken: 0 hours 3 minutes and 39.33 seconds.\n",
      "{'colsample_bytree': 1, 'eta': 0.01, 'learning_rate': 0.05, 'max_depth': 7, 'min_child_weight': 0.5, 'subsample': 0.2}\n",
      "Mean F1 Score:  0.6423809523809524\n",
      "std F1 Score:  0.3824402492124581\n"
     ]
    }
   ],
   "source": [
    "## tuned parameter_set2##\n",
    "\n",
    "start_time = timer(None)\n",
    "# Instantiate the grid search model\n",
    "grid_search = GridSearchCV(estimator = xgbc, param_grid = paramXGBoost_grid2,\n",
    "                           cv = 5, n_jobs = -1, verbose = 2,scoring='f1')\n",
    "# Fit the grid search to the data\n",
    "grid_search.fit(X_train, y_train)\n",
    "\n",
    "timer(start_time)\n",
    "print(grid_search.best_params_)\n",
    "\n",
    "\n",
    "xgbc_tuned = XGBClassifier(subsample=grid_search.best_params_['subsample'],\n",
    "                                   max_depth=grid_search.best_params_['max_depth'],\n",
    "                                   colsample_bytree=grid_search.best_params_['colsample_bytree'],\n",
    "                                   min_child_weight=grid_search.best_params_['min_child_weight'],\n",
    "                                   learning_rate=grid_search.best_params_['learning_rate'],\n",
    "                                   eta=grid_search.best_params_['eta'])\n",
    "xgbc_tuned.fit(X_train,y_train)\n",
    "\n",
    "## results F1 and stdF1 ##\n",
    "avgF1set2_singleMI_base2tunedXGBoost  = cross_val_score(xgbc_tuned, X, y, scoring=\"f1\", cv = 10).mean() ##<3## \n",
    "stdF1set2_singleMI_base2tunedXGBoost  = cross_val_score(xgbc_tuned, X, y, scoring=\"f1\", cv = 10).std() ##<3##\n",
    "print('Mean F1 Score: ', avgF1set2_singleMI_base2tunedXGBoost)\n",
    "print('std F1 Score: ', stdF1set2_singleMI_base2tunedXGBoost)"
   ]
  },
  {
   "cell_type": "code",
   "execution_count": 32,
   "id": "4814fad4",
   "metadata": {},
   "outputs": [
    {
     "name": "stdout",
     "output_type": "stream",
     "text": [
      "Fitting 5 folds for each of 729 candidates, totalling 3645 fits\n",
      "\n",
      " Time taken: 0 hours 1 minutes and 54.43 seconds.\n",
      "{'colsample_bytree': 0.1, 'eta': 0.01, 'learning_rate': 0.1, 'max_depth': 10, 'min_child_weight': 20, 'subsample': 0.2}\n",
      "Mean F1 Score:  0.0\n",
      "std F1 Score:  0.0\n"
     ]
    }
   ],
   "source": [
    "## tuned parameter_set3##\n",
    "\n",
    "start_time = timer(None)\n",
    "# Instantiate the grid search model\n",
    "grid_search = GridSearchCV(estimator = xgbc, param_grid = paramXGBoost_grid3,\n",
    "                           cv = 5, n_jobs = -1, verbose = 2,scoring='f1')\n",
    "# Fit the grid search to the data\n",
    "grid_search.fit(X_train, y_train)\n",
    "\n",
    "timer(start_time)\n",
    "print(grid_search.best_params_)\n",
    "\n",
    "\n",
    "xgbc_tuned = XGBClassifier(subsample=grid_search.best_params_['subsample'],\n",
    "                                   max_depth=grid_search.best_params_['max_depth'],\n",
    "                                   colsample_bytree=grid_search.best_params_['colsample_bytree'],\n",
    "                                   min_child_weight=grid_search.best_params_['min_child_weight'],\n",
    "                                   learning_rate=grid_search.best_params_['learning_rate'],\n",
    "                                   eta=grid_search.best_params_['eta'])\n",
    "xgbc_tuned.fit(X_train,y_train)\n",
    "\n",
    "## results F1 and stdF1 ##\n",
    "avgF1set3_singleMI_base2tunedXGBoost  = cross_val_score(xgbc_tuned, X, y, scoring=\"f1\", cv = 10).mean() ##<3## \n",
    "stdF1set3_singleMI_base2tunedXGBoost  = cross_val_score(xgbc_tuned, X, y, scoring=\"f1\", cv = 10).std() ##<3##\n",
    "print('Mean F1 Score: ', avgF1set3_singleMI_base2tunedXGBoost)\n",
    "print('std F1 Score: ', stdF1set3_singleMI_base2tunedXGBoost)"
   ]
  },
  {
   "cell_type": "code",
   "execution_count": 33,
   "id": "d67e0d14",
   "metadata": {},
   "outputs": [
    {
     "name": "stdout",
     "output_type": "stream",
     "text": [
      "Fitting 5 folds for each of 729 candidates, totalling 3645 fits\n",
      "\n",
      " Time taken: 0 hours 4 minutes and 7.57 seconds.\n",
      "{'colsample_bytree': 0.1, 'eta': 0.01, 'learning_rate': 0.1, 'max_depth': 5, 'min_child_weight': 5, 'subsample': 0.75}\n",
      "Mean F1 Score:  0.1\n",
      "std F1 Score:  0.30000000000000004\n"
     ]
    }
   ],
   "source": [
    "## tuned parameter_set4##\n",
    "\n",
    "start_time = timer(None)\n",
    "# Instantiate the grid search model\n",
    "grid_search = GridSearchCV(estimator = xgbc, param_grid = paramXGBoost_grid4,\n",
    "                           cv = 5, n_jobs = -1, verbose = 2,scoring='f1')\n",
    "# Fit the grid search to the data\n",
    "grid_search.fit(X_train, y_train)\n",
    "\n",
    "timer(start_time)\n",
    "print(grid_search.best_params_)\n",
    "\n",
    "\n",
    "xgbc_tuned = XGBClassifier(subsample=grid_search.best_params_['subsample'],\n",
    "                                   max_depth=grid_search.best_params_['max_depth'],\n",
    "                                   colsample_bytree=grid_search.best_params_['colsample_bytree'],\n",
    "                                   min_child_weight=grid_search.best_params_['min_child_weight'],\n",
    "                                   learning_rate=grid_search.best_params_['learning_rate'],\n",
    "                                   eta=grid_search.best_params_['eta'])\n",
    "xgbc_tuned.fit(X_train,y_train)\n",
    "\n",
    "## results F1 and stdF1 ##\n",
    "avgF1set4_singleMI_base2tunedXGBoost  = cross_val_score(xgbc_tuned, X, y, scoring=\"f1\", cv = 10).mean() ##<3## \n",
    "stdF1set4_singleMI_base2tunedXGBoost  = cross_val_score(xgbc_tuned, X, y, scoring=\"f1\", cv = 10).std() ##<3##\n",
    "print('Mean F1 Score: ', avgF1set4_singleMI_base2tunedXGBoost)\n",
    "print('std F1 Score: ', stdF1set4_singleMI_base2tunedXGBoost)"
   ]
  },
  {
   "cell_type": "markdown",
   "id": "08e16732",
   "metadata": {},
   "source": [
    "### threshold: 2.5%"
   ]
  },
  {
   "cell_type": "code",
   "execution_count": 34,
   "id": "d84e0a58",
   "metadata": {},
   "outputs": [
    {
     "name": "stdout",
     "output_type": "stream",
     "text": [
      "thres_p2_5 (value,iloc_threshold)(0.1900884124679618, 49)\n",
      "Mean F1 Score:  0.6923809523809524\n",
      "std F1 Score:  0.2964047609484793\n"
     ]
    }
   ],
   "source": [
    "# threshold: 2.5%\n",
    "mi_XGBoostfeatures_single = pd.read_csv('mi_XGBoostfeatures.csv')\n",
    "k =(filter_arr(mi_XGBoostfeatures_single['value_MI'], thres_p2_5-1))\n",
    "print(\"thres_p2_5 (value,iloc_threshold)\" + str(filter_arr(mi_XGBoostfeatures_single['value_MI'], thres_p2_5-1)))\n",
    "mi_XGBoostfeatures_single = mi_XGBoostfeatures_single.iloc[:k[1]+1]\n",
    "\n",
    "df_filter = df1.filter(items=mi_XGBoostfeatures_single['Feature'])\n",
    "X = df_filter\n",
    "y = df1['class']\n",
    "\n",
    "\n",
    "\n",
    "\n",
    "## before tuned ##\n",
    "X_train, X_test, y_train, y_test = train_test_split(X, y, test_size=0.2, random_state=123) \n",
    "xgbc = XGBClassifier(random_state=123)\n",
    "xgbc.fit(X_train,y_train)\n",
    "## results F1 and stdF1 ##\n",
    "avgF1_singleMI_p2_5XGBoost = cross_val_score(xgbc, X, y, scoring=\"f1\", cv = 10).mean() ##<3## \n",
    "stdF1_singleMI_p2_5XGBoost = cross_val_score(xgbc, X, y, scoring=\"f1\", cv = 10).std() ##<3##\n",
    "print('Mean F1 Score: ', avgF1_singleMI_p2_5XGBoost)\n",
    "print('std F1 Score: ', stdF1_singleMI_p2_5XGBoost)"
   ]
  },
  {
   "cell_type": "code",
   "execution_count": 35,
   "id": "37430c7f",
   "metadata": {},
   "outputs": [
    {
     "data": {
      "text/plain": [
       "50"
      ]
     },
     "execution_count": 35,
     "metadata": {},
     "output_type": "execute_result"
    }
   ],
   "source": [
    "n_singleMI_p2_5XGBoost = k[1]+1\n",
    "n_singleMI_p2_5XGBoost"
   ]
  },
  {
   "cell_type": "code",
   "execution_count": 36,
   "id": "e3c0c4ea",
   "metadata": {},
   "outputs": [
    {
     "name": "stdout",
     "output_type": "stream",
     "text": [
      "Fitting 5 folds for each of 729 candidates, totalling 3645 fits\n",
      "\n",
      " Time taken: 0 hours 3 minutes and 53.73 seconds.\n",
      "{'colsample_bytree': 0.5, 'eta': 0.01, 'learning_rate': 0.1, 'max_depth': 5, 'min_child_weight': 1, 'subsample': 0.5}\n",
      "Mean F1 Score:  0.71\n",
      "std F1 Score:  0.28676354952004157\n"
     ]
    }
   ],
   "source": [
    "## tuned parameter_set1##\n",
    "\n",
    "start_time = timer(None)\n",
    "# Instantiate the grid search model\n",
    "grid_search = GridSearchCV(estimator = xgbc, param_grid = paramXGBoost_grid1,\n",
    "                           cv = 5, n_jobs = -1, verbose = 2,scoring='f1')\n",
    "# Fit the grid search to the data\n",
    "grid_search.fit(X_train, y_train)\n",
    "\n",
    "timer(start_time)\n",
    "print(grid_search.best_params_)\n",
    "\n",
    "\n",
    "xgbc_tuned = XGBClassifier(subsample=grid_search.best_params_['subsample'],\n",
    "                                   max_depth=grid_search.best_params_['max_depth'],\n",
    "                                   colsample_bytree=grid_search.best_params_['colsample_bytree'],\n",
    "                                   min_child_weight=grid_search.best_params_['min_child_weight'],\n",
    "                                   learning_rate=grid_search.best_params_['learning_rate'],\n",
    "                                   eta=grid_search.best_params_['eta'])\n",
    "xgbc_tuned.fit(X_train,y_train)\n",
    "\n",
    "## results F1 and stdF1 ##\n",
    "avgF1set1_singleMI_p2_5tunedXGBoost  = cross_val_score(xgbc_tuned, X, y, scoring=\"f1\", cv = 10).mean() ##<3## \n",
    "stdF1set1_singleMI_p2_5tunedXGBoost  = cross_val_score(xgbc_tuned, X, y, scoring=\"f1\", cv = 10).std() ##<3##\n",
    "print('Mean F1 Score: ', avgF1set1_singleMI_p2_5tunedXGBoost)\n",
    "print('std F1 Score: ', stdF1set1_singleMI_p2_5tunedXGBoost)"
   ]
  },
  {
   "cell_type": "code",
   "execution_count": 37,
   "id": "4a7f1ba5",
   "metadata": {},
   "outputs": [
    {
     "name": "stdout",
     "output_type": "stream",
     "text": [
      "Fitting 5 folds for each of 729 candidates, totalling 3645 fits\n",
      "\n",
      " Time taken: 0 hours 3 minutes and 36.18 seconds.\n",
      "{'colsample_bytree': 0.5, 'eta': 0.01, 'learning_rate': 0.1, 'max_depth': 7, 'min_child_weight': 0.5, 'subsample': 0.2}\n",
      "Mean F1 Score:  0.7066666666666668\n",
      "std F1 Score:  0.30724582991474436\n"
     ]
    }
   ],
   "source": [
    "## tuned parameter_set2##\n",
    "\n",
    "start_time = timer(None)\n",
    "# Instantiate the grid search model\n",
    "grid_search = GridSearchCV(estimator = xgbc, param_grid = paramXGBoost_grid2,\n",
    "                           cv = 5, n_jobs = -1, verbose = 2,scoring='f1')\n",
    "# Fit the grid search to the data\n",
    "grid_search.fit(X_train, y_train)\n",
    "\n",
    "timer(start_time)\n",
    "print(grid_search.best_params_)\n",
    "\n",
    "\n",
    "xgbc_tuned = XGBClassifier(subsample=grid_search.best_params_['subsample'],\n",
    "                                   max_depth=grid_search.best_params_['max_depth'],\n",
    "                                   colsample_bytree=grid_search.best_params_['colsample_bytree'],\n",
    "                                   min_child_weight=grid_search.best_params_['min_child_weight'],\n",
    "                                   learning_rate=grid_search.best_params_['learning_rate'],\n",
    "                                   eta=grid_search.best_params_['eta'])\n",
    "xgbc_tuned.fit(X_train,y_train)\n",
    "\n",
    "## results F1 and stdF1 ##\n",
    "avgF1set2_singleMI_p2_5tunedXGBoost  = cross_val_score(xgbc_tuned, X, y, scoring=\"f1\", cv = 10).mean() ##<3## \n",
    "stdF1set2_singleMI_p2_5tunedXGBoost  = cross_val_score(xgbc_tuned, X, y, scoring=\"f1\", cv = 10).std() ##<3##\n",
    "print('Mean F1 Score: ', avgF1set2_singleMI_p2_5tunedXGBoost)\n",
    "print('std F1 Score: ', stdF1set2_singleMI_p2_5tunedXGBoost)"
   ]
  },
  {
   "cell_type": "code",
   "execution_count": 38,
   "id": "8bf114d3",
   "metadata": {},
   "outputs": [
    {
     "name": "stdout",
     "output_type": "stream",
     "text": [
      "Fitting 5 folds for each of 729 candidates, totalling 3645 fits\n",
      "\n",
      " Time taken: 0 hours 1 minutes and 58.05 seconds.\n",
      "{'colsample_bytree': 0.1, 'eta': 0.01, 'learning_rate': 0.1, 'max_depth': 10, 'min_child_weight': 20, 'subsample': 0.2}\n",
      "Mean F1 Score:  0.0\n",
      "std F1 Score:  0.0\n"
     ]
    }
   ],
   "source": [
    "## tuned parameter_set3##\n",
    "\n",
    "start_time = timer(None)\n",
    "# Instantiate the grid search model\n",
    "grid_search = GridSearchCV(estimator = xgbc, param_grid = paramXGBoost_grid3,\n",
    "                           cv = 5, n_jobs = -1, verbose = 2,scoring='f1')\n",
    "# Fit the grid search to the data\n",
    "grid_search.fit(X_train, y_train)\n",
    "\n",
    "timer(start_time)\n",
    "print(grid_search.best_params_)\n",
    "\n",
    "\n",
    "xgbc_tuned = XGBClassifier(subsample=grid_search.best_params_['subsample'],\n",
    "                                   max_depth=grid_search.best_params_['max_depth'],\n",
    "                                   colsample_bytree=grid_search.best_params_['colsample_bytree'],\n",
    "                                   min_child_weight=grid_search.best_params_['min_child_weight'],\n",
    "                                   learning_rate=grid_search.best_params_['learning_rate'],\n",
    "                                   eta=grid_search.best_params_['eta'])\n",
    "xgbc_tuned.fit(X_train,y_train)\n",
    "\n",
    "## results F1 and stdF1 ##\n",
    "avgF1set3_singleMI_p2_5tunedXGBoost  = cross_val_score(xgbc_tuned, X, y, scoring=\"f1\", cv = 10).mean() ##<3## \n",
    "stdF1set3_singleMI_p2_5tunedXGBoost  = cross_val_score(xgbc_tuned, X, y, scoring=\"f1\", cv = 10).std() ##<3##\n",
    "print('Mean F1 Score: ', avgF1set3_singleMI_p2_5tunedXGBoost)\n",
    "print('std F1 Score: ', stdF1set3_singleMI_p2_5tunedXGBoost)"
   ]
  },
  {
   "cell_type": "code",
   "execution_count": 39,
   "id": "948d2d77",
   "metadata": {},
   "outputs": [
    {
     "name": "stdout",
     "output_type": "stream",
     "text": [
      "Fitting 5 folds for each of 729 candidates, totalling 3645 fits\n",
      "\n",
      " Time taken: 0 hours 2 minutes and 29.98 seconds.\n",
      "{'colsample_bytree': 0.1, 'eta': 0.01, 'learning_rate': 0.1, 'max_depth': 5, 'min_child_weight': 5, 'subsample': 0.75}\n",
      "Mean F1 Score:  0.3333333333333333\n",
      "std F1 Score:  0.33333333333333337\n"
     ]
    }
   ],
   "source": [
    "## tuned parameter_set4##\n",
    "\n",
    "start_time = timer(None)\n",
    "# Instantiate the grid search model\n",
    "grid_search = GridSearchCV(estimator = xgbc, param_grid = paramXGBoost_grid4,\n",
    "                           cv = 5, n_jobs = -1, verbose = 2,scoring='f1')\n",
    "# Fit the grid search to the data\n",
    "grid_search.fit(X_train, y_train)\n",
    "\n",
    "timer(start_time)\n",
    "print(grid_search.best_params_)\n",
    "\n",
    "\n",
    "xgbc_tuned = XGBClassifier(subsample=grid_search.best_params_['subsample'],\n",
    "                                   max_depth=grid_search.best_params_['max_depth'],\n",
    "                                   colsample_bytree=grid_search.best_params_['colsample_bytree'],\n",
    "                                   min_child_weight=grid_search.best_params_['min_child_weight'],\n",
    "                                   learning_rate=grid_search.best_params_['learning_rate'],\n",
    "                                   eta=grid_search.best_params_['eta'])\n",
    "xgbc_tuned.fit(X_train,y_train)\n",
    "\n",
    "## results F1 and stdF1 ##\n",
    "avgF1set4_singleMI_p2_5tunedXGBoost  = cross_val_score(xgbc_tuned, X, y, scoring=\"f1\", cv = 10).mean() ##<3## \n",
    "stdF1set4_singleMI_p2_5tunedXGBoost  = cross_val_score(xgbc_tuned, X, y, scoring=\"f1\", cv = 10).std() ##<3##\n",
    "print('Mean F1 Score: ', avgF1set4_singleMI_p2_5tunedXGBoost)\n",
    "print('std F1 Score: ', stdF1set4_singleMI_p2_5tunedXGBoost)"
   ]
  },
  {
   "cell_type": "raw",
   "id": "afa7146b",
   "metadata": {},
   "source": []
  },
  {
   "cell_type": "code",
   "execution_count": null,
   "id": "553e29f2",
   "metadata": {},
   "outputs": [],
   "source": []
  },
  {
   "cell_type": "code",
   "execution_count": null,
   "id": "a9fea8e3",
   "metadata": {},
   "outputs": [],
   "source": []
  },
  {
   "cell_type": "code",
   "execution_count": null,
   "id": "ae266c0f",
   "metadata": {},
   "outputs": [],
   "source": []
  },
  {
   "cell_type": "markdown",
   "id": "47bb1f21",
   "metadata": {},
   "source": [
    "### threshold: 5%"
   ]
  },
  {
   "cell_type": "code",
   "execution_count": 40,
   "id": "d7c8f2d2",
   "metadata": {},
   "outputs": [
    {
     "name": "stdout",
     "output_type": "stream",
     "text": [
      "thres_p5 (value,iloc_threshold)(0.1650139845510811, 99)\n",
      "Mean F1 Score:  0.6733333333333333\n",
      "std F1 Score:  0.2912806969993797\n"
     ]
    }
   ],
   "source": [
    "# threshold: 5%\n",
    "mi_XGBoostfeatures_single = pd.read_csv('mi_XGBoostfeatures.csv')\n",
    "k =(filter_arr(mi_XGBoostfeatures_single['value_MI'], thres_p5-1))\n",
    "print(\"thres_p5 (value,iloc_threshold)\" + str(filter_arr(mi_XGBoostfeatures_single['value_MI'], thres_p5-1)))\n",
    "mi_XGBoostfeatures_single = mi_XGBoostfeatures_single.iloc[:k[1]+1]\n",
    "\n",
    "df_filter = df1.filter(items=mi_XGBoostfeatures_single['Feature'])\n",
    "X = df_filter\n",
    "y = df1['class']\n",
    "\n",
    "\n",
    "\n",
    "\n",
    "## before tuned ##\n",
    "X_train, X_test, y_train, y_test = train_test_split(X, y, test_size=0.2, random_state=123) \n",
    "xgbc = XGBClassifier(random_state=123)\n",
    "xgbc.fit(X_train,y_train)\n",
    "## results F1 and stdF1 ##\n",
    "avgF1_singleMI_p5XGBoost = cross_val_score(xgbc, X, y, scoring=\"f1\", cv = 10).mean() ##<3## \n",
    "stdF1_singleMI_p5XGBoost = cross_val_score(xgbc, X, y, scoring=\"f1\", cv = 10).std() ##<3##\n",
    "print('Mean F1 Score: ', avgF1_singleMI_p5XGBoost)\n",
    "print('std F1 Score: ', stdF1_singleMI_p5XGBoost)"
   ]
  },
  {
   "cell_type": "code",
   "execution_count": 41,
   "id": "4130c51a",
   "metadata": {},
   "outputs": [
    {
     "data": {
      "text/plain": [
       "100"
      ]
     },
     "execution_count": 41,
     "metadata": {},
     "output_type": "execute_result"
    }
   ],
   "source": [
    "n_singleMI_p5XGBoost = k[1]+1\n",
    "n_singleMI_p5XGBoost"
   ]
  },
  {
   "cell_type": "code",
   "execution_count": 42,
   "id": "fe04725b",
   "metadata": {},
   "outputs": [
    {
     "name": "stdout",
     "output_type": "stream",
     "text": [
      "Fitting 5 folds for each of 729 candidates, totalling 3645 fits\n",
      "\n",
      " Time taken: 0 hours 3 minutes and 18.85 seconds.\n",
      "{'colsample_bytree': 0.75, 'eta': 0.01, 'learning_rate': 0.1, 'max_depth': 5, 'min_child_weight': 1, 'subsample': 0.5}\n",
      "Mean F1 Score:  0.6666666666666667\n",
      "std F1 Score:  0.36514837167011077\n"
     ]
    }
   ],
   "source": [
    "## tuned parameter_set1##\n",
    "\n",
    "start_time = timer(None)\n",
    "# Instantiate the grid search model\n",
    "grid_search = GridSearchCV(estimator = xgbc, param_grid = paramXGBoost_grid1,\n",
    "                           cv = 5, n_jobs = -1, verbose = 2,scoring='f1')\n",
    "# Fit the grid search to the data\n",
    "grid_search.fit(X_train, y_train)\n",
    "\n",
    "timer(start_time)\n",
    "print(grid_search.best_params_)\n",
    "\n",
    "\n",
    "xgbc_tuned = XGBClassifier(subsample=grid_search.best_params_['subsample'],\n",
    "                                   max_depth=grid_search.best_params_['max_depth'],\n",
    "                                   colsample_bytree=grid_search.best_params_['colsample_bytree'],\n",
    "                                   min_child_weight=grid_search.best_params_['min_child_weight'],\n",
    "                                   learning_rate=grid_search.best_params_['learning_rate'],\n",
    "                                   eta=grid_search.best_params_['eta'])\n",
    "xgbc_tuned.fit(X_train,y_train)\n",
    "\n",
    "## results F1 and stdF1 ##\n",
    "avgF1set1_singleMI_p5tunedXGBoost  = cross_val_score(xgbc_tuned, X, y, scoring=\"f1\", cv = 10).mean() ##<3## \n",
    "stdF1set1_singleMI_p5tunedXGBoost  = cross_val_score(xgbc_tuned, X, y, scoring=\"f1\", cv = 10).std() ##<3##\n",
    "print('Mean F1 Score: ', avgF1set1_singleMI_p5tunedXGBoost)\n",
    "print('std F1 Score: ', stdF1set1_singleMI_p5tunedXGBoost)"
   ]
  },
  {
   "cell_type": "code",
   "execution_count": 43,
   "id": "fc838665",
   "metadata": {},
   "outputs": [
    {
     "name": "stdout",
     "output_type": "stream",
     "text": [
      "Fitting 5 folds for each of 729 candidates, totalling 3645 fits\n",
      "\n",
      " Time taken: 0 hours 3 minutes and 42.57 seconds.\n",
      "{'colsample_bytree': 0.75, 'eta': 0.01, 'learning_rate': 0.1, 'max_depth': 7, 'min_child_weight': 1, 'subsample': 0.2}\n",
      "Mean F1 Score:  0.6523809523809524\n",
      "std F1 Score:  0.2639057758053078\n"
     ]
    }
   ],
   "source": [
    "## tuned parameter_set2##\n",
    "\n",
    "start_time = timer(None)\n",
    "# Instantiate the grid search model\n",
    "grid_search = GridSearchCV(estimator = xgbc, param_grid = paramXGBoost_grid2,\n",
    "                           cv = 5, n_jobs = -1, verbose = 2,scoring='f1')\n",
    "# Fit the grid search to the data\n",
    "grid_search.fit(X_train, y_train)\n",
    "\n",
    "timer(start_time)\n",
    "print(grid_search.best_params_)\n",
    "\n",
    "\n",
    "xgbc_tuned = XGBClassifier(subsample=grid_search.best_params_['subsample'],\n",
    "                                   max_depth=grid_search.best_params_['max_depth'],\n",
    "                                   colsample_bytree=grid_search.best_params_['colsample_bytree'],\n",
    "                                   min_child_weight=grid_search.best_params_['min_child_weight'],\n",
    "                                   learning_rate=grid_search.best_params_['learning_rate'],\n",
    "                                   eta=grid_search.best_params_['eta'])\n",
    "xgbc_tuned.fit(X_train,y_train)\n",
    "\n",
    "## results F1 and stdF1 ##\n",
    "avgF1set2_singleMI_p5tunedXGBoost  = cross_val_score(xgbc_tuned, X, y, scoring=\"f1\", cv = 10).mean() ##<3## \n",
    "stdF1set2_singleMI_p5tunedXGBoost  = cross_val_score(xgbc_tuned, X, y, scoring=\"f1\", cv = 10).std() ##<3##\n",
    "print('Mean F1 Score: ', avgF1set2_singleMI_p5tunedXGBoost)\n",
    "print('std F1 Score: ', stdF1set2_singleMI_p5tunedXGBoost)"
   ]
  },
  {
   "cell_type": "code",
   "execution_count": 44,
   "id": "6e1ba9eb",
   "metadata": {},
   "outputs": [
    {
     "name": "stdout",
     "output_type": "stream",
     "text": [
      "Fitting 5 folds for each of 729 candidates, totalling 3645 fits\n",
      "\n",
      " Time taken: 0 hours 3 minutes and 17.94 seconds.\n",
      "{'colsample_bytree': 0.1, 'eta': 0.01, 'learning_rate': 0.1, 'max_depth': 10, 'min_child_weight': 20, 'subsample': 0.2}\n",
      "Mean F1 Score:  0.0\n",
      "std F1 Score:  0.0\n"
     ]
    }
   ],
   "source": [
    "## tuned parameter_set3##\n",
    "\n",
    "start_time = timer(None)\n",
    "# Instantiate the grid search model\n",
    "grid_search = GridSearchCV(estimator = xgbc, param_grid = paramXGBoost_grid3,\n",
    "                           cv = 5, n_jobs = -1, verbose = 2,scoring='f1')\n",
    "# Fit the grid search to the data\n",
    "grid_search.fit(X_train, y_train)\n",
    "\n",
    "timer(start_time)\n",
    "print(grid_search.best_params_)\n",
    "\n",
    "\n",
    "xgbc_tuned = XGBClassifier(subsample=grid_search.best_params_['subsample'],\n",
    "                                   max_depth=grid_search.best_params_['max_depth'],\n",
    "                                   colsample_bytree=grid_search.best_params_['colsample_bytree'],\n",
    "                                   min_child_weight=grid_search.best_params_['min_child_weight'],\n",
    "                                   learning_rate=grid_search.best_params_['learning_rate'],\n",
    "                                   eta=grid_search.best_params_['eta'])\n",
    "xgbc_tuned.fit(X_train,y_train)\n",
    "\n",
    "## results F1 and stdF1 ##\n",
    "avgF1set3_singleMI_p5tunedXGBoost  = cross_val_score(xgbc_tuned, X, y, scoring=\"f1\", cv = 10).mean() ##<3## \n",
    "stdF1set3_singleMI_p5tunedXGBoost  = cross_val_score(xgbc_tuned, X, y, scoring=\"f1\", cv = 10).std() ##<3##\n",
    "print('Mean F1 Score: ', avgF1set3_singleMI_p5tunedXGBoost)\n",
    "print('std F1 Score: ', stdF1set3_singleMI_p5tunedXGBoost)"
   ]
  },
  {
   "cell_type": "code",
   "execution_count": 45,
   "id": "52ceb707",
   "metadata": {},
   "outputs": [
    {
     "name": "stdout",
     "output_type": "stream",
     "text": [
      "Fitting 5 folds for each of 729 candidates, totalling 3645 fits\n",
      "\n",
      " Time taken: 0 hours 2 minutes and 0.46 seconds.\n",
      "{'colsample_bytree': 0.1, 'eta': 0.01, 'learning_rate': 0.1, 'max_depth': 5, 'min_child_weight': 5, 'subsample': 0.75}\n",
      "Mean F1 Score:  0.43\n",
      "std F1 Score:  0.3707200201409863\n"
     ]
    }
   ],
   "source": [
    "## tuned parameter_set4##\n",
    "\n",
    "start_time = timer(None)\n",
    "# Instantiate the grid search model\n",
    "grid_search = GridSearchCV(estimator = xgbc, param_grid = paramXGBoost_grid4,\n",
    "                           cv = 5, n_jobs = -1, verbose = 2,scoring='f1')\n",
    "# Fit the grid search to the data\n",
    "grid_search.fit(X_train, y_train)\n",
    "\n",
    "timer(start_time)\n",
    "print(grid_search.best_params_)\n",
    "\n",
    "\n",
    "xgbc_tuned = XGBClassifier(subsample=grid_search.best_params_['subsample'],\n",
    "                                   max_depth=grid_search.best_params_['max_depth'],\n",
    "                                   colsample_bytree=grid_search.best_params_['colsample_bytree'],\n",
    "                                   min_child_weight=grid_search.best_params_['min_child_weight'],\n",
    "                                   learning_rate=grid_search.best_params_['learning_rate'],\n",
    "                                   eta=grid_search.best_params_['eta'])\n",
    "xgbc_tuned.fit(X_train,y_train)\n",
    "\n",
    "## results F1 and stdF1 ##\n",
    "avgF1set4_singleMI_p5tunedXGBoost  = cross_val_score(xgbc_tuned, X, y, scoring=\"f1\", cv = 10).mean() ##<3## \n",
    "stdF1set4_singleMI_p5tunedXGBoost  = cross_val_score(xgbc_tuned, X, y, scoring=\"f1\", cv = 10).std() ##<3##\n",
    "print('Mean F1 Score: ', avgF1set4_singleMI_p5tunedXGBoost)\n",
    "print('std F1 Score: ', stdF1set4_singleMI_p5tunedXGBoost)"
   ]
  },
  {
   "cell_type": "code",
   "execution_count": null,
   "id": "1dabdc74",
   "metadata": {},
   "outputs": [],
   "source": []
  },
  {
   "cell_type": "code",
   "execution_count": null,
   "id": "5193c534",
   "metadata": {},
   "outputs": [],
   "source": []
  },
  {
   "cell_type": "code",
   "execution_count": null,
   "id": "e549f881",
   "metadata": {},
   "outputs": [],
   "source": []
  },
  {
   "cell_type": "markdown",
   "id": "8e56c085",
   "metadata": {},
   "source": [
    "### threshold: 10%"
   ]
  },
  {
   "cell_type": "code",
   "execution_count": 46,
   "id": "04feabc6",
   "metadata": {},
   "outputs": [
    {
     "name": "stdout",
     "output_type": "stream",
     "text": [
      "thres_p10 (value,iloc_threshold)(0.1218635367700968, 199)\n",
      "Mean F1 Score:  0.6923809523809524\n",
      "std F1 Score:  0.2964047609484793\n"
     ]
    }
   ],
   "source": [
    "# threshold: 10%\n",
    "mi_XGBoostfeatures_single = pd.read_csv('mi_XGBoostfeatures.csv')\n",
    "k =(filter_arr(mi_XGBoostfeatures_single['value_MI'], thres_p10-1))\n",
    "print(\"thres_p10 (value,iloc_threshold)\" + str(filter_arr(mi_XGBoostfeatures_single['value_MI'], thres_p10-1)))\n",
    "mi_XGBoostfeatures_single = mi_XGBoostfeatures_single.iloc[:k[1]+1]\n",
    "\n",
    "df_filter = df1.filter(items=mi_XGBoostfeatures_single['Feature'])\n",
    "X = df_filter\n",
    "y = df1['class']\n",
    "\n",
    "\n",
    "\n",
    "\n",
    "## before tuned ##\n",
    "X_train, X_test, y_train, y_test = train_test_split(X, y, test_size=0.2, random_state=123) \n",
    "xgbc = XGBClassifier(random_state=123)\n",
    "xgbc.fit(X_train,y_train)\n",
    "## results F1 and stdF1 ##\n",
    "avgF1_singleMI_p10XGBoost = cross_val_score(xgbc, X, y, scoring=\"f1\", cv = 10).mean() ##<3## \n",
    "stdF1_singleMI_p10XGBoost = cross_val_score(xgbc, X, y, scoring=\"f1\", cv = 10).std() ##<3##\n",
    "print('Mean F1 Score: ', avgF1_singleMI_p10XGBoost)\n",
    "print('std F1 Score: ', stdF1_singleMI_p10XGBoost)"
   ]
  },
  {
   "cell_type": "code",
   "execution_count": 47,
   "id": "706e03b1",
   "metadata": {},
   "outputs": [
    {
     "data": {
      "text/plain": [
       "200"
      ]
     },
     "execution_count": 47,
     "metadata": {},
     "output_type": "execute_result"
    }
   ],
   "source": [
    "n_singleMI_p10XGBoost = k[1]+1\n",
    "n_singleMI_p10XGBoost"
   ]
  },
  {
   "cell_type": "code",
   "execution_count": 48,
   "id": "f61974e4",
   "metadata": {},
   "outputs": [
    {
     "name": "stdout",
     "output_type": "stream",
     "text": [
      "Fitting 5 folds for each of 729 candidates, totalling 3645 fits\n",
      "\n",
      " Time taken: 0 hours 3 minutes and 21.39 seconds.\n",
      "{'colsample_bytree': 0.75, 'eta': 0.01, 'learning_rate': 0.1, 'max_depth': 5, 'min_child_weight': 1, 'subsample': 0.5}\n",
      "Mean F1 Score:  0.7566666666666666\n",
      "std F1 Score:  0.21501937897160184\n"
     ]
    }
   ],
   "source": [
    "## tuned parameter_set1##\n",
    "\n",
    "start_time = timer(None)\n",
    "# Instantiate the grid search model\n",
    "grid_search = GridSearchCV(estimator = xgbc, param_grid = paramXGBoost_grid1,\n",
    "                           cv = 5, n_jobs = -1, verbose = 2,scoring='f1')\n",
    "# Fit the grid search to the data\n",
    "grid_search.fit(X_train, y_train)\n",
    "\n",
    "timer(start_time)\n",
    "print(grid_search.best_params_)\n",
    "\n",
    "\n",
    "xgbc_tuned = XGBClassifier(subsample=grid_search.best_params_['subsample'],\n",
    "                                   max_depth=grid_search.best_params_['max_depth'],\n",
    "                                   colsample_bytree=grid_search.best_params_['colsample_bytree'],\n",
    "                                   min_child_weight=grid_search.best_params_['min_child_weight'],\n",
    "                                   learning_rate=grid_search.best_params_['learning_rate'],\n",
    "                                   eta=grid_search.best_params_['eta'])\n",
    "xgbc_tuned.fit(X_train,y_train)\n",
    "\n",
    "## results F1 and stdF1 ##\n",
    "avgF1set1_singleMI_p10tunedXGBoost  = cross_val_score(xgbc_tuned, X, y, scoring=\"f1\", cv = 10).mean() ##<3## \n",
    "stdF1set1_singleMI_p10tunedXGBoost  = cross_val_score(xgbc_tuned, X, y, scoring=\"f1\", cv = 10).std() ##<3##\n",
    "print('Mean F1 Score: ', avgF1set1_singleMI_p10tunedXGBoost)\n",
    "print('std F1 Score: ', stdF1set1_singleMI_p10tunedXGBoost)"
   ]
  },
  {
   "cell_type": "code",
   "execution_count": 49,
   "id": "1dbb4a8a",
   "metadata": {},
   "outputs": [
    {
     "name": "stdout",
     "output_type": "stream",
     "text": [
      "Fitting 5 folds for each of 729 candidates, totalling 3645 fits\n",
      "\n",
      " Time taken: 0 hours 4 minutes and 7.21 seconds.\n",
      "{'colsample_bytree': 0.5, 'eta': 0.01, 'learning_rate': 0.1, 'max_depth': 7, 'min_child_weight': 0.5, 'subsample': 0.2}\n",
      "Mean F1 Score:  0.7057142857142857\n",
      "std F1 Score:  0.2979430617202067\n"
     ]
    }
   ],
   "source": [
    "## tuned parameter_set2##\n",
    "\n",
    "start_time = timer(None)\n",
    "# Instantiate the grid search model\n",
    "grid_search = GridSearchCV(estimator = xgbc, param_grid = paramXGBoost_grid2,\n",
    "                           cv = 5, n_jobs = -1, verbose = 2,scoring='f1')\n",
    "# Fit the grid search to the data\n",
    "grid_search.fit(X_train, y_train)\n",
    "\n",
    "timer(start_time)\n",
    "print(grid_search.best_params_)\n",
    "\n",
    "\n",
    "xgbc_tuned = XGBClassifier(subsample=grid_search.best_params_['subsample'],\n",
    "                                   max_depth=grid_search.best_params_['max_depth'],\n",
    "                                   colsample_bytree=grid_search.best_params_['colsample_bytree'],\n",
    "                                   min_child_weight=grid_search.best_params_['min_child_weight'],\n",
    "                                   learning_rate=grid_search.best_params_['learning_rate'],\n",
    "                                   eta=grid_search.best_params_['eta'])\n",
    "xgbc_tuned.fit(X_train,y_train)\n",
    "\n",
    "## results F1 and stdF1 ##\n",
    "avgF1set2_singleMI_p10tunedXGBoost = cross_val_score(xgbc_tuned, X, y, scoring=\"f1\", cv = 10).mean() ##<3## \n",
    "stdF1set2_singleMI_p10tunedXGBoost  = cross_val_score(xgbc_tuned, X, y, scoring=\"f1\", cv = 10).std() ##<3##\n",
    "print('Mean F1 Score: ', avgF1set2_singleMI_p10tunedXGBoost)\n",
    "print('std F1 Score: ', stdF1set2_singleMI_p10tunedXGBoost)"
   ]
  },
  {
   "cell_type": "code",
   "execution_count": 50,
   "id": "68470952",
   "metadata": {},
   "outputs": [
    {
     "name": "stdout",
     "output_type": "stream",
     "text": [
      "Fitting 5 folds for each of 729 candidates, totalling 3645 fits\n",
      "\n",
      " Time taken: 0 hours 1 minutes and 54.25 seconds.\n",
      "{'colsample_bytree': 0.1, 'eta': 0.01, 'learning_rate': 0.1, 'max_depth': 10, 'min_child_weight': 20, 'subsample': 0.2}\n",
      "Mean F1 Score:  0.0\n",
      "std F1 Score:  0.0\n"
     ]
    }
   ],
   "source": [
    "## tuned parameter_set3##\n",
    "\n",
    "start_time = timer(None)\n",
    "# Instantiate the grid search model\n",
    "grid_search = GridSearchCV(estimator = xgbc, param_grid = paramXGBoost_grid3,\n",
    "                           cv = 5, n_jobs = -1, verbose = 2,scoring='f1')\n",
    "# Fit the grid search to the data\n",
    "grid_search.fit(X_train, y_train)\n",
    "\n",
    "timer(start_time)\n",
    "print(grid_search.best_params_)\n",
    "\n",
    "\n",
    "xgbc_tuned = XGBClassifier(subsample=grid_search.best_params_['subsample'],\n",
    "                                   max_depth=grid_search.best_params_['max_depth'],\n",
    "                                   colsample_bytree=grid_search.best_params_['colsample_bytree'],\n",
    "                                   min_child_weight=grid_search.best_params_['min_child_weight'],\n",
    "                                   learning_rate=grid_search.best_params_['learning_rate'],\n",
    "                                   eta=grid_search.best_params_['eta'])\n",
    "xgbc_tuned.fit(X_train,y_train)\n",
    "\n",
    "## results F1 and stdF1 ##\n",
    "avgF1set3_singleMI_p10tunedXGBoost  = cross_val_score(xgbc_tuned, X, y, scoring=\"f1\", cv = 10).mean() ##<3## \n",
    "stdF1set3_singleMI_p10tunedXGBoost  = cross_val_score(xgbc_tuned, X, y, scoring=\"f1\", cv = 10).std() ##<3##\n",
    "print('Mean F1 Score: ', avgF1set3_singleMI_p10tunedXGBoost)\n",
    "print('std F1 Score: ', stdF1set3_singleMI_p10tunedXGBoost)"
   ]
  },
  {
   "cell_type": "code",
   "execution_count": 51,
   "id": "8720f326",
   "metadata": {},
   "outputs": [
    {
     "name": "stdout",
     "output_type": "stream",
     "text": [
      "Fitting 5 folds for each of 729 candidates, totalling 3645 fits\n",
      "\n",
      " Time taken: 0 hours 4 minutes and 1.78 seconds.\n",
      "{'colsample_bytree': 0.1, 'eta': 0.01, 'learning_rate': 0.1, 'max_depth': 5, 'min_child_weight': 5, 'subsample': 0.75}\n",
      "Mean F1 Score:  0.31666666666666665\n",
      "std F1 Score:  0.32015621187164245\n"
     ]
    }
   ],
   "source": [
    "## tuned parameter_set4##\n",
    "\n",
    "start_time = timer(None)\n",
    "# Instantiate the grid search model\n",
    "grid_search = GridSearchCV(estimator = xgbc, param_grid = paramXGBoost_grid4,\n",
    "                           cv = 5, n_jobs = -1, verbose = 2,scoring='f1')\n",
    "# Fit the grid search to the data\n",
    "grid_search.fit(X_train, y_train)\n",
    "\n",
    "timer(start_time)\n",
    "print(grid_search.best_params_)\n",
    "\n",
    "\n",
    "xgbc_tuned = XGBClassifier(subsample=grid_search.best_params_['subsample'],\n",
    "                                   max_depth=grid_search.best_params_['max_depth'],\n",
    "                                   colsample_bytree=grid_search.best_params_['colsample_bytree'],\n",
    "                                   min_child_weight=grid_search.best_params_['min_child_weight'],\n",
    "                                   learning_rate=grid_search.best_params_['learning_rate'],\n",
    "                                   eta=grid_search.best_params_['eta'])\n",
    "xgbc_tuned.fit(X_train,y_train)\n",
    "\n",
    "## results F1 and stdF1 ##\n",
    "avgF1set4_singleMI_p10tunedXGBoost  = cross_val_score(xgbc_tuned, X, y, scoring=\"f1\", cv = 10).mean() ##<3## \n",
    "stdF1set4_singleMI_p10tunedXGBoost = cross_val_score(xgbc_tuned, X, y, scoring=\"f1\", cv = 10).std() ##<3##\n",
    "print('Mean F1 Score: ', avgF1set4_singleMI_p10tunedXGBoost)\n",
    "print('std F1 Score: ', stdF1set4_singleMI_p10tunedXGBoost)"
   ]
  },
  {
   "cell_type": "code",
   "execution_count": null,
   "id": "ee6c08bd",
   "metadata": {},
   "outputs": [],
   "source": [
    "\n"
   ]
  },
  {
   "cell_type": "markdown",
   "id": "85ee54fb",
   "metadata": {},
   "source": [
    "### threshold: 20%"
   ]
  },
  {
   "cell_type": "code",
   "execution_count": 52,
   "id": "3c7b8322",
   "metadata": {},
   "outputs": [
    {
     "name": "stdout",
     "output_type": "stream",
     "text": [
      "thres_p20 (value,iloc_threshold)(0.0800963028596899, 399)\n",
      "Mean F1 Score:  0.7423809523809524\n",
      "std F1 Score:  0.20277496658816127\n"
     ]
    }
   ],
   "source": [
    "# threshold: 20%\n",
    "mi_XGBoostfeatures_single = pd.read_csv('mi_XGBoostfeatures.csv')\n",
    "k =(filter_arr(mi_XGBoostfeatures_single['value_MI'], thres_p20-1))\n",
    "print(\"thres_p20 (value,iloc_threshold)\" + str(filter_arr(mi_XGBoostfeatures_single['value_MI'], thres_p20-1)))\n",
    "mi_XGBoostfeatures_single = mi_XGBoostfeatures_single.iloc[:k[1]+1]\n",
    "\n",
    "df_filter = df1.filter(items=mi_XGBoostfeatures_single['Feature'])\n",
    "X = df_filter\n",
    "y = df1['class']\n",
    "\n",
    "\n",
    "\n",
    "\n",
    "## before tuned ##\n",
    "X_train, X_test, y_train, y_test = train_test_split(X, y, test_size=0.2, random_state=123) \n",
    "xgbc = XGBClassifier(random_state=123)\n",
    "xgbc.fit(X_train,y_train)\n",
    "## results F1 and stdF1 ##\n",
    "avgF1_singleMI_p20XGBoost = cross_val_score(xgbc, X, y, scoring=\"f1\", cv = 10).mean() ##<3## \n",
    "stdF1_singleMI_p20XGBoost = cross_val_score(xgbc, X, y, scoring=\"f1\", cv = 10).std() ##<3##\n",
    "print('Mean F1 Score: ', avgF1_singleMI_p20XGBoost)\n",
    "print('std F1 Score: ', stdF1_singleMI_p20XGBoost)"
   ]
  },
  {
   "cell_type": "code",
   "execution_count": 53,
   "id": "92d42631",
   "metadata": {},
   "outputs": [
    {
     "data": {
      "text/plain": [
       "400"
      ]
     },
     "execution_count": 53,
     "metadata": {},
     "output_type": "execute_result"
    }
   ],
   "source": [
    "n_singleMI_p20XGBoost = k[1]+1\n",
    "n_singleMI_p20XGBoost"
   ]
  },
  {
   "cell_type": "code",
   "execution_count": 54,
   "id": "46df41ec",
   "metadata": {},
   "outputs": [
    {
     "name": "stdout",
     "output_type": "stream",
     "text": [
      "Fitting 5 folds for each of 729 candidates, totalling 3645 fits\n",
      "\n",
      " Time taken: 0 hours 5 minutes and 0.75 seconds.\n",
      "{'colsample_bytree': 0.5, 'eta': 0.01, 'learning_rate': 0.1, 'max_depth': 5, 'min_child_weight': 1, 'subsample': 0.5}\n",
      "Mean F1 Score:  0.77\n",
      "std F1 Score:  0.21315096371664224\n"
     ]
    }
   ],
   "source": [
    "## tuned parameter_set1##\n",
    "\n",
    "start_time = timer(None)\n",
    "# Instantiate the grid search model\n",
    "grid_search = GridSearchCV(estimator = xgbc, param_grid = paramXGBoost_grid1,\n",
    "                           cv = 5, n_jobs = -1, verbose = 2,scoring='f1')\n",
    "# Fit the grid search to the data\n",
    "grid_search.fit(X_train, y_train)\n",
    "\n",
    "timer(start_time)\n",
    "print(grid_search.best_params_)\n",
    "\n",
    "\n",
    "xgbc_tuned = XGBClassifier(subsample=grid_search.best_params_['subsample'],\n",
    "                                   max_depth=grid_search.best_params_['max_depth'],\n",
    "                                   colsample_bytree=grid_search.best_params_['colsample_bytree'],\n",
    "                                   min_child_weight=grid_search.best_params_['min_child_weight'],\n",
    "                                   learning_rate=grid_search.best_params_['learning_rate'],\n",
    "                                   eta=grid_search.best_params_['eta'])\n",
    "xgbc_tuned.fit(X_train,y_train)\n",
    "\n",
    "## results F1 and stdF1 ##\n",
    "avgF1set1_singleMI_p20tunedXGBoost  = cross_val_score(xgbc_tuned, X, y, scoring=\"f1\", cv = 10).mean() ##<3## \n",
    "stdF1set1_singleMI_p20tunedXGBoost  = cross_val_score(xgbc_tuned, X, y, scoring=\"f1\", cv = 10).std() ##<3##\n",
    "print('Mean F1 Score: ', avgF1set1_singleMI_p20tunedXGBoost)\n",
    "print('std F1 Score: ', stdF1set1_singleMI_p20tunedXGBoost)"
   ]
  },
  {
   "cell_type": "code",
   "execution_count": 55,
   "id": "0acfbdaf",
   "metadata": {},
   "outputs": [
    {
     "name": "stdout",
     "output_type": "stream",
     "text": [
      "Fitting 5 folds for each of 729 candidates, totalling 3645 fits\n",
      "\n",
      " Time taken: 0 hours 4 minutes and 29.89 seconds.\n",
      "{'colsample_bytree': 0.5, 'eta': 0.01, 'learning_rate': 0.1, 'max_depth': 7, 'min_child_weight': 0.5, 'subsample': 0.2}\n",
      "Mean F1 Score:  0.7057142857142857\n",
      "std F1 Score:  0.2979430617202067\n"
     ]
    }
   ],
   "source": [
    "## tuned parameter_set2##\n",
    "\n",
    "start_time = timer(None)\n",
    "# Instantiate the grid search model\n",
    "grid_search = GridSearchCV(estimator = xgbc, param_grid = paramXGBoost_grid2,\n",
    "                           cv = 5, n_jobs = -1, verbose = 2,scoring='f1')\n",
    "# Fit the grid search to the data\n",
    "grid_search.fit(X_train, y_train)\n",
    "\n",
    "timer(start_time)\n",
    "print(grid_search.best_params_)\n",
    "\n",
    "\n",
    "xgbc_tuned = XGBClassifier(subsample=grid_search.best_params_['subsample'],\n",
    "                                   max_depth=grid_search.best_params_['max_depth'],\n",
    "                                   colsample_bytree=grid_search.best_params_['colsample_bytree'],\n",
    "                                   min_child_weight=grid_search.best_params_['min_child_weight'],\n",
    "                                   learning_rate=grid_search.best_params_['learning_rate'],\n",
    "                                   eta=grid_search.best_params_['eta'])\n",
    "xgbc_tuned.fit(X_train,y_train)\n",
    "\n",
    "## results F1 and stdF1 ##\n",
    "avgF1set2_singleMI_p20tunedXGBoost = cross_val_score(xgbc_tuned, X, y, scoring=\"f1\", cv = 10).mean() ##<3## \n",
    "stdF1set2_singleMI_p20tunedXGBoost  = cross_val_score(xgbc_tuned, X, y, scoring=\"f1\", cv = 10).std() ##<3##\n",
    "print('Mean F1 Score: ', avgF1set2_singleMI_p20tunedXGBoost)\n",
    "print('std F1 Score: ', stdF1set2_singleMI_p20tunedXGBoost)"
   ]
  },
  {
   "cell_type": "code",
   "execution_count": 56,
   "id": "19ebced4",
   "metadata": {},
   "outputs": [
    {
     "name": "stdout",
     "output_type": "stream",
     "text": [
      "Fitting 5 folds for each of 729 candidates, totalling 3645 fits\n",
      "\n",
      " Time taken: 0 hours 2 minutes and 19.82 seconds.\n",
      "{'colsample_bytree': 0.1, 'eta': 0.01, 'learning_rate': 0.1, 'max_depth': 10, 'min_child_weight': 20, 'subsample': 0.2}\n",
      "Mean F1 Score:  0.0\n",
      "std F1 Score:  0.0\n"
     ]
    }
   ],
   "source": [
    "## tuned parameter_set3##\n",
    "\n",
    "start_time = timer(None)\n",
    "# Instantiate the grid search model\n",
    "grid_search = GridSearchCV(estimator = xgbc, param_grid = paramXGBoost_grid3,\n",
    "                           cv = 5, n_jobs = -1, verbose = 2,scoring='f1')\n",
    "# Fit the grid search to the data\n",
    "grid_search.fit(X_train, y_train)\n",
    "\n",
    "timer(start_time)\n",
    "print(grid_search.best_params_)\n",
    "\n",
    "\n",
    "xgbc_tuned = XGBClassifier(subsample=grid_search.best_params_['subsample'],\n",
    "                                   max_depth=grid_search.best_params_['max_depth'],\n",
    "                                   colsample_bytree=grid_search.best_params_['colsample_bytree'],\n",
    "                                   min_child_weight=grid_search.best_params_['min_child_weight'],\n",
    "                                   learning_rate=grid_search.best_params_['learning_rate'],\n",
    "                                   eta=grid_search.best_params_['eta'])\n",
    "xgbc_tuned.fit(X_train,y_train)\n",
    "\n",
    "## results F1 and stdF1 ##\n",
    "avgF1set3_singleMI_p20tunedXGBoost  = cross_val_score(xgbc_tuned, X, y, scoring=\"f1\", cv = 10).mean() ##<3## \n",
    "stdF1set3_singleMI_p20tunedXGBoost  = cross_val_score(xgbc_tuned, X, y, scoring=\"f1\", cv = 10).std() ##<3##\n",
    "print('Mean F1 Score: ', avgF1set3_singleMI_p20tunedXGBoost)\n",
    "print('std F1 Score: ', stdF1set3_singleMI_p20tunedXGBoost)"
   ]
  },
  {
   "cell_type": "code",
   "execution_count": 57,
   "id": "7db3bd8a",
   "metadata": {},
   "outputs": [
    {
     "name": "stdout",
     "output_type": "stream",
     "text": [
      "Fitting 5 folds for each of 729 candidates, totalling 3645 fits\n",
      "\n",
      " Time taken: 0 hours 3 minutes and 25.06 seconds.\n",
      "{'colsample_bytree': 0.1, 'eta': 0.01, 'learning_rate': 0.1, 'max_depth': 5, 'min_child_weight': 5, 'subsample': 0.75}\n",
      "Mean F1 Score:  0.2333333333333333\n",
      "std F1 Score:  0.2905932629027116\n"
     ]
    }
   ],
   "source": [
    "## tuned parameter_set4##\n",
    "\n",
    "start_time = timer(None)\n",
    "# Instantiate the grid search model\n",
    "grid_search = GridSearchCV(estimator = xgbc, param_grid = paramXGBoost_grid4,\n",
    "                           cv = 5, n_jobs = -1, verbose = 2,scoring='f1')\n",
    "# Fit the grid search to the data\n",
    "grid_search.fit(X_train, y_train)\n",
    "\n",
    "timer(start_time)\n",
    "print(grid_search.best_params_)\n",
    "\n",
    "\n",
    "xgbc_tuned = XGBClassifier(subsample=grid_search.best_params_['subsample'],\n",
    "                                   max_depth=grid_search.best_params_['max_depth'],\n",
    "                                   colsample_bytree=grid_search.best_params_['colsample_bytree'],\n",
    "                                   min_child_weight=grid_search.best_params_['min_child_weight'],\n",
    "                                   learning_rate=grid_search.best_params_['learning_rate'],\n",
    "                                   eta=grid_search.best_params_['eta'])\n",
    "xgbc_tuned.fit(X_train,y_train)\n",
    "\n",
    "## results F1 and stdF1 ##\n",
    "avgF1set4_singleMI_p20tunedXGBoost  = cross_val_score(xgbc_tuned, X, y, scoring=\"f1\", cv = 10).mean() ##<3## \n",
    "stdF1set4_singleMI_p20tunedXGBoost = cross_val_score(xgbc_tuned, X, y, scoring=\"f1\", cv = 10).std() ##<3##\n",
    "print('Mean F1 Score: ', avgF1set4_singleMI_p20tunedXGBoost)\n",
    "print('std F1 Score: ', stdF1set4_singleMI_p20tunedXGBoost)"
   ]
  },
  {
   "cell_type": "code",
   "execution_count": null,
   "id": "ce3061a7",
   "metadata": {},
   "outputs": [],
   "source": []
  },
  {
   "cell_type": "code",
   "execution_count": null,
   "id": "b37b6fd0",
   "metadata": {},
   "outputs": [],
   "source": []
  },
  {
   "cell_type": "code",
   "execution_count": null,
   "id": "be2689d7",
   "metadata": {},
   "outputs": [],
   "source": []
  },
  {
   "cell_type": "code",
   "execution_count": null,
   "id": "3a924203",
   "metadata": {},
   "outputs": [],
   "source": []
  },
  {
   "cell_type": "code",
   "execution_count": null,
   "id": "f4ed44b4",
   "metadata": {},
   "outputs": [],
   "source": []
  },
  {
   "cell_type": "code",
   "execution_count": null,
   "id": "c19a7091",
   "metadata": {},
   "outputs": [],
   "source": []
  },
  {
   "cell_type": "markdown",
   "id": "ba6d48a4",
   "metadata": {},
   "source": [
    "## 2.SHAP"
   ]
  },
  {
   "cell_type": "markdown",
   "id": "b1fdb123",
   "metadata": {},
   "source": [
    "### threshold: logbase2(n)"
   ]
  },
  {
   "cell_type": "code",
   "execution_count": 58,
   "id": "97c2e7c6",
   "metadata": {},
   "outputs": [
    {
     "name": "stdout",
     "output_type": "stream",
     "text": [
      "thres_base2n (value,iloc_threshold)(0.1709910035133361, 5)\n",
      "Mean F1 Score:  0.7757142857142858\n",
      "std F1 Score:  0.33576291441116235\n"
     ]
    }
   ],
   "source": [
    "# threshold: logbase2(n)\n",
    "SHAP_XGBoostfeatures = pd.read_csv('SHAP_XGBoostfeatures.csv')\n",
    "k =(filter_arr(SHAP_XGBoostfeatures['value_SHAP'], thres_base2n-1))\n",
    "print(\"thres_base2n (value,iloc_threshold)\" + str(filter_arr(SHAP_XGBoostfeatures['value_SHAP'], thres_base2n-1)))\n",
    "SHAP_XGBoostfeatures = SHAP_XGBoostfeatures.iloc[:k[1]+1]\n",
    "\n",
    "df_filter = df1.filter(items=SHAP_XGBoostfeatures['Feature'])\n",
    "X = df_filter\n",
    "y = df1['class']\n",
    "\n",
    "\n",
    "\n",
    "\n",
    "## before tuned ##\n",
    "X_train, X_test, y_train, y_test = train_test_split(X, y, test_size=0.2, random_state=123) \n",
    "xgbc = XGBClassifier(random_state=123)\n",
    "xgbc.fit(X_train,y_train)\n",
    "## results F1 and stdF1 ##\n",
    "avgF1_singleSHAP_base2XGBoost = cross_val_score(xgbc, X, y, scoring=\"f1\", cv = 10).mean() ##<3## \n",
    "stdF1_singleSHAP_base2XGBoost = cross_val_score(xgbc, X, y, scoring=\"f1\", cv = 10).std() ##<3##\n",
    "print('Mean F1 Score: ', avgF1_singleSHAP_base2XGBoost)\n",
    "print('std F1 Score: ', stdF1_singleSHAP_base2XGBoost)"
   ]
  },
  {
   "cell_type": "code",
   "execution_count": 59,
   "id": "d017f6cb",
   "metadata": {},
   "outputs": [
    {
     "data": {
      "text/plain": [
       "6"
      ]
     },
     "execution_count": 59,
     "metadata": {},
     "output_type": "execute_result"
    }
   ],
   "source": [
    "n_singleSHAP_base2XGBoost = k[1]+1\n",
    "n_singleSHAP_base2XGBoost"
   ]
  },
  {
   "cell_type": "code",
   "execution_count": 60,
   "id": "99f30804",
   "metadata": {},
   "outputs": [
    {
     "name": "stdout",
     "output_type": "stream",
     "text": [
      "Fitting 5 folds for each of 729 candidates, totalling 3645 fits\n",
      "\n",
      " Time taken: 0 hours 3 minutes and 53.27 seconds.\n",
      "{'colsample_bytree': 0.5, 'eta': 0.01, 'learning_rate': 0.01, 'max_depth': 5, 'min_child_weight': 1, 'subsample': 0.75}\n",
      "Mean F1 Score:  0.8233333333333333\n",
      "std F1 Score:  0.22805944644129764\n"
     ]
    }
   ],
   "source": [
    "## tuned parameter_set1##\n",
    "\n",
    "start_time = timer(None)\n",
    "# Instantiate the grid search model\n",
    "grid_search = GridSearchCV(estimator = xgbc, param_grid = paramXGBoost_grid1,\n",
    "                           cv = 5, n_jobs = -1, verbose = 2,scoring='f1')\n",
    "# Fit the grid search to the data\n",
    "grid_search.fit(X_train, y_train)\n",
    "\n",
    "timer(start_time)\n",
    "print(grid_search.best_params_)\n",
    "\n",
    "\n",
    "xgbc_tuned = XGBClassifier(subsample=grid_search.best_params_['subsample'],\n",
    "                                   max_depth=grid_search.best_params_['max_depth'],\n",
    "                                   colsample_bytree=grid_search.best_params_['colsample_bytree'],\n",
    "                                   min_child_weight=grid_search.best_params_['min_child_weight'],\n",
    "                                   learning_rate=grid_search.best_params_['learning_rate'],\n",
    "                                   eta=grid_search.best_params_['eta'])\n",
    "xgbc_tuned.fit(X_train,y_train)\n",
    "\n",
    "## results F1 and stdF1 ##\n",
    "avgF1set1_singleSHAP_base2tunedXGBoost  = cross_val_score(xgbc_tuned, X, y, scoring=\"f1\", cv = 10).mean() ##<3## \n",
    "stdF1set1_singleSHAP_base2tunedXGBoost  = cross_val_score(xgbc_tuned, X, y, scoring=\"f1\", cv = 10).std() ##<3##\n",
    "print('Mean F1 Score: ', avgF1set1_singleSHAP_base2tunedXGBoost)\n",
    "print('std F1 Score: ', stdF1set1_singleSHAP_base2tunedXGBoost)"
   ]
  },
  {
   "cell_type": "code",
   "execution_count": 61,
   "id": "68421574",
   "metadata": {},
   "outputs": [
    {
     "name": "stdout",
     "output_type": "stream",
     "text": [
      "Fitting 5 folds for each of 729 candidates, totalling 3645 fits\n",
      "\n",
      " Time taken: 0 hours 2 minutes and 26.17 seconds.\n",
      "{'colsample_bytree': 1, 'eta': 0.01, 'learning_rate': 0.1, 'max_depth': 7, 'min_child_weight': 0.1, 'subsample': 0.2}\n",
      "Mean F1 Score:  0.7757142857142857\n",
      "std F1 Score:  0.21463939067005125\n"
     ]
    }
   ],
   "source": [
    "## tuned parameter_set2##\n",
    "\n",
    "start_time = timer(None)\n",
    "# Instantiate the grid search model\n",
    "grid_search = GridSearchCV(estimator = xgbc, param_grid = paramXGBoost_grid2,\n",
    "                           cv = 5, n_jobs = -1, verbose = 2,scoring='f1')\n",
    "# Fit the grid search to the data\n",
    "grid_search.fit(X_train, y_train)\n",
    "\n",
    "timer(start_time)\n",
    "print(grid_search.best_params_)\n",
    "\n",
    "\n",
    "xgbc_tuned = XGBClassifier(subsample=grid_search.best_params_['subsample'],\n",
    "                                   max_depth=grid_search.best_params_['max_depth'],\n",
    "                                   colsample_bytree=grid_search.best_params_['colsample_bytree'],\n",
    "                                   min_child_weight=grid_search.best_params_['min_child_weight'],\n",
    "                                   learning_rate=grid_search.best_params_['learning_rate'],\n",
    "                                   eta=grid_search.best_params_['eta'])\n",
    "xgbc_tuned.fit(X_train,y_train)\n",
    "\n",
    "## results F1 and stdF1 ##\n",
    "avgF1set2_singleSHAP_base2tunedXGBoost  = cross_val_score(xgbc_tuned, X, y, scoring=\"f1\", cv = 10).mean() ##<3## \n",
    "stdF1set2_singleSHAP_base2tunedXGBoost  = cross_val_score(xgbc_tuned, X, y, scoring=\"f1\", cv = 10).std() ##<3##\n",
    "print('Mean F1 Score: ', avgF1set2_singleSHAP_base2tunedXGBoost)\n",
    "print('std F1 Score: ', stdF1set2_singleSHAP_base2tunedXGBoost)"
   ]
  },
  {
   "cell_type": "code",
   "execution_count": 62,
   "id": "9b81a312",
   "metadata": {},
   "outputs": [
    {
     "name": "stdout",
     "output_type": "stream",
     "text": [
      "Fitting 5 folds for each of 729 candidates, totalling 3645 fits\n",
      "\n",
      " Time taken: 0 hours 2 minutes and 31.17 seconds.\n",
      "{'colsample_bytree': 0.1, 'eta': 0.01, 'learning_rate': 0.1, 'max_depth': 10, 'min_child_weight': 20, 'subsample': 0.2}\n",
      "Mean F1 Score:  0.0\n",
      "std F1 Score:  0.0\n"
     ]
    }
   ],
   "source": [
    "## tuned parameter_set3##\n",
    "\n",
    "start_time = timer(None)\n",
    "# Instantiate the grid search model\n",
    "grid_search = GridSearchCV(estimator = xgbc, param_grid = paramXGBoost_grid3,\n",
    "                           cv = 5, n_jobs = -1, verbose = 2,scoring='f1')\n",
    "# Fit the grid search to the data\n",
    "grid_search.fit(X_train, y_train)\n",
    "\n",
    "timer(start_time)\n",
    "print(grid_search.best_params_)\n",
    "\n",
    "\n",
    "xgbc_tuned = XGBClassifier(subsample=grid_search.best_params_['subsample'],\n",
    "                                   max_depth=grid_search.best_params_['max_depth'],\n",
    "                                   colsample_bytree=grid_search.best_params_['colsample_bytree'],\n",
    "                                   min_child_weight=grid_search.best_params_['min_child_weight'],\n",
    "                                   learning_rate=grid_search.best_params_['learning_rate'],\n",
    "                                   eta=grid_search.best_params_['eta'])\n",
    "xgbc_tuned.fit(X_train,y_train)\n",
    "\n",
    "## results F1 and stdF1 ##\n",
    "avgF1set3_singleSHAP_base2tunedXGBoost  = cross_val_score(xgbc_tuned, X, y, scoring=\"f1\", cv = 10).mean() ##<3## \n",
    "stdF1set3_singleSHAP_base2tunedXGBoost  = cross_val_score(xgbc_tuned, X, y, scoring=\"f1\", cv = 10).std() ##<3##\n",
    "print('Mean F1 Score: ', avgF1set3_singleSHAP_base2tunedXGBoost)\n",
    "print('std F1 Score: ', stdF1set3_singleSHAP_base2tunedXGBoost)"
   ]
  },
  {
   "cell_type": "code",
   "execution_count": 63,
   "id": "ddd993c5",
   "metadata": {},
   "outputs": [
    {
     "name": "stdout",
     "output_type": "stream",
     "text": [
      "Fitting 5 folds for each of 729 candidates, totalling 3645 fits\n",
      "\n",
      " Time taken: 0 hours 2 minutes and 23.92 seconds.\n",
      "{'colsample_bytree': 0.1, 'eta': 0.01, 'learning_rate': 0.1, 'max_depth': 5, 'min_child_weight': 5, 'subsample': 0.75}\n",
      "Mean F1 Score:  0.1833333333333333\n",
      "std F1 Score:  0.2833333333333333\n"
     ]
    }
   ],
   "source": [
    "## tuned parameter_set4##\n",
    "\n",
    "start_time = timer(None)\n",
    "# Instantiate the grid search model\n",
    "grid_search = GridSearchCV(estimator = xgbc, param_grid = paramXGBoost_grid4,\n",
    "                           cv = 5, n_jobs = -1, verbose = 2,scoring='f1')\n",
    "# Fit the grid search to the data\n",
    "grid_search.fit(X_train, y_train)\n",
    "\n",
    "timer(start_time)\n",
    "print(grid_search.best_params_)\n",
    "\n",
    "\n",
    "xgbc_tuned = XGBClassifier(subsample=grid_search.best_params_['subsample'],\n",
    "                                   max_depth=grid_search.best_params_['max_depth'],\n",
    "                                   colsample_bytree=grid_search.best_params_['colsample_bytree'],\n",
    "                                   min_child_weight=grid_search.best_params_['min_child_weight'],\n",
    "                                   learning_rate=grid_search.best_params_['learning_rate'],\n",
    "                                   eta=grid_search.best_params_['eta'])\n",
    "xgbc_tuned.fit(X_train,y_train)\n",
    "\n",
    "## results F1 and stdF1 ##\n",
    "avgF1set4_singleSHAP_base2tunedXGBoost  = cross_val_score(xgbc_tuned, X, y, scoring=\"f1\", cv = 10).mean() ##<3## \n",
    "stdF1set4_singleSHAP_base2tunedXGBoost  = cross_val_score(xgbc_tuned, X, y, scoring=\"f1\", cv = 10).std() ##<3##\n",
    "print('Mean F1 Score: ', avgF1set4_singleSHAP_base2tunedXGBoost)\n",
    "print('std F1 Score: ', stdF1set4_singleSHAP_base2tunedXGBoost)"
   ]
  },
  {
   "cell_type": "markdown",
   "id": "c7954fc9",
   "metadata": {},
   "source": [
    "### threshold: 2.5%"
   ]
  },
  {
   "cell_type": "code",
   "execution_count": 64,
   "id": "0a00740f",
   "metadata": {},
   "outputs": [
    {
     "name": "stdout",
     "output_type": "stream",
     "text": [
      "thres_p2_5 (value,iloc_threshold)(0.0423625111579895, 49)\n",
      "Mean F1 Score:  0.6566666666666666\n",
      "std F1 Score:  0.2959166549328825\n"
     ]
    }
   ],
   "source": [
    "# threshold: 2.5%\n",
    "SHAP_XGBoostfeatures = pd.read_csv('SHAP_XGBoostfeatures.csv')\n",
    "k =(filter_arr(SHAP_XGBoostfeatures['value_SHAP'], thres_p2_5-1))\n",
    "print(\"thres_p2_5 (value,iloc_threshold)\" + str(filter_arr(SHAP_XGBoostfeatures['value_SHAP'], thres_p2_5-1)))\n",
    "SHAP_XGBoostfeatures = SHAP_XGBoostfeatures.iloc[:k[1]+1]\n",
    "\n",
    "df_filter = df1.filter(items=SHAP_XGBoostfeatures['Feature'])\n",
    "X = df_filter\n",
    "y = df1['class']\n",
    "\n",
    "\n",
    "\n",
    "\n",
    "## before tuned ##\n",
    "X_train, X_test, y_train, y_test = train_test_split(X, y, test_size=0.2, random_state=123) \n",
    "xgbc = XGBClassifier(random_state=123)\n",
    "xgbc.fit(X_train,y_train)\n",
    "## results F1 and stdF1 ##\n",
    "avgF1_singleSHAP_p2_5XGBoost = cross_val_score(xgbc, X, y, scoring=\"f1\", cv = 10).mean() ##<3## \n",
    "stdF1_singleSHAP_p2_5XGBoost = cross_val_score(xgbc, X, y, scoring=\"f1\", cv = 10).std() ##<3##\n",
    "print('Mean F1 Score: ', avgF1_singleSHAP_p2_5XGBoost)\n",
    "print('std F1 Score: ', stdF1_singleSHAP_p2_5XGBoost)"
   ]
  },
  {
   "cell_type": "code",
   "execution_count": 65,
   "id": "dcbd6d3c",
   "metadata": {},
   "outputs": [
    {
     "data": {
      "text/plain": [
       "50"
      ]
     },
     "execution_count": 65,
     "metadata": {},
     "output_type": "execute_result"
    }
   ],
   "source": [
    "n_singleSHAP_p2_5XGBoost = k[1]+1\n",
    "n_singleSHAP_p2_5XGBoost"
   ]
  },
  {
   "cell_type": "code",
   "execution_count": 66,
   "id": "369d74ea",
   "metadata": {},
   "outputs": [
    {
     "name": "stdout",
     "output_type": "stream",
     "text": [
      "Fitting 5 folds for each of 729 candidates, totalling 3645 fits\n",
      "\n",
      " Time taken: 0 hours 4 minutes and 1.73 seconds.\n",
      "{'colsample_bytree': 0.5, 'eta': 0.01, 'learning_rate': 0.1, 'max_depth': 5, 'min_child_weight': 1, 'subsample': 0.75}\n",
      "Mean F1 Score:  0.8033333333333333\n",
      "std F1 Score:  0.2203280382621432\n"
     ]
    }
   ],
   "source": [
    "## tuned parameter_set1##\n",
    "\n",
    "start_time = timer(None)\n",
    "# Instantiate the grid search model\n",
    "grid_search = GridSearchCV(estimator = xgbc, param_grid = paramXGBoost_grid1,\n",
    "                           cv = 5, n_jobs = -1, verbose = 2,scoring='f1')\n",
    "# Fit the grid search to the data\n",
    "grid_search.fit(X_train, y_train)\n",
    "\n",
    "timer(start_time)\n",
    "print(grid_search.best_params_)\n",
    "\n",
    "\n",
    "xgbc_tuned = XGBClassifier(subsample=grid_search.best_params_['subsample'],\n",
    "                                   max_depth=grid_search.best_params_['max_depth'],\n",
    "                                   colsample_bytree=grid_search.best_params_['colsample_bytree'],\n",
    "                                   min_child_weight=grid_search.best_params_['min_child_weight'],\n",
    "                                   learning_rate=grid_search.best_params_['learning_rate'],\n",
    "                                   eta=grid_search.best_params_['eta'])\n",
    "xgbc_tuned.fit(X_train,y_train)\n",
    "\n",
    "## results F1 and stdF1 ##\n",
    "avgF1set1_singleSHAP_p2_5tunedXGBoost  = cross_val_score(xgbc_tuned, X, y, scoring=\"f1\", cv = 10).mean() ##<3## \n",
    "stdF1set1_singleSHAP_p2_5tunedXGBoost  = cross_val_score(xgbc_tuned, X, y, scoring=\"f1\", cv = 10).std() ##<3##\n",
    "print('Mean F1 Score: ', avgF1set1_singleSHAP_p2_5tunedXGBoost)\n",
    "print('std F1 Score: ', stdF1set1_singleSHAP_p2_5tunedXGBoost)"
   ]
  },
  {
   "cell_type": "code",
   "execution_count": 67,
   "id": "8300297d",
   "metadata": {},
   "outputs": [
    {
     "name": "stdout",
     "output_type": "stream",
     "text": [
      "Fitting 5 folds for each of 729 candidates, totalling 3645 fits\n",
      "\n",
      " Time taken: 0 hours 3 minutes and 12.45 seconds.\n",
      "{'colsample_bytree': 1, 'eta': 0.01, 'learning_rate': 0.1, 'max_depth': 7, 'min_child_weight': 0.5, 'subsample': 0.2}\n",
      "Mean F1 Score:  0.8033333333333333\n",
      "std F1 Score:  0.22032803826214323\n"
     ]
    }
   ],
   "source": [
    "## tuned parameter_set2##\n",
    "\n",
    "start_time = timer(None)\n",
    "# Instantiate the grid search model\n",
    "grid_search = GridSearchCV(estimator = xgbc, param_grid = paramXGBoost_grid2,\n",
    "                           cv = 5, n_jobs = -1, verbose = 2,scoring='f1')\n",
    "# Fit the grid search to the data\n",
    "grid_search.fit(X_train, y_train)\n",
    "\n",
    "timer(start_time)\n",
    "print(grid_search.best_params_)\n",
    "\n",
    "\n",
    "xgbc_tuned = XGBClassifier(subsample=grid_search.best_params_['subsample'],\n",
    "                                   max_depth=grid_search.best_params_['max_depth'],\n",
    "                                   colsample_bytree=grid_search.best_params_['colsample_bytree'],\n",
    "                                   min_child_weight=grid_search.best_params_['min_child_weight'],\n",
    "                                   learning_rate=grid_search.best_params_['learning_rate'],\n",
    "                                   eta=grid_search.best_params_['eta'])\n",
    "xgbc_tuned.fit(X_train,y_train)\n",
    "\n",
    "## results F1 and stdF1 ##\n",
    "avgF1set2_singleSHAP_p2_5tunedXGBoost  = cross_val_score(xgbc_tuned, X, y, scoring=\"f1\", cv = 10).mean() ##<3## \n",
    "stdF1set2_singleSHAP_p2_5tunedXGBoost  = cross_val_score(xgbc_tuned, X, y, scoring=\"f1\", cv = 10).std() ##<3##\n",
    "print('Mean F1 Score: ', avgF1set2_singleSHAP_p2_5tunedXGBoost)\n",
    "print('std F1 Score: ', stdF1set2_singleSHAP_p2_5tunedXGBoost)"
   ]
  },
  {
   "cell_type": "code",
   "execution_count": 68,
   "id": "513d56cc",
   "metadata": {},
   "outputs": [
    {
     "name": "stdout",
     "output_type": "stream",
     "text": [
      "Fitting 5 folds for each of 729 candidates, totalling 3645 fits\n",
      "\n",
      " Time taken: 0 hours 2 minutes and 57.05 seconds.\n",
      "{'colsample_bytree': 0.1, 'eta': 0.01, 'learning_rate': 0.1, 'max_depth': 10, 'min_child_weight': 20, 'subsample': 0.2}\n",
      "Mean F1 Score:  0.0\n",
      "std F1 Score:  0.0\n"
     ]
    }
   ],
   "source": [
    "## tuned parameter_set3##\n",
    "\n",
    "start_time = timer(None)\n",
    "# Instantiate the grid search model\n",
    "grid_search = GridSearchCV(estimator = xgbc, param_grid = paramXGBoost_grid3,\n",
    "                           cv = 5, n_jobs = -1, verbose = 2,scoring='f1')\n",
    "# Fit the grid search to the data\n",
    "grid_search.fit(X_train, y_train)\n",
    "\n",
    "timer(start_time)\n",
    "print(grid_search.best_params_)\n",
    "\n",
    "\n",
    "xgbc_tuned = XGBClassifier(subsample=grid_search.best_params_['subsample'],\n",
    "                                   max_depth=grid_search.best_params_['max_depth'],\n",
    "                                   colsample_bytree=grid_search.best_params_['colsample_bytree'],\n",
    "                                   min_child_weight=grid_search.best_params_['min_child_weight'],\n",
    "                                   learning_rate=grid_search.best_params_['learning_rate'],\n",
    "                                   eta=grid_search.best_params_['eta'])\n",
    "xgbc_tuned.fit(X_train,y_train)\n",
    "\n",
    "## results F1 and stdF1 ##\n",
    "avgF1set3_singleSHAP_p2_5tunedXGBoost  = cross_val_score(xgbc_tuned, X, y, scoring=\"f1\", cv = 10).mean() ##<3## \n",
    "stdF1set3_singleSHAP_p2_5tunedXGBoost  = cross_val_score(xgbc_tuned, X, y, scoring=\"f1\", cv = 10).std() ##<3##\n",
    "print('Mean F1 Score: ', avgF1set3_singleSHAP_p2_5tunedXGBoost)\n",
    "print('std F1 Score: ', stdF1set3_singleSHAP_p2_5tunedXGBoost)"
   ]
  },
  {
   "cell_type": "code",
   "execution_count": 69,
   "id": "54fb2601",
   "metadata": {},
   "outputs": [
    {
     "name": "stdout",
     "output_type": "stream",
     "text": [
      "Fitting 5 folds for each of 729 candidates, totalling 3645 fits\n",
      "\n",
      " Time taken: 0 hours 2 minutes and 37.05 seconds.\n",
      "{'colsample_bytree': 0.1, 'eta': 0.01, 'learning_rate': 0.1, 'max_depth': 5, 'min_child_weight': 5, 'subsample': 0.75}\n",
      "Mean F1 Score:  0.14666666666666667\n",
      "std F1 Score:  0.29484459183327977\n"
     ]
    }
   ],
   "source": [
    "## tuned parameter_set4##\n",
    "\n",
    "start_time = timer(None)\n",
    "# Instantiate the grid search model\n",
    "grid_search = GridSearchCV(estimator = xgbc, param_grid = paramXGBoost_grid4,\n",
    "                           cv = 5, n_jobs = -1, verbose = 2,scoring='f1')\n",
    "# Fit the grid search to the data\n",
    "grid_search.fit(X_train, y_train)\n",
    "\n",
    "timer(start_time)\n",
    "print(grid_search.best_params_)\n",
    "\n",
    "\n",
    "xgbc_tuned = XGBClassifier(subsample=grid_search.best_params_['subsample'],\n",
    "                                   max_depth=grid_search.best_params_['max_depth'],\n",
    "                                   colsample_bytree=grid_search.best_params_['colsample_bytree'],\n",
    "                                   min_child_weight=grid_search.best_params_['min_child_weight'],\n",
    "                                   learning_rate=grid_search.best_params_['learning_rate'],\n",
    "                                   eta=grid_search.best_params_['eta'])\n",
    "xgbc_tuned.fit(X_train,y_train)\n",
    "\n",
    "## results F1 and stdF1 ##\n",
    "avgF1set4_singleSHAP_p2_5tunedXGBoost  = cross_val_score(xgbc_tuned, X, y, scoring=\"f1\", cv = 10).mean() ##<3## \n",
    "stdF1set4_singleSHAP_p2_5tunedXGBoost  = cross_val_score(xgbc_tuned, X, y, scoring=\"f1\", cv = 10).std() ##<3##\n",
    "print('Mean F1 Score: ', avgF1set4_singleSHAP_p2_5tunedXGBoost)\n",
    "print('std F1 Score: ', stdF1set4_singleSHAP_p2_5tunedXGBoost)"
   ]
  },
  {
   "cell_type": "raw",
   "id": "d2da1353",
   "metadata": {},
   "source": []
  },
  {
   "cell_type": "code",
   "execution_count": null,
   "id": "de31efc6",
   "metadata": {},
   "outputs": [],
   "source": []
  },
  {
   "cell_type": "code",
   "execution_count": null,
   "id": "ae67a4ce",
   "metadata": {},
   "outputs": [],
   "source": []
  },
  {
   "cell_type": "code",
   "execution_count": null,
   "id": "125eadaa",
   "metadata": {},
   "outputs": [],
   "source": []
  },
  {
   "cell_type": "markdown",
   "id": "d14709d4",
   "metadata": {},
   "source": [
    "### threshold: 5%"
   ]
  },
  {
   "cell_type": "code",
   "execution_count": 70,
   "id": "ed89eca2",
   "metadata": {},
   "outputs": [
    {
     "name": "stdout",
     "output_type": "stream",
     "text": [
      "thres_p5 (value,iloc_threshold)(0.0148341255262494, 78)\n",
      "Mean F1 Score:  0.7423809523809524\n",
      "std F1 Score:  0.2027749665881613\n"
     ]
    }
   ],
   "source": [
    "# threshold: 5%\n",
    "SHAP_XGBoostfeatures = pd.read_csv('SHAP_XGBoostfeatures.csv')\n",
    "k =(filter_arr(SHAP_XGBoostfeatures['value_SHAP'], thres_p5-1))\n",
    "print(\"thres_p5 (value,iloc_threshold)\" + str(filter_arr(SHAP_XGBoostfeatures['value_SHAP'], thres_p5-1)))\n",
    "SHAP_XGBoostfeatures = SHAP_XGBoostfeatures.iloc[:k[1]+1]\n",
    "\n",
    "df_filter = df1.filter(items=SHAP_XGBoostfeatures['Feature'])\n",
    "X = df_filter\n",
    "y = df1['class']\n",
    "\n",
    "\n",
    "\n",
    "\n",
    "## before tuned ##\n",
    "X_train, X_test, y_train, y_test = train_test_split(X, y, test_size=0.2, random_state=123) \n",
    "xgbc = XGBClassifier(random_state=123)\n",
    "xgbc.fit(X_train,y_train)\n",
    "## results F1 and stdF1 ##\n",
    "avgF1_singleSHAP_p5XGBoost = cross_val_score(xgbc, X, y, scoring=\"f1\", cv = 10).mean() ##<3## \n",
    "stdF1_singleSHAP_p5XGBoost = cross_val_score(xgbc, X, y, scoring=\"f1\", cv = 10).std() ##<3##\n",
    "print('Mean F1 Score: ', avgF1_singleSHAP_p5XGBoost)\n",
    "print('std F1 Score: ', stdF1_singleSHAP_p5XGBoost)"
   ]
  },
  {
   "cell_type": "code",
   "execution_count": 71,
   "id": "3345829e",
   "metadata": {},
   "outputs": [
    {
     "data": {
      "text/plain": [
       "79"
      ]
     },
     "execution_count": 71,
     "metadata": {},
     "output_type": "execute_result"
    }
   ],
   "source": [
    "n_singleSHAP_p5XGBoost = k[1]+1\n",
    "n_singleSHAP_p5XGBoost"
   ]
  },
  {
   "cell_type": "code",
   "execution_count": 72,
   "id": "8ac65344",
   "metadata": {},
   "outputs": [
    {
     "name": "stdout",
     "output_type": "stream",
     "text": [
      "Fitting 5 folds for each of 729 candidates, totalling 3645 fits\n",
      "\n",
      " Time taken: 0 hours 2 minutes and 32.96 seconds.\n",
      "{'colsample_bytree': 0.5, 'eta': 0.01, 'learning_rate': 0.1, 'max_depth': 5, 'min_child_weight': 1, 'subsample': 0.5}\n",
      "Mean F1 Score:  0.7633333333333333\n",
      "std F1 Score:  0.30856297754447326\n"
     ]
    }
   ],
   "source": [
    "## tuned parameter_set1##\n",
    "\n",
    "start_time = timer(None)\n",
    "# Instantiate the grid search model\n",
    "grid_search = GridSearchCV(estimator = xgbc, param_grid = paramXGBoost_grid1,\n",
    "                           cv = 5, n_jobs = -1, verbose = 2,scoring='f1')\n",
    "# Fit the grid search to the data\n",
    "grid_search.fit(X_train, y_train)\n",
    "\n",
    "timer(start_time)\n",
    "print(grid_search.best_params_)\n",
    "\n",
    "\n",
    "xgbc_tuned = XGBClassifier(subsample=grid_search.best_params_['subsample'],\n",
    "                                   max_depth=grid_search.best_params_['max_depth'],\n",
    "                                   colsample_bytree=grid_search.best_params_['colsample_bytree'],\n",
    "                                   min_child_weight=grid_search.best_params_['min_child_weight'],\n",
    "                                   learning_rate=grid_search.best_params_['learning_rate'],\n",
    "                                   eta=grid_search.best_params_['eta'])\n",
    "xgbc_tuned.fit(X_train,y_train)\n",
    "\n",
    "## results F1 and stdF1 ##\n",
    "avgF1set1_singleSHAP_p5tunedXGBoost  = cross_val_score(xgbc_tuned, X, y, scoring=\"f1\", cv = 10).mean() ##<3## \n",
    "stdF1set1_singleSHAP_p5tunedXGBoost  = cross_val_score(xgbc_tuned, X, y, scoring=\"f1\", cv = 10).std() ##<3##\n",
    "print('Mean F1 Score: ', avgF1set1_singleSHAP_p5tunedXGBoost)\n",
    "print('std F1 Score: ', stdF1set1_singleSHAP_p5tunedXGBoost)"
   ]
  },
  {
   "cell_type": "code",
   "execution_count": 73,
   "id": "5b9e4a71",
   "metadata": {},
   "outputs": [
    {
     "name": "stdout",
     "output_type": "stream",
     "text": [
      "Fitting 5 folds for each of 729 candidates, totalling 3645 fits\n",
      "\n",
      " Time taken: 0 hours 3 minutes and 50.96 seconds.\n",
      "{'colsample_bytree': 1, 'eta': 0.01, 'learning_rate': 0.05, 'max_depth': 7, 'min_child_weight': 0.5, 'subsample': 0.2}\n",
      "Mean F1 Score:  0.8200000000000001\n",
      "std F1 Score:  0.20231987873991358\n"
     ]
    }
   ],
   "source": [
    "## tuned parameter_set2##\n",
    "\n",
    "start_time = timer(None)\n",
    "# Instantiate the grid search model\n",
    "grid_search = GridSearchCV(estimator = xgbc, param_grid = paramXGBoost_grid2,\n",
    "                           cv = 5, n_jobs = -1, verbose = 2,scoring='f1')\n",
    "# Fit the grid search to the data\n",
    "grid_search.fit(X_train, y_train)\n",
    "\n",
    "timer(start_time)\n",
    "print(grid_search.best_params_)\n",
    "\n",
    "\n",
    "xgbc_tuned = XGBClassifier(subsample=grid_search.best_params_['subsample'],\n",
    "                                   max_depth=grid_search.best_params_['max_depth'],\n",
    "                                   colsample_bytree=grid_search.best_params_['colsample_bytree'],\n",
    "                                   min_child_weight=grid_search.best_params_['min_child_weight'],\n",
    "                                   learning_rate=grid_search.best_params_['learning_rate'],\n",
    "                                   eta=grid_search.best_params_['eta'])\n",
    "xgbc_tuned.fit(X_train,y_train)\n",
    "\n",
    "## results F1 and stdF1 ##\n",
    "avgF1set2_singleSHAP_p5tunedXGBoost  = cross_val_score(xgbc_tuned, X, y, scoring=\"f1\", cv = 10).mean() ##<3## \n",
    "stdF1set2_singleSHAP_p5tunedXGBoost  = cross_val_score(xgbc_tuned, X, y, scoring=\"f1\", cv = 10).std() ##<3##\n",
    "print('Mean F1 Score: ', avgF1set2_singleSHAP_p5tunedXGBoost)\n",
    "print('std F1 Score: ', stdF1set2_singleSHAP_p5tunedXGBoost)"
   ]
  },
  {
   "cell_type": "code",
   "execution_count": 74,
   "id": "53780211",
   "metadata": {},
   "outputs": [
    {
     "name": "stdout",
     "output_type": "stream",
     "text": [
      "Fitting 5 folds for each of 729 candidates, totalling 3645 fits\n",
      "\n",
      " Time taken: 0 hours 3 minutes and 9.99 seconds.\n",
      "{'colsample_bytree': 0.1, 'eta': 0.01, 'learning_rate': 0.1, 'max_depth': 10, 'min_child_weight': 20, 'subsample': 0.2}\n",
      "Mean F1 Score:  0.0\n",
      "std F1 Score:  0.0\n"
     ]
    }
   ],
   "source": [
    "## tuned parameter_set3##\n",
    "\n",
    "start_time = timer(None)\n",
    "# Instantiate the grid search model\n",
    "grid_search = GridSearchCV(estimator = xgbc, param_grid = paramXGBoost_grid3,\n",
    "                           cv = 5, n_jobs = -1, verbose = 2,scoring='f1')\n",
    "# Fit the grid search to the data\n",
    "grid_search.fit(X_train, y_train)\n",
    "\n",
    "timer(start_time)\n",
    "print(grid_search.best_params_)\n",
    "\n",
    "\n",
    "xgbc_tuned = XGBClassifier(subsample=grid_search.best_params_['subsample'],\n",
    "                                   max_depth=grid_search.best_params_['max_depth'],\n",
    "                                   colsample_bytree=grid_search.best_params_['colsample_bytree'],\n",
    "                                   min_child_weight=grid_search.best_params_['min_child_weight'],\n",
    "                                   learning_rate=grid_search.best_params_['learning_rate'],\n",
    "                                   eta=grid_search.best_params_['eta'])\n",
    "xgbc_tuned.fit(X_train,y_train)\n",
    "\n",
    "## results F1 and stdF1 ##\n",
    "avgF1set3_singleSHAP_p5tunedXGBoost  = cross_val_score(xgbc_tuned, X, y, scoring=\"f1\", cv = 10).mean() ##<3## \n",
    "stdF1set3_singleSHAP_p5tunedXGBoost  = cross_val_score(xgbc_tuned, X, y, scoring=\"f1\", cv = 10).std() ##<3##\n",
    "print('Mean F1 Score: ', avgF1set3_singleSHAP_p5tunedXGBoost)\n",
    "print('std F1 Score: ', stdF1set3_singleSHAP_p5tunedXGBoost)"
   ]
  },
  {
   "cell_type": "code",
   "execution_count": 75,
   "id": "3eaf0188",
   "metadata": {},
   "outputs": [
    {
     "name": "stdout",
     "output_type": "stream",
     "text": [
      "Fitting 5 folds for each of 729 candidates, totalling 3645 fits\n",
      "\n",
      " Time taken: 0 hours 2 minutes and 34.91 seconds.\n",
      "{'colsample_bytree': 0.1, 'eta': 0.01, 'learning_rate': 0.1, 'max_depth': 5, 'min_child_weight': 5, 'subsample': 0.75}\n",
      "Mean F1 Score:  0.2833333333333333\n",
      "std F1 Score:  0.3655285366576884\n"
     ]
    }
   ],
   "source": [
    "## tuned parameter_set4##\n",
    "\n",
    "start_time = timer(None)\n",
    "# Instantiate the grid search model\n",
    "grid_search = GridSearchCV(estimator = xgbc, param_grid = paramXGBoost_grid4,\n",
    "                           cv = 5, n_jobs = -1, verbose = 2,scoring='f1')\n",
    "# Fit the grid search to the data\n",
    "grid_search.fit(X_train, y_train)\n",
    "\n",
    "timer(start_time)\n",
    "print(grid_search.best_params_)\n",
    "\n",
    "\n",
    "xgbc_tuned = XGBClassifier(subsample=grid_search.best_params_['subsample'],\n",
    "                                   max_depth=grid_search.best_params_['max_depth'],\n",
    "                                   colsample_bytree=grid_search.best_params_['colsample_bytree'],\n",
    "                                   min_child_weight=grid_search.best_params_['min_child_weight'],\n",
    "                                   learning_rate=grid_search.best_params_['learning_rate'],\n",
    "                                   eta=grid_search.best_params_['eta'])\n",
    "xgbc_tuned.fit(X_train,y_train)\n",
    "\n",
    "## results F1 and stdF1 ##\n",
    "avgF1set4_singleSHAP_p5tunedXGBoost  = cross_val_score(xgbc_tuned, X, y, scoring=\"f1\", cv = 10).mean() ##<3## \n",
    "stdF1set4_singleSHAP_p5tunedXGBoost  = cross_val_score(xgbc_tuned, X, y, scoring=\"f1\", cv = 10).std() ##<3##\n",
    "print('Mean F1 Score: ', avgF1set4_singleSHAP_p5tunedXGBoost)\n",
    "print('std F1 Score: ', stdF1set4_singleSHAP_p5tunedXGBoost)"
   ]
  },
  {
   "cell_type": "code",
   "execution_count": null,
   "id": "7cbb8f8a",
   "metadata": {},
   "outputs": [],
   "source": []
  },
  {
   "cell_type": "code",
   "execution_count": null,
   "id": "275b78d3",
   "metadata": {},
   "outputs": [],
   "source": []
  },
  {
   "cell_type": "code",
   "execution_count": null,
   "id": "86ed2573",
   "metadata": {},
   "outputs": [],
   "source": []
  },
  {
   "cell_type": "markdown",
   "id": "a6c2423e",
   "metadata": {},
   "source": [
    "### threshold: 10%"
   ]
  },
  {
   "cell_type": "code",
   "execution_count": 76,
   "id": "f61ecbf3",
   "metadata": {},
   "outputs": [
    {
     "name": "stdout",
     "output_type": "stream",
     "text": [
      "thres_p10 (value,iloc_threshold)(0.0148341255262494, 78)\n",
      "Mean F1 Score:  0.7423809523809524\n",
      "std F1 Score:  0.2027749665881613\n"
     ]
    }
   ],
   "source": [
    "# threshold: 10%\n",
    "SHAP_XGBoostfeatures = pd.read_csv('SHAP_XGBoostfeatures.csv')\n",
    "k =(filter_arr(SHAP_XGBoostfeatures['value_SHAP'], thres_p10-1))\n",
    "print(\"thres_p10 (value,iloc_threshold)\" + str(filter_arr(SHAP_XGBoostfeatures['value_SHAP'], thres_p10-1)))\n",
    "SHAP_XGBoostfeatures = SHAP_XGBoostfeatures.iloc[:k[1]+1]\n",
    "\n",
    "df_filter = df1.filter(items=SHAP_XGBoostfeatures['Feature'])\n",
    "X = df_filter\n",
    "y = df1['class']\n",
    "\n",
    "\n",
    "\n",
    "\n",
    "## before tuned ##\n",
    "X_train, X_test, y_train, y_test = train_test_split(X, y, test_size=0.2, random_state=123) \n",
    "xgbc = XGBClassifier(random_state=123)\n",
    "xgbc.fit(X_train,y_train)\n",
    "## results F1 and stdF1 ##\n",
    "avgF1_singleSHAP_p10XGBoost = cross_val_score(xgbc, X, y, scoring=\"f1\", cv = 10).mean() ##<3## \n",
    "stdF1_singleSHAP_p10XGBoost = cross_val_score(xgbc, X, y, scoring=\"f1\", cv = 10).std() ##<3##\n",
    "print('Mean F1 Score: ', avgF1_singleSHAP_p10XGBoost)\n",
    "print('std F1 Score: ', stdF1_singleSHAP_p10XGBoost)"
   ]
  },
  {
   "cell_type": "code",
   "execution_count": 77,
   "id": "6d9969c4",
   "metadata": {},
   "outputs": [
    {
     "data": {
      "text/plain": [
       "79"
      ]
     },
     "execution_count": 77,
     "metadata": {},
     "output_type": "execute_result"
    }
   ],
   "source": [
    "n_singleSHAP_p10XGBoost = k[1]+1\n",
    "n_singleSHAP_p10XGBoost"
   ]
  },
  {
   "cell_type": "code",
   "execution_count": 78,
   "id": "d9033831",
   "metadata": {},
   "outputs": [
    {
     "name": "stdout",
     "output_type": "stream",
     "text": [
      "Fitting 5 folds for each of 729 candidates, totalling 3645 fits\n",
      "\n",
      " Time taken: 0 hours 3 minutes and 46.82 seconds.\n",
      "{'colsample_bytree': 0.5, 'eta': 0.01, 'learning_rate': 0.1, 'max_depth': 5, 'min_child_weight': 1, 'subsample': 0.5}\n",
      "Mean F1 Score:  0.7633333333333333\n",
      "std F1 Score:  0.30856297754447326\n"
     ]
    }
   ],
   "source": [
    "## tuned parameter_set1##\n",
    "\n",
    "start_time = timer(None)\n",
    "# Instantiate the grid search model\n",
    "grid_search = GridSearchCV(estimator = xgbc, param_grid = paramXGBoost_grid1,\n",
    "                           cv = 5, n_jobs = -1, verbose = 2,scoring='f1')\n",
    "# Fit the grid search to the data\n",
    "grid_search.fit(X_train, y_train)\n",
    "\n",
    "timer(start_time)\n",
    "print(grid_search.best_params_)\n",
    "\n",
    "\n",
    "xgbc_tuned = XGBClassifier(subsample=grid_search.best_params_['subsample'],\n",
    "                                   max_depth=grid_search.best_params_['max_depth'],\n",
    "                                   colsample_bytree=grid_search.best_params_['colsample_bytree'],\n",
    "                                   min_child_weight=grid_search.best_params_['min_child_weight'],\n",
    "                                   learning_rate=grid_search.best_params_['learning_rate'],\n",
    "                                   eta=grid_search.best_params_['eta'])\n",
    "xgbc_tuned.fit(X_train,y_train)\n",
    "\n",
    "## results F1 and stdF1 ##\n",
    "avgF1set1_singleSHAP_p10tunedXGBoost  = cross_val_score(xgbc_tuned, X, y, scoring=\"f1\", cv = 10).mean() ##<3## \n",
    "stdF1set1_singleSHAP_p10tunedXGBoost  = cross_val_score(xgbc_tuned, X, y, scoring=\"f1\", cv = 10).std() ##<3##\n",
    "print('Mean F1 Score: ', avgF1set1_singleSHAP_p10tunedXGBoost)\n",
    "print('std F1 Score: ', stdF1set1_singleSHAP_p10tunedXGBoost)"
   ]
  },
  {
   "cell_type": "code",
   "execution_count": 79,
   "id": "2d0d7119",
   "metadata": {},
   "outputs": [
    {
     "name": "stdout",
     "output_type": "stream",
     "text": [
      "Fitting 5 folds for each of 729 candidates, totalling 3645 fits\n",
      "\n",
      " Time taken: 0 hours 3 minutes and 32.69 seconds.\n",
      "{'colsample_bytree': 1, 'eta': 0.01, 'learning_rate': 0.05, 'max_depth': 7, 'min_child_weight': 0.5, 'subsample': 0.2}\n",
      "Mean F1 Score:  0.8200000000000001\n",
      "std F1 Score:  0.20231987873991358\n"
     ]
    }
   ],
   "source": [
    "## tuned parameter_set2##\n",
    "\n",
    "start_time = timer(None)\n",
    "# Instantiate the grid search model\n",
    "grid_search = GridSearchCV(estimator = xgbc, param_grid = paramXGBoost_grid2,\n",
    "                           cv = 5, n_jobs = -1, verbose = 2,scoring='f1')\n",
    "# Fit the grid search to the data\n",
    "grid_search.fit(X_train, y_train)\n",
    "\n",
    "timer(start_time)\n",
    "print(grid_search.best_params_)\n",
    "\n",
    "\n",
    "xgbc_tuned = XGBClassifier(subsample=grid_search.best_params_['subsample'],\n",
    "                                   max_depth=grid_search.best_params_['max_depth'],\n",
    "                                   colsample_bytree=grid_search.best_params_['colsample_bytree'],\n",
    "                                   min_child_weight=grid_search.best_params_['min_child_weight'],\n",
    "                                   learning_rate=grid_search.best_params_['learning_rate'],\n",
    "                                   eta=grid_search.best_params_['eta'])\n",
    "xgbc_tuned.fit(X_train,y_train)\n",
    "\n",
    "## results F1 and stdF1 ##\n",
    "avgF1set2_singleSHAP_p10tunedXGBoost = cross_val_score(xgbc_tuned, X, y, scoring=\"f1\", cv = 10).mean() ##<3## \n",
    "stdF1set2_singleSHAP_p10tunedXGBoost  = cross_val_score(xgbc_tuned, X, y, scoring=\"f1\", cv = 10).std() ##<3##\n",
    "print('Mean F1 Score: ', avgF1set2_singleSHAP_p10tunedXGBoost)\n",
    "print('std F1 Score: ', stdF1set2_singleSHAP_p10tunedXGBoost)"
   ]
  },
  {
   "cell_type": "code",
   "execution_count": 80,
   "id": "a8a6895f",
   "metadata": {},
   "outputs": [
    {
     "name": "stdout",
     "output_type": "stream",
     "text": [
      "Fitting 5 folds for each of 729 candidates, totalling 3645 fits\n",
      "\n",
      " Time taken: 0 hours 3 minutes and 9.11 seconds.\n",
      "{'colsample_bytree': 0.1, 'eta': 0.01, 'learning_rate': 0.1, 'max_depth': 10, 'min_child_weight': 20, 'subsample': 0.2}\n",
      "Mean F1 Score:  0.0\n",
      "std F1 Score:  0.0\n"
     ]
    }
   ],
   "source": [
    "## tuned parameter_set3##\n",
    "\n",
    "start_time = timer(None)\n",
    "# Instantiate the grid search model\n",
    "grid_search = GridSearchCV(estimator = xgbc, param_grid = paramXGBoost_grid3,\n",
    "                           cv = 5, n_jobs = -1, verbose = 2,scoring='f1')\n",
    "# Fit the grid search to the data\n",
    "grid_search.fit(X_train, y_train)\n",
    "\n",
    "timer(start_time)\n",
    "print(grid_search.best_params_)\n",
    "\n",
    "\n",
    "xgbc_tuned = XGBClassifier(subsample=grid_search.best_params_['subsample'],\n",
    "                                   max_depth=grid_search.best_params_['max_depth'],\n",
    "                                   colsample_bytree=grid_search.best_params_['colsample_bytree'],\n",
    "                                   min_child_weight=grid_search.best_params_['min_child_weight'],\n",
    "                                   learning_rate=grid_search.best_params_['learning_rate'],\n",
    "                                   eta=grid_search.best_params_['eta'])\n",
    "xgbc_tuned.fit(X_train,y_train)\n",
    "\n",
    "## results F1 and stdF1 ##\n",
    "avgF1set3_singleSHAP_p10tunedXGBoost  = cross_val_score(xgbc_tuned, X, y, scoring=\"f1\", cv = 10).mean() ##<3## \n",
    "stdF1set3_singleSHAP_p10tunedXGBoost  = cross_val_score(xgbc_tuned, X, y, scoring=\"f1\", cv = 10).std() ##<3##\n",
    "print('Mean F1 Score: ', avgF1set3_singleSHAP_p10tunedXGBoost)\n",
    "print('std F1 Score: ', stdF1set3_singleSHAP_p10tunedXGBoost)"
   ]
  },
  {
   "cell_type": "code",
   "execution_count": 81,
   "id": "13703d9f",
   "metadata": {},
   "outputs": [
    {
     "name": "stdout",
     "output_type": "stream",
     "text": [
      "Fitting 5 folds for each of 729 candidates, totalling 3645 fits\n",
      "\n",
      " Time taken: 0 hours 3 minutes and 20.65 seconds.\n",
      "{'colsample_bytree': 0.1, 'eta': 0.01, 'learning_rate': 0.1, 'max_depth': 5, 'min_child_weight': 5, 'subsample': 0.75}\n",
      "Mean F1 Score:  0.2833333333333333\n",
      "std F1 Score:  0.3655285366576884\n"
     ]
    }
   ],
   "source": [
    "## tuned parameter_set4##\n",
    "\n",
    "start_time = timer(None)\n",
    "# Instantiate the grid search model\n",
    "grid_search = GridSearchCV(estimator = xgbc, param_grid = paramXGBoost_grid4,\n",
    "                           cv = 5, n_jobs = -1, verbose = 2,scoring='f1')\n",
    "# Fit the grid search to the data\n",
    "grid_search.fit(X_train, y_train)\n",
    "\n",
    "timer(start_time)\n",
    "print(grid_search.best_params_)\n",
    "\n",
    "\n",
    "xgbc_tuned = XGBClassifier(subsample=grid_search.best_params_['subsample'],\n",
    "                                   max_depth=grid_search.best_params_['max_depth'],\n",
    "                                   colsample_bytree=grid_search.best_params_['colsample_bytree'],\n",
    "                                   min_child_weight=grid_search.best_params_['min_child_weight'],\n",
    "                                   learning_rate=grid_search.best_params_['learning_rate'],\n",
    "                                   eta=grid_search.best_params_['eta'])\n",
    "xgbc_tuned.fit(X_train,y_train)\n",
    "\n",
    "## results F1 and stdF1 ##\n",
    "avgF1set4_singleSHAP_p10tunedXGBoost  = cross_val_score(xgbc_tuned, X, y, scoring=\"f1\", cv = 10).mean() ##<3## \n",
    "stdF1set4_singleSHAP_p10tunedXGBoost = cross_val_score(xgbc_tuned, X, y, scoring=\"f1\", cv = 10).std() ##<3##\n",
    "print('Mean F1 Score: ', avgF1set4_singleSHAP_p10tunedXGBoost)\n",
    "print('std F1 Score: ', stdF1set4_singleSHAP_p10tunedXGBoost)"
   ]
  },
  {
   "cell_type": "code",
   "execution_count": null,
   "id": "01f18817",
   "metadata": {},
   "outputs": [],
   "source": [
    "\n"
   ]
  },
  {
   "cell_type": "markdown",
   "id": "76580956",
   "metadata": {},
   "source": [
    "### threshold: 20%"
   ]
  },
  {
   "cell_type": "code",
   "execution_count": 82,
   "id": "76d0ffbe",
   "metadata": {},
   "outputs": [
    {
     "name": "stdout",
     "output_type": "stream",
     "text": [
      "thres_p20 (value,iloc_threshold)(0.0148341255262494, 78)\n",
      "Mean F1 Score:  0.7423809523809524\n",
      "std F1 Score:  0.2027749665881613\n"
     ]
    }
   ],
   "source": [
    "# threshold: 20%\n",
    "SHAP_XGBoostfeatures = pd.read_csv('SHAP_XGBoostfeatures.csv')\n",
    "k =(filter_arr(SHAP_XGBoostfeatures['value_SHAP'], thres_p20-1))\n",
    "print(\"thres_p20 (value,iloc_threshold)\" + str(filter_arr(SHAP_XGBoostfeatures['value_SHAP'], thres_p20-1)))\n",
    "SHAP_XGBoostfeatures = SHAP_XGBoostfeatures.iloc[:k[1]+1]\n",
    "\n",
    "df_filter = df1.filter(items=SHAP_XGBoostfeatures['Feature'])\n",
    "X = df_filter\n",
    "y = df1['class']\n",
    "\n",
    "\n",
    "\n",
    "\n",
    "## before tuned ##\n",
    "X_train, X_test, y_train, y_test = train_test_split(X, y, test_size=0.2, random_state=123) \n",
    "xgbc = XGBClassifier(random_state=123)\n",
    "xgbc.fit(X_train,y_train)\n",
    "## results F1 and stdF1 ##\n",
    "avgF1_singleSHAP_p20XGBoost = cross_val_score(xgbc, X, y, scoring=\"f1\", cv = 10).mean() ##<3## \n",
    "stdF1_singleSHAP_p20XGBoost = cross_val_score(xgbc, X, y, scoring=\"f1\", cv = 10).std() ##<3##\n",
    "print('Mean F1 Score: ', avgF1_singleSHAP_p20XGBoost)\n",
    "print('std F1 Score: ', stdF1_singleSHAP_p20XGBoost)"
   ]
  },
  {
   "cell_type": "code",
   "execution_count": 83,
   "id": "68913a89",
   "metadata": {},
   "outputs": [
    {
     "data": {
      "text/plain": [
       "79"
      ]
     },
     "execution_count": 83,
     "metadata": {},
     "output_type": "execute_result"
    }
   ],
   "source": [
    "n_singleSHAP_p20XGBoost = k[1]+1\n",
    "n_singleSHAP_p20XGBoost"
   ]
  },
  {
   "cell_type": "code",
   "execution_count": 84,
   "id": "fc5a61dd",
   "metadata": {},
   "outputs": [
    {
     "name": "stdout",
     "output_type": "stream",
     "text": [
      "Fitting 5 folds for each of 729 candidates, totalling 3645 fits\n",
      "\n",
      " Time taken: 0 hours 2 minutes and 59.79 seconds.\n",
      "{'colsample_bytree': 0.5, 'eta': 0.01, 'learning_rate': 0.1, 'max_depth': 5, 'min_child_weight': 1, 'subsample': 0.5}\n",
      "Mean F1 Score:  0.7633333333333333\n",
      "std F1 Score:  0.30856297754447326\n"
     ]
    }
   ],
   "source": [
    "## tuned parameter_set1##\n",
    "\n",
    "start_time = timer(None)\n",
    "# Instantiate the grid search model\n",
    "grid_search = GridSearchCV(estimator = xgbc, param_grid = paramXGBoost_grid1,\n",
    "                           cv = 5, n_jobs = -1, verbose = 2,scoring='f1')\n",
    "# Fit the grid search to the data\n",
    "grid_search.fit(X_train, y_train)\n",
    "\n",
    "timer(start_time)\n",
    "print(grid_search.best_params_)\n",
    "\n",
    "\n",
    "xgbc_tuned = XGBClassifier(subsample=grid_search.best_params_['subsample'],\n",
    "                                   max_depth=grid_search.best_params_['max_depth'],\n",
    "                                   colsample_bytree=grid_search.best_params_['colsample_bytree'],\n",
    "                                   min_child_weight=grid_search.best_params_['min_child_weight'],\n",
    "                                   learning_rate=grid_search.best_params_['learning_rate'],\n",
    "                                   eta=grid_search.best_params_['eta'])\n",
    "xgbc_tuned.fit(X_train,y_train)\n",
    "\n",
    "## results F1 and stdF1 ##\n",
    "avgF1set1_singleSHAP_p20tunedXGBoost  = cross_val_score(xgbc_tuned, X, y, scoring=\"f1\", cv = 10).mean() ##<3## \n",
    "stdF1set1_singleSHAP_p20tunedXGBoost  = cross_val_score(xgbc_tuned, X, y, scoring=\"f1\", cv = 10).std() ##<3##\n",
    "print('Mean F1 Score: ', avgF1set1_singleSHAP_p20tunedXGBoost)\n",
    "print('std F1 Score: ', stdF1set1_singleSHAP_p20tunedXGBoost)"
   ]
  },
  {
   "cell_type": "code",
   "execution_count": 85,
   "id": "aa32c7d8",
   "metadata": {},
   "outputs": [
    {
     "name": "stdout",
     "output_type": "stream",
     "text": [
      "Fitting 5 folds for each of 729 candidates, totalling 3645 fits\n",
      "\n",
      " Time taken: 0 hours 3 minutes and 26.76 seconds.\n",
      "{'colsample_bytree': 1, 'eta': 0.01, 'learning_rate': 0.05, 'max_depth': 7, 'min_child_weight': 0.5, 'subsample': 0.2}\n",
      "Mean F1 Score:  0.8200000000000001\n",
      "std F1 Score:  0.20231987873991358\n"
     ]
    }
   ],
   "source": [
    "## tuned parameter_set2##\n",
    "\n",
    "start_time = timer(None)\n",
    "# Instantiate the grid search model\n",
    "grid_search = GridSearchCV(estimator = xgbc, param_grid = paramXGBoost_grid2,\n",
    "                           cv = 5, n_jobs = -1, verbose = 2,scoring='f1')\n",
    "# Fit the grid search to the data\n",
    "grid_search.fit(X_train, y_train)\n",
    "\n",
    "timer(start_time)\n",
    "print(grid_search.best_params_)\n",
    "\n",
    "\n",
    "xgbc_tuned = XGBClassifier(subsample=grid_search.best_params_['subsample'],\n",
    "                                   max_depth=grid_search.best_params_['max_depth'],\n",
    "                                   colsample_bytree=grid_search.best_params_['colsample_bytree'],\n",
    "                                   min_child_weight=grid_search.best_params_['min_child_weight'],\n",
    "                                   learning_rate=grid_search.best_params_['learning_rate'],\n",
    "                                   eta=grid_search.best_params_['eta'])\n",
    "xgbc_tuned.fit(X_train,y_train)\n",
    "\n",
    "## results F1 and stdF1 ##\n",
    "avgF1set2_singleSHAP_p20tunedXGBoost = cross_val_score(xgbc_tuned, X, y, scoring=\"f1\", cv = 10).mean() ##<3## \n",
    "stdF1set2_singleSHAP_p20tunedXGBoost  = cross_val_score(xgbc_tuned, X, y, scoring=\"f1\", cv = 10).std() ##<3##\n",
    "print('Mean F1 Score: ', avgF1set2_singleSHAP_p20tunedXGBoost)\n",
    "print('std F1 Score: ', stdF1set2_singleSHAP_p20tunedXGBoost)"
   ]
  },
  {
   "cell_type": "code",
   "execution_count": 86,
   "id": "530159ba",
   "metadata": {},
   "outputs": [
    {
     "name": "stdout",
     "output_type": "stream",
     "text": [
      "Fitting 5 folds for each of 729 candidates, totalling 3645 fits\n",
      "\n",
      " Time taken: 0 hours 3 minutes and 49.61 seconds.\n",
      "{'colsample_bytree': 0.1, 'eta': 0.01, 'learning_rate': 0.1, 'max_depth': 10, 'min_child_weight': 20, 'subsample': 0.2}\n",
      "Mean F1 Score:  0.0\n",
      "std F1 Score:  0.0\n"
     ]
    }
   ],
   "source": [
    "## tuned parameter_set3##\n",
    "\n",
    "start_time = timer(None)\n",
    "# Instantiate the grid search model\n",
    "grid_search = GridSearchCV(estimator = xgbc, param_grid = paramXGBoost_grid3,\n",
    "                           cv = 5, n_jobs = -1, verbose = 2,scoring='f1')\n",
    "# Fit the grid search to the data\n",
    "grid_search.fit(X_train, y_train)\n",
    "\n",
    "timer(start_time)\n",
    "print(grid_search.best_params_)\n",
    "\n",
    "\n",
    "xgbc_tuned = XGBClassifier(subsample=grid_search.best_params_['subsample'],\n",
    "                                   max_depth=grid_search.best_params_['max_depth'],\n",
    "                                   colsample_bytree=grid_search.best_params_['colsample_bytree'],\n",
    "                                   min_child_weight=grid_search.best_params_['min_child_weight'],\n",
    "                                   learning_rate=grid_search.best_params_['learning_rate'],\n",
    "                                   eta=grid_search.best_params_['eta'])\n",
    "xgbc_tuned.fit(X_train,y_train)\n",
    "\n",
    "## results F1 and stdF1 ##\n",
    "avgF1set3_singleSHAP_p20tunedXGBoost  = cross_val_score(xgbc_tuned, X, y, scoring=\"f1\", cv = 10).mean() ##<3## \n",
    "stdF1set3_singleSHAP_p20tunedXGBoost  = cross_val_score(xgbc_tuned, X, y, scoring=\"f1\", cv = 10).std() ##<3##\n",
    "print('Mean F1 Score: ', avgF1set3_singleSHAP_p20tunedXGBoost)\n",
    "print('std F1 Score: ', stdF1set3_singleSHAP_p20tunedXGBoost)"
   ]
  },
  {
   "cell_type": "code",
   "execution_count": 87,
   "id": "2dfd9e0e",
   "metadata": {},
   "outputs": [
    {
     "name": "stdout",
     "output_type": "stream",
     "text": [
      "Fitting 5 folds for each of 729 candidates, totalling 3645 fits\n",
      "\n",
      " Time taken: 0 hours 3 minutes and 35.95 seconds.\n",
      "{'colsample_bytree': 0.1, 'eta': 0.01, 'learning_rate': 0.1, 'max_depth': 5, 'min_child_weight': 5, 'subsample': 0.75}\n",
      "Mean F1 Score:  0.2833333333333333\n",
      "std F1 Score:  0.3655285366576884\n"
     ]
    }
   ],
   "source": [
    "## tuned parameter_set4##\n",
    "\n",
    "start_time = timer(None)\n",
    "# Instantiate the grid search model\n",
    "grid_search = GridSearchCV(estimator = xgbc, param_grid = paramXGBoost_grid4,\n",
    "                           cv = 5, n_jobs = -1, verbose = 2,scoring='f1')\n",
    "# Fit the grid search to the data\n",
    "grid_search.fit(X_train, y_train)\n",
    "\n",
    "timer(start_time)\n",
    "print(grid_search.best_params_)\n",
    "\n",
    "\n",
    "xgbc_tuned = XGBClassifier(subsample=grid_search.best_params_['subsample'],\n",
    "                                   max_depth=grid_search.best_params_['max_depth'],\n",
    "                                   colsample_bytree=grid_search.best_params_['colsample_bytree'],\n",
    "                                   min_child_weight=grid_search.best_params_['min_child_weight'],\n",
    "                                   learning_rate=grid_search.best_params_['learning_rate'],\n",
    "                                   eta=grid_search.best_params_['eta'])\n",
    "xgbc_tuned.fit(X_train,y_train)\n",
    "\n",
    "## results F1 and stdF1 ##\n",
    "avgF1set4_singleSHAP_p20tunedXGBoost  = cross_val_score(xgbc_tuned, X, y, scoring=\"f1\", cv = 10).mean() ##<3## \n",
    "stdF1set4_singleSHAP_p20tunedXGBoost = cross_val_score(xgbc_tuned, X, y, scoring=\"f1\", cv = 10).std() ##<3##\n",
    "print('Mean F1 Score: ', avgF1set4_singleSHAP_p20tunedXGBoost)\n",
    "print('std F1 Score: ', stdF1set4_singleSHAP_p20tunedXGBoost)"
   ]
  },
  {
   "cell_type": "code",
   "execution_count": null,
   "id": "558d5874",
   "metadata": {},
   "outputs": [],
   "source": []
  },
  {
   "cell_type": "code",
   "execution_count": null,
   "id": "9ead7d98",
   "metadata": {},
   "outputs": [],
   "source": []
  },
  {
   "cell_type": "code",
   "execution_count": null,
   "id": "c968c1b2",
   "metadata": {},
   "outputs": [],
   "source": []
  },
  {
   "cell_type": "code",
   "execution_count": null,
   "id": "7bc0847a",
   "metadata": {},
   "outputs": [],
   "source": []
  },
  {
   "cell_type": "markdown",
   "id": "12b62be7",
   "metadata": {},
   "source": [
    "## 3.Embedded"
   ]
  },
  {
   "cell_type": "markdown",
   "id": "92ddf29a",
   "metadata": {},
   "source": [
    "### threshold: logbase2(n)"
   ]
  },
  {
   "cell_type": "code",
   "execution_count": 88,
   "id": "f7c4653e",
   "metadata": {},
   "outputs": [
    {
     "name": "stdout",
     "output_type": "stream",
     "text": [
      "thres_base2n (value,iloc_threshold)(0.0348668321967124, 5)\n",
      "Mean F1 Score:  0.7023809523809523\n",
      "std F1 Score:  0.32423816167676556\n"
     ]
    }
   ],
   "source": [
    "# threshold: logbase2(n)\n",
    "embed_XGBoostfeatures = pd.read_csv('embed_XGBoostfeatures.csv')\n",
    "k =(filter_arr(embed_XGBoostfeatures['value_embed'], thres_base2n-1))\n",
    "print(\"thres_base2n (value,iloc_threshold)\" + str(filter_arr(embed_XGBoostfeatures['value_embed'], thres_base2n-1)))\n",
    "embed_XGBoostfeatures = embed_XGBoostfeatures.iloc[:k[1]+1]\n",
    "\n",
    "df_filter = df1.filter(items=embed_XGBoostfeatures['Feature'])\n",
    "X = df_filter\n",
    "y = df1['class']\n",
    "\n",
    "\n",
    "\n",
    "\n",
    "## before tuned ##\n",
    "X_train, X_test, y_train, y_test = train_test_split(X, y, test_size=0.2, random_state=123) \n",
    "xgbc = XGBClassifier(random_state=123)\n",
    "xgbc.fit(X_train,y_train)\n",
    "## results F1 and stdF1 ##\n",
    "avgF1_singleEmbed_base2XGBoost = cross_val_score(xgbc, X, y, scoring=\"f1\", cv = 10).mean() ##<3## \n",
    "stdF1_singleEmbed_base2XGBoost = cross_val_score(xgbc, X, y, scoring=\"f1\", cv = 10).std() ##<3##\n",
    "print('Mean F1 Score: ', avgF1_singleEmbed_base2XGBoost)\n",
    "print('std F1 Score: ', stdF1_singleEmbed_base2XGBoost)"
   ]
  },
  {
   "cell_type": "code",
   "execution_count": 89,
   "id": "f7212d3f",
   "metadata": {},
   "outputs": [
    {
     "data": {
      "text/plain": [
       "6"
      ]
     },
     "execution_count": 89,
     "metadata": {},
     "output_type": "execute_result"
    }
   ],
   "source": [
    "n_singleEmbed_base2XGBoost = k[1]+1\n",
    "n_singleEmbed_base2XGBoost"
   ]
  },
  {
   "cell_type": "code",
   "execution_count": 90,
   "id": "a2514ec6",
   "metadata": {},
   "outputs": [
    {
     "name": "stdout",
     "output_type": "stream",
     "text": [
      "Fitting 5 folds for each of 729 candidates, totalling 3645 fits\n",
      "\n",
      " Time taken: 0 hours 3 minutes and 55.91 seconds.\n",
      "{'colsample_bytree': 1, 'eta': 0.01, 'learning_rate': 0.1, 'max_depth': 5, 'min_child_weight': 1, 'subsample': 0.75}\n",
      "Mean F1 Score:  0.7566666666666666\n",
      "std F1 Score:  0.33600595232822883\n"
     ]
    }
   ],
   "source": [
    "## tuned parameter_set1##\n",
    "\n",
    "start_time = timer(None)\n",
    "# Instantiate the grid search model\n",
    "grid_search = GridSearchCV(estimator = xgbc, param_grid = paramXGBoost_grid1,\n",
    "                           cv = 5, n_jobs = -1, verbose = 2,scoring='f1')\n",
    "# Fit the grid search to the data\n",
    "grid_search.fit(X_train, y_train)\n",
    "\n",
    "timer(start_time)\n",
    "print(grid_search.best_params_)\n",
    "\n",
    "\n",
    "xgbc_tuned = XGBClassifier(subsample=grid_search.best_params_['subsample'],\n",
    "                                   max_depth=grid_search.best_params_['max_depth'],\n",
    "                                   colsample_bytree=grid_search.best_params_['colsample_bytree'],\n",
    "                                   min_child_weight=grid_search.best_params_['min_child_weight'],\n",
    "                                   learning_rate=grid_search.best_params_['learning_rate'],\n",
    "                                   eta=grid_search.best_params_['eta'])\n",
    "xgbc_tuned.fit(X_train,y_train)\n",
    "\n",
    "## results F1 and stdF1 ##\n",
    "avgF1set1_singleEmbed_base2tunedXGBoost  = cross_val_score(xgbc_tuned, X, y, scoring=\"f1\", cv = 10).mean() ##<3## \n",
    "stdF1set1_singleEmbed_base2tunedXGBoost  = cross_val_score(xgbc_tuned, X, y, scoring=\"f1\", cv = 10).std() ##<3##\n",
    "print('Mean F1 Score: ', avgF1set1_singleEmbed_base2tunedXGBoost)\n",
    "print('std F1 Score: ', stdF1set1_singleEmbed_base2tunedXGBoost)"
   ]
  },
  {
   "cell_type": "code",
   "execution_count": 91,
   "id": "f3ffe76b",
   "metadata": {},
   "outputs": [
    {
     "name": "stdout",
     "output_type": "stream",
     "text": [
      "Fitting 5 folds for each of 729 candidates, totalling 3645 fits\n",
      "\n",
      " Time taken: 0 hours 3 minutes and 17.82 seconds.\n",
      "{'colsample_bytree': 0.5, 'eta': 0.01, 'learning_rate': 0.1, 'max_depth': 7, 'min_child_weight': 1, 'subsample': 0.2}\n",
      "Mean F1 Score:  0.6780952380952381\n",
      "std F1 Score:  0.2844352322771288\n"
     ]
    }
   ],
   "source": [
    "## tuned parameter_set2##\n",
    "\n",
    "start_time = timer(None)\n",
    "# Instantiate the grid search model\n",
    "grid_search = GridSearchCV(estimator = xgbc, param_grid = paramXGBoost_grid2,\n",
    "                           cv = 5, n_jobs = -1, verbose = 2,scoring='f1')\n",
    "# Fit the grid search to the data\n",
    "grid_search.fit(X_train, y_train)\n",
    "\n",
    "timer(start_time)\n",
    "print(grid_search.best_params_)\n",
    "\n",
    "\n",
    "xgbc_tuned = XGBClassifier(subsample=grid_search.best_params_['subsample'],\n",
    "                                   max_depth=grid_search.best_params_['max_depth'],\n",
    "                                   colsample_bytree=grid_search.best_params_['colsample_bytree'],\n",
    "                                   min_child_weight=grid_search.best_params_['min_child_weight'],\n",
    "                                   learning_rate=grid_search.best_params_['learning_rate'],\n",
    "                                   eta=grid_search.best_params_['eta'])\n",
    "xgbc_tuned.fit(X_train,y_train)\n",
    "\n",
    "## results F1 and stdF1 ##\n",
    "avgF1set2_singleEmbed_base2tunedXGBoost  = cross_val_score(xgbc_tuned, X, y, scoring=\"f1\", cv = 10).mean() ##<3## \n",
    "stdF1set2_singleEmbed_base2tunedXGBoost  = cross_val_score(xgbc_tuned, X, y, scoring=\"f1\", cv = 10).std() ##<3##\n",
    "print('Mean F1 Score: ', avgF1set2_singleEmbed_base2tunedXGBoost)\n",
    "print('std F1 Score: ', stdF1set2_singleEmbed_base2tunedXGBoost)"
   ]
  },
  {
   "cell_type": "code",
   "execution_count": 92,
   "id": "1f872cca",
   "metadata": {},
   "outputs": [
    {
     "name": "stdout",
     "output_type": "stream",
     "text": [
      "Fitting 5 folds for each of 729 candidates, totalling 3645 fits\n",
      "\n",
      " Time taken: 0 hours 2 minutes and 42.55 seconds.\n",
      "{'colsample_bytree': 0.1, 'eta': 0.01, 'learning_rate': 0.1, 'max_depth': 10, 'min_child_weight': 20, 'subsample': 0.2}\n",
      "Mean F1 Score:  0.0\n",
      "std F1 Score:  0.0\n"
     ]
    }
   ],
   "source": [
    "## tuned parameter_set3##\n",
    "\n",
    "start_time = timer(None)\n",
    "# Instantiate the grid search model\n",
    "grid_search = GridSearchCV(estimator = xgbc, param_grid = paramXGBoost_grid3,\n",
    "                           cv = 5, n_jobs = -1, verbose = 2,scoring='f1')\n",
    "# Fit the grid search to the data\n",
    "grid_search.fit(X_train, y_train)\n",
    "\n",
    "timer(start_time)\n",
    "print(grid_search.best_params_)\n",
    "\n",
    "\n",
    "xgbc_tuned = XGBClassifier(subsample=grid_search.best_params_['subsample'],\n",
    "                                   max_depth=grid_search.best_params_['max_depth'],\n",
    "                                   colsample_bytree=grid_search.best_params_['colsample_bytree'],\n",
    "                                   min_child_weight=grid_search.best_params_['min_child_weight'],\n",
    "                                   learning_rate=grid_search.best_params_['learning_rate'],\n",
    "                                   eta=grid_search.best_params_['eta'])\n",
    "xgbc_tuned.fit(X_train,y_train)\n",
    "\n",
    "## results F1 and stdF1 ##\n",
    "avgF1set3_singleEmbed_base2tunedXGBoost  = cross_val_score(xgbc_tuned, X, y, scoring=\"f1\", cv = 10).mean() ##<3## \n",
    "stdF1set3_singleEmbed_base2tunedXGBoost  = cross_val_score(xgbc_tuned, X, y, scoring=\"f1\", cv = 10).std() ##<3##\n",
    "print('Mean F1 Score: ', avgF1set3_singleEmbed_base2tunedXGBoost)\n",
    "print('std F1 Score: ', stdF1set3_singleEmbed_base2tunedXGBoost)"
   ]
  },
  {
   "cell_type": "code",
   "execution_count": 93,
   "id": "50922746",
   "metadata": {},
   "outputs": [
    {
     "name": "stdout",
     "output_type": "stream",
     "text": [
      "Fitting 5 folds for each of 729 candidates, totalling 3645 fits\n",
      "\n",
      " Time taken: 0 hours 3 minutes and 42.12 seconds.\n",
      "{'colsample_bytree': 0.1, 'eta': 0.01, 'learning_rate': 0.1, 'max_depth': 5, 'min_child_weight': 5, 'subsample': 0.75}\n",
      "Mean F1 Score:  0.35\n",
      "std F1 Score:  0.36855573979159967\n"
     ]
    }
   ],
   "source": [
    "## tuned parameter_set4##\n",
    "\n",
    "start_time = timer(None)\n",
    "# Instantiate the grid search model\n",
    "grid_search = GridSearchCV(estimator = xgbc, param_grid = paramXGBoost_grid4,\n",
    "                           cv = 5, n_jobs = -1, verbose = 2,scoring='f1')\n",
    "# Fit the grid search to the data\n",
    "grid_search.fit(X_train, y_train)\n",
    "\n",
    "timer(start_time)\n",
    "print(grid_search.best_params_)\n",
    "\n",
    "\n",
    "xgbc_tuned = XGBClassifier(subsample=grid_search.best_params_['subsample'],\n",
    "                                   max_depth=grid_search.best_params_['max_depth'],\n",
    "                                   colsample_bytree=grid_search.best_params_['colsample_bytree'],\n",
    "                                   min_child_weight=grid_search.best_params_['min_child_weight'],\n",
    "                                   learning_rate=grid_search.best_params_['learning_rate'],\n",
    "                                   eta=grid_search.best_params_['eta'])\n",
    "xgbc_tuned.fit(X_train,y_train)\n",
    "\n",
    "## results F1 and stdF1 ##\n",
    "avgF1set4_singleEmbed_base2tunedXGBoost  = cross_val_score(xgbc_tuned, X, y, scoring=\"f1\", cv = 10).mean() ##<3## \n",
    "stdF1set4_singleEmbed_base2tunedXGBoost  = cross_val_score(xgbc_tuned, X, y, scoring=\"f1\", cv = 10).std() ##<3##\n",
    "print('Mean F1 Score: ', avgF1set4_singleEmbed_base2tunedXGBoost)\n",
    "print('std F1 Score: ', stdF1set4_singleEmbed_base2tunedXGBoost)"
   ]
  },
  {
   "cell_type": "markdown",
   "id": "df50f66b",
   "metadata": {},
   "source": [
    "### threshold: 2.5%"
   ]
  },
  {
   "cell_type": "code",
   "execution_count": 94,
   "id": "aa632a85",
   "metadata": {},
   "outputs": [
    {
     "name": "stdout",
     "output_type": "stream",
     "text": [
      "thres_p2_5 (value,iloc_threshold)(0.0057068686001002, 49)\n",
      "Mean F1 Score:  0.5923809523809525\n",
      "std F1 Score:  0.3410747319710383\n"
     ]
    }
   ],
   "source": [
    "# threshold: 2.5%\n",
    "embed_XGBoostfeatures = pd.read_csv('embed_XGBoostfeatures.csv')\n",
    "k =(filter_arr(embed_XGBoostfeatures['value_embed'], thres_p2_5-1))\n",
    "print(\"thres_p2_5 (value,iloc_threshold)\" + str(filter_arr(embed_XGBoostfeatures['value_embed'], thres_p2_5-1)))\n",
    "embed_XGBoostfeatures = embed_XGBoostfeatures.iloc[:k[1]+1]\n",
    "\n",
    "df_filter = df1.filter(items=embed_XGBoostfeatures['Feature'])\n",
    "X = df_filter\n",
    "y = df1['class']\n",
    "\n",
    "\n",
    "\n",
    "\n",
    "## before tuned ##\n",
    "X_train, X_test, y_train, y_test = train_test_split(X, y, test_size=0.2, random_state=123) \n",
    "xgbc = XGBClassifier(random_state=123)\n",
    "xgbc.fit(X_train,y_train)\n",
    "## results F1 and stdF1 ##\n",
    "avgF1_singleEmbed_p2_5XGBoost = cross_val_score(xgbc, X, y, scoring=\"f1\", cv = 10).mean() ##<3## \n",
    "stdF1_singleEmbed_p2_5XGBoost = cross_val_score(xgbc, X, y, scoring=\"f1\", cv = 10).std() ##<3##\n",
    "print('Mean F1 Score: ', avgF1_singleEmbed_p2_5XGBoost)\n",
    "print('std F1 Score: ', stdF1_singleEmbed_p2_5XGBoost)"
   ]
  },
  {
   "cell_type": "code",
   "execution_count": 95,
   "id": "82d6526f",
   "metadata": {},
   "outputs": [
    {
     "data": {
      "text/plain": [
       "50"
      ]
     },
     "execution_count": 95,
     "metadata": {},
     "output_type": "execute_result"
    }
   ],
   "source": [
    "n_singleEmbed_p2_5XGBoost = k[1]+1\n",
    "n_singleEmbed_p2_5XGBoost"
   ]
  },
  {
   "cell_type": "code",
   "execution_count": 96,
   "id": "592f0c76",
   "metadata": {},
   "outputs": [
    {
     "name": "stdout",
     "output_type": "stream",
     "text": [
      "Fitting 5 folds for each of 729 candidates, totalling 3645 fits\n",
      "\n",
      " Time taken: 0 hours 3 minutes and 38.06 seconds.\n",
      "{'colsample_bytree': 0.5, 'eta': 0.01, 'learning_rate': 0.1, 'max_depth': 5, 'min_child_weight': 1, 'subsample': 0.5}\n",
      "Mean F1 Score:  0.75\n",
      "std F1 Score:  0.30956959368344517\n"
     ]
    }
   ],
   "source": [
    "## tuned parameter_set1##\n",
    "\n",
    "start_time = timer(None)\n",
    "# Instantiate the grid search model\n",
    "grid_search = GridSearchCV(estimator = xgbc, param_grid = paramXGBoost_grid1,\n",
    "                           cv = 5, n_jobs = -1, verbose = 2,scoring='f1')\n",
    "# Fit the grid search to the data\n",
    "grid_search.fit(X_train, y_train)\n",
    "\n",
    "timer(start_time)\n",
    "print(grid_search.best_params_)\n",
    "\n",
    "\n",
    "xgbc_tuned = XGBClassifier(subsample=grid_search.best_params_['subsample'],\n",
    "                                   max_depth=grid_search.best_params_['max_depth'],\n",
    "                                   colsample_bytree=grid_search.best_params_['colsample_bytree'],\n",
    "                                   min_child_weight=grid_search.best_params_['min_child_weight'],\n",
    "                                   learning_rate=grid_search.best_params_['learning_rate'],\n",
    "                                   eta=grid_search.best_params_['eta'])\n",
    "xgbc_tuned.fit(X_train,y_train)\n",
    "\n",
    "## results F1 and stdF1 ##\n",
    "avgF1set1_singleEmbed_p2_5tunedXGBoost  = cross_val_score(xgbc_tuned, X, y, scoring=\"f1\", cv = 10).mean() ##<3## \n",
    "stdF1set1_singleEmbed_p2_5tunedXGBoost  = cross_val_score(xgbc_tuned, X, y, scoring=\"f1\", cv = 10).std() ##<3##\n",
    "print('Mean F1 Score: ', avgF1set1_singleEmbed_p2_5tunedXGBoost)\n",
    "print('std F1 Score: ', stdF1set1_singleEmbed_p2_5tunedXGBoost)"
   ]
  },
  {
   "cell_type": "code",
   "execution_count": 97,
   "id": "5bf4df01",
   "metadata": {},
   "outputs": [
    {
     "name": "stdout",
     "output_type": "stream",
     "text": [
      "Fitting 5 folds for each of 729 candidates, totalling 3645 fits\n",
      "\n",
      " Time taken: 0 hours 3 minutes and 12.52 seconds.\n",
      "{'colsample_bytree': 0.75, 'eta': 0.01, 'learning_rate': 0.05, 'max_depth': 7, 'min_child_weight': 0.5, 'subsample': 0.2}\n",
      "Mean F1 Score:  0.7866666666666666\n",
      "std F1 Score:  0.19731531449264988\n"
     ]
    }
   ],
   "source": [
    "## tuned parameter_set2##\n",
    "\n",
    "start_time = timer(None)\n",
    "# Instantiate the grid search model\n",
    "grid_search = GridSearchCV(estimator = xgbc, param_grid = paramXGBoost_grid2,\n",
    "                           cv = 5, n_jobs = -1, verbose = 2,scoring='f1')\n",
    "# Fit the grid search to the data\n",
    "grid_search.fit(X_train, y_train)\n",
    "\n",
    "timer(start_time)\n",
    "print(grid_search.best_params_)\n",
    "\n",
    "\n",
    "xgbc_tuned = XGBClassifier(subsample=grid_search.best_params_['subsample'],\n",
    "                                   max_depth=grid_search.best_params_['max_depth'],\n",
    "                                   colsample_bytree=grid_search.best_params_['colsample_bytree'],\n",
    "                                   min_child_weight=grid_search.best_params_['min_child_weight'],\n",
    "                                   learning_rate=grid_search.best_params_['learning_rate'],\n",
    "                                   eta=grid_search.best_params_['eta'])\n",
    "xgbc_tuned.fit(X_train,y_train)\n",
    "\n",
    "## results F1 and stdF1 ##\n",
    "avgF1set2_singleEmbed_p2_5tunedXGBoost  = cross_val_score(xgbc_tuned, X, y, scoring=\"f1\", cv = 10).mean() ##<3## \n",
    "stdF1set2_singleEmbed_p2_5tunedXGBoost  = cross_val_score(xgbc_tuned, X, y, scoring=\"f1\", cv = 10).std() ##<3##\n",
    "print('Mean F1 Score: ', avgF1set2_singleEmbed_p2_5tunedXGBoost)\n",
    "print('std F1 Score: ', stdF1set2_singleEmbed_p2_5tunedXGBoost)"
   ]
  },
  {
   "cell_type": "code",
   "execution_count": 98,
   "id": "f767c928",
   "metadata": {},
   "outputs": [
    {
     "name": "stdout",
     "output_type": "stream",
     "text": [
      "Fitting 5 folds for each of 729 candidates, totalling 3645 fits\n",
      "\n",
      " Time taken: 0 hours 2 minutes and 8.59 seconds.\n",
      "{'colsample_bytree': 0.1, 'eta': 0.01, 'learning_rate': 0.1, 'max_depth': 10, 'min_child_weight': 20, 'subsample': 0.2}\n",
      "Mean F1 Score:  0.0\n",
      "std F1 Score:  0.0\n"
     ]
    }
   ],
   "source": [
    "## tuned parameter_set3##\n",
    "\n",
    "start_time = timer(None)\n",
    "# Instantiate the grid search model\n",
    "grid_search = GridSearchCV(estimator = xgbc, param_grid = paramXGBoost_grid3,\n",
    "                           cv = 5, n_jobs = -1, verbose = 2,scoring='f1')\n",
    "# Fit the grid search to the data\n",
    "grid_search.fit(X_train, y_train)\n",
    "\n",
    "timer(start_time)\n",
    "print(grid_search.best_params_)\n",
    "\n",
    "\n",
    "xgbc_tuned = XGBClassifier(subsample=grid_search.best_params_['subsample'],\n",
    "                                   max_depth=grid_search.best_params_['max_depth'],\n",
    "                                   colsample_bytree=grid_search.best_params_['colsample_bytree'],\n",
    "                                   min_child_weight=grid_search.best_params_['min_child_weight'],\n",
    "                                   learning_rate=grid_search.best_params_['learning_rate'],\n",
    "                                   eta=grid_search.best_params_['eta'])\n",
    "xgbc_tuned.fit(X_train,y_train)\n",
    "\n",
    "## results F1 and stdF1 ##\n",
    "avgF1set3_singleEmbed_p2_5tunedXGBoost  = cross_val_score(xgbc_tuned, X, y, scoring=\"f1\", cv = 10).mean() ##<3## \n",
    "stdF1set3_singleEmbed_p2_5tunedXGBoost  = cross_val_score(xgbc_tuned, X, y, scoring=\"f1\", cv = 10).std() ##<3##\n",
    "print('Mean F1 Score: ', avgF1set3_singleEmbed_p2_5tunedXGBoost)\n",
    "print('std F1 Score: ', stdF1set3_singleEmbed_p2_5tunedXGBoost)"
   ]
  },
  {
   "cell_type": "code",
   "execution_count": 99,
   "id": "f6e78363",
   "metadata": {},
   "outputs": [
    {
     "name": "stdout",
     "output_type": "stream",
     "text": [
      "Fitting 5 folds for each of 729 candidates, totalling 3645 fits\n",
      "\n",
      " Time taken: 0 hours 3 minutes and 42.2 seconds.\n",
      "{'colsample_bytree': 0.1, 'eta': 0.01, 'learning_rate': 0.1, 'max_depth': 5, 'min_child_weight': 5, 'subsample': 0.75}\n",
      "Mean F1 Score:  0.31666666666666665\n",
      "std F1 Score:  0.32015621187164245\n"
     ]
    }
   ],
   "source": [
    "## tuned parameter_set4##\n",
    "\n",
    "start_time = timer(None)\n",
    "# Instantiate the grid search model\n",
    "grid_search = GridSearchCV(estimator = xgbc, param_grid = paramXGBoost_grid4,\n",
    "                           cv = 5, n_jobs = -1, verbose = 2,scoring='f1')\n",
    "# Fit the grid search to the data\n",
    "grid_search.fit(X_train, y_train)\n",
    "\n",
    "timer(start_time)\n",
    "print(grid_search.best_params_)\n",
    "\n",
    "\n",
    "xgbc_tuned = XGBClassifier(subsample=grid_search.best_params_['subsample'],\n",
    "                                   max_depth=grid_search.best_params_['max_depth'],\n",
    "                                   colsample_bytree=grid_search.best_params_['colsample_bytree'],\n",
    "                                   min_child_weight=grid_search.best_params_['min_child_weight'],\n",
    "                                   learning_rate=grid_search.best_params_['learning_rate'],\n",
    "                                   eta=grid_search.best_params_['eta'])\n",
    "xgbc_tuned.fit(X_train,y_train)\n",
    "\n",
    "## results F1 and stdF1 ##\n",
    "avgF1set4_singleEmbed_p2_5tunedXGBoost  = cross_val_score(xgbc_tuned, X, y, scoring=\"f1\", cv = 10).mean() ##<3## \n",
    "stdF1set4_singleEmbed_p2_5tunedXGBoost  = cross_val_score(xgbc_tuned, X, y, scoring=\"f1\", cv = 10).std() ##<3##\n",
    "print('Mean F1 Score: ', avgF1set4_singleEmbed_p2_5tunedXGBoost)\n",
    "print('std F1 Score: ', stdF1set4_singleEmbed_p2_5tunedXGBoost)"
   ]
  },
  {
   "cell_type": "raw",
   "id": "2c795a71",
   "metadata": {},
   "source": []
  },
  {
   "cell_type": "code",
   "execution_count": null,
   "id": "433fda2d",
   "metadata": {},
   "outputs": [],
   "source": []
  },
  {
   "cell_type": "code",
   "execution_count": null,
   "id": "9aa5ebd4",
   "metadata": {},
   "outputs": [],
   "source": []
  },
  {
   "cell_type": "code",
   "execution_count": null,
   "id": "05c21598",
   "metadata": {},
   "outputs": [],
   "source": []
  },
  {
   "cell_type": "markdown",
   "id": "689779fe",
   "metadata": {},
   "source": [
    "### threshold: 5%"
   ]
  },
  {
   "cell_type": "code",
   "execution_count": 100,
   "id": "d38e1e30",
   "metadata": {},
   "outputs": [
    {
     "name": "stdout",
     "output_type": "stream",
     "text": [
      "thres_p5 (value,iloc_threshold)(0.0001315514236921, 78)\n",
      "Mean F1 Score:  0.64\n",
      "std F1 Score:  0.37380922050336496\n"
     ]
    }
   ],
   "source": [
    "# threshold: 5%\n",
    "embed_XGBoostfeatures = pd.read_csv('embed_XGBoostfeatures.csv')\n",
    "k =(filter_arr(embed_XGBoostfeatures['value_embed'], thres_p5-1))\n",
    "print(\"thres_p5 (value,iloc_threshold)\" + str(filter_arr(embed_XGBoostfeatures['value_embed'], thres_p5-1)))\n",
    "embed_XGBoostfeatures = embed_XGBoostfeatures.iloc[:k[1]+1]\n",
    "\n",
    "df_filter = df1.filter(items=embed_XGBoostfeatures['Feature'])\n",
    "X = df_filter\n",
    "y = df1['class']\n",
    "\n",
    "\n",
    "\n",
    "\n",
    "## before tuned ##\n",
    "X_train, X_test, y_train, y_test = train_test_split(X, y, test_size=0.2, random_state=123) \n",
    "xgbc = XGBClassifier(random_state=123)\n",
    "xgbc.fit(X_train,y_train)\n",
    "## results F1 and stdF1 ##\n",
    "avgF1_singleEmbed_p5XGBoost = cross_val_score(xgbc, X, y, scoring=\"f1\", cv = 10).mean() ##<3## \n",
    "stdF1_singleEmbed_p5XGBoost = cross_val_score(xgbc, X, y, scoring=\"f1\", cv = 10).std() ##<3##\n",
    "print('Mean F1 Score: ', avgF1_singleEmbed_p5XGBoost)\n",
    "print('std F1 Score: ', stdF1_singleEmbed_p5XGBoost)"
   ]
  },
  {
   "cell_type": "code",
   "execution_count": 101,
   "id": "51699c10",
   "metadata": {},
   "outputs": [
    {
     "data": {
      "text/plain": [
       "79"
      ]
     },
     "execution_count": 101,
     "metadata": {},
     "output_type": "execute_result"
    }
   ],
   "source": [
    "n_singleEmbed_p5XGBoost = k[1]+1\n",
    "n_singleEmbed_p5XGBoost "
   ]
  },
  {
   "cell_type": "code",
   "execution_count": 102,
   "id": "e943fb7e",
   "metadata": {},
   "outputs": [
    {
     "name": "stdout",
     "output_type": "stream",
     "text": [
      "Fitting 5 folds for each of 729 candidates, totalling 3645 fits\n",
      "\n",
      " Time taken: 0 hours 4 minutes and 10.85 seconds.\n",
      "{'colsample_bytree': 0.5, 'eta': 0.01, 'learning_rate': 0.1, 'max_depth': 5, 'min_child_weight': 1, 'subsample': 0.5}\n",
      "Mean F1 Score:  0.7323809523809524\n",
      "std F1 Score:  0.16989792854078292\n"
     ]
    }
   ],
   "source": [
    "## tuned parameter_set1##\n",
    "\n",
    "start_time = timer(None)\n",
    "# Instantiate the grid search model\n",
    "grid_search = GridSearchCV(estimator = xgbc, param_grid = paramXGBoost_grid1,\n",
    "                           cv = 5, n_jobs = -1, verbose = 2,scoring='f1')\n",
    "# Fit the grid search to the data\n",
    "grid_search.fit(X_train, y_train)\n",
    "\n",
    "timer(start_time)\n",
    "print(grid_search.best_params_)\n",
    "\n",
    "\n",
    "xgbc_tuned = XGBClassifier(subsample=grid_search.best_params_['subsample'],\n",
    "                                   max_depth=grid_search.best_params_['max_depth'],\n",
    "                                   colsample_bytree=grid_search.best_params_['colsample_bytree'],\n",
    "                                   min_child_weight=grid_search.best_params_['min_child_weight'],\n",
    "                                   learning_rate=grid_search.best_params_['learning_rate'],\n",
    "                                   eta=grid_search.best_params_['eta'])\n",
    "xgbc_tuned.fit(X_train,y_train)\n",
    "\n",
    "## results F1 and stdF1 ##\n",
    "avgF1set1_singleEmbed_p5tunedXGBoost  = cross_val_score(xgbc_tuned, X, y, scoring=\"f1\", cv = 10).mean() ##<3## \n",
    "stdF1set1_singleEmbed_p5tunedXGBoost  = cross_val_score(xgbc_tuned, X, y, scoring=\"f1\", cv = 10).std() ##<3##\n",
    "print('Mean F1 Score: ', avgF1set1_singleEmbed_p5tunedXGBoost)\n",
    "print('std F1 Score: ', stdF1set1_singleEmbed_p5tunedXGBoost)"
   ]
  },
  {
   "cell_type": "code",
   "execution_count": 103,
   "id": "29f59de8",
   "metadata": {},
   "outputs": [
    {
     "name": "stdout",
     "output_type": "stream",
     "text": [
      "Fitting 5 folds for each of 729 candidates, totalling 3645 fits\n",
      "\n",
      " Time taken: 0 hours 2 minutes and 37.9 seconds.\n",
      "{'colsample_bytree': 0.75, 'eta': 0.01, 'learning_rate': 0.1, 'max_depth': 7, 'min_child_weight': 0.5, 'subsample': 0.2}\n",
      "Mean F1 Score:  0.7723809523809524\n",
      "std F1 Score:  0.18621178784376888\n"
     ]
    }
   ],
   "source": [
    "## tuned parameter_set2##\n",
    "\n",
    "start_time = timer(None)\n",
    "# Instantiate the grid search model\n",
    "grid_search = GridSearchCV(estimator = xgbc, param_grid = paramXGBoost_grid2,\n",
    "                           cv = 5, n_jobs = -1, verbose = 2,scoring='f1')\n",
    "# Fit the grid search to the data\n",
    "grid_search.fit(X_train, y_train)\n",
    "\n",
    "timer(start_time)\n",
    "print(grid_search.best_params_)\n",
    "\n",
    "\n",
    "xgbc_tuned = XGBClassifier(subsample=grid_search.best_params_['subsample'],\n",
    "                                   max_depth=grid_search.best_params_['max_depth'],\n",
    "                                   colsample_bytree=grid_search.best_params_['colsample_bytree'],\n",
    "                                   min_child_weight=grid_search.best_params_['min_child_weight'],\n",
    "                                   learning_rate=grid_search.best_params_['learning_rate'],\n",
    "                                   eta=grid_search.best_params_['eta'])\n",
    "xgbc_tuned.fit(X_train,y_train)\n",
    "\n",
    "## results F1 and stdF1 ##\n",
    "avgF1set2_singleEmbed_p5tunedXGBoost  = cross_val_score(xgbc_tuned, X, y, scoring=\"f1\", cv = 10).mean() ##<3## \n",
    "stdF1set2_singleEmbed_p5tunedXGBoost  = cross_val_score(xgbc_tuned, X, y, scoring=\"f1\", cv = 10).std() ##<3##\n",
    "print('Mean F1 Score: ', avgF1set2_singleEmbed_p5tunedXGBoost)\n",
    "print('std F1 Score: ', stdF1set2_singleEmbed_p5tunedXGBoost)"
   ]
  },
  {
   "cell_type": "code",
   "execution_count": 104,
   "id": "12058fdc",
   "metadata": {},
   "outputs": [
    {
     "name": "stdout",
     "output_type": "stream",
     "text": [
      "Fitting 5 folds for each of 729 candidates, totalling 3645 fits\n",
      "\n",
      " Time taken: 0 hours 2 minutes and 3.36 seconds.\n",
      "{'colsample_bytree': 0.1, 'eta': 0.01, 'learning_rate': 0.1, 'max_depth': 10, 'min_child_weight': 20, 'subsample': 0.2}\n",
      "Mean F1 Score:  0.0\n",
      "std F1 Score:  0.0\n"
     ]
    }
   ],
   "source": [
    "## tuned parameter_set3##\n",
    "\n",
    "start_time = timer(None)\n",
    "# Instantiate the grid search model\n",
    "grid_search = GridSearchCV(estimator = xgbc, param_grid = paramXGBoost_grid3,\n",
    "                           cv = 5, n_jobs = -1, verbose = 2,scoring='f1')\n",
    "# Fit the grid search to the data\n",
    "grid_search.fit(X_train, y_train)\n",
    "\n",
    "timer(start_time)\n",
    "print(grid_search.best_params_)\n",
    "\n",
    "\n",
    "xgbc_tuned = XGBClassifier(subsample=grid_search.best_params_['subsample'],\n",
    "                                   max_depth=grid_search.best_params_['max_depth'],\n",
    "                                   colsample_bytree=grid_search.best_params_['colsample_bytree'],\n",
    "                                   min_child_weight=grid_search.best_params_['min_child_weight'],\n",
    "                                   learning_rate=grid_search.best_params_['learning_rate'],\n",
    "                                   eta=grid_search.best_params_['eta'])\n",
    "xgbc_tuned.fit(X_train,y_train)\n",
    "\n",
    "## results F1 and stdF1 ##\n",
    "avgF1set3_singleEmbed_p5tunedXGBoost  = cross_val_score(xgbc_tuned, X, y, scoring=\"f1\", cv = 10).mean() ##<3## \n",
    "stdF1set3_singleEmbed_p5tunedXGBoost  = cross_val_score(xgbc_tuned, X, y, scoring=\"f1\", cv = 10).std() ##<3##\n",
    "print('Mean F1 Score: ', avgF1set3_singleEmbed_p5tunedXGBoost)\n",
    "print('std F1 Score: ', stdF1set3_singleEmbed_p5tunedXGBoost)"
   ]
  },
  {
   "cell_type": "code",
   "execution_count": 105,
   "id": "9d798af6",
   "metadata": {},
   "outputs": [
    {
     "name": "stdout",
     "output_type": "stream",
     "text": [
      "Fitting 5 folds for each of 729 candidates, totalling 3645 fits\n",
      "\n",
      " Time taken: 0 hours 3 minutes and 15.02 seconds.\n",
      "{'colsample_bytree': 0.1, 'eta': 0.01, 'learning_rate': 0.1, 'max_depth': 5, 'min_child_weight': 5, 'subsample': 0.75}\n",
      "Mean F1 Score:  0.06666666666666667\n",
      "std F1 Score:  0.19999999999999998\n"
     ]
    }
   ],
   "source": [
    "## tuned parameter_set4##\n",
    "\n",
    "start_time = timer(None)\n",
    "# Instantiate the grid search model\n",
    "grid_search = GridSearchCV(estimator = xgbc, param_grid = paramXGBoost_grid4,\n",
    "                           cv = 5, n_jobs = -1, verbose = 2,scoring='f1')\n",
    "# Fit the grid search to the data\n",
    "grid_search.fit(X_train, y_train)\n",
    "\n",
    "timer(start_time)\n",
    "print(grid_search.best_params_)\n",
    "\n",
    "\n",
    "xgbc_tuned = XGBClassifier(subsample=grid_search.best_params_['subsample'],\n",
    "                                   max_depth=grid_search.best_params_['max_depth'],\n",
    "                                   colsample_bytree=grid_search.best_params_['colsample_bytree'],\n",
    "                                   min_child_weight=grid_search.best_params_['min_child_weight'],\n",
    "                                   learning_rate=grid_search.best_params_['learning_rate'],\n",
    "                                   eta=grid_search.best_params_['eta'])\n",
    "xgbc_tuned.fit(X_train,y_train)\n",
    "\n",
    "## results F1 and stdF1 ##\n",
    "avgF1set4_singleEmbed_p5tunedXGBoost  = cross_val_score(xgbc_tuned, X, y, scoring=\"f1\", cv = 10).mean() ##<3## \n",
    "stdF1set4_singleEmbed_p5tunedXGBoost  = cross_val_score(xgbc_tuned, X, y, scoring=\"f1\", cv = 10).std() ##<3##\n",
    "print('Mean F1 Score: ', avgF1set4_singleEmbed_p5tunedXGBoost)\n",
    "print('std F1 Score: ', stdF1set4_singleEmbed_p5tunedXGBoost)"
   ]
  },
  {
   "cell_type": "code",
   "execution_count": null,
   "id": "097fcf84",
   "metadata": {},
   "outputs": [],
   "source": []
  },
  {
   "cell_type": "code",
   "execution_count": null,
   "id": "0488a88d",
   "metadata": {},
   "outputs": [],
   "source": []
  },
  {
   "cell_type": "code",
   "execution_count": null,
   "id": "f0c44d2a",
   "metadata": {},
   "outputs": [],
   "source": []
  },
  {
   "cell_type": "markdown",
   "id": "ca356874",
   "metadata": {},
   "source": [
    "### threshold: 10%"
   ]
  },
  {
   "cell_type": "code",
   "execution_count": 106,
   "id": "f51fcf0e",
   "metadata": {},
   "outputs": [
    {
     "name": "stdout",
     "output_type": "stream",
     "text": [
      "thres_p10 (value,iloc_threshold)(0.0001315514236921, 78)\n",
      "Mean F1 Score:  0.64\n",
      "std F1 Score:  0.37380922050336496\n"
     ]
    }
   ],
   "source": [
    "# threshold: 10%\n",
    "embed_XGBoostfeatures = pd.read_csv('embed_XGBoostfeatures.csv')\n",
    "k =(filter_arr(embed_XGBoostfeatures['value_embed'], thres_p10-1))\n",
    "print(\"thres_p10 (value,iloc_threshold)\" + str(filter_arr(embed_XGBoostfeatures['value_embed'], thres_p10-1)))\n",
    "embed_XGBoostfeatures = embed_XGBoostfeatures.iloc[:k[1]+1]\n",
    "\n",
    "df_filter = df1.filter(items=embed_XGBoostfeatures['Feature'])\n",
    "X = df_filter\n",
    "y = df1['class']\n",
    "\n",
    "\n",
    "\n",
    "\n",
    "## before tuned ##\n",
    "X_train, X_test, y_train, y_test = train_test_split(X, y, test_size=0.2, random_state=123) \n",
    "xgbc = XGBClassifier(random_state=123)\n",
    "xgbc.fit(X_train,y_train)\n",
    "## results F1 and stdF1 ##\n",
    "avgF1_singleEmbed_p10XGBoost = cross_val_score(xgbc, X, y, scoring=\"f1\", cv = 10).mean() ##<3## \n",
    "stdF1_singleEmbed_p10XGBoost = cross_val_score(xgbc, X, y, scoring=\"f1\", cv = 10).std() ##<3##\n",
    "print('Mean F1 Score: ', avgF1_singleEmbed_p10XGBoost)\n",
    "print('std F1 Score: ', stdF1_singleEmbed_p10XGBoost)"
   ]
  },
  {
   "cell_type": "code",
   "execution_count": 107,
   "id": "7ff8eef4",
   "metadata": {},
   "outputs": [
    {
     "data": {
      "text/plain": [
       "79"
      ]
     },
     "execution_count": 107,
     "metadata": {},
     "output_type": "execute_result"
    }
   ],
   "source": [
    "n_singleEmbed_p10XGBoost  = k[1]+1\n",
    "n_singleEmbed_p10XGBoost "
   ]
  },
  {
   "cell_type": "code",
   "execution_count": 108,
   "id": "483f0bb8",
   "metadata": {},
   "outputs": [
    {
     "name": "stdout",
     "output_type": "stream",
     "text": [
      "Fitting 5 folds for each of 729 candidates, totalling 3645 fits\n",
      "\n",
      " Time taken: 0 hours 3 minutes and 54.8 seconds.\n",
      "{'colsample_bytree': 0.5, 'eta': 0.01, 'learning_rate': 0.1, 'max_depth': 5, 'min_child_weight': 1, 'subsample': 0.5}\n",
      "Mean F1 Score:  0.7323809523809524\n",
      "std F1 Score:  0.16989792854078292\n"
     ]
    }
   ],
   "source": [
    "## tuned parameter_set1##\n",
    "\n",
    "start_time = timer(None)\n",
    "# Instantiate the grid search model\n",
    "grid_search = GridSearchCV(estimator = xgbc, param_grid = paramXGBoost_grid1,\n",
    "                           cv = 5, n_jobs = -1, verbose = 2,scoring='f1')\n",
    "# Fit the grid search to the data\n",
    "grid_search.fit(X_train, y_train)\n",
    "\n",
    "timer(start_time)\n",
    "print(grid_search.best_params_)\n",
    "\n",
    "\n",
    "xgbc_tuned = XGBClassifier(subsample=grid_search.best_params_['subsample'],\n",
    "                                   max_depth=grid_search.best_params_['max_depth'],\n",
    "                                   colsample_bytree=grid_search.best_params_['colsample_bytree'],\n",
    "                                   min_child_weight=grid_search.best_params_['min_child_weight'],\n",
    "                                   learning_rate=grid_search.best_params_['learning_rate'],\n",
    "                                   eta=grid_search.best_params_['eta'])\n",
    "xgbc_tuned.fit(X_train,y_train)\n",
    "\n",
    "## results F1 and stdF1 ##\n",
    "avgF1set1_singleEmbed_p10tunedXGBoost  = cross_val_score(xgbc_tuned, X, y, scoring=\"f1\", cv = 10).mean() ##<3## \n",
    "stdF1set1_singleEmbed_p10tunedXGBoost  = cross_val_score(xgbc_tuned, X, y, scoring=\"f1\", cv = 10).std() ##<3##\n",
    "print('Mean F1 Score: ', avgF1set1_singleEmbed_p10tunedXGBoost)\n",
    "print('std F1 Score: ', stdF1set1_singleEmbed_p10tunedXGBoost)"
   ]
  },
  {
   "cell_type": "code",
   "execution_count": 109,
   "id": "051dd64b",
   "metadata": {},
   "outputs": [
    {
     "name": "stdout",
     "output_type": "stream",
     "text": [
      "Fitting 5 folds for each of 729 candidates, totalling 3645 fits\n",
      "\n",
      " Time taken: 0 hours 2 minutes and 34.76 seconds.\n",
      "{'colsample_bytree': 0.75, 'eta': 0.01, 'learning_rate': 0.1, 'max_depth': 7, 'min_child_weight': 0.5, 'subsample': 0.2}\n",
      "Mean F1 Score:  0.7723809523809524\n",
      "std F1 Score:  0.18621178784376888\n"
     ]
    }
   ],
   "source": [
    "## tuned parameter_set2##\n",
    "\n",
    "start_time = timer(None)\n",
    "# Instantiate the grid search model\n",
    "grid_search = GridSearchCV(estimator = xgbc, param_grid = paramXGBoost_grid2,\n",
    "                           cv = 5, n_jobs = -1, verbose = 2,scoring='f1')\n",
    "# Fit the grid search to the data\n",
    "grid_search.fit(X_train, y_train)\n",
    "\n",
    "timer(start_time)\n",
    "print(grid_search.best_params_)\n",
    "\n",
    "\n",
    "xgbc_tuned = XGBClassifier(subsample=grid_search.best_params_['subsample'],\n",
    "                                   max_depth=grid_search.best_params_['max_depth'],\n",
    "                                   colsample_bytree=grid_search.best_params_['colsample_bytree'],\n",
    "                                   min_child_weight=grid_search.best_params_['min_child_weight'],\n",
    "                                   learning_rate=grid_search.best_params_['learning_rate'],\n",
    "                                   eta=grid_search.best_params_['eta'])\n",
    "xgbc_tuned.fit(X_train,y_train)\n",
    "\n",
    "## results F1 and stdF1 ##\n",
    "avgF1set2_singleEmbed_p10tunedXGBoost = cross_val_score(xgbc_tuned, X, y, scoring=\"f1\", cv = 10).mean() ##<3## \n",
    "stdF1set2_singleEmbed_p10tunedXGBoost  = cross_val_score(xgbc_tuned, X, y, scoring=\"f1\", cv = 10).std() ##<3##\n",
    "print('Mean F1 Score: ', avgF1set2_singleEmbed_p10tunedXGBoost)\n",
    "print('std F1 Score: ', stdF1set2_singleEmbed_p10tunedXGBoost)"
   ]
  },
  {
   "cell_type": "code",
   "execution_count": 110,
   "id": "a8591d47",
   "metadata": {},
   "outputs": [
    {
     "name": "stdout",
     "output_type": "stream",
     "text": [
      "Fitting 5 folds for each of 729 candidates, totalling 3645 fits\n",
      "\n",
      " Time taken: 0 hours 2 minutes and 15.79 seconds.\n",
      "{'colsample_bytree': 0.1, 'eta': 0.01, 'learning_rate': 0.1, 'max_depth': 10, 'min_child_weight': 20, 'subsample': 0.2}\n",
      "Mean F1 Score:  0.0\n",
      "std F1 Score:  0.0\n"
     ]
    }
   ],
   "source": [
    "## tuned parameter_set3##\n",
    "\n",
    "start_time = timer(None)\n",
    "# Instantiate the grid search model\n",
    "grid_search = GridSearchCV(estimator = xgbc, param_grid = paramXGBoost_grid3,\n",
    "                           cv = 5, n_jobs = -1, verbose = 2,scoring='f1')\n",
    "# Fit the grid search to the data\n",
    "grid_search.fit(X_train, y_train)\n",
    "\n",
    "timer(start_time)\n",
    "print(grid_search.best_params_)\n",
    "\n",
    "\n",
    "xgbc_tuned = XGBClassifier(subsample=grid_search.best_params_['subsample'],\n",
    "                                   max_depth=grid_search.best_params_['max_depth'],\n",
    "                                   colsample_bytree=grid_search.best_params_['colsample_bytree'],\n",
    "                                   min_child_weight=grid_search.best_params_['min_child_weight'],\n",
    "                                   learning_rate=grid_search.best_params_['learning_rate'],\n",
    "                                   eta=grid_search.best_params_['eta'])\n",
    "xgbc_tuned.fit(X_train,y_train)\n",
    "\n",
    "## results F1 and stdF1 ##\n",
    "avgF1set3_singleEmbed_p10tunedXGBoost  = cross_val_score(xgbc_tuned, X, y, scoring=\"f1\", cv = 10).mean() ##<3## \n",
    "stdF1set3_singleEmbed_p10tunedXGBoost  = cross_val_score(xgbc_tuned, X, y, scoring=\"f1\", cv = 10).std() ##<3##\n",
    "print('Mean F1 Score: ', avgF1set3_singleEmbed_p10tunedXGBoost)\n",
    "print('std F1 Score: ', stdF1set3_singleEmbed_p10tunedXGBoost)"
   ]
  },
  {
   "cell_type": "code",
   "execution_count": 111,
   "id": "f8c92f7e",
   "metadata": {},
   "outputs": [
    {
     "name": "stdout",
     "output_type": "stream",
     "text": [
      "Fitting 5 folds for each of 729 candidates, totalling 3645 fits\n",
      "\n",
      " Time taken: 0 hours 3 minutes and 8.55 seconds.\n",
      "{'colsample_bytree': 0.1, 'eta': 0.01, 'learning_rate': 0.1, 'max_depth': 5, 'min_child_weight': 5, 'subsample': 0.75}\n",
      "Mean F1 Score:  0.06666666666666667\n",
      "std F1 Score:  0.19999999999999998\n"
     ]
    }
   ],
   "source": [
    "## tuned parameter_set4##\n",
    "\n",
    "start_time = timer(None)\n",
    "# Instantiate the grid search model\n",
    "grid_search = GridSearchCV(estimator = xgbc, param_grid = paramXGBoost_grid4,\n",
    "                           cv = 5, n_jobs = -1, verbose = 2,scoring='f1')\n",
    "# Fit the grid search to the data\n",
    "grid_search.fit(X_train, y_train)\n",
    "\n",
    "timer(start_time)\n",
    "print(grid_search.best_params_)\n",
    "\n",
    "\n",
    "xgbc_tuned = XGBClassifier(subsample=grid_search.best_params_['subsample'],\n",
    "                                   max_depth=grid_search.best_params_['max_depth'],\n",
    "                                   colsample_bytree=grid_search.best_params_['colsample_bytree'],\n",
    "                                   min_child_weight=grid_search.best_params_['min_child_weight'],\n",
    "                                   learning_rate=grid_search.best_params_['learning_rate'],\n",
    "                                   eta=grid_search.best_params_['eta'])\n",
    "xgbc_tuned.fit(X_train,y_train)\n",
    "\n",
    "## results F1 and stdF1 ##\n",
    "avgF1set4_singleEmbed_p10tunedXGBoost  = cross_val_score(xgbc_tuned, X, y, scoring=\"f1\", cv = 10).mean() ##<3## \n",
    "stdF1set4_singleEmbed_p10tunedXGBoost = cross_val_score(xgbc_tuned, X, y, scoring=\"f1\", cv = 10).std() ##<3##\n",
    "print('Mean F1 Score: ', avgF1set4_singleEmbed_p10tunedXGBoost)\n",
    "print('std F1 Score: ', stdF1set4_singleEmbed_p10tunedXGBoost)"
   ]
  },
  {
   "cell_type": "code",
   "execution_count": null,
   "id": "45b1592a",
   "metadata": {},
   "outputs": [],
   "source": [
    "\n"
   ]
  },
  {
   "cell_type": "markdown",
   "id": "69da2e2f",
   "metadata": {},
   "source": [
    "### threshold: 20%"
   ]
  },
  {
   "cell_type": "code",
   "execution_count": 112,
   "id": "bd4f0339",
   "metadata": {},
   "outputs": [
    {
     "name": "stdout",
     "output_type": "stream",
     "text": [
      "thres_p20 (value,iloc_threshold)(0.0001315514236921, 78)\n",
      "Mean F1 Score:  0.64\n",
      "std F1 Score:  0.37380922050336496\n"
     ]
    }
   ],
   "source": [
    "# threshold: 20%\n",
    "embed_XGBoostfeatures = pd.read_csv('embed_XGBoostfeatures.csv')\n",
    "k =(filter_arr(embed_XGBoostfeatures['value_embed'], thres_p20-1))\n",
    "print(\"thres_p20 (value,iloc_threshold)\" + str(filter_arr(embed_XGBoostfeatures['value_embed'], thres_p20-1)))\n",
    "embed_XGBoostfeatures = embed_XGBoostfeatures.iloc[:k[1]+1]\n",
    "\n",
    "df_filter = df1.filter(items=embed_XGBoostfeatures['Feature'])\n",
    "X = df_filter\n",
    "y = df1['class']\n",
    "\n",
    "\n",
    "\n",
    "\n",
    "## before tuned ##\n",
    "X_train, X_test, y_train, y_test = train_test_split(X, y, test_size=0.2, random_state=123) \n",
    "xgbc = XGBClassifier(random_state=123)\n",
    "xgbc.fit(X_train,y_train)\n",
    "## results F1 and stdF1 ##\n",
    "avgF1_singleEmbed_p20XGBoost = cross_val_score(xgbc, X, y, scoring=\"f1\", cv = 10).mean() ##<3## \n",
    "stdF1_singleEmbed_p20XGBoost = cross_val_score(xgbc, X, y, scoring=\"f1\", cv = 10).std() ##<3##\n",
    "print('Mean F1 Score: ', avgF1_singleEmbed_p20XGBoost)\n",
    "print('std F1 Score: ', stdF1_singleEmbed_p20XGBoost)"
   ]
  },
  {
   "cell_type": "code",
   "execution_count": 113,
   "id": "df9fe11b",
   "metadata": {},
   "outputs": [
    {
     "data": {
      "text/plain": [
       "79"
      ]
     },
     "execution_count": 113,
     "metadata": {},
     "output_type": "execute_result"
    }
   ],
   "source": [
    "n_singleEmbed_p20XGBoost  = k[1]+1\n",
    "n_singleEmbed_p20XGBoost"
   ]
  },
  {
   "cell_type": "code",
   "execution_count": 114,
   "id": "d85698f6",
   "metadata": {},
   "outputs": [
    {
     "name": "stdout",
     "output_type": "stream",
     "text": [
      "Fitting 5 folds for each of 729 candidates, totalling 3645 fits\n",
      "\n",
      " Time taken: 0 hours 3 minutes and 59.11 seconds.\n",
      "{'colsample_bytree': 0.5, 'eta': 0.01, 'learning_rate': 0.1, 'max_depth': 5, 'min_child_weight': 1, 'subsample': 0.5}\n",
      "Mean F1 Score:  0.7323809523809524\n",
      "std F1 Score:  0.16989792854078292\n"
     ]
    }
   ],
   "source": [
    "## tuned parameter_set1##\n",
    "\n",
    "start_time = timer(None)\n",
    "# Instantiate the grid search model\n",
    "grid_search = GridSearchCV(estimator = xgbc, param_grid = paramXGBoost_grid1,\n",
    "                           cv = 5, n_jobs = -1, verbose = 2,scoring='f1')\n",
    "# Fit the grid search to the data\n",
    "grid_search.fit(X_train, y_train)\n",
    "\n",
    "timer(start_time)\n",
    "print(grid_search.best_params_)\n",
    "\n",
    "\n",
    "xgbc_tuned = XGBClassifier(subsample=grid_search.best_params_['subsample'],\n",
    "                                   max_depth=grid_search.best_params_['max_depth'],\n",
    "                                   colsample_bytree=grid_search.best_params_['colsample_bytree'],\n",
    "                                   min_child_weight=grid_search.best_params_['min_child_weight'],\n",
    "                                   learning_rate=grid_search.best_params_['learning_rate'],\n",
    "                                   eta=grid_search.best_params_['eta'])\n",
    "xgbc_tuned.fit(X_train,y_train)\n",
    "\n",
    "## results F1 and stdF1 ##\n",
    "avgF1set1_singleEmbed_p20tunedXGBoost  = cross_val_score(xgbc_tuned, X, y, scoring=\"f1\", cv = 10).mean() ##<3## \n",
    "stdF1set1_singleEmbed_p20tunedXGBoost  = cross_val_score(xgbc_tuned, X, y, scoring=\"f1\", cv = 10).std() ##<3##\n",
    "print('Mean F1 Score: ', avgF1set1_singleEmbed_p20tunedXGBoost)\n",
    "print('std F1 Score: ', stdF1set1_singleEmbed_p20tunedXGBoost)"
   ]
  },
  {
   "cell_type": "code",
   "execution_count": 115,
   "id": "898048b0",
   "metadata": {},
   "outputs": [
    {
     "name": "stdout",
     "output_type": "stream",
     "text": [
      "Fitting 5 folds for each of 729 candidates, totalling 3645 fits\n",
      "\n",
      " Time taken: 0 hours 2 minutes and 24.99 seconds.\n",
      "{'colsample_bytree': 0.75, 'eta': 0.01, 'learning_rate': 0.1, 'max_depth': 7, 'min_child_weight': 0.5, 'subsample': 0.2}\n",
      "Mean F1 Score:  0.7723809523809524\n",
      "std F1 Score:  0.18621178784376888\n"
     ]
    }
   ],
   "source": [
    "## tuned parameter_set2##\n",
    "\n",
    "start_time = timer(None)\n",
    "# Instantiate the grid search model\n",
    "grid_search = GridSearchCV(estimator = xgbc, param_grid = paramXGBoost_grid2,\n",
    "                           cv = 5, n_jobs = -1, verbose = 2,scoring='f1')\n",
    "# Fit the grid search to the data\n",
    "grid_search.fit(X_train, y_train)\n",
    "\n",
    "timer(start_time)\n",
    "print(grid_search.best_params_)\n",
    "\n",
    "\n",
    "xgbc_tuned = XGBClassifier(subsample=grid_search.best_params_['subsample'],\n",
    "                                   max_depth=grid_search.best_params_['max_depth'],\n",
    "                                   colsample_bytree=grid_search.best_params_['colsample_bytree'],\n",
    "                                   min_child_weight=grid_search.best_params_['min_child_weight'],\n",
    "                                   learning_rate=grid_search.best_params_['learning_rate'],\n",
    "                                   eta=grid_search.best_params_['eta'])\n",
    "xgbc_tuned.fit(X_train,y_train)\n",
    "\n",
    "## results F1 and stdF1 ##\n",
    "avgF1set2_singleEmbed_p20tunedXGBoost = cross_val_score(xgbc_tuned, X, y, scoring=\"f1\", cv = 10).mean() ##<3## \n",
    "stdF1set2_singleEmbed_p20tunedXGBoost  = cross_val_score(xgbc_tuned, X, y, scoring=\"f1\", cv = 10).std() ##<3##\n",
    "print('Mean F1 Score: ', avgF1set2_singleEmbed_p20tunedXGBoost)\n",
    "print('std F1 Score: ', stdF1set2_singleEmbed_p20tunedXGBoost)"
   ]
  },
  {
   "cell_type": "code",
   "execution_count": 116,
   "id": "0fb67ed5",
   "metadata": {},
   "outputs": [
    {
     "name": "stdout",
     "output_type": "stream",
     "text": [
      "Fitting 5 folds for each of 729 candidates, totalling 3645 fits\n",
      "\n",
      " Time taken: 0 hours 2 minutes and 38.82 seconds.\n",
      "{'colsample_bytree': 0.1, 'eta': 0.01, 'learning_rate': 0.1, 'max_depth': 10, 'min_child_weight': 20, 'subsample': 0.2}\n",
      "Mean F1 Score:  0.0\n",
      "std F1 Score:  0.0\n"
     ]
    }
   ],
   "source": [
    "## tuned parameter_set3##\n",
    "\n",
    "start_time = timer(None)\n",
    "# Instantiate the grid search model\n",
    "grid_search = GridSearchCV(estimator = xgbc, param_grid = paramXGBoost_grid3,\n",
    "                           cv = 5, n_jobs = -1, verbose = 2,scoring='f1')\n",
    "# Fit the grid search to the data\n",
    "grid_search.fit(X_train, y_train)\n",
    "\n",
    "timer(start_time)\n",
    "print(grid_search.best_params_)\n",
    "\n",
    "\n",
    "xgbc_tuned = XGBClassifier(subsample=grid_search.best_params_['subsample'],\n",
    "                                   max_depth=grid_search.best_params_['max_depth'],\n",
    "                                   colsample_bytree=grid_search.best_params_['colsample_bytree'],\n",
    "                                   min_child_weight=grid_search.best_params_['min_child_weight'],\n",
    "                                   learning_rate=grid_search.best_params_['learning_rate'],\n",
    "                                   eta=grid_search.best_params_['eta'])\n",
    "xgbc_tuned.fit(X_train,y_train)\n",
    "\n",
    "## results F1 and stdF1 ##\n",
    "avgF1set3_singleEmbed_p20tunedXGBoost  = cross_val_score(xgbc_tuned, X, y, scoring=\"f1\", cv = 10).mean() ##<3## \n",
    "stdF1set3_singleEmbed_p20tunedXGBoost  = cross_val_score(xgbc_tuned, X, y, scoring=\"f1\", cv = 10).std() ##<3##\n",
    "print('Mean F1 Score: ', avgF1set3_singleEmbed_p20tunedXGBoost)\n",
    "print('std F1 Score: ', stdF1set3_singleEmbed_p20tunedXGBoost)"
   ]
  },
  {
   "cell_type": "code",
   "execution_count": 117,
   "id": "4d9dfabc",
   "metadata": {},
   "outputs": [
    {
     "name": "stdout",
     "output_type": "stream",
     "text": [
      "Fitting 5 folds for each of 729 candidates, totalling 3645 fits\n",
      "\n",
      " Time taken: 0 hours 3 minutes and 27.15 seconds.\n",
      "{'colsample_bytree': 0.1, 'eta': 0.01, 'learning_rate': 0.1, 'max_depth': 5, 'min_child_weight': 5, 'subsample': 0.75}\n",
      "Mean F1 Score:  0.06666666666666667\n",
      "std F1 Score:  0.19999999999999998\n"
     ]
    }
   ],
   "source": [
    "## tuned parameter_set4##\n",
    "\n",
    "start_time = timer(None)\n",
    "# Instantiate the grid search model\n",
    "grid_search = GridSearchCV(estimator = xgbc, param_grid = paramXGBoost_grid4,\n",
    "                           cv = 5, n_jobs = -1, verbose = 2,scoring='f1')\n",
    "# Fit the grid search to the data\n",
    "grid_search.fit(X_train, y_train)\n",
    "\n",
    "timer(start_time)\n",
    "print(grid_search.best_params_)\n",
    "\n",
    "\n",
    "xgbc_tuned = XGBClassifier(subsample=grid_search.best_params_['subsample'],\n",
    "                                   max_depth=grid_search.best_params_['max_depth'],\n",
    "                                   colsample_bytree=grid_search.best_params_['colsample_bytree'],\n",
    "                                   min_child_weight=grid_search.best_params_['min_child_weight'],\n",
    "                                   learning_rate=grid_search.best_params_['learning_rate'],\n",
    "                                   eta=grid_search.best_params_['eta'])\n",
    "xgbc_tuned.fit(X_train,y_train)\n",
    "\n",
    "## results F1 and stdF1 ##\n",
    "avgF1set4_singleEmbed_p20tunedXGBoost  = cross_val_score(xgbc_tuned, X, y, scoring=\"f1\", cv = 10).mean() ##<3## \n",
    "stdF1set4_singleEmbed_p20tunedXGBoost = cross_val_score(xgbc_tuned, X, y, scoring=\"f1\", cv = 10).std() ##<3##\n",
    "print('Mean F1 Score: ', avgF1set4_singleEmbed_p20tunedXGBoost)\n",
    "print('std F1 Score: ', stdF1set4_singleEmbed_p20tunedXGBoost)"
   ]
  },
  {
   "cell_type": "code",
   "execution_count": null,
   "id": "067c04cb",
   "metadata": {},
   "outputs": [],
   "source": []
  },
  {
   "cell_type": "code",
   "execution_count": 118,
   "id": "268d43b2",
   "metadata": {},
   "outputs": [],
   "source": [
    "output_singleXGBoost = {'n_singleMI_base2XGBoost':n_singleMI_base2XGBoost ,\n",
    "                   'avgF1_singleMI_base2XGBoost': avgF1_singleMI_base2XGBoost,\n",
    "                   'stdF1_singleMI_base2XGBoost': stdF1_singleMI_base2XGBoost,\n",
    "                   'avgF1set1_singleMI_base2tunedXGBoost': avgF1set1_singleMI_base2tunedXGBoost,\n",
    "                   'stdF1set1_singleMI_base2tunedXGBoost': stdF1set1_singleMI_base2tunedXGBoost,\n",
    "                   'avgF1set2_singleMI_base2tunedXGBoost':avgF1set2_singleMI_base2tunedXGBoost ,\n",
    "                   'stdF1set2_singleMI_base2tunedXGBoost':stdF1set2_singleMI_base2tunedXGBoost ,\n",
    "                   'avgF1set3_singleMI_base2tunedXGBoost':avgF1set3_singleMI_base2tunedXGBoost ,\n",
    "                   'stdF1set3_singleMI_base2tunedXGBoost':stdF1set3_singleMI_base2tunedXGBoost ,\n",
    "                   'avgF1set4_singleMI_base2tunedXGBoost':avgF1set4_singleMI_base2tunedXGBoost ,\n",
    "                   'stdF1set4_singleMI_base2tunedXGBoost':stdF1set4_singleMI_base2tunedXGBoost ,\n",
    "                   'n_singleMI_p2_5XGBoost':n_singleMI_p2_5XGBoost ,\n",
    "                   'avgF1_singleMI_p2_5XGBoost': avgF1_singleMI_p2_5XGBoost,\n",
    "                   'stdF1_singleMI_p2_5XGBoost': stdF1_singleMI_p2_5XGBoost,\n",
    "                   'avgF1set1_singleMI_p2_5tunedXGBoost': avgF1set1_singleMI_p2_5tunedXGBoost,\n",
    "                   'stdF1set1_singleMI_p2_5tunedXGBoost': stdF1set1_singleMI_p2_5tunedXGBoost,\n",
    "                   'avgF1set2_singleMI_p2_5tunedXGBoost':avgF1set2_singleMI_p2_5tunedXGBoost ,\n",
    "                   'stdF1set2_singleMI_p2_5tunedXGBoost':stdF1set2_singleMI_p2_5tunedXGBoost ,\n",
    "                   'avgF1set3_singleMI_p2_5tunedXGBoost':avgF1set3_singleMI_p2_5tunedXGBoost ,\n",
    "                   'stdF1set3_singleMI_p2_5tunedXGBoost':stdF1set3_singleMI_p2_5tunedXGBoost ,\n",
    "                   'avgF1set4_singleMI_p2_5tunedXGBoost':avgF1set4_singleMI_p2_5tunedXGBoost ,\n",
    "                   'stdF1set4_singleMI_p2_5tunedXGBoost':stdF1set4_singleMI_p2_5tunedXGBoost ,\n",
    "                   'n_singleMI_p5XGBoost':n_singleMI_p5XGBoost ,\n",
    "                   'avgF1_singleMI_p5XGBoost': avgF1_singleMI_p5XGBoost,\n",
    "                   'stdF1_singleMI_p5XGBoost': stdF1_singleMI_p5XGBoost,\n",
    "                   'avgF1set1_singleMI_p5tunedXGBoost': avgF1set1_singleMI_p5tunedXGBoost,\n",
    "                   'stdF1set1_singleMI_p5tunedXGBoost': stdF1set1_singleMI_p5tunedXGBoost,\n",
    "                   'avgF1set2_singleMI_p5tunedXGBoost':avgF1set2_singleMI_p5tunedXGBoost ,\n",
    "                   'stdF1set2_singleMI_p5tunedXGBoost':stdF1set2_singleMI_p5tunedXGBoost ,\n",
    "                   'avgF1set3_singleMI_p5tunedXGBoost':avgF1set3_singleMI_p5tunedXGBoost ,\n",
    "                   'stdF1set3_singleMI_p5tunedXGBoost':stdF1set3_singleMI_p5tunedXGBoost ,\n",
    "                   'avgF1set4_singleMI_p5tunedXGBoost':avgF1set4_singleMI_p5tunedXGBoost ,\n",
    "                   'stdF1set4_singleMI_p5tunedXGBoost':stdF1set4_singleMI_p5tunedXGBoost ,\n",
    "                   'n_singleMI_p10XGBoost':n_singleMI_p10XGBoost ,\n",
    "                   'avgF1_singleMI_p10XGBoost': avgF1_singleMI_p10XGBoost,\n",
    "                   'stdF1_singleMI_p10XGBoost': stdF1_singleMI_p10XGBoost,\n",
    "                   'avgF1set1_singleMI_p10tunedXGBoost': avgF1set1_singleMI_p10tunedXGBoost,\n",
    "                   'stdF1set1_singleMI_p10tunedXGBoost': stdF1set1_singleMI_p10tunedXGBoost,\n",
    "                   'avgF1set2_singleMI_p10tunedXGBoost':avgF1set2_singleMI_p10tunedXGBoost ,\n",
    "                   'stdF1set2_singleMI_p10tunedXGBoost':stdF1set2_singleMI_p10tunedXGBoost ,\n",
    "                   'avgF1set3_singleMI_p10tunedXGBoost':avgF1set3_singleMI_p10tunedXGBoost ,\n",
    "                   'stdF1set3_singleMI_p10tunedXGBoost':stdF1set3_singleMI_p10tunedXGBoost ,\n",
    "                   'avgF1set4_singleMI_p10tunedXGBoost':avgF1set4_singleMI_p10tunedXGBoost ,\n",
    "                   'stdF1set4_singleMI_p10tunedXGBoost':stdF1set4_singleMI_p10tunedXGBoost ,\n",
    "                   'n_singleMI_p20XGBoost':n_singleMI_p20XGBoost ,\n",
    "                   'avgF1_singleMI_p20XGBoost': avgF1_singleMI_p20XGBoost,\n",
    "                   'stdF1_singleMI_p20XGBoost': stdF1_singleMI_p20XGBoost,\n",
    "                   'avgF1set1_singleMI_p20tunedXGBoost': avgF1set1_singleMI_p20tunedXGBoost,\n",
    "                   'stdF1set1_singleMI_p20tunedXGBoost': stdF1set1_singleMI_p20tunedXGBoost,\n",
    "                   'avgF1set2_singleMI_p20tunedXGBoost':avgF1set2_singleMI_p20tunedXGBoost ,\n",
    "                   'stdF1set2_singleMI_p20tunedXGBoost':stdF1set2_singleMI_p20tunedXGBoost ,\n",
    "                   'avgF1set3_singleMI_p20tunedXGBoost':avgF1set3_singleMI_p20tunedXGBoost ,\n",
    "                   'stdF1set3_singleMI_p20tunedXGBoost':stdF1set3_singleMI_p20tunedXGBoost ,\n",
    "                   'avgF1set4_singleMI_p20tunedXGBoost':avgF1set4_singleMI_p20tunedXGBoost ,\n",
    "                   'stdF1set4_singleMI_p20tunedXGBoost':stdF1set4_singleMI_p20tunedXGBoost ,\n",
    "                   'n_singleSHAP_base2XGBoost':n_singleSHAP_base2XGBoost ,\n",
    "                   'avgF1_singleSHAP_base2XGBoost': avgF1_singleSHAP_base2XGBoost,\n",
    "                   'stdF1_singleSHAP_base2XGBoost': stdF1_singleSHAP_base2XGBoost,\n",
    "                   'avgF1set1_singleSHAP_base2tunedXGBoost': avgF1set1_singleSHAP_base2tunedXGBoost,\n",
    "                   'stdF1set1_singleSHAP_base2tunedXGBoost': stdF1set1_singleSHAP_base2tunedXGBoost,\n",
    "                   'avgF1set2_singleSHAP_base2tunedXGBoost':avgF1set2_singleSHAP_base2tunedXGBoost ,\n",
    "                   'stdF1set2_singleSHAP_base2tunedXGBoost':stdF1set2_singleSHAP_base2tunedXGBoost ,\n",
    "                   'avgF1set3_singleSHAP_base2tunedXGBoost':avgF1set3_singleSHAP_base2tunedXGBoost ,\n",
    "                   'stdF1set3_singleSHAP_base2tunedXGBoost':stdF1set3_singleSHAP_base2tunedXGBoost ,\n",
    "                   'avgF1set4_singleSHAP_base2tunedXGBoost':avgF1set4_singleSHAP_base2tunedXGBoost ,\n",
    "                   'stdF1set4_singleSHAP_base2tunedXGBoost':stdF1set4_singleSHAP_base2tunedXGBoost ,\n",
    "                   'n_singleSHAP_p2_5XGBoost':n_singleSHAP_p2_5XGBoost ,\n",
    "                   'avgF1_singleSHAP_p2_5XGBoost': avgF1_singleSHAP_p2_5XGBoost,\n",
    "                   'stdF1_singleSHAP_p2_5XGBoost': stdF1_singleSHAP_p2_5XGBoost,\n",
    "                   'avgF1set1_singleSHAP_p2_5tunedXGBoost': avgF1set1_singleSHAP_p2_5tunedXGBoost,\n",
    "                   'stdF1set1_singleSHAP_p2_5tunedXGBoost': stdF1set1_singleSHAP_p2_5tunedXGBoost,\n",
    "                   'avgF1set2_singleSHAP_p2_5tunedXGBoost':avgF1set2_singleSHAP_p2_5tunedXGBoost ,\n",
    "                   'stdF1set2_singleSHAP_p2_5tunedXGBoost':stdF1set2_singleSHAP_p2_5tunedXGBoost ,\n",
    "                   'avgF1set3_singleSHAP_p2_5tunedXGBoost':avgF1set3_singleSHAP_p2_5tunedXGBoost ,\n",
    "                   'stdF1set3_singleSHAP_p2_5tunedXGBoost':stdF1set3_singleSHAP_p2_5tunedXGBoost ,\n",
    "                   'avgF1set4_singleSHAP_p2_5tunedXGBoost':avgF1set4_singleSHAP_p2_5tunedXGBoost ,\n",
    "                   'stdF1set4_singleSHAP_p2_5tunedXGBoost':stdF1set4_singleSHAP_p2_5tunedXGBoost ,\n",
    "                   'n_singleSHAP_p5XGBoost':n_singleSHAP_p5XGBoost ,\n",
    "                   'avgF1_singleSHAP_p5XGBoost': avgF1_singleSHAP_p5XGBoost,\n",
    "                   'stdF1_singleSHAP_p5XGBoost': stdF1_singleSHAP_p5XGBoost,\n",
    "                   'avgF1set1_singleSHAP_p5tunedXGBoost': avgF1set1_singleSHAP_p5tunedXGBoost,\n",
    "                   'stdF1set1_singleSHAP_p5tunedXGBoost': stdF1set1_singleSHAP_p5tunedXGBoost,\n",
    "                   'avgF1set2_singleSHAP_p5tunedXGBoost':avgF1set2_singleSHAP_p5tunedXGBoost ,\n",
    "                   'stdF1set2_singleSHAP_p5tunedXGBoost':stdF1set2_singleSHAP_p5tunedXGBoost ,\n",
    "                   'avgF1set3_singleSHAP_p5tunedXGBoost':avgF1set3_singleSHAP_p5tunedXGBoost ,\n",
    "                   'stdF1set3_singleSHAP_p5tunedXGBoost':stdF1set3_singleSHAP_p5tunedXGBoost ,\n",
    "                   'avgF1set4_singleSHAP_p5tunedXGBoost':avgF1set4_singleSHAP_p5tunedXGBoost ,\n",
    "                   'stdF1set4_singleSHAP_p5tunedXGBoost':stdF1set4_singleSHAP_p5tunedXGBoost ,\n",
    "                   'n_singleSHAP_p10XGBoost':n_singleSHAP_p10XGBoost ,\n",
    "                   'avgF1_singleSHAP_p10XGBoost': avgF1_singleSHAP_p10XGBoost,\n",
    "                   'stdF1_singleSHAP_p10XGBoost': stdF1_singleSHAP_p10XGBoost,\n",
    "                   'avgF1set1_singleSHAP_p10tunedXGBoost': avgF1set1_singleSHAP_p10tunedXGBoost,\n",
    "                   'stdF1set1_singleSHAP_p10tunedXGBoost': stdF1set1_singleSHAP_p10tunedXGBoost,\n",
    "                   'avgF1set2_singleSHAP_p10tunedXGBoost':avgF1set2_singleSHAP_p10tunedXGBoost ,\n",
    "                   'stdF1set2_singleSHAP_p10tunedXGBoost':stdF1set2_singleSHAP_p10tunedXGBoost ,\n",
    "                   'avgF1set3_singleSHAP_p10tunedXGBoost':avgF1set3_singleSHAP_p10tunedXGBoost ,\n",
    "                   'stdF1set3_singleSHAP_p10tunedXGBoost':stdF1set3_singleSHAP_p10tunedXGBoost ,\n",
    "                   'avgF1set4_singleSHAP_p10tunedXGBoost':avgF1set4_singleSHAP_p10tunedXGBoost ,\n",
    "                   'stdF1set4_singleSHAP_p10tunedXGBoost':stdF1set4_singleSHAP_p10tunedXGBoost ,\n",
    "                   'n_singleSHAP_p20XGBoost':n_singleSHAP_p20XGBoost ,\n",
    "                   'avgF1_singleSHAP_p20XGBoost': avgF1_singleSHAP_p20XGBoost,\n",
    "                   'stdF1_singleSHAP_p20XGBoost': stdF1_singleSHAP_p20XGBoost,\n",
    "                   'avgF1set1_singleSHAP_p20tunedXGBoost': avgF1set1_singleSHAP_p20tunedXGBoost,\n",
    "                   'stdF1set1_singleSHAP_p20tunedXGBoost': stdF1set1_singleSHAP_p20tunedXGBoost,\n",
    "                   'avgF1set2_singleSHAP_p20tunedXGBoost':avgF1set2_singleSHAP_p20tunedXGBoost ,\n",
    "                   'stdF1set2_singleSHAP_p20tunedXGBoost':stdF1set2_singleSHAP_p20tunedXGBoost ,\n",
    "                   'avgF1set3_singleSHAP_p20tunedXGBoost':avgF1set3_singleSHAP_p20tunedXGBoost ,\n",
    "                   'stdF1set3_singleSHAP_p20tunedXGBoost':stdF1set3_singleSHAP_p20tunedXGBoost ,\n",
    "                   'avgF1set4_singleSHAP_p20tunedXGBoost':avgF1set4_singleSHAP_p20tunedXGBoost ,\n",
    "                   'stdF1set4_singleSHAP_p20tunedXGBoost':stdF1set4_singleSHAP_p20tunedXGBoost ,\n",
    "                   'n_singleEmbed_base2XGBoost':n_singleEmbed_base2XGBoost ,\n",
    "                   'avgF1_singleEmbed_base2XGBoost': avgF1_singleEmbed_base2XGBoost,\n",
    "                   'stdF1_singleEmbed_base2XGBoost': stdF1_singleEmbed_base2XGBoost,\n",
    "                   'avgF1set1_singleEmbed_base2tunedXGBoost': avgF1set1_singleEmbed_base2tunedXGBoost,\n",
    "                   'stdF1set1_singleEmbed_base2tunedXGBoost': stdF1set1_singleEmbed_base2tunedXGBoost,\n",
    "                   'avgF1set2_singleEmbed_base2tunedXGBoost':avgF1set2_singleEmbed_base2tunedXGBoost ,\n",
    "                   'stdF1set2_singleEmbed_base2tunedXGBoost':stdF1set2_singleEmbed_base2tunedXGBoost ,\n",
    "                   'avgF1set3_singleEmbed_base2tunedXGBoost':avgF1set3_singleEmbed_base2tunedXGBoost ,\n",
    "                   'stdF1set3_singleEmbed_base2tunedXGBoost':stdF1set3_singleEmbed_base2tunedXGBoost ,\n",
    "                   'avgF1set4_singleEmbed_base2tunedXGBoost':avgF1set4_singleEmbed_base2tunedXGBoost ,\n",
    "                   'stdF1set4_singleEmbed_base2tunedXGBoost':stdF1set4_singleEmbed_base2tunedXGBoost ,\n",
    "                   'n_singleEmbed_p2_5XGBoost':n_singleEmbed_p2_5XGBoost ,\n",
    "                   'avgF1_singleEmbed_p2_5XGBoost': avgF1_singleEmbed_p2_5XGBoost,\n",
    "                   'stdF1_singleEmbed_p2_5XGBoost': stdF1_singleEmbed_p2_5XGBoost,\n",
    "                   'avgF1set1_singleEmbed_p2_5tunedXGBoost': avgF1set1_singleEmbed_p2_5tunedXGBoost,\n",
    "                   'stdF1set1_singleEmbed_p2_5tunedXGBoost': stdF1set1_singleEmbed_p2_5tunedXGBoost,\n",
    "                   'avgF1set2_singleEmbed_p2_5tunedXGBoost':avgF1set2_singleEmbed_p2_5tunedXGBoost ,\n",
    "                   'stdF1set2_singleEmbed_p2_5tunedXGBoost':stdF1set2_singleEmbed_p2_5tunedXGBoost ,\n",
    "                   'avgF1set3_singleEmbed_p2_5tunedXGBoost':avgF1set3_singleEmbed_p2_5tunedXGBoost ,\n",
    "                   'stdF1set3_singleEmbed_p2_5tunedXGBoost':stdF1set3_singleEmbed_p2_5tunedXGBoost ,\n",
    "                   'avgF1set4_singleEmbed_p2_5tunedXGBoost':avgF1set4_singleEmbed_p2_5tunedXGBoost ,\n",
    "                   'stdF1set4_singleEmbed_p2_5tunedXGBoost':stdF1set4_singleEmbed_p2_5tunedXGBoost ,\n",
    "                   'n_singleEmbed_p5XGBoost':n_singleEmbed_p5XGBoost ,\n",
    "                   'avgF1_singleEmbed_p5XGBoost': avgF1_singleEmbed_p5XGBoost,\n",
    "                   'stdF1_singleEmbed_p5XGBoost': stdF1_singleEmbed_p5XGBoost,\n",
    "                   'avgF1set1_singleEmbed_p5tunedXGBoost': avgF1set1_singleEmbed_p5tunedXGBoost,\n",
    "                   'stdF1set1_singleEmbed_p5tunedXGBoost': stdF1set1_singleEmbed_p5tunedXGBoost,\n",
    "                   'avgF1set2_singleEmbed_p5tunedXGBoost':avgF1set2_singleEmbed_p5tunedXGBoost ,\n",
    "                   'stdF1set2_singleEmbed_p5tunedXGBoost':stdF1set2_singleEmbed_p5tunedXGBoost ,\n",
    "                   'avgF1set3_singleEmbed_p5tunedXGBoost':avgF1set3_singleEmbed_p5tunedXGBoost ,\n",
    "                   'stdF1set3_singleEmbed_p5tunedXGBoost':stdF1set3_singleEmbed_p5tunedXGBoost ,\n",
    "                   'avgF1set4_singleEmbed_p5tunedXGBoost':avgF1set4_singleEmbed_p5tunedXGBoost ,\n",
    "                   'stdF1set4_singleEmbed_p5tunedXGBoost':stdF1set4_singleEmbed_p5tunedXGBoost ,\n",
    "                   'n_singleEmbed_p10XGBoost':n_singleEmbed_p10XGBoost ,\n",
    "                   'avgF1_singleEmbed_p10XGBoost': avgF1_singleEmbed_p10XGBoost,\n",
    "                   'stdF1_singleEmbed_p10XGBoost': stdF1_singleEmbed_p10XGBoost,\n",
    "                   'avgF1set1_singleEmbed_p10tunedXGBoost': avgF1set1_singleEmbed_p10tunedXGBoost,\n",
    "                   'stdF1set1_singleEmbed_p10tunedXGBoost': stdF1set1_singleEmbed_p10tunedXGBoost,\n",
    "                   'avgF1set2_singleEmbed_p10tunedXGBoost':avgF1set2_singleEmbed_p10tunedXGBoost ,\n",
    "                   'stdF1set2_singleEmbed_p10tunedXGBoost':stdF1set2_singleEmbed_p10tunedXGBoost ,\n",
    "                   'avgF1set3_singleEmbed_p10tunedXGBoost':avgF1set3_singleEmbed_p10tunedXGBoost ,\n",
    "                   'stdF1set3_singleEmbed_p10tunedXGBoost':stdF1set3_singleEmbed_p10tunedXGBoost ,\n",
    "                   'avgF1set4_singleEmbed_p10tunedXGBoost':avgF1set4_singleEmbed_p10tunedXGBoost ,\n",
    "                   'stdF1set4_singleEmbed_p10tunedXGBoost':stdF1set4_singleEmbed_p10tunedXGBoost ,\n",
    "                   'n_singleEmbed_p20XGBoost':n_singleEmbed_p20XGBoost ,\n",
    "                   'avgF1_singleEmbed_p20XGBoost': avgF1_singleEmbed_p20XGBoost,\n",
    "                   'stdF1_singleEmbed_p20XGBoost': stdF1_singleEmbed_p20XGBoost,\n",
    "                   'avgF1set1_singleEmbed_p20tunedXGBoost': avgF1set1_singleEmbed_p20tunedXGBoost,\n",
    "                   'stdF1set1_singleEmbed_p20tunedXGBoost': stdF1set1_singleEmbed_p20tunedXGBoost,\n",
    "                   'avgF1set2_singleEmbed_p20tunedXGBoost':avgF1set2_singleEmbed_p20tunedXGBoost ,\n",
    "                   'stdF1set2_singleEmbed_p20tunedXGBoost':stdF1set2_singleEmbed_p20tunedXGBoost ,\n",
    "                   'avgF1set3_singleEmbed_p20tunedXGBoost':avgF1set3_singleEmbed_p20tunedXGBoost ,\n",
    "                   'stdF1set3_singleEmbed_p20tunedXGBoost':stdF1set3_singleEmbed_p20tunedXGBoost ,\n",
    "                   'avgF1set4_singleEmbed_p20tunedXGBoost':avgF1set4_singleEmbed_p20tunedXGBoost ,\n",
    "                   'stdF1set4_singleEmbed_p20tunedXGBoost':stdF1set4_singleEmbed_p20tunedXGBoost \n",
    "                  }"
   ]
  },
  {
   "cell_type": "code",
   "execution_count": 119,
   "id": "7913e19b",
   "metadata": {},
   "outputs": [],
   "source": [
    "output_singleXGBoost = pd.DataFrame([output_singleXGBoost])\n",
    "output_singleXGBoost = output_singleXGBoost.transpose()\n",
    "output_singleXGBoost.to_csv('output_singleXGBoost.csv', index=True)"
   ]
  },
  {
   "cell_type": "code",
   "execution_count": null,
   "id": "315b500b",
   "metadata": {},
   "outputs": [],
   "source": []
  },
  {
   "cell_type": "code",
   "execution_count": null,
   "id": "0df6dc80",
   "metadata": {},
   "outputs": [],
   "source": []
  },
  {
   "cell_type": "code",
   "execution_count": null,
   "id": "62d3b5ac",
   "metadata": {},
   "outputs": [],
   "source": []
  },
  {
   "cell_type": "markdown",
   "id": "2379788e",
   "metadata": {},
   "source": [
    "# design CT"
   ]
  },
  {
   "cell_type": "code",
   "execution_count": 120,
   "id": "b559b288",
   "metadata": {},
   "outputs": [
    {
     "data": {
      "text/html": [
       "<div>\n",
       "<style scoped>\n",
       "    .dataframe tbody tr th:only-of-type {\n",
       "        vertical-align: middle;\n",
       "    }\n",
       "\n",
       "    .dataframe tbody tr th {\n",
       "        vertical-align: top;\n",
       "    }\n",
       "\n",
       "    .dataframe thead th {\n",
       "        text-align: right;\n",
       "    }\n",
       "</style>\n",
       "<table border=\"1\" class=\"dataframe\">\n",
       "  <thead>\n",
       "    <tr style=\"text-align: right;\">\n",
       "      <th></th>\n",
       "      <th>rank_mi</th>\n",
       "      <th>rank_SHAP</th>\n",
       "      <th>rank_embed</th>\n",
       "      <th>min</th>\n",
       "      <th>med</th>\n",
       "      <th>mean</th>\n",
       "      <th>weight</th>\n",
       "      <th>harmo</th>\n",
       "    </tr>\n",
       "    <tr>\n",
       "      <th>Feature</th>\n",
       "      <th></th>\n",
       "      <th></th>\n",
       "      <th></th>\n",
       "      <th></th>\n",
       "      <th></th>\n",
       "      <th></th>\n",
       "      <th></th>\n",
       "      <th></th>\n",
       "    </tr>\n",
       "  </thead>\n",
       "  <tbody>\n",
       "    <tr>\n",
       "      <th>M22382</th>\n",
       "      <td>1</td>\n",
       "      <td>11</td>\n",
       "      <td>10</td>\n",
       "      <td>1</td>\n",
       "      <td>10.0</td>\n",
       "      <td>7.333333</td>\n",
       "      <td>0.0110</td>\n",
       "      <td>2.519084</td>\n",
       "    </tr>\n",
       "    <tr>\n",
       "      <th>X12671</th>\n",
       "      <td>2</td>\n",
       "      <td>1800</td>\n",
       "      <td>1800</td>\n",
       "      <td>2</td>\n",
       "      <td>1800.0</td>\n",
       "      <td>1200.666667</td>\n",
       "      <td>1.8010</td>\n",
       "      <td>5.986696</td>\n",
       "    </tr>\n",
       "    <tr>\n",
       "      <th>M26383</th>\n",
       "      <td>3</td>\n",
       "      <td>4</td>\n",
       "      <td>4</td>\n",
       "      <td>3</td>\n",
       "      <td>4.0</td>\n",
       "      <td>3.666667</td>\n",
       "      <td>0.0055</td>\n",
       "      <td>3.600000</td>\n",
       "    </tr>\n",
       "    <tr>\n",
       "      <th>H23544</th>\n",
       "      <td>4</td>\n",
       "      <td>120</td>\n",
       "      <td>120</td>\n",
       "      <td>4</td>\n",
       "      <td>120.0</td>\n",
       "      <td>81.333333</td>\n",
       "      <td>0.1220</td>\n",
       "      <td>11.250000</td>\n",
       "    </tr>\n",
       "    <tr>\n",
       "      <th>X55715</th>\n",
       "      <td>5</td>\n",
       "      <td>1288</td>\n",
       "      <td>1288</td>\n",
       "      <td>5</td>\n",
       "      <td>1288.0</td>\n",
       "      <td>860.333333</td>\n",
       "      <td>1.2905</td>\n",
       "      <td>14.884438</td>\n",
       "    </tr>\n",
       "    <tr>\n",
       "      <th>...</th>\n",
       "      <td>...</td>\n",
       "      <td>...</td>\n",
       "      <td>...</td>\n",
       "      <td>...</td>\n",
       "      <td>...</td>\n",
       "      <td>...</td>\n",
       "      <td>...</td>\n",
       "      <td>...</td>\n",
       "    </tr>\n",
       "    <tr>\n",
       "      <th>D50063</th>\n",
       "      <td>1996</td>\n",
       "      <td>1663</td>\n",
       "      <td>1663</td>\n",
       "      <td>1663</td>\n",
       "      <td>1663.0</td>\n",
       "      <td>1774.000000</td>\n",
       "      <td>2.6610</td>\n",
       "      <td>1760.927321</td>\n",
       "    </tr>\n",
       "    <tr>\n",
       "      <th>M25160</th>\n",
       "      <td>1997</td>\n",
       "      <td>1637</td>\n",
       "      <td>1637</td>\n",
       "      <td>1637</td>\n",
       "      <td>1637.0</td>\n",
       "      <td>1757.000000</td>\n",
       "      <td>2.6355</td>\n",
       "      <td>1741.656367</td>\n",
       "    </tr>\n",
       "    <tr>\n",
       "      <th>T61090</th>\n",
       "      <td>1998</td>\n",
       "      <td>1698</td>\n",
       "      <td>1698</td>\n",
       "      <td>1698</td>\n",
       "      <td>1698.0</td>\n",
       "      <td>1798.000000</td>\n",
       "      <td>2.6970</td>\n",
       "      <td>1787.462592</td>\n",
       "    </tr>\n",
       "    <tr>\n",
       "      <th>D31767</th>\n",
       "      <td>1999</td>\n",
       "      <td>1730</td>\n",
       "      <td>1730</td>\n",
       "      <td>1730</td>\n",
       "      <td>1730.0</td>\n",
       "      <td>1819.666667</td>\n",
       "      <td>2.7295</td>\n",
       "      <td>1811.244763</td>\n",
       "    </tr>\n",
       "    <tr>\n",
       "      <th>M16029_</th>\n",
       "      <td>2000</td>\n",
       "      <td>1022</td>\n",
       "      <td>1022</td>\n",
       "      <td>1022</td>\n",
       "      <td>1022.0</td>\n",
       "      <td>1348.000000</td>\n",
       "      <td>2.0220</td>\n",
       "      <td>1221.027479</td>\n",
       "    </tr>\n",
       "  </tbody>\n",
       "</table>\n",
       "<p>2000 rows × 8 columns</p>\n",
       "</div>"
      ],
      "text/plain": [
       "         rank_mi  rank_SHAP  rank_embed   min     med         mean  weight  \\\n",
       "Feature                                                                      \n",
       "M22382         1         11          10     1    10.0     7.333333  0.0110   \n",
       "X12671         2       1800        1800     2  1800.0  1200.666667  1.8010   \n",
       "M26383         3          4           4     3     4.0     3.666667  0.0055   \n",
       "H23544         4        120         120     4   120.0    81.333333  0.1220   \n",
       "X55715         5       1288        1288     5  1288.0   860.333333  1.2905   \n",
       "...          ...        ...         ...   ...     ...          ...     ...   \n",
       "D50063      1996       1663        1663  1663  1663.0  1774.000000  2.6610   \n",
       "M25160      1997       1637        1637  1637  1637.0  1757.000000  2.6355   \n",
       "T61090      1998       1698        1698  1698  1698.0  1798.000000  2.6970   \n",
       "D31767      1999       1730        1730  1730  1730.0  1819.666667  2.7295   \n",
       "M16029_     2000       1022        1022  1022  1022.0  1348.000000  2.0220   \n",
       "\n",
       "               harmo  \n",
       "Feature               \n",
       "M22382      2.519084  \n",
       "X12671      5.986696  \n",
       "M26383      3.600000  \n",
       "H23544     11.250000  \n",
       "X55715     14.884438  \n",
       "...              ...  \n",
       "D50063   1760.927321  \n",
       "M25160   1741.656367  \n",
       "T61090   1787.462592  \n",
       "D31767   1811.244763  \n",
       "M16029_  1221.027479  \n",
       "\n",
       "[2000 rows x 8 columns]"
      ]
     },
     "execution_count": 120,
     "metadata": {},
     "output_type": "execute_result"
    }
   ],
   "source": [
    "mi_XGBoostfeatures = pd.read_csv('mi_XGBoostfeatures.csv')\n",
    "SHAP_XGBoostfeatures = pd.read_csv('SHAP_XGBoostfeatures.csv')\n",
    "embed_XGBoostfeatures = pd.read_csv('embed_XGBoostfeatures.csv')\n",
    "rank = list(range(1,(len(X_.columns)+1)))\n",
    "            \n",
    "f_df = pd.DataFrame(\n",
    "    {\n",
    "     'mi_XGBoostfeatures': list(mi_XGBoostfeatures['Feature']),\n",
    "     'SHAP_XGBoostfeatures': list(SHAP_XGBoostfeatures['Feature']),\n",
    "     'embed_XGBoostfeatures': list(embed_XGBoostfeatures['Feature']),\n",
    "        'rank_feature': rank\n",
    "    })\n",
    "\n",
    "f_df1 = f_df[['mi_XGBoostfeatures','rank_feature']].copy()\n",
    "f_df2 = f_df[['SHAP_XGBoostfeatures','rank_feature']].copy()\n",
    "f_df3 = f_df[['embed_XGBoostfeatures','rank_feature']].copy()\n",
    "\n",
    "f_df12 = pd.merge(left=f_df1[['mi_XGBoostfeatures','rank_feature']],\n",
    "                     right = f_df2[['SHAP_XGBoostfeatures','rank_feature']], \n",
    "                     how = 'left' ,\n",
    "                     left_on = 'mi_XGBoostfeatures',\n",
    "                     right_on = 'SHAP_XGBoostfeatures'\n",
    "                    )\n",
    "\n",
    "f_df123 = pd.merge(left=f_df12[['mi_XGBoostfeatures','rank_feature_x','SHAP_XGBoostfeatures','rank_feature_y']],\n",
    "                     right = f_df3[['embed_XGBoostfeatures','rank_feature']], \n",
    "                     how = 'left' ,\n",
    "                     left_on = 'mi_XGBoostfeatures',\n",
    "                     right_on = 'embed_XGBoostfeatures'\n",
    "                    )\n",
    "f_df123 = f_df123.drop(columns = ['SHAP_XGBoostfeatures','embed_XGBoostfeatures'])\n",
    "f_df123.columns = ['Feature', 'rank_mi', 'rank_SHAP', 'rank_embed']\n",
    "f_df123 = f_df123.set_index('Feature')\n",
    "\n",
    "f_df123['min'] =f_df123[['rank_mi','rank_SHAP','rank_embed']].min(axis = 1)\n",
    "f_df123['med'] =f_df123[['rank_mi','rank_SHAP','rank_embed']].median(axis = 1)\n",
    "f_df123['mean'] =f_df123[['rank_mi','rank_SHAP','rank_embed']].mean(axis = 1)\n",
    "\n",
    "a = f_df123['rank_mi']/len(f_df123)\n",
    "b = f_df123['rank_SHAP']/len(f_df123)\n",
    "c = f_df123['rank_embed']/len(f_df123)\n",
    "f_df123['weight'] = a+b+c\n",
    "\n",
    "d = 1/f_df123['rank_mi']\n",
    "e = 1/f_df123['rank_SHAP']\n",
    "f = 1/f_df123['rank_embed']\n",
    "f_df123['harmo'] = 3/(d+e+f)\n",
    "\n",
    "\n",
    "f_df123.to_csv('f_df123_xgb.csv', index=True)\n",
    "f_df123"
   ]
  },
  {
   "cell_type": "markdown",
   "id": "f2b23807",
   "metadata": {},
   "source": [
    "## min"
   ]
  },
  {
   "cell_type": "markdown",
   "id": "c03568df",
   "metadata": {},
   "source": [
    "### threshold: logbase2(n)"
   ]
  },
  {
   "cell_type": "code",
   "execution_count": 121,
   "id": "253a8b46",
   "metadata": {},
   "outputs": [
    {
     "name": "stdout",
     "output_type": "stream",
     "text": [
      "thres_base2n (value,iloc_threshold)(2, 5)\n",
      "Mean F1 Score:  0.7090476190476191\n",
      "std F1 Score:  0.18423648905747947\n"
     ]
    }
   ],
   "source": [
    "# threshold: logbase2(n)\n",
    "\n",
    "f_df123_1 = pd.read_csv('f_df123_xgb.csv')\n",
    "f_df123_1 = f_df123_1.set_index('Feature')\n",
    "f_df123_1 = f_df123_1.sort_values(by=['min'])\n",
    "\n",
    "\n",
    "k =(filter_arr(f_df123_1['min'], thres_base2n-1))\n",
    "print(\"thres_base2n (value,iloc_threshold)\" + str(filter_arr(f_df123_1['min'], thres_base2n-1)))\n",
    "f_df123_1 = f_df123_1.iloc[:k[1]+1]\n",
    "\n",
    "\n",
    "df_filter = df1.filter(items=f_df123_1.index)\n",
    "X = df_filter\n",
    "y = df1['class']\n",
    "\n",
    "\n",
    "\n",
    "\n",
    "## before tuned ##\n",
    "X_train, X_test, y_train, y_test = train_test_split(X, y, test_size=0.2, random_state=123) \n",
    "xgbc = XGBClassifier(random_state=123)\n",
    "xgbc.fit(X_train,y_train)\n",
    "## results F1 and stdF1 ##\n",
    "avgF1_CTmin_base2XGBoost = cross_val_score(xgbc, X, y, scoring=\"f1\", cv = 10).mean() ##<3## \n",
    "stdF1_CTmin_base2XGBoost = cross_val_score(xgbc, X, y, scoring=\"f1\", cv = 10).std() ##<3##\n",
    "print('Mean F1 Score: ', avgF1_CTmin_base2XGBoost)\n",
    "print('std F1 Score: ', stdF1_CTmin_base2XGBoost)"
   ]
  },
  {
   "cell_type": "code",
   "execution_count": 122,
   "id": "9d8e89e9",
   "metadata": {},
   "outputs": [
    {
     "data": {
      "text/plain": [
       "6"
      ]
     },
     "execution_count": 122,
     "metadata": {},
     "output_type": "execute_result"
    }
   ],
   "source": [
    "n_CTmin_base2XGBoost = k[1]+1\n",
    "n_CTmin_base2XGBoost"
   ]
  },
  {
   "cell_type": "code",
   "execution_count": 123,
   "id": "e292b7f7",
   "metadata": {},
   "outputs": [
    {
     "name": "stdout",
     "output_type": "stream",
     "text": [
      "Fitting 5 folds for each of 729 candidates, totalling 3645 fits\n",
      "\n",
      " Time taken: 0 hours 5 minutes and 28.95 seconds.\n",
      "{'colsample_bytree': 0.5, 'eta': 0.01, 'learning_rate': 0.1, 'max_depth': 5, 'min_child_weight': 1, 'subsample': 0.75}\n",
      "Mean F1 Score:  0.7057142857142857\n",
      "std F1 Score:  0.19690116309258024\n"
     ]
    }
   ],
   "source": [
    "## tuned parameter_set1##\n",
    "\n",
    "start_time = timer(None)\n",
    "# Instantiate the grid search model\n",
    "grid_search = GridSearchCV(estimator = xgbc, param_grid = paramXGBoost_grid1,\n",
    "                           cv = 5, n_jobs = -1, verbose = 2,scoring='f1')\n",
    "# Fit the grid search to the data\n",
    "grid_search.fit(X_train, y_train)\n",
    "\n",
    "timer(start_time)\n",
    "print(grid_search.best_params_)\n",
    "\n",
    "\n",
    "xgbc_tuned = XGBClassifier(subsample=grid_search.best_params_['subsample'],\n",
    "                                   max_depth=grid_search.best_params_['max_depth'],\n",
    "                                   colsample_bytree=grid_search.best_params_['colsample_bytree'],\n",
    "                                   min_child_weight=grid_search.best_params_['min_child_weight'],\n",
    "                                   learning_rate=grid_search.best_params_['learning_rate'],\n",
    "                                   eta=grid_search.best_params_['eta'])\n",
    "xgbc_tuned.fit(X_train,y_train)\n",
    "\n",
    "## results F1 and stdF1 ##\n",
    "avgF1set1_CTmin_base2tunedXGBoost  = cross_val_score(xgbc_tuned, X, y, scoring=\"f1\", cv = 10).mean() ##<3## \n",
    "stdF1set1_CTmin_base2tunedXGBoost  = cross_val_score(xgbc_tuned, X, y, scoring=\"f1\", cv = 10).std() ##<3##\n",
    "print('Mean F1 Score: ', avgF1set1_CTmin_base2tunedXGBoost)\n",
    "print('std F1 Score: ', stdF1set1_CTmin_base2tunedXGBoost)"
   ]
  },
  {
   "cell_type": "code",
   "execution_count": 124,
   "id": "15b2b71c",
   "metadata": {},
   "outputs": [
    {
     "name": "stdout",
     "output_type": "stream",
     "text": [
      "Fitting 5 folds for each of 729 candidates, totalling 3645 fits\n",
      "\n",
      " Time taken: 0 hours 5 minutes and 50.51 seconds.\n",
      "{'colsample_bytree': 0.5, 'eta': 0.01, 'learning_rate': 0.1, 'max_depth': 7, 'min_child_weight': 0.1, 'subsample': 0.2}\n",
      "Mean F1 Score:  0.7723809523809524\n",
      "std F1 Score:  0.18621178784376888\n"
     ]
    }
   ],
   "source": [
    "## tuned parameter_set2##\n",
    "\n",
    "start_time = timer(None)\n",
    "# Instantiate the grid search model\n",
    "grid_search = GridSearchCV(estimator = xgbc, param_grid = paramXGBoost_grid2,\n",
    "                           cv = 5, n_jobs = -1, verbose = 2,scoring='f1')\n",
    "# Fit the grid search to the data\n",
    "grid_search.fit(X_train, y_train)\n",
    "\n",
    "timer(start_time)\n",
    "print(grid_search.best_params_)\n",
    "\n",
    "\n",
    "xgbc_tuned = XGBClassifier(subsample=grid_search.best_params_['subsample'],\n",
    "                                   max_depth=grid_search.best_params_['max_depth'],\n",
    "                                   colsample_bytree=grid_search.best_params_['colsample_bytree'],\n",
    "                                   min_child_weight=grid_search.best_params_['min_child_weight'],\n",
    "                                   learning_rate=grid_search.best_params_['learning_rate'],\n",
    "                                   eta=grid_search.best_params_['eta'])\n",
    "xgbc_tuned.fit(X_train,y_train)\n",
    "\n",
    "## results F1 and stdF1 ##\n",
    "avgF1set2_CTmin_base2tunedXGBoost  = cross_val_score(xgbc_tuned, X, y, scoring=\"f1\", cv = 10).mean() ##<3## \n",
    "stdF1set2_CTmin_base2tunedXGBoost  = cross_val_score(xgbc_tuned, X, y, scoring=\"f1\", cv = 10).std() ##<3##\n",
    "print('Mean F1 Score: ', avgF1set2_CTmin_base2tunedXGBoost)\n",
    "print('std F1 Score: ', stdF1set2_CTmin_base2tunedXGBoost)"
   ]
  },
  {
   "cell_type": "code",
   "execution_count": 125,
   "id": "a981a10c",
   "metadata": {},
   "outputs": [
    {
     "name": "stdout",
     "output_type": "stream",
     "text": [
      "Fitting 5 folds for each of 729 candidates, totalling 3645 fits\n",
      "\n",
      " Time taken: 0 hours 4 minutes and 47.55 seconds.\n",
      "{'colsample_bytree': 0.1, 'eta': 0.01, 'learning_rate': 0.1, 'max_depth': 10, 'min_child_weight': 20, 'subsample': 0.2}\n",
      "Mean F1 Score:  0.0\n",
      "std F1 Score:  0.0\n"
     ]
    }
   ],
   "source": [
    "## tuned parameter_set3##\n",
    "\n",
    "start_time = timer(None)\n",
    "# Instantiate the grid search model\n",
    "grid_search = GridSearchCV(estimator = xgbc, param_grid = paramXGBoost_grid3,\n",
    "                           cv = 5, n_jobs = -1, verbose = 2,scoring='f1')\n",
    "# Fit the grid search to the data\n",
    "grid_search.fit(X_train, y_train)\n",
    "\n",
    "timer(start_time)\n",
    "print(grid_search.best_params_)\n",
    "\n",
    "\n",
    "xgbc_tuned = XGBClassifier(subsample=grid_search.best_params_['subsample'],\n",
    "                                   max_depth=grid_search.best_params_['max_depth'],\n",
    "                                   colsample_bytree=grid_search.best_params_['colsample_bytree'],\n",
    "                                   min_child_weight=grid_search.best_params_['min_child_weight'],\n",
    "                                   learning_rate=grid_search.best_params_['learning_rate'],\n",
    "                                   eta=grid_search.best_params_['eta'])\n",
    "xgbc_tuned.fit(X_train,y_train)\n",
    "\n",
    "## results F1 and stdF1 ##\n",
    "avgF1set3_CTmin_base2tunedXGBoost  = cross_val_score(xgbc_tuned, X, y, scoring=\"f1\", cv = 10).mean() ##<3## \n",
    "stdF1set3_CTmin_base2tunedXGBoost  = cross_val_score(xgbc_tuned, X, y, scoring=\"f1\", cv = 10).std() ##<3##\n",
    "print('Mean F1 Score: ', avgF1set3_CTmin_base2tunedXGBoost)\n",
    "print('std F1 Score: ', stdF1set3_CTmin_base2tunedXGBoost)"
   ]
  },
  {
   "cell_type": "code",
   "execution_count": 126,
   "id": "52f9d7bf",
   "metadata": {},
   "outputs": [
    {
     "name": "stdout",
     "output_type": "stream",
     "text": [
      "Fitting 5 folds for each of 729 candidates, totalling 3645 fits\n",
      "\n",
      " Time taken: 0 hours 2 minutes and 2.95 seconds.\n",
      "{'colsample_bytree': 0.1, 'eta': 0.01, 'learning_rate': 0.1, 'max_depth': 5, 'min_child_weight': 5, 'subsample': 0.75}\n",
      "Mean F1 Score:  0.25\n",
      "std F1 Score:  0.30956959368344517\n"
     ]
    }
   ],
   "source": [
    "## tuned parameter_set4##\n",
    "\n",
    "start_time = timer(None)\n",
    "# Instantiate the grid search model\n",
    "grid_search = GridSearchCV(estimator = xgbc, param_grid = paramXGBoost_grid4,\n",
    "                           cv = 5, n_jobs = -1, verbose = 2,scoring='f1')\n",
    "# Fit the grid search to the data\n",
    "grid_search.fit(X_train, y_train)\n",
    "\n",
    "timer(start_time)\n",
    "print(grid_search.best_params_)\n",
    "\n",
    "\n",
    "xgbc_tuned = XGBClassifier(subsample=grid_search.best_params_['subsample'],\n",
    "                                   max_depth=grid_search.best_params_['max_depth'],\n",
    "                                   colsample_bytree=grid_search.best_params_['colsample_bytree'],\n",
    "                                   min_child_weight=grid_search.best_params_['min_child_weight'],\n",
    "                                   learning_rate=grid_search.best_params_['learning_rate'],\n",
    "                                   eta=grid_search.best_params_['eta'])\n",
    "xgbc_tuned.fit(X_train,y_train)\n",
    "\n",
    "## results F1 and stdF1 ##\n",
    "avgF1set4_CTmin_base2tunedXGBoost  = cross_val_score(xgbc_tuned, X, y, scoring=\"f1\", cv = 10).mean() ##<3## \n",
    "stdF1set4_CTmin_base2tunedXGBoost  = cross_val_score(xgbc_tuned, X, y, scoring=\"f1\", cv = 10).std() ##<3##\n",
    "print('Mean F1 Score: ', avgF1set4_CTmin_base2tunedXGBoost)\n",
    "print('std F1 Score: ', stdF1set4_CTmin_base2tunedXGBoost)"
   ]
  },
  {
   "cell_type": "markdown",
   "id": "eb685601",
   "metadata": {},
   "source": [
    "### threshold: 2.5%"
   ]
  },
  {
   "cell_type": "code",
   "execution_count": 127,
   "id": "58b4c1c8",
   "metadata": {},
   "outputs": [
    {
     "name": "stdout",
     "output_type": "stream",
     "text": [
      "thres_p2_5 (value,iloc_threshold)(26, 49)\n",
      "Mean F1 Score:  0.6900000000000001\n",
      "std F1 Score:  0.31342197327777344\n"
     ]
    }
   ],
   "source": [
    "# threshold: 2.5%\n",
    "\n",
    "f_df123_1 = pd.read_csv('f_df123_xgb.csv')\n",
    "f_df123_1 = f_df123_1.set_index('Feature')\n",
    "f_df123_1 = f_df123_1.sort_values(by=['min'])\n",
    "\n",
    "\n",
    "k =(filter_arr(f_df123_1['min'], thres_p2_5-1))\n",
    "print(\"thres_p2_5 (value,iloc_threshold)\" + str(filter_arr(f_df123_1['min'], thres_p2_5-1)))\n",
    "f_df123_1 = f_df123_1.iloc[:k[1]+1]\n",
    "\n",
    "\n",
    "df_filter = df1.filter(items=f_df123_1.index)\n",
    "X = df_filter\n",
    "y = df1['class']\n",
    "\n",
    "\n",
    "\n",
    "\n",
    "## before tuned ##\n",
    "X_train, X_test, y_train, y_test = train_test_split(X, y, test_size=0.2, random_state=123) \n",
    "xgbc = XGBClassifier(random_state=123)\n",
    "xgbc.fit(X_train,y_train)\n",
    "## results F1 and stdF1 ##\n",
    "avgF1_CTmin_p2_5XGBoost = cross_val_score(xgbc, X, y, scoring=\"f1\", cv = 10).mean() ##<3## \n",
    "stdF1_CTmin_p2_5XGBoost = cross_val_score(xgbc, X, y, scoring=\"f1\", cv = 10).std() ##<3##\n",
    "print('Mean F1 Score: ', avgF1_CTmin_p2_5XGBoost)\n",
    "print('std F1 Score: ', stdF1_CTmin_p2_5XGBoost)"
   ]
  },
  {
   "cell_type": "code",
   "execution_count": 128,
   "id": "0d7aa5eb",
   "metadata": {},
   "outputs": [
    {
     "data": {
      "text/plain": [
       "50"
      ]
     },
     "execution_count": 128,
     "metadata": {},
     "output_type": "execute_result"
    }
   ],
   "source": [
    "n_CTmin_p2_5XGBoost = k[1]+1\n",
    "n_CTmin_p2_5XGBoost"
   ]
  },
  {
   "cell_type": "code",
   "execution_count": 129,
   "id": "bba0c025",
   "metadata": {},
   "outputs": [
    {
     "name": "stdout",
     "output_type": "stream",
     "text": [
      "Fitting 5 folds for each of 729 candidates, totalling 3645 fits\n",
      "\n",
      " Time taken: 0 hours 2 minutes and 12.61 seconds.\n",
      "{'colsample_bytree': 1, 'eta': 0.01, 'learning_rate': 0.1, 'max_depth': 5, 'min_child_weight': 1, 'subsample': 0.5}\n",
      "Mean F1 Score:  0.8033333333333333\n",
      "std F1 Score:  0.22032803826214323\n"
     ]
    }
   ],
   "source": [
    "## tuned parameter_set1##\n",
    "\n",
    "start_time = timer(None)\n",
    "# Instantiate the grid search model\n",
    "grid_search = GridSearchCV(estimator = xgbc, param_grid = paramXGBoost_grid1,\n",
    "                           cv = 5, n_jobs = -1, verbose = 2,scoring='f1')\n",
    "# Fit the grid search to the data\n",
    "grid_search.fit(X_train, y_train)\n",
    "\n",
    "timer(start_time)\n",
    "print(grid_search.best_params_)\n",
    "\n",
    "\n",
    "xgbc_tuned = XGBClassifier(subsample=grid_search.best_params_['subsample'],\n",
    "                                   max_depth=grid_search.best_params_['max_depth'],\n",
    "                                   colsample_bytree=grid_search.best_params_['colsample_bytree'],\n",
    "                                   min_child_weight=grid_search.best_params_['min_child_weight'],\n",
    "                                   learning_rate=grid_search.best_params_['learning_rate'],\n",
    "                                   eta=grid_search.best_params_['eta'])\n",
    "xgbc_tuned.fit(X_train,y_train)\n",
    "\n",
    "## results F1 and stdF1 ##\n",
    "avgF1set1_CTmin_p2_5tunedXGBoost  = cross_val_score(xgbc_tuned, X, y, scoring=\"f1\", cv = 10).mean() ##<3## \n",
    "stdF1set1_CTmin_p2_5tunedXGBoost  = cross_val_score(xgbc_tuned, X, y, scoring=\"f1\", cv = 10).std() ##<3##\n",
    "print('Mean F1 Score: ', avgF1set1_CTmin_p2_5tunedXGBoost)\n",
    "print('std F1 Score: ', stdF1set1_CTmin_p2_5tunedXGBoost)"
   ]
  },
  {
   "cell_type": "code",
   "execution_count": 130,
   "id": "5c8b2784",
   "metadata": {},
   "outputs": [
    {
     "name": "stdout",
     "output_type": "stream",
     "text": [
      "Fitting 5 folds for each of 729 candidates, totalling 3645 fits\n",
      "\n",
      " Time taken: 0 hours 3 minutes and 53.87 seconds.\n",
      "{'colsample_bytree': 0.5, 'eta': 0.01, 'learning_rate': 0.1, 'max_depth': 7, 'min_child_weight': 0.5, 'subsample': 0.2}\n",
      "Mean F1 Score:  0.7057142857142857\n",
      "std F1 Score:  0.2979430617202067\n"
     ]
    }
   ],
   "source": [
    "## tuned parameter_set2##\n",
    "\n",
    "start_time = timer(None)\n",
    "# Instantiate the grid search model\n",
    "grid_search = GridSearchCV(estimator = xgbc, param_grid = paramXGBoost_grid2,\n",
    "                           cv = 5, n_jobs = -1, verbose = 2,scoring='f1')\n",
    "# Fit the grid search to the data\n",
    "grid_search.fit(X_train, y_train)\n",
    "\n",
    "timer(start_time)\n",
    "print(grid_search.best_params_)\n",
    "\n",
    "\n",
    "xgbc_tuned = XGBClassifier(subsample=grid_search.best_params_['subsample'],\n",
    "                                   max_depth=grid_search.best_params_['max_depth'],\n",
    "                                   colsample_bytree=grid_search.best_params_['colsample_bytree'],\n",
    "                                   min_child_weight=grid_search.best_params_['min_child_weight'],\n",
    "                                   learning_rate=grid_search.best_params_['learning_rate'],\n",
    "                                   eta=grid_search.best_params_['eta'])\n",
    "xgbc_tuned.fit(X_train,y_train)\n",
    "\n",
    "## results F1 and stdF1 ##\n",
    "avgF1set2_CTmin_p2_5tunedXGBoost  = cross_val_score(xgbc_tuned, X, y, scoring=\"f1\", cv = 10).mean() ##<3## \n",
    "stdF1set2_CTmin_p2_5tunedXGBoost  = cross_val_score(xgbc_tuned, X, y, scoring=\"f1\", cv = 10).std() ##<3##\n",
    "print('Mean F1 Score: ', avgF1set2_CTmin_p2_5tunedXGBoost)\n",
    "print('std F1 Score: ', stdF1set2_CTmin_p2_5tunedXGBoost)"
   ]
  },
  {
   "cell_type": "code",
   "execution_count": 131,
   "id": "3c68d750",
   "metadata": {},
   "outputs": [
    {
     "name": "stdout",
     "output_type": "stream",
     "text": [
      "Fitting 5 folds for each of 729 candidates, totalling 3645 fits\n",
      "\n",
      " Time taken: 0 hours 3 minutes and 42.28 seconds.\n",
      "{'colsample_bytree': 0.1, 'eta': 0.01, 'learning_rate': 0.1, 'max_depth': 10, 'min_child_weight': 20, 'subsample': 0.2}\n",
      "Mean F1 Score:  0.0\n",
      "std F1 Score:  0.0\n"
     ]
    }
   ],
   "source": [
    "## tuned parameter_set3##\n",
    "\n",
    "start_time = timer(None)\n",
    "# Instantiate the grid search model\n",
    "grid_search = GridSearchCV(estimator = xgbc, param_grid = paramXGBoost_grid3,\n",
    "                           cv = 5, n_jobs = -1, verbose = 2,scoring='f1')\n",
    "# Fit the grid search to the data\n",
    "grid_search.fit(X_train, y_train)\n",
    "\n",
    "timer(start_time)\n",
    "print(grid_search.best_params_)\n",
    "\n",
    "\n",
    "xgbc_tuned = XGBClassifier(subsample=grid_search.best_params_['subsample'],\n",
    "                                   max_depth=grid_search.best_params_['max_depth'],\n",
    "                                   colsample_bytree=grid_search.best_params_['colsample_bytree'],\n",
    "                                   min_child_weight=grid_search.best_params_['min_child_weight'],\n",
    "                                   learning_rate=grid_search.best_params_['learning_rate'],\n",
    "                                   eta=grid_search.best_params_['eta'])\n",
    "xgbc_tuned.fit(X_train,y_train)\n",
    "\n",
    "## results F1 and stdF1 ##\n",
    "avgF1set3_CTmin_p2_5tunedXGBoost  = cross_val_score(xgbc_tuned, X, y, scoring=\"f1\", cv = 10).mean() ##<3## \n",
    "stdF1set3_CTmin_p2_5tunedXGBoost  = cross_val_score(xgbc_tuned, X, y, scoring=\"f1\", cv = 10).std() ##<3##\n",
    "print('Mean F1 Score: ', avgF1set3_CTmin_p2_5tunedXGBoost)\n",
    "print('std F1 Score: ', stdF1set3_CTmin_p2_5tunedXGBoost)"
   ]
  },
  {
   "cell_type": "code",
   "execution_count": 132,
   "id": "5d45edff",
   "metadata": {},
   "outputs": [
    {
     "name": "stdout",
     "output_type": "stream",
     "text": [
      "Fitting 5 folds for each of 729 candidates, totalling 3645 fits\n",
      "\n",
      " Time taken: 0 hours 2 minutes and 48.85 seconds.\n",
      "{'colsample_bytree': 0.1, 'eta': 0.01, 'learning_rate': 0.1, 'max_depth': 5, 'min_child_weight': 5, 'subsample': 0.75}\n",
      "Mean F1 Score:  0.32999999999999996\n",
      "std F1 Score:  0.33679865399572684\n"
     ]
    }
   ],
   "source": [
    "## tuned parameter_set4##\n",
    "\n",
    "start_time = timer(None)\n",
    "# Instantiate the grid search model\n",
    "grid_search = GridSearchCV(estimator = xgbc, param_grid = paramXGBoost_grid4,\n",
    "                           cv = 5, n_jobs = -1, verbose = 2,scoring='f1')\n",
    "# Fit the grid search to the data\n",
    "grid_search.fit(X_train, y_train)\n",
    "\n",
    "timer(start_time)\n",
    "print(grid_search.best_params_)\n",
    "\n",
    "\n",
    "xgbc_tuned = XGBClassifier(subsample=grid_search.best_params_['subsample'],\n",
    "                                   max_depth=grid_search.best_params_['max_depth'],\n",
    "                                   colsample_bytree=grid_search.best_params_['colsample_bytree'],\n",
    "                                   min_child_weight=grid_search.best_params_['min_child_weight'],\n",
    "                                   learning_rate=grid_search.best_params_['learning_rate'],\n",
    "                                   eta=grid_search.best_params_['eta'])\n",
    "xgbc_tuned.fit(X_train,y_train)\n",
    "\n",
    "## results F1 and stdF1 ##\n",
    "avgF1set4_CTmin_p2_5tunedXGBoost  = cross_val_score(xgbc_tuned, X, y, scoring=\"f1\", cv = 10).mean() ##<3## \n",
    "stdF1set4_CTmin_p2_5tunedXGBoost  = cross_val_score(xgbc_tuned, X, y, scoring=\"f1\", cv = 10).std() ##<3##\n",
    "print('Mean F1 Score: ', avgF1set4_CTmin_p2_5tunedXGBoost)\n",
    "print('std F1 Score: ', stdF1set4_CTmin_p2_5tunedXGBoost)"
   ]
  },
  {
   "cell_type": "raw",
   "id": "715dcf84",
   "metadata": {},
   "source": []
  },
  {
   "cell_type": "code",
   "execution_count": null,
   "id": "6856dfb8",
   "metadata": {},
   "outputs": [],
   "source": []
  },
  {
   "cell_type": "code",
   "execution_count": null,
   "id": "68f07634",
   "metadata": {},
   "outputs": [],
   "source": []
  },
  {
   "cell_type": "code",
   "execution_count": null,
   "id": "6360810b",
   "metadata": {},
   "outputs": [],
   "source": []
  },
  {
   "cell_type": "markdown",
   "id": "90bea883",
   "metadata": {},
   "source": [
    "### threshold: 5%"
   ]
  },
  {
   "cell_type": "code",
   "execution_count": 133,
   "id": "017eed6a",
   "metadata": {},
   "outputs": [
    {
     "name": "stdout",
     "output_type": "stream",
     "text": [
      "thres_p5 (value,iloc_threshold)(57, 98)\n",
      "Mean F1 Score:  0.67\n",
      "std F1 Score:  0.2990540642314251\n"
     ]
    }
   ],
   "source": [
    "# threshold: 5%\n",
    "\n",
    "f_df123_1 = pd.read_csv('f_df123_xgb.csv')\n",
    "f_df123_1 = f_df123_1.set_index('Feature')\n",
    "f_df123_1 = f_df123_1.sort_values(by=['min'])\n",
    "\n",
    "\n",
    "k =(filter_arr(f_df123_1['min'], thres_p5-1))\n",
    "print(\"thres_p5 (value,iloc_threshold)\" + str(filter_arr(f_df123_1['min'], thres_p5-1)))\n",
    "f_df123_1 = f_df123_1.iloc[:k[1]+1]\n",
    "\n",
    "\n",
    "df_filter = df1.filter(items=f_df123_1.index)\n",
    "X = df_filter\n",
    "y = df1['class']\n",
    "\n",
    "\n",
    "\n",
    "\n",
    "## before tuned ##\n",
    "X_train, X_test, y_train, y_test = train_test_split(X, y, test_size=0.2, random_state=123) \n",
    "xgbc = XGBClassifier(random_state=123)\n",
    "xgbc.fit(X_train,y_train)\n",
    "## results F1 and stdF1 ##\n",
    "avgF1_CTmin_p5XGBoost = cross_val_score(xgbc, X, y, scoring=\"f1\", cv = 10).mean() ##<3## \n",
    "stdF1_CTmin_p5XGBoost = cross_val_score(xgbc, X, y, scoring=\"f1\", cv = 10).std() ##<3##\n",
    "print('Mean F1 Score: ', avgF1_CTmin_p5XGBoost)\n",
    "print('std F1 Score: ', stdF1_CTmin_p5XGBoost)"
   ]
  },
  {
   "cell_type": "code",
   "execution_count": 134,
   "id": "a6169e30",
   "metadata": {},
   "outputs": [
    {
     "data": {
      "text/plain": [
       "99"
      ]
     },
     "execution_count": 134,
     "metadata": {},
     "output_type": "execute_result"
    }
   ],
   "source": [
    "n_CTmin_p5XGBoost = k[1]+1\n",
    "n_CTmin_p5XGBoost"
   ]
  },
  {
   "cell_type": "code",
   "execution_count": 135,
   "id": "97e42b0f",
   "metadata": {},
   "outputs": [
    {
     "name": "stdout",
     "output_type": "stream",
     "text": [
      "Fitting 5 folds for each of 729 candidates, totalling 3645 fits\n",
      "\n",
      " Time taken: 0 hours 2 minutes and 5.42 seconds.\n",
      "{'colsample_bytree': 0.5, 'eta': 0.01, 'learning_rate': 0.05, 'max_depth': 5, 'min_child_weight': 1, 'subsample': 0.5}\n",
      "Mean F1 Score:  0.72\n",
      "std F1 Score:  0.3081125335544358\n"
     ]
    }
   ],
   "source": [
    "## tuned parameter_set1##\n",
    "\n",
    "start_time = timer(None)\n",
    "# Instantiate the grid search model\n",
    "grid_search = GridSearchCV(estimator = xgbc, param_grid = paramXGBoost_grid1,\n",
    "                           cv = 5, n_jobs = -1, verbose = 2,scoring='f1')\n",
    "# Fit the grid search to the data\n",
    "grid_search.fit(X_train, y_train)\n",
    "\n",
    "timer(start_time)\n",
    "print(grid_search.best_params_)\n",
    "\n",
    "\n",
    "xgbc_tuned = XGBClassifier(subsample=grid_search.best_params_['subsample'],\n",
    "                                   max_depth=grid_search.best_params_['max_depth'],\n",
    "                                   colsample_bytree=grid_search.best_params_['colsample_bytree'],\n",
    "                                   min_child_weight=grid_search.best_params_['min_child_weight'],\n",
    "                                   learning_rate=grid_search.best_params_['learning_rate'],\n",
    "                                   eta=grid_search.best_params_['eta'])\n",
    "xgbc_tuned.fit(X_train,y_train)\n",
    "\n",
    "## results F1 and stdF1 ##\n",
    "avgF1set1_CTmin_p5tunedXGBoost  = cross_val_score(xgbc_tuned, X, y, scoring=\"f1\", cv = 10).mean() ##<3## \n",
    "stdF1set1_CTmin_p5tunedXGBoost  = cross_val_score(xgbc_tuned, X, y, scoring=\"f1\", cv = 10).std() ##<3##\n",
    "print('Mean F1 Score: ', avgF1set1_CTmin_p5tunedXGBoost)\n",
    "print('std F1 Score: ', stdF1set1_CTmin_p5tunedXGBoost)"
   ]
  },
  {
   "cell_type": "code",
   "execution_count": 136,
   "id": "43011c7f",
   "metadata": {},
   "outputs": [
    {
     "name": "stdout",
     "output_type": "stream",
     "text": [
      "Fitting 5 folds for each of 729 candidates, totalling 3645 fits\n",
      "\n",
      " Time taken: 0 hours 0 minutes and 44.76 seconds.\n",
      "{'colsample_bytree': 0.5, 'eta': 0.01, 'learning_rate': 0.1, 'max_depth': 7, 'min_child_weight': 0.5, 'subsample': 0.2}\n",
      "Mean F1 Score:  0.7923809523809524\n",
      "std F1 Score:  0.19844291833354671\n"
     ]
    }
   ],
   "source": [
    "## tuned parameter_set2##\n",
    "\n",
    "start_time = timer(None)\n",
    "# Instantiate the grid search model\n",
    "grid_search = GridSearchCV(estimator = xgbc, param_grid = paramXGBoost_grid2,\n",
    "                           cv = 5, n_jobs = -1, verbose = 2,scoring='f1')\n",
    "# Fit the grid search to the data\n",
    "grid_search.fit(X_train, y_train)\n",
    "\n",
    "timer(start_time)\n",
    "print(grid_search.best_params_)\n",
    "\n",
    "\n",
    "xgbc_tuned = XGBClassifier(subsample=grid_search.best_params_['subsample'],\n",
    "                                   max_depth=grid_search.best_params_['max_depth'],\n",
    "                                   colsample_bytree=grid_search.best_params_['colsample_bytree'],\n",
    "                                   min_child_weight=grid_search.best_params_['min_child_weight'],\n",
    "                                   learning_rate=grid_search.best_params_['learning_rate'],\n",
    "                                   eta=grid_search.best_params_['eta'])\n",
    "xgbc_tuned.fit(X_train,y_train)\n",
    "\n",
    "## results F1 and stdF1 ##\n",
    "avgF1set2_CTmin_p5tunedXGBoost  = cross_val_score(xgbc_tuned, X, y, scoring=\"f1\", cv = 10).mean() ##<3## \n",
    "stdF1set2_CTmin_p5tunedXGBoost  = cross_val_score(xgbc_tuned, X, y, scoring=\"f1\", cv = 10).std() ##<3##\n",
    "print('Mean F1 Score: ', avgF1set2_CTmin_p5tunedXGBoost)\n",
    "print('std F1 Score: ', stdF1set2_CTmin_p5tunedXGBoost)"
   ]
  },
  {
   "cell_type": "code",
   "execution_count": 137,
   "id": "610515cc",
   "metadata": {},
   "outputs": [
    {
     "name": "stdout",
     "output_type": "stream",
     "text": [
      "Fitting 5 folds for each of 729 candidates, totalling 3645 fits\n",
      "\n",
      " Time taken: 0 hours 0 minutes and 21.23 seconds.\n",
      "{'colsample_bytree': 0.1, 'eta': 0.01, 'learning_rate': 0.1, 'max_depth': 10, 'min_child_weight': 20, 'subsample': 0.2}\n",
      "Mean F1 Score:  0.0\n",
      "std F1 Score:  0.0\n"
     ]
    }
   ],
   "source": [
    "## tuned parameter_set3##\n",
    "\n",
    "start_time = timer(None)\n",
    "# Instantiate the grid search model\n",
    "grid_search = GridSearchCV(estimator = xgbc, param_grid = paramXGBoost_grid3,\n",
    "                           cv = 5, n_jobs = -1, verbose = 2,scoring='f1')\n",
    "# Fit the grid search to the data\n",
    "grid_search.fit(X_train, y_train)\n",
    "\n",
    "timer(start_time)\n",
    "print(grid_search.best_params_)\n",
    "\n",
    "\n",
    "xgbc_tuned = XGBClassifier(subsample=grid_search.best_params_['subsample'],\n",
    "                                   max_depth=grid_search.best_params_['max_depth'],\n",
    "                                   colsample_bytree=grid_search.best_params_['colsample_bytree'],\n",
    "                                   min_child_weight=grid_search.best_params_['min_child_weight'],\n",
    "                                   learning_rate=grid_search.best_params_['learning_rate'],\n",
    "                                   eta=grid_search.best_params_['eta'])\n",
    "xgbc_tuned.fit(X_train,y_train)\n",
    "\n",
    "## results F1 and stdF1 ##\n",
    "avgF1set3_CTmin_p5tunedXGBoost  = cross_val_score(xgbc_tuned, X, y, scoring=\"f1\", cv = 10).mean() ##<3## \n",
    "stdF1set3_CTmin_p5tunedXGBoost  = cross_val_score(xgbc_tuned, X, y, scoring=\"f1\", cv = 10).std() ##<3##\n",
    "print('Mean F1 Score: ', avgF1set3_CTmin_p5tunedXGBoost)\n",
    "print('std F1 Score: ', stdF1set3_CTmin_p5tunedXGBoost)"
   ]
  },
  {
   "cell_type": "code",
   "execution_count": 138,
   "id": "24ddb343",
   "metadata": {},
   "outputs": [
    {
     "name": "stdout",
     "output_type": "stream",
     "text": [
      "Fitting 5 folds for each of 729 candidates, totalling 3645 fits\n",
      "\n",
      " Time taken: 0 hours 1 minutes and 40.72 seconds.\n",
      "{'colsample_bytree': 0.1, 'eta': 0.01, 'learning_rate': 0.1, 'max_depth': 5, 'min_child_weight': 5, 'subsample': 0.75}\n",
      "Mean F1 Score:  0.5066666666666666\n",
      "std F1 Score:  0.295070613017743\n"
     ]
    }
   ],
   "source": [
    "## tuned parameter_set4##\n",
    "\n",
    "start_time = timer(None)\n",
    "# Instantiate the grid search model\n",
    "grid_search = GridSearchCV(estimator = xgbc, param_grid = paramXGBoost_grid4,\n",
    "                           cv = 5, n_jobs = -1, verbose = 2,scoring='f1')\n",
    "# Fit the grid search to the data\n",
    "grid_search.fit(X_train, y_train)\n",
    "\n",
    "timer(start_time)\n",
    "print(grid_search.best_params_)\n",
    "\n",
    "\n",
    "xgbc_tuned = XGBClassifier(subsample=grid_search.best_params_['subsample'],\n",
    "                                   max_depth=grid_search.best_params_['max_depth'],\n",
    "                                   colsample_bytree=grid_search.best_params_['colsample_bytree'],\n",
    "                                   min_child_weight=grid_search.best_params_['min_child_weight'],\n",
    "                                   learning_rate=grid_search.best_params_['learning_rate'],\n",
    "                                   eta=grid_search.best_params_['eta'])\n",
    "xgbc_tuned.fit(X_train,y_train)\n",
    "\n",
    "## results F1 and stdF1 ##\n",
    "avgF1set4_CTmin_p5tunedXGBoost  = cross_val_score(xgbc_tuned, X, y, scoring=\"f1\", cv = 10).mean() ##<3## \n",
    "stdF1set4_CTmin_p5tunedXGBoost  = cross_val_score(xgbc_tuned, X, y, scoring=\"f1\", cv = 10).std() ##<3##\n",
    "print('Mean F1 Score: ', avgF1set4_CTmin_p5tunedXGBoost)\n",
    "print('std F1 Score: ', stdF1set4_CTmin_p5tunedXGBoost)"
   ]
  },
  {
   "cell_type": "code",
   "execution_count": null,
   "id": "1b2da9f9",
   "metadata": {},
   "outputs": [],
   "source": []
  },
  {
   "cell_type": "code",
   "execution_count": null,
   "id": "7fd5453f",
   "metadata": {},
   "outputs": [],
   "source": []
  },
  {
   "cell_type": "code",
   "execution_count": null,
   "id": "c2a81111",
   "metadata": {},
   "outputs": [],
   "source": []
  },
  {
   "cell_type": "markdown",
   "id": "2366b234",
   "metadata": {},
   "source": [
    "### threshold: 10%"
   ]
  },
  {
   "cell_type": "code",
   "execution_count": 139,
   "id": "6e3606e0",
   "metadata": {},
   "outputs": [
    {
     "name": "stdout",
     "output_type": "stream",
     "text": [
      "thres_p10 (value,iloc_threshold)(114, 199)\n",
      "Mean F1 Score:  0.52\n",
      "std F1 Score:  0.37806525010020864\n"
     ]
    }
   ],
   "source": [
    "# threshold: 10%\n",
    "\n",
    "f_df123_1 = pd.read_csv('f_df123_xgb.csv')\n",
    "f_df123_1 = f_df123_1.set_index('Feature')\n",
    "f_df123_1 = f_df123_1.sort_values(by=['min'])\n",
    "\n",
    "\n",
    "k =(filter_arr(f_df123_1['min'], thres_p10-1))\n",
    "print(\"thres_p10 (value,iloc_threshold)\" + str(filter_arr(f_df123_1['min'], thres_p10-1)))\n",
    "f_df123_1 = f_df123_1.iloc[:k[1]+1]\n",
    "\n",
    "\n",
    "df_filter = df1.filter(items=f_df123_1.index)\n",
    "X = df_filter\n",
    "y = df1['class']\n",
    "\n",
    "\n",
    "\n",
    "\n",
    "## before tuned ##\n",
    "X_train, X_test, y_train, y_test = train_test_split(X, y, test_size=0.2, random_state=123) \n",
    "xgbc = XGBClassifier(random_state=123)\n",
    "xgbc.fit(X_train,y_train)\n",
    "## results F1 and stdF1 ##\n",
    "avgF1_CTmin_p10XGBoost = cross_val_score(xgbc, X, y, scoring=\"f1\", cv = 10).mean() ##<3## \n",
    "stdF1_CTmin_p10XGBoost = cross_val_score(xgbc, X, y, scoring=\"f1\", cv = 10).std() ##<3##\n",
    "print('Mean F1 Score: ', avgF1_CTmin_p10XGBoost)\n",
    "print('std F1 Score: ', stdF1_CTmin_p10XGBoost)"
   ]
  },
  {
   "cell_type": "code",
   "execution_count": 140,
   "id": "5725e4e9",
   "metadata": {},
   "outputs": [
    {
     "data": {
      "text/plain": [
       "200"
      ]
     },
     "execution_count": 140,
     "metadata": {},
     "output_type": "execute_result"
    }
   ],
   "source": [
    "n_CTmin_p10XGBoost = k[1]+1\n",
    "n_CTmin_p10XGBoost"
   ]
  },
  {
   "cell_type": "code",
   "execution_count": 141,
   "id": "7bc4471d",
   "metadata": {},
   "outputs": [
    {
     "name": "stdout",
     "output_type": "stream",
     "text": [
      "Fitting 5 folds for each of 729 candidates, totalling 3645 fits\n",
      "\n",
      " Time taken: 0 hours 0 minutes and 18.18 seconds.\n",
      "{'colsample_bytree': 0.5, 'eta': 0.01, 'learning_rate': 0.1, 'max_depth': 5, 'min_child_weight': 1, 'subsample': 0.5}\n",
      "Mean F1 Score:  0.6323809523809524\n",
      "std F1 Score:  0.2556198282579805\n"
     ]
    }
   ],
   "source": [
    "## tuned parameter_set1##\n",
    "\n",
    "start_time = timer(None)\n",
    "# Instantiate the grid search model\n",
    "grid_search = GridSearchCV(estimator = xgbc, param_grid = paramXGBoost_grid1,\n",
    "                           cv = 5, n_jobs = -1, verbose = 2,scoring='f1')\n",
    "# Fit the grid search to the data\n",
    "grid_search.fit(X_train, y_train)\n",
    "\n",
    "timer(start_time)\n",
    "print(grid_search.best_params_)\n",
    "\n",
    "\n",
    "xgbc_tuned = XGBClassifier(subsample=grid_search.best_params_['subsample'],\n",
    "                                   max_depth=grid_search.best_params_['max_depth'],\n",
    "                                   colsample_bytree=grid_search.best_params_['colsample_bytree'],\n",
    "                                   min_child_weight=grid_search.best_params_['min_child_weight'],\n",
    "                                   learning_rate=grid_search.best_params_['learning_rate'],\n",
    "                                   eta=grid_search.best_params_['eta'])\n",
    "xgbc_tuned.fit(X_train,y_train)\n",
    "\n",
    "## results F1 and stdF1 ##\n",
    "avgF1set1_CTmin_p10tunedXGBoost  = cross_val_score(xgbc_tuned, X, y, scoring=\"f1\", cv = 10).mean() ##<3## \n",
    "stdF1set1_CTmin_p10tunedXGBoost  = cross_val_score(xgbc_tuned, X, y, scoring=\"f1\", cv = 10).std() ##<3##\n",
    "print('Mean F1 Score: ', avgF1set1_CTmin_p10tunedXGBoost)\n",
    "print('std F1 Score: ', stdF1set1_CTmin_p10tunedXGBoost)"
   ]
  },
  {
   "cell_type": "code",
   "execution_count": 142,
   "id": "2a019323",
   "metadata": {},
   "outputs": [
    {
     "name": "stdout",
     "output_type": "stream",
     "text": [
      "Fitting 5 folds for each of 729 candidates, totalling 3645 fits\n",
      "\n",
      " Time taken: 0 hours 0 minutes and 27.79 seconds.\n",
      "{'colsample_bytree': 1, 'eta': 0.01, 'learning_rate': 0.1, 'max_depth': 7, 'min_child_weight': 0.5, 'subsample': 0.2}\n",
      "Mean F1 Score:  0.7057142857142857\n",
      "std F1 Score:  0.2979430617202067\n"
     ]
    }
   ],
   "source": [
    "## tuned parameter_set2##\n",
    "\n",
    "start_time = timer(None)\n",
    "# Instantiate the grid search model\n",
    "grid_search = GridSearchCV(estimator = xgbc, param_grid = paramXGBoost_grid2,\n",
    "                           cv = 5, n_jobs = -1, verbose = 2,scoring='f1')\n",
    "# Fit the grid search to the data\n",
    "grid_search.fit(X_train, y_train)\n",
    "\n",
    "timer(start_time)\n",
    "print(grid_search.best_params_)\n",
    "\n",
    "\n",
    "xgbc_tuned = XGBClassifier(subsample=grid_search.best_params_['subsample'],\n",
    "                                   max_depth=grid_search.best_params_['max_depth'],\n",
    "                                   colsample_bytree=grid_search.best_params_['colsample_bytree'],\n",
    "                                   min_child_weight=grid_search.best_params_['min_child_weight'],\n",
    "                                   learning_rate=grid_search.best_params_['learning_rate'],\n",
    "                                   eta=grid_search.best_params_['eta'])\n",
    "xgbc_tuned.fit(X_train,y_train)\n",
    "\n",
    "## results F1 and stdF1 ##\n",
    "avgF1set2_CTmin_p10tunedXGBoost = cross_val_score(xgbc_tuned, X, y, scoring=\"f1\", cv = 10).mean() ##<3## \n",
    "stdF1set2_CTmin_p10tunedXGBoost  = cross_val_score(xgbc_tuned, X, y, scoring=\"f1\", cv = 10).std() ##<3##\n",
    "print('Mean F1 Score: ', avgF1set2_CTmin_p10tunedXGBoost)\n",
    "print('std F1 Score: ', stdF1set2_CTmin_p10tunedXGBoost)"
   ]
  },
  {
   "cell_type": "code",
   "execution_count": 143,
   "id": "f7afc82c",
   "metadata": {},
   "outputs": [
    {
     "name": "stdout",
     "output_type": "stream",
     "text": [
      "Fitting 5 folds for each of 729 candidates, totalling 3645 fits\n",
      "\n",
      " Time taken: 0 hours 0 minutes and 16.51 seconds.\n",
      "{'colsample_bytree': 0.1, 'eta': 0.01, 'learning_rate': 0.1, 'max_depth': 10, 'min_child_weight': 20, 'subsample': 0.2}\n",
      "Mean F1 Score:  0.0\n",
      "std F1 Score:  0.0\n"
     ]
    }
   ],
   "source": [
    "## tuned parameter_set3##\n",
    "\n",
    "start_time = timer(None)\n",
    "# Instantiate the grid search model\n",
    "grid_search = GridSearchCV(estimator = xgbc, param_grid = paramXGBoost_grid3,\n",
    "                           cv = 5, n_jobs = -1, verbose = 2,scoring='f1')\n",
    "# Fit the grid search to the data\n",
    "grid_search.fit(X_train, y_train)\n",
    "\n",
    "timer(start_time)\n",
    "print(grid_search.best_params_)\n",
    "\n",
    "\n",
    "xgbc_tuned = XGBClassifier(subsample=grid_search.best_params_['subsample'],\n",
    "                                   max_depth=grid_search.best_params_['max_depth'],\n",
    "                                   colsample_bytree=grid_search.best_params_['colsample_bytree'],\n",
    "                                   min_child_weight=grid_search.best_params_['min_child_weight'],\n",
    "                                   learning_rate=grid_search.best_params_['learning_rate'],\n",
    "                                   eta=grid_search.best_params_['eta'])\n",
    "xgbc_tuned.fit(X_train,y_train)\n",
    "\n",
    "## results F1 and stdF1 ##\n",
    "avgF1set3_CTmin_p10tunedXGBoost  = cross_val_score(xgbc_tuned, X, y, scoring=\"f1\", cv = 10).mean() ##<3## \n",
    "stdF1set3_CTmin_p10tunedXGBoost  = cross_val_score(xgbc_tuned, X, y, scoring=\"f1\", cv = 10).std() ##<3##\n",
    "print('Mean F1 Score: ', avgF1set3_CTmin_p10tunedXGBoost)\n",
    "print('std F1 Score: ', stdF1set3_CTmin_p10tunedXGBoost)"
   ]
  },
  {
   "cell_type": "code",
   "execution_count": 144,
   "id": "52c4c5a5",
   "metadata": {},
   "outputs": [
    {
     "name": "stdout",
     "output_type": "stream",
     "text": [
      "Fitting 5 folds for each of 729 candidates, totalling 3645 fits\n",
      "\n",
      " Time taken: 0 hours 0 minutes and 18.18 seconds.\n",
      "{'colsample_bytree': 0.1, 'eta': 0.01, 'learning_rate': 0.1, 'max_depth': 5, 'min_child_weight': 5, 'subsample': 0.75}\n",
      "Mean F1 Score:  0.4633333333333334\n",
      "std F1 Score:  0.3107160189698054\n"
     ]
    }
   ],
   "source": [
    "## tuned parameter_set4##\n",
    "\n",
    "start_time = timer(None)\n",
    "# Instantiate the grid search model\n",
    "grid_search = GridSearchCV(estimator = xgbc, param_grid = paramXGBoost_grid4,\n",
    "                           cv = 5, n_jobs = -1, verbose = 2,scoring='f1')\n",
    "# Fit the grid search to the data\n",
    "grid_search.fit(X_train, y_train)\n",
    "\n",
    "timer(start_time)\n",
    "print(grid_search.best_params_)\n",
    "\n",
    "\n",
    "xgbc_tuned = XGBClassifier(subsample=grid_search.best_params_['subsample'],\n",
    "                                   max_depth=grid_search.best_params_['max_depth'],\n",
    "                                   colsample_bytree=grid_search.best_params_['colsample_bytree'],\n",
    "                                   min_child_weight=grid_search.best_params_['min_child_weight'],\n",
    "                                   learning_rate=grid_search.best_params_['learning_rate'],\n",
    "                                   eta=grid_search.best_params_['eta'])\n",
    "xgbc_tuned.fit(X_train,y_train)\n",
    "\n",
    "## results F1 and stdF1 ##\n",
    "avgF1set4_CTmin_p10tunedXGBoost  = cross_val_score(xgbc_tuned, X, y, scoring=\"f1\", cv = 10).mean() ##<3## \n",
    "stdF1set4_CTmin_p10tunedXGBoost = cross_val_score(xgbc_tuned, X, y, scoring=\"f1\", cv = 10).std() ##<3##\n",
    "print('Mean F1 Score: ', avgF1set4_CTmin_p10tunedXGBoost)\n",
    "print('std F1 Score: ', stdF1set4_CTmin_p10tunedXGBoost)"
   ]
  },
  {
   "cell_type": "code",
   "execution_count": null,
   "id": "b5ba05c8",
   "metadata": {},
   "outputs": [],
   "source": [
    "\n"
   ]
  },
  {
   "cell_type": "markdown",
   "id": "a7beaf65",
   "metadata": {},
   "source": [
    "### threshold: 20%"
   ]
  },
  {
   "cell_type": "code",
   "execution_count": 145,
   "id": "94abcc7a",
   "metadata": {},
   "outputs": [
    {
     "name": "stdout",
     "output_type": "stream",
     "text": [
      "thres_p20 (value,iloc_threshold)(226, 399)\n",
      "Mean F1 Score:  0.5700000000000001\n",
      "std F1 Score:  0.3367986539957269\n"
     ]
    }
   ],
   "source": [
    "# threshold: 20%\n",
    "\n",
    "f_df123_1 = pd.read_csv('f_df123_xgb.csv')\n",
    "f_df123_1 = f_df123_1.set_index('Feature')\n",
    "f_df123_1 = f_df123_1.sort_values(by=['min'])\n",
    "\n",
    "\n",
    "k =(filter_arr(f_df123_1['min'], thres_p20-1))\n",
    "print(\"thres_p20 (value,iloc_threshold)\" + str(filter_arr(f_df123_1['min'], thres_p20-1)))\n",
    "f_df123_1 = f_df123_1.iloc[:k[1]+1]\n",
    "\n",
    "\n",
    "df_filter = df1.filter(items=f_df123_1.index)\n",
    "X = df_filter\n",
    "y = df1['class']\n",
    "\n",
    "\n",
    "\n",
    "\n",
    "## before tuned ##\n",
    "X_train, X_test, y_train, y_test = train_test_split(X, y, test_size=0.2, random_state=123) \n",
    "xgbc = XGBClassifier(random_state=123)\n",
    "xgbc.fit(X_train,y_train)\n",
    "## results F1 and stdF1 ##\n",
    "avgF1_CTmin_p20XGBoost = cross_val_score(xgbc, X, y, scoring=\"f1\", cv = 10).mean() ##<3## \n",
    "stdF1_CTmin_p20XGBoost = cross_val_score(xgbc, X, y, scoring=\"f1\", cv = 10).std() ##<3##\n",
    "print('Mean F1 Score: ', avgF1_CTmin_p20XGBoost)\n",
    "print('std F1 Score: ', stdF1_CTmin_p20XGBoost)"
   ]
  },
  {
   "cell_type": "code",
   "execution_count": 146,
   "id": "ae9b866a",
   "metadata": {},
   "outputs": [
    {
     "data": {
      "text/plain": [
       "400"
      ]
     },
     "execution_count": 146,
     "metadata": {},
     "output_type": "execute_result"
    }
   ],
   "source": [
    "n_CTmin_p20XGBoost = k[1]+1\n",
    "n_CTmin_p20XGBoost"
   ]
  },
  {
   "cell_type": "code",
   "execution_count": 147,
   "id": "79390871",
   "metadata": {},
   "outputs": [
    {
     "name": "stdout",
     "output_type": "stream",
     "text": [
      "Fitting 5 folds for each of 729 candidates, totalling 3645 fits\n",
      "\n",
      " Time taken: 0 hours 0 minutes and 31.19 seconds.\n",
      "{'colsample_bytree': 1, 'eta': 0.01, 'learning_rate': 0.05, 'max_depth': 5, 'min_child_weight': 1, 'subsample': 0.5}\n",
      "Mean F1 Score:  0.6923809523809524\n",
      "std F1 Score:  0.1945656246949218\n"
     ]
    }
   ],
   "source": [
    "## tuned parameter_set1##\n",
    "\n",
    "start_time = timer(None)\n",
    "# Instantiate the grid search model\n",
    "grid_search = GridSearchCV(estimator = xgbc, param_grid = paramXGBoost_grid1,\n",
    "                           cv = 5, n_jobs = -1, verbose = 2,scoring='f1')\n",
    "# Fit the grid search to the data\n",
    "grid_search.fit(X_train, y_train)\n",
    "\n",
    "timer(start_time)\n",
    "print(grid_search.best_params_)\n",
    "\n",
    "\n",
    "xgbc_tuned = XGBClassifier(subsample=grid_search.best_params_['subsample'],\n",
    "                                   max_depth=grid_search.best_params_['max_depth'],\n",
    "                                   colsample_bytree=grid_search.best_params_['colsample_bytree'],\n",
    "                                   min_child_weight=grid_search.best_params_['min_child_weight'],\n",
    "                                   learning_rate=grid_search.best_params_['learning_rate'],\n",
    "                                   eta=grid_search.best_params_['eta'])\n",
    "xgbc_tuned.fit(X_train,y_train)\n",
    "\n",
    "## results F1 and stdF1 ##\n",
    "avgF1set1_CTmin_p20tunedXGBoost  = cross_val_score(xgbc_tuned, X, y, scoring=\"f1\", cv = 10).mean() ##<3## \n",
    "stdF1set1_CTmin_p20tunedXGBoost  = cross_val_score(xgbc_tuned, X, y, scoring=\"f1\", cv = 10).std() ##<3##\n",
    "print('Mean F1 Score: ', avgF1set1_CTmin_p20tunedXGBoost)\n",
    "print('std F1 Score: ', stdF1set1_CTmin_p20tunedXGBoost)"
   ]
  },
  {
   "cell_type": "code",
   "execution_count": 148,
   "id": "0432a5b1",
   "metadata": {},
   "outputs": [
    {
     "name": "stdout",
     "output_type": "stream",
     "text": [
      "Fitting 5 folds for each of 729 candidates, totalling 3645 fits\n",
      "\n",
      " Time taken: 0 hours 0 minutes and 46.96 seconds.\n",
      "{'colsample_bytree': 1, 'eta': 0.01, 'learning_rate': 0.1, 'max_depth': 7, 'min_child_weight': 1, 'subsample': 0.2}\n",
      "Mean F1 Score:  0.6866666666666666\n",
      "std F1 Score:  0.29371187695880924\n"
     ]
    }
   ],
   "source": [
    "## tuned parameter_set2##\n",
    "\n",
    "start_time = timer(None)\n",
    "# Instantiate the grid search model\n",
    "grid_search = GridSearchCV(estimator = xgbc, param_grid = paramXGBoost_grid2,\n",
    "                           cv = 5, n_jobs = -1, verbose = 2,scoring='f1')\n",
    "# Fit the grid search to the data\n",
    "grid_search.fit(X_train, y_train)\n",
    "\n",
    "timer(start_time)\n",
    "print(grid_search.best_params_)\n",
    "\n",
    "\n",
    "xgbc_tuned = XGBClassifier(subsample=grid_search.best_params_['subsample'],\n",
    "                                   max_depth=grid_search.best_params_['max_depth'],\n",
    "                                   colsample_bytree=grid_search.best_params_['colsample_bytree'],\n",
    "                                   min_child_weight=grid_search.best_params_['min_child_weight'],\n",
    "                                   learning_rate=grid_search.best_params_['learning_rate'],\n",
    "                                   eta=grid_search.best_params_['eta'])\n",
    "xgbc_tuned.fit(X_train,y_train)\n",
    "\n",
    "## results F1 and stdF1 ##\n",
    "avgF1set2_CTmin_p20tunedXGBoost = cross_val_score(xgbc_tuned, X, y, scoring=\"f1\", cv = 10).mean() ##<3## \n",
    "stdF1set2_CTmin_p20tunedXGBoost  = cross_val_score(xgbc_tuned, X, y, scoring=\"f1\", cv = 10).std() ##<3##\n",
    "print('Mean F1 Score: ', avgF1set2_CTmin_p20tunedXGBoost)\n",
    "print('std F1 Score: ', stdF1set2_CTmin_p20tunedXGBoost)"
   ]
  },
  {
   "cell_type": "code",
   "execution_count": 149,
   "id": "1c1404ce",
   "metadata": {},
   "outputs": [
    {
     "name": "stdout",
     "output_type": "stream",
     "text": [
      "Fitting 5 folds for each of 729 candidates, totalling 3645 fits\n",
      "\n",
      " Time taken: 0 hours 0 minutes and 19.65 seconds.\n",
      "{'colsample_bytree': 0.1, 'eta': 0.01, 'learning_rate': 0.1, 'max_depth': 10, 'min_child_weight': 20, 'subsample': 0.2}\n",
      "Mean F1 Score:  0.0\n",
      "std F1 Score:  0.0\n"
     ]
    }
   ],
   "source": [
    "## tuned parameter_set3##\n",
    "\n",
    "start_time = timer(None)\n",
    "# Instantiate the grid search model\n",
    "grid_search = GridSearchCV(estimator = xgbc, param_grid = paramXGBoost_grid3,\n",
    "                           cv = 5, n_jobs = -1, verbose = 2,scoring='f1')\n",
    "# Fit the grid search to the data\n",
    "grid_search.fit(X_train, y_train)\n",
    "\n",
    "timer(start_time)\n",
    "print(grid_search.best_params_)\n",
    "\n",
    "\n",
    "xgbc_tuned = XGBClassifier(subsample=grid_search.best_params_['subsample'],\n",
    "                                   max_depth=grid_search.best_params_['max_depth'],\n",
    "                                   colsample_bytree=grid_search.best_params_['colsample_bytree'],\n",
    "                                   min_child_weight=grid_search.best_params_['min_child_weight'],\n",
    "                                   learning_rate=grid_search.best_params_['learning_rate'],\n",
    "                                   eta=grid_search.best_params_['eta'])\n",
    "xgbc_tuned.fit(X_train,y_train)\n",
    "\n",
    "## results F1 and stdF1 ##\n",
    "avgF1set3_CTmin_p20tunedXGBoost  = cross_val_score(xgbc_tuned, X, y, scoring=\"f1\", cv = 10).mean() ##<3## \n",
    "stdF1set3_CTmin_p20tunedXGBoost  = cross_val_score(xgbc_tuned, X, y, scoring=\"f1\", cv = 10).std() ##<3##\n",
    "print('Mean F1 Score: ', avgF1set3_CTmin_p20tunedXGBoost)\n",
    "print('std F1 Score: ', stdF1set3_CTmin_p20tunedXGBoost)"
   ]
  },
  {
   "cell_type": "code",
   "execution_count": 150,
   "id": "391d991d",
   "metadata": {},
   "outputs": [
    {
     "name": "stdout",
     "output_type": "stream",
     "text": [
      "Fitting 5 folds for each of 729 candidates, totalling 3645 fits\n",
      "\n",
      " Time taken: 0 hours 0 minutes and 18.65 seconds.\n",
      "{'colsample_bytree': 0.1, 'eta': 0.01, 'learning_rate': 0.1, 'max_depth': 5, 'min_child_weight': 5, 'subsample': 0.75}\n",
      "Mean F1 Score:  0.3866666666666666\n",
      "std F1 Score:  0.32903900478008175\n"
     ]
    }
   ],
   "source": [
    "## tuned parameter_set4##\n",
    "\n",
    "start_time = timer(None)\n",
    "# Instantiate the grid search model\n",
    "grid_search = GridSearchCV(estimator = xgbc, param_grid = paramXGBoost_grid4,\n",
    "                           cv = 5, n_jobs = -1, verbose = 2,scoring='f1')\n",
    "# Fit the grid search to the data\n",
    "grid_search.fit(X_train, y_train)\n",
    "\n",
    "timer(start_time)\n",
    "print(grid_search.best_params_)\n",
    "\n",
    "\n",
    "xgbc_tuned = XGBClassifier(subsample=grid_search.best_params_['subsample'],\n",
    "                                   max_depth=grid_search.best_params_['max_depth'],\n",
    "                                   colsample_bytree=grid_search.best_params_['colsample_bytree'],\n",
    "                                   min_child_weight=grid_search.best_params_['min_child_weight'],\n",
    "                                   learning_rate=grid_search.best_params_['learning_rate'],\n",
    "                                   eta=grid_search.best_params_['eta'])\n",
    "xgbc_tuned.fit(X_train,y_train)\n",
    "\n",
    "## results F1 and stdF1 ##\n",
    "avgF1set4_CTmin_p20tunedXGBoost  = cross_val_score(xgbc_tuned, X, y, scoring=\"f1\", cv = 10).mean() ##<3## \n",
    "stdF1set4_CTmin_p20tunedXGBoost = cross_val_score(xgbc_tuned, X, y, scoring=\"f1\", cv = 10).std() ##<3##\n",
    "print('Mean F1 Score: ', avgF1set4_CTmin_p20tunedXGBoost)\n",
    "print('std F1 Score: ', stdF1set4_CTmin_p20tunedXGBoost)"
   ]
  },
  {
   "cell_type": "code",
   "execution_count": null,
   "id": "f5e6eefe",
   "metadata": {},
   "outputs": [],
   "source": []
  },
  {
   "cell_type": "code",
   "execution_count": null,
   "id": "79c7464c",
   "metadata": {},
   "outputs": [],
   "source": []
  },
  {
   "cell_type": "markdown",
   "id": "9b589b6f",
   "metadata": {},
   "source": [
    "## med"
   ]
  },
  {
   "cell_type": "markdown",
   "id": "0a50bcb9",
   "metadata": {},
   "source": [
    "### threshold: logbase2(n)"
   ]
  },
  {
   "cell_type": "code",
   "execution_count": 151,
   "id": "342d66c7",
   "metadata": {},
   "outputs": [
    {
     "name": "stdout",
     "output_type": "stream",
     "text": [
      "thres_base2n (value,iloc_threshold)(10.0, 5)\n",
      "Mean F1 Score:  0.7414285714285715\n",
      "std F1 Score:  0.18856240959673054\n"
     ]
    }
   ],
   "source": [
    "# threshold: logbase2(n)\n",
    "\n",
    "f_df123_1 = pd.read_csv('f_df123_xgb.csv')\n",
    "f_df123_1 = f_df123_1.set_index('Feature')\n",
    "f_df123_1 = f_df123_1.sort_values(by=['med'])\n",
    "\n",
    "\n",
    "k =(filter_arr(f_df123_1['med'], thres_base2n-1))\n",
    "print(\"thres_base2n (value,iloc_threshold)\" + str(filter_arr(f_df123_1['med'], thres_base2n-1)))\n",
    "f_df123_1 = f_df123_1.iloc[:k[1]+1]\n",
    "\n",
    "\n",
    "df_filter = df1.filter(items=f_df123_1.index)\n",
    "X = df_filter\n",
    "y = df1['class']\n",
    "\n",
    "\n",
    "\n",
    "\n",
    "## before tuned ##\n",
    "X_train, X_test, y_train, y_test = train_test_split(X, y, test_size=0.2, random_state=123) \n",
    "xgbc = XGBClassifier(random_state=123)\n",
    "xgbc.fit(X_train,y_train)\n",
    "## results F1 and stdF1 ##\n",
    "avgF1_CTmed_base2XGBoost = cross_val_score(xgbc, X, y, scoring=\"f1\", cv = 10).mean() ##<3## \n",
    "stdF1_CTmed_base2XGBoost = cross_val_score(xgbc, X, y, scoring=\"f1\", cv = 10).std() ##<3##\n",
    "print('Mean F1 Score: ', avgF1_CTmed_base2XGBoost)\n",
    "print('std F1 Score: ', stdF1_CTmed_base2XGBoost)"
   ]
  },
  {
   "cell_type": "code",
   "execution_count": 152,
   "id": "44b89a76",
   "metadata": {},
   "outputs": [
    {
     "data": {
      "text/plain": [
       "6"
      ]
     },
     "execution_count": 152,
     "metadata": {},
     "output_type": "execute_result"
    }
   ],
   "source": [
    "n_CTmed_base2XGBoost = k[1]+1\n",
    "n_CTmed_base2XGBoost"
   ]
  },
  {
   "cell_type": "code",
   "execution_count": 153,
   "id": "8dcfc15e",
   "metadata": {},
   "outputs": [
    {
     "name": "stdout",
     "output_type": "stream",
     "text": [
      "Fitting 5 folds for each of 729 candidates, totalling 3645 fits\n",
      "\n",
      " Time taken: 0 hours 0 minutes and 12.02 seconds.\n",
      "{'colsample_bytree': 0.5, 'eta': 0.01, 'learning_rate': 0.01, 'max_depth': 5, 'min_child_weight': 1, 'subsample': 0.5}\n",
      "Mean F1 Score:  0.75\n",
      "std F1 Score:  0.30956959368344517\n"
     ]
    }
   ],
   "source": [
    "## tuned parameter_set1##\n",
    "\n",
    "start_time = timer(None)\n",
    "# Instantiate the grid search model\n",
    "grid_search = GridSearchCV(estimator = xgbc, param_grid = paramXGBoost_grid1,\n",
    "                           cv = 5, n_jobs = -1, verbose = 2,scoring='f1')\n",
    "# Fit the grid search to the data\n",
    "grid_search.fit(X_train, y_train)\n",
    "\n",
    "timer(start_time)\n",
    "print(grid_search.best_params_)\n",
    "\n",
    "\n",
    "xgbc_tuned = XGBClassifier(subsample=grid_search.best_params_['subsample'],\n",
    "                                   max_depth=grid_search.best_params_['max_depth'],\n",
    "                                   colsample_bytree=grid_search.best_params_['colsample_bytree'],\n",
    "                                   min_child_weight=grid_search.best_params_['min_child_weight'],\n",
    "                                   learning_rate=grid_search.best_params_['learning_rate'],\n",
    "                                   eta=grid_search.best_params_['eta'])\n",
    "xgbc_tuned.fit(X_train,y_train)\n",
    "\n",
    "## results F1 and stdF1 ##\n",
    "avgF1set1_CTmed_base2tunedXGBoost  = cross_val_score(xgbc_tuned, X, y, scoring=\"f1\", cv = 10).mean() ##<3## \n",
    "stdF1set1_CTmed_base2tunedXGBoost  = cross_val_score(xgbc_tuned, X, y, scoring=\"f1\", cv = 10).std() ##<3##\n",
    "print('Mean F1 Score: ', avgF1set1_CTmed_base2tunedXGBoost)\n",
    "print('std F1 Score: ', stdF1set1_CTmed_base2tunedXGBoost)"
   ]
  },
  {
   "cell_type": "code",
   "execution_count": 154,
   "id": "9de06405",
   "metadata": {},
   "outputs": [
    {
     "name": "stdout",
     "output_type": "stream",
     "text": [
      "Fitting 5 folds for each of 729 candidates, totalling 3645 fits\n",
      "\n",
      " Time taken: 0 hours 0 minutes and 14.85 seconds.\n",
      "{'colsample_bytree': 0.5, 'eta': 0.01, 'learning_rate': 0.05, 'max_depth': 7, 'min_child_weight': 0.5, 'subsample': 0.2}\n",
      "Mean F1 Score:  0.74\n",
      "std F1 Score:  0.3189566323708183\n"
     ]
    }
   ],
   "source": [
    "## tuned parameter_set2##\n",
    "\n",
    "start_time = timer(None)\n",
    "# Instantiate the grid search model\n",
    "grid_search = GridSearchCV(estimator = xgbc, param_grid = paramXGBoost_grid2,\n",
    "                           cv = 5, n_jobs = -1, verbose = 2,scoring='f1')\n",
    "# Fit the grid search to the data\n",
    "grid_search.fit(X_train, y_train)\n",
    "\n",
    "timer(start_time)\n",
    "print(grid_search.best_params_)\n",
    "\n",
    "\n",
    "xgbc_tuned = XGBClassifier(subsample=grid_search.best_params_['subsample'],\n",
    "                                   max_depth=grid_search.best_params_['max_depth'],\n",
    "                                   colsample_bytree=grid_search.best_params_['colsample_bytree'],\n",
    "                                   min_child_weight=grid_search.best_params_['min_child_weight'],\n",
    "                                   learning_rate=grid_search.best_params_['learning_rate'],\n",
    "                                   eta=grid_search.best_params_['eta'])\n",
    "xgbc_tuned.fit(X_train,y_train)\n",
    "\n",
    "## results F1 and stdF1 ##\n",
    "avgF1set2_CTmed_base2tunedXGBoost  = cross_val_score(xgbc_tuned, X, y, scoring=\"f1\", cv = 10).mean() ##<3## \n",
    "stdF1set2_CTmed_base2tunedXGBoost  = cross_val_score(xgbc_tuned, X, y, scoring=\"f1\", cv = 10).std() ##<3##\n",
    "print('Mean F1 Score: ', avgF1set2_CTmed_base2tunedXGBoost)\n",
    "print('std F1 Score: ', stdF1set2_CTmed_base2tunedXGBoost)"
   ]
  },
  {
   "cell_type": "code",
   "execution_count": 155,
   "id": "a29c105f",
   "metadata": {},
   "outputs": [
    {
     "name": "stdout",
     "output_type": "stream",
     "text": [
      "Fitting 5 folds for each of 729 candidates, totalling 3645 fits\n",
      "\n",
      " Time taken: 0 hours 0 minutes and 14.69 seconds.\n",
      "{'colsample_bytree': 0.1, 'eta': 0.01, 'learning_rate': 0.1, 'max_depth': 10, 'min_child_weight': 20, 'subsample': 0.2}\n",
      "Mean F1 Score:  0.0\n",
      "std F1 Score:  0.0\n"
     ]
    }
   ],
   "source": [
    "## tuned parameter_set3##\n",
    "\n",
    "start_time = timer(None)\n",
    "# Instantiate the grid search model\n",
    "grid_search = GridSearchCV(estimator = xgbc, param_grid = paramXGBoost_grid3,\n",
    "                           cv = 5, n_jobs = -1, verbose = 2,scoring='f1')\n",
    "# Fit the grid search to the data\n",
    "grid_search.fit(X_train, y_train)\n",
    "\n",
    "timer(start_time)\n",
    "print(grid_search.best_params_)\n",
    "\n",
    "\n",
    "xgbc_tuned = XGBClassifier(subsample=grid_search.best_params_['subsample'],\n",
    "                                   max_depth=grid_search.best_params_['max_depth'],\n",
    "                                   colsample_bytree=grid_search.best_params_['colsample_bytree'],\n",
    "                                   min_child_weight=grid_search.best_params_['min_child_weight'],\n",
    "                                   learning_rate=grid_search.best_params_['learning_rate'],\n",
    "                                   eta=grid_search.best_params_['eta'])\n",
    "xgbc_tuned.fit(X_train,y_train)\n",
    "\n",
    "## results F1 and stdF1 ##\n",
    "avgF1set3_CTmed_base2tunedXGBoost  = cross_val_score(xgbc_tuned, X, y, scoring=\"f1\", cv = 10).mean() ##<3## \n",
    "stdF1set3_CTmed_base2tunedXGBoost  = cross_val_score(xgbc_tuned, X, y, scoring=\"f1\", cv = 10).std() ##<3##\n",
    "print('Mean F1 Score: ', avgF1set3_CTmed_base2tunedXGBoost)\n",
    "print('std F1 Score: ', stdF1set3_CTmed_base2tunedXGBoost)"
   ]
  },
  {
   "cell_type": "code",
   "execution_count": 156,
   "id": "4d180101",
   "metadata": {},
   "outputs": [
    {
     "name": "stdout",
     "output_type": "stream",
     "text": [
      "Fitting 5 folds for each of 729 candidates, totalling 3645 fits\n",
      "\n",
      " Time taken: 0 hours 0 minutes and 14.86 seconds.\n",
      "{'colsample_bytree': 0.1, 'eta': 0.01, 'learning_rate': 0.1, 'max_depth': 5, 'min_child_weight': 5, 'subsample': 0.75}\n",
      "Mean F1 Score:  0.6166666666666667\n",
      "std F1 Score:  0.35000000000000003\n"
     ]
    }
   ],
   "source": [
    "## tuned parameter_set4##\n",
    "\n",
    "start_time = timer(None)\n",
    "# Instantiate the grid search model\n",
    "grid_search = GridSearchCV(estimator = xgbc, param_grid = paramXGBoost_grid4,\n",
    "                           cv = 5, n_jobs = -1, verbose = 2,scoring='f1')\n",
    "# Fit the grid search to the data\n",
    "grid_search.fit(X_train, y_train)\n",
    "\n",
    "timer(start_time)\n",
    "print(grid_search.best_params_)\n",
    "\n",
    "\n",
    "xgbc_tuned = XGBClassifier(subsample=grid_search.best_params_['subsample'],\n",
    "                                   max_depth=grid_search.best_params_['max_depth'],\n",
    "                                   colsample_bytree=grid_search.best_params_['colsample_bytree'],\n",
    "                                   min_child_weight=grid_search.best_params_['min_child_weight'],\n",
    "                                   learning_rate=grid_search.best_params_['learning_rate'],\n",
    "                                   eta=grid_search.best_params_['eta'])\n",
    "xgbc_tuned.fit(X_train,y_train)\n",
    "\n",
    "## results F1 and stdF1 ##\n",
    "avgF1set4_CTmed_base2tunedXGBoost  = cross_val_score(xgbc_tuned, X, y, scoring=\"f1\", cv = 10).mean() ##<3## \n",
    "stdF1set4_CTmed_base2tunedXGBoost  = cross_val_score(xgbc_tuned, X, y, scoring=\"f1\", cv = 10).std() ##<3##\n",
    "print('Mean F1 Score: ', avgF1set4_CTmed_base2tunedXGBoost)\n",
    "print('std F1 Score: ', stdF1set4_CTmed_base2tunedXGBoost)"
   ]
  },
  {
   "cell_type": "markdown",
   "id": "8535dfa6",
   "metadata": {},
   "source": [
    "### threshold: 2.5%"
   ]
  },
  {
   "cell_type": "code",
   "execution_count": 157,
   "id": "bf4b68bf",
   "metadata": {},
   "outputs": [
    {
     "name": "stdout",
     "output_type": "stream",
     "text": [
      "thres_p2_5 (value,iloc_threshold)(53.0, 48)\n",
      "Mean F1 Score:  0.6257142857142857\n",
      "std F1 Score:  0.3623318282203436\n"
     ]
    }
   ],
   "source": [
    "# threshold: 2.5%\n",
    "\n",
    "f_df123_1 = pd.read_csv('f_df123_xgb.csv')\n",
    "f_df123_1 = f_df123_1.set_index('Feature')\n",
    "f_df123_1 = f_df123_1.sort_values(by=['med'])\n",
    "\n",
    "\n",
    "k =(filter_arr(f_df123_1['med'], thres_p2_5-1))\n",
    "print(\"thres_p2_5 (value,iloc_threshold)\" + str(filter_arr(f_df123_1['med'], thres_p2_5-1)))\n",
    "f_df123_1 = f_df123_1.iloc[:k[1]+1]\n",
    "\n",
    "\n",
    "df_filter = df1.filter(items=f_df123_1.index)\n",
    "X = df_filter\n",
    "y = df1['class']\n",
    "\n",
    "\n",
    "\n",
    "\n",
    "## before tuned ##\n",
    "X_train, X_test, y_train, y_test = train_test_split(X, y, test_size=0.2, random_state=123) \n",
    "xgbc = XGBClassifier(random_state=123)\n",
    "xgbc.fit(X_train,y_train)\n",
    "## results F1 and stdF1 ##\n",
    "avgF1_CTmed_p2_5XGBoost = cross_val_score(xgbc, X, y, scoring=\"f1\", cv = 10).mean() ##<3## \n",
    "stdF1_CTmed_p2_5XGBoost = cross_val_score(xgbc, X, y, scoring=\"f1\", cv = 10).std() ##<3##\n",
    "print('Mean F1 Score: ', avgF1_CTmed_p2_5XGBoost)\n",
    "print('std F1 Score: ', stdF1_CTmed_p2_5XGBoost)"
   ]
  },
  {
   "cell_type": "code",
   "execution_count": 158,
   "id": "f1eeef9c",
   "metadata": {},
   "outputs": [
    {
     "data": {
      "text/plain": [
       "49"
      ]
     },
     "execution_count": 158,
     "metadata": {},
     "output_type": "execute_result"
    }
   ],
   "source": [
    "n_CTmed_p2_5XGBoost = k[1]+1\n",
    "n_CTmed_p2_5XGBoost"
   ]
  },
  {
   "cell_type": "code",
   "execution_count": 159,
   "id": "130645cb",
   "metadata": {},
   "outputs": [
    {
     "name": "stdout",
     "output_type": "stream",
     "text": [
      "Fitting 5 folds for each of 729 candidates, totalling 3645 fits\n",
      "\n",
      " Time taken: 0 hours 0 minutes and 13.53 seconds.\n",
      "{'colsample_bytree': 0.5, 'eta': 0.01, 'learning_rate': 0.1, 'max_depth': 5, 'min_child_weight': 1, 'subsample': 0.5}\n",
      "Mean F1 Score:  0.79\n",
      "std F1 Score:  0.2241279396535232\n"
     ]
    }
   ],
   "source": [
    "## tuned parameter_set1##\n",
    "\n",
    "start_time = timer(None)\n",
    "# Instantiate the grid search model\n",
    "grid_search = GridSearchCV(estimator = xgbc, param_grid = paramXGBoost_grid1,\n",
    "                           cv = 5, n_jobs = -1, verbose = 2,scoring='f1')\n",
    "# Fit the grid search to the data\n",
    "grid_search.fit(X_train, y_train)\n",
    "\n",
    "timer(start_time)\n",
    "print(grid_search.best_params_)\n",
    "\n",
    "\n",
    "xgbc_tuned = XGBClassifier(subsample=grid_search.best_params_['subsample'],\n",
    "                                   max_depth=grid_search.best_params_['max_depth'],\n",
    "                                   colsample_bytree=grid_search.best_params_['colsample_bytree'],\n",
    "                                   min_child_weight=grid_search.best_params_['min_child_weight'],\n",
    "                                   learning_rate=grid_search.best_params_['learning_rate'],\n",
    "                                   eta=grid_search.best_params_['eta'])\n",
    "xgbc_tuned.fit(X_train,y_train)\n",
    "\n",
    "## results F1 and stdF1 ##\n",
    "avgF1set1_CTmed_p2_5tunedXGBoost  = cross_val_score(xgbc_tuned, X, y, scoring=\"f1\", cv = 10).mean() ##<3## \n",
    "stdF1set1_CTmed_p2_5tunedXGBoost  = cross_val_score(xgbc_tuned, X, y, scoring=\"f1\", cv = 10).std() ##<3##\n",
    "print('Mean F1 Score: ', avgF1set1_CTmed_p2_5tunedXGBoost)\n",
    "print('std F1 Score: ', stdF1set1_CTmed_p2_5tunedXGBoost)"
   ]
  },
  {
   "cell_type": "code",
   "execution_count": 160,
   "id": "2247ea25",
   "metadata": {},
   "outputs": [
    {
     "name": "stdout",
     "output_type": "stream",
     "text": [
      "Fitting 5 folds for each of 729 candidates, totalling 3645 fits\n",
      "\n",
      " Time taken: 0 hours 0 minutes and 16.97 seconds.\n",
      "{'colsample_bytree': 0.5, 'eta': 0.01, 'learning_rate': 0.1, 'max_depth': 7, 'min_child_weight': 0.5, 'subsample': 0.2}\n",
      "Mean F1 Score:  0.7733333333333333\n",
      "std F1 Score:  0.326870684590167\n"
     ]
    }
   ],
   "source": [
    "## tuned parameter_set2##\n",
    "\n",
    "start_time = timer(None)\n",
    "# Instantiate the grid search model\n",
    "grid_search = GridSearchCV(estimator = xgbc, param_grid = paramXGBoost_grid2,\n",
    "                           cv = 5, n_jobs = -1, verbose = 2,scoring='f1')\n",
    "# Fit the grid search to the data\n",
    "grid_search.fit(X_train, y_train)\n",
    "\n",
    "timer(start_time)\n",
    "print(grid_search.best_params_)\n",
    "\n",
    "\n",
    "xgbc_tuned = XGBClassifier(subsample=grid_search.best_params_['subsample'],\n",
    "                                   max_depth=grid_search.best_params_['max_depth'],\n",
    "                                   colsample_bytree=grid_search.best_params_['colsample_bytree'],\n",
    "                                   min_child_weight=grid_search.best_params_['min_child_weight'],\n",
    "                                   learning_rate=grid_search.best_params_['learning_rate'],\n",
    "                                   eta=grid_search.best_params_['eta'])\n",
    "xgbc_tuned.fit(X_train,y_train)\n",
    "\n",
    "## results F1 and stdF1 ##\n",
    "avgF1set2_CTmed_p2_5tunedXGBoost  = cross_val_score(xgbc_tuned, X, y, scoring=\"f1\", cv = 10).mean() ##<3## \n",
    "stdF1set2_CTmed_p2_5tunedXGBoost  = cross_val_score(xgbc_tuned, X, y, scoring=\"f1\", cv = 10).std() ##<3##\n",
    "print('Mean F1 Score: ', avgF1set2_CTmed_p2_5tunedXGBoost)\n",
    "print('std F1 Score: ', stdF1set2_CTmed_p2_5tunedXGBoost)"
   ]
  },
  {
   "cell_type": "code",
   "execution_count": 161,
   "id": "864ad397",
   "metadata": {},
   "outputs": [
    {
     "name": "stdout",
     "output_type": "stream",
     "text": [
      "Fitting 5 folds for each of 729 candidates, totalling 3645 fits\n",
      "\n",
      " Time taken: 0 hours 0 minutes and 11.27 seconds.\n",
      "{'colsample_bytree': 0.1, 'eta': 0.01, 'learning_rate': 0.1, 'max_depth': 10, 'min_child_weight': 20, 'subsample': 0.2}\n",
      "Mean F1 Score:  0.0\n",
      "std F1 Score:  0.0\n"
     ]
    }
   ],
   "source": [
    "## tuned parameter_set3##\n",
    "\n",
    "start_time = timer(None)\n",
    "# Instantiate the grid search model\n",
    "grid_search = GridSearchCV(estimator = xgbc, param_grid = paramXGBoost_grid3,\n",
    "                           cv = 5, n_jobs = -1, verbose = 2,scoring='f1')\n",
    "# Fit the grid search to the data\n",
    "grid_search.fit(X_train, y_train)\n",
    "\n",
    "timer(start_time)\n",
    "print(grid_search.best_params_)\n",
    "\n",
    "\n",
    "xgbc_tuned = XGBClassifier(subsample=grid_search.best_params_['subsample'],\n",
    "                                   max_depth=grid_search.best_params_['max_depth'],\n",
    "                                   colsample_bytree=grid_search.best_params_['colsample_bytree'],\n",
    "                                   min_child_weight=grid_search.best_params_['min_child_weight'],\n",
    "                                   learning_rate=grid_search.best_params_['learning_rate'],\n",
    "                                   eta=grid_search.best_params_['eta'])\n",
    "xgbc_tuned.fit(X_train,y_train)\n",
    "\n",
    "## results F1 and stdF1 ##\n",
    "avgF1set3_CTmed_p2_5tunedXGBoost  = cross_val_score(xgbc_tuned, X, y, scoring=\"f1\", cv = 10).mean() ##<3## \n",
    "stdF1set3_CTmed_p2_5tunedXGBoost  = cross_val_score(xgbc_tuned, X, y, scoring=\"f1\", cv = 10).std() ##<3##\n",
    "print('Mean F1 Score: ', avgF1set3_CTmed_p2_5tunedXGBoost)\n",
    "print('std F1 Score: ', stdF1set3_CTmed_p2_5tunedXGBoost)"
   ]
  },
  {
   "cell_type": "code",
   "execution_count": 162,
   "id": "dadd8f62",
   "metadata": {},
   "outputs": [
    {
     "name": "stdout",
     "output_type": "stream",
     "text": [
      "Fitting 5 folds for each of 729 candidates, totalling 3645 fits\n",
      "\n",
      " Time taken: 0 hours 0 minutes and 13.05 seconds.\n",
      "{'colsample_bytree': 0.1, 'eta': 0.01, 'learning_rate': 0.1, 'max_depth': 5, 'min_child_weight': 5, 'subsample': 0.75}\n",
      "Mean F1 Score:  0.2333333333333333\n",
      "std F1 Score:  0.29059326290271154\n"
     ]
    }
   ],
   "source": [
    "## tuned parameter_set4##\n",
    "\n",
    "start_time = timer(None)\n",
    "# Instantiate the grid search model\n",
    "grid_search = GridSearchCV(estimator = xgbc, param_grid = paramXGBoost_grid4,\n",
    "                           cv = 5, n_jobs = -1, verbose = 2,scoring='f1')\n",
    "# Fit the grid search to the data\n",
    "grid_search.fit(X_train, y_train)\n",
    "\n",
    "timer(start_time)\n",
    "print(grid_search.best_params_)\n",
    "\n",
    "\n",
    "xgbc_tuned = XGBClassifier(subsample=grid_search.best_params_['subsample'],\n",
    "                                   max_depth=grid_search.best_params_['max_depth'],\n",
    "                                   colsample_bytree=grid_search.best_params_['colsample_bytree'],\n",
    "                                   min_child_weight=grid_search.best_params_['min_child_weight'],\n",
    "                                   learning_rate=grid_search.best_params_['learning_rate'],\n",
    "                                   eta=grid_search.best_params_['eta'])\n",
    "xgbc_tuned.fit(X_train,y_train)\n",
    "\n",
    "## results F1 and stdF1 ##\n",
    "avgF1set4_CTmed_p2_5tunedXGBoost  = cross_val_score(xgbc_tuned, X, y, scoring=\"f1\", cv = 10).mean() ##<3## \n",
    "stdF1set4_CTmed_p2_5tunedXGBoost  = cross_val_score(xgbc_tuned, X, y, scoring=\"f1\", cv = 10).std() ##<3##\n",
    "print('Mean F1 Score: ', avgF1set4_CTmed_p2_5tunedXGBoost)\n",
    "print('std F1 Score: ', stdF1set4_CTmed_p2_5tunedXGBoost)"
   ]
  },
  {
   "cell_type": "raw",
   "id": "7cc15fd1",
   "metadata": {},
   "source": []
  },
  {
   "cell_type": "code",
   "execution_count": null,
   "id": "ab7a6df1",
   "metadata": {},
   "outputs": [],
   "source": []
  },
  {
   "cell_type": "code",
   "execution_count": null,
   "id": "1811f9d2",
   "metadata": {},
   "outputs": [],
   "source": []
  },
  {
   "cell_type": "code",
   "execution_count": null,
   "id": "83d56f93",
   "metadata": {},
   "outputs": [],
   "source": []
  },
  {
   "cell_type": "markdown",
   "id": "a3c2bbff",
   "metadata": {},
   "source": [
    "### threshold: 5%"
   ]
  },
  {
   "cell_type": "code",
   "execution_count": 163,
   "id": "49af1882",
   "metadata": {},
   "outputs": [
    {
     "name": "stdout",
     "output_type": "stream",
     "text": [
      "thres_p5 (value,iloc_threshold)(101.0, 99)\n",
      "Mean F1 Score:  0.6923809523809524\n",
      "std F1 Score:  0.2964047609484793\n"
     ]
    }
   ],
   "source": [
    "# threshold: 5%\n",
    "\n",
    "f_df123_1 = pd.read_csv('f_df123_xgb.csv')\n",
    "f_df123_1 = f_df123_1.set_index('Feature')\n",
    "f_df123_1 = f_df123_1.sort_values(by=['med'])\n",
    "\n",
    "\n",
    "k =(filter_arr(f_df123_1['med'], thres_p5-1))\n",
    "print(\"thres_p5 (value,iloc_threshold)\" + str(filter_arr(f_df123_1['med'], thres_p5-1)))\n",
    "f_df123_1 = f_df123_1.iloc[:k[1]+1]\n",
    "\n",
    "\n",
    "df_filter = df1.filter(items=f_df123_1.index)\n",
    "X = df_filter\n",
    "y = df1['class']\n",
    "\n",
    "\n",
    "\n",
    "\n",
    "## before tuned ##\n",
    "X_train, X_test, y_train, y_test = train_test_split(X, y, test_size=0.2, random_state=123) \n",
    "xgbc = XGBClassifier(random_state=123)\n",
    "xgbc.fit(X_train,y_train)\n",
    "## results F1 and stdF1 ##\n",
    "avgF1_CTmed_p5XGBoost = cross_val_score(xgbc, X, y, scoring=\"f1\", cv = 10).mean() ##<3## \n",
    "stdF1_CTmed_p5XGBoost = cross_val_score(xgbc, X, y, scoring=\"f1\", cv = 10).std() ##<3##\n",
    "print('Mean F1 Score: ', avgF1_CTmed_p5XGBoost)\n",
    "print('std F1 Score: ', stdF1_CTmed_p5XGBoost)"
   ]
  },
  {
   "cell_type": "code",
   "execution_count": 164,
   "id": "a38d50bc",
   "metadata": {},
   "outputs": [
    {
     "data": {
      "text/plain": [
       "100"
      ]
     },
     "execution_count": 164,
     "metadata": {},
     "output_type": "execute_result"
    }
   ],
   "source": [
    "n_CTmed_p5XGBoost  = k[1]+1\n",
    "n_CTmed_p5XGBoost "
   ]
  },
  {
   "cell_type": "code",
   "execution_count": 165,
   "id": "2682ac79",
   "metadata": {},
   "outputs": [
    {
     "name": "stdout",
     "output_type": "stream",
     "text": [
      "Fitting 5 folds for each of 729 candidates, totalling 3645 fits\n",
      "\n",
      " Time taken: 0 hours 0 minutes and 14.49 seconds.\n",
      "{'colsample_bytree': 0.5, 'eta': 0.01, 'learning_rate': 0.1, 'max_depth': 5, 'min_child_weight': 1, 'subsample': 0.5}\n",
      "Mean F1 Score:  0.6957142857142856\n",
      "std F1 Score:  0.2752895816072533\n"
     ]
    }
   ],
   "source": [
    "## tuned parameter_set1##\n",
    "\n",
    "start_time = timer(None)\n",
    "# Instantiate the grid search model\n",
    "grid_search = GridSearchCV(estimator = xgbc, param_grid = paramXGBoost_grid1,\n",
    "                           cv = 5, n_jobs = -1, verbose = 2,scoring='f1')\n",
    "# Fit the grid search to the data\n",
    "grid_search.fit(X_train, y_train)\n",
    "\n",
    "timer(start_time)\n",
    "print(grid_search.best_params_)\n",
    "\n",
    "\n",
    "xgbc_tuned = XGBClassifier(subsample=grid_search.best_params_['subsample'],\n",
    "                                   max_depth=grid_search.best_params_['max_depth'],\n",
    "                                   colsample_bytree=grid_search.best_params_['colsample_bytree'],\n",
    "                                   min_child_weight=grid_search.best_params_['min_child_weight'],\n",
    "                                   learning_rate=grid_search.best_params_['learning_rate'],\n",
    "                                   eta=grid_search.best_params_['eta'])\n",
    "xgbc_tuned.fit(X_train,y_train)\n",
    "\n",
    "## results F1 and stdF1 ##\n",
    "avgF1set1_CTmed_p5tunedXGBoost  = cross_val_score(xgbc_tuned, X, y, scoring=\"f1\", cv = 10).mean() ##<3## \n",
    "stdF1set1_CTmed_p5tunedXGBoost  = cross_val_score(xgbc_tuned, X, y, scoring=\"f1\", cv = 10).std() ##<3##\n",
    "print('Mean F1 Score: ', avgF1set1_CTmed_p5tunedXGBoost)\n",
    "print('std F1 Score: ', stdF1set1_CTmed_p5tunedXGBoost)"
   ]
  },
  {
   "cell_type": "code",
   "execution_count": 166,
   "id": "e2ee2b91",
   "metadata": {},
   "outputs": [
    {
     "name": "stdout",
     "output_type": "stream",
     "text": [
      "Fitting 5 folds for each of 729 candidates, totalling 3645 fits\n",
      "\n",
      " Time taken: 0 hours 0 minutes and 19.02 seconds.\n",
      "{'colsample_bytree': 0.5, 'eta': 0.01, 'learning_rate': 0.1, 'max_depth': 7, 'min_child_weight': 0.5, 'subsample': 0.2}\n",
      "Mean F1 Score:  0.8200000000000001\n",
      "std F1 Score:  0.20231987873991358\n"
     ]
    }
   ],
   "source": [
    "## tuned parameter_set2##\n",
    "\n",
    "start_time = timer(None)\n",
    "# Instantiate the grid search model\n",
    "grid_search = GridSearchCV(estimator = xgbc, param_grid = paramXGBoost_grid2,\n",
    "                           cv = 5, n_jobs = -1, verbose = 2,scoring='f1')\n",
    "# Fit the grid search to the data\n",
    "grid_search.fit(X_train, y_train)\n",
    "\n",
    "timer(start_time)\n",
    "print(grid_search.best_params_)\n",
    "\n",
    "\n",
    "xgbc_tuned = XGBClassifier(subsample=grid_search.best_params_['subsample'],\n",
    "                                   max_depth=grid_search.best_params_['max_depth'],\n",
    "                                   colsample_bytree=grid_search.best_params_['colsample_bytree'],\n",
    "                                   min_child_weight=grid_search.best_params_['min_child_weight'],\n",
    "                                   learning_rate=grid_search.best_params_['learning_rate'],\n",
    "                                   eta=grid_search.best_params_['eta'])\n",
    "xgbc_tuned.fit(X_train,y_train)\n",
    "\n",
    "## results F1 and stdF1 ##\n",
    "avgF1set2_CTmed_p5tunedXGBoost  = cross_val_score(xgbc_tuned, X, y, scoring=\"f1\", cv = 10).mean() ##<3## \n",
    "stdF1set2_CTmed_p5tunedXGBoost  = cross_val_score(xgbc_tuned, X, y, scoring=\"f1\", cv = 10).std() ##<3##\n",
    "print('Mean F1 Score: ', avgF1set2_CTmed_p5tunedXGBoost)\n",
    "print('std F1 Score: ', stdF1set2_CTmed_p5tunedXGBoost)"
   ]
  },
  {
   "cell_type": "code",
   "execution_count": 167,
   "id": "5d1bf4f9",
   "metadata": {},
   "outputs": [
    {
     "name": "stdout",
     "output_type": "stream",
     "text": [
      "Fitting 5 folds for each of 729 candidates, totalling 3645 fits\n",
      "\n",
      " Time taken: 0 hours 0 minutes and 14.18 seconds.\n",
      "{'colsample_bytree': 0.1, 'eta': 0.01, 'learning_rate': 0.1, 'max_depth': 10, 'min_child_weight': 20, 'subsample': 0.2}\n",
      "Mean F1 Score:  0.0\n",
      "std F1 Score:  0.0\n"
     ]
    }
   ],
   "source": [
    "## tuned parameter_set3##\n",
    "\n",
    "start_time = timer(None)\n",
    "# Instantiate the grid search model\n",
    "grid_search = GridSearchCV(estimator = xgbc, param_grid = paramXGBoost_grid3,\n",
    "                           cv = 5, n_jobs = -1, verbose = 2,scoring='f1')\n",
    "# Fit the grid search to the data\n",
    "grid_search.fit(X_train, y_train)\n",
    "\n",
    "timer(start_time)\n",
    "print(grid_search.best_params_)\n",
    "\n",
    "\n",
    "xgbc_tuned = XGBClassifier(subsample=grid_search.best_params_['subsample'],\n",
    "                                   max_depth=grid_search.best_params_['max_depth'],\n",
    "                                   colsample_bytree=grid_search.best_params_['colsample_bytree'],\n",
    "                                   min_child_weight=grid_search.best_params_['min_child_weight'],\n",
    "                                   learning_rate=grid_search.best_params_['learning_rate'],\n",
    "                                   eta=grid_search.best_params_['eta'])\n",
    "xgbc_tuned.fit(X_train,y_train)\n",
    "\n",
    "## results F1 and stdF1 ##\n",
    "avgF1set3_CTmed_p5tunedXGBoost  = cross_val_score(xgbc_tuned, X, y, scoring=\"f1\", cv = 10).mean() ##<3## \n",
    "stdF1set3_CTmed_p5tunedXGBoost  = cross_val_score(xgbc_tuned, X, y, scoring=\"f1\", cv = 10).std() ##<3##\n",
    "print('Mean F1 Score: ', avgF1set3_CTmed_p5tunedXGBoost)\n",
    "print('std F1 Score: ', stdF1set3_CTmed_p5tunedXGBoost)"
   ]
  },
  {
   "cell_type": "code",
   "execution_count": 168,
   "id": "69547c1e",
   "metadata": {},
   "outputs": [
    {
     "name": "stdout",
     "output_type": "stream",
     "text": [
      "Fitting 5 folds for each of 729 candidates, totalling 3645 fits\n",
      "\n",
      " Time taken: 0 hours 0 minutes and 14.29 seconds.\n",
      "{'colsample_bytree': 0.1, 'eta': 0.01, 'learning_rate': 0.1, 'max_depth': 5, 'min_child_weight': 5, 'subsample': 0.75}\n",
      "Mean F1 Score:  0.36\n",
      "std F1 Score:  0.3629508690350986\n"
     ]
    }
   ],
   "source": [
    "## tuned parameter_set4##\n",
    "\n",
    "start_time = timer(None)\n",
    "# Instantiate the grid search model\n",
    "grid_search = GridSearchCV(estimator = xgbc, param_grid = paramXGBoost_grid4,\n",
    "                           cv = 5, n_jobs = -1, verbose = 2,scoring='f1')\n",
    "# Fit the grid search to the data\n",
    "grid_search.fit(X_train, y_train)\n",
    "\n",
    "timer(start_time)\n",
    "print(grid_search.best_params_)\n",
    "\n",
    "\n",
    "xgbc_tuned = XGBClassifier(subsample=grid_search.best_params_['subsample'],\n",
    "                                   max_depth=grid_search.best_params_['max_depth'],\n",
    "                                   colsample_bytree=grid_search.best_params_['colsample_bytree'],\n",
    "                                   min_child_weight=grid_search.best_params_['min_child_weight'],\n",
    "                                   learning_rate=grid_search.best_params_['learning_rate'],\n",
    "                                   eta=grid_search.best_params_['eta'])\n",
    "xgbc_tuned.fit(X_train,y_train)\n",
    "\n",
    "## results F1 and stdF1 ##\n",
    "avgF1set4_CTmed_p5tunedXGBoost  = cross_val_score(xgbc_tuned, X, y, scoring=\"f1\", cv = 10).mean() ##<3## \n",
    "stdF1set4_CTmed_p5tunedXGBoost  = cross_val_score(xgbc_tuned, X, y, scoring=\"f1\", cv = 10).std() ##<3##\n",
    "print('Mean F1 Score: ', avgF1set4_CTmed_p5tunedXGBoost)\n",
    "print('std F1 Score: ', stdF1set4_CTmed_p5tunedXGBoost)"
   ]
  },
  {
   "cell_type": "code",
   "execution_count": null,
   "id": "f02bbf78",
   "metadata": {},
   "outputs": [],
   "source": []
  },
  {
   "cell_type": "code",
   "execution_count": null,
   "id": "185dea61",
   "metadata": {},
   "outputs": [],
   "source": []
  },
  {
   "cell_type": "code",
   "execution_count": null,
   "id": "4d6856d0",
   "metadata": {},
   "outputs": [],
   "source": []
  },
  {
   "cell_type": "markdown",
   "id": "4689bf90",
   "metadata": {},
   "source": [
    "### threshold: 10%"
   ]
  },
  {
   "cell_type": "code",
   "execution_count": 169,
   "id": "8a5820f5",
   "metadata": {},
   "outputs": [
    {
     "name": "stdout",
     "output_type": "stream",
     "text": [
      "thres_p10 (value,iloc_threshold)(200.0, 199)\n",
      "Mean F1 Score:  0.6923809523809524\n",
      "std F1 Score:  0.2964047609484793\n"
     ]
    }
   ],
   "source": [
    "# threshold: 10%\n",
    "\n",
    "f_df123_1 = pd.read_csv('f_df123_xgb.csv')\n",
    "f_df123_1 = f_df123_1.set_index('Feature')\n",
    "f_df123_1 = f_df123_1.sort_values(by=['med'])\n",
    "\n",
    "\n",
    "k =(filter_arr(f_df123_1['med'], thres_p10-1))\n",
    "print(\"thres_p10 (value,iloc_threshold)\" + str(filter_arr(f_df123_1['med'], thres_p10-1)))\n",
    "f_df123_1 = f_df123_1.iloc[:k[1]+1]\n",
    "\n",
    "\n",
    "df_filter = df1.filter(items=f_df123_1.index)\n",
    "X = df_filter\n",
    "y = df1['class']\n",
    "\n",
    "\n",
    "\n",
    "\n",
    "## before tuned ##\n",
    "X_train, X_test, y_train, y_test = train_test_split(X, y, test_size=0.2, random_state=123) \n",
    "xgbc = XGBClassifier(random_state=123)\n",
    "xgbc.fit(X_train,y_train)\n",
    "## results F1 and stdF1 ##\n",
    "avgF1_CTmed_p10XGBoost = cross_val_score(xgbc, X, y, scoring=\"f1\", cv = 10).mean() ##<3## \n",
    "stdF1_CTmed_p10XGBoost = cross_val_score(xgbc, X, y, scoring=\"f1\", cv = 10).std() ##<3##\n",
    "print('Mean F1 Score: ', avgF1_CTmed_p10XGBoost)\n",
    "print('std F1 Score: ', stdF1_CTmed_p10XGBoost)"
   ]
  },
  {
   "cell_type": "code",
   "execution_count": 170,
   "id": "5a95e982",
   "metadata": {},
   "outputs": [
    {
     "data": {
      "text/plain": [
       "200"
      ]
     },
     "execution_count": 170,
     "metadata": {},
     "output_type": "execute_result"
    }
   ],
   "source": [
    "n_CTmed_p10XGBoost  = k[1]+1\n",
    "n_CTmed_p10XGBoost"
   ]
  },
  {
   "cell_type": "code",
   "execution_count": 171,
   "id": "928ae67a",
   "metadata": {},
   "outputs": [
    {
     "name": "stdout",
     "output_type": "stream",
     "text": [
      "Fitting 5 folds for each of 729 candidates, totalling 3645 fits\n",
      "\n",
      " Time taken: 0 hours 0 minutes and 22.03 seconds.\n",
      "{'colsample_bytree': 0.5, 'eta': 0.01, 'learning_rate': 0.05, 'max_depth': 5, 'min_child_weight': 1, 'subsample': 0.5}\n",
      "Mean F1 Score:  0.7423809523809524\n",
      "std F1 Score:  0.20277496658816127\n"
     ]
    }
   ],
   "source": [
    "## tuned parameter_set1##\n",
    "\n",
    "start_time = timer(None)\n",
    "# Instantiate the grid search model\n",
    "grid_search = GridSearchCV(estimator = xgbc, param_grid = paramXGBoost_grid1,\n",
    "                           cv = 5, n_jobs = -1, verbose = 2,scoring='f1')\n",
    "# Fit the grid search to the data\n",
    "grid_search.fit(X_train, y_train)\n",
    "\n",
    "timer(start_time)\n",
    "print(grid_search.best_params_)\n",
    "\n",
    "\n",
    "xgbc_tuned = XGBClassifier(subsample=grid_search.best_params_['subsample'],\n",
    "                                   max_depth=grid_search.best_params_['max_depth'],\n",
    "                                   colsample_bytree=grid_search.best_params_['colsample_bytree'],\n",
    "                                   min_child_weight=grid_search.best_params_['min_child_weight'],\n",
    "                                   learning_rate=grid_search.best_params_['learning_rate'],\n",
    "                                   eta=grid_search.best_params_['eta'])\n",
    "xgbc_tuned.fit(X_train,y_train)\n",
    "\n",
    "## results F1 and stdF1 ##\n",
    "avgF1set1_CTmed_p10tunedXGBoost  = cross_val_score(xgbc_tuned, X, y, scoring=\"f1\", cv = 10).mean() ##<3## \n",
    "stdF1set1_CTmed_p10tunedXGBoost  = cross_val_score(xgbc_tuned, X, y, scoring=\"f1\", cv = 10).std() ##<3##\n",
    "print('Mean F1 Score: ', avgF1set1_CTmed_p10tunedXGBoost)\n",
    "print('std F1 Score: ', stdF1set1_CTmed_p10tunedXGBoost)"
   ]
  },
  {
   "cell_type": "code",
   "execution_count": 172,
   "id": "f489c8e5",
   "metadata": {},
   "outputs": [
    {
     "name": "stdout",
     "output_type": "stream",
     "text": [
      "Fitting 5 folds for each of 729 candidates, totalling 3645 fits\n",
      "\n",
      " Time taken: 0 hours 0 minutes and 28.65 seconds.\n",
      "{'colsample_bytree': 0.5, 'eta': 0.01, 'learning_rate': 0.1, 'max_depth': 7, 'min_child_weight': 0.5, 'subsample': 0.2}\n",
      "Mean F1 Score:  0.7723809523809524\n",
      "std F1 Score:  0.18621178784376888\n"
     ]
    }
   ],
   "source": [
    "## tuned parameter_set2##\n",
    "\n",
    "start_time = timer(None)\n",
    "# Instantiate the grid search model\n",
    "grid_search = GridSearchCV(estimator = xgbc, param_grid = paramXGBoost_grid2,\n",
    "                           cv = 5, n_jobs = -1, verbose = 2,scoring='f1')\n",
    "# Fit the grid search to the data\n",
    "grid_search.fit(X_train, y_train)\n",
    "\n",
    "timer(start_time)\n",
    "print(grid_search.best_params_)\n",
    "\n",
    "\n",
    "xgbc_tuned = XGBClassifier(subsample=grid_search.best_params_['subsample'],\n",
    "                                   max_depth=grid_search.best_params_['max_depth'],\n",
    "                                   colsample_bytree=grid_search.best_params_['colsample_bytree'],\n",
    "                                   min_child_weight=grid_search.best_params_['min_child_weight'],\n",
    "                                   learning_rate=grid_search.best_params_['learning_rate'],\n",
    "                                   eta=grid_search.best_params_['eta'])\n",
    "xgbc_tuned.fit(X_train,y_train)\n",
    "\n",
    "## results F1 and stdF1 ##\n",
    "avgF1set2_CTmed_p10tunedXGBoost = cross_val_score(xgbc_tuned, X, y, scoring=\"f1\", cv = 10).mean() ##<3## \n",
    "stdF1set2_CTmed_p10tunedXGBoost  = cross_val_score(xgbc_tuned, X, y, scoring=\"f1\", cv = 10).std() ##<3##\n",
    "print('Mean F1 Score: ', avgF1set2_CTmed_p10tunedXGBoost)\n",
    "print('std F1 Score: ', stdF1set2_CTmed_p10tunedXGBoost)"
   ]
  },
  {
   "cell_type": "code",
   "execution_count": 173,
   "id": "31f113d4",
   "metadata": {},
   "outputs": [
    {
     "name": "stdout",
     "output_type": "stream",
     "text": [
      "Fitting 5 folds for each of 729 candidates, totalling 3645 fits\n",
      "\n",
      " Time taken: 0 hours 0 minutes and 14.74 seconds.\n",
      "{'colsample_bytree': 0.1, 'eta': 0.01, 'learning_rate': 0.1, 'max_depth': 10, 'min_child_weight': 20, 'subsample': 0.2}\n",
      "Mean F1 Score:  0.0\n",
      "std F1 Score:  0.0\n"
     ]
    }
   ],
   "source": [
    "## tuned parameter_set3##\n",
    "\n",
    "start_time = timer(None)\n",
    "# Instantiate the grid search model\n",
    "grid_search = GridSearchCV(estimator = xgbc, param_grid = paramXGBoost_grid3,\n",
    "                           cv = 5, n_jobs = -1, verbose = 2,scoring='f1')\n",
    "# Fit the grid search to the data\n",
    "grid_search.fit(X_train, y_train)\n",
    "\n",
    "timer(start_time)\n",
    "print(grid_search.best_params_)\n",
    "\n",
    "\n",
    "xgbc_tuned = XGBClassifier(subsample=grid_search.best_params_['subsample'],\n",
    "                                   max_depth=grid_search.best_params_['max_depth'],\n",
    "                                   colsample_bytree=grid_search.best_params_['colsample_bytree'],\n",
    "                                   min_child_weight=grid_search.best_params_['min_child_weight'],\n",
    "                                   learning_rate=grid_search.best_params_['learning_rate'],\n",
    "                                   eta=grid_search.best_params_['eta'])\n",
    "xgbc_tuned.fit(X_train,y_train)\n",
    "\n",
    "## results F1 and stdF1 ##\n",
    "avgF1set3_CTmed_p10tunedXGBoost  = cross_val_score(xgbc_tuned, X, y, scoring=\"f1\", cv = 10).mean() ##<3## \n",
    "stdF1set3_CTmed_p10tunedXGBoost  = cross_val_score(xgbc_tuned, X, y, scoring=\"f1\", cv = 10).std() ##<3##\n",
    "print('Mean F1 Score: ', avgF1set3_CTmed_p10tunedXGBoost)\n",
    "print('std F1 Score: ', stdF1set3_CTmed_p10tunedXGBoost)"
   ]
  },
  {
   "cell_type": "code",
   "execution_count": 174,
   "id": "151cf49b",
   "metadata": {},
   "outputs": [
    {
     "name": "stdout",
     "output_type": "stream",
     "text": [
      "Fitting 5 folds for each of 729 candidates, totalling 3645 fits\n",
      "\n",
      " Time taken: 0 hours 0 minutes and 17.06 seconds.\n",
      "{'colsample_bytree': 0.1, 'eta': 0.01, 'learning_rate': 0.1, 'max_depth': 5, 'min_child_weight': 5, 'subsample': 0.75}\n",
      "Mean F1 Score:  0.1833333333333333\n",
      "std F1 Score:  0.2833333333333333\n"
     ]
    }
   ],
   "source": [
    "## tuned parameter_set4##\n",
    "\n",
    "start_time = timer(None)\n",
    "# Instantiate the grid search model\n",
    "grid_search = GridSearchCV(estimator = xgbc, param_grid = paramXGBoost_grid4,\n",
    "                           cv = 5, n_jobs = -1, verbose = 2,scoring='f1')\n",
    "# Fit the grid search to the data\n",
    "grid_search.fit(X_train, y_train)\n",
    "\n",
    "timer(start_time)\n",
    "print(grid_search.best_params_)\n",
    "\n",
    "\n",
    "xgbc_tuned = XGBClassifier(subsample=grid_search.best_params_['subsample'],\n",
    "                                   max_depth=grid_search.best_params_['max_depth'],\n",
    "                                   colsample_bytree=grid_search.best_params_['colsample_bytree'],\n",
    "                                   min_child_weight=grid_search.best_params_['min_child_weight'],\n",
    "                                   learning_rate=grid_search.best_params_['learning_rate'],\n",
    "                                   eta=grid_search.best_params_['eta'])\n",
    "xgbc_tuned.fit(X_train,y_train)\n",
    "\n",
    "## results F1 and stdF1 ##\n",
    "avgF1set4_CTmed_p10tunedXGBoost  = cross_val_score(xgbc_tuned, X, y, scoring=\"f1\", cv = 10).mean() ##<3## \n",
    "stdF1set4_CTmed_p10tunedXGBoost = cross_val_score(xgbc_tuned, X, y, scoring=\"f1\", cv = 10).std() ##<3##\n",
    "print('Mean F1 Score: ', avgF1set4_CTmed_p10tunedXGBoost)\n",
    "print('std F1 Score: ', stdF1set4_CTmed_p10tunedXGBoost)"
   ]
  },
  {
   "cell_type": "code",
   "execution_count": null,
   "id": "415e8b0a",
   "metadata": {},
   "outputs": [],
   "source": [
    "\n"
   ]
  },
  {
   "cell_type": "markdown",
   "id": "49c8f975",
   "metadata": {},
   "source": [
    "### threshold: 20%"
   ]
  },
  {
   "cell_type": "code",
   "execution_count": 175,
   "id": "09107390",
   "metadata": {},
   "outputs": [
    {
     "name": "stdout",
     "output_type": "stream",
     "text": [
      "thres_p20 (value,iloc_threshold)(400.0, 399)\n",
      "Mean F1 Score:  0.7423809523809524\n",
      "std F1 Score:  0.2027749665881613\n"
     ]
    }
   ],
   "source": [
    "# threshold: 20%\n",
    "\n",
    "f_df123_1 = pd.read_csv('f_df123_xgb.csv')\n",
    "f_df123_1 = f_df123_1.set_index('Feature')\n",
    "f_df123_1 = f_df123_1.sort_values(by=['med'])\n",
    "\n",
    "\n",
    "k =(filter_arr(f_df123_1['med'], thres_p20-1))\n",
    "print(\"thres_p20 (value,iloc_threshold)\" + str(filter_arr(f_df123_1['med'], thres_p20-1)))\n",
    "f_df123_1 = f_df123_1.iloc[:k[1]+1]\n",
    "\n",
    "\n",
    "df_filter = df1.filter(items=f_df123_1.index)\n",
    "X = df_filter\n",
    "y = df1['class']\n",
    "\n",
    "\n",
    "\n",
    "\n",
    "## before tuned ##\n",
    "X_train, X_test, y_train, y_test = train_test_split(X, y, test_size=0.2, random_state=123) \n",
    "xgbc = XGBClassifier(random_state=123)\n",
    "xgbc.fit(X_train,y_train)\n",
    "## results F1 and stdF1 ##\n",
    "avgF1_CTmed_p20XGBoost = cross_val_score(xgbc, X, y, scoring=\"f1\", cv = 10).mean() ##<3## \n",
    "stdF1_CTmed_p20XGBoost = cross_val_score(xgbc, X, y, scoring=\"f1\", cv = 10).std() ##<3##\n",
    "print('Mean F1 Score: ', avgF1_CTmed_p20XGBoost)\n",
    "print('std F1 Score: ', stdF1_CTmed_p20XGBoost)"
   ]
  },
  {
   "cell_type": "code",
   "execution_count": 176,
   "id": "1d1f36de",
   "metadata": {},
   "outputs": [
    {
     "data": {
      "text/plain": [
       "400"
      ]
     },
     "execution_count": 176,
     "metadata": {},
     "output_type": "execute_result"
    }
   ],
   "source": [
    "n_CTmed_p20XGBoost = k[1]+1\n",
    "n_CTmed_p20XGBoost"
   ]
  },
  {
   "cell_type": "code",
   "execution_count": 177,
   "id": "6bf156da",
   "metadata": {},
   "outputs": [
    {
     "name": "stdout",
     "output_type": "stream",
     "text": [
      "Fitting 5 folds for each of 729 candidates, totalling 3645 fits\n",
      "\n",
      " Time taken: 0 hours 0 minutes and 30.72 seconds.\n",
      "{'colsample_bytree': 0.5, 'eta': 0.01, 'learning_rate': 0.05, 'max_depth': 5, 'min_child_weight': 1, 'subsample': 0.5}\n",
      "Mean F1 Score:  0.6557142857142857\n",
      "std F1 Score:  0.28607952845081286\n"
     ]
    }
   ],
   "source": [
    "## tuned parameter_set1##\n",
    "\n",
    "start_time = timer(None)\n",
    "# Instantiate the grid search model\n",
    "grid_search = GridSearchCV(estimator = xgbc, param_grid = paramXGBoost_grid1,\n",
    "                           cv = 5, n_jobs = -1, verbose = 2,scoring='f1')\n",
    "# Fit the grid search to the data\n",
    "grid_search.fit(X_train, y_train)\n",
    "\n",
    "timer(start_time)\n",
    "print(grid_search.best_params_)\n",
    "\n",
    "\n",
    "xgbc_tuned = XGBClassifier(subsample=grid_search.best_params_['subsample'],\n",
    "                                   max_depth=grid_search.best_params_['max_depth'],\n",
    "                                   colsample_bytree=grid_search.best_params_['colsample_bytree'],\n",
    "                                   min_child_weight=grid_search.best_params_['min_child_weight'],\n",
    "                                   learning_rate=grid_search.best_params_['learning_rate'],\n",
    "                                   eta=grid_search.best_params_['eta'])\n",
    "xgbc_tuned.fit(X_train,y_train)\n",
    "\n",
    "## results F1 and stdF1 ##\n",
    "avgF1set1_CTmed_p20tunedXGBoost  = cross_val_score(xgbc_tuned, X, y, scoring=\"f1\", cv = 10).mean() ##<3## \n",
    "stdF1set1_CTmed_p20tunedXGBoost  = cross_val_score(xgbc_tuned, X, y, scoring=\"f1\", cv = 10).std() ##<3##\n",
    "print('Mean F1 Score: ', avgF1set1_CTmed_p20tunedXGBoost)\n",
    "print('std F1 Score: ', stdF1set1_CTmed_p20tunedXGBoost)"
   ]
  },
  {
   "cell_type": "code",
   "execution_count": 178,
   "id": "94d49cba",
   "metadata": {},
   "outputs": [
    {
     "name": "stdout",
     "output_type": "stream",
     "text": [
      "Fitting 5 folds for each of 729 candidates, totalling 3645 fits\n",
      "\n",
      " Time taken: 0 hours 0 minutes and 43.86 seconds.\n",
      "{'colsample_bytree': 0.75, 'eta': 0.01, 'learning_rate': 0.1, 'max_depth': 7, 'min_child_weight': 0.1, 'subsample': 0.2}\n",
      "Mean F1 Score:  0.8057142857142857\n",
      "std F1 Score:  0.19397734631743402\n"
     ]
    }
   ],
   "source": [
    "## tuned parameter_set2##\n",
    "\n",
    "start_time = timer(None)\n",
    "# Instantiate the grid search model\n",
    "grid_search = GridSearchCV(estimator = xgbc, param_grid = paramXGBoost_grid2,\n",
    "                           cv = 5, n_jobs = -1, verbose = 2,scoring='f1')\n",
    "# Fit the grid search to the data\n",
    "grid_search.fit(X_train, y_train)\n",
    "\n",
    "timer(start_time)\n",
    "print(grid_search.best_params_)\n",
    "\n",
    "\n",
    "xgbc_tuned = XGBClassifier(subsample=grid_search.best_params_['subsample'],\n",
    "                                   max_depth=grid_search.best_params_['max_depth'],\n",
    "                                   colsample_bytree=grid_search.best_params_['colsample_bytree'],\n",
    "                                   min_child_weight=grid_search.best_params_['min_child_weight'],\n",
    "                                   learning_rate=grid_search.best_params_['learning_rate'],\n",
    "                                   eta=grid_search.best_params_['eta'])\n",
    "xgbc_tuned.fit(X_train,y_train)\n",
    "\n",
    "## results F1 and stdF1 ##\n",
    "avgF1set2_CTmed_p20tunedXGBoost = cross_val_score(xgbc_tuned, X, y, scoring=\"f1\", cv = 10).mean() ##<3## \n",
    "stdF1set2_CTmed_p20tunedXGBoost  = cross_val_score(xgbc_tuned, X, y, scoring=\"f1\", cv = 10).std() ##<3##\n",
    "print('Mean F1 Score: ', avgF1set2_CTmed_p20tunedXGBoost)\n",
    "print('std F1 Score: ', stdF1set2_CTmed_p20tunedXGBoost)"
   ]
  },
  {
   "cell_type": "code",
   "execution_count": 179,
   "id": "aa9ef36f",
   "metadata": {},
   "outputs": [
    {
     "name": "stdout",
     "output_type": "stream",
     "text": [
      "Fitting 5 folds for each of 729 candidates, totalling 3645 fits\n",
      "\n",
      " Time taken: 0 hours 0 minutes and 20.54 seconds.\n",
      "{'colsample_bytree': 0.1, 'eta': 0.01, 'learning_rate': 0.1, 'max_depth': 10, 'min_child_weight': 20, 'subsample': 0.2}\n",
      "Mean F1 Score:  0.0\n",
      "std F1 Score:  0.0\n"
     ]
    }
   ],
   "source": [
    "## tuned parameter_set3##\n",
    "\n",
    "start_time = timer(None)\n",
    "# Instantiate the grid search model\n",
    "grid_search = GridSearchCV(estimator = xgbc, param_grid = paramXGBoost_grid3,\n",
    "                           cv = 5, n_jobs = -1, verbose = 2,scoring='f1')\n",
    "# Fit the grid search to the data\n",
    "grid_search.fit(X_train, y_train)\n",
    "\n",
    "timer(start_time)\n",
    "print(grid_search.best_params_)\n",
    "\n",
    "\n",
    "xgbc_tuned = XGBClassifier(subsample=grid_search.best_params_['subsample'],\n",
    "                                   max_depth=grid_search.best_params_['max_depth'],\n",
    "                                   colsample_bytree=grid_search.best_params_['colsample_bytree'],\n",
    "                                   min_child_weight=grid_search.best_params_['min_child_weight'],\n",
    "                                   learning_rate=grid_search.best_params_['learning_rate'],\n",
    "                                   eta=grid_search.best_params_['eta'])\n",
    "xgbc_tuned.fit(X_train,y_train)\n",
    "\n",
    "## results F1 and stdF1 ##\n",
    "avgF1set3_CTmed_p20tunedXGBoost  = cross_val_score(xgbc_tuned, X, y, scoring=\"f1\", cv = 10).mean() ##<3## \n",
    "stdF1set3_CTmed_p20tunedXGBoost  = cross_val_score(xgbc_tuned, X, y, scoring=\"f1\", cv = 10).std() ##<3##\n",
    "print('Mean F1 Score: ', avgF1set3_CTmed_p20tunedXGBoost)\n",
    "print('std F1 Score: ', stdF1set3_CTmed_p20tunedXGBoost)"
   ]
  },
  {
   "cell_type": "code",
   "execution_count": 180,
   "id": "c9a8e18a",
   "metadata": {},
   "outputs": [
    {
     "name": "stdout",
     "output_type": "stream",
     "text": [
      "Fitting 5 folds for each of 729 candidates, totalling 3645 fits\n",
      "\n",
      " Time taken: 0 hours 0 minutes and 18.75 seconds.\n",
      "{'colsample_bytree': 0.1, 'eta': 0.01, 'learning_rate': 0.1, 'max_depth': 5, 'min_child_weight': 5, 'subsample': 0.75}\n",
      "Mean F1 Score:  0.44666666666666666\n",
      "std F1 Score:  0.3037542866638538\n"
     ]
    }
   ],
   "source": [
    "## tuned parameter_set4##\n",
    "\n",
    "start_time = timer(None)\n",
    "# Instantiate the grid search model\n",
    "grid_search = GridSearchCV(estimator = xgbc, param_grid = paramXGBoost_grid4,\n",
    "                           cv = 5, n_jobs = -1, verbose = 2,scoring='f1')\n",
    "# Fit the grid search to the data\n",
    "grid_search.fit(X_train, y_train)\n",
    "\n",
    "timer(start_time)\n",
    "print(grid_search.best_params_)\n",
    "\n",
    "\n",
    "xgbc_tuned = XGBClassifier(subsample=grid_search.best_params_['subsample'],\n",
    "                                   max_depth=grid_search.best_params_['max_depth'],\n",
    "                                   colsample_bytree=grid_search.best_params_['colsample_bytree'],\n",
    "                                   min_child_weight=grid_search.best_params_['min_child_weight'],\n",
    "                                   learning_rate=grid_search.best_params_['learning_rate'],\n",
    "                                   eta=grid_search.best_params_['eta'])\n",
    "xgbc_tuned.fit(X_train,y_train)\n",
    "\n",
    "## results F1 and stdF1 ##\n",
    "avgF1set4_CTmed_p20tunedXGBoost  = cross_val_score(xgbc_tuned, X, y, scoring=\"f1\", cv = 10).mean() ##<3## \n",
    "stdF1set4_CTmed_p20tunedXGBoost = cross_val_score(xgbc_tuned, X, y, scoring=\"f1\", cv = 10).std() ##<3##\n",
    "print('Mean F1 Score: ', avgF1set4_CTmed_p20tunedXGBoost)\n",
    "print('std F1 Score: ', stdF1set4_CTmed_p20tunedXGBoost)"
   ]
  },
  {
   "cell_type": "code",
   "execution_count": null,
   "id": "760330a2",
   "metadata": {},
   "outputs": [],
   "source": []
  },
  {
   "cell_type": "markdown",
   "id": "48594c27",
   "metadata": {},
   "source": [
    "## mean"
   ]
  },
  {
   "cell_type": "markdown",
   "id": "6a966ddf",
   "metadata": {},
   "source": [
    "### threshold: logbase2(n)"
   ]
  },
  {
   "cell_type": "code",
   "execution_count": 181,
   "id": "2356834e",
   "metadata": {},
   "outputs": [
    {
     "name": "stdout",
     "output_type": "stream",
     "text": [
      "thres_base2n (value,iloc_threshold)(10.333333333333334, 5)\n",
      "Mean F1 Score:  0.6890476190476191\n",
      "std F1 Score:  0.3042559043450072\n"
     ]
    }
   ],
   "source": [
    "# threshold: logbase2(n)\n",
    "\n",
    "f_df123_1 = pd.read_csv('f_df123_xgb.csv')\n",
    "f_df123_1 = f_df123_1.set_index('Feature')\n",
    "f_df123_1 = f_df123_1.sort_values(by=['mean'])\n",
    "\n",
    "\n",
    "k =(filter_arr(f_df123_1['mean'], thres_base2n-1))\n",
    "print(\"thres_base2n (value,iloc_threshold)\" + str(filter_arr(f_df123_1['mean'], thres_base2n-1)))\n",
    "f_df123_1 = f_df123_1.iloc[:k[1]+1]\n",
    "\n",
    "\n",
    "df_filter = df1.filter(items=f_df123_1.index)\n",
    "X = df_filter\n",
    "y = df1['class']\n",
    "\n",
    "\n",
    "\n",
    "\n",
    "## before tuned ##\n",
    "X_train, X_test, y_train, y_test = train_test_split(X, y, test_size=0.2, random_state=123) \n",
    "xgbc = XGBClassifier(random_state=123)\n",
    "xgbc.fit(X_train,y_train)\n",
    "## results F1 and stdF1 ##\n",
    "avgF1_CTmean_base2XGBoost = cross_val_score(xgbc, X, y, scoring=\"f1\", cv = 10).mean() ##<3## \n",
    "stdF1_CTmean_base2XGBoost = cross_val_score(xgbc, X, y, scoring=\"f1\", cv = 10).std() ##<3##\n",
    "print('Mean F1 Score: ', avgF1_CTmean_base2XGBoost)\n",
    "print('std F1 Score: ', stdF1_CTmean_base2XGBoost)"
   ]
  },
  {
   "cell_type": "code",
   "execution_count": 182,
   "id": "f9dcb193",
   "metadata": {},
   "outputs": [
    {
     "data": {
      "text/plain": [
       "6"
      ]
     },
     "execution_count": 182,
     "metadata": {},
     "output_type": "execute_result"
    }
   ],
   "source": [
    "n_CTmean_base2XGBoost= k[1]+1\n",
    "n_CTmean_base2XGBoost"
   ]
  },
  {
   "cell_type": "code",
   "execution_count": 183,
   "id": "8ba93241",
   "metadata": {},
   "outputs": [
    {
     "name": "stdout",
     "output_type": "stream",
     "text": [
      "Fitting 5 folds for each of 729 candidates, totalling 3645 fits\n",
      "\n",
      " Time taken: 0 hours 0 minutes and 16.92 seconds.\n",
      "{'colsample_bytree': 0.5, 'eta': 0.01, 'learning_rate': 0.1, 'max_depth': 5, 'min_child_weight': 1, 'subsample': 1}\n",
      "Mean F1 Score:  0.7390476190476191\n",
      "std F1 Score:  0.21486482593490328\n"
     ]
    }
   ],
   "source": [
    "## tuned parameter_set1##\n",
    "\n",
    "start_time = timer(None)\n",
    "# Instantiate the grid search model\n",
    "grid_search = GridSearchCV(estimator = xgbc, param_grid = paramXGBoost_grid1,\n",
    "                           cv = 5, n_jobs = -1, verbose = 2,scoring='f1')\n",
    "# Fit the grid search to the data\n",
    "grid_search.fit(X_train, y_train)\n",
    "\n",
    "timer(start_time)\n",
    "print(grid_search.best_params_)\n",
    "\n",
    "\n",
    "xgbc_tuned = XGBClassifier(subsample=grid_search.best_params_['subsample'],\n",
    "                                   max_depth=grid_search.best_params_['max_depth'],\n",
    "                                   colsample_bytree=grid_search.best_params_['colsample_bytree'],\n",
    "                                   min_child_weight=grid_search.best_params_['min_child_weight'],\n",
    "                                   learning_rate=grid_search.best_params_['learning_rate'],\n",
    "                                   eta=grid_search.best_params_['eta'])\n",
    "xgbc_tuned.fit(X_train,y_train)\n",
    "\n",
    "## results F1 and stdF1 ##\n",
    "avgF1set1_CTmean_base2tunedXGBoost  = cross_val_score(xgbc_tuned, X, y, scoring=\"f1\", cv = 10).mean() ##<3## \n",
    "stdF1set1_CTmean_base2tunedXGBoost  = cross_val_score(xgbc_tuned, X, y, scoring=\"f1\", cv = 10).std() ##<3##\n",
    "print('Mean F1 Score: ', avgF1set1_CTmean_base2tunedXGBoost)\n",
    "print('std F1 Score: ', stdF1set1_CTmean_base2tunedXGBoost)"
   ]
  },
  {
   "cell_type": "code",
   "execution_count": 184,
   "id": "cdda2c21",
   "metadata": {},
   "outputs": [
    {
     "name": "stdout",
     "output_type": "stream",
     "text": [
      "Fitting 5 folds for each of 729 candidates, totalling 3645 fits\n",
      "\n",
      " Time taken: 0 hours 0 minutes and 11.38 seconds.\n",
      "{'colsample_bytree': 0.75, 'eta': 0.01, 'learning_rate': 0.1, 'max_depth': 7, 'min_child_weight': 0.5, 'subsample': 0.2}\n",
      "Mean F1 Score:  0.6633333333333333\n",
      "std F1 Score:  0.37131897039846723\n"
     ]
    }
   ],
   "source": [
    "## tuned parameter_set2##\n",
    "\n",
    "start_time = timer(None)\n",
    "# Instantiate the grid search model\n",
    "grid_search = GridSearchCV(estimator = xgbc, param_grid = paramXGBoost_grid2,\n",
    "                           cv = 5, n_jobs = -1, verbose = 2,scoring='f1')\n",
    "# Fit the grid search to the data\n",
    "grid_search.fit(X_train, y_train)\n",
    "\n",
    "timer(start_time)\n",
    "print(grid_search.best_params_)\n",
    "\n",
    "\n",
    "xgbc_tuned = XGBClassifier(subsample=grid_search.best_params_['subsample'],\n",
    "                                   max_depth=grid_search.best_params_['max_depth'],\n",
    "                                   colsample_bytree=grid_search.best_params_['colsample_bytree'],\n",
    "                                   min_child_weight=grid_search.best_params_['min_child_weight'],\n",
    "                                   learning_rate=grid_search.best_params_['learning_rate'],\n",
    "                                   eta=grid_search.best_params_['eta'])\n",
    "xgbc_tuned.fit(X_train,y_train)\n",
    "\n",
    "## results F1 and stdF1 ##\n",
    "avgF1set2_CTmean_base2tunedXGBoost  = cross_val_score(xgbc_tuned, X, y, scoring=\"f1\", cv = 10).mean() ##<3## \n",
    "stdF1set2_CTmean_base2tunedXGBoost  = cross_val_score(xgbc_tuned, X, y, scoring=\"f1\", cv = 10).std() ##<3##\n",
    "print('Mean F1 Score: ', avgF1set2_CTmean_base2tunedXGBoost)\n",
    "print('std F1 Score: ', stdF1set2_CTmean_base2tunedXGBoost)"
   ]
  },
  {
   "cell_type": "code",
   "execution_count": 185,
   "id": "c0e13eb2",
   "metadata": {},
   "outputs": [
    {
     "name": "stdout",
     "output_type": "stream",
     "text": [
      "Fitting 5 folds for each of 729 candidates, totalling 3645 fits\n",
      "\n",
      " Time taken: 0 hours 0 minutes and 10.92 seconds.\n",
      "{'colsample_bytree': 0.1, 'eta': 0.01, 'learning_rate': 0.1, 'max_depth': 10, 'min_child_weight': 20, 'subsample': 0.2}\n",
      "Mean F1 Score:  0.0\n",
      "std F1 Score:  0.0\n"
     ]
    }
   ],
   "source": [
    "## tuned parameter_set3##\n",
    "\n",
    "start_time = timer(None)\n",
    "# Instantiate the grid search model\n",
    "grid_search = GridSearchCV(estimator = xgbc, param_grid = paramXGBoost_grid3,\n",
    "                           cv = 5, n_jobs = -1, verbose = 2,scoring='f1')\n",
    "# Fit the grid search to the data\n",
    "grid_search.fit(X_train, y_train)\n",
    "\n",
    "timer(start_time)\n",
    "print(grid_search.best_params_)\n",
    "\n",
    "\n",
    "xgbc_tuned = XGBClassifier(subsample=grid_search.best_params_['subsample'],\n",
    "                                   max_depth=grid_search.best_params_['max_depth'],\n",
    "                                   colsample_bytree=grid_search.best_params_['colsample_bytree'],\n",
    "                                   min_child_weight=grid_search.best_params_['min_child_weight'],\n",
    "                                   learning_rate=grid_search.best_params_['learning_rate'],\n",
    "                                   eta=grid_search.best_params_['eta'])\n",
    "xgbc_tuned.fit(X_train,y_train)\n",
    "\n",
    "## results F1 and stdF1 ##\n",
    "avgF1set3_CTmean_base2tunedXGBoost  = cross_val_score(xgbc_tuned, X, y, scoring=\"f1\", cv = 10).mean() ##<3## \n",
    "stdF1set3_CTmean_base2tunedXGBoost  = cross_val_score(xgbc_tuned, X, y, scoring=\"f1\", cv = 10).std() ##<3##\n",
    "print('Mean F1 Score: ', avgF1set3_CTmean_base2tunedXGBoost)\n",
    "print('std F1 Score: ', stdF1set3_CTmean_base2tunedXGBoost)"
   ]
  },
  {
   "cell_type": "code",
   "execution_count": 186,
   "id": "7fe67c52",
   "metadata": {},
   "outputs": [
    {
     "name": "stdout",
     "output_type": "stream",
     "text": [
      "Fitting 5 folds for each of 729 candidates, totalling 3645 fits\n",
      "\n",
      " Time taken: 0 hours 0 minutes and 11.93 seconds.\n",
      "{'colsample_bytree': 0.1, 'eta': 0.01, 'learning_rate': 0.1, 'max_depth': 5, 'min_child_weight': 5, 'subsample': 0.75}\n",
      "Mean F1 Score:  0.3733333333333333\n",
      "std F1 Score:  0.3143953632680425\n"
     ]
    }
   ],
   "source": [
    "## tuned parameter_set4##\n",
    "\n",
    "start_time = timer(None)\n",
    "# Instantiate the grid search model\n",
    "grid_search = GridSearchCV(estimator = xgbc, param_grid = paramXGBoost_grid4,\n",
    "                           cv = 5, n_jobs = -1, verbose = 2,scoring='f1')\n",
    "# Fit the grid search to the data\n",
    "grid_search.fit(X_train, y_train)\n",
    "\n",
    "timer(start_time)\n",
    "print(grid_search.best_params_)\n",
    "\n",
    "\n",
    "xgbc_tuned = XGBClassifier(subsample=grid_search.best_params_['subsample'],\n",
    "                                   max_depth=grid_search.best_params_['max_depth'],\n",
    "                                   colsample_bytree=grid_search.best_params_['colsample_bytree'],\n",
    "                                   min_child_weight=grid_search.best_params_['min_child_weight'],\n",
    "                                   learning_rate=grid_search.best_params_['learning_rate'],\n",
    "                                   eta=grid_search.best_params_['eta'])\n",
    "xgbc_tuned.fit(X_train,y_train)\n",
    "\n",
    "## results F1 and stdF1 ##\n",
    "avgF1set4_CTmean_base2tunedXGBoost  = cross_val_score(xgbc_tuned, X, y, scoring=\"f1\", cv = 10).mean() ##<3## \n",
    "stdF1set4_CTmean_base2tunedXGBoost  = cross_val_score(xgbc_tuned, X, y, scoring=\"f1\", cv = 10).std() ##<3##\n",
    "print('Mean F1 Score: ', avgF1set4_CTmean_base2tunedXGBoost)\n",
    "print('std F1 Score: ', stdF1set4_CTmean_base2tunedXGBoost)"
   ]
  },
  {
   "cell_type": "markdown",
   "id": "d7629f46",
   "metadata": {},
   "source": [
    "### threshold: 2.5%"
   ]
  },
  {
   "cell_type": "code",
   "execution_count": 187,
   "id": "0507082e",
   "metadata": {},
   "outputs": [
    {
     "name": "stdout",
     "output_type": "stream",
     "text": [
      "thres_p2_5 (value,iloc_threshold)(144.33333333333334, 49)\n",
      "Mean F1 Score:  0.6566666666666666\n",
      "std F1 Score:  0.2959166549328825\n"
     ]
    }
   ],
   "source": [
    "# threshold: 2.5%\n",
    "\n",
    "f_df123_1 = pd.read_csv('f_df123_xgb.csv')\n",
    "f_df123_1 = f_df123_1.set_index('Feature')\n",
    "f_df123_1 = f_df123_1.sort_values(by=['mean'])\n",
    "\n",
    "\n",
    "k =(filter_arr(f_df123_1['mean'], thres_p2_5-1))\n",
    "print(\"thres_p2_5 (value,iloc_threshold)\" + str(filter_arr(f_df123_1['mean'], thres_p2_5-1)))\n",
    "f_df123_1 = f_df123_1.iloc[:k[1]+1]\n",
    "\n",
    "\n",
    "df_filter = df1.filter(items=f_df123_1.index)\n",
    "X = df_filter\n",
    "y = df1['class']\n",
    "\n",
    "\n",
    "\n",
    "\n",
    "## before tuned ##\n",
    "X_train, X_test, y_train, y_test = train_test_split(X, y, test_size=0.2, random_state=123) \n",
    "xgbc = XGBClassifier(random_state=123)\n",
    "xgbc.fit(X_train,y_train)\n",
    "## results F1 and stdF1 ##\n",
    "avgF1_CTmean_p2_5XGBoost = cross_val_score(xgbc, X, y, scoring=\"f1\", cv = 10).mean() ##<3## \n",
    "stdF1_CTmean_p2_5XGBoost = cross_val_score(xgbc, X, y, scoring=\"f1\", cv = 10).std() ##<3##\n",
    "print('Mean F1 Score: ', avgF1_CTmean_p2_5XGBoost)\n",
    "print('std F1 Score: ', stdF1_CTmean_p2_5XGBoost)"
   ]
  },
  {
   "cell_type": "code",
   "execution_count": 188,
   "id": "4ced354b",
   "metadata": {},
   "outputs": [
    {
     "data": {
      "text/plain": [
       "50"
      ]
     },
     "execution_count": 188,
     "metadata": {},
     "output_type": "execute_result"
    }
   ],
   "source": [
    "n_CTmean_p2_5XGBoost= k[1]+1\n",
    "n_CTmean_p2_5XGBoost"
   ]
  },
  {
   "cell_type": "code",
   "execution_count": 189,
   "id": "66334c84",
   "metadata": {},
   "outputs": [
    {
     "name": "stdout",
     "output_type": "stream",
     "text": [
      "Fitting 5 folds for each of 729 candidates, totalling 3645 fits\n",
      "\n",
      " Time taken: 0 hours 0 minutes and 16.27 seconds.\n",
      "{'colsample_bytree': 1, 'eta': 0.01, 'learning_rate': 0.1, 'max_depth': 5, 'min_child_weight': 1, 'subsample': 0.5}\n",
      "Mean F1 Score:  0.7323809523809524\n",
      "std F1 Score:  0.28082967457597674\n"
     ]
    }
   ],
   "source": [
    "## tuned parameter_set1##\n",
    "\n",
    "start_time = timer(None)\n",
    "# Instantiate the grid search model\n",
    "grid_search = GridSearchCV(estimator = xgbc, param_grid = paramXGBoost_grid1,\n",
    "                           cv = 5, n_jobs = -1, verbose = 2,scoring='f1')\n",
    "# Fit the grid search to the data\n",
    "grid_search.fit(X_train, y_train)\n",
    "\n",
    "timer(start_time)\n",
    "print(grid_search.best_params_)\n",
    "\n",
    "\n",
    "xgbc_tuned = XGBClassifier(subsample=grid_search.best_params_['subsample'],\n",
    "                                   max_depth=grid_search.best_params_['max_depth'],\n",
    "                                   colsample_bytree=grid_search.best_params_['colsample_bytree'],\n",
    "                                   min_child_weight=grid_search.best_params_['min_child_weight'],\n",
    "                                   learning_rate=grid_search.best_params_['learning_rate'],\n",
    "                                   eta=grid_search.best_params_['eta'])\n",
    "xgbc_tuned.fit(X_train,y_train)\n",
    "\n",
    "## results F1 and stdF1 ##\n",
    "avgF1set1_CTmean_p2_5tunedXGBoost  = cross_val_score(xgbc_tuned, X, y, scoring=\"f1\", cv = 10).mean() ##<3## \n",
    "stdF1set1_CTmean_p2_5tunedXGBoost  = cross_val_score(xgbc_tuned, X, y, scoring=\"f1\", cv = 10).std() ##<3##\n",
    "print('Mean F1 Score: ', avgF1set1_CTmean_p2_5tunedXGBoost)\n",
    "print('std F1 Score: ', stdF1set1_CTmean_p2_5tunedXGBoost)"
   ]
  },
  {
   "cell_type": "code",
   "execution_count": 190,
   "id": "877cc2f7",
   "metadata": {},
   "outputs": [
    {
     "name": "stdout",
     "output_type": "stream",
     "text": [
      "Fitting 5 folds for each of 729 candidates, totalling 3645 fits\n",
      "\n",
      " Time taken: 0 hours 0 minutes and 20.64 seconds.\n",
      "{'colsample_bytree': 0.75, 'eta': 0.01, 'learning_rate': 0.1, 'max_depth': 7, 'min_child_weight': 0.5, 'subsample': 0.2}\n",
      "Mean F1 Score:  0.8057142857142857\n",
      "std F1 Score:  0.19397734631743402\n"
     ]
    }
   ],
   "source": [
    "## tuned parameter_set2##\n",
    "\n",
    "start_time = timer(None)\n",
    "# Instantiate the grid search model\n",
    "grid_search = GridSearchCV(estimator = xgbc, param_grid = paramXGBoost_grid2,\n",
    "                           cv = 5, n_jobs = -1, verbose = 2,scoring='f1')\n",
    "# Fit the grid search to the data\n",
    "grid_search.fit(X_train, y_train)\n",
    "\n",
    "timer(start_time)\n",
    "print(grid_search.best_params_)\n",
    "\n",
    "\n",
    "xgbc_tuned = XGBClassifier(subsample=grid_search.best_params_['subsample'],\n",
    "                                   max_depth=grid_search.best_params_['max_depth'],\n",
    "                                   colsample_bytree=grid_search.best_params_['colsample_bytree'],\n",
    "                                   min_child_weight=grid_search.best_params_['min_child_weight'],\n",
    "                                   learning_rate=grid_search.best_params_['learning_rate'],\n",
    "                                   eta=grid_search.best_params_['eta'])\n",
    "xgbc_tuned.fit(X_train,y_train)\n",
    "\n",
    "## results F1 and stdF1 ##\n",
    "avgF1set2_CTmean_p2_5tunedXGBoost  = cross_val_score(xgbc_tuned, X, y, scoring=\"f1\", cv = 10).mean() ##<3## \n",
    "stdF1set2_CTmean_p2_5tunedXGBoost  = cross_val_score(xgbc_tuned, X, y, scoring=\"f1\", cv = 10).std() ##<3##\n",
    "print('Mean F1 Score: ', avgF1set2_CTmean_p2_5tunedXGBoost)\n",
    "print('std F1 Score: ', stdF1set2_CTmean_p2_5tunedXGBoost)"
   ]
  },
  {
   "cell_type": "code",
   "execution_count": 191,
   "id": "9867c6a5",
   "metadata": {},
   "outputs": [
    {
     "name": "stdout",
     "output_type": "stream",
     "text": [
      "Fitting 5 folds for each of 729 candidates, totalling 3645 fits\n",
      "\n",
      " Time taken: 0 hours 0 minutes and 13.86 seconds.\n",
      "{'colsample_bytree': 0.1, 'eta': 0.01, 'learning_rate': 0.1, 'max_depth': 10, 'min_child_weight': 20, 'subsample': 0.2}\n",
      "Mean F1 Score:  0.0\n",
      "std F1 Score:  0.0\n"
     ]
    }
   ],
   "source": [
    "## tuned parameter_set3##\n",
    "\n",
    "start_time = timer(None)\n",
    "# Instantiate the grid search model\n",
    "grid_search = GridSearchCV(estimator = xgbc, param_grid = paramXGBoost_grid3,\n",
    "                           cv = 5, n_jobs = -1, verbose = 2,scoring='f1')\n",
    "# Fit the grid search to the data\n",
    "grid_search.fit(X_train, y_train)\n",
    "\n",
    "timer(start_time)\n",
    "print(grid_search.best_params_)\n",
    "\n",
    "\n",
    "xgbc_tuned = XGBClassifier(subsample=grid_search.best_params_['subsample'],\n",
    "                                   max_depth=grid_search.best_params_['max_depth'],\n",
    "                                   colsample_bytree=grid_search.best_params_['colsample_bytree'],\n",
    "                                   min_child_weight=grid_search.best_params_['min_child_weight'],\n",
    "                                   learning_rate=grid_search.best_params_['learning_rate'],\n",
    "                                   eta=grid_search.best_params_['eta'])\n",
    "xgbc_tuned.fit(X_train,y_train)\n",
    "\n",
    "## results F1 and stdF1 ##\n",
    "avgF1set3_CTmean_p2_5tunedXGBoost  = cross_val_score(xgbc_tuned, X, y, scoring=\"f1\", cv = 10).mean() ##<3## \n",
    "stdF1set3_CTmean_p2_5tunedXGBoost  = cross_val_score(xgbc_tuned, X, y, scoring=\"f1\", cv = 10).std() ##<3##\n",
    "print('Mean F1 Score: ', avgF1set3_CTmean_p2_5tunedXGBoost)\n",
    "print('std F1 Score: ', stdF1set3_CTmean_p2_5tunedXGBoost)"
   ]
  },
  {
   "cell_type": "code",
   "execution_count": 192,
   "id": "087d8a85",
   "metadata": {},
   "outputs": [
    {
     "name": "stdout",
     "output_type": "stream",
     "text": [
      "Fitting 5 folds for each of 729 candidates, totalling 3645 fits\n",
      "\n",
      " Time taken: 0 hours 0 minutes and 15.1 seconds.\n",
      "{'colsample_bytree': 0.1, 'eta': 0.01, 'learning_rate': 0.1, 'max_depth': 5, 'min_child_weight': 5, 'subsample': 0.75}\n",
      "Mean F1 Score:  0.32999999999999996\n",
      "std F1 Score:  0.33679865399572684\n"
     ]
    }
   ],
   "source": [
    "## tuned parameter_set4##\n",
    "\n",
    "start_time = timer(None)\n",
    "# Instantiate the grid search model\n",
    "grid_search = GridSearchCV(estimator = xgbc, param_grid = paramXGBoost_grid4,\n",
    "                           cv = 5, n_jobs = -1, verbose = 2,scoring='f1')\n",
    "# Fit the grid search to the data\n",
    "grid_search.fit(X_train, y_train)\n",
    "\n",
    "timer(start_time)\n",
    "print(grid_search.best_params_)\n",
    "\n",
    "\n",
    "xgbc_tuned = XGBClassifier(subsample=grid_search.best_params_['subsample'],\n",
    "                                   max_depth=grid_search.best_params_['max_depth'],\n",
    "                                   colsample_bytree=grid_search.best_params_['colsample_bytree'],\n",
    "                                   min_child_weight=grid_search.best_params_['min_child_weight'],\n",
    "                                   learning_rate=grid_search.best_params_['learning_rate'],\n",
    "                                   eta=grid_search.best_params_['eta'])\n",
    "xgbc_tuned.fit(X_train,y_train)\n",
    "\n",
    "## results F1 and stdF1 ##\n",
    "avgF1set4_CTmean_p2_5tunedXGBoost  = cross_val_score(xgbc_tuned, X, y, scoring=\"f1\", cv = 10).mean() ##<3## \n",
    "stdF1set4_CTmean_p2_5tunedXGBoost  = cross_val_score(xgbc_tuned, X, y, scoring=\"f1\", cv = 10).std() ##<3##\n",
    "print('Mean F1 Score: ', avgF1set4_CTmean_p2_5tunedXGBoost)\n",
    "print('std F1 Score: ', stdF1set4_CTmean_p2_5tunedXGBoost)"
   ]
  },
  {
   "cell_type": "raw",
   "id": "2fb7ba89",
   "metadata": {},
   "source": []
  },
  {
   "cell_type": "code",
   "execution_count": null,
   "id": "9495902d",
   "metadata": {},
   "outputs": [],
   "source": []
  },
  {
   "cell_type": "code",
   "execution_count": null,
   "id": "a6b9d681",
   "metadata": {},
   "outputs": [],
   "source": []
  },
  {
   "cell_type": "code",
   "execution_count": null,
   "id": "74305fdb",
   "metadata": {},
   "outputs": [],
   "source": []
  },
  {
   "cell_type": "markdown",
   "id": "8b74c32c",
   "metadata": {},
   "source": [
    "### threshold: 5%"
   ]
  },
  {
   "cell_type": "code",
   "execution_count": 193,
   "id": "1e786511",
   "metadata": {},
   "outputs": [
    {
     "name": "stdout",
     "output_type": "stream",
     "text": [
      "thres_p5 (value,iloc_threshold)(261.3333333333333, 99)\n",
      "Mean F1 Score:  0.7423809523809524\n",
      "std F1 Score:  0.2027749665881613\n"
     ]
    }
   ],
   "source": [
    "# threshold: 5%\n",
    "\n",
    "f_df123_1 = pd.read_csv('f_df123_xgb.csv')\n",
    "f_df123_1 = f_df123_1.set_index('Feature')\n",
    "f_df123_1 = f_df123_1.sort_values(by=['mean'])\n",
    "\n",
    "\n",
    "k =(filter_arr(f_df123_1['mean'], thres_p5-1))\n",
    "print(\"thres_p5 (value,iloc_threshold)\" + str(filter_arr(f_df123_1['mean'], thres_p5-1)))\n",
    "f_df123_1 = f_df123_1.iloc[:k[1]+1]\n",
    "\n",
    "\n",
    "df_filter = df1.filter(items=f_df123_1.index)\n",
    "X = df_filter\n",
    "y = df1['class']\n",
    "\n",
    "\n",
    "\n",
    "\n",
    "## before tuned ##\n",
    "X_train, X_test, y_train, y_test = train_test_split(X, y, test_size=0.2, random_state=123) \n",
    "xgbc = XGBClassifier(random_state=123)\n",
    "xgbc.fit(X_train,y_train)\n",
    "## results F1 and stdF1 ##\n",
    "avgF1_CTmean_p5XGBoost = cross_val_score(xgbc, X, y, scoring=\"f1\", cv = 10).mean() ##<3## \n",
    "stdF1_CTmean_p5XGBoost = cross_val_score(xgbc, X, y, scoring=\"f1\", cv = 10).std() ##<3##\n",
    "print('Mean F1 Score: ', avgF1_CTmean_p5XGBoost)\n",
    "print('std F1 Score: ', stdF1_CTmean_p5XGBoost)"
   ]
  },
  {
   "cell_type": "code",
   "execution_count": 194,
   "id": "7c62a7ae",
   "metadata": {},
   "outputs": [
    {
     "data": {
      "text/plain": [
       "100"
      ]
     },
     "execution_count": 194,
     "metadata": {},
     "output_type": "execute_result"
    }
   ],
   "source": [
    "n_CTmean_p5XGBoost= k[1]+1\n",
    "n_CTmean_p5XGBoost"
   ]
  },
  {
   "cell_type": "code",
   "execution_count": 195,
   "id": "73d1e93e",
   "metadata": {},
   "outputs": [
    {
     "name": "stdout",
     "output_type": "stream",
     "text": [
      "Fitting 5 folds for each of 729 candidates, totalling 3645 fits\n",
      "\n",
      " Time taken: 0 hours 0 minutes and 17.5 seconds.\n",
      "{'colsample_bytree': 1, 'eta': 0.01, 'learning_rate': 0.1, 'max_depth': 5, 'min_child_weight': 1, 'subsample': 0.5}\n",
      "Mean F1 Score:  0.74\n",
      "std F1 Score:  0.22744962812309308\n"
     ]
    }
   ],
   "source": [
    "## tuned parameter_set1##\n",
    "\n",
    "start_time = timer(None)\n",
    "# Instantiate the grid search model\n",
    "grid_search = GridSearchCV(estimator = xgbc, param_grid = paramXGBoost_grid1,\n",
    "                           cv = 5, n_jobs = -1, verbose = 2,scoring='f1')\n",
    "# Fit the grid search to the data\n",
    "grid_search.fit(X_train, y_train)\n",
    "\n",
    "timer(start_time)\n",
    "print(grid_search.best_params_)\n",
    "\n",
    "\n",
    "xgbc_tuned = XGBClassifier(subsample=grid_search.best_params_['subsample'],\n",
    "                                   max_depth=grid_search.best_params_['max_depth'],\n",
    "                                   colsample_bytree=grid_search.best_params_['colsample_bytree'],\n",
    "                                   min_child_weight=grid_search.best_params_['min_child_weight'],\n",
    "                                   learning_rate=grid_search.best_params_['learning_rate'],\n",
    "                                   eta=grid_search.best_params_['eta'])\n",
    "xgbc_tuned.fit(X_train,y_train)\n",
    "\n",
    "## results F1 and stdF1 ##\n",
    "avgF1set1_CTmean_p5tunedXGBoost  = cross_val_score(xgbc_tuned, X, y, scoring=\"f1\", cv = 10).mean() ##<3## \n",
    "stdF1set1_CTmean_p5tunedXGBoost  = cross_val_score(xgbc_tuned, X, y, scoring=\"f1\", cv = 10).std() ##<3##\n",
    "print('Mean F1 Score: ', avgF1set1_CTmean_p5tunedXGBoost)\n",
    "print('std F1 Score: ', stdF1set1_CTmean_p5tunedXGBoost)"
   ]
  },
  {
   "cell_type": "code",
   "execution_count": 196,
   "id": "4b0faff2",
   "metadata": {},
   "outputs": [
    {
     "name": "stdout",
     "output_type": "stream",
     "text": [
      "Fitting 5 folds for each of 729 candidates, totalling 3645 fits\n",
      "\n",
      " Time taken: 0 hours 0 minutes and 23.3 seconds.\n",
      "{'colsample_bytree': 0.5, 'eta': 0.01, 'learning_rate': 0.1, 'max_depth': 7, 'min_child_weight': 0.1, 'subsample': 0.2}\n",
      "Mean F1 Score:  0.7533333333333333\n",
      "std F1 Score:  0.3183987716335881\n"
     ]
    }
   ],
   "source": [
    "## tuned parameter_set2##\n",
    "\n",
    "start_time = timer(None)\n",
    "# Instantiate the grid search model\n",
    "grid_search = GridSearchCV(estimator = xgbc, param_grid = paramXGBoost_grid2,\n",
    "                           cv = 5, n_jobs = -1, verbose = 2,scoring='f1')\n",
    "# Fit the grid search to the data\n",
    "grid_search.fit(X_train, y_train)\n",
    "\n",
    "timer(start_time)\n",
    "print(grid_search.best_params_)\n",
    "\n",
    "\n",
    "xgbc_tuned = XGBClassifier(subsample=grid_search.best_params_['subsample'],\n",
    "                                   max_depth=grid_search.best_params_['max_depth'],\n",
    "                                   colsample_bytree=grid_search.best_params_['colsample_bytree'],\n",
    "                                   min_child_weight=grid_search.best_params_['min_child_weight'],\n",
    "                                   learning_rate=grid_search.best_params_['learning_rate'],\n",
    "                                   eta=grid_search.best_params_['eta'])\n",
    "xgbc_tuned.fit(X_train,y_train)\n",
    "\n",
    "## results F1 and stdF1 ##\n",
    "avgF1set2_CTmean_p5tunedXGBoost  = cross_val_score(xgbc_tuned, X, y, scoring=\"f1\", cv = 10).mean() ##<3## \n",
    "stdF1set2_CTmean_p5tunedXGBoost  = cross_val_score(xgbc_tuned, X, y, scoring=\"f1\", cv = 10).std() ##<3##\n",
    "print('Mean F1 Score: ', avgF1set2_CTmean_p5tunedXGBoost)\n",
    "print('std F1 Score: ', stdF1set2_CTmean_p5tunedXGBoost)"
   ]
  },
  {
   "cell_type": "code",
   "execution_count": 197,
   "id": "03c7eafd",
   "metadata": {},
   "outputs": [
    {
     "name": "stdout",
     "output_type": "stream",
     "text": [
      "Fitting 5 folds for each of 729 candidates, totalling 3645 fits\n",
      "\n",
      " Time taken: 0 hours 0 minutes and 15.48 seconds.\n",
      "{'colsample_bytree': 0.1, 'eta': 0.01, 'learning_rate': 0.1, 'max_depth': 10, 'min_child_weight': 20, 'subsample': 0.2}\n",
      "Mean F1 Score:  0.0\n",
      "std F1 Score:  0.0\n"
     ]
    }
   ],
   "source": [
    "## tuned parameter_set3##\n",
    "\n",
    "start_time = timer(None)\n",
    "# Instantiate the grid search model\n",
    "grid_search = GridSearchCV(estimator = xgbc, param_grid = paramXGBoost_grid3,\n",
    "                           cv = 5, n_jobs = -1, verbose = 2,scoring='f1')\n",
    "# Fit the grid search to the data\n",
    "grid_search.fit(X_train, y_train)\n",
    "\n",
    "timer(start_time)\n",
    "print(grid_search.best_params_)\n",
    "\n",
    "\n",
    "xgbc_tuned = XGBClassifier(subsample=grid_search.best_params_['subsample'],\n",
    "                                   max_depth=grid_search.best_params_['max_depth'],\n",
    "                                   colsample_bytree=grid_search.best_params_['colsample_bytree'],\n",
    "                                   min_child_weight=grid_search.best_params_['min_child_weight'],\n",
    "                                   learning_rate=grid_search.best_params_['learning_rate'],\n",
    "                                   eta=grid_search.best_params_['eta'])\n",
    "xgbc_tuned.fit(X_train,y_train)\n",
    "\n",
    "## results F1 and stdF1 ##\n",
    "avgF1set3_CTmean_p5tunedXGBoost  = cross_val_score(xgbc_tuned, X, y, scoring=\"f1\", cv = 10).mean() ##<3## \n",
    "stdF1set3_CTmean_p5tunedXGBoost  = cross_val_score(xgbc_tuned, X, y, scoring=\"f1\", cv = 10).std() ##<3##\n",
    "print('Mean F1 Score: ', avgF1set3_CTmean_p5tunedXGBoost)\n",
    "print('std F1 Score: ', stdF1set3_CTmean_p5tunedXGBoost)"
   ]
  },
  {
   "cell_type": "code",
   "execution_count": 198,
   "id": "72f0d0e8",
   "metadata": {},
   "outputs": [
    {
     "name": "stdout",
     "output_type": "stream",
     "text": [
      "Fitting 5 folds for each of 729 candidates, totalling 3645 fits\n",
      "\n",
      " Time taken: 0 hours 0 minutes and 16.27 seconds.\n",
      "{'colsample_bytree': 0.1, 'eta': 0.01, 'learning_rate': 0.1, 'max_depth': 5, 'min_child_weight': 5, 'subsample': 0.75}\n",
      "Mean F1 Score:  0.41666666666666663\n",
      "std F1 Score:  0.28136571693556883\n"
     ]
    }
   ],
   "source": [
    "## tuned parameter_set4##\n",
    "\n",
    "start_time = timer(None)\n",
    "# Instantiate the grid search model\n",
    "grid_search = GridSearchCV(estimator = xgbc, param_grid = paramXGBoost_grid4,\n",
    "                           cv = 5, n_jobs = -1, verbose = 2,scoring='f1')\n",
    "# Fit the grid search to the data\n",
    "grid_search.fit(X_train, y_train)\n",
    "\n",
    "timer(start_time)\n",
    "print(grid_search.best_params_)\n",
    "\n",
    "\n",
    "xgbc_tuned = XGBClassifier(subsample=grid_search.best_params_['subsample'],\n",
    "                                   max_depth=grid_search.best_params_['max_depth'],\n",
    "                                   colsample_bytree=grid_search.best_params_['colsample_bytree'],\n",
    "                                   min_child_weight=grid_search.best_params_['min_child_weight'],\n",
    "                                   learning_rate=grid_search.best_params_['learning_rate'],\n",
    "                                   eta=grid_search.best_params_['eta'])\n",
    "xgbc_tuned.fit(X_train,y_train)\n",
    "\n",
    "## results F1 and stdF1 ##\n",
    "avgF1set4_CTmean_p5tunedXGBoost  = cross_val_score(xgbc_tuned, X, y, scoring=\"f1\", cv = 10).mean() ##<3## \n",
    "stdF1set4_CTmean_p5tunedXGBoost  = cross_val_score(xgbc_tuned, X, y, scoring=\"f1\", cv = 10).std() ##<3##\n",
    "print('Mean F1 Score: ', avgF1set4_CTmean_p5tunedXGBoost)\n",
    "print('std F1 Score: ', stdF1set4_CTmean_p5tunedXGBoost)"
   ]
  },
  {
   "cell_type": "code",
   "execution_count": null,
   "id": "ca042abc",
   "metadata": {},
   "outputs": [],
   "source": []
  },
  {
   "cell_type": "code",
   "execution_count": null,
   "id": "92ef7bfd",
   "metadata": {},
   "outputs": [],
   "source": []
  },
  {
   "cell_type": "code",
   "execution_count": null,
   "id": "436325c0",
   "metadata": {},
   "outputs": [],
   "source": []
  },
  {
   "cell_type": "markdown",
   "id": "fd47e299",
   "metadata": {},
   "source": [
    "### threshold: 10%"
   ]
  },
  {
   "cell_type": "code",
   "execution_count": 199,
   "id": "80d96aab",
   "metadata": {},
   "outputs": [
    {
     "name": "stdout",
     "output_type": "stream",
     "text": [
      "thres_p10 (value,iloc_threshold)(413.3333333333333, 199)\n",
      "Mean F1 Score:  0.6923809523809524\n",
      "std F1 Score:  0.2964047609484793\n"
     ]
    }
   ],
   "source": [
    "# threshold: 10%\n",
    "\n",
    "f_df123_1 = pd.read_csv('f_df123_xgb.csv')\n",
    "f_df123_1 = f_df123_1.set_index('Feature')\n",
    "f_df123_1 = f_df123_1.sort_values(by=['mean'])\n",
    "\n",
    "\n",
    "k =(filter_arr(f_df123_1['mean'], thres_p10-1))\n",
    "print(\"thres_p10 (value,iloc_threshold)\" + str(filter_arr(f_df123_1['mean'], thres_p10-1)))\n",
    "f_df123_1 = f_df123_1.iloc[:k[1]+1]\n",
    "\n",
    "\n",
    "df_filter = df1.filter(items=f_df123_1.index)\n",
    "X = df_filter\n",
    "y = df1['class']\n",
    "\n",
    "\n",
    "\n",
    "\n",
    "## before tuned ##\n",
    "X_train, X_test, y_train, y_test = train_test_split(X, y, test_size=0.2, random_state=123) \n",
    "xgbc = XGBClassifier(random_state=123)\n",
    "xgbc.fit(X_train,y_train)\n",
    "## results F1 and stdF1 ##\n",
    "avgF1_CTmean_p10XGBoost = cross_val_score(xgbc, X, y, scoring=\"f1\", cv = 10).mean() ##<3## \n",
    "stdF1_CTmean_p10XGBoost = cross_val_score(xgbc, X, y, scoring=\"f1\", cv = 10).std() ##<3##\n",
    "print('Mean F1 Score: ', avgF1_CTmean_p10XGBoost)\n",
    "print('std F1 Score: ', stdF1_CTmean_p10XGBoost)"
   ]
  },
  {
   "cell_type": "code",
   "execution_count": 200,
   "id": "fa4abf04",
   "metadata": {},
   "outputs": [
    {
     "data": {
      "text/plain": [
       "200"
      ]
     },
     "execution_count": 200,
     "metadata": {},
     "output_type": "execute_result"
    }
   ],
   "source": [
    "n_CTmean_p10XGBoost= k[1]+1\n",
    "n_CTmean_p10XGBoost"
   ]
  },
  {
   "cell_type": "code",
   "execution_count": 201,
   "id": "65f654fd",
   "metadata": {},
   "outputs": [
    {
     "name": "stdout",
     "output_type": "stream",
     "text": [
      "Fitting 5 folds for each of 729 candidates, totalling 3645 fits\n",
      "\n",
      " Time taken: 0 hours 0 minutes and 23.36 seconds.\n",
      "{'colsample_bytree': 0.5, 'eta': 0.01, 'learning_rate': 0.1, 'max_depth': 5, 'min_child_weight': 1, 'subsample': 0.5}\n",
      "Mean F1 Score:  0.6523809523809524\n",
      "std F1 Score:  0.2639057758053078\n"
     ]
    }
   ],
   "source": [
    "## tuned parameter_set1##\n",
    "\n",
    "start_time = timer(None)\n",
    "# Instantiate the grid search model\n",
    "grid_search = GridSearchCV(estimator = xgbc, param_grid = paramXGBoost_grid1,\n",
    "                           cv = 5, n_jobs = -1, verbose = 2,scoring='f1')\n",
    "# Fit the grid search to the data\n",
    "grid_search.fit(X_train, y_train)\n",
    "\n",
    "timer(start_time)\n",
    "print(grid_search.best_params_)\n",
    "\n",
    "\n",
    "xgbc_tuned = XGBClassifier(subsample=grid_search.best_params_['subsample'],\n",
    "                                   max_depth=grid_search.best_params_['max_depth'],\n",
    "                                   colsample_bytree=grid_search.best_params_['colsample_bytree'],\n",
    "                                   min_child_weight=grid_search.best_params_['min_child_weight'],\n",
    "                                   learning_rate=grid_search.best_params_['learning_rate'],\n",
    "                                   eta=grid_search.best_params_['eta'])\n",
    "xgbc_tuned.fit(X_train,y_train)\n",
    "\n",
    "## results F1 and stdF1 ##\n",
    "avgF1set1_CTmean_p10tunedXGBoost  = cross_val_score(xgbc_tuned, X, y, scoring=\"f1\", cv = 10).mean() ##<3## \n",
    "stdF1set1_CTmean_p10tunedXGBoost  = cross_val_score(xgbc_tuned, X, y, scoring=\"f1\", cv = 10).std() ##<3##\n",
    "print('Mean F1 Score: ', avgF1set1_CTmean_p10tunedXGBoost)\n",
    "print('std F1 Score: ', stdF1set1_CTmean_p10tunedXGBoost)"
   ]
  },
  {
   "cell_type": "code",
   "execution_count": 202,
   "id": "b16e463e",
   "metadata": {},
   "outputs": [
    {
     "name": "stdout",
     "output_type": "stream",
     "text": [
      "Fitting 5 folds for each of 729 candidates, totalling 3645 fits\n",
      "\n",
      " Time taken: 0 hours 0 minutes and 31.04 seconds.\n",
      "{'colsample_bytree': 0.5, 'eta': 0.01, 'learning_rate': 0.05, 'max_depth': 7, 'min_child_weight': 0.1, 'subsample': 0.2}\n",
      "Mean F1 Score:  0.7\n",
      "std F1 Score:  0.30550504633038933\n"
     ]
    }
   ],
   "source": [
    "## tuned parameter_set2##\n",
    "\n",
    "start_time = timer(None)\n",
    "# Instantiate the grid search model\n",
    "grid_search = GridSearchCV(estimator = xgbc, param_grid = paramXGBoost_grid2,\n",
    "                           cv = 5, n_jobs = -1, verbose = 2,scoring='f1')\n",
    "# Fit the grid search to the data\n",
    "grid_search.fit(X_train, y_train)\n",
    "\n",
    "timer(start_time)\n",
    "print(grid_search.best_params_)\n",
    "\n",
    "\n",
    "xgbc_tuned = XGBClassifier(subsample=grid_search.best_params_['subsample'],\n",
    "                                   max_depth=grid_search.best_params_['max_depth'],\n",
    "                                   colsample_bytree=grid_search.best_params_['colsample_bytree'],\n",
    "                                   min_child_weight=grid_search.best_params_['min_child_weight'],\n",
    "                                   learning_rate=grid_search.best_params_['learning_rate'],\n",
    "                                   eta=grid_search.best_params_['eta'])\n",
    "xgbc_tuned.fit(X_train,y_train)\n",
    "\n",
    "## results F1 and stdF1 ##\n",
    "avgF1set2_CTmean_p10tunedXGBoost = cross_val_score(xgbc_tuned, X, y, scoring=\"f1\", cv = 10).mean() ##<3## \n",
    "stdF1set2_CTmean_p10tunedXGBoost  = cross_val_score(xgbc_tuned, X, y, scoring=\"f1\", cv = 10).std() ##<3##\n",
    "print('Mean F1 Score: ', avgF1set2_CTmean_p10tunedXGBoost)\n",
    "print('std F1 Score: ', stdF1set2_CTmean_p10tunedXGBoost)"
   ]
  },
  {
   "cell_type": "code",
   "execution_count": 203,
   "id": "a072f281",
   "metadata": {},
   "outputs": [
    {
     "name": "stdout",
     "output_type": "stream",
     "text": [
      "Fitting 5 folds for each of 729 candidates, totalling 3645 fits\n",
      "\n",
      " Time taken: 0 hours 0 minutes and 17.19 seconds.\n",
      "{'colsample_bytree': 0.1, 'eta': 0.01, 'learning_rate': 0.1, 'max_depth': 10, 'min_child_weight': 20, 'subsample': 0.2}\n",
      "Mean F1 Score:  0.0\n",
      "std F1 Score:  0.0\n"
     ]
    }
   ],
   "source": [
    "## tuned parameter_set3##\n",
    "\n",
    "start_time = timer(None)\n",
    "# Instantiate the grid search model\n",
    "grid_search = GridSearchCV(estimator = xgbc, param_grid = paramXGBoost_grid3,\n",
    "                           cv = 5, n_jobs = -1, verbose = 2,scoring='f1')\n",
    "# Fit the grid search to the data\n",
    "grid_search.fit(X_train, y_train)\n",
    "\n",
    "timer(start_time)\n",
    "print(grid_search.best_params_)\n",
    "\n",
    "\n",
    "xgbc_tuned = XGBClassifier(subsample=grid_search.best_params_['subsample'],\n",
    "                                   max_depth=grid_search.best_params_['max_depth'],\n",
    "                                   colsample_bytree=grid_search.best_params_['colsample_bytree'],\n",
    "                                   min_child_weight=grid_search.best_params_['min_child_weight'],\n",
    "                                   learning_rate=grid_search.best_params_['learning_rate'],\n",
    "                                   eta=grid_search.best_params_['eta'])\n",
    "xgbc_tuned.fit(X_train,y_train)\n",
    "\n",
    "## results F1 and stdF1 ##\n",
    "avgF1set3_CTmean_p10tunedXGBoost  = cross_val_score(xgbc_tuned, X, y, scoring=\"f1\", cv = 10).mean() ##<3## \n",
    "stdF1set3_CTmean_p10tunedXGBoost  = cross_val_score(xgbc_tuned, X, y, scoring=\"f1\", cv = 10).std() ##<3##\n",
    "print('Mean F1 Score: ', avgF1set3_CTmean_p10tunedXGBoost)\n",
    "print('std F1 Score: ', stdF1set3_CTmean_p10tunedXGBoost)"
   ]
  },
  {
   "cell_type": "code",
   "execution_count": 204,
   "id": "c14126af",
   "metadata": {},
   "outputs": [
    {
     "name": "stdout",
     "output_type": "stream",
     "text": [
      "Fitting 5 folds for each of 729 candidates, totalling 3645 fits\n",
      "\n",
      " Time taken: 0 hours 0 minutes and 17.48 seconds.\n",
      "{'colsample_bytree': 0.1, 'eta': 0.01, 'learning_rate': 0.1, 'max_depth': 5, 'min_child_weight': 5, 'subsample': 0.75}\n",
      "Mean F1 Score:  0.2\n",
      "std F1 Score:  0.30550504633038933\n"
     ]
    }
   ],
   "source": [
    "## tuned parameter_set4##\n",
    "\n",
    "start_time = timer(None)\n",
    "# Instantiate the grid search model\n",
    "grid_search = GridSearchCV(estimator = xgbc, param_grid = paramXGBoost_grid4,\n",
    "                           cv = 5, n_jobs = -1, verbose = 2,scoring='f1')\n",
    "# Fit the grid search to the data\n",
    "grid_search.fit(X_train, y_train)\n",
    "\n",
    "timer(start_time)\n",
    "print(grid_search.best_params_)\n",
    "\n",
    "\n",
    "xgbc_tuned = XGBClassifier(subsample=grid_search.best_params_['subsample'],\n",
    "                                   max_depth=grid_search.best_params_['max_depth'],\n",
    "                                   colsample_bytree=grid_search.best_params_['colsample_bytree'],\n",
    "                                   min_child_weight=grid_search.best_params_['min_child_weight'],\n",
    "                                   learning_rate=grid_search.best_params_['learning_rate'],\n",
    "                                   eta=grid_search.best_params_['eta'])\n",
    "xgbc_tuned.fit(X_train,y_train)\n",
    "\n",
    "## results F1 and stdF1 ##\n",
    "avgF1set4_CTmean_p10tunedXGBoost  = cross_val_score(xgbc_tuned, X, y, scoring=\"f1\", cv = 10).mean() ##<3## \n",
    "stdF1set4_CTmean_p10tunedXGBoost = cross_val_score(xgbc_tuned, X, y, scoring=\"f1\", cv = 10).std() ##<3##\n",
    "print('Mean F1 Score: ', avgF1set4_CTmean_p10tunedXGBoost)\n",
    "print('std F1 Score: ', stdF1set4_CTmean_p10tunedXGBoost)"
   ]
  },
  {
   "cell_type": "code",
   "execution_count": null,
   "id": "bf8f91f0",
   "metadata": {},
   "outputs": [],
   "source": [
    "\n"
   ]
  },
  {
   "cell_type": "markdown",
   "id": "abb2c43e",
   "metadata": {},
   "source": [
    "### threshold: 20%"
   ]
  },
  {
   "cell_type": "code",
   "execution_count": 205,
   "id": "ab8ad64a",
   "metadata": {},
   "outputs": [
    {
     "name": "stdout",
     "output_type": "stream",
     "text": [
      "thres_p20 (value,iloc_threshold)(603.0, 399)\n",
      "Mean F1 Score:  0.7566666666666667\n",
      "std F1 Score:  0.21501937897160184\n"
     ]
    }
   ],
   "source": [
    "# threshold: 20%\n",
    "\n",
    "f_df123_1 = pd.read_csv('f_df123_xgb.csv')\n",
    "f_df123_1 = f_df123_1.set_index('Feature')\n",
    "f_df123_1 = f_df123_1.sort_values(by=['mean'])\n",
    "\n",
    "\n",
    "k =(filter_arr(f_df123_1['mean'], thres_p20-1))\n",
    "print(\"thres_p20 (value,iloc_threshold)\" + str(filter_arr(f_df123_1['mean'], thres_p20-1)))\n",
    "f_df123_1 = f_df123_1.iloc[:k[1]+1]\n",
    "\n",
    "\n",
    "df_filter = df1.filter(items=f_df123_1.index)\n",
    "X = df_filter\n",
    "y = df1['class']\n",
    "\n",
    "\n",
    "\n",
    "\n",
    "## before tuned ##\n",
    "X_train, X_test, y_train, y_test = train_test_split(X, y, test_size=0.2, random_state=123) \n",
    "xgbc = XGBClassifier(random_state=123)\n",
    "xgbc.fit(X_train,y_train)\n",
    "## results F1 and stdF1 ##\n",
    "avgF1_CTmean_p20XGBoost = cross_val_score(xgbc, X, y, scoring=\"f1\", cv = 10).mean() ##<3## \n",
    "stdF1_CTmean_p20XGBoost = cross_val_score(xgbc, X, y, scoring=\"f1\", cv = 10).std() ##<3##\n",
    "print('Mean F1 Score: ', avgF1_CTmean_p20XGBoost)\n",
    "print('std F1 Score: ', stdF1_CTmean_p20XGBoost)"
   ]
  },
  {
   "cell_type": "code",
   "execution_count": 206,
   "id": "9cd70271",
   "metadata": {},
   "outputs": [
    {
     "data": {
      "text/plain": [
       "400"
      ]
     },
     "execution_count": 206,
     "metadata": {},
     "output_type": "execute_result"
    }
   ],
   "source": [
    "n_CTmean_p20XGBoost = k[1]+1\n",
    "n_CTmean_p20XGBoost "
   ]
  },
  {
   "cell_type": "code",
   "execution_count": 207,
   "id": "32237e90",
   "metadata": {},
   "outputs": [
    {
     "name": "stdout",
     "output_type": "stream",
     "text": [
      "Fitting 5 folds for each of 729 candidates, totalling 3645 fits\n",
      "\n",
      " Time taken: 0 hours 0 minutes and 30.37 seconds.\n",
      "{'colsample_bytree': 0.5, 'eta': 0.01, 'learning_rate': 0.05, 'max_depth': 5, 'min_child_weight': 1, 'subsample': 0.5}\n",
      "Mean F1 Score:  0.7033333333333334\n",
      "std F1 Score:  0.3149779533731069\n"
     ]
    }
   ],
   "source": [
    "## tuned parameter_set1##\n",
    "\n",
    "start_time = timer(None)\n",
    "# Instantiate the grid search model\n",
    "grid_search = GridSearchCV(estimator = xgbc, param_grid = paramXGBoost_grid1,\n",
    "                           cv = 5, n_jobs = -1, verbose = 2,scoring='f1')\n",
    "# Fit the grid search to the data\n",
    "grid_search.fit(X_train, y_train)\n",
    "\n",
    "timer(start_time)\n",
    "print(grid_search.best_params_)\n",
    "\n",
    "\n",
    "xgbc_tuned = XGBClassifier(subsample=grid_search.best_params_['subsample'],\n",
    "                                   max_depth=grid_search.best_params_['max_depth'],\n",
    "                                   colsample_bytree=grid_search.best_params_['colsample_bytree'],\n",
    "                                   min_child_weight=grid_search.best_params_['min_child_weight'],\n",
    "                                   learning_rate=grid_search.best_params_['learning_rate'],\n",
    "                                   eta=grid_search.best_params_['eta'])\n",
    "xgbc_tuned.fit(X_train,y_train)\n",
    "\n",
    "## results F1 and stdF1 ##\n",
    "avgF1set1_CTmean_p20tunedXGBoost  = cross_val_score(xgbc_tuned, X, y, scoring=\"f1\", cv = 10).mean() ##<3## \n",
    "stdF1set1_CTmean_p20tunedXGBoost  = cross_val_score(xgbc_tuned, X, y, scoring=\"f1\", cv = 10).std() ##<3##\n",
    "print('Mean F1 Score: ', avgF1set1_CTmean_p20tunedXGBoost)\n",
    "print('std F1 Score: ', stdF1set1_CTmean_p20tunedXGBoost)"
   ]
  },
  {
   "cell_type": "code",
   "execution_count": 208,
   "id": "39f85c08",
   "metadata": {},
   "outputs": [
    {
     "name": "stdout",
     "output_type": "stream",
     "text": [
      "Fitting 5 folds for each of 729 candidates, totalling 3645 fits\n",
      "\n",
      " Time taken: 0 hours 0 minutes and 45.12 seconds.\n",
      "{'colsample_bytree': 0.75, 'eta': 0.01, 'learning_rate': 0.1, 'max_depth': 7, 'min_child_weight': 0.1, 'subsample': 0.2}\n",
      "Mean F1 Score:  0.669047619047619\n",
      "std F1 Score:  0.3738095238095238\n"
     ]
    }
   ],
   "source": [
    "## tuned parameter_set2##\n",
    "\n",
    "start_time = timer(None)\n",
    "# Instantiate the grid search model\n",
    "grid_search = GridSearchCV(estimator = xgbc, param_grid = paramXGBoost_grid2,\n",
    "                           cv = 5, n_jobs = -1, verbose = 2,scoring='f1')\n",
    "# Fit the grid search to the data\n",
    "grid_search.fit(X_train, y_train)\n",
    "\n",
    "timer(start_time)\n",
    "print(grid_search.best_params_)\n",
    "\n",
    "\n",
    "xgbc_tuned = XGBClassifier(subsample=grid_search.best_params_['subsample'],\n",
    "                                   max_depth=grid_search.best_params_['max_depth'],\n",
    "                                   colsample_bytree=grid_search.best_params_['colsample_bytree'],\n",
    "                                   min_child_weight=grid_search.best_params_['min_child_weight'],\n",
    "                                   learning_rate=grid_search.best_params_['learning_rate'],\n",
    "                                   eta=grid_search.best_params_['eta'])\n",
    "xgbc_tuned.fit(X_train,y_train)\n",
    "\n",
    "## results F1 and stdF1 ##\n",
    "avgF1set2_CTmean_p20tunedXGBoost = cross_val_score(xgbc_tuned, X, y, scoring=\"f1\", cv = 10).mean() ##<3## \n",
    "stdF1set2_CTmean_p20tunedXGBoost  = cross_val_score(xgbc_tuned, X, y, scoring=\"f1\", cv = 10).std() ##<3##\n",
    "print('Mean F1 Score: ', avgF1set2_CTmean_p20tunedXGBoost)\n",
    "print('std F1 Score: ', stdF1set2_CTmean_p20tunedXGBoost)"
   ]
  },
  {
   "cell_type": "code",
   "execution_count": 209,
   "id": "b814e635",
   "metadata": {},
   "outputs": [
    {
     "name": "stdout",
     "output_type": "stream",
     "text": [
      "Fitting 5 folds for each of 729 candidates, totalling 3645 fits\n",
      "\n",
      " Time taken: 0 hours 0 minutes and 21.07 seconds.\n",
      "{'colsample_bytree': 0.1, 'eta': 0.01, 'learning_rate': 0.1, 'max_depth': 10, 'min_child_weight': 20, 'subsample': 0.2}\n",
      "Mean F1 Score:  0.0\n",
      "std F1 Score:  0.0\n"
     ]
    }
   ],
   "source": [
    "## tuned parameter_set3##\n",
    "\n",
    "start_time = timer(None)\n",
    "# Instantiate the grid search model\n",
    "grid_search = GridSearchCV(estimator = xgbc, param_grid = paramXGBoost_grid3,\n",
    "                           cv = 5, n_jobs = -1, verbose = 2,scoring='f1')\n",
    "# Fit the grid search to the data\n",
    "grid_search.fit(X_train, y_train)\n",
    "\n",
    "timer(start_time)\n",
    "print(grid_search.best_params_)\n",
    "\n",
    "\n",
    "xgbc_tuned = XGBClassifier(subsample=grid_search.best_params_['subsample'],\n",
    "                                   max_depth=grid_search.best_params_['max_depth'],\n",
    "                                   colsample_bytree=grid_search.best_params_['colsample_bytree'],\n",
    "                                   min_child_weight=grid_search.best_params_['min_child_weight'],\n",
    "                                   learning_rate=grid_search.best_params_['learning_rate'],\n",
    "                                   eta=grid_search.best_params_['eta'])\n",
    "xgbc_tuned.fit(X_train,y_train)\n",
    "\n",
    "## results F1 and stdF1 ##\n",
    "avgF1set3_CTmean_p20tunedXGBoost  = cross_val_score(xgbc_tuned, X, y, scoring=\"f1\", cv = 10).mean() ##<3## \n",
    "stdF1set3_CTmean_p20tunedXGBoost  = cross_val_score(xgbc_tuned, X, y, scoring=\"f1\", cv = 10).std() ##<3##\n",
    "print('Mean F1 Score: ', avgF1set3_CTmean_p20tunedXGBoost)\n",
    "print('std F1 Score: ', stdF1set3_CTmean_p20tunedXGBoost)"
   ]
  },
  {
   "cell_type": "code",
   "execution_count": 210,
   "id": "ac8f7c17",
   "metadata": {},
   "outputs": [
    {
     "name": "stdout",
     "output_type": "stream",
     "text": [
      "Fitting 5 folds for each of 729 candidates, totalling 3645 fits\n",
      "\n",
      " Time taken: 0 hours 0 minutes and 16.65 seconds.\n",
      "{'colsample_bytree': 0.1, 'eta': 0.01, 'learning_rate': 0.1, 'max_depth': 5, 'min_child_weight': 5, 'subsample': 0.75}\n",
      "Mean F1 Score:  0.13333333333333333\n",
      "std F1 Score:  0.26666666666666666\n"
     ]
    }
   ],
   "source": [
    "## tuned parameter_set4##\n",
    "\n",
    "start_time = timer(None)\n",
    "# Instantiate the grid search model\n",
    "grid_search = GridSearchCV(estimator = xgbc, param_grid = paramXGBoost_grid4,\n",
    "                           cv = 5, n_jobs = -1, verbose = 2,scoring='f1')\n",
    "# Fit the grid search to the data\n",
    "grid_search.fit(X_train, y_train)\n",
    "\n",
    "timer(start_time)\n",
    "print(grid_search.best_params_)\n",
    "\n",
    "\n",
    "xgbc_tuned = XGBClassifier(subsample=grid_search.best_params_['subsample'],\n",
    "                                   max_depth=grid_search.best_params_['max_depth'],\n",
    "                                   colsample_bytree=grid_search.best_params_['colsample_bytree'],\n",
    "                                   min_child_weight=grid_search.best_params_['min_child_weight'],\n",
    "                                   learning_rate=grid_search.best_params_['learning_rate'],\n",
    "                                   eta=grid_search.best_params_['eta'])\n",
    "xgbc_tuned.fit(X_train,y_train)\n",
    "\n",
    "## results F1 and stdF1 ##\n",
    "avgF1set4_CTmean_p20tunedXGBoost  = cross_val_score(xgbc_tuned, X, y, scoring=\"f1\", cv = 10).mean() ##<3## \n",
    "stdF1set4_CTmean_p20tunedXGBoost = cross_val_score(xgbc_tuned, X, y, scoring=\"f1\", cv = 10).std() ##<3##\n",
    "print('Mean F1 Score: ', avgF1set4_CTmean_p20tunedXGBoost)\n",
    "print('std F1 Score: ', stdF1set4_CTmean_p20tunedXGBoost)"
   ]
  },
  {
   "cell_type": "code",
   "execution_count": null,
   "id": "f75834a6",
   "metadata": {},
   "outputs": [],
   "source": []
  },
  {
   "cell_type": "code",
   "execution_count": null,
   "id": "04c79fb0",
   "metadata": {},
   "outputs": [],
   "source": []
  },
  {
   "cell_type": "markdown",
   "id": "e3912c22",
   "metadata": {},
   "source": [
    "## harmo"
   ]
  },
  {
   "cell_type": "markdown",
   "id": "01f3d4b5",
   "metadata": {},
   "source": [
    "### threshold: logbase2(n)"
   ]
  },
  {
   "cell_type": "code",
   "execution_count": 211,
   "id": "679b2c3b",
   "metadata": {},
   "outputs": [
    {
     "name": "stdout",
     "output_type": "stream",
     "text": [
      "thres_base2n (value,iloc_threshold)(4.917073170731707, 5)\n",
      "Mean F1 Score:  0.5757142857142857\n",
      "std F1 Score:  0.3411096338612048\n"
     ]
    }
   ],
   "source": [
    "# threshold: logbase2(n)\n",
    "\n",
    "\n",
    "f_df123_1 = pd.read_csv('f_df123_xgb.csv')\n",
    "f_df123_1 = f_df123_1.set_index('Feature')\n",
    "f_df123_1 = f_df123_1.sort_values(by=['harmo'])\n",
    "\n",
    "\n",
    "k =(filter_arr(f_df123_1['harmo'], thres_base2n-1))\n",
    "print(\"thres_base2n (value,iloc_threshold)\" + str(filter_arr(f_df123_1['harmo'], thres_base2n-1)))\n",
    "f_df123_1 = f_df123_1.iloc[:k[1]+1]\n",
    "\n",
    "\n",
    "df_filter = df1.filter(items=f_df123_1.index)\n",
    "X = df_filter\n",
    "y = df1['class']\n",
    "\n",
    "\n",
    "\n",
    "\n",
    "## before tuned ##\n",
    "X_train, X_test, y_train, y_test = train_test_split(X, y, test_size=0.2, random_state=123) \n",
    "xgbc = XGBClassifier(random_state=123)\n",
    "xgbc.fit(X_train,y_train)\n",
    "## results F1 and stdF1 ##\n",
    "avgF1_CTharmo_base2XGBoost = cross_val_score(xgbc, X, y, scoring=\"f1\", cv = 10).mean() ##<3## \n",
    "stdF1_CTharmo_base2XGBoost = cross_val_score(xgbc, X, y, scoring=\"f1\", cv = 10).std() ##<3##\n",
    "print('Mean F1 Score: ', avgF1_CTharmo_base2XGBoost)\n",
    "print('std F1 Score: ', stdF1_CTharmo_base2XGBoost)"
   ]
  },
  {
   "cell_type": "code",
   "execution_count": 212,
   "id": "4e7cf963",
   "metadata": {},
   "outputs": [
    {
     "data": {
      "text/plain": [
       "6"
      ]
     },
     "execution_count": 212,
     "metadata": {},
     "output_type": "execute_result"
    }
   ],
   "source": [
    "n_CTharmo_base2XGBoost = k[1]+1\n",
    "n_CTharmo_base2XGBoost"
   ]
  },
  {
   "cell_type": "code",
   "execution_count": 213,
   "id": "5c77d0e3",
   "metadata": {},
   "outputs": [
    {
     "name": "stdout",
     "output_type": "stream",
     "text": [
      "Fitting 5 folds for each of 729 candidates, totalling 3645 fits\n",
      "\n",
      " Time taken: 0 hours 0 minutes and 13.2 seconds.\n",
      "{'colsample_bytree': 0.5, 'eta': 0.01, 'learning_rate': 0.1, 'max_depth': 5, 'min_child_weight': 1, 'subsample': 0.5}\n",
      "Mean F1 Score:  0.72\n",
      "std F1 Score:  0.3081125335544358\n"
     ]
    }
   ],
   "source": [
    "## tuned parameter_set1##\n",
    "\n",
    "start_time = timer(None)\n",
    "# Instantiate the grid search model\n",
    "grid_search = GridSearchCV(estimator = xgbc, param_grid = paramXGBoost_grid1,\n",
    "                           cv = 5, n_jobs = -1, verbose = 2,scoring='f1')\n",
    "# Fit the grid search to the data\n",
    "grid_search.fit(X_train, y_train)\n",
    "\n",
    "timer(start_time)\n",
    "print(grid_search.best_params_)\n",
    "\n",
    "\n",
    "xgbc_tuned = XGBClassifier(subsample=grid_search.best_params_['subsample'],\n",
    "                                   max_depth=grid_search.best_params_['max_depth'],\n",
    "                                   colsample_bytree=grid_search.best_params_['colsample_bytree'],\n",
    "                                   min_child_weight=grid_search.best_params_['min_child_weight'],\n",
    "                                   learning_rate=grid_search.best_params_['learning_rate'],\n",
    "                                   eta=grid_search.best_params_['eta'])\n",
    "xgbc_tuned.fit(X_train,y_train)\n",
    "\n",
    "## results F1 and stdF1 ##\n",
    "avgF1set1_CTharmo_base2tunedXGBoost  = cross_val_score(xgbc_tuned, X, y, scoring=\"f1\", cv = 10).mean() ##<3## \n",
    "stdF1set1_CTharmo_base2tunedXGBoost  = cross_val_score(xgbc_tuned, X, y, scoring=\"f1\", cv = 10).std() ##<3##\n",
    "print('Mean F1 Score: ', avgF1set1_CTharmo_base2tunedXGBoost)\n",
    "print('std F1 Score: ', stdF1set1_CTharmo_base2tunedXGBoost)"
   ]
  },
  {
   "cell_type": "code",
   "execution_count": 214,
   "id": "5a0d50c9",
   "metadata": {},
   "outputs": [
    {
     "name": "stdout",
     "output_type": "stream",
     "text": [
      "Fitting 5 folds for each of 729 candidates, totalling 3645 fits\n",
      "\n",
      " Time taken: 0 hours 0 minutes and 14.21 seconds.\n",
      "{'colsample_bytree': 0.5, 'eta': 0.01, 'learning_rate': 0.01, 'max_depth': 7, 'min_child_weight': 0.1, 'subsample': 0.6}\n",
      "Mean F1 Score:  0.6257142857142857\n",
      "std F1 Score:  0.3623318282203436\n"
     ]
    }
   ],
   "source": [
    "## tuned parameter_set2##\n",
    "\n",
    "start_time = timer(None)\n",
    "# Instantiate the grid search model\n",
    "grid_search = GridSearchCV(estimator = xgbc, param_grid = paramXGBoost_grid2,\n",
    "                           cv = 5, n_jobs = -1, verbose = 2,scoring='f1')\n",
    "# Fit the grid search to the data\n",
    "grid_search.fit(X_train, y_train)\n",
    "\n",
    "timer(start_time)\n",
    "print(grid_search.best_params_)\n",
    "\n",
    "\n",
    "xgbc_tuned = XGBClassifier(subsample=grid_search.best_params_['subsample'],\n",
    "                                   max_depth=grid_search.best_params_['max_depth'],\n",
    "                                   colsample_bytree=grid_search.best_params_['colsample_bytree'],\n",
    "                                   min_child_weight=grid_search.best_params_['min_child_weight'],\n",
    "                                   learning_rate=grid_search.best_params_['learning_rate'],\n",
    "                                   eta=grid_search.best_params_['eta'])\n",
    "xgbc_tuned.fit(X_train,y_train)\n",
    "\n",
    "## results F1 and stdF1 ##\n",
    "avgF1set2_CTharmo_base2tunedXGBoost  = cross_val_score(xgbc_tuned, X, y, scoring=\"f1\", cv = 10).mean() ##<3## \n",
    "stdF1set2_CTharmo_base2tunedXGBoost  = cross_val_score(xgbc_tuned, X, y, scoring=\"f1\", cv = 10).std() ##<3##\n",
    "print('Mean F1 Score: ', avgF1set2_CTharmo_base2tunedXGBoost)\n",
    "print('std F1 Score: ', stdF1set2_CTharmo_base2tunedXGBoost)"
   ]
  },
  {
   "cell_type": "code",
   "execution_count": 215,
   "id": "061a79a8",
   "metadata": {},
   "outputs": [
    {
     "name": "stdout",
     "output_type": "stream",
     "text": [
      "Fitting 5 folds for each of 729 candidates, totalling 3645 fits\n",
      "\n",
      " Time taken: 0 hours 0 minutes and 10.73 seconds.\n",
      "{'colsample_bytree': 0.1, 'eta': 0.01, 'learning_rate': 0.1, 'max_depth': 10, 'min_child_weight': 20, 'subsample': 0.2}\n",
      "Mean F1 Score:  0.0\n",
      "std F1 Score:  0.0\n"
     ]
    }
   ],
   "source": [
    "## tuned parameter_set3##\n",
    "\n",
    "start_time = timer(None)\n",
    "# Instantiate the grid search model\n",
    "grid_search = GridSearchCV(estimator = xgbc, param_grid = paramXGBoost_grid3,\n",
    "                           cv = 5, n_jobs = -1, verbose = 2,scoring='f1')\n",
    "# Fit the grid search to the data\n",
    "grid_search.fit(X_train, y_train)\n",
    "\n",
    "timer(start_time)\n",
    "print(grid_search.best_params_)\n",
    "\n",
    "\n",
    "xgbc_tuned = XGBClassifier(subsample=grid_search.best_params_['subsample'],\n",
    "                                   max_depth=grid_search.best_params_['max_depth'],\n",
    "                                   colsample_bytree=grid_search.best_params_['colsample_bytree'],\n",
    "                                   min_child_weight=grid_search.best_params_['min_child_weight'],\n",
    "                                   learning_rate=grid_search.best_params_['learning_rate'],\n",
    "                                   eta=grid_search.best_params_['eta'])\n",
    "xgbc_tuned.fit(X_train,y_train)\n",
    "\n",
    "## results F1 and stdF1 ##\n",
    "avgF1set3_CTharmo_base2tunedXGBoost  = cross_val_score(xgbc_tuned, X, y, scoring=\"f1\", cv = 10).mean() ##<3## \n",
    "stdF1set3_CTharmo_base2tunedXGBoost  = cross_val_score(xgbc_tuned, X, y, scoring=\"f1\", cv = 10).std() ##<3##\n",
    "print('Mean F1 Score: ', avgF1set3_CTharmo_base2tunedXGBoost)\n",
    "print('std F1 Score: ', stdF1set3_CTharmo_base2tunedXGBoost)"
   ]
  },
  {
   "cell_type": "code",
   "execution_count": 216,
   "id": "ee3d1626",
   "metadata": {},
   "outputs": [
    {
     "name": "stdout",
     "output_type": "stream",
     "text": [
      "Fitting 5 folds for each of 729 candidates, totalling 3645 fits\n",
      "\n",
      " Time taken: 0 hours 0 minutes and 10.5 seconds.\n",
      "{'colsample_bytree': 0.1, 'eta': 0.01, 'learning_rate': 0.1, 'max_depth': 5, 'min_child_weight': 5, 'subsample': 0.75}\n",
      "Mean F1 Score:  0.30666666666666664\n",
      "std F1 Score:  0.31580584752872026\n"
     ]
    }
   ],
   "source": [
    "## tuned parameter_set4##\n",
    "\n",
    "start_time = timer(None)\n",
    "# Instantiate the grid search model\n",
    "grid_search = GridSearchCV(estimator = xgbc, param_grid = paramXGBoost_grid4,\n",
    "                           cv = 5, n_jobs = -1, verbose = 2,scoring='f1')\n",
    "# Fit the grid search to the data\n",
    "grid_search.fit(X_train, y_train)\n",
    "\n",
    "timer(start_time)\n",
    "print(grid_search.best_params_)\n",
    "\n",
    "\n",
    "xgbc_tuned = XGBClassifier(subsample=grid_search.best_params_['subsample'],\n",
    "                                   max_depth=grid_search.best_params_['max_depth'],\n",
    "                                   colsample_bytree=grid_search.best_params_['colsample_bytree'],\n",
    "                                   min_child_weight=grid_search.best_params_['min_child_weight'],\n",
    "                                   learning_rate=grid_search.best_params_['learning_rate'],\n",
    "                                   eta=grid_search.best_params_['eta'])\n",
    "xgbc_tuned.fit(X_train,y_train)\n",
    "\n",
    "## results F1 and stdF1 ##\n",
    "avgF1set4_CTharmo_base2tunedXGBoost  = cross_val_score(xgbc_tuned, X, y, scoring=\"f1\", cv = 10).mean() ##<3## \n",
    "stdF1set4_CTharmo_base2tunedXGBoost  = cross_val_score(xgbc_tuned, X, y, scoring=\"f1\", cv = 10).std() ##<3##\n",
    "print('Mean F1 Score: ', avgF1set4_CTharmo_base2tunedXGBoost)\n",
    "print('std F1 Score: ', stdF1set4_CTharmo_base2tunedXGBoost)"
   ]
  },
  {
   "cell_type": "markdown",
   "id": "24628ffc",
   "metadata": {},
   "source": [
    "### threshold: 2.5%"
   ]
  },
  {
   "cell_type": "code",
   "execution_count": 217,
   "id": "c3141550",
   "metadata": {},
   "outputs": [
    {
     "name": "stdout",
     "output_type": "stream",
     "text": [
      "thres_p2_5 (value,iloc_threshold)(43.38522954091817, 49)\n",
      "Mean F1 Score:  0.6366666666666667\n",
      "std F1 Score:  0.278268455512538\n"
     ]
    }
   ],
   "source": [
    "# threshold: 2.5%\n",
    "\n",
    "f_df123_1 = pd.read_csv('f_df123_xgb.csv')\n",
    "f_df123_1 = f_df123_1.set_index('Feature')\n",
    "f_df123_1 = f_df123_1.sort_values(by=['harmo'])\n",
    "\n",
    "\n",
    "k =(filter_arr(f_df123_1['harmo'], thres_p2_5-1))\n",
    "print(\"thres_p2_5 (value,iloc_threshold)\" + str(filter_arr(f_df123_1['harmo'], thres_p2_5-1)))\n",
    "f_df123_1 = f_df123_1.iloc[:k[1]+1]\n",
    "\n",
    "\n",
    "df_filter = df1.filter(items=f_df123_1.index)\n",
    "X = df_filter\n",
    "y = df1['class']\n",
    "\n",
    "\n",
    "\n",
    "\n",
    "## before tuned ##\n",
    "X_train, X_test, y_train, y_test = train_test_split(X, y, test_size=0.2, random_state=123) \n",
    "xgbc = XGBClassifier(random_state=123)\n",
    "xgbc.fit(X_train,y_train)\n",
    "## results F1 and stdF1 ##\n",
    "avgF1_CTharmo_p2_5XGBoost = cross_val_score(xgbc, X, y, scoring=\"f1\", cv = 10).mean() ##<3## \n",
    "stdF1_CTharmo_p2_5XGBoost = cross_val_score(xgbc, X, y, scoring=\"f1\", cv = 10).std() ##<3##\n",
    "print('Mean F1 Score: ', avgF1_CTharmo_p2_5XGBoost)\n",
    "print('std F1 Score: ', stdF1_CTharmo_p2_5XGBoost)"
   ]
  },
  {
   "cell_type": "code",
   "execution_count": 218,
   "id": "422ba317",
   "metadata": {},
   "outputs": [
    {
     "data": {
      "text/plain": [
       "50"
      ]
     },
     "execution_count": 218,
     "metadata": {},
     "output_type": "execute_result"
    }
   ],
   "source": [
    "n_CTharmo_p2_5XGBoost = k[1]+1\n",
    "n_CTharmo_p2_5XGBoost"
   ]
  },
  {
   "cell_type": "code",
   "execution_count": 219,
   "id": "0e6670a0",
   "metadata": {},
   "outputs": [
    {
     "name": "stdout",
     "output_type": "stream",
     "text": [
      "Fitting 5 folds for each of 729 candidates, totalling 3645 fits\n",
      "\n",
      " Time taken: 0 hours 0 minutes and 17.73 seconds.\n",
      "{'colsample_bytree': 0.75, 'eta': 0.01, 'learning_rate': 0.1, 'max_depth': 5, 'min_child_weight': 1, 'subsample': 0.75}\n",
      "Mean F1 Score:  0.7890476190476191\n",
      "std F1 Score:  0.21157063009613214\n"
     ]
    }
   ],
   "source": [
    "## tuned parameter_set1##\n",
    "\n",
    "start_time = timer(None)\n",
    "# Instantiate the grid search model\n",
    "grid_search = GridSearchCV(estimator = xgbc, param_grid = paramXGBoost_grid1,\n",
    "                           cv = 5, n_jobs = -1, verbose = 2,scoring='f1')\n",
    "# Fit the grid search to the data\n",
    "grid_search.fit(X_train, y_train)\n",
    "\n",
    "timer(start_time)\n",
    "print(grid_search.best_params_)\n",
    "\n",
    "\n",
    "xgbc_tuned = XGBClassifier(subsample=grid_search.best_params_['subsample'],\n",
    "                                   max_depth=grid_search.best_params_['max_depth'],\n",
    "                                   colsample_bytree=grid_search.best_params_['colsample_bytree'],\n",
    "                                   min_child_weight=grid_search.best_params_['min_child_weight'],\n",
    "                                   learning_rate=grid_search.best_params_['learning_rate'],\n",
    "                                   eta=grid_search.best_params_['eta'])\n",
    "xgbc_tuned.fit(X_train,y_train)\n",
    "\n",
    "## results F1 and stdF1 ##\n",
    "avgF1set1_CTharmo_p2_5tunedXGBoost  = cross_val_score(xgbc_tuned, X, y, scoring=\"f1\", cv = 10).mean() ##<3## \n",
    "stdF1set1_CTharmo_p2_5tunedXGBoost  = cross_val_score(xgbc_tuned, X, y, scoring=\"f1\", cv = 10).std() ##<3##\n",
    "print('Mean F1 Score: ', avgF1set1_CTharmo_p2_5tunedXGBoost)\n",
    "print('std F1 Score: ', stdF1set1_CTharmo_p2_5tunedXGBoost)"
   ]
  },
  {
   "cell_type": "code",
   "execution_count": 220,
   "id": "b9dac3ee",
   "metadata": {},
   "outputs": [
    {
     "name": "stdout",
     "output_type": "stream",
     "text": [
      "Fitting 5 folds for each of 729 candidates, totalling 3645 fits\n",
      "\n",
      " Time taken: 0 hours 0 minutes and 18.84 seconds.\n",
      "{'colsample_bytree': 0.75, 'eta': 0.01, 'learning_rate': 0.1, 'max_depth': 7, 'min_child_weight': 0.5, 'subsample': 0.2}\n",
      "Mean F1 Score:  0.7057142857142857\n",
      "std F1 Score:  0.2979430617202067\n"
     ]
    }
   ],
   "source": [
    "## tuned parameter_set2##\n",
    "\n",
    "start_time = timer(None)\n",
    "# Instantiate the grid search model\n",
    "grid_search = GridSearchCV(estimator = xgbc, param_grid = paramXGBoost_grid2,\n",
    "                           cv = 5, n_jobs = -1, verbose = 2,scoring='f1')\n",
    "# Fit the grid search to the data\n",
    "grid_search.fit(X_train, y_train)\n",
    "\n",
    "timer(start_time)\n",
    "print(grid_search.best_params_)\n",
    "\n",
    "\n",
    "xgbc_tuned = XGBClassifier(subsample=grid_search.best_params_['subsample'],\n",
    "                                   max_depth=grid_search.best_params_['max_depth'],\n",
    "                                   colsample_bytree=grid_search.best_params_['colsample_bytree'],\n",
    "                                   min_child_weight=grid_search.best_params_['min_child_weight'],\n",
    "                                   learning_rate=grid_search.best_params_['learning_rate'],\n",
    "                                   eta=grid_search.best_params_['eta'])\n",
    "xgbc_tuned.fit(X_train,y_train)\n",
    "\n",
    "## results F1 and stdF1 ##\n",
    "avgF1set2_CTharmo_p2_5tunedXGBoost  = cross_val_score(xgbc_tuned, X, y, scoring=\"f1\", cv = 10).mean() ##<3## \n",
    "stdF1set2_CTharmo_p2_5tunedXGBoost  = cross_val_score(xgbc_tuned, X, y, scoring=\"f1\", cv = 10).std() ##<3##\n",
    "print('Mean F1 Score: ', avgF1set2_CTharmo_p2_5tunedXGBoost)\n",
    "print('std F1 Score: ', stdF1set2_CTharmo_p2_5tunedXGBoost)"
   ]
  },
  {
   "cell_type": "code",
   "execution_count": 221,
   "id": "471cdb7d",
   "metadata": {},
   "outputs": [
    {
     "name": "stdout",
     "output_type": "stream",
     "text": [
      "Fitting 5 folds for each of 729 candidates, totalling 3645 fits\n",
      "\n",
      " Time taken: 0 hours 0 minutes and 15.36 seconds.\n",
      "{'colsample_bytree': 0.1, 'eta': 0.01, 'learning_rate': 0.1, 'max_depth': 10, 'min_child_weight': 20, 'subsample': 0.2}\n",
      "Mean F1 Score:  0.0\n",
      "std F1 Score:  0.0\n"
     ]
    }
   ],
   "source": [
    "## tuned parameter_set3##\n",
    "\n",
    "start_time = timer(None)\n",
    "# Instantiate the grid search model\n",
    "grid_search = GridSearchCV(estimator = xgbc, param_grid = paramXGBoost_grid3,\n",
    "                           cv = 5, n_jobs = -1, verbose = 2,scoring='f1')\n",
    "# Fit the grid search to the data\n",
    "grid_search.fit(X_train, y_train)\n",
    "\n",
    "timer(start_time)\n",
    "print(grid_search.best_params_)\n",
    "\n",
    "\n",
    "xgbc_tuned = XGBClassifier(subsample=grid_search.best_params_['subsample'],\n",
    "                                   max_depth=grid_search.best_params_['max_depth'],\n",
    "                                   colsample_bytree=grid_search.best_params_['colsample_bytree'],\n",
    "                                   min_child_weight=grid_search.best_params_['min_child_weight'],\n",
    "                                   learning_rate=grid_search.best_params_['learning_rate'],\n",
    "                                   eta=grid_search.best_params_['eta'])\n",
    "xgbc_tuned.fit(X_train,y_train)\n",
    "\n",
    "## results F1 and stdF1 ##\n",
    "avgF1set3_CTharmo_p2_5tunedXGBoost  = cross_val_score(xgbc_tuned, X, y, scoring=\"f1\", cv = 10).mean() ##<3## \n",
    "stdF1set3_CTharmo_p2_5tunedXGBoost  = cross_val_score(xgbc_tuned, X, y, scoring=\"f1\", cv = 10).std() ##<3##\n",
    "print('Mean F1 Score: ', avgF1set3_CTharmo_p2_5tunedXGBoost)\n",
    "print('std F1 Score: ', stdF1set3_CTharmo_p2_5tunedXGBoost)"
   ]
  },
  {
   "cell_type": "code",
   "execution_count": 222,
   "id": "abd439f3",
   "metadata": {},
   "outputs": [
    {
     "name": "stdout",
     "output_type": "stream",
     "text": [
      "Fitting 5 folds for each of 729 candidates, totalling 3645 fits\n",
      "\n",
      " Time taken: 0 hours 0 minutes and 11.37 seconds.\n",
      "{'colsample_bytree': 0.1, 'eta': 0.01, 'learning_rate': 0.1, 'max_depth': 5, 'min_child_weight': 5, 'subsample': 0.75}\n",
      "Mean F1 Score:  0.4633333333333334\n",
      "std F1 Score:  0.3107160189698054\n"
     ]
    }
   ],
   "source": [
    "## tuned parameter_set4##\n",
    "\n",
    "start_time = timer(None)\n",
    "# Instantiate the grid search model\n",
    "grid_search = GridSearchCV(estimator = xgbc, param_grid = paramXGBoost_grid4,\n",
    "                           cv = 5, n_jobs = -1, verbose = 2,scoring='f1')\n",
    "# Fit the grid search to the data\n",
    "grid_search.fit(X_train, y_train)\n",
    "\n",
    "timer(start_time)\n",
    "print(grid_search.best_params_)\n",
    "\n",
    "\n",
    "xgbc_tuned = XGBClassifier(subsample=grid_search.best_params_['subsample'],\n",
    "                                   max_depth=grid_search.best_params_['max_depth'],\n",
    "                                   colsample_bytree=grid_search.best_params_['colsample_bytree'],\n",
    "                                   min_child_weight=grid_search.best_params_['min_child_weight'],\n",
    "                                   learning_rate=grid_search.best_params_['learning_rate'],\n",
    "                                   eta=grid_search.best_params_['eta'])\n",
    "xgbc_tuned.fit(X_train,y_train)\n",
    "\n",
    "## results F1 and stdF1 ##\n",
    "avgF1set4_CTharmo_p2_5tunedXGBoost  = cross_val_score(xgbc_tuned, X, y, scoring=\"f1\", cv = 10).mean() ##<3## \n",
    "stdF1set4_CTharmo_p2_5tunedXGBoost  = cross_val_score(xgbc_tuned, X, y, scoring=\"f1\", cv = 10).std() ##<3##\n",
    "print('Mean F1 Score: ', avgF1set4_CTharmo_p2_5tunedXGBoost)\n",
    "print('std F1 Score: ', stdF1set4_CTharmo_p2_5tunedXGBoost)"
   ]
  },
  {
   "cell_type": "raw",
   "id": "8f640012",
   "metadata": {},
   "source": []
  },
  {
   "cell_type": "code",
   "execution_count": null,
   "id": "2a58aa7b",
   "metadata": {},
   "outputs": [],
   "source": []
  },
  {
   "cell_type": "code",
   "execution_count": null,
   "id": "747f8382",
   "metadata": {},
   "outputs": [],
   "source": []
  },
  {
   "cell_type": "code",
   "execution_count": null,
   "id": "dcccf250",
   "metadata": {},
   "outputs": [],
   "source": []
  },
  {
   "cell_type": "markdown",
   "id": "55364da4",
   "metadata": {},
   "source": [
    "### threshold: 5%"
   ]
  },
  {
   "cell_type": "code",
   "execution_count": 223,
   "id": "2340ff88",
   "metadata": {},
   "outputs": [
    {
     "name": "stdout",
     "output_type": "stream",
     "text": [
      "thres_p5 (value,iloc_threshold)(101.67605778096504, 99)\n",
      "Mean F1 Score:  0.6866666666666668\n",
      "std F1 Score:  0.2937118769588092\n"
     ]
    }
   ],
   "source": [
    "# threshold: 5%\n",
    "\n",
    "f_df123_1 = pd.read_csv('f_df123_xgb.csv')\n",
    "f_df123_1 = f_df123_1.set_index('Feature')\n",
    "f_df123_1 = f_df123_1.sort_values(by=['harmo'])\n",
    "\n",
    "\n",
    "k =(filter_arr(f_df123_1['harmo'], thres_p5-1))\n",
    "print(\"thres_p5 (value,iloc_threshold)\" + str(filter_arr(f_df123_1['harmo'], thres_p5-1)))\n",
    "f_df123_1 = f_df123_1.iloc[:k[1]+1]\n",
    "\n",
    "\n",
    "df_filter = df1.filter(items=f_df123_1.index)\n",
    "X = df_filter\n",
    "y = df1['class']\n",
    "\n",
    "\n",
    "\n",
    "\n",
    "## before tuned ##\n",
    "X_train, X_test, y_train, y_test = train_test_split(X, y, test_size=0.2, random_state=123) \n",
    "xgbc = XGBClassifier(random_state=123)\n",
    "xgbc.fit(X_train,y_train)\n",
    "## results F1 and stdF1 ##\n",
    "avgF1_CTharmo_p5XGBoost = cross_val_score(xgbc, X, y, scoring=\"f1\", cv = 10).mean() ##<3## \n",
    "stdF1_CTharmo_p5XGBoost = cross_val_score(xgbc, X, y, scoring=\"f1\", cv = 10).std() ##<3##\n",
    "print('Mean F1 Score: ', avgF1_CTharmo_p5XGBoost)\n",
    "print('std F1 Score: ', stdF1_CTharmo_p5XGBoost)"
   ]
  },
  {
   "cell_type": "code",
   "execution_count": 224,
   "id": "a9e79fb6",
   "metadata": {},
   "outputs": [
    {
     "data": {
      "text/plain": [
       "100"
      ]
     },
     "execution_count": 224,
     "metadata": {},
     "output_type": "execute_result"
    }
   ],
   "source": [
    "n_CTharmo_p5XGBoost = k[1]+1\n",
    "n_CTharmo_p5XGBoost"
   ]
  },
  {
   "cell_type": "code",
   "execution_count": 225,
   "id": "9891d6bf",
   "metadata": {},
   "outputs": [
    {
     "name": "stdout",
     "output_type": "stream",
     "text": [
      "Fitting 5 folds for each of 729 candidates, totalling 3645 fits\n",
      "\n",
      " Time taken: 0 hours 0 minutes and 14.8 seconds.\n",
      "{'colsample_bytree': 0.5, 'eta': 0.01, 'learning_rate': 0.05, 'max_depth': 5, 'min_child_weight': 1, 'subsample': 0.5}\n",
      "Mean F1 Score:  0.7257142857142858\n",
      "std F1 Score:  0.2148057182633634\n"
     ]
    }
   ],
   "source": [
    "## tuned parameter_set1##\n",
    "\n",
    "start_time = timer(None)\n",
    "# Instantiate the grid search model\n",
    "grid_search = GridSearchCV(estimator = xgbc, param_grid = paramXGBoost_grid1,\n",
    "                           cv = 5, n_jobs = -1, verbose = 2,scoring='f1')\n",
    "# Fit the grid search to the data\n",
    "grid_search.fit(X_train, y_train)\n",
    "\n",
    "timer(start_time)\n",
    "print(grid_search.best_params_)\n",
    "\n",
    "\n",
    "xgbc_tuned = XGBClassifier(subsample=grid_search.best_params_['subsample'],\n",
    "                                   max_depth=grid_search.best_params_['max_depth'],\n",
    "                                   colsample_bytree=grid_search.best_params_['colsample_bytree'],\n",
    "                                   min_child_weight=grid_search.best_params_['min_child_weight'],\n",
    "                                   learning_rate=grid_search.best_params_['learning_rate'],\n",
    "                                   eta=grid_search.best_params_['eta'])\n",
    "xgbc_tuned.fit(X_train,y_train)\n",
    "\n",
    "## results F1 and stdF1 ##\n",
    "avgF1set1_CTharmo_p5tunedXGBoost  = cross_val_score(xgbc_tuned, X, y, scoring=\"f1\", cv = 10).mean() ##<3## \n",
    "stdF1set1_CTharmo_p5tunedXGBoost  = cross_val_score(xgbc_tuned, X, y, scoring=\"f1\", cv = 10).std() ##<3##\n",
    "print('Mean F1 Score: ', avgF1set1_CTharmo_p5tunedXGBoost)\n",
    "print('std F1 Score: ', stdF1set1_CTharmo_p5tunedXGBoost)"
   ]
  },
  {
   "cell_type": "code",
   "execution_count": 226,
   "id": "175f5e9d",
   "metadata": {},
   "outputs": [
    {
     "name": "stdout",
     "output_type": "stream",
     "text": [
      "Fitting 5 folds for each of 729 candidates, totalling 3645 fits\n",
      "\n",
      " Time taken: 0 hours 0 minutes and 19.97 seconds.\n",
      "{'colsample_bytree': 1, 'eta': 0.01, 'learning_rate': 0.05, 'max_depth': 7, 'min_child_weight': 0.5, 'subsample': 0.2}\n",
      "Mean F1 Score:  0.7057142857142857\n",
      "std F1 Score:  0.2979430617202067\n"
     ]
    }
   ],
   "source": [
    "## tuned parameter_set2##\n",
    "\n",
    "start_time = timer(None)\n",
    "# Instantiate the grid search model\n",
    "grid_search = GridSearchCV(estimator = xgbc, param_grid = paramXGBoost_grid2,\n",
    "                           cv = 5, n_jobs = -1, verbose = 2,scoring='f1')\n",
    "# Fit the grid search to the data\n",
    "grid_search.fit(X_train, y_train)\n",
    "\n",
    "timer(start_time)\n",
    "print(grid_search.best_params_)\n",
    "\n",
    "\n",
    "xgbc_tuned = XGBClassifier(subsample=grid_search.best_params_['subsample'],\n",
    "                                   max_depth=grid_search.best_params_['max_depth'],\n",
    "                                   colsample_bytree=grid_search.best_params_['colsample_bytree'],\n",
    "                                   min_child_weight=grid_search.best_params_['min_child_weight'],\n",
    "                                   learning_rate=grid_search.best_params_['learning_rate'],\n",
    "                                   eta=grid_search.best_params_['eta'])\n",
    "xgbc_tuned.fit(X_train,y_train)\n",
    "\n",
    "## results F1 and stdF1 ##\n",
    "avgF1set2_CTharmo_p5tunedXGBoost  = cross_val_score(xgbc_tuned, X, y, scoring=\"f1\", cv = 10).mean() ##<3## \n",
    "stdF1set2_CTharmo_p5tunedXGBoost  = cross_val_score(xgbc_tuned, X, y, scoring=\"f1\", cv = 10).std() ##<3##\n",
    "print('Mean F1 Score: ', avgF1set2_CTharmo_p5tunedXGBoost)\n",
    "print('std F1 Score: ', stdF1set2_CTharmo_p5tunedXGBoost)"
   ]
  },
  {
   "cell_type": "code",
   "execution_count": 227,
   "id": "36aacec5",
   "metadata": {},
   "outputs": [
    {
     "name": "stdout",
     "output_type": "stream",
     "text": [
      "Fitting 5 folds for each of 729 candidates, totalling 3645 fits\n",
      "\n",
      " Time taken: 0 hours 0 minutes and 17.08 seconds.\n",
      "{'colsample_bytree': 0.1, 'eta': 0.01, 'learning_rate': 0.1, 'max_depth': 10, 'min_child_weight': 20, 'subsample': 0.2}\n",
      "Mean F1 Score:  0.0\n",
      "std F1 Score:  0.0\n"
     ]
    }
   ],
   "source": [
    "## tuned parameter_set3##\n",
    "\n",
    "start_time = timer(None)\n",
    "# Instantiate the grid search model\n",
    "grid_search = GridSearchCV(estimator = xgbc, param_grid = paramXGBoost_grid3,\n",
    "                           cv = 5, n_jobs = -1, verbose = 2,scoring='f1')\n",
    "# Fit the grid search to the data\n",
    "grid_search.fit(X_train, y_train)\n",
    "\n",
    "timer(start_time)\n",
    "print(grid_search.best_params_)\n",
    "\n",
    "\n",
    "xgbc_tuned = XGBClassifier(subsample=grid_search.best_params_['subsample'],\n",
    "                                   max_depth=grid_search.best_params_['max_depth'],\n",
    "                                   colsample_bytree=grid_search.best_params_['colsample_bytree'],\n",
    "                                   min_child_weight=grid_search.best_params_['min_child_weight'],\n",
    "                                   learning_rate=grid_search.best_params_['learning_rate'],\n",
    "                                   eta=grid_search.best_params_['eta'])\n",
    "xgbc_tuned.fit(X_train,y_train)\n",
    "\n",
    "## results F1 and stdF1 ##\n",
    "avgF1set3_CTharmo_p5tunedXGBoost  = cross_val_score(xgbc_tuned, X, y, scoring=\"f1\", cv = 10).mean() ##<3## \n",
    "stdF1set3_CTharmo_p5tunedXGBoost  = cross_val_score(xgbc_tuned, X, y, scoring=\"f1\", cv = 10).std() ##<3##\n",
    "print('Mean F1 Score: ', avgF1set3_CTharmo_p5tunedXGBoost)\n",
    "print('std F1 Score: ', stdF1set3_CTharmo_p5tunedXGBoost)"
   ]
  },
  {
   "cell_type": "code",
   "execution_count": 228,
   "id": "75acad4c",
   "metadata": {},
   "outputs": [
    {
     "name": "stdout",
     "output_type": "stream",
     "text": [
      "Fitting 5 folds for each of 729 candidates, totalling 3645 fits\n",
      "\n",
      " Time taken: 0 hours 0 minutes and 12.14 seconds.\n",
      "{'colsample_bytree': 0.1, 'eta': 0.01, 'learning_rate': 0.1, 'max_depth': 5, 'min_child_weight': 5, 'subsample': 0.75}\n",
      "Mean F1 Score:  0.3466666666666666\n",
      "std F1 Score:  0.34871191548325386\n"
     ]
    }
   ],
   "source": [
    "## tuned parameter_set4##\n",
    "\n",
    "start_time = timer(None)\n",
    "# Instantiate the grid search model\n",
    "grid_search = GridSearchCV(estimator = xgbc, param_grid = paramXGBoost_grid4,\n",
    "                           cv = 5, n_jobs = -1, verbose = 2,scoring='f1')\n",
    "# Fit the grid search to the data\n",
    "grid_search.fit(X_train, y_train)\n",
    "\n",
    "timer(start_time)\n",
    "print(grid_search.best_params_)\n",
    "\n",
    "\n",
    "xgbc_tuned = XGBClassifier(subsample=grid_search.best_params_['subsample'],\n",
    "                                   max_depth=grid_search.best_params_['max_depth'],\n",
    "                                   colsample_bytree=grid_search.best_params_['colsample_bytree'],\n",
    "                                   min_child_weight=grid_search.best_params_['min_child_weight'],\n",
    "                                   learning_rate=grid_search.best_params_['learning_rate'],\n",
    "                                   eta=grid_search.best_params_['eta'])\n",
    "xgbc_tuned.fit(X_train,y_train)\n",
    "\n",
    "## results F1 and stdF1 ##\n",
    "avgF1set4_CTharmo_p5tunedXGBoost  = cross_val_score(xgbc_tuned, X, y, scoring=\"f1\", cv = 10).mean() ##<3## \n",
    "stdF1set4_CTharmo_p5tunedXGBoost  = cross_val_score(xgbc_tuned, X, y, scoring=\"f1\", cv = 10).std() ##<3##\n",
    "print('Mean F1 Score: ', avgF1set4_CTharmo_p5tunedXGBoost)\n",
    "print('std F1 Score: ', stdF1set4_CTharmo_p5tunedXGBoost)"
   ]
  },
  {
   "cell_type": "code",
   "execution_count": null,
   "id": "37df3786",
   "metadata": {},
   "outputs": [],
   "source": []
  },
  {
   "cell_type": "code",
   "execution_count": null,
   "id": "d1dd3b82",
   "metadata": {},
   "outputs": [],
   "source": []
  },
  {
   "cell_type": "code",
   "execution_count": null,
   "id": "5c8e3247",
   "metadata": {},
   "outputs": [],
   "source": []
  },
  {
   "cell_type": "markdown",
   "id": "f0467a30",
   "metadata": {},
   "source": [
    "### threshold: 10%"
   ]
  },
  {
   "cell_type": "code",
   "execution_count": 229,
   "id": "c7f88cbe",
   "metadata": {},
   "outputs": [
    {
     "name": "stdout",
     "output_type": "stream",
     "text": [
      "thres_p10 (value,iloc_threshold)(198.11644374508265, 199)\n",
      "Mean F1 Score:  0.62\n",
      "std F1 Score:  0.35907288025320616\n"
     ]
    }
   ],
   "source": [
    "# threshold: 10%\n",
    "\n",
    "f_df123_1 = pd.read_csv('f_df123_xgb.csv')\n",
    "f_df123_1 = f_df123_1.set_index('Feature')\n",
    "f_df123_1 = f_df123_1.sort_values(by=['harmo'])\n",
    "\n",
    "\n",
    "k =(filter_arr(f_df123_1['harmo'], thres_p10-1))\n",
    "print(\"thres_p10 (value,iloc_threshold)\" + str(filter_arr(f_df123_1['harmo'], thres_p10-1)))\n",
    "f_df123_1 = f_df123_1.iloc[:k[1]+1]\n",
    "\n",
    "\n",
    "df_filter = df1.filter(items=f_df123_1.index)\n",
    "X = df_filter\n",
    "y = df1['class']\n",
    "\n",
    "\n",
    "\n",
    "\n",
    "## before tuned ##\n",
    "X_train, X_test, y_train, y_test = train_test_split(X, y, test_size=0.2, random_state=123) \n",
    "xgbc = XGBClassifier(random_state=123)\n",
    "xgbc.fit(X_train,y_train)\n",
    "## results F1 and stdF1 ##\n",
    "avgF1_CTharmo_p10XGBoost = cross_val_score(xgbc, X, y, scoring=\"f1\", cv = 10).mean() ##<3## \n",
    "stdF1_CTharmo_p10XGBoost = cross_val_score(xgbc, X, y, scoring=\"f1\", cv = 10).std() ##<3##\n",
    "print('Mean F1 Score: ', avgF1_CTharmo_p10XGBoost)\n",
    "print('std F1 Score: ', stdF1_CTharmo_p10XGBoost)"
   ]
  },
  {
   "cell_type": "code",
   "execution_count": 230,
   "id": "f2635a57",
   "metadata": {},
   "outputs": [
    {
     "data": {
      "text/plain": [
       "200"
      ]
     },
     "execution_count": 230,
     "metadata": {},
     "output_type": "execute_result"
    }
   ],
   "source": [
    "n_CTharmo_p10XGBoost = k[1]+1\n",
    "n_CTharmo_p10XGBoost"
   ]
  },
  {
   "cell_type": "code",
   "execution_count": 231,
   "id": "6b302f4d",
   "metadata": {},
   "outputs": [
    {
     "name": "stdout",
     "output_type": "stream",
     "text": [
      "Fitting 5 folds for each of 729 candidates, totalling 3645 fits\n",
      "\n",
      " Time taken: 0 hours 0 minutes and 18.14 seconds.\n",
      "{'colsample_bytree': 1, 'eta': 0.01, 'learning_rate': 0.1, 'max_depth': 5, 'min_child_weight': 1, 'subsample': 0.5}\n",
      "Mean F1 Score:  0.6557142857142857\n",
      "std F1 Score:  0.28607952845081286\n"
     ]
    }
   ],
   "source": [
    "## tuned parameter_set1##\n",
    "\n",
    "start_time = timer(None)\n",
    "# Instantiate the grid search model\n",
    "grid_search = GridSearchCV(estimator = xgbc, param_grid = paramXGBoost_grid1,\n",
    "                           cv = 5, n_jobs = -1, verbose = 2,scoring='f1')\n",
    "# Fit the grid search to the data\n",
    "grid_search.fit(X_train, y_train)\n",
    "\n",
    "timer(start_time)\n",
    "print(grid_search.best_params_)\n",
    "\n",
    "\n",
    "xgbc_tuned = XGBClassifier(subsample=grid_search.best_params_['subsample'],\n",
    "                                   max_depth=grid_search.best_params_['max_depth'],\n",
    "                                   colsample_bytree=grid_search.best_params_['colsample_bytree'],\n",
    "                                   min_child_weight=grid_search.best_params_['min_child_weight'],\n",
    "                                   learning_rate=grid_search.best_params_['learning_rate'],\n",
    "                                   eta=grid_search.best_params_['eta'])\n",
    "xgbc_tuned.fit(X_train,y_train)\n",
    "\n",
    "## results F1 and stdF1 ##\n",
    "avgF1set1_CTharmo_p10tunedXGBoost  = cross_val_score(xgbc_tuned, X, y, scoring=\"f1\", cv = 10).mean() ##<3## \n",
    "stdF1set1_CTharmo_p10tunedXGBoost  = cross_val_score(xgbc_tuned, X, y, scoring=\"f1\", cv = 10).std() ##<3##\n",
    "print('Mean F1 Score: ', avgF1set1_CTharmo_p10tunedXGBoost)\n",
    "print('std F1 Score: ', stdF1set1_CTharmo_p10tunedXGBoost)"
   ]
  },
  {
   "cell_type": "code",
   "execution_count": 232,
   "id": "b79af37a",
   "metadata": {},
   "outputs": [
    {
     "name": "stdout",
     "output_type": "stream",
     "text": [
      "Fitting 5 folds for each of 729 candidates, totalling 3645 fits\n",
      "\n",
      " Time taken: 0 hours 0 minutes and 28.59 seconds.\n",
      "{'colsample_bytree': 0.75, 'eta': 0.01, 'learning_rate': 0.05, 'max_depth': 7, 'min_child_weight': 0.1, 'subsample': 0.2}\n",
      "Mean F1 Score:  0.6723809523809524\n",
      "std F1 Score:  0.28133791143065534\n"
     ]
    }
   ],
   "source": [
    "## tuned parameter_set2##\n",
    "\n",
    "start_time = timer(None)\n",
    "# Instantiate the grid search model\n",
    "grid_search = GridSearchCV(estimator = xgbc, param_grid = paramXGBoost_grid2,\n",
    "                           cv = 5, n_jobs = -1, verbose = 2,scoring='f1')\n",
    "# Fit the grid search to the data\n",
    "grid_search.fit(X_train, y_train)\n",
    "\n",
    "timer(start_time)\n",
    "print(grid_search.best_params_)\n",
    "\n",
    "\n",
    "xgbc_tuned = XGBClassifier(subsample=grid_search.best_params_['subsample'],\n",
    "                                   max_depth=grid_search.best_params_['max_depth'],\n",
    "                                   colsample_bytree=grid_search.best_params_['colsample_bytree'],\n",
    "                                   min_child_weight=grid_search.best_params_['min_child_weight'],\n",
    "                                   learning_rate=grid_search.best_params_['learning_rate'],\n",
    "                                   eta=grid_search.best_params_['eta'])\n",
    "xgbc_tuned.fit(X_train,y_train)\n",
    "\n",
    "## results F1 and stdF1 ##\n",
    "avgF1set2_CTharmo_p10tunedXGBoost = cross_val_score(xgbc_tuned, X, y, scoring=\"f1\", cv = 10).mean() ##<3## \n",
    "stdF1set2_CTharmo_p10tunedXGBoost  = cross_val_score(xgbc_tuned, X, y, scoring=\"f1\", cv = 10).std() ##<3##\n",
    "print('Mean F1 Score: ', avgF1set2_CTharmo_p10tunedXGBoost)\n",
    "print('std F1 Score: ', stdF1set2_CTharmo_p10tunedXGBoost)"
   ]
  },
  {
   "cell_type": "code",
   "execution_count": 233,
   "id": "09b5d9e3",
   "metadata": {},
   "outputs": [
    {
     "name": "stdout",
     "output_type": "stream",
     "text": [
      "Fitting 5 folds for each of 729 candidates, totalling 3645 fits\n",
      "\n",
      " Time taken: 0 hours 0 minutes and 17.85 seconds.\n",
      "{'colsample_bytree': 0.1, 'eta': 0.01, 'learning_rate': 0.1, 'max_depth': 10, 'min_child_weight': 20, 'subsample': 0.2}\n",
      "Mean F1 Score:  0.0\n",
      "std F1 Score:  0.0\n"
     ]
    }
   ],
   "source": [
    "## tuned parameter_set3##\n",
    "\n",
    "start_time = timer(None)\n",
    "# Instantiate the grid search model\n",
    "grid_search = GridSearchCV(estimator = xgbc, param_grid = paramXGBoost_grid3,\n",
    "                           cv = 5, n_jobs = -1, verbose = 2,scoring='f1')\n",
    "# Fit the grid search to the data\n",
    "grid_search.fit(X_train, y_train)\n",
    "\n",
    "timer(start_time)\n",
    "print(grid_search.best_params_)\n",
    "\n",
    "\n",
    "xgbc_tuned = XGBClassifier(subsample=grid_search.best_params_['subsample'],\n",
    "                                   max_depth=grid_search.best_params_['max_depth'],\n",
    "                                   colsample_bytree=grid_search.best_params_['colsample_bytree'],\n",
    "                                   min_child_weight=grid_search.best_params_['min_child_weight'],\n",
    "                                   learning_rate=grid_search.best_params_['learning_rate'],\n",
    "                                   eta=grid_search.best_params_['eta'])\n",
    "xgbc_tuned.fit(X_train,y_train)\n",
    "\n",
    "## results F1 and stdF1 ##\n",
    "avgF1set3_CTharmo_p10tunedXGBoost  = cross_val_score(xgbc_tuned, X, y, scoring=\"f1\", cv = 10).mean() ##<3## \n",
    "stdF1set3_CTharmo_p10tunedXGBoost  = cross_val_score(xgbc_tuned, X, y, scoring=\"f1\", cv = 10).std() ##<3##\n",
    "print('Mean F1 Score: ', avgF1set3_CTharmo_p10tunedXGBoost)\n",
    "print('std F1 Score: ', stdF1set3_CTharmo_p10tunedXGBoost)"
   ]
  },
  {
   "cell_type": "code",
   "execution_count": 234,
   "id": "70ad6e02",
   "metadata": {},
   "outputs": [
    {
     "name": "stdout",
     "output_type": "stream",
     "text": [
      "Fitting 5 folds for each of 729 candidates, totalling 3645 fits\n",
      "\n",
      " Time taken: 0 hours 0 minutes and 13.63 seconds.\n",
      "{'colsample_bytree': 0.1, 'eta': 0.01, 'learning_rate': 0.1, 'max_depth': 5, 'min_child_weight': 5, 'subsample': 0.75}\n",
      "Mean F1 Score:  0.26666666666666666\n",
      "std F1 Score:  0.3425395354310702\n"
     ]
    }
   ],
   "source": [
    "## tuned parameter_set4##\n",
    "\n",
    "start_time = timer(None)\n",
    "# Instantiate the grid search model\n",
    "grid_search = GridSearchCV(estimator = xgbc, param_grid = paramXGBoost_grid4,\n",
    "                           cv = 5, n_jobs = -1, verbose = 2,scoring='f1')\n",
    "# Fit the grid search to the data\n",
    "grid_search.fit(X_train, y_train)\n",
    "\n",
    "timer(start_time)\n",
    "print(grid_search.best_params_)\n",
    "\n",
    "\n",
    "xgbc_tuned = XGBClassifier(subsample=grid_search.best_params_['subsample'],\n",
    "                                   max_depth=grid_search.best_params_['max_depth'],\n",
    "                                   colsample_bytree=grid_search.best_params_['colsample_bytree'],\n",
    "                                   min_child_weight=grid_search.best_params_['min_child_weight'],\n",
    "                                   learning_rate=grid_search.best_params_['learning_rate'],\n",
    "                                   eta=grid_search.best_params_['eta'])\n",
    "xgbc_tuned.fit(X_train,y_train)\n",
    "\n",
    "## results F1 and stdF1 ##\n",
    "avgF1set4_CTharmo_p10tunedXGBoost  = cross_val_score(xgbc_tuned, X, y, scoring=\"f1\", cv = 10).mean() ##<3## \n",
    "stdF1set4_CTharmo_p10tunedXGBoost = cross_val_score(xgbc_tuned, X, y, scoring=\"f1\", cv = 10).std() ##<3##\n",
    "print('Mean F1 Score: ', avgF1set4_CTharmo_p10tunedXGBoost)\n",
    "print('std F1 Score: ', stdF1set4_CTharmo_p10tunedXGBoost)"
   ]
  },
  {
   "cell_type": "code",
   "execution_count": null,
   "id": "55329113",
   "metadata": {},
   "outputs": [],
   "source": [
    "\n"
   ]
  },
  {
   "cell_type": "markdown",
   "id": "011fec7e",
   "metadata": {},
   "source": [
    "### threshold: 20%"
   ]
  },
  {
   "cell_type": "code",
   "execution_count": 235,
   "id": "0ba652e0",
   "metadata": {},
   "outputs": [
    {
     "name": "stdout",
     "output_type": "stream",
     "text": [
      "thres_p20 (value,iloc_threshold)(355.9937984496124, 399)\n",
      "Mean F1 Score:  0.6733333333333333\n",
      "std F1 Score:  0.2912806969993797\n"
     ]
    }
   ],
   "source": [
    "# threshold: 20%\n",
    "\n",
    "f_df123_1 = pd.read_csv('f_df123_xgb.csv')\n",
    "f_df123_1 = f_df123_1.set_index('Feature')\n",
    "f_df123_1 = f_df123_1.sort_values(by=['harmo'])\n",
    "\n",
    "\n",
    "k =(filter_arr(f_df123_1['harmo'], thres_p20-1))\n",
    "print(\"thres_p20 (value,iloc_threshold)\" + str(filter_arr(f_df123_1['harmo'], thres_p20-1)))\n",
    "f_df123_1 = f_df123_1.iloc[:k[1]+1]\n",
    "\n",
    "\n",
    "df_filter = df1.filter(items=f_df123_1.index)\n",
    "X = df_filter\n",
    "y = df1['class']\n",
    "\n",
    "\n",
    "\n",
    "\n",
    "## before tuned ##\n",
    "X_train, X_test, y_train, y_test = train_test_split(X, y, test_size=0.2, random_state=123) \n",
    "xgbc = XGBClassifier(random_state=123)\n",
    "xgbc.fit(X_train,y_train)\n",
    "## results F1 and stdF1 ##\n",
    "avgF1_CTharmo_p20XGBoost = cross_val_score(xgbc, X, y, scoring=\"f1\", cv = 10).mean() ##<3## \n",
    "stdF1_CTharmo_p20XGBoost = cross_val_score(xgbc, X, y, scoring=\"f1\", cv = 10).std() ##<3##\n",
    "print('Mean F1 Score: ', avgF1_CTharmo_p20XGBoost)\n",
    "print('std F1 Score: ', stdF1_CTharmo_p20XGBoost)"
   ]
  },
  {
   "cell_type": "code",
   "execution_count": 236,
   "id": "9044ea77",
   "metadata": {},
   "outputs": [
    {
     "data": {
      "text/plain": [
       "400"
      ]
     },
     "execution_count": 236,
     "metadata": {},
     "output_type": "execute_result"
    }
   ],
   "source": [
    "n_CTharmo_p20XGBoost = k[1]+1\n",
    "n_CTharmo_p20XGBoost"
   ]
  },
  {
   "cell_type": "code",
   "execution_count": 237,
   "id": "097823e0",
   "metadata": {},
   "outputs": [
    {
     "name": "stdout",
     "output_type": "stream",
     "text": [
      "Fitting 5 folds for each of 729 candidates, totalling 3645 fits\n",
      "\n",
      " Time taken: 0 hours 0 minutes and 35.58 seconds.\n",
      "{'colsample_bytree': 0.5, 'eta': 0.01, 'learning_rate': 0.1, 'max_depth': 5, 'min_child_weight': 1, 'subsample': 0.75}\n",
      "Mean F1 Score:  0.7257142857142858\n",
      "std F1 Score:  0.2148057182633634\n"
     ]
    }
   ],
   "source": [
    "## tuned parameter_set1##\n",
    "\n",
    "start_time = timer(None)\n",
    "# Instantiate the grid search model\n",
    "grid_search = GridSearchCV(estimator = xgbc, param_grid = paramXGBoost_grid1,\n",
    "                           cv = 5, n_jobs = -1, verbose = 2,scoring='f1')\n",
    "# Fit the grid search to the data\n",
    "grid_search.fit(X_train, y_train)\n",
    "\n",
    "timer(start_time)\n",
    "print(grid_search.best_params_)\n",
    "\n",
    "\n",
    "xgbc_tuned = XGBClassifier(subsample=grid_search.best_params_['subsample'],\n",
    "                                   max_depth=grid_search.best_params_['max_depth'],\n",
    "                                   colsample_bytree=grid_search.best_params_['colsample_bytree'],\n",
    "                                   min_child_weight=grid_search.best_params_['min_child_weight'],\n",
    "                                   learning_rate=grid_search.best_params_['learning_rate'],\n",
    "                                   eta=grid_search.best_params_['eta'])\n",
    "xgbc_tuned.fit(X_train,y_train)\n",
    "\n",
    "## results F1 and stdF1 ##\n",
    "avgF1set1_CTharmo_p20tunedXGBoost  = cross_val_score(xgbc_tuned, X, y, scoring=\"f1\", cv = 10).mean() ##<3## \n",
    "stdF1set1_CTharmo_p20tunedXGBoost  = cross_val_score(xgbc_tuned, X, y, scoring=\"f1\", cv = 10).std() ##<3##\n",
    "print('Mean F1 Score: ', avgF1set1_CTharmo_p20tunedXGBoost)\n",
    "print('std F1 Score: ', stdF1set1_CTharmo_p20tunedXGBoost)"
   ]
  },
  {
   "cell_type": "code",
   "execution_count": 238,
   "id": "0f29b0f2",
   "metadata": {},
   "outputs": [
    {
     "name": "stdout",
     "output_type": "stream",
     "text": [
      "Fitting 5 folds for each of 729 candidates, totalling 3645 fits\n",
      "\n",
      " Time taken: 0 hours 0 minutes and 42.16 seconds.\n",
      "{'colsample_bytree': 0.75, 'eta': 0.01, 'learning_rate': 0.1, 'max_depth': 7, 'min_child_weight': 0.1, 'subsample': 0.2}\n",
      "Mean F1 Score:  0.739047619047619\n",
      "std F1 Score:  0.31010787385043337\n"
     ]
    }
   ],
   "source": [
    "## tuned parameter_set2##\n",
    "\n",
    "start_time = timer(None)\n",
    "# Instantiate the grid search model\n",
    "grid_search = GridSearchCV(estimator = xgbc, param_grid = paramXGBoost_grid2,\n",
    "                           cv = 5, n_jobs = -1, verbose = 2,scoring='f1')\n",
    "# Fit the grid search to the data\n",
    "grid_search.fit(X_train, y_train)\n",
    "\n",
    "timer(start_time)\n",
    "print(grid_search.best_params_)\n",
    "\n",
    "\n",
    "xgbc_tuned = XGBClassifier(subsample=grid_search.best_params_['subsample'],\n",
    "                                   max_depth=grid_search.best_params_['max_depth'],\n",
    "                                   colsample_bytree=grid_search.best_params_['colsample_bytree'],\n",
    "                                   min_child_weight=grid_search.best_params_['min_child_weight'],\n",
    "                                   learning_rate=grid_search.best_params_['learning_rate'],\n",
    "                                   eta=grid_search.best_params_['eta'])\n",
    "xgbc_tuned.fit(X_train,y_train)\n",
    "\n",
    "## results F1 and stdF1 ##\n",
    "avgF1set2_CTharmo_p20tunedXGBoost = cross_val_score(xgbc_tuned, X, y, scoring=\"f1\", cv = 10).mean() ##<3## \n",
    "stdF1set2_CTharmo_p20tunedXGBoost  = cross_val_score(xgbc_tuned, X, y, scoring=\"f1\", cv = 10).std() ##<3##\n",
    "print('Mean F1 Score: ', avgF1set2_CTharmo_p20tunedXGBoost)\n",
    "print('std F1 Score: ', stdF1set2_CTharmo_p20tunedXGBoost)"
   ]
  },
  {
   "cell_type": "code",
   "execution_count": 239,
   "id": "8dfd8a09",
   "metadata": {},
   "outputs": [
    {
     "name": "stdout",
     "output_type": "stream",
     "text": [
      "Fitting 5 folds for each of 729 candidates, totalling 3645 fits\n",
      "\n",
      " Time taken: 0 hours 0 minutes and 16.6 seconds.\n",
      "{'colsample_bytree': 0.1, 'eta': 0.01, 'learning_rate': 0.1, 'max_depth': 10, 'min_child_weight': 20, 'subsample': 0.2}\n",
      "Mean F1 Score:  0.0\n",
      "std F1 Score:  0.0\n"
     ]
    }
   ],
   "source": [
    "## tuned parameter_set3##\n",
    "\n",
    "start_time = timer(None)\n",
    "# Instantiate the grid search model\n",
    "grid_search = GridSearchCV(estimator = xgbc, param_grid = paramXGBoost_grid3,\n",
    "                           cv = 5, n_jobs = -1, verbose = 2,scoring='f1')\n",
    "# Fit the grid search to the data\n",
    "grid_search.fit(X_train, y_train)\n",
    "\n",
    "timer(start_time)\n",
    "print(grid_search.best_params_)\n",
    "\n",
    "\n",
    "xgbc_tuned = XGBClassifier(subsample=grid_search.best_params_['subsample'],\n",
    "                                   max_depth=grid_search.best_params_['max_depth'],\n",
    "                                   colsample_bytree=grid_search.best_params_['colsample_bytree'],\n",
    "                                   min_child_weight=grid_search.best_params_['min_child_weight'],\n",
    "                                   learning_rate=grid_search.best_params_['learning_rate'],\n",
    "                                   eta=grid_search.best_params_['eta'])\n",
    "xgbc_tuned.fit(X_train,y_train)\n",
    "\n",
    "## results F1 and stdF1 ##\n",
    "avgF1set3_CTharmo_p20tunedXGBoost  = cross_val_score(xgbc_tuned, X, y, scoring=\"f1\", cv = 10).mean() ##<3## \n",
    "stdF1set3_CTharmo_p20tunedXGBoost  = cross_val_score(xgbc_tuned, X, y, scoring=\"f1\", cv = 10).std() ##<3##\n",
    "print('Mean F1 Score: ', avgF1set3_CTharmo_p20tunedXGBoost)\n",
    "print('std F1 Score: ', stdF1set3_CTharmo_p20tunedXGBoost)"
   ]
  },
  {
   "cell_type": "code",
   "execution_count": 240,
   "id": "1d79feb4",
   "metadata": {},
   "outputs": [
    {
     "name": "stdout",
     "output_type": "stream",
     "text": [
      "Fitting 5 folds for each of 729 candidates, totalling 3645 fits\n",
      "\n",
      " Time taken: 0 hours 0 minutes and 20.08 seconds.\n",
      "{'colsample_bytree': 0.1, 'eta': 0.01, 'learning_rate': 0.1, 'max_depth': 5, 'min_child_weight': 5, 'subsample': 0.75}\n",
      "Mean F1 Score:  0.18333333333333332\n",
      "std F1 Score:  0.28333333333333327\n"
     ]
    }
   ],
   "source": [
    "## tuned parameter_set4##\n",
    "\n",
    "start_time = timer(None)\n",
    "# Instantiate the grid search model\n",
    "grid_search = GridSearchCV(estimator = xgbc, param_grid = paramXGBoost_grid4,\n",
    "                           cv = 5, n_jobs = -1, verbose = 2,scoring='f1')\n",
    "# Fit the grid search to the data\n",
    "grid_search.fit(X_train, y_train)\n",
    "\n",
    "timer(start_time)\n",
    "print(grid_search.best_params_)\n",
    "\n",
    "\n",
    "xgbc_tuned = XGBClassifier(subsample=grid_search.best_params_['subsample'],\n",
    "                                   max_depth=grid_search.best_params_['max_depth'],\n",
    "                                   colsample_bytree=grid_search.best_params_['colsample_bytree'],\n",
    "                                   min_child_weight=grid_search.best_params_['min_child_weight'],\n",
    "                                   learning_rate=grid_search.best_params_['learning_rate'],\n",
    "                                   eta=grid_search.best_params_['eta'])\n",
    "xgbc_tuned.fit(X_train,y_train)\n",
    "\n",
    "## results F1 and stdF1 ##\n",
    "avgF1set4_CTharmo_p20tunedXGBoost  = cross_val_score(xgbc_tuned, X, y, scoring=\"f1\", cv = 10).mean() ##<3## \n",
    "stdF1set4_CTharmo_p20tunedXGBoost = cross_val_score(xgbc_tuned, X, y, scoring=\"f1\", cv = 10).std() ##<3##\n",
    "print('Mean F1 Score: ', avgF1set4_CTharmo_p20tunedXGBoost)\n",
    "print('std F1 Score: ', stdF1set4_CTharmo_p20tunedXGBoost)"
   ]
  },
  {
   "cell_type": "code",
   "execution_count": null,
   "id": "088a29af",
   "metadata": {},
   "outputs": [],
   "source": []
  },
  {
   "cell_type": "code",
   "execution_count": 241,
   "id": "1ee157dd",
   "metadata": {},
   "outputs": [],
   "source": [
    "\n",
    "output_CTdesignXGBoost = { 'n_CTmin_base2XGBoost':n_CTmin_base2XGBoost ,\n",
    "                     'avgF1_CTmin_base2XGBoost' :avgF1_CTmin_base2XGBoost ,\n",
    "                     'stdF1_CTmin_base2XGBoost' :stdF1_CTmin_base2XGBoost ,\n",
    "                     'avgF1set1_CTmin_base2tunedXGBoost' :avgF1set1_CTmin_base2tunedXGBoost ,\n",
    "                     'stdF1set1_CTmin_base2tunedXGBoost' :stdF1set1_CTmin_base2tunedXGBoost ,\n",
    "                     'avgF1set2_CTmin_base2tunedXGBoost' :avgF1set2_CTmin_base2tunedXGBoost ,\n",
    "                     'stdF1set2_CTmin_base2tunedXGBoost' :stdF1set2_CTmin_base2tunedXGBoost ,\n",
    "                     'avgF1set3_CTmin_base2tunedXGBoost' :avgF1set3_CTmin_base2tunedXGBoost ,\n",
    "                     'stdF1set3_CTmin_base2tunedXGBoost' :stdF1set3_CTmin_base2tunedXGBoost ,\n",
    "                     'avgF1set4_CTmin_base2tunedXGBoost' :avgF1set4_CTmin_base2tunedXGBoost ,\n",
    "                     'stdF1set4_CTmin_base2tunedXGBoost' :stdF1set4_CTmin_base2tunedXGBoost ,\n",
    "                     'n_CTmin_p2_5XGBoost':n_CTmin_p2_5XGBoost ,\n",
    "                     'avgF1_CTmin_p2_5XGBoost' :avgF1_CTmin_p2_5XGBoost ,\n",
    "                     'stdF1_CTmin_p2_5XGBoost' :stdF1_CTmin_p2_5XGBoost ,\n",
    "                     'avgF1set1_CTmin_p2_5tunedXGBoost' :avgF1set1_CTmin_p2_5tunedXGBoost ,\n",
    "                     'stdF1set1_CTmin_p2_5tunedXGBoost' :stdF1set1_CTmin_p2_5tunedXGBoost ,\n",
    "                     'avgF1set2_CTmin_p2_5tunedXGBoost' :avgF1set2_CTmin_p2_5tunedXGBoost ,\n",
    "                     'stdF1set2_CTmin_p2_5tunedXGBoost' :stdF1set2_CTmin_p2_5tunedXGBoost ,\n",
    "                     'avgF1set3_CTmin_p2_5tunedXGBoost' :avgF1set3_CTmin_p2_5tunedXGBoost ,\n",
    "                     'stdF1set3_CTmin_p2_5tunedXGBoost' :stdF1set3_CTmin_p2_5tunedXGBoost ,\n",
    "                     'avgF1set4_CTmin_p2_5tunedXGBoost' :avgF1set4_CTmin_p2_5tunedXGBoost ,\n",
    "                     'stdF1set4_CTmin_p2_5tunedXGBoost' :stdF1set4_CTmin_p2_5tunedXGBoost ,\n",
    "                     'n_CTmin_p5XGBoost':n_CTmin_p5XGBoost ,\n",
    "                     'avgF1_CTmin_p5XGBoost' :avgF1_CTmin_p5XGBoost ,\n",
    "                     'stdF1_CTmin_p5XGBoost' :stdF1_CTmin_p5XGBoost ,\n",
    "                     'avgF1set1_CTmin_p5tunedXGBoost' :avgF1set1_CTmin_p5tunedXGBoost ,\n",
    "                     'stdF1set1_CTmin_p5tunedXGBoost' :stdF1set1_CTmin_p5tunedXGBoost ,\n",
    "                     'avgF1set2_CTmin_p5tunedXGBoost' :avgF1set2_CTmin_p5tunedXGBoost ,\n",
    "                     'stdF1set2_CTmin_p5tunedXGBoost' :stdF1set2_CTmin_p5tunedXGBoost ,\n",
    "                     'avgF1set3_CTmin_p5tunedXGBoost' :avgF1set3_CTmin_p5tunedXGBoost ,\n",
    "                     'stdF1set3_CTmin_p5tunedXGBoost' :stdF1set3_CTmin_p5tunedXGBoost ,\n",
    "                     'avgF1set4_CTmin_p5tunedXGBoost' :avgF1set4_CTmin_p5tunedXGBoost ,\n",
    "                     'stdF1set4_CTmin_p5tunedXGBoost' :stdF1set4_CTmin_p5tunedXGBoost ,\n",
    "                     'n_CTmin_p10XGBoost':n_CTmin_p10XGBoost ,\n",
    "                     'avgF1_CTmin_p10XGBoost' :avgF1_CTmin_p10XGBoost ,\n",
    "                     'stdF1_CTmin_p10XGBoost' :stdF1_CTmin_p10XGBoost ,\n",
    "                     'avgF1set1_CTmin_p10tunedXGBoost' :avgF1set1_CTmin_p10tunedXGBoost ,\n",
    "                     'stdF1set1_CTmin_p10tunedXGBoost' :stdF1set1_CTmin_p10tunedXGBoost ,\n",
    "                     'avgF1set2_CTmin_p10tunedXGBoost' :avgF1set2_CTmin_p10tunedXGBoost ,\n",
    "                     'stdF1set2_CTmin_p10tunedXGBoost' :stdF1set2_CTmin_p10tunedXGBoost ,\n",
    "                     'avgF1set3_CTmin_p10tunedXGBoost' :avgF1set3_CTmin_p10tunedXGBoost ,\n",
    "                     'stdF1set3_CTmin_p10tunedXGBoost' :stdF1set3_CTmin_p10tunedXGBoost ,\n",
    "                     'avgF1set4_CTmin_p10tunedXGBoost' :avgF1set4_CTmin_p10tunedXGBoost ,\n",
    "                     'stdF1set4_CTmin_p10tunedXGBoost' :stdF1set4_CTmin_p10tunedXGBoost ,\n",
    "                     'n_CTmin_p20XGBoost':n_CTmin_p20XGBoost ,\n",
    "                     'avgF1_CTmin_p20XGBoost' :avgF1_CTmin_p20XGBoost ,\n",
    "                     'stdF1_CTmin_p20XGBoost' :stdF1_CTmin_p20XGBoost ,\n",
    "                     'avgF1set1_CTmin_p20tunedXGBoost' :avgF1set1_CTmin_p20tunedXGBoost ,\n",
    "                     'stdF1set1_CTmin_p20tunedXGBoost' :stdF1set1_CTmin_p20tunedXGBoost ,\n",
    "                     'avgF1set2_CTmin_p20tunedXGBoost' :avgF1set2_CTmin_p20tunedXGBoost ,\n",
    "                     'stdF1set2_CTmin_p20tunedXGBoost' :stdF1set2_CTmin_p20tunedXGBoost ,\n",
    "                     'avgF1set3_CTmin_p20tunedXGBoost' :avgF1set3_CTmin_p20tunedXGBoost ,\n",
    "                     'stdF1set3_CTmin_p20tunedXGBoost' :stdF1set3_CTmin_p20tunedXGBoost ,\n",
    "                     'avgF1set4_CTmin_p20tunedXGBoost' :avgF1set4_CTmin_p20tunedXGBoost ,\n",
    "                     'stdF1set4_CTmin_p20tunedXGBoost' :stdF1set4_CTmin_p20tunedXGBoost ,\n",
    "                     'n_CTmed_base2XGBoost':n_CTmed_base2XGBoost ,\n",
    "                     'avgF1_CTmed_base2XGBoost' :avgF1_CTmed_base2XGBoost ,\n",
    "                     'stdF1_CTmed_base2XGBoost' :stdF1_CTmed_base2XGBoost ,\n",
    "                     'avgF1set1_CTmed_base2tunedXGBoost' :avgF1set1_CTmed_base2tunedXGBoost ,\n",
    "                     'stdF1set1_CTmed_base2tunedXGBoost' :stdF1set1_CTmed_base2tunedXGBoost ,\n",
    "                     'avgF1set2_CTmed_base2tunedXGBoost' :avgF1set2_CTmed_base2tunedXGBoost ,\n",
    "                     'stdF1set2_CTmed_base2tunedXGBoost' :stdF1set2_CTmed_base2tunedXGBoost ,\n",
    "                     'avgF1set3_CTmed_base2tunedXGBoost' :avgF1set3_CTmed_base2tunedXGBoost ,\n",
    "                     'stdF1set3_CTmed_base2tunedXGBoost' :stdF1set3_CTmed_base2tunedXGBoost ,\n",
    "                     'avgF1set4_CTmed_base2tunedXGBoost' :avgF1set4_CTmed_base2tunedXGBoost ,\n",
    "                     'stdF1set4_CTmed_base2tunedXGBoost' :stdF1set4_CTmed_base2tunedXGBoost ,\n",
    "                     'n_CTmed_p2_5XGBoost':n_CTmed_p2_5XGBoost ,\n",
    "                     'avgF1_CTmed_p2_5XGBoost' :avgF1_CTmed_p2_5XGBoost ,\n",
    "                     'stdF1_CTmed_p2_5XGBoost' :stdF1_CTmed_p2_5XGBoost ,\n",
    "                     'avgF1set1_CTmed_p2_5tunedXGBoost' :avgF1set1_CTmed_p2_5tunedXGBoost ,\n",
    "                     'stdF1set1_CTmed_p2_5tunedXGBoost' :stdF1set1_CTmed_p2_5tunedXGBoost ,\n",
    "                     'avgF1set2_CTmed_p2_5tunedXGBoost' :avgF1set2_CTmed_p2_5tunedXGBoost ,\n",
    "                     'stdF1set2_CTmed_p2_5tunedXGBoost' :stdF1set2_CTmed_p2_5tunedXGBoost ,\n",
    "                     'avgF1set3_CTmed_p2_5tunedXGBoost' :avgF1set3_CTmed_p2_5tunedXGBoost ,\n",
    "                     'stdF1set3_CTmed_p2_5tunedXGBoost' :stdF1set3_CTmed_p2_5tunedXGBoost ,\n",
    "                     'avgF1set4_CTmed_p2_5tunedXGBoost' :avgF1set4_CTmed_p2_5tunedXGBoost ,\n",
    "                     'stdF1set4_CTmed_p2_5tunedXGBoost' :stdF1set4_CTmed_p2_5tunedXGBoost ,\n",
    "                     'n_CTmed_p5XGBoost':n_CTmed_p5XGBoost ,\n",
    "                     'avgF1_CTmed_p5XGBoost' :avgF1_CTmed_p5XGBoost ,\n",
    "                     'stdF1_CTmed_p5XGBoost' :stdF1_CTmed_p5XGBoost ,\n",
    "                     'avgF1set1_CTmed_p5tunedXGBoost' :avgF1set1_CTmed_p5tunedXGBoost ,\n",
    "                     'stdF1set1_CTmed_p5tunedXGBoost' :stdF1set1_CTmed_p5tunedXGBoost ,\n",
    "                     'avgF1set2_CTmed_p5tunedXGBoost' :avgF1set2_CTmed_p5tunedXGBoost ,\n",
    "                     'stdF1set2_CTmed_p5tunedXGBoost' :stdF1set2_CTmed_p5tunedXGBoost ,\n",
    "                     'avgF1set3_CTmed_p5tunedXGBoost' :avgF1set3_CTmed_p5tunedXGBoost ,\n",
    "                     'stdF1set3_CTmed_p5tunedXGBoost' :stdF1set3_CTmed_p5tunedXGBoost ,\n",
    "                     'avgF1set4_CTmed_p5tunedXGBoost' :avgF1set4_CTmed_p5tunedXGBoost ,\n",
    "                     'stdF1set4_CTmed_p5tunedXGBoost' :stdF1set4_CTmed_p5tunedXGBoost ,\n",
    "                     'n_CTmed_p10XGBoost':n_CTmed_p10XGBoost ,\n",
    "                     'avgF1_CTmed_p10XGBoost' :avgF1_CTmed_p10XGBoost ,\n",
    "                     'stdF1_CTmed_p10XGBoost' :stdF1_CTmed_p10XGBoost ,\n",
    "                     'avgF1set1_CTmed_p10tunedXGBoost' :avgF1set1_CTmed_p10tunedXGBoost ,\n",
    "                     'stdF1set1_CTmed_p10tunedXGBoost' :stdF1set1_CTmed_p10tunedXGBoost ,\n",
    "                     'avgF1set2_CTmed_p10tunedXGBoost' :avgF1set2_CTmed_p10tunedXGBoost ,\n",
    "                     'stdF1set2_CTmed_p10tunedXGBoost' :stdF1set2_CTmed_p10tunedXGBoost ,\n",
    "                     'avgF1set3_CTmed_p10tunedXGBoost' :avgF1set3_CTmed_p10tunedXGBoost ,\n",
    "                     'stdF1set3_CTmed_p10tunedXGBoost' :stdF1set3_CTmed_p10tunedXGBoost ,\n",
    "                     'avgF1set4_CTmed_p10tunedXGBoost' :avgF1set4_CTmed_p10tunedXGBoost ,\n",
    "                     'stdF1set4_CTmed_p10tunedXGBoost' :stdF1set4_CTmed_p10tunedXGBoost ,\n",
    "                     'n_CTmed_p20XGBoost':n_CTmed_p20XGBoost ,\n",
    "                     'avgF1_CTmed_p20XGBoost' :avgF1_CTmed_p20XGBoost ,\n",
    "                     'stdF1_CTmed_p20XGBoost' :stdF1_CTmed_p20XGBoost ,\n",
    "                     'avgF1set1_CTmed_p20tunedXGBoost' :avgF1set1_CTmed_p20tunedXGBoost ,\n",
    "                     'stdF1set1_CTmed_p20tunedXGBoost' :stdF1set1_CTmed_p20tunedXGBoost ,\n",
    "                     'avgF1set2_CTmed_p20tunedXGBoost' :avgF1set2_CTmed_p20tunedXGBoost ,\n",
    "                     'stdF1set2_CTmed_p20tunedXGBoost' :stdF1set2_CTmed_p20tunedXGBoost ,\n",
    "                     'avgF1set3_CTmed_p20tunedXGBoost' :avgF1set3_CTmed_p20tunedXGBoost ,\n",
    "                     'stdF1set3_CTmed_p20tunedXGBoost' :stdF1set3_CTmed_p20tunedXGBoost ,\n",
    "                     'avgF1set4_CTmed_p20tunedXGBoost' :avgF1set4_CTmed_p20tunedXGBoost ,\n",
    "                     'stdF1set4_CTmed_p20tunedXGBoost' :stdF1set4_CTmed_p20tunedXGBoost ,\n",
    "                     'n_CTmean_base2XGBoost':n_CTmean_base2XGBoost ,\n",
    "                     'avgF1_CTmean_base2XGBoost' :avgF1_CTmean_base2XGBoost ,\n",
    "                     'stdF1_CTmean_base2XGBoost' :stdF1_CTmean_base2XGBoost ,\n",
    "                     'avgF1set1_CTmean_base2tunedXGBoost' :avgF1set1_CTmean_base2tunedXGBoost ,\n",
    "                     'stdF1set1_CTmean_base2tunedXGBoost' :stdF1set1_CTmean_base2tunedXGBoost ,\n",
    "                     'avgF1set2_CTmean_base2tunedXGBoost' :avgF1set2_CTmean_base2tunedXGBoost ,\n",
    "                     'stdF1set2_CTmean_base2tunedXGBoost' :stdF1set2_CTmean_base2tunedXGBoost ,\n",
    "                     'avgF1set3_CTmean_base2tunedXGBoost' :avgF1set3_CTmean_base2tunedXGBoost ,\n",
    "                     'stdF1set3_CTmean_base2tunedXGBoost' :stdF1set3_CTmean_base2tunedXGBoost ,\n",
    "                     'avgF1set4_CTmean_base2tunedXGBoost' :avgF1set4_CTmean_base2tunedXGBoost ,\n",
    "                     'stdF1set4_CTmean_base2tunedXGBoost' :stdF1set4_CTmean_base2tunedXGBoost ,\n",
    "                     'n_CTmean_p2_5XGBoost':n_CTmean_p2_5XGBoost ,\n",
    "                     'avgF1_CTmean_p2_5XGBoost' :avgF1_CTmean_p2_5XGBoost ,\n",
    "                     'stdF1_CTmean_p2_5XGBoost' :stdF1_CTmean_p2_5XGBoost ,\n",
    "                     'avgF1set1_CTmean_p2_5tunedXGBoost' :avgF1set1_CTmean_p2_5tunedXGBoost ,\n",
    "                     'stdF1set1_CTmean_p2_5tunedXGBoost' :stdF1set1_CTmean_p2_5tunedXGBoost ,\n",
    "                     'avgF1set2_CTmean_p2_5tunedXGBoost' :avgF1set2_CTmean_p2_5tunedXGBoost ,\n",
    "                     'stdF1set2_CTmean_p2_5tunedXGBoost' :stdF1set2_CTmean_p2_5tunedXGBoost ,\n",
    "                     'avgF1set3_CTmean_p2_5tunedXGBoost' :avgF1set3_CTmean_p2_5tunedXGBoost ,\n",
    "                     'stdF1set3_CTmean_p2_5tunedXGBoost' :stdF1set3_CTmean_p2_5tunedXGBoost ,\n",
    "                     'avgF1set4_CTmean_p2_5tunedXGBoost' :avgF1set4_CTmean_p2_5tunedXGBoost ,\n",
    "                     'stdF1set4_CTmean_p2_5tunedXGBoost' :stdF1set4_CTmean_p2_5tunedXGBoost ,\n",
    "                     'n_CTmean_p5XGBoost':n_CTmean_p5XGBoost ,\n",
    "                     'avgF1_CTmean_p5XGBoost' :avgF1_CTmean_p5XGBoost ,\n",
    "                     'stdF1_CTmean_p5XGBoost' :stdF1_CTmean_p5XGBoost ,\n",
    "                     'avgF1set1_CTmean_p5tunedXGBoost' :avgF1set1_CTmean_p5tunedXGBoost ,\n",
    "                     'stdF1set1_CTmean_p5tunedXGBoost' :stdF1set1_CTmean_p5tunedXGBoost ,\n",
    "                     'avgF1set2_CTmean_p5tunedXGBoost' :avgF1set2_CTmean_p5tunedXGBoost ,\n",
    "                     'stdF1set2_CTmean_p5tunedXGBoost' :stdF1set2_CTmean_p5tunedXGBoost ,\n",
    "                     'avgF1set3_CTmean_p5tunedXGBoost' :avgF1set3_CTmean_p5tunedXGBoost ,\n",
    "                     'stdF1set3_CTmean_p5tunedXGBoost' :stdF1set3_CTmean_p5tunedXGBoost ,\n",
    "                     'avgF1set4_CTmean_p5tunedXGBoost' :avgF1set4_CTmean_p5tunedXGBoost ,\n",
    "                     'stdF1set4_CTmean_p5tunedXGBoost' :stdF1set4_CTmean_p5tunedXGBoost ,\n",
    "                     'n_CTmean_p10XGBoost':n_CTmean_p10XGBoost ,\n",
    "                     'avgF1_CTmean_p10XGBoost' :avgF1_CTmean_p10XGBoost ,\n",
    "                     'stdF1_CTmean_p10XGBoost' :stdF1_CTmean_p10XGBoost ,\n",
    "                     'avgF1set1_CTmean_p10tunedXGBoost' :avgF1set1_CTmean_p10tunedXGBoost ,\n",
    "                     'stdF1set1_CTmean_p10tunedXGBoost' :stdF1set1_CTmean_p10tunedXGBoost ,\n",
    "                     'avgF1set2_CTmean_p10tunedXGBoost' :avgF1set2_CTmean_p10tunedXGBoost ,\n",
    "                     'stdF1set2_CTmean_p10tunedXGBoost' :stdF1set2_CTmean_p10tunedXGBoost ,\n",
    "                     'avgF1set3_CTmean_p10tunedXGBoost' :avgF1set3_CTmean_p10tunedXGBoost ,\n",
    "                     'stdF1set3_CTmean_p10tunedXGBoost' :stdF1set3_CTmean_p10tunedXGBoost ,\n",
    "                     'avgF1set4_CTmean_p10tunedXGBoost' :avgF1set4_CTmean_p10tunedXGBoost ,\n",
    "                     'stdF1set4_CTmean_p10tunedXGBoost' :stdF1set4_CTmean_p10tunedXGBoost ,\n",
    "                     'n_CTmean_p20XGBoost':n_CTmean_p20XGBoost ,\n",
    "                     'avgF1_CTmean_p20XGBoost' :avgF1_CTmean_p20XGBoost ,\n",
    "                     'stdF1_CTmean_p20XGBoost' :stdF1_CTmean_p20XGBoost ,\n",
    "                     'avgF1set1_CTmean_p20tunedXGBoost' :avgF1set1_CTmean_p20tunedXGBoost ,\n",
    "                     'stdF1set1_CTmean_p20tunedXGBoost' :stdF1set1_CTmean_p20tunedXGBoost ,\n",
    "                     'avgF1set2_CTmean_p20tunedXGBoost' :avgF1set2_CTmean_p20tunedXGBoost ,\n",
    "                     'stdF1set2_CTmean_p20tunedXGBoost' :stdF1set2_CTmean_p20tunedXGBoost ,\n",
    "                     'avgF1set3_CTmean_p20tunedXGBoost' :avgF1set3_CTmean_p20tunedXGBoost ,\n",
    "                     'stdF1set3_CTmean_p20tunedXGBoost' :stdF1set3_CTmean_p20tunedXGBoost ,\n",
    "                     'avgF1set4_CTmean_p20tunedXGBoost' :avgF1set4_CTmean_p20tunedXGBoost ,\n",
    "                     'stdF1set4_CTmean_p20tunedXGBoost' :stdF1set4_CTmean_p20tunedXGBoost ,\n",
    "                     'n_CTharmo_base2XGBoost':n_CTharmo_base2XGBoost ,\n",
    "                     'avgF1_CTharmo_base2XGBoost' :avgF1_CTharmo_base2XGBoost ,\n",
    "                     'stdF1_CTharmo_base2XGBoost' :stdF1_CTharmo_base2XGBoost ,\n",
    "                     'avgF1set1_CTharmo_base2tunedXGBoost' :avgF1set1_CTharmo_base2tunedXGBoost ,\n",
    "                     'stdF1set1_CTharmo_base2tunedXGBoost' :stdF1set1_CTharmo_base2tunedXGBoost ,\n",
    "                     'avgF1set2_CTharmo_base2tunedXGBoost' :avgF1set2_CTharmo_base2tunedXGBoost ,\n",
    "                     'stdF1set2_CTharmo_base2tunedXGBoost' :stdF1set2_CTharmo_base2tunedXGBoost ,\n",
    "                     'avgF1set3_CTharmo_base2tunedXGBoost' :avgF1set3_CTharmo_base2tunedXGBoost ,\n",
    "                     'stdF1set3_CTharmo_base2tunedXGBoost' :stdF1set3_CTharmo_base2tunedXGBoost ,\n",
    "                     'avgF1set4_CTharmo_base2tunedXGBoost' :avgF1set4_CTharmo_base2tunedXGBoost ,\n",
    "                     'stdF1set4_CTharmo_base2tunedXGBoost' :stdF1set4_CTharmo_base2tunedXGBoost ,\n",
    "                     'n_CTharmo_p2_5XGBoost':n_CTharmo_p2_5XGBoost ,\n",
    "                     'avgF1_CTharmo_p2_5XGBoost' :avgF1_CTharmo_p2_5XGBoost ,\n",
    "                     'stdF1_CTharmo_p2_5XGBoost' :stdF1_CTharmo_p2_5XGBoost ,\n",
    "                     'avgF1set1_CTharmo_p2_5tunedXGBoost' :avgF1set1_CTharmo_p2_5tunedXGBoost ,\n",
    "                     'stdF1set1_CTharmo_p2_5tunedXGBoost' :stdF1set1_CTharmo_p2_5tunedXGBoost ,\n",
    "                     'avgF1set2_CTharmo_p2_5tunedXGBoost' :avgF1set2_CTharmo_p2_5tunedXGBoost ,\n",
    "                     'stdF1set2_CTharmo_p2_5tunedXGBoost' :stdF1set2_CTharmo_p2_5tunedXGBoost ,\n",
    "                     'avgF1set3_CTharmo_p2_5tunedXGBoost' :avgF1set3_CTharmo_p2_5tunedXGBoost ,\n",
    "                     'stdF1set3_CTharmo_p2_5tunedXGBoost' :stdF1set3_CTharmo_p2_5tunedXGBoost ,\n",
    "                     'avgF1set4_CTharmo_p2_5tunedXGBoost' :avgF1set4_CTharmo_p2_5tunedXGBoost ,\n",
    "                     'stdF1set4_CTharmo_p2_5tunedXGBoost' :stdF1set4_CTharmo_p2_5tunedXGBoost ,\n",
    "                     'n_CTharmo_p5XGBoost':n_CTharmo_p5XGBoost ,\n",
    "                     'avgF1_CTharmo_p5XGBoost' :avgF1_CTharmo_p5XGBoost ,\n",
    "                     'stdF1_CTharmo_p5XGBoost' :stdF1_CTharmo_p5XGBoost ,\n",
    "                     'avgF1set1_CTharmo_p5tunedXGBoost' :avgF1set1_CTharmo_p5tunedXGBoost ,\n",
    "                     'stdF1set1_CTharmo_p5tunedXGBoost' :stdF1set1_CTharmo_p5tunedXGBoost ,\n",
    "                     'avgF1set2_CTharmo_p5tunedXGBoost' :avgF1set2_CTharmo_p5tunedXGBoost ,\n",
    "                     'stdF1set2_CTharmo_p5tunedXGBoost' :stdF1set2_CTharmo_p5tunedXGBoost ,\n",
    "                     'avgF1set3_CTharmo_p5tunedXGBoost' :avgF1set3_CTharmo_p5tunedXGBoost ,\n",
    "                     'stdF1set3_CTharmo_p5tunedXGBoost' :stdF1set3_CTharmo_p5tunedXGBoost ,\n",
    "                     'avgF1set4_CTharmo_p5tunedXGBoost' :avgF1set4_CTharmo_p5tunedXGBoost ,\n",
    "                     'stdF1set4_CTharmo_p5tunedXGBoost' :stdF1set4_CTharmo_p5tunedXGBoost ,\n",
    "                     'n_CTharmo_p10XGBoost':n_CTharmo_p10XGBoost ,\n",
    "                     'avgF1_CTharmo_p10XGBoost' :avgF1_CTharmo_p10XGBoost ,\n",
    "                     'stdF1_CTharmo_p10XGBoost' :stdF1_CTharmo_p10XGBoost ,\n",
    "                     'avgF1set1_CTharmo_p10tunedXGBoost' :avgF1set1_CTharmo_p10tunedXGBoost ,\n",
    "                     'stdF1set1_CTharmo_p10tunedXGBoost' :stdF1set1_CTharmo_p10tunedXGBoost ,\n",
    "                     'avgF1set2_CTharmo_p10tunedXGBoost' :avgF1set2_CTharmo_p10tunedXGBoost ,\n",
    "                     'stdF1set2_CTharmo_p10tunedXGBoost' :stdF1set2_CTharmo_p10tunedXGBoost ,\n",
    "                     'avgF1set3_CTharmo_p10tunedXGBoost' :avgF1set3_CTharmo_p10tunedXGBoost ,\n",
    "                     'stdF1set3_CTharmo_p10tunedXGBoost' :stdF1set3_CTharmo_p10tunedXGBoost ,\n",
    "                     'avgF1set4_CTharmo_p10tunedXGBoost' :avgF1set4_CTharmo_p10tunedXGBoost ,\n",
    "                     'stdF1set4_CTharmo_p10tunedXGBoost' :stdF1set4_CTharmo_p10tunedXGBoost ,\n",
    "                     'n_CTharmo_p20XGBoost':n_CTharmo_p20XGBoost ,\n",
    "                     'avgF1_CTharmo_p20XGBoost' :avgF1_CTharmo_p20XGBoost ,\n",
    "                     'stdF1_CTharmo_p20XGBoost' :stdF1_CTharmo_p20XGBoost ,\n",
    "                     'avgF1set1_CTharmo_p20tunedXGBoost' :avgF1set1_CTharmo_p20tunedXGBoost ,\n",
    "                     'stdF1set1_CTharmo_p20tunedXGBoost' :stdF1set1_CTharmo_p20tunedXGBoost ,\n",
    "                     'avgF1set2_CTharmo_p20tunedXGBoost' :avgF1set2_CTharmo_p20tunedXGBoost ,\n",
    "                     'stdF1set2_CTharmo_p20tunedXGBoost' :stdF1set2_CTharmo_p20tunedXGBoost ,\n",
    "                     'avgF1set3_CTharmo_p20tunedXGBoost' :avgF1set3_CTharmo_p20tunedXGBoost ,\n",
    "                     'stdF1set3_CTharmo_p20tunedXGBoost' :stdF1set3_CTharmo_p20tunedXGBoost ,\n",
    "                     'avgF1set4_CTharmo_p20tunedXGBoost' :avgF1set4_CTharmo_p20tunedXGBoost ,\n",
    "                     'stdF1set4_CTharmo_p20tunedXGBoost' :stdF1set4_CTharmo_p20tunedXGBoost \n",
    "                    }"
   ]
  },
  {
   "cell_type": "code",
   "execution_count": 242,
   "id": "e7ae0071",
   "metadata": {},
   "outputs": [],
   "source": [
    "output_CTdesignXGBoost = pd.DataFrame([output_CTdesignXGBoost])\n",
    "output_CTdesignXGBoost = output_CTdesignXGBoost.transpose()\n",
    "output_CTdesignXGBoost.to_csv('output_CTdesignXGBoost.csv', index=True)"
   ]
  },
  {
   "cell_type": "code",
   "execution_count": null,
   "id": "d2a74a40",
   "metadata": {},
   "outputs": [],
   "source": []
  },
  {
   "cell_type": "code",
   "execution_count": null,
   "id": "a7c7c330",
   "metadata": {},
   "outputs": [],
   "source": []
  },
  {
   "cell_type": "markdown",
   "id": "a679c7e6",
   "metadata": {},
   "source": [
    "# design TC"
   ]
  },
  {
   "cell_type": "code",
   "execution_count": 243,
   "id": "468eb80e",
   "metadata": {},
   "outputs": [
    {
     "data": {
      "text/html": [
       "<div>\n",
       "<style scoped>\n",
       "    .dataframe tbody tr th:only-of-type {\n",
       "        vertical-align: middle;\n",
       "    }\n",
       "\n",
       "    .dataframe tbody tr th {\n",
       "        vertical-align: top;\n",
       "    }\n",
       "\n",
       "    .dataframe thead th {\n",
       "        text-align: right;\n",
       "    }\n",
       "</style>\n",
       "<table border=\"1\" class=\"dataframe\">\n",
       "  <thead>\n",
       "    <tr style=\"text-align: right;\">\n",
       "      <th></th>\n",
       "      <th>Feature</th>\n",
       "      <th>rank_mi</th>\n",
       "      <th>rank_SHAP</th>\n",
       "      <th>rank_embed</th>\n",
       "      <th>min</th>\n",
       "      <th>med</th>\n",
       "      <th>mean</th>\n",
       "      <th>weight</th>\n",
       "      <th>harmo</th>\n",
       "    </tr>\n",
       "  </thead>\n",
       "  <tbody>\n",
       "    <tr>\n",
       "      <th>0</th>\n",
       "      <td>M22382</td>\n",
       "      <td>1</td>\n",
       "      <td>11</td>\n",
       "      <td>10</td>\n",
       "      <td>1</td>\n",
       "      <td>10.0</td>\n",
       "      <td>7.333333</td>\n",
       "      <td>0.0110</td>\n",
       "      <td>2.519084</td>\n",
       "    </tr>\n",
       "    <tr>\n",
       "      <th>1</th>\n",
       "      <td>X12671</td>\n",
       "      <td>2</td>\n",
       "      <td>1800</td>\n",
       "      <td>1800</td>\n",
       "      <td>2</td>\n",
       "      <td>1800.0</td>\n",
       "      <td>1200.666667</td>\n",
       "      <td>1.8010</td>\n",
       "      <td>5.986696</td>\n",
       "    </tr>\n",
       "    <tr>\n",
       "      <th>2</th>\n",
       "      <td>M26383</td>\n",
       "      <td>3</td>\n",
       "      <td>4</td>\n",
       "      <td>4</td>\n",
       "      <td>3</td>\n",
       "      <td>4.0</td>\n",
       "      <td>3.666667</td>\n",
       "      <td>0.0055</td>\n",
       "      <td>3.600000</td>\n",
       "    </tr>\n",
       "    <tr>\n",
       "      <th>3</th>\n",
       "      <td>H23544</td>\n",
       "      <td>4</td>\n",
       "      <td>120</td>\n",
       "      <td>120</td>\n",
       "      <td>4</td>\n",
       "      <td>120.0</td>\n",
       "      <td>81.333333</td>\n",
       "      <td>0.1220</td>\n",
       "      <td>11.250000</td>\n",
       "    </tr>\n",
       "    <tr>\n",
       "      <th>4</th>\n",
       "      <td>X55715</td>\n",
       "      <td>5</td>\n",
       "      <td>1288</td>\n",
       "      <td>1288</td>\n",
       "      <td>5</td>\n",
       "      <td>1288.0</td>\n",
       "      <td>860.333333</td>\n",
       "      <td>1.2905</td>\n",
       "      <td>14.884438</td>\n",
       "    </tr>\n",
       "    <tr>\n",
       "      <th>...</th>\n",
       "      <td>...</td>\n",
       "      <td>...</td>\n",
       "      <td>...</td>\n",
       "      <td>...</td>\n",
       "      <td>...</td>\n",
       "      <td>...</td>\n",
       "      <td>...</td>\n",
       "      <td>...</td>\n",
       "      <td>...</td>\n",
       "    </tr>\n",
       "    <tr>\n",
       "      <th>1995</th>\n",
       "      <td>D50063</td>\n",
       "      <td>1996</td>\n",
       "      <td>1663</td>\n",
       "      <td>1663</td>\n",
       "      <td>1663</td>\n",
       "      <td>1663.0</td>\n",
       "      <td>1774.000000</td>\n",
       "      <td>2.6610</td>\n",
       "      <td>1760.927321</td>\n",
       "    </tr>\n",
       "    <tr>\n",
       "      <th>1996</th>\n",
       "      <td>M25160</td>\n",
       "      <td>1997</td>\n",
       "      <td>1637</td>\n",
       "      <td>1637</td>\n",
       "      <td>1637</td>\n",
       "      <td>1637.0</td>\n",
       "      <td>1757.000000</td>\n",
       "      <td>2.6355</td>\n",
       "      <td>1741.656367</td>\n",
       "    </tr>\n",
       "    <tr>\n",
       "      <th>1997</th>\n",
       "      <td>T61090</td>\n",
       "      <td>1998</td>\n",
       "      <td>1698</td>\n",
       "      <td>1698</td>\n",
       "      <td>1698</td>\n",
       "      <td>1698.0</td>\n",
       "      <td>1798.000000</td>\n",
       "      <td>2.6970</td>\n",
       "      <td>1787.462592</td>\n",
       "    </tr>\n",
       "    <tr>\n",
       "      <th>1998</th>\n",
       "      <td>D31767</td>\n",
       "      <td>1999</td>\n",
       "      <td>1730</td>\n",
       "      <td>1730</td>\n",
       "      <td>1730</td>\n",
       "      <td>1730.0</td>\n",
       "      <td>1819.666667</td>\n",
       "      <td>2.7295</td>\n",
       "      <td>1811.244763</td>\n",
       "    </tr>\n",
       "    <tr>\n",
       "      <th>1999</th>\n",
       "      <td>M16029_</td>\n",
       "      <td>2000</td>\n",
       "      <td>1022</td>\n",
       "      <td>1022</td>\n",
       "      <td>1022</td>\n",
       "      <td>1022.0</td>\n",
       "      <td>1348.000000</td>\n",
       "      <td>2.0220</td>\n",
       "      <td>1221.027479</td>\n",
       "    </tr>\n",
       "  </tbody>\n",
       "</table>\n",
       "<p>2000 rows × 9 columns</p>\n",
       "</div>"
      ],
      "text/plain": [
       "      Feature  rank_mi  rank_SHAP  rank_embed   min     med         mean  \\\n",
       "0      M22382        1         11          10     1    10.0     7.333333   \n",
       "1      X12671        2       1800        1800     2  1800.0  1200.666667   \n",
       "2      M26383        3          4           4     3     4.0     3.666667   \n",
       "3      H23544        4        120         120     4   120.0    81.333333   \n",
       "4      X55715        5       1288        1288     5  1288.0   860.333333   \n",
       "...       ...      ...        ...         ...   ...     ...          ...   \n",
       "1995   D50063     1996       1663        1663  1663  1663.0  1774.000000   \n",
       "1996   M25160     1997       1637        1637  1637  1637.0  1757.000000   \n",
       "1997   T61090     1998       1698        1698  1698  1698.0  1798.000000   \n",
       "1998   D31767     1999       1730        1730  1730  1730.0  1819.666667   \n",
       "1999  M16029_     2000       1022        1022  1022  1022.0  1348.000000   \n",
       "\n",
       "      weight        harmo  \n",
       "0     0.0110     2.519084  \n",
       "1     1.8010     5.986696  \n",
       "2     0.0055     3.600000  \n",
       "3     0.1220    11.250000  \n",
       "4     1.2905    14.884438  \n",
       "...      ...          ...  \n",
       "1995  2.6610  1760.927321  \n",
       "1996  2.6355  1741.656367  \n",
       "1997  2.6970  1787.462592  \n",
       "1998  2.7295  1811.244763  \n",
       "1999  2.0220  1221.027479  \n",
       "\n",
       "[2000 rows x 9 columns]"
      ]
     },
     "execution_count": 243,
     "metadata": {},
     "output_type": "execute_result"
    }
   ],
   "source": [
    "f_df123 = pd.read_csv('f_df123_xgb.csv')\n",
    "f_df123"
   ]
  },
  {
   "cell_type": "markdown",
   "id": "fd00dd6a",
   "metadata": {},
   "source": [
    "## union"
   ]
  },
  {
   "cell_type": "markdown",
   "id": "af6c95ea",
   "metadata": {},
   "source": [
    "### threshold: logbase2(n)"
   ]
  },
  {
   "cell_type": "code",
   "execution_count": 244,
   "id": "3ee8401f",
   "metadata": {},
   "outputs": [
    {
     "name": "stdout",
     "output_type": "stream",
     "text": [
      "Mean F1 Score:  0.7423809523809524\n",
      "std F1 Score:  0.32830527522642183\n"
     ]
    }
   ],
   "source": [
    "# threshold: logbase2(n)\n",
    "\n",
    "f_df123_1 = pd.read_csv('f_df123_xgb.csv')\n",
    "\n",
    "\n",
    "dfMI = f_df123_1[['Feature','rank_mi']]\n",
    "dfMI = dfMI.sort_values(by=['rank_mi'])\n",
    "dfMI = dfMI.set_index('Feature')\n",
    "dfMI_base2 = dfMI.iloc[:thres_base2n] ## threshold here\n",
    "dfMI_base2 = dfMI_base2.index.tolist()\n",
    "\n",
    "dfSHAP = f_df123_1[['Feature','rank_SHAP']]\n",
    "dfSHAP = dfSHAP.sort_values(by=['rank_SHAP'])\n",
    "dfSHAP = dfSHAP.set_index('Feature')\n",
    "dfSHAP_base2 = dfSHAP.iloc[:thres_base2n]  ## threshold here\n",
    "dfSHAP_base2 = dfSHAP_base2.index.tolist()\n",
    "\n",
    "dfEmbed = f_df123_1[['Feature','rank_embed']]\n",
    "dfEmbed = dfEmbed.sort_values(by=['rank_embed'])\n",
    "dfEmbed = dfEmbed.set_index('Feature')\n",
    "dfEmbed_base2 = dfEmbed.iloc[:thres_base2n]  ## threshold here\n",
    "dfEmbed_base2 = dfEmbed_base2.index.tolist()\n",
    "\n",
    "feature_TC = list(set().union(dfMI_base2+dfSHAP_base2+dfEmbed_base2))\n",
    "\n",
    "df_filter = df1.filter(items=feature_TC)\n",
    "X = df_filter\n",
    "y = df1['class']\n",
    "\n",
    "\n",
    "\n",
    "\n",
    "## before tuned ##\n",
    "X_train, X_test, y_train, y_test = train_test_split(X, y, test_size=0.2, random_state=123) \n",
    "xgbc = XGBClassifier(random_state=123)\n",
    "xgbc.fit(X_train,y_train)\n",
    "## results F1 and stdF1 ##\n",
    "avgF1_TCunion_base2XGBoost = cross_val_score(xgbc, X, y, scoring=\"f1\", cv = 10).mean() ##<3## \n",
    "stdF1_TCunion_base2XGBoost = cross_val_score(xgbc, X, y, scoring=\"f1\", cv = 10).std() ##<3##\n",
    "print('Mean F1 Score: ', avgF1_TCunion_base2XGBoost)\n",
    "print('std F1 Score: ', stdF1_TCunion_base2XGBoost)"
   ]
  },
  {
   "cell_type": "code",
   "execution_count": 245,
   "id": "32e55958",
   "metadata": {},
   "outputs": [
    {
     "data": {
      "text/plain": [
       "13"
      ]
     },
     "execution_count": 245,
     "metadata": {},
     "output_type": "execute_result"
    }
   ],
   "source": [
    "n_TCunion_base2XGBoost = len(feature_TC)\n",
    "n_TCunion_base2XGBoost"
   ]
  },
  {
   "cell_type": "code",
   "execution_count": 246,
   "id": "30873304",
   "metadata": {},
   "outputs": [
    {
     "name": "stdout",
     "output_type": "stream",
     "text": [
      "Fitting 5 folds for each of 729 candidates, totalling 3645 fits\n",
      "\n",
      " Time taken: 0 hours 0 minutes and 12.58 seconds.\n",
      "{'colsample_bytree': 0.5, 'eta': 0.01, 'learning_rate': 0.1, 'max_depth': 5, 'min_child_weight': 1, 'subsample': 0.5}\n",
      "Mean F1 Score:  0.819047619047619\n",
      "std F1 Score:  0.20376278947937781\n"
     ]
    }
   ],
   "source": [
    "## tuned parameter_set1##\n",
    "\n",
    "start_time = timer(None)\n",
    "# Instantiate the grid search model\n",
    "grid_search = GridSearchCV(estimator = xgbc, param_grid = paramXGBoost_grid1,\n",
    "                           cv = 5, n_jobs = -1, verbose = 2,scoring='f1')\n",
    "# Fit the grid search to the data\n",
    "grid_search.fit(X_train, y_train)\n",
    "\n",
    "timer(start_time)\n",
    "print(grid_search.best_params_)\n",
    "\n",
    "\n",
    "xgbc_tuned = XGBClassifier(subsample=grid_search.best_params_['subsample'],\n",
    "                                   max_depth=grid_search.best_params_['max_depth'],\n",
    "                                   colsample_bytree=grid_search.best_params_['colsample_bytree'],\n",
    "                                   min_child_weight=grid_search.best_params_['min_child_weight'],\n",
    "                                   learning_rate=grid_search.best_params_['learning_rate'],\n",
    "                                   eta=grid_search.best_params_['eta'])\n",
    "xgbc_tuned.fit(X_train,y_train)\n",
    "\n",
    "## results F1 and stdF1 ##\n",
    "avgF1set1_TCunion_base2tunedXGBoost  = cross_val_score(xgbc_tuned, X, y, scoring=\"f1\", cv = 10).mean() ##<3## \n",
    "stdF1set1_TCunion_base2tunedXGBoost  = cross_val_score(xgbc_tuned, X, y, scoring=\"f1\", cv = 10).std() ##<3##\n",
    "print('Mean F1 Score: ', avgF1set1_TCunion_base2tunedXGBoost)\n",
    "print('std F1 Score: ', stdF1set1_TCunion_base2tunedXGBoost)"
   ]
  },
  {
   "cell_type": "code",
   "execution_count": 247,
   "id": "c70f4ecb",
   "metadata": {},
   "outputs": [
    {
     "name": "stdout",
     "output_type": "stream",
     "text": [
      "Fitting 5 folds for each of 729 candidates, totalling 3645 fits\n",
      "\n",
      " Time taken: 0 hours 0 minutes and 14.44 seconds.\n",
      "{'colsample_bytree': 0.75, 'eta': 0.01, 'learning_rate': 0.1, 'max_depth': 7, 'min_child_weight': 1, 'subsample': 0.2}\n",
      "Mean F1 Score:  0.8066666666666666\n",
      "std F1 Score:  0.2075250988836451\n"
     ]
    }
   ],
   "source": [
    "## tuned parameter_set2##\n",
    "\n",
    "start_time = timer(None)\n",
    "# Instantiate the grid search model\n",
    "grid_search = GridSearchCV(estimator = xgbc, param_grid = paramXGBoost_grid2,\n",
    "                           cv = 5, n_jobs = -1, verbose = 2,scoring='f1')\n",
    "# Fit the grid search to the data\n",
    "grid_search.fit(X_train, y_train)\n",
    "\n",
    "timer(start_time)\n",
    "print(grid_search.best_params_)\n",
    "\n",
    "\n",
    "xgbc_tuned = XGBClassifier(subsample=grid_search.best_params_['subsample'],\n",
    "                                   max_depth=grid_search.best_params_['max_depth'],\n",
    "                                   colsample_bytree=grid_search.best_params_['colsample_bytree'],\n",
    "                                   min_child_weight=grid_search.best_params_['min_child_weight'],\n",
    "                                   learning_rate=grid_search.best_params_['learning_rate'],\n",
    "                                   eta=grid_search.best_params_['eta'])\n",
    "xgbc_tuned.fit(X_train,y_train)\n",
    "\n",
    "## results F1 and stdF1 ##\n",
    "avgF1set2_TCunion_base2tunedXGBoost  = cross_val_score(xgbc_tuned, X, y, scoring=\"f1\", cv = 10).mean() ##<3## \n",
    "stdF1set2_TCunion_base2tunedXGBoost  = cross_val_score(xgbc_tuned, X, y, scoring=\"f1\", cv = 10).std() ##<3##\n",
    "print('Mean F1 Score: ', avgF1set2_TCunion_base2tunedXGBoost)\n",
    "print('std F1 Score: ', stdF1set2_TCunion_base2tunedXGBoost)"
   ]
  },
  {
   "cell_type": "code",
   "execution_count": 248,
   "id": "9016160d",
   "metadata": {},
   "outputs": [
    {
     "name": "stdout",
     "output_type": "stream",
     "text": [
      "Fitting 5 folds for each of 729 candidates, totalling 3645 fits\n",
      "\n",
      " Time taken: 0 hours 0 minutes and 13.36 seconds.\n",
      "{'colsample_bytree': 0.1, 'eta': 0.01, 'learning_rate': 0.1, 'max_depth': 10, 'min_child_weight': 20, 'subsample': 0.2}\n",
      "Mean F1 Score:  0.0\n",
      "std F1 Score:  0.0\n"
     ]
    }
   ],
   "source": [
    "## tuned parameter_set3##\n",
    "\n",
    "start_time = timer(None)\n",
    "# Instantiate the grid search model\n",
    "grid_search = GridSearchCV(estimator = xgbc, param_grid = paramXGBoost_grid3,\n",
    "                           cv = 5, n_jobs = -1, verbose = 2,scoring='f1')\n",
    "# Fit the grid search to the data\n",
    "grid_search.fit(X_train, y_train)\n",
    "\n",
    "timer(start_time)\n",
    "print(grid_search.best_params_)\n",
    "\n",
    "\n",
    "xgbc_tuned = XGBClassifier(subsample=grid_search.best_params_['subsample'],\n",
    "                                   max_depth=grid_search.best_params_['max_depth'],\n",
    "                                   colsample_bytree=grid_search.best_params_['colsample_bytree'],\n",
    "                                   min_child_weight=grid_search.best_params_['min_child_weight'],\n",
    "                                   learning_rate=grid_search.best_params_['learning_rate'],\n",
    "                                   eta=grid_search.best_params_['eta'])\n",
    "xgbc_tuned.fit(X_train,y_train)\n",
    "\n",
    "## results F1 and stdF1 ##\n",
    "avgF1set3_TCunion_base2tunedXGBoost  = cross_val_score(xgbc_tuned, X, y, scoring=\"f1\", cv = 10).mean() ##<3## \n",
    "stdF1set3_TCunion_base2tunedXGBoost  = cross_val_score(xgbc_tuned, X, y, scoring=\"f1\", cv = 10).std() ##<3##\n",
    "print('Mean F1 Score: ', avgF1set3_TCunion_base2tunedXGBoost)\n",
    "print('std F1 Score: ', stdF1set3_TCunion_base2tunedXGBoost)"
   ]
  },
  {
   "cell_type": "code",
   "execution_count": 249,
   "id": "627916f4",
   "metadata": {},
   "outputs": [
    {
     "name": "stdout",
     "output_type": "stream",
     "text": [
      "Fitting 5 folds for each of 729 candidates, totalling 3645 fits\n",
      "\n",
      " Time taken: 0 hours 0 minutes and 10.39 seconds.\n",
      "{'colsample_bytree': 0.1, 'eta': 0.01, 'learning_rate': 0.1, 'max_depth': 5, 'min_child_weight': 5, 'subsample': 0.75}\n",
      "Mean F1 Score:  0.26666666666666666\n",
      "std F1 Score:  0.3265986323710904\n"
     ]
    }
   ],
   "source": [
    "## tuned parameter_set4##\n",
    "\n",
    "start_time = timer(None)\n",
    "# Instantiate the grid search model\n",
    "grid_search = GridSearchCV(estimator = xgbc, param_grid = paramXGBoost_grid4,\n",
    "                           cv = 5, n_jobs = -1, verbose = 2,scoring='f1')\n",
    "# Fit the grid search to the data\n",
    "grid_search.fit(X_train, y_train)\n",
    "\n",
    "timer(start_time)\n",
    "print(grid_search.best_params_)\n",
    "\n",
    "\n",
    "xgbc_tuned = XGBClassifier(subsample=grid_search.best_params_['subsample'],\n",
    "                                   max_depth=grid_search.best_params_['max_depth'],\n",
    "                                   colsample_bytree=grid_search.best_params_['colsample_bytree'],\n",
    "                                   min_child_weight=grid_search.best_params_['min_child_weight'],\n",
    "                                   learning_rate=grid_search.best_params_['learning_rate'],\n",
    "                                   eta=grid_search.best_params_['eta'])\n",
    "xgbc_tuned.fit(X_train,y_train)\n",
    "\n",
    "## results F1 and stdF1 ##\n",
    "avgF1set4_TCunion_base2tunedXGBoost  = cross_val_score(xgbc_tuned, X, y, scoring=\"f1\", cv = 10).mean() ##<3## \n",
    "stdF1set4_TCunion_base2tunedXGBoost  = cross_val_score(xgbc_tuned, X, y, scoring=\"f1\", cv = 10).std() ##<3##\n",
    "print('Mean F1 Score: ', avgF1set4_TCunion_base2tunedXGBoost)\n",
    "print('std F1 Score: ', stdF1set4_TCunion_base2tunedXGBoost)"
   ]
  },
  {
   "cell_type": "markdown",
   "id": "4822b382",
   "metadata": {},
   "source": [
    "### threshold: 2.5%"
   ]
  },
  {
   "cell_type": "code",
   "execution_count": 250,
   "id": "2e4ce203",
   "metadata": {},
   "outputs": [
    {
     "name": "stdout",
     "output_type": "stream",
     "text": [
      "Mean F1 Score:  0.6566666666666666\n",
      "std F1 Score:  0.2959166549328825\n"
     ]
    }
   ],
   "source": [
    "# threshold: 2.5%\n",
    "f_df123_1 = pd.read_csv('f_df123_xgb.csv')\n",
    "\n",
    "\n",
    "dfMI = f_df123_1[['Feature','rank_mi']]\n",
    "dfMI = dfMI.sort_values(by=['rank_mi'])\n",
    "dfMI = dfMI.set_index('Feature')\n",
    "dfMI_p2_5 = dfMI.iloc[:thres_p2_5] ## threshold here\n",
    "dfMI_p2_5 = dfMI_p2_5.index.tolist()\n",
    "\n",
    "dfSHAP = f_df123_1[['Feature','rank_SHAP']]\n",
    "dfSHAP = dfSHAP.sort_values(by=['rank_SHAP'])\n",
    "dfSHAP = dfSHAP.set_index('Feature')\n",
    "dfSHAP_p2_5 = dfSHAP.iloc[:thres_p2_5]  ## threshold here\n",
    "dfSHAP_p2_5 = dfSHAP_p2_5.index.tolist()\n",
    "\n",
    "dfEmbed = f_df123_1[['Feature','rank_embed']]\n",
    "dfEmbed = dfEmbed.sort_values(by=['rank_embed'])\n",
    "dfEmbed = dfEmbed.set_index('Feature')\n",
    "dfEmbed_p2_5 = dfEmbed.iloc[:thres_p2_5]  ## threshold here\n",
    "dfEmbed_p2_5 = dfEmbed_p2_5.index.tolist()\n",
    "\n",
    "feature_TC = list(set().union(dfMI_p2_5+dfSHAP_p2_5+dfEmbed_p2_5))\n",
    "\n",
    "df_filter = df1.filter(items=feature_TC)\n",
    "X = df_filter\n",
    "y = df1['class']\n",
    "\n",
    "\n",
    "\n",
    "\n",
    "## before tuned ##\n",
    "X_train, X_test, y_train, y_test = train_test_split(X, y, test_size=0.2, random_state=123) \n",
    "xgbc = XGBClassifier(random_state=123)\n",
    "xgbc.fit(X_train,y_train)\n",
    "## results F1 and stdF1 ##\n",
    "avgF1_TCunion_p2_5XGBoost = cross_val_score(xgbc, X, y, scoring=\"f1\", cv = 10).mean() ##<3## \n",
    "stdF1_TCunion_p2_5XGBoost = cross_val_score(xgbc, X, y, scoring=\"f1\", cv = 10).std() ##<3##\n",
    "print('Mean F1 Score: ', avgF1_TCunion_p2_5XGBoost)\n",
    "print('std F1 Score: ', stdF1_TCunion_p2_5XGBoost)"
   ]
  },
  {
   "cell_type": "code",
   "execution_count": 251,
   "id": "7c397290",
   "metadata": {},
   "outputs": [
    {
     "data": {
      "text/plain": [
       "88"
      ]
     },
     "execution_count": 251,
     "metadata": {},
     "output_type": "execute_result"
    }
   ],
   "source": [
    "n_TCunion_p2_5XGBoost = len(feature_TC)\n",
    "n_TCunion_p2_5XGBoost"
   ]
  },
  {
   "cell_type": "code",
   "execution_count": 252,
   "id": "deceddb5",
   "metadata": {},
   "outputs": [
    {
     "name": "stdout",
     "output_type": "stream",
     "text": [
      "Fitting 5 folds for each of 729 candidates, totalling 3645 fits\n",
      "\n",
      " Time taken: 0 hours 0 minutes and 16.55 seconds.\n",
      "{'colsample_bytree': 0.5, 'eta': 0.01, 'learning_rate': 0.1, 'max_depth': 5, 'min_child_weight': 1, 'subsample': 0.5}\n",
      "Mean F1 Score:  0.7757142857142857\n",
      "std F1 Score:  0.21463939067005125\n"
     ]
    }
   ],
   "source": [
    "## tuned parameter_set1##\n",
    "\n",
    "start_time = timer(None)\n",
    "# Instantiate the grid search model\n",
    "grid_search = GridSearchCV(estimator = xgbc, param_grid = paramXGBoost_grid1,\n",
    "                           cv = 5, n_jobs = -1, verbose = 2,scoring='f1')\n",
    "# Fit the grid search to the data\n",
    "grid_search.fit(X_train, y_train)\n",
    "\n",
    "timer(start_time)\n",
    "print(grid_search.best_params_)\n",
    "\n",
    "\n",
    "xgbc_tuned = XGBClassifier(subsample=grid_search.best_params_['subsample'],\n",
    "                                   max_depth=grid_search.best_params_['max_depth'],\n",
    "                                   colsample_bytree=grid_search.best_params_['colsample_bytree'],\n",
    "                                   min_child_weight=grid_search.best_params_['min_child_weight'],\n",
    "                                   learning_rate=grid_search.best_params_['learning_rate'],\n",
    "                                   eta=grid_search.best_params_['eta'])\n",
    "xgbc_tuned.fit(X_train,y_train)\n",
    "\n",
    "## results F1 and stdF1 ##\n",
    "avgF1set1_TCunion_p2_5tunedXGBoost  = cross_val_score(xgbc_tuned, X, y, scoring=\"f1\", cv = 10).mean() ##<3## \n",
    "stdF1set1_TCunion_p2_5tunedXGBoost  = cross_val_score(xgbc_tuned, X, y, scoring=\"f1\", cv = 10).std() ##<3##\n",
    "print('Mean F1 Score: ', avgF1set1_TCunion_p2_5tunedXGBoost)\n",
    "print('std F1 Score: ', stdF1set1_TCunion_p2_5tunedXGBoost)"
   ]
  },
  {
   "cell_type": "code",
   "execution_count": 253,
   "id": "652a4499",
   "metadata": {},
   "outputs": [
    {
     "name": "stdout",
     "output_type": "stream",
     "text": [
      "Fitting 5 folds for each of 729 candidates, totalling 3645 fits\n",
      "\n",
      " Time taken: 0 hours 0 minutes and 20.91 seconds.\n",
      "{'colsample_bytree': 1, 'eta': 0.01, 'learning_rate': 0.1, 'max_depth': 7, 'min_child_weight': 0.5, 'subsample': 0.2}\n",
      "Mean F1 Score:  0.6266666666666667\n",
      "std F1 Score:  0.4239496825489239\n"
     ]
    }
   ],
   "source": [
    "## tuned parameter_set2##\n",
    "\n",
    "start_time = timer(None)\n",
    "# Instantiate the grid search model\n",
    "grid_search = GridSearchCV(estimator = xgbc, param_grid = paramXGBoost_grid2,\n",
    "                           cv = 5, n_jobs = -1, verbose = 2,scoring='f1')\n",
    "# Fit the grid search to the data\n",
    "grid_search.fit(X_train, y_train)\n",
    "\n",
    "timer(start_time)\n",
    "print(grid_search.best_params_)\n",
    "\n",
    "\n",
    "xgbc_tuned = XGBClassifier(subsample=grid_search.best_params_['subsample'],\n",
    "                                   max_depth=grid_search.best_params_['max_depth'],\n",
    "                                   colsample_bytree=grid_search.best_params_['colsample_bytree'],\n",
    "                                   min_child_weight=grid_search.best_params_['min_child_weight'],\n",
    "                                   learning_rate=grid_search.best_params_['learning_rate'],\n",
    "                                   eta=grid_search.best_params_['eta'])\n",
    "xgbc_tuned.fit(X_train,y_train)\n",
    "\n",
    "## results F1 and stdF1 ##\n",
    "avgF1set2_TCunion_p2_5tunedXGBoost  = cross_val_score(xgbc_tuned, X, y, scoring=\"f1\", cv = 10).mean() ##<3## \n",
    "stdF1set2_TCunion_p2_5tunedXGBoost  = cross_val_score(xgbc_tuned, X, y, scoring=\"f1\", cv = 10).std() ##<3##\n",
    "print('Mean F1 Score: ', avgF1set2_TCunion_p2_5tunedXGBoost)\n",
    "print('std F1 Score: ', stdF1set2_TCunion_p2_5tunedXGBoost)"
   ]
  },
  {
   "cell_type": "code",
   "execution_count": 254,
   "id": "6d7148dd",
   "metadata": {},
   "outputs": [
    {
     "name": "stdout",
     "output_type": "stream",
     "text": [
      "Fitting 5 folds for each of 729 candidates, totalling 3645 fits\n",
      "\n",
      " Time taken: 0 hours 0 minutes and 14.22 seconds.\n",
      "{'colsample_bytree': 0.1, 'eta': 0.01, 'learning_rate': 0.1, 'max_depth': 10, 'min_child_weight': 20, 'subsample': 0.2}\n",
      "Mean F1 Score:  0.0\n",
      "std F1 Score:  0.0\n"
     ]
    }
   ],
   "source": [
    "## tuned parameter_set3##\n",
    "\n",
    "start_time = timer(None)\n",
    "# Instantiate the grid search model\n",
    "grid_search = GridSearchCV(estimator = xgbc, param_grid = paramXGBoost_grid3,\n",
    "                           cv = 5, n_jobs = -1, verbose = 2,scoring='f1')\n",
    "# Fit the grid search to the data\n",
    "grid_search.fit(X_train, y_train)\n",
    "\n",
    "timer(start_time)\n",
    "print(grid_search.best_params_)\n",
    "\n",
    "\n",
    "xgbc_tuned = XGBClassifier(subsample=grid_search.best_params_['subsample'],\n",
    "                                   max_depth=grid_search.best_params_['max_depth'],\n",
    "                                   colsample_bytree=grid_search.best_params_['colsample_bytree'],\n",
    "                                   min_child_weight=grid_search.best_params_['min_child_weight'],\n",
    "                                   learning_rate=grid_search.best_params_['learning_rate'],\n",
    "                                   eta=grid_search.best_params_['eta'])\n",
    "xgbc_tuned.fit(X_train,y_train)\n",
    "\n",
    "## results F1 and stdF1 ##\n",
    "avgF1set3_TCunion_p2_5tunedXGBoost  = cross_val_score(xgbc_tuned, X, y, scoring=\"f1\", cv = 10).mean() ##<3## \n",
    "stdF1set3_TCunion_p2_5tunedXGBoost  = cross_val_score(xgbc_tuned, X, y, scoring=\"f1\", cv = 10).std() ##<3##\n",
    "print('Mean F1 Score: ', avgF1set3_TCunion_p2_5tunedXGBoost)\n",
    "print('std F1 Score: ', stdF1set3_TCunion_p2_5tunedXGBoost)"
   ]
  },
  {
   "cell_type": "code",
   "execution_count": 255,
   "id": "619432bc",
   "metadata": {},
   "outputs": [
    {
     "name": "stdout",
     "output_type": "stream",
     "text": [
      "Fitting 5 folds for each of 729 candidates, totalling 3645 fits\n",
      "\n",
      " Time taken: 0 hours 0 minutes and 13.39 seconds.\n",
      "{'colsample_bytree': 0.1, 'eta': 0.01, 'learning_rate': 0.1, 'max_depth': 5, 'min_child_weight': 5, 'subsample': 0.75}\n",
      "Mean F1 Score:  0.31666666666666665\n",
      "std F1 Score:  0.32015621187164245\n"
     ]
    }
   ],
   "source": [
    "## tuned parameter_set4##\n",
    "\n",
    "start_time = timer(None)\n",
    "# Instantiate the grid search model\n",
    "grid_search = GridSearchCV(estimator = xgbc, param_grid = paramXGBoost_grid4,\n",
    "                           cv = 5, n_jobs = -1, verbose = 2,scoring='f1')\n",
    "# Fit the grid search to the data\n",
    "grid_search.fit(X_train, y_train)\n",
    "\n",
    "timer(start_time)\n",
    "print(grid_search.best_params_)\n",
    "\n",
    "\n",
    "xgbc_tuned = XGBClassifier(subsample=grid_search.best_params_['subsample'],\n",
    "                                   max_depth=grid_search.best_params_['max_depth'],\n",
    "                                   colsample_bytree=grid_search.best_params_['colsample_bytree'],\n",
    "                                   min_child_weight=grid_search.best_params_['min_child_weight'],\n",
    "                                   learning_rate=grid_search.best_params_['learning_rate'],\n",
    "                                   eta=grid_search.best_params_['eta'])\n",
    "xgbc_tuned.fit(X_train,y_train)\n",
    "\n",
    "## results F1 and stdF1 ##\n",
    "avgF1set4_TCunion_p2_5tunedXGBoost  = cross_val_score(xgbc_tuned, X, y, scoring=\"f1\", cv = 10).mean() ##<3## \n",
    "stdF1set4_TCunion_p2_5tunedXGBoost  = cross_val_score(xgbc_tuned, X, y, scoring=\"f1\", cv = 10).std() ##<3##\n",
    "print('Mean F1 Score: ', avgF1set4_TCunion_p2_5tunedXGBoost)\n",
    "print('std F1 Score: ', stdF1set4_TCunion_p2_5tunedXGBoost)"
   ]
  },
  {
   "cell_type": "raw",
   "id": "2c22031f",
   "metadata": {},
   "source": []
  },
  {
   "cell_type": "code",
   "execution_count": null,
   "id": "41586df6",
   "metadata": {},
   "outputs": [],
   "source": []
  },
  {
   "cell_type": "code",
   "execution_count": null,
   "id": "1f92a1d9",
   "metadata": {},
   "outputs": [],
   "source": []
  },
  {
   "cell_type": "code",
   "execution_count": null,
   "id": "7dda27bf",
   "metadata": {},
   "outputs": [],
   "source": []
  },
  {
   "cell_type": "markdown",
   "id": "c77a664a",
   "metadata": {},
   "source": [
    "### threshold: 5%"
   ]
  },
  {
   "cell_type": "code",
   "execution_count": 256,
   "id": "511eb2c2",
   "metadata": {},
   "outputs": [
    {
     "name": "stdout",
     "output_type": "stream",
     "text": [
      "Mean F1 Score:  0.7090476190476191\n",
      "std F1 Score:  0.18423648905747947\n"
     ]
    }
   ],
   "source": [
    "# threshold: 5%\n",
    "f_df123_1 = pd.read_csv('f_df123_xgb.csv')\n",
    "\n",
    "\n",
    "dfMI = f_df123_1[['Feature','rank_mi']]\n",
    "dfMI = dfMI.sort_values(by=['rank_mi'])\n",
    "dfMI = dfMI.set_index('Feature')\n",
    "dfMI_p5 = dfMI.iloc[:thres_p5] ## threshold here\n",
    "dfMI_p5 = dfMI_p5.index.tolist()\n",
    "\n",
    "dfSHAP = f_df123_1[['Feature','rank_SHAP']]\n",
    "dfSHAP = dfSHAP.sort_values(by=['rank_SHAP'])\n",
    "dfSHAP = dfSHAP.set_index('Feature')\n",
    "dfSHAP_p5 = dfSHAP.iloc[:thres_p5]  ## threshold here\n",
    "dfSHAP_p5 = dfSHAP_p5.index.tolist()\n",
    "\n",
    "dfEmbed = f_df123_1[['Feature','rank_embed']]\n",
    "dfEmbed = dfEmbed.sort_values(by=['rank_embed'])\n",
    "dfEmbed = dfEmbed.set_index('Feature')\n",
    "dfEmbed_p5 = dfEmbed.iloc[:thres_p5]  ## threshold here\n",
    "dfEmbed_p5 = dfEmbed_p5.index.tolist()\n",
    "\n",
    "feature_TC = list(set().union(dfMI_p5+dfSHAP_p5+dfEmbed_p5))\n",
    "\n",
    "df_filter = df1.filter(items=feature_TC)\n",
    "X = df_filter\n",
    "y = df1['class']\n",
    "\n",
    "\n",
    "\n",
    "\n",
    "## before tuned ##\n",
    "X_train, X_test, y_train, y_test = train_test_split(X, y, test_size=0.2, random_state=123) \n",
    "xgbc = XGBClassifier(random_state=123)\n",
    "xgbc.fit(X_train,y_train)\n",
    "## results F1 and stdF1 ##\n",
    "avgF1_TCunion_p5XGBoost = cross_val_score(xgbc, X, y, scoring=\"f1\", cv = 10).mean() ##<3## \n",
    "stdF1_TCunion_p5XGBoost = cross_val_score(xgbc, X, y, scoring=\"f1\", cv = 10).std() ##<3##\n",
    "print('Mean F1 Score: ', avgF1_TCunion_p5XGBoost)\n",
    "print('std F1 Score: ', stdF1_TCunion_p5XGBoost)"
   ]
  },
  {
   "cell_type": "code",
   "execution_count": 257,
   "id": "0be919fd",
   "metadata": {},
   "outputs": [
    {
     "data": {
      "text/plain": [
       "175"
      ]
     },
     "execution_count": 257,
     "metadata": {},
     "output_type": "execute_result"
    }
   ],
   "source": [
    "n_TCunion_p5XGBoost = len(feature_TC)\n",
    "n_TCunion_p5XGBoost"
   ]
  },
  {
   "cell_type": "code",
   "execution_count": 258,
   "id": "66f35dfa",
   "metadata": {},
   "outputs": [
    {
     "name": "stdout",
     "output_type": "stream",
     "text": [
      "Fitting 5 folds for each of 729 candidates, totalling 3645 fits\n",
      "\n",
      " Time taken: 0 hours 0 minutes and 19.17 seconds.\n",
      "{'colsample_bytree': 1, 'eta': 0.01, 'learning_rate': 0.1, 'max_depth': 5, 'min_child_weight': 1, 'subsample': 0.5}\n",
      "Mean F1 Score:  0.6757142857142857\n",
      "std F1 Score:  0.30201477641014196\n"
     ]
    }
   ],
   "source": [
    "## tuned parameter_set1##\n",
    "\n",
    "start_time = timer(None)\n",
    "# Instantiate the grid search model\n",
    "grid_search = GridSearchCV(estimator = xgbc, param_grid = paramXGBoost_grid1,\n",
    "                           cv = 5, n_jobs = -1, verbose = 2,scoring='f1')\n",
    "# Fit the grid search to the data\n",
    "grid_search.fit(X_train, y_train)\n",
    "\n",
    "timer(start_time)\n",
    "print(grid_search.best_params_)\n",
    "\n",
    "\n",
    "xgbc_tuned = XGBClassifier(subsample=grid_search.best_params_['subsample'],\n",
    "                                   max_depth=grid_search.best_params_['max_depth'],\n",
    "                                   colsample_bytree=grid_search.best_params_['colsample_bytree'],\n",
    "                                   min_child_weight=grid_search.best_params_['min_child_weight'],\n",
    "                                   learning_rate=grid_search.best_params_['learning_rate'],\n",
    "                                   eta=grid_search.best_params_['eta'])\n",
    "xgbc_tuned.fit(X_train,y_train)\n",
    "\n",
    "## results F1 and stdF1 ##\n",
    "avgF1set1_TCunion_p5tunedXGBoost  = cross_val_score(xgbc_tuned, X, y, scoring=\"f1\", cv = 10).mean() ##<3## \n",
    "stdF1set1_TCunion_p5tunedXGBoost  = cross_val_score(xgbc_tuned, X, y, scoring=\"f1\", cv = 10).std() ##<3##\n",
    "print('Mean F1 Score: ', avgF1set1_TCunion_p5tunedXGBoost)\n",
    "print('std F1 Score: ', stdF1set1_TCunion_p5tunedXGBoost)"
   ]
  },
  {
   "cell_type": "code",
   "execution_count": 259,
   "id": "f7e1835e",
   "metadata": {},
   "outputs": [
    {
     "name": "stdout",
     "output_type": "stream",
     "text": [
      "Fitting 5 folds for each of 729 candidates, totalling 3645 fits\n",
      "\n",
      " Time taken: 0 hours 0 minutes and 28.5 seconds.\n",
      "{'colsample_bytree': 1, 'eta': 0.01, 'learning_rate': 0.05, 'max_depth': 7, 'min_child_weight': 0.1, 'subsample': 0.2}\n",
      "Mean F1 Score:  0.579047619047619\n",
      "std F1 Score:  0.39377929290311137\n"
     ]
    }
   ],
   "source": [
    "## tuned parameter_set2##\n",
    "\n",
    "start_time = timer(None)\n",
    "# Instantiate the grid search model\n",
    "grid_search = GridSearchCV(estimator = xgbc, param_grid = paramXGBoost_grid2,\n",
    "                           cv = 5, n_jobs = -1, verbose = 2,scoring='f1')\n",
    "# Fit the grid search to the data\n",
    "grid_search.fit(X_train, y_train)\n",
    "\n",
    "timer(start_time)\n",
    "print(grid_search.best_params_)\n",
    "\n",
    "\n",
    "xgbc_tuned = XGBClassifier(subsample=grid_search.best_params_['subsample'],\n",
    "                                   max_depth=grid_search.best_params_['max_depth'],\n",
    "                                   colsample_bytree=grid_search.best_params_['colsample_bytree'],\n",
    "                                   min_child_weight=grid_search.best_params_['min_child_weight'],\n",
    "                                   learning_rate=grid_search.best_params_['learning_rate'],\n",
    "                                   eta=grid_search.best_params_['eta'])\n",
    "xgbc_tuned.fit(X_train,y_train)\n",
    "\n",
    "## results F1 and stdF1 ##\n",
    "avgF1set2_TCunion_p5tunedXGBoost  = cross_val_score(xgbc_tuned, X, y, scoring=\"f1\", cv = 10).mean() ##<3## \n",
    "stdF1set2_TCunion_p5tunedXGBoost  = cross_val_score(xgbc_tuned, X, y, scoring=\"f1\", cv = 10).std() ##<3##\n",
    "print('Mean F1 Score: ', avgF1set2_TCunion_p5tunedXGBoost)\n",
    "print('std F1 Score: ', stdF1set2_TCunion_p5tunedXGBoost)"
   ]
  },
  {
   "cell_type": "code",
   "execution_count": 260,
   "id": "14b5dc87",
   "metadata": {},
   "outputs": [
    {
     "name": "stdout",
     "output_type": "stream",
     "text": [
      "Fitting 5 folds for each of 729 candidates, totalling 3645 fits\n",
      "\n",
      " Time taken: 0 hours 0 minutes and 13.82 seconds.\n",
      "{'colsample_bytree': 0.1, 'eta': 0.01, 'learning_rate': 0.1, 'max_depth': 10, 'min_child_weight': 20, 'subsample': 0.2}\n",
      "Mean F1 Score:  0.0\n",
      "std F1 Score:  0.0\n"
     ]
    }
   ],
   "source": [
    "## tuned parameter_set3##\n",
    "\n",
    "start_time = timer(None)\n",
    "# Instantiate the grid search model\n",
    "grid_search = GridSearchCV(estimator = xgbc, param_grid = paramXGBoost_grid3,\n",
    "                           cv = 5, n_jobs = -1, verbose = 2,scoring='f1')\n",
    "# Fit the grid search to the data\n",
    "grid_search.fit(X_train, y_train)\n",
    "\n",
    "timer(start_time)\n",
    "print(grid_search.best_params_)\n",
    "\n",
    "\n",
    "xgbc_tuned = XGBClassifier(subsample=grid_search.best_params_['subsample'],\n",
    "                                   max_depth=grid_search.best_params_['max_depth'],\n",
    "                                   colsample_bytree=grid_search.best_params_['colsample_bytree'],\n",
    "                                   min_child_weight=grid_search.best_params_['min_child_weight'],\n",
    "                                   learning_rate=grid_search.best_params_['learning_rate'],\n",
    "                                   eta=grid_search.best_params_['eta'])\n",
    "xgbc_tuned.fit(X_train,y_train)\n",
    "\n",
    "## results F1 and stdF1 ##\n",
    "avgF1set3_TCunion_p5tunedXGBoost  = cross_val_score(xgbc_tuned, X, y, scoring=\"f1\", cv = 10).mean() ##<3## \n",
    "stdF1set3_TCunion_p5tunedXGBoost  = cross_val_score(xgbc_tuned, X, y, scoring=\"f1\", cv = 10).std() ##<3##\n",
    "print('Mean F1 Score: ', avgF1set3_TCunion_p5tunedXGBoost)\n",
    "print('std F1 Score: ', stdF1set3_TCunion_p5tunedXGBoost)"
   ]
  },
  {
   "cell_type": "code",
   "execution_count": 261,
   "id": "ebdcb35f",
   "metadata": {},
   "outputs": [
    {
     "name": "stdout",
     "output_type": "stream",
     "text": [
      "Fitting 5 folds for each of 729 candidates, totalling 3645 fits\n",
      "\n",
      " Time taken: 0 hours 0 minutes and 15.4 seconds.\n",
      "{'colsample_bytree': 0.1, 'eta': 0.01, 'learning_rate': 0.1, 'max_depth': 5, 'min_child_weight': 5, 'subsample': 0.75}\n",
      "Mean F1 Score:  0.1833333333333333\n",
      "std F1 Score:  0.2833333333333333\n"
     ]
    }
   ],
   "source": [
    "## tuned parameter_set4##\n",
    "\n",
    "start_time = timer(None)\n",
    "# Instantiate the grid search model\n",
    "grid_search = GridSearchCV(estimator = xgbc, param_grid = paramXGBoost_grid4,\n",
    "                           cv = 5, n_jobs = -1, verbose = 2,scoring='f1')\n",
    "# Fit the grid search to the data\n",
    "grid_search.fit(X_train, y_train)\n",
    "\n",
    "timer(start_time)\n",
    "print(grid_search.best_params_)\n",
    "\n",
    "\n",
    "xgbc_tuned = XGBClassifier(subsample=grid_search.best_params_['subsample'],\n",
    "                                   max_depth=grid_search.best_params_['max_depth'],\n",
    "                                   colsample_bytree=grid_search.best_params_['colsample_bytree'],\n",
    "                                   min_child_weight=grid_search.best_params_['min_child_weight'],\n",
    "                                   learning_rate=grid_search.best_params_['learning_rate'],\n",
    "                                   eta=grid_search.best_params_['eta'])\n",
    "xgbc_tuned.fit(X_train,y_train)\n",
    "\n",
    "## results F1 and stdF1 ##\n",
    "avgF1set4_TCunion_p5tunedXGBoost  = cross_val_score(xgbc_tuned, X, y, scoring=\"f1\", cv = 10).mean() ##<3## \n",
    "stdF1set4_TCunion_p5tunedXGBoost  = cross_val_score(xgbc_tuned, X, y, scoring=\"f1\", cv = 10).std() ##<3##\n",
    "print('Mean F1 Score: ', avgF1set4_TCunion_p5tunedXGBoost)\n",
    "print('std F1 Score: ', stdF1set4_TCunion_p5tunedXGBoost)"
   ]
  },
  {
   "cell_type": "code",
   "execution_count": null,
   "id": "6e7e0616",
   "metadata": {},
   "outputs": [],
   "source": []
  },
  {
   "cell_type": "code",
   "execution_count": null,
   "id": "98384b71",
   "metadata": {},
   "outputs": [],
   "source": []
  },
  {
   "cell_type": "code",
   "execution_count": null,
   "id": "8f89862d",
   "metadata": {},
   "outputs": [],
   "source": []
  },
  {
   "cell_type": "markdown",
   "id": "46151b61",
   "metadata": {},
   "source": [
    "### threshold: 10%"
   ]
  },
  {
   "cell_type": "code",
   "execution_count": 262,
   "id": "1ae1187d",
   "metadata": {},
   "outputs": [
    {
     "name": "stdout",
     "output_type": "stream",
     "text": [
      "Mean F1 Score:  0.7233333333333334\n",
      "std F1 Score:  0.2000277758490333\n"
     ]
    }
   ],
   "source": [
    "# threshold: 10%\n",
    "f_df123_1 = pd.read_csv('f_df123_xgb.csv')\n",
    "\n",
    "\n",
    "dfMI = f_df123_1[['Feature','rank_mi']]\n",
    "dfMI = dfMI.sort_values(by=['rank_mi'])\n",
    "dfMI = dfMI.set_index('Feature')\n",
    "dfMI_p10 = dfMI.iloc[:thres_p10] ## threshold here\n",
    "dfMI_p10 = dfMI_p10.index.tolist()\n",
    "\n",
    "dfSHAP = f_df123_1[['Feature','rank_SHAP']]\n",
    "dfSHAP = dfSHAP.sort_values(by=['rank_SHAP'])\n",
    "dfSHAP = dfSHAP.set_index('Feature')\n",
    "dfSHAP_p10 = dfSHAP.iloc[:thres_p10]  ## threshold here\n",
    "dfSHAP_p10 = dfSHAP_p10.index.tolist()\n",
    "\n",
    "dfEmbed = f_df123_1[['Feature','rank_embed']]\n",
    "dfEmbed = dfEmbed.sort_values(by=['rank_embed'])\n",
    "dfEmbed = dfEmbed.set_index('Feature')\n",
    "dfEmbed_p10 = dfEmbed.iloc[:thres_p10]  ## threshold here\n",
    "dfEmbed_p10 = dfEmbed_p10.index.tolist()\n",
    "\n",
    "feature_TC = list(set().union(dfMI_p10+dfSHAP_p10+dfEmbed_p10))\n",
    "\n",
    "df_filter = df1.filter(items=feature_TC)\n",
    "\n",
    "X = df_filter\n",
    "y = df1['class']\n",
    "\n",
    "\n",
    "\n",
    "\n",
    "## before tuned ##\n",
    "X_train, X_test, y_train, y_test = train_test_split(X, y, test_size=0.2, random_state=123) \n",
    "xgbc = XGBClassifier(random_state=123)\n",
    "xgbc.fit(X_train,y_train)\n",
    "## results F1 and stdF1 ##\n",
    "avgF1_TCunion_p10XGBoost = cross_val_score(xgbc, X, y, scoring=\"f1\", cv = 10).mean() ##<3## \n",
    "stdF1_TCunion_p10XGBoost = cross_val_score(xgbc, X, y, scoring=\"f1\", cv = 10).std() ##<3##\n",
    "print('Mean F1 Score: ', avgF1_TCunion_p10XGBoost)\n",
    "print('std F1 Score: ', stdF1_TCunion_p10XGBoost)"
   ]
  },
  {
   "cell_type": "code",
   "execution_count": 263,
   "id": "d833689e",
   "metadata": {},
   "outputs": [
    {
     "data": {
      "text/plain": [
       "353"
      ]
     },
     "execution_count": 263,
     "metadata": {},
     "output_type": "execute_result"
    }
   ],
   "source": [
    "n_TCunion_p10XGBoost = len(feature_TC)\n",
    "n_TCunion_p10XGBoost"
   ]
  },
  {
   "cell_type": "code",
   "execution_count": 264,
   "id": "d9958c14",
   "metadata": {},
   "outputs": [
    {
     "name": "stdout",
     "output_type": "stream",
     "text": [
      "Fitting 5 folds for each of 729 candidates, totalling 3645 fits\n",
      "\n",
      " Time taken: 0 hours 0 minutes and 25.83 seconds.\n",
      "{'colsample_bytree': 0.5, 'eta': 0.01, 'learning_rate': 0.05, 'max_depth': 5, 'min_child_weight': 1, 'subsample': 0.5}\n",
      "Mean F1 Score:  0.6923809523809524\n",
      "std F1 Score:  0.1945656246949218\n"
     ]
    }
   ],
   "source": [
    "## tuned parameter_set1##\n",
    "\n",
    "start_time = timer(None)\n",
    "# Instantiate the grid search model\n",
    "grid_search = GridSearchCV(estimator = xgbc, param_grid = paramXGBoost_grid1,\n",
    "                           cv = 5, n_jobs = -1, verbose = 2,scoring='f1')\n",
    "# Fit the grid search to the data\n",
    "grid_search.fit(X_train, y_train)\n",
    "\n",
    "timer(start_time)\n",
    "print(grid_search.best_params_)\n",
    "\n",
    "\n",
    "xgbc_tuned = XGBClassifier(subsample=grid_search.best_params_['subsample'],\n",
    "                                   max_depth=grid_search.best_params_['max_depth'],\n",
    "                                   colsample_bytree=grid_search.best_params_['colsample_bytree'],\n",
    "                                   min_child_weight=grid_search.best_params_['min_child_weight'],\n",
    "                                   learning_rate=grid_search.best_params_['learning_rate'],\n",
    "                                   eta=grid_search.best_params_['eta'])\n",
    "xgbc_tuned.fit(X_train,y_train)\n",
    "\n",
    "## results F1 and stdF1 ##\n",
    "avgF1set1_TCunion_p10tunedXGBoost  = cross_val_score(xgbc_tuned, X, y, scoring=\"f1\", cv = 10).mean() ##<3## \n",
    "stdF1set1_TCunion_p10tunedXGBoost  = cross_val_score(xgbc_tuned, X, y, scoring=\"f1\", cv = 10).std() ##<3##\n",
    "print('Mean F1 Score: ', avgF1set1_TCunion_p10tunedXGBoost)\n",
    "print('std F1 Score: ', stdF1set1_TCunion_p10tunedXGBoost)"
   ]
  },
  {
   "cell_type": "code",
   "execution_count": 265,
   "id": "7606cc8a",
   "metadata": {},
   "outputs": [
    {
     "name": "stdout",
     "output_type": "stream",
     "text": [
      "Fitting 5 folds for each of 729 candidates, totalling 3645 fits\n",
      "\n",
      " Time taken: 0 hours 0 minutes and 40.2 seconds.\n",
      "{'colsample_bytree': 1, 'eta': 0.01, 'learning_rate': 0.1, 'max_depth': 7, 'min_child_weight': 0.5, 'subsample': 0.2}\n",
      "Mean F1 Score:  0.6857142857142857\n",
      "std F1 Score:  0.28389899516515077\n"
     ]
    }
   ],
   "source": [
    "## tuned parameter_set2##\n",
    "\n",
    "start_time = timer(None)\n",
    "# Instantiate the grid search model\n",
    "grid_search = GridSearchCV(estimator = xgbc, param_grid = paramXGBoost_grid2,\n",
    "                           cv = 5, n_jobs = -1, verbose = 2,scoring='f1')\n",
    "# Fit the grid search to the data\n",
    "grid_search.fit(X_train, y_train)\n",
    "\n",
    "timer(start_time)\n",
    "print(grid_search.best_params_)\n",
    "\n",
    "\n",
    "xgbc_tuned = XGBClassifier(subsample=grid_search.best_params_['subsample'],\n",
    "                                   max_depth=grid_search.best_params_['max_depth'],\n",
    "                                   colsample_bytree=grid_search.best_params_['colsample_bytree'],\n",
    "                                   min_child_weight=grid_search.best_params_['min_child_weight'],\n",
    "                                   learning_rate=grid_search.best_params_['learning_rate'],\n",
    "                                   eta=grid_search.best_params_['eta'])\n",
    "xgbc_tuned.fit(X_train,y_train)\n",
    "\n",
    "## results F1 and stdF1 ##\n",
    "avgF1set2_TCunion_p10tunedXGBoost = cross_val_score(xgbc_tuned, X, y, scoring=\"f1\", cv = 10).mean() ##<3## \n",
    "stdF1set2_TCunion_p10tunedXGBoost  = cross_val_score(xgbc_tuned, X, y, scoring=\"f1\", cv = 10).std() ##<3##\n",
    "print('Mean F1 Score: ', avgF1set2_TCunion_p10tunedXGBoost)\n",
    "print('std F1 Score: ', stdF1set2_TCunion_p10tunedXGBoost)"
   ]
  },
  {
   "cell_type": "code",
   "execution_count": 266,
   "id": "98617b00",
   "metadata": {},
   "outputs": [
    {
     "name": "stdout",
     "output_type": "stream",
     "text": [
      "Fitting 5 folds for each of 729 candidates, totalling 3645 fits\n",
      "\n",
      " Time taken: 0 hours 0 minutes and 18.14 seconds.\n",
      "{'colsample_bytree': 0.1, 'eta': 0.01, 'learning_rate': 0.1, 'max_depth': 10, 'min_child_weight': 20, 'subsample': 0.2}\n",
      "Mean F1 Score:  0.0\n",
      "std F1 Score:  0.0\n"
     ]
    }
   ],
   "source": [
    "## tuned parameter_set3##\n",
    "\n",
    "start_time = timer(None)\n",
    "# Instantiate the grid search model\n",
    "grid_search = GridSearchCV(estimator = xgbc, param_grid = paramXGBoost_grid3,\n",
    "                           cv = 5, n_jobs = -1, verbose = 2,scoring='f1')\n",
    "# Fit the grid search to the data\n",
    "grid_search.fit(X_train, y_train)\n",
    "\n",
    "timer(start_time)\n",
    "print(grid_search.best_params_)\n",
    "\n",
    "\n",
    "xgbc_tuned = XGBClassifier(subsample=grid_search.best_params_['subsample'],\n",
    "                                   max_depth=grid_search.best_params_['max_depth'],\n",
    "                                   colsample_bytree=grid_search.best_params_['colsample_bytree'],\n",
    "                                   min_child_weight=grid_search.best_params_['min_child_weight'],\n",
    "                                   learning_rate=grid_search.best_params_['learning_rate'],\n",
    "                                   eta=grid_search.best_params_['eta'])\n",
    "xgbc_tuned.fit(X_train,y_train)\n",
    "\n",
    "## results F1 and stdF1 ##\n",
    "avgF1set3_TCunion_p10tunedXGBoost  = cross_val_score(xgbc_tuned, X, y, scoring=\"f1\", cv = 10).mean() ##<3## \n",
    "stdF1set3_TCunion_p10tunedXGBoost  = cross_val_score(xgbc_tuned, X, y, scoring=\"f1\", cv = 10).std() ##<3##\n",
    "print('Mean F1 Score: ', avgF1set3_TCunion_p10tunedXGBoost)\n",
    "print('std F1 Score: ', stdF1set3_TCunion_p10tunedXGBoost)"
   ]
  },
  {
   "cell_type": "code",
   "execution_count": 267,
   "id": "37f57a41",
   "metadata": {},
   "outputs": [
    {
     "name": "stdout",
     "output_type": "stream",
     "text": [
      "Fitting 5 folds for each of 729 candidates, totalling 3645 fits\n",
      "\n",
      " Time taken: 0 hours 0 minutes and 15.9 seconds.\n",
      "{'colsample_bytree': 0.1, 'eta': 0.01, 'learning_rate': 0.1, 'max_depth': 5, 'min_child_weight': 5, 'subsample': 0.75}\n",
      "Mean F1 Score:  0.3333333333333333\n",
      "std F1 Score:  0.33333333333333337\n"
     ]
    }
   ],
   "source": [
    "## tuned parameter_set4##\n",
    "\n",
    "start_time = timer(None)\n",
    "# Instantiate the grid search model\n",
    "grid_search = GridSearchCV(estimator = xgbc, param_grid = paramXGBoost_grid4,\n",
    "                           cv = 5, n_jobs = -1, verbose = 2,scoring='f1')\n",
    "# Fit the grid search to the data\n",
    "grid_search.fit(X_train, y_train)\n",
    "\n",
    "timer(start_time)\n",
    "print(grid_search.best_params_)\n",
    "\n",
    "\n",
    "xgbc_tuned = XGBClassifier(subsample=grid_search.best_params_['subsample'],\n",
    "                                   max_depth=grid_search.best_params_['max_depth'],\n",
    "                                   colsample_bytree=grid_search.best_params_['colsample_bytree'],\n",
    "                                   min_child_weight=grid_search.best_params_['min_child_weight'],\n",
    "                                   learning_rate=grid_search.best_params_['learning_rate'],\n",
    "                                   eta=grid_search.best_params_['eta'])\n",
    "xgbc_tuned.fit(X_train,y_train)\n",
    "\n",
    "## results F1 and stdF1 ##\n",
    "avgF1set4_TCunion_p10tunedXGBoost  = cross_val_score(xgbc_tuned, X, y, scoring=\"f1\", cv = 10).mean() ##<3## \n",
    "stdF1set4_TCunion_p10tunedXGBoost = cross_val_score(xgbc_tuned, X, y, scoring=\"f1\", cv = 10).std() ##<3##\n",
    "print('Mean F1 Score: ', avgF1set4_TCunion_p10tunedXGBoost)\n",
    "print('std F1 Score: ', stdF1set4_TCunion_p10tunedXGBoost)"
   ]
  },
  {
   "cell_type": "code",
   "execution_count": null,
   "id": "7b6102d3",
   "metadata": {},
   "outputs": [],
   "source": [
    "\n"
   ]
  },
  {
   "cell_type": "markdown",
   "id": "65a75d1b",
   "metadata": {},
   "source": [
    "### threshold: 20%"
   ]
  },
  {
   "cell_type": "code",
   "execution_count": 268,
   "id": "578cba54",
   "metadata": {},
   "outputs": [
    {
     "name": "stdout",
     "output_type": "stream",
     "text": [
      "Mean F1 Score:  0.7423809523809524\n",
      "std F1 Score:  0.20277496658816127\n"
     ]
    }
   ],
   "source": [
    "# threshold: 20%\n",
    "f_df123_1 = pd.read_csv('f_df123_xgb.csv')\n",
    "\n",
    "\n",
    "dfMI = f_df123_1[['Feature','rank_mi']]\n",
    "dfMI = dfMI.sort_values(by=['rank_mi'])\n",
    "dfMI = dfMI.set_index('Feature')\n",
    "dfMI_p20 = dfMI.iloc[:thres_p20] ## threshold here\n",
    "dfMI_p20 = dfMI_p20.index.tolist()\n",
    "\n",
    "dfSHAP = f_df123_1[['Feature','rank_SHAP']]\n",
    "dfSHAP = dfSHAP.sort_values(by=['rank_SHAP'])\n",
    "dfSHAP = dfSHAP.set_index('Feature')\n",
    "dfSHAP_p20 = dfSHAP.iloc[:thres_p20]  ## threshold here\n",
    "dfSHAP_p20 = dfSHAP_p20.index.tolist()\n",
    "\n",
    "dfEmbed = f_df123_1[['Feature','rank_embed']]\n",
    "dfEmbed = dfEmbed.sort_values(by=['rank_embed'])\n",
    "dfEmbed = dfEmbed.set_index('Feature')\n",
    "dfEmbed_p20 = dfEmbed.iloc[:thres_p20]  ## threshold here\n",
    "dfEmbed_p20 = dfEmbed_p20.index.tolist()\n",
    "\n",
    "feature_TC = list(set().union(dfMI_p20+dfSHAP_p20+dfEmbed_p20))\n",
    "\n",
    "df_filter = df1.filter(items=feature_TC)\n",
    "X = df_filter\n",
    "y = df1['class']\n",
    "\n",
    "\n",
    "\n",
    "\n",
    "## before tuned ##\n",
    "X_train, X_test, y_train, y_test = train_test_split(X, y, test_size=0.2, random_state=123) \n",
    "xgbc = XGBClassifier(random_state=123)\n",
    "xgbc.fit(X_train,y_train)\n",
    "## results F1 and stdF1 ##\n",
    "avgF1_TCunion_p20XGBoost = cross_val_score(xgbc, X, y, scoring=\"f1\", cv = 10).mean() ##<3## \n",
    "stdF1_TCunion_p20XGBoost = cross_val_score(xgbc, X, y, scoring=\"f1\", cv = 10).std() ##<3##\n",
    "print('Mean F1 Score: ', avgF1_TCunion_p20XGBoost)\n",
    "print('std F1 Score: ', stdF1_TCunion_p20XGBoost)"
   ]
  },
  {
   "cell_type": "code",
   "execution_count": 269,
   "id": "c8b5b837",
   "metadata": {},
   "outputs": [
    {
     "data": {
      "text/plain": [
       "702"
      ]
     },
     "execution_count": 269,
     "metadata": {},
     "output_type": "execute_result"
    }
   ],
   "source": [
    "n_TCunion_p20XGBoost = len(feature_TC)\n",
    "n_TCunion_p20XGBoost"
   ]
  },
  {
   "cell_type": "code",
   "execution_count": 270,
   "id": "ad309500",
   "metadata": {},
   "outputs": [
    {
     "name": "stdout",
     "output_type": "stream",
     "text": [
      "Fitting 5 folds for each of 729 candidates, totalling 3645 fits\n",
      "\n",
      " Time taken: 0 hours 0 minutes and 43.8 seconds.\n",
      "{'colsample_bytree': 0.5, 'eta': 0.01, 'learning_rate': 0.1, 'max_depth': 5, 'min_child_weight': 1, 'subsample': 0.5}\n",
      "Mean F1 Score:  0.6757142857142857\n",
      "std F1 Score:  0.30201477641014196\n"
     ]
    }
   ],
   "source": [
    "## tuned parameter_set1##\n",
    "\n",
    "start_time = timer(None)\n",
    "# Instantiate the grid search model\n",
    "grid_search = GridSearchCV(estimator = xgbc, param_grid = paramXGBoost_grid1,\n",
    "                           cv = 5, n_jobs = -1, verbose = 2,scoring='f1')\n",
    "# Fit the grid search to the data\n",
    "grid_search.fit(X_train, y_train)\n",
    "\n",
    "timer(start_time)\n",
    "print(grid_search.best_params_)\n",
    "\n",
    "\n",
    "xgbc_tuned = XGBClassifier(subsample=grid_search.best_params_['subsample'],\n",
    "                                   max_depth=grid_search.best_params_['max_depth'],\n",
    "                                   colsample_bytree=grid_search.best_params_['colsample_bytree'],\n",
    "                                   min_child_weight=grid_search.best_params_['min_child_weight'],\n",
    "                                   learning_rate=grid_search.best_params_['learning_rate'],\n",
    "                                   eta=grid_search.best_params_['eta'])\n",
    "xgbc_tuned.fit(X_train,y_train)\n",
    "\n",
    "## results F1 and stdF1 ##\n",
    "avgF1set1_TCunion_p20tunedXGBoost  = cross_val_score(xgbc_tuned, X, y, scoring=\"f1\", cv = 10).mean() ##<3## \n",
    "stdF1set1_TCunion_p20tunedXGBoost  = cross_val_score(xgbc_tuned, X, y, scoring=\"f1\", cv = 10).std() ##<3##\n",
    "print('Mean F1 Score: ', avgF1set1_TCunion_p20tunedXGBoost)\n",
    "print('std F1 Score: ', stdF1set1_TCunion_p20tunedXGBoost)"
   ]
  },
  {
   "cell_type": "code",
   "execution_count": 271,
   "id": "e6044645",
   "metadata": {},
   "outputs": [
    {
     "name": "stdout",
     "output_type": "stream",
     "text": [
      "Fitting 5 folds for each of 729 candidates, totalling 3645 fits\n",
      "\n",
      " Time taken: 0 hours 1 minutes and 3.68 seconds.\n",
      "{'colsample_bytree': 0.75, 'eta': 0.01, 'learning_rate': 0.05, 'max_depth': 7, 'min_child_weight': 1, 'subsample': 0.6}\n",
      "Mean F1 Score:  0.7233333333333334\n",
      "std F1 Score:  0.32661564227357176\n"
     ]
    }
   ],
   "source": [
    "## tuned parameter_set2##\n",
    "\n",
    "start_time = timer(None)\n",
    "# Instantiate the grid search model\n",
    "grid_search = GridSearchCV(estimator = xgbc, param_grid = paramXGBoost_grid2,\n",
    "                           cv = 5, n_jobs = -1, verbose = 2,scoring='f1')\n",
    "# Fit the grid search to the data\n",
    "grid_search.fit(X_train, y_train)\n",
    "\n",
    "timer(start_time)\n",
    "print(grid_search.best_params_)\n",
    "\n",
    "\n",
    "xgbc_tuned = XGBClassifier(subsample=grid_search.best_params_['subsample'],\n",
    "                                   max_depth=grid_search.best_params_['max_depth'],\n",
    "                                   colsample_bytree=grid_search.best_params_['colsample_bytree'],\n",
    "                                   min_child_weight=grid_search.best_params_['min_child_weight'],\n",
    "                                   learning_rate=grid_search.best_params_['learning_rate'],\n",
    "                                   eta=grid_search.best_params_['eta'])\n",
    "xgbc_tuned.fit(X_train,y_train)\n",
    "\n",
    "## results F1 and stdF1 ##\n",
    "avgF1set2_TCunion_p20tunedXGBoost = cross_val_score(xgbc_tuned, X, y, scoring=\"f1\", cv = 10).mean() ##<3## \n",
    "stdF1set2_TCunion_p20tunedXGBoost  = cross_val_score(xgbc_tuned, X, y, scoring=\"f1\", cv = 10).std() ##<3##\n",
    "print('Mean F1 Score: ', avgF1set2_TCunion_p20tunedXGBoost)\n",
    "print('std F1 Score: ', stdF1set2_TCunion_p20tunedXGBoost)"
   ]
  },
  {
   "cell_type": "code",
   "execution_count": 272,
   "id": "41c5c134",
   "metadata": {},
   "outputs": [
    {
     "name": "stdout",
     "output_type": "stream",
     "text": [
      "Fitting 5 folds for each of 729 candidates, totalling 3645 fits\n",
      "\n",
      " Time taken: 0 hours 0 minutes and 22.94 seconds.\n",
      "{'colsample_bytree': 0.1, 'eta': 0.01, 'learning_rate': 0.1, 'max_depth': 10, 'min_child_weight': 20, 'subsample': 0.2}\n",
      "Mean F1 Score:  0.0\n",
      "std F1 Score:  0.0\n"
     ]
    }
   ],
   "source": [
    "## tuned parameter_set3##\n",
    "\n",
    "start_time = timer(None)\n",
    "# Instantiate the grid search model\n",
    "grid_search = GridSearchCV(estimator = xgbc, param_grid = paramXGBoost_grid3,\n",
    "                           cv = 5, n_jobs = -1, verbose = 2,scoring='f1')\n",
    "# Fit the grid search to the data\n",
    "grid_search.fit(X_train, y_train)\n",
    "\n",
    "timer(start_time)\n",
    "print(grid_search.best_params_)\n",
    "\n",
    "\n",
    "xgbc_tuned = XGBClassifier(subsample=grid_search.best_params_['subsample'],\n",
    "                                   max_depth=grid_search.best_params_['max_depth'],\n",
    "                                   colsample_bytree=grid_search.best_params_['colsample_bytree'],\n",
    "                                   min_child_weight=grid_search.best_params_['min_child_weight'],\n",
    "                                   learning_rate=grid_search.best_params_['learning_rate'],\n",
    "                                   eta=grid_search.best_params_['eta'])\n",
    "xgbc_tuned.fit(X_train,y_train)\n",
    "\n",
    "## results F1 and stdF1 ##\n",
    "avgF1set3_TCunion_p20tunedXGBoost  = cross_val_score(xgbc_tuned, X, y, scoring=\"f1\", cv = 10).mean() ##<3## \n",
    "stdF1set3_TCunion_p20tunedXGBoost  = cross_val_score(xgbc_tuned, X, y, scoring=\"f1\", cv = 10).std() ##<3##\n",
    "print('Mean F1 Score: ', avgF1set3_TCunion_p20tunedXGBoost)\n",
    "print('std F1 Score: ', stdF1set3_TCunion_p20tunedXGBoost)"
   ]
  },
  {
   "cell_type": "code",
   "execution_count": 273,
   "id": "2155e55e",
   "metadata": {},
   "outputs": [
    {
     "name": "stdout",
     "output_type": "stream",
     "text": [
      "Fitting 5 folds for each of 729 candidates, totalling 3645 fits\n",
      "\n",
      " Time taken: 0 hours 0 minutes and 23.14 seconds.\n",
      "{'colsample_bytree': 0.1, 'eta': 0.01, 'learning_rate': 0.1, 'max_depth': 5, 'min_child_weight': 5, 'subsample': 0.75}\n",
      "Mean F1 Score:  0.31666666666666665\n",
      "std F1 Score:  0.32015621187164245\n"
     ]
    }
   ],
   "source": [
    "## tuned parameter_set4##\n",
    "\n",
    "start_time = timer(None)\n",
    "# Instantiate the grid search model\n",
    "grid_search = GridSearchCV(estimator = xgbc, param_grid = paramXGBoost_grid4,\n",
    "                           cv = 5, n_jobs = -1, verbose = 2,scoring='f1')\n",
    "# Fit the grid search to the data\n",
    "grid_search.fit(X_train, y_train)\n",
    "\n",
    "timer(start_time)\n",
    "print(grid_search.best_params_)\n",
    "\n",
    "\n",
    "xgbc_tuned = XGBClassifier(subsample=grid_search.best_params_['subsample'],\n",
    "                                   max_depth=grid_search.best_params_['max_depth'],\n",
    "                                   colsample_bytree=grid_search.best_params_['colsample_bytree'],\n",
    "                                   min_child_weight=grid_search.best_params_['min_child_weight'],\n",
    "                                   learning_rate=grid_search.best_params_['learning_rate'],\n",
    "                                   eta=grid_search.best_params_['eta'])\n",
    "xgbc_tuned.fit(X_train,y_train)\n",
    "\n",
    "## results F1 and stdF1 ##\n",
    "avgF1set4_TCunion_p20tunedXGBoost  = cross_val_score(xgbc_tuned, X, y, scoring=\"f1\", cv = 10).mean() ##<3## \n",
    "stdF1set4_TCunion_p20tunedXGBoost = cross_val_score(xgbc_tuned, X, y, scoring=\"f1\", cv = 10).std() ##<3##\n",
    "print('Mean F1 Score: ', avgF1set4_TCunion_p20tunedXGBoost)\n",
    "print('std F1 Score: ', stdF1set4_TCunion_p20tunedXGBoost)"
   ]
  },
  {
   "cell_type": "code",
   "execution_count": null,
   "id": "2901c263",
   "metadata": {},
   "outputs": [],
   "source": []
  },
  {
   "cell_type": "code",
   "execution_count": null,
   "id": "ba54f0b3",
   "metadata": {},
   "outputs": [],
   "source": []
  },
  {
   "cell_type": "code",
   "execution_count": null,
   "id": "e98f18ae",
   "metadata": {},
   "outputs": [],
   "source": []
  },
  {
   "cell_type": "code",
   "execution_count": null,
   "id": "4f5f22f7",
   "metadata": {},
   "outputs": [],
   "source": []
  },
  {
   "cell_type": "markdown",
   "id": "0cf0d4bd",
   "metadata": {},
   "source": [
    "## multi intersection (at least 2subset)"
   ]
  },
  {
   "cell_type": "markdown",
   "id": "6b274fde",
   "metadata": {},
   "source": [
    "### threshold: logbase2(n)"
   ]
  },
  {
   "cell_type": "code",
   "execution_count": 274,
   "id": "9a8cc208",
   "metadata": {},
   "outputs": [
    {
     "name": "stdout",
     "output_type": "stream",
     "text": [
      "Mean F1 Score:  0.6847619047619048\n",
      "std F1 Score:  0.2844798730770615\n"
     ]
    }
   ],
   "source": [
    "# threshold: logbase2(n)\n",
    "\n",
    "f_df123_1 = pd.read_csv('f_df123_xgb.csv')\n",
    "\n",
    "\n",
    "dfMI = f_df123_1[['Feature','rank_mi']]\n",
    "dfMI = dfMI.sort_values(by=['rank_mi'])\n",
    "dfMI = dfMI.set_index('Feature')\n",
    "dfMI_base2 = dfMI.iloc[:thres_base2n] ## threshold here\n",
    "dfMI_base2 = set(dfMI_base2.index.tolist())\n",
    "\n",
    "dfSHAP = f_df123_1[['Feature','rank_SHAP']]\n",
    "dfSHAP = dfSHAP.sort_values(by=['rank_SHAP'])\n",
    "dfSHAP = dfSHAP.set_index('Feature')\n",
    "dfSHAP_base2 = dfSHAP.iloc[:thres_base2n]  ## threshold here\n",
    "dfSHAP_base2 = set(dfSHAP_base2.index.tolist())\n",
    "\n",
    "dfEmbed = f_df123_1[['Feature','rank_embed']]\n",
    "dfEmbed = dfEmbed.sort_values(by=['rank_embed'])\n",
    "dfEmbed = dfEmbed.set_index('Feature')\n",
    "dfEmbed_base2 = dfEmbed.iloc[:thres_base2n]  ## threshold here\n",
    "dfEmbed_base2 = set(dfEmbed_base2.index.tolist())\n",
    "\n",
    "fea12_inters = list(dfMI_base2.intersection(dfSHAP_base2))\n",
    "fea13_inters = list(dfMI_base2.intersection(dfEmbed_base2))\n",
    "fea23_inters = list(dfSHAP_base2.intersection(dfEmbed_base2))\n",
    "fea123_inters = list(dfMI_base2.intersection(dfSHAP_base2,dfEmbed_base2))\n",
    "\n",
    "feature_TC = list(set().union(fea12_inters+fea13_inters+fea23_inters+fea123_inters))\n",
    "\n",
    "df_filter = df1.filter(items=feature_TC)\n",
    "X = df_filter\n",
    "y = df1['class']\n",
    "\n",
    "\n",
    "\n",
    "\n",
    "## before tuned ##\n",
    "X_train, X_test, y_train, y_test = train_test_split(X, y, test_size=0.2, random_state=123) \n",
    "xgbc = XGBClassifier(random_state=123)\n",
    "xgbc.fit(X_train,y_train)\n",
    "## results F1 and stdF1 ##\n",
    "avgF1_TCmulti_base2XGBoost = cross_val_score(xgbc, X, y, scoring=\"f1\", cv = 10).mean() ##<3## \n",
    "stdF1_TCmulti_base2XGBoost = cross_val_score(xgbc, X, y, scoring=\"f1\", cv = 10).std() ##<3##\n",
    "print('Mean F1 Score: ', avgF1_TCmulti_base2XGBoost)\n",
    "print('std F1 Score: ', stdF1_TCmulti_base2XGBoost)"
   ]
  },
  {
   "cell_type": "code",
   "execution_count": 275,
   "id": "611c2872",
   "metadata": {},
   "outputs": [
    {
     "data": {
      "text/plain": [
       "4"
      ]
     },
     "execution_count": 275,
     "metadata": {},
     "output_type": "execute_result"
    }
   ],
   "source": [
    "n_TCmulti_base2XGBoost = len(feature_TC)\n",
    "n_TCmulti_base2XGBoost"
   ]
  },
  {
   "cell_type": "code",
   "execution_count": 276,
   "id": "6b96fbe9",
   "metadata": {},
   "outputs": [
    {
     "name": "stdout",
     "output_type": "stream",
     "text": [
      "Fitting 5 folds for each of 729 candidates, totalling 3645 fits\n",
      "\n",
      " Time taken: 0 hours 0 minutes and 13.74 seconds.\n",
      "{'colsample_bytree': 0.5, 'eta': 0.01, 'learning_rate': 0.01, 'max_depth': 5, 'min_child_weight': 1, 'subsample': 0.5}\n",
      "Mean F1 Score:  0.8\n",
      "std F1 Score:  0.20816659994661327\n"
     ]
    }
   ],
   "source": [
    "## tuned parameter_set1##\n",
    "\n",
    "start_time = timer(None)\n",
    "# Instantiate the grid search model\n",
    "grid_search = GridSearchCV(estimator = xgbc, param_grid = paramXGBoost_grid1,\n",
    "                           cv = 5, n_jobs = -1, verbose = 2,scoring='f1')\n",
    "# Fit the grid search to the data\n",
    "grid_search.fit(X_train, y_train)\n",
    "\n",
    "timer(start_time)\n",
    "print(grid_search.best_params_)\n",
    "\n",
    "\n",
    "xgbc_tuned = XGBClassifier(subsample=grid_search.best_params_['subsample'],\n",
    "                                   max_depth=grid_search.best_params_['max_depth'],\n",
    "                                   colsample_bytree=grid_search.best_params_['colsample_bytree'],\n",
    "                                   min_child_weight=grid_search.best_params_['min_child_weight'],\n",
    "                                   learning_rate=grid_search.best_params_['learning_rate'],\n",
    "                                   eta=grid_search.best_params_['eta'])\n",
    "xgbc_tuned.fit(X_train,y_train)\n",
    "\n",
    "## results F1 and stdF1 ##\n",
    "avgF1set1_TCmulti_base2tunedXGBoost  = cross_val_score(xgbc_tuned, X, y, scoring=\"f1\", cv = 10).mean() ##<3## \n",
    "stdF1set1_TCmulti_base2tunedXGBoost  = cross_val_score(xgbc_tuned, X, y, scoring=\"f1\", cv = 10).std() ##<3##\n",
    "print('Mean F1 Score: ', avgF1set1_TCmulti_base2tunedXGBoost)\n",
    "print('std F1 Score: ', stdF1set1_TCmulti_base2tunedXGBoost)"
   ]
  },
  {
   "cell_type": "code",
   "execution_count": 277,
   "id": "e359de4a",
   "metadata": {},
   "outputs": [
    {
     "name": "stdout",
     "output_type": "stream",
     "text": [
      "Fitting 5 folds for each of 729 candidates, totalling 3645 fits\n",
      "\n",
      " Time taken: 0 hours 0 minutes and 12.9 seconds.\n",
      "{'colsample_bytree': 0.5, 'eta': 0.01, 'learning_rate': 0.1, 'max_depth': 7, 'min_child_weight': 0.5, 'subsample': 0.2}\n",
      "Mean F1 Score:  0.8666666666666666\n",
      "std F1 Score:  0.20816659994661327\n"
     ]
    }
   ],
   "source": [
    "## tuned parameter_set2##\n",
    "\n",
    "start_time = timer(None)\n",
    "# Instantiate the grid search model\n",
    "grid_search = GridSearchCV(estimator = xgbc, param_grid = paramXGBoost_grid2,\n",
    "                           cv = 5, n_jobs = -1, verbose = 2,scoring='f1')\n",
    "# Fit the grid search to the data\n",
    "grid_search.fit(X_train, y_train)\n",
    "\n",
    "timer(start_time)\n",
    "print(grid_search.best_params_)\n",
    "\n",
    "\n",
    "xgbc_tuned = XGBClassifier(subsample=grid_search.best_params_['subsample'],\n",
    "                                   max_depth=grid_search.best_params_['max_depth'],\n",
    "                                   colsample_bytree=grid_search.best_params_['colsample_bytree'],\n",
    "                                   min_child_weight=grid_search.best_params_['min_child_weight'],\n",
    "                                   learning_rate=grid_search.best_params_['learning_rate'],\n",
    "                                   eta=grid_search.best_params_['eta'])\n",
    "xgbc_tuned.fit(X_train,y_train)\n",
    "\n",
    "## results F1 and stdF1 ##\n",
    "avgF1set2_TCmulti_base2tunedXGBoost  = cross_val_score(xgbc_tuned, X, y, scoring=\"f1\", cv = 10).mean() ##<3## \n",
    "stdF1set2_TCmulti_base2tunedXGBoost  = cross_val_score(xgbc_tuned, X, y, scoring=\"f1\", cv = 10).std() ##<3##\n",
    "print('Mean F1 Score: ', avgF1set2_TCmulti_base2tunedXGBoost)\n",
    "print('std F1 Score: ', stdF1set2_TCmulti_base2tunedXGBoost)"
   ]
  },
  {
   "cell_type": "code",
   "execution_count": 278,
   "id": "fab89284",
   "metadata": {},
   "outputs": [
    {
     "name": "stdout",
     "output_type": "stream",
     "text": [
      "Fitting 5 folds for each of 729 candidates, totalling 3645 fits\n",
      "\n",
      " Time taken: 0 hours 0 minutes and 10.43 seconds.\n",
      "{'colsample_bytree': 0.1, 'eta': 0.01, 'learning_rate': 0.1, 'max_depth': 10, 'min_child_weight': 20, 'subsample': 0.2}\n",
      "Mean F1 Score:  0.0\n",
      "std F1 Score:  0.0\n"
     ]
    }
   ],
   "source": [
    "## tuned parameter_set3##\n",
    "\n",
    "start_time = timer(None)\n",
    "# Instantiate the grid search model\n",
    "grid_search = GridSearchCV(estimator = xgbc, param_grid = paramXGBoost_grid3,\n",
    "                           cv = 5, n_jobs = -1, verbose = 2,scoring='f1')\n",
    "# Fit the grid search to the data\n",
    "grid_search.fit(X_train, y_train)\n",
    "\n",
    "timer(start_time)\n",
    "print(grid_search.best_params_)\n",
    "\n",
    "\n",
    "xgbc_tuned = XGBClassifier(subsample=grid_search.best_params_['subsample'],\n",
    "                                   max_depth=grid_search.best_params_['max_depth'],\n",
    "                                   colsample_bytree=grid_search.best_params_['colsample_bytree'],\n",
    "                                   min_child_weight=grid_search.best_params_['min_child_weight'],\n",
    "                                   learning_rate=grid_search.best_params_['learning_rate'],\n",
    "                                   eta=grid_search.best_params_['eta'])\n",
    "xgbc_tuned.fit(X_train,y_train)\n",
    "\n",
    "## results F1 and stdF1 ##\n",
    "avgF1set3_TCmulti_base2tunedXGBoost  = cross_val_score(xgbc_tuned, X, y, scoring=\"f1\", cv = 10).mean() ##<3## \n",
    "stdF1set3_TCmulti_base2tunedXGBoost  = cross_val_score(xgbc_tuned, X, y, scoring=\"f1\", cv = 10).std() ##<3##\n",
    "print('Mean F1 Score: ', avgF1set3_TCmulti_base2tunedXGBoost)\n",
    "print('std F1 Score: ', stdF1set3_TCmulti_base2tunedXGBoost)"
   ]
  },
  {
   "cell_type": "code",
   "execution_count": 279,
   "id": "7ac0060f",
   "metadata": {},
   "outputs": [
    {
     "name": "stdout",
     "output_type": "stream",
     "text": [
      "Fitting 5 folds for each of 729 candidates, totalling 3645 fits\n",
      "\n",
      " Time taken: 0 hours 0 minutes and 12.41 seconds.\n",
      "{'colsample_bytree': 0.1, 'eta': 0.01, 'learning_rate': 0.1, 'max_depth': 5, 'min_child_weight': 5, 'subsample': 0.75}\n",
      "Mean F1 Score:  0.41666666666666663\n",
      "std F1 Score:  0.35939764421413045\n"
     ]
    }
   ],
   "source": [
    "## tuned parameter_set4##\n",
    "\n",
    "start_time = timer(None)\n",
    "# Instantiate the grid search model\n",
    "grid_search = GridSearchCV(estimator = xgbc, param_grid = paramXGBoost_grid4,\n",
    "                           cv = 5, n_jobs = -1, verbose = 2,scoring='f1')\n",
    "# Fit the grid search to the data\n",
    "grid_search.fit(X_train, y_train)\n",
    "\n",
    "timer(start_time)\n",
    "print(grid_search.best_params_)\n",
    "\n",
    "\n",
    "xgbc_tuned = XGBClassifier(subsample=grid_search.best_params_['subsample'],\n",
    "                                   max_depth=grid_search.best_params_['max_depth'],\n",
    "                                   colsample_bytree=grid_search.best_params_['colsample_bytree'],\n",
    "                                   min_child_weight=grid_search.best_params_['min_child_weight'],\n",
    "                                   learning_rate=grid_search.best_params_['learning_rate'],\n",
    "                                   eta=grid_search.best_params_['eta'])\n",
    "xgbc_tuned.fit(X_train,y_train)\n",
    "\n",
    "## results F1 and stdF1 ##\n",
    "avgF1set4_TCmulti_base2tunedXGBoost  = cross_val_score(xgbc_tuned, X, y, scoring=\"f1\", cv = 10).mean() ##<3## \n",
    "stdF1set4_TCmulti_base2tunedXGBoost  = cross_val_score(xgbc_tuned, X, y, scoring=\"f1\", cv = 10).std() ##<3##\n",
    "print('Mean F1 Score: ', avgF1set4_TCmulti_base2tunedXGBoost)\n",
    "print('std F1 Score: ', stdF1set4_TCmulti_base2tunedXGBoost)"
   ]
  },
  {
   "cell_type": "markdown",
   "id": "1f9302a3",
   "metadata": {},
   "source": [
    "### threshold: 2.5%"
   ]
  },
  {
   "cell_type": "code",
   "execution_count": 280,
   "id": "dec4c83b",
   "metadata": {},
   "outputs": [
    {
     "name": "stdout",
     "output_type": "stream",
     "text": [
      "Mean F1 Score:  0.7090476190476191\n",
      "std F1 Score:  0.18423648905747947\n"
     ]
    }
   ],
   "source": [
    "# threshold: 2.5%\n",
    "f_df123_1 = pd.read_csv('f_df123_xgb.csv')\n",
    "\n",
    "\n",
    "dfMI = f_df123_1[['Feature','rank_mi']]\n",
    "dfMI = dfMI.sort_values(by=['rank_mi'])\n",
    "dfMI = dfMI.set_index('Feature')\n",
    "dfMI_p2_5 = dfMI.iloc[:thres_p2_5] ## threshold here\n",
    "dfMI_p2_5 = set(dfMI_p2_5.index.tolist())\n",
    "\n",
    "dfSHAP = f_df123_1[['Feature','rank_SHAP']]\n",
    "dfSHAP = dfSHAP.sort_values(by=['rank_SHAP'])\n",
    "dfSHAP = dfSHAP.set_index('Feature')\n",
    "dfSHAP_p2_5 = dfSHAP.iloc[:thres_p2_5]  ## threshold here\n",
    "dfSHAP_p2_5 = set(dfSHAP_p2_5.index.tolist())\n",
    "\n",
    "dfEmbed = f_df123_1[['Feature','rank_embed']]\n",
    "dfEmbed = dfEmbed.sort_values(by=['rank_embed'])\n",
    "dfEmbed = dfEmbed.set_index('Feature')\n",
    "dfEmbed_p2_5 = dfEmbed.iloc[:thres_p2_5]  ## threshold here\n",
    "dfEmbed_p2_5 = set(dfEmbed_p2_5.index.tolist())\n",
    "\n",
    "fea12_inters = list(dfMI_p2_5.intersection(dfSHAP_p2_5))\n",
    "fea13_inters = list(dfMI_p2_5.intersection(dfEmbed_p2_5))\n",
    "fea23_inters = list(dfSHAP_p2_5.intersection(dfEmbed_p2_5))\n",
    "fea123_inters = list(dfMI_p2_5.intersection(dfSHAP_p2_5,dfEmbed_p2_5))\n",
    "\n",
    "feature_TC = list(set().union(fea12_inters+fea13_inters+fea23_inters+fea123_inters))\n",
    "\n",
    "df_filter = df1.filter(items=feature_TC)\n",
    "X = df_filter\n",
    "y = df1['class']\n",
    "\n",
    "\n",
    "\n",
    "\n",
    "## before tuned ##\n",
    "X_train, X_test, y_train, y_test = train_test_split(X, y, test_size=0.2, random_state=123) \n",
    "xgbc = XGBClassifier(random_state=123)\n",
    "xgbc.fit(X_train,y_train)\n",
    "## results F1 and stdF1 ##\n",
    "avgF1_TCmulti_p2_5XGBoost = cross_val_score(xgbc, X, y, scoring=\"f1\", cv = 10).mean() ##<3## \n",
    "stdF1_TCmulti_p2_5XGBoost = cross_val_score(xgbc, X, y, scoring=\"f1\", cv = 10).std() ##<3##\n",
    "print('Mean F1 Score: ', avgF1_TCmulti_p2_5XGBoost)\n",
    "print('std F1 Score: ', stdF1_TCmulti_p2_5XGBoost)"
   ]
  },
  {
   "cell_type": "code",
   "execution_count": 281,
   "id": "feaee5e8",
   "metadata": {},
   "outputs": [
    {
     "data": {
      "text/plain": [
       "45"
      ]
     },
     "execution_count": 281,
     "metadata": {},
     "output_type": "execute_result"
    }
   ],
   "source": [
    "n_TCmulti_p2_5XGBoost = len(feature_TC)\n",
    "n_TCmulti_p2_5XGBoost"
   ]
  },
  {
   "cell_type": "code",
   "execution_count": 282,
   "id": "07bb6116",
   "metadata": {},
   "outputs": [
    {
     "name": "stdout",
     "output_type": "stream",
     "text": [
      "Fitting 5 folds for each of 729 candidates, totalling 3645 fits\n",
      "\n",
      " Time taken: 0 hours 0 minutes and 12.47 seconds.\n",
      "{'colsample_bytree': 0.5, 'eta': 0.01, 'learning_rate': 0.1, 'max_depth': 5, 'min_child_weight': 1, 'subsample': 0.5}\n",
      "Mean F1 Score:  0.7157142857142856\n",
      "std F1 Score:  0.2890601707481077\n"
     ]
    }
   ],
   "source": [
    "## tuned parameter_set1##\n",
    "\n",
    "start_time = timer(None)\n",
    "# Instantiate the grid search model\n",
    "grid_search = GridSearchCV(estimator = xgbc, param_grid = paramXGBoost_grid1,\n",
    "                           cv = 5, n_jobs = -1, verbose = 2,scoring='f1')\n",
    "# Fit the grid search to the data\n",
    "grid_search.fit(X_train, y_train)\n",
    "\n",
    "timer(start_time)\n",
    "print(grid_search.best_params_)\n",
    "\n",
    "\n",
    "xgbc_tuned = XGBClassifier(subsample=grid_search.best_params_['subsample'],\n",
    "                                   max_depth=grid_search.best_params_['max_depth'],\n",
    "                                   colsample_bytree=grid_search.best_params_['colsample_bytree'],\n",
    "                                   min_child_weight=grid_search.best_params_['min_child_weight'],\n",
    "                                   learning_rate=grid_search.best_params_['learning_rate'],\n",
    "                                   eta=grid_search.best_params_['eta'])\n",
    "xgbc_tuned.fit(X_train,y_train)\n",
    "\n",
    "## results F1 and stdF1 ##\n",
    "avgF1set1_TCmulti_p2_5tunedXGBoost  = cross_val_score(xgbc_tuned, X, y, scoring=\"f1\", cv = 10).mean() ##<3## \n",
    "stdF1set1_TCmulti_p2_5tunedXGBoost  = cross_val_score(xgbc_tuned, X, y, scoring=\"f1\", cv = 10).std() ##<3##\n",
    "print('Mean F1 Score: ', avgF1set1_TCmulti_p2_5tunedXGBoost)\n",
    "print('std F1 Score: ', stdF1set1_TCmulti_p2_5tunedXGBoost)"
   ]
  },
  {
   "cell_type": "code",
   "execution_count": 283,
   "id": "0ee9ec59",
   "metadata": {},
   "outputs": [
    {
     "name": "stdout",
     "output_type": "stream",
     "text": [
      "Fitting 5 folds for each of 729 candidates, totalling 3645 fits\n",
      "\n",
      " Time taken: 0 hours 0 minutes and 16.14 seconds.\n",
      "{'colsample_bytree': 0.5, 'eta': 0.01, 'learning_rate': 0.05, 'max_depth': 7, 'min_child_weight': 0.5, 'subsample': 0.2}\n",
      "Mean F1 Score:  0.769047619047619\n",
      "std F1 Score:  0.17104785767296962\n"
     ]
    }
   ],
   "source": [
    "## tuned parameter_set2##\n",
    "\n",
    "start_time = timer(None)\n",
    "# Instantiate the grid search model\n",
    "grid_search = GridSearchCV(estimator = xgbc, param_grid = paramXGBoost_grid2,\n",
    "                           cv = 5, n_jobs = -1, verbose = 2,scoring='f1')\n",
    "# Fit the grid search to the data\n",
    "grid_search.fit(X_train, y_train)\n",
    "\n",
    "timer(start_time)\n",
    "print(grid_search.best_params_)\n",
    "\n",
    "\n",
    "xgbc_tuned = XGBClassifier(subsample=grid_search.best_params_['subsample'],\n",
    "                                   max_depth=grid_search.best_params_['max_depth'],\n",
    "                                   colsample_bytree=grid_search.best_params_['colsample_bytree'],\n",
    "                                   min_child_weight=grid_search.best_params_['min_child_weight'],\n",
    "                                   learning_rate=grid_search.best_params_['learning_rate'],\n",
    "                                   eta=grid_search.best_params_['eta'])\n",
    "xgbc_tuned.fit(X_train,y_train)\n",
    "\n",
    "## results F1 and stdF1 ##\n",
    "avgF1set2_TCmulti_p2_5tunedXGBoost  = cross_val_score(xgbc_tuned, X, y, scoring=\"f1\", cv = 10).mean() ##<3## \n",
    "stdF1set2_TCmulti_p2_5tunedXGBoost  = cross_val_score(xgbc_tuned, X, y, scoring=\"f1\", cv = 10).std() ##<3##\n",
    "print('Mean F1 Score: ', avgF1set2_TCmulti_p2_5tunedXGBoost)\n",
    "print('std F1 Score: ', stdF1set2_TCmulti_p2_5tunedXGBoost)"
   ]
  },
  {
   "cell_type": "code",
   "execution_count": 284,
   "id": "57bc337a",
   "metadata": {},
   "outputs": [
    {
     "name": "stdout",
     "output_type": "stream",
     "text": [
      "Fitting 5 folds for each of 729 candidates, totalling 3645 fits\n",
      "\n",
      " Time taken: 0 hours 0 minutes and 11.19 seconds.\n",
      "{'colsample_bytree': 0.1, 'eta': 0.01, 'learning_rate': 0.1, 'max_depth': 10, 'min_child_weight': 20, 'subsample': 0.2}\n",
      "Mean F1 Score:  0.0\n",
      "std F1 Score:  0.0\n"
     ]
    }
   ],
   "source": [
    "## tuned parameter_set3##\n",
    "\n",
    "start_time = timer(None)\n",
    "# Instantiate the grid search model\n",
    "grid_search = GridSearchCV(estimator = xgbc, param_grid = paramXGBoost_grid3,\n",
    "                           cv = 5, n_jobs = -1, verbose = 2,scoring='f1')\n",
    "# Fit the grid search to the data\n",
    "grid_search.fit(X_train, y_train)\n",
    "\n",
    "timer(start_time)\n",
    "print(grid_search.best_params_)\n",
    "\n",
    "\n",
    "xgbc_tuned = XGBClassifier(subsample=grid_search.best_params_['subsample'],\n",
    "                                   max_depth=grid_search.best_params_['max_depth'],\n",
    "                                   colsample_bytree=grid_search.best_params_['colsample_bytree'],\n",
    "                                   min_child_weight=grid_search.best_params_['min_child_weight'],\n",
    "                                   learning_rate=grid_search.best_params_['learning_rate'],\n",
    "                                   eta=grid_search.best_params_['eta'])\n",
    "xgbc_tuned.fit(X_train,y_train)\n",
    "\n",
    "## results F1 and stdF1 ##\n",
    "avgF1set3_TCmulti_p2_5tunedXGBoost  = cross_val_score(xgbc_tuned, X, y, scoring=\"f1\", cv = 10).mean() ##<3## \n",
    "stdF1set3_TCmulti_p2_5tunedXGBoost  = cross_val_score(xgbc_tuned, X, y, scoring=\"f1\", cv = 10).std() ##<3##\n",
    "print('Mean F1 Score: ', avgF1set3_TCmulti_p2_5tunedXGBoost)\n",
    "print('std F1 Score: ', stdF1set3_TCmulti_p2_5tunedXGBoost)"
   ]
  },
  {
   "cell_type": "code",
   "execution_count": 285,
   "id": "bfa72e66",
   "metadata": {},
   "outputs": [
    {
     "name": "stdout",
     "output_type": "stream",
     "text": [
      "Fitting 5 folds for each of 729 candidates, totalling 3645 fits\n",
      "\n",
      " Time taken: 0 hours 0 minutes and 12.24 seconds.\n",
      "{'colsample_bytree': 0.1, 'eta': 0.01, 'learning_rate': 0.1, 'max_depth': 5, 'min_child_weight': 5, 'subsample': 0.75}\n",
      "Mean F1 Score:  0.31666666666666665\n",
      "std F1 Score:  0.32015621187164245\n"
     ]
    }
   ],
   "source": [
    "## tuned parameter_set4##\n",
    "\n",
    "start_time = timer(None)\n",
    "# Instantiate the grid search model\n",
    "grid_search = GridSearchCV(estimator = xgbc, param_grid = paramXGBoost_grid4,\n",
    "                           cv = 5, n_jobs = -1, verbose = 2,scoring='f1')\n",
    "# Fit the grid search to the data\n",
    "grid_search.fit(X_train, y_train)\n",
    "\n",
    "timer(start_time)\n",
    "print(grid_search.best_params_)\n",
    "\n",
    "\n",
    "xgbc_tuned = XGBClassifier(subsample=grid_search.best_params_['subsample'],\n",
    "                                   max_depth=grid_search.best_params_['max_depth'],\n",
    "                                   colsample_bytree=grid_search.best_params_['colsample_bytree'],\n",
    "                                   min_child_weight=grid_search.best_params_['min_child_weight'],\n",
    "                                   learning_rate=grid_search.best_params_['learning_rate'],\n",
    "                                   eta=grid_search.best_params_['eta'])\n",
    "xgbc_tuned.fit(X_train,y_train)\n",
    "\n",
    "## results F1 and stdF1 ##\n",
    "avgF1set4_TCmulti_p2_5tunedXGBoost  = cross_val_score(xgbc_tuned, X, y, scoring=\"f1\", cv = 10).mean() ##<3## \n",
    "stdF1set4_TCmulti_p2_5tunedXGBoost  = cross_val_score(xgbc_tuned, X, y, scoring=\"f1\", cv = 10).std() ##<3##\n",
    "print('Mean F1 Score: ', avgF1set4_TCmulti_p2_5tunedXGBoost)\n",
    "print('std F1 Score: ', stdF1set4_TCmulti_p2_5tunedXGBoost)"
   ]
  },
  {
   "cell_type": "raw",
   "id": "60a972d7",
   "metadata": {},
   "source": []
  },
  {
   "cell_type": "code",
   "execution_count": null,
   "id": "c8a3cacd",
   "metadata": {},
   "outputs": [],
   "source": []
  },
  {
   "cell_type": "code",
   "execution_count": null,
   "id": "1933a278",
   "metadata": {},
   "outputs": [],
   "source": []
  },
  {
   "cell_type": "code",
   "execution_count": null,
   "id": "e43e0351",
   "metadata": {},
   "outputs": [],
   "source": []
  },
  {
   "cell_type": "markdown",
   "id": "05a4862d",
   "metadata": {},
   "source": [
    "### threshold: 5%"
   ]
  },
  {
   "cell_type": "code",
   "execution_count": 286,
   "id": "b2da28af",
   "metadata": {},
   "outputs": [
    {
     "name": "stdout",
     "output_type": "stream",
     "text": [
      "Mean F1 Score:  0.6900000000000001\n",
      "std F1 Score:  0.31342197327777344\n"
     ]
    }
   ],
   "source": [
    "# threshold: 5%\n",
    "f_df123_1 = pd.read_csv('f_df123_xgb.csv')\n",
    "\n",
    "\n",
    "dfMI = f_df123_1[['Feature','rank_mi']]\n",
    "dfMI = dfMI.sort_values(by=['rank_mi'])\n",
    "dfMI = dfMI.set_index('Feature')\n",
    "dfMI_p5 = dfMI.iloc[:thres_p5] ## threshold here\n",
    "dfMI_p5 = set(dfMI_p5.index.tolist())\n",
    "\n",
    "dfSHAP = f_df123_1[['Feature','rank_SHAP']]\n",
    "dfSHAP = dfSHAP.sort_values(by=['rank_SHAP'])\n",
    "dfSHAP = dfSHAP.set_index('Feature')\n",
    "dfSHAP_p5 = dfSHAP.iloc[:thres_p5]  ## threshold here\n",
    "dfSHAP_p5 = set(dfSHAP_p5.index.tolist())\n",
    "\n",
    "dfEmbed = f_df123_1[['Feature','rank_embed']]\n",
    "dfEmbed = dfEmbed.sort_values(by=['rank_embed'])\n",
    "dfEmbed = dfEmbed.set_index('Feature')\n",
    "dfEmbed_p5 = dfEmbed.iloc[:thres_p5]  ## threshold here\n",
    "dfEmbed_p5 = set(dfEmbed_p5.index.tolist())\n",
    "\n",
    "fea12_inters = list(dfMI_p5.intersection(dfSHAP_p5))\n",
    "fea13_inters = list(dfMI_p5.intersection(dfEmbed_p5))\n",
    "fea23_inters = list(dfSHAP_p5.intersection(dfEmbed_p5))\n",
    "fea123_inters = list(dfMI_p5.intersection(dfSHAP_p5,dfEmbed_p5))\n",
    "\n",
    "feature_TC = list(set().union(fea12_inters+fea13_inters+fea23_inters+fea123_inters))\n",
    "\n",
    "df_filter = df1.filter(items=feature_TC)\n",
    "X = df_filter\n",
    "y = df1['class']\n",
    "\n",
    "\n",
    "\n",
    "\n",
    "## before tuned ##\n",
    "X_train, X_test, y_train, y_test = train_test_split(X, y, test_size=0.2, random_state=123) \n",
    "xgbc = XGBClassifier(random_state=123)\n",
    "xgbc.fit(X_train,y_train)\n",
    "## results F1 and stdF1 ##\n",
    "avgF1_TCmulti_p5XGBoost = cross_val_score(xgbc, X, y, scoring=\"f1\", cv = 10).mean() ##<3## \n",
    "stdF1_TCmulti_p5XGBoost = cross_val_score(xgbc, X, y, scoring=\"f1\", cv = 10).std() ##<3##\n",
    "print('Mean F1 Score: ', avgF1_TCmulti_p5XGBoost)\n",
    "print('std F1 Score: ', stdF1_TCmulti_p5XGBoost)"
   ]
  },
  {
   "cell_type": "code",
   "execution_count": 287,
   "id": "ad81aa07",
   "metadata": {},
   "outputs": [
    {
     "data": {
      "text/plain": [
       "99"
      ]
     },
     "execution_count": 287,
     "metadata": {},
     "output_type": "execute_result"
    }
   ],
   "source": [
    "n_TCmulti_p5XGBoost = len(feature_TC)\n",
    "n_TCmulti_p5XGBoost"
   ]
  },
  {
   "cell_type": "code",
   "execution_count": 288,
   "id": "4af96a81",
   "metadata": {},
   "outputs": [
    {
     "name": "stdout",
     "output_type": "stream",
     "text": [
      "Fitting 5 folds for each of 729 candidates, totalling 3645 fits\n",
      "\n",
      " Time taken: 0 hours 0 minutes and 18.62 seconds.\n",
      "{'colsample_bytree': 0.75, 'eta': 0.01, 'learning_rate': 0.05, 'max_depth': 5, 'min_child_weight': 1, 'subsample': 0.5}\n",
      "Mean F1 Score:  0.7566666666666666\n",
      "std F1 Score:  0.21501937897160184\n"
     ]
    }
   ],
   "source": [
    "## tuned parameter_set1##\n",
    "\n",
    "start_time = timer(None)\n",
    "# Instantiate the grid search model\n",
    "grid_search = GridSearchCV(estimator = xgbc, param_grid = paramXGBoost_grid1,\n",
    "                           cv = 5, n_jobs = -1, verbose = 2,scoring='f1')\n",
    "# Fit the grid search to the data\n",
    "grid_search.fit(X_train, y_train)\n",
    "\n",
    "timer(start_time)\n",
    "print(grid_search.best_params_)\n",
    "\n",
    "\n",
    "xgbc_tuned = XGBClassifier(subsample=grid_search.best_params_['subsample'],\n",
    "                                   max_depth=grid_search.best_params_['max_depth'],\n",
    "                                   colsample_bytree=grid_search.best_params_['colsample_bytree'],\n",
    "                                   min_child_weight=grid_search.best_params_['min_child_weight'],\n",
    "                                   learning_rate=grid_search.best_params_['learning_rate'],\n",
    "                                   eta=grid_search.best_params_['eta'])\n",
    "xgbc_tuned.fit(X_train,y_train)\n",
    "\n",
    "## results F1 and stdF1 ##\n",
    "avgF1set1_TCmulti_p5tunedXGBoost  = cross_val_score(xgbc_tuned, X, y, scoring=\"f1\", cv = 10).mean() ##<3## \n",
    "stdF1set1_TCmulti_p5tunedXGBoost  = cross_val_score(xgbc_tuned, X, y, scoring=\"f1\", cv = 10).std() ##<3##\n",
    "print('Mean F1 Score: ', avgF1set1_TCmulti_p5tunedXGBoost)\n",
    "print('std F1 Score: ', stdF1set1_TCmulti_p5tunedXGBoost)"
   ]
  },
  {
   "cell_type": "code",
   "execution_count": 289,
   "id": "abd187ad",
   "metadata": {},
   "outputs": [
    {
     "name": "stdout",
     "output_type": "stream",
     "text": [
      "Fitting 5 folds for each of 729 candidates, totalling 3645 fits\n",
      "\n",
      " Time taken: 0 hours 0 minutes and 20.58 seconds.\n",
      "{'colsample_bytree': 0.75, 'eta': 0.01, 'learning_rate': 0.1, 'max_depth': 7, 'min_child_weight': 1, 'subsample': 0.2}\n",
      "Mean F1 Score:  0.7023809523809523\n",
      "std F1 Score:  0.16403707893432545\n"
     ]
    }
   ],
   "source": [
    "## tuned parameter_set2##\n",
    "\n",
    "start_time = timer(None)\n",
    "# Instantiate the grid search model\n",
    "grid_search = GridSearchCV(estimator = xgbc, param_grid = paramXGBoost_grid2,\n",
    "                           cv = 5, n_jobs = -1, verbose = 2,scoring='f1')\n",
    "# Fit the grid search to the data\n",
    "grid_search.fit(X_train, y_train)\n",
    "\n",
    "timer(start_time)\n",
    "print(grid_search.best_params_)\n",
    "\n",
    "\n",
    "xgbc_tuned = XGBClassifier(subsample=grid_search.best_params_['subsample'],\n",
    "                                   max_depth=grid_search.best_params_['max_depth'],\n",
    "                                   colsample_bytree=grid_search.best_params_['colsample_bytree'],\n",
    "                                   min_child_weight=grid_search.best_params_['min_child_weight'],\n",
    "                                   learning_rate=grid_search.best_params_['learning_rate'],\n",
    "                                   eta=grid_search.best_params_['eta'])\n",
    "xgbc_tuned.fit(X_train,y_train)\n",
    "\n",
    "## results F1 and stdF1 ##\n",
    "avgF1set2_TCmulti_p5tunedXGBoost  = cross_val_score(xgbc_tuned, X, y, scoring=\"f1\", cv = 10).mean() ##<3## \n",
    "stdF1set2_TCmulti_p5tunedXGBoost  = cross_val_score(xgbc_tuned, X, y, scoring=\"f1\", cv = 10).std() ##<3##\n",
    "print('Mean F1 Score: ', avgF1set2_TCmulti_p5tunedXGBoost)\n",
    "print('std F1 Score: ', stdF1set2_TCmulti_p5tunedXGBoost)"
   ]
  },
  {
   "cell_type": "code",
   "execution_count": 290,
   "id": "93f54d7f",
   "metadata": {},
   "outputs": [
    {
     "name": "stdout",
     "output_type": "stream",
     "text": [
      "Fitting 5 folds for each of 729 candidates, totalling 3645 fits\n",
      "\n",
      " Time taken: 0 hours 0 minutes and 14.78 seconds.\n",
      "{'colsample_bytree': 0.1, 'eta': 0.01, 'learning_rate': 0.1, 'max_depth': 10, 'min_child_weight': 20, 'subsample': 0.2}\n",
      "Mean F1 Score:  0.0\n",
      "std F1 Score:  0.0\n"
     ]
    }
   ],
   "source": [
    "## tuned parameter_set3##\n",
    "\n",
    "start_time = timer(None)\n",
    "# Instantiate the grid search model\n",
    "grid_search = GridSearchCV(estimator = xgbc, param_grid = paramXGBoost_grid3,\n",
    "                           cv = 5, n_jobs = -1, verbose = 2,scoring='f1')\n",
    "# Fit the grid search to the data\n",
    "grid_search.fit(X_train, y_train)\n",
    "\n",
    "timer(start_time)\n",
    "print(grid_search.best_params_)\n",
    "\n",
    "\n",
    "xgbc_tuned = XGBClassifier(subsample=grid_search.best_params_['subsample'],\n",
    "                                   max_depth=grid_search.best_params_['max_depth'],\n",
    "                                   colsample_bytree=grid_search.best_params_['colsample_bytree'],\n",
    "                                   min_child_weight=grid_search.best_params_['min_child_weight'],\n",
    "                                   learning_rate=grid_search.best_params_['learning_rate'],\n",
    "                                   eta=grid_search.best_params_['eta'])\n",
    "xgbc_tuned.fit(X_train,y_train)\n",
    "\n",
    "## results F1 and stdF1 ##\n",
    "avgF1set3_TCmulti_p5tunedXGBoost  = cross_val_score(xgbc_tuned, X, y, scoring=\"f1\", cv = 10).mean() ##<3## \n",
    "stdF1set3_TCmulti_p5tunedXGBoost  = cross_val_score(xgbc_tuned, X, y, scoring=\"f1\", cv = 10).std() ##<3##\n",
    "print('Mean F1 Score: ', avgF1set3_TCmulti_p5tunedXGBoost)\n",
    "print('std F1 Score: ', stdF1set3_TCmulti_p5tunedXGBoost)"
   ]
  },
  {
   "cell_type": "code",
   "execution_count": 291,
   "id": "ab487794",
   "metadata": {},
   "outputs": [
    {
     "name": "stdout",
     "output_type": "stream",
     "text": [
      "Fitting 5 folds for each of 729 candidates, totalling 3645 fits\n",
      "\n",
      " Time taken: 0 hours 0 minutes and 12.09 seconds.\n",
      "{'colsample_bytree': 0.1, 'eta': 0.01, 'learning_rate': 0.1, 'max_depth': 5, 'min_child_weight': 5, 'subsample': 0.75}\n",
      "Mean F1 Score:  0.3666666666666666\n",
      "std F1 Score:  0.3055050463303893\n"
     ]
    }
   ],
   "source": [
    "## tuned parameter_set4##\n",
    "\n",
    "start_time = timer(None)\n",
    "# Instantiate the grid search model\n",
    "grid_search = GridSearchCV(estimator = xgbc, param_grid = paramXGBoost_grid4,\n",
    "                           cv = 5, n_jobs = -1, verbose = 2,scoring='f1')\n",
    "# Fit the grid search to the data\n",
    "grid_search.fit(X_train, y_train)\n",
    "\n",
    "timer(start_time)\n",
    "print(grid_search.best_params_)\n",
    "\n",
    "\n",
    "xgbc_tuned = XGBClassifier(subsample=grid_search.best_params_['subsample'],\n",
    "                                   max_depth=grid_search.best_params_['max_depth'],\n",
    "                                   colsample_bytree=grid_search.best_params_['colsample_bytree'],\n",
    "                                   min_child_weight=grid_search.best_params_['min_child_weight'],\n",
    "                                   learning_rate=grid_search.best_params_['learning_rate'],\n",
    "                                   eta=grid_search.best_params_['eta'])\n",
    "xgbc_tuned.fit(X_train,y_train)\n",
    "\n",
    "## results F1 and stdF1 ##\n",
    "avgF1set4_TCmulti_p5tunedXGBoost  = cross_val_score(xgbc_tuned, X, y, scoring=\"f1\", cv = 10).mean() ##<3## \n",
    "stdF1set4_TCmulti_p5tunedXGBoost  = cross_val_score(xgbc_tuned, X, y, scoring=\"f1\", cv = 10).std() ##<3##\n",
    "print('Mean F1 Score: ', avgF1set4_TCmulti_p5tunedXGBoost)\n",
    "print('std F1 Score: ', stdF1set4_TCmulti_p5tunedXGBoost)"
   ]
  },
  {
   "cell_type": "code",
   "execution_count": null,
   "id": "02ab0991",
   "metadata": {},
   "outputs": [],
   "source": []
  },
  {
   "cell_type": "code",
   "execution_count": null,
   "id": "ab74b699",
   "metadata": {},
   "outputs": [],
   "source": []
  },
  {
   "cell_type": "code",
   "execution_count": null,
   "id": "27b4f405",
   "metadata": {},
   "outputs": [],
   "source": []
  },
  {
   "cell_type": "markdown",
   "id": "58fa1a2d",
   "metadata": {},
   "source": [
    "### threshold: 10%"
   ]
  },
  {
   "cell_type": "code",
   "execution_count": 292,
   "id": "0be3a90d",
   "metadata": {},
   "outputs": [
    {
     "name": "stdout",
     "output_type": "stream",
     "text": [
      "Mean F1 Score:  0.6757142857142857\n",
      "std F1 Score:  0.30201477641014196\n"
     ]
    }
   ],
   "source": [
    "# threshold: 10%\n",
    "f_df123_1 = pd.read_csv('f_df123_xgb.csv')\n",
    "\n",
    "\n",
    "dfMI = f_df123_1[['Feature','rank_mi']]\n",
    "dfMI = dfMI.sort_values(by=['rank_mi'])\n",
    "dfMI = dfMI.set_index('Feature')\n",
    "dfMI_p10 = dfMI.iloc[:thres_p10] ## threshold here\n",
    "dfMI_p10 = set(dfMI_p10.index.tolist())\n",
    "\n",
    "dfSHAP = f_df123_1[['Feature','rank_SHAP']]\n",
    "dfSHAP = dfSHAP.sort_values(by=['rank_SHAP'])\n",
    "dfSHAP = dfSHAP.set_index('Feature')\n",
    "dfSHAP_p10 = dfSHAP.iloc[:thres_p10]  ## threshold here\n",
    "dfSHAP_p10 = set(dfSHAP_p10.index.tolist())\n",
    "\n",
    "dfEmbed = f_df123_1[['Feature','rank_embed']]\n",
    "dfEmbed = dfEmbed.sort_values(by=['rank_embed'])\n",
    "dfEmbed = dfEmbed.set_index('Feature')\n",
    "dfEmbed_p10 = dfEmbed.iloc[:thres_p10]  ## threshold here\n",
    "dfEmbed_p10 = set(dfEmbed_p10.index.tolist())\n",
    "\n",
    "fea12_inters = list(dfMI_p10.intersection(dfSHAP_p10))\n",
    "fea13_inters = list(dfMI_p10.intersection(dfEmbed_p10))\n",
    "fea23_inters = list(dfSHAP_p10.intersection(dfEmbed_p10))\n",
    "fea123_inters = list(dfMI_p10.intersection(dfSHAP_p10,dfEmbed_p10))\n",
    "\n",
    "feature_TC = list(set().union(fea12_inters+fea13_inters+fea23_inters+fea123_inters))\n",
    "\n",
    "df_filter = df1.filter(items=feature_TC)\n",
    "\n",
    "X = df_filter\n",
    "y = df1['class']\n",
    "\n",
    "\n",
    "\n",
    "\n",
    "## before tuned ##\n",
    "X_train, X_test, y_train, y_test = train_test_split(X, y, test_size=0.2, random_state=123) \n",
    "xgbc = XGBClassifier(random_state=123)\n",
    "xgbc.fit(X_train,y_train)\n",
    "## results F1 and stdF1 ##\n",
    "avgF1_TCmulti_p10XGBoost = cross_val_score(xgbc, X, y, scoring=\"f1\", cv = 10).mean() ##<3## \n",
    "stdF1_TCmulti_p10XGBoost = cross_val_score(xgbc, X, y, scoring=\"f1\", cv = 10).std() ##<3##\n",
    "print('Mean F1 Score: ', avgF1_TCmulti_p10XGBoost)\n",
    "print('std F1 Score: ', stdF1_TCmulti_p10XGBoost)"
   ]
  },
  {
   "cell_type": "code",
   "execution_count": 293,
   "id": "c9f94844",
   "metadata": {},
   "outputs": [
    {
     "data": {
      "text/plain": [
       "200"
      ]
     },
     "execution_count": 293,
     "metadata": {},
     "output_type": "execute_result"
    }
   ],
   "source": [
    "n_TCmulti_p10XGBoost = len(feature_TC)\n",
    "n_TCmulti_p10XGBoost"
   ]
  },
  {
   "cell_type": "code",
   "execution_count": 294,
   "id": "9307258c",
   "metadata": {},
   "outputs": [
    {
     "name": "stdout",
     "output_type": "stream",
     "text": [
      "Fitting 5 folds for each of 729 candidates, totalling 3645 fits\n",
      "\n",
      " Time taken: 0 hours 0 minutes and 18.39 seconds.\n",
      "{'colsample_bytree': 0.5, 'eta': 0.01, 'learning_rate': 0.1, 'max_depth': 5, 'min_child_weight': 1, 'subsample': 0.5}\n",
      "Mean F1 Score:  0.6723809523809524\n",
      "std F1 Score:  0.28133791143065534\n"
     ]
    }
   ],
   "source": [
    "## tuned parameter_set1##\n",
    "\n",
    "start_time = timer(None)\n",
    "# Instantiate the grid search model\n",
    "grid_search = GridSearchCV(estimator = xgbc, param_grid = paramXGBoost_grid1,\n",
    "                           cv = 5, n_jobs = -1, verbose = 2,scoring='f1')\n",
    "# Fit the grid search to the data\n",
    "grid_search.fit(X_train, y_train)\n",
    "\n",
    "timer(start_time)\n",
    "print(grid_search.best_params_)\n",
    "\n",
    "\n",
    "xgbc_tuned = XGBClassifier(subsample=grid_search.best_params_['subsample'],\n",
    "                                   max_depth=grid_search.best_params_['max_depth'],\n",
    "                                   colsample_bytree=grid_search.best_params_['colsample_bytree'],\n",
    "                                   min_child_weight=grid_search.best_params_['min_child_weight'],\n",
    "                                   learning_rate=grid_search.best_params_['learning_rate'],\n",
    "                                   eta=grid_search.best_params_['eta'])\n",
    "xgbc_tuned.fit(X_train,y_train)\n",
    "\n",
    "## results F1 and stdF1 ##\n",
    "avgF1set1_TCmulti_p10tunedXGBoost  = cross_val_score(xgbc_tuned, X, y, scoring=\"f1\", cv = 10).mean() ##<3## \n",
    "stdF1set1_TCmulti_p10tunedXGBoost  = cross_val_score(xgbc_tuned, X, y, scoring=\"f1\", cv = 10).std() ##<3##\n",
    "print('Mean F1 Score: ', avgF1set1_TCmulti_p10tunedXGBoost)\n",
    "print('std F1 Score: ', stdF1set1_TCmulti_p10tunedXGBoost)"
   ]
  },
  {
   "cell_type": "code",
   "execution_count": 295,
   "id": "028e03a2",
   "metadata": {},
   "outputs": [
    {
     "name": "stdout",
     "output_type": "stream",
     "text": [
      "Fitting 5 folds for each of 729 candidates, totalling 3645 fits\n",
      "\n",
      " Time taken: 0 hours 0 minutes and 27.71 seconds.\n",
      "{'colsample_bytree': 0.75, 'eta': 0.01, 'learning_rate': 0.1, 'max_depth': 7, 'min_child_weight': 1, 'subsample': 0.2}\n",
      "Mean F1 Score:  0.5033333333333333\n",
      "std F1 Score:  0.27180466842528256\n"
     ]
    }
   ],
   "source": [
    "## tuned parameter_set2##\n",
    "\n",
    "start_time = timer(None)\n",
    "# Instantiate the grid search model\n",
    "grid_search = GridSearchCV(estimator = xgbc, param_grid = paramXGBoost_grid2,\n",
    "                           cv = 5, n_jobs = -1, verbose = 2,scoring='f1')\n",
    "# Fit the grid search to the data\n",
    "grid_search.fit(X_train, y_train)\n",
    "\n",
    "timer(start_time)\n",
    "print(grid_search.best_params_)\n",
    "\n",
    "\n",
    "xgbc_tuned = XGBClassifier(subsample=grid_search.best_params_['subsample'],\n",
    "                                   max_depth=grid_search.best_params_['max_depth'],\n",
    "                                   colsample_bytree=grid_search.best_params_['colsample_bytree'],\n",
    "                                   min_child_weight=grid_search.best_params_['min_child_weight'],\n",
    "                                   learning_rate=grid_search.best_params_['learning_rate'],\n",
    "                                   eta=grid_search.best_params_['eta'])\n",
    "xgbc_tuned.fit(X_train,y_train)\n",
    "\n",
    "## results F1 and stdF1 ##\n",
    "avgF1set2_TCmulti_p10tunedXGBoost = cross_val_score(xgbc_tuned, X, y, scoring=\"f1\", cv = 10).mean() ##<3## \n",
    "stdF1set2_TCmulti_p10tunedXGBoost  = cross_val_score(xgbc_tuned, X, y, scoring=\"f1\", cv = 10).std() ##<3##\n",
    "print('Mean F1 Score: ', avgF1set2_TCmulti_p10tunedXGBoost)\n",
    "print('std F1 Score: ', stdF1set2_TCmulti_p10tunedXGBoost)"
   ]
  },
  {
   "cell_type": "code",
   "execution_count": 296,
   "id": "b11c6f76",
   "metadata": {},
   "outputs": [
    {
     "name": "stdout",
     "output_type": "stream",
     "text": [
      "Fitting 5 folds for each of 729 candidates, totalling 3645 fits\n",
      "\n",
      " Time taken: 0 hours 0 minutes and 16.22 seconds.\n",
      "{'colsample_bytree': 0.1, 'eta': 0.01, 'learning_rate': 0.1, 'max_depth': 10, 'min_child_weight': 20, 'subsample': 0.2}\n",
      "Mean F1 Score:  0.0\n",
      "std F1 Score:  0.0\n"
     ]
    }
   ],
   "source": [
    "## tuned parameter_set3##\n",
    "\n",
    "start_time = timer(None)\n",
    "# Instantiate the grid search model\n",
    "grid_search = GridSearchCV(estimator = xgbc, param_grid = paramXGBoost_grid3,\n",
    "                           cv = 5, n_jobs = -1, verbose = 2,scoring='f1')\n",
    "# Fit the grid search to the data\n",
    "grid_search.fit(X_train, y_train)\n",
    "\n",
    "timer(start_time)\n",
    "print(grid_search.best_params_)\n",
    "\n",
    "\n",
    "xgbc_tuned = XGBClassifier(subsample=grid_search.best_params_['subsample'],\n",
    "                                   max_depth=grid_search.best_params_['max_depth'],\n",
    "                                   colsample_bytree=grid_search.best_params_['colsample_bytree'],\n",
    "                                   min_child_weight=grid_search.best_params_['min_child_weight'],\n",
    "                                   learning_rate=grid_search.best_params_['learning_rate'],\n",
    "                                   eta=grid_search.best_params_['eta'])\n",
    "xgbc_tuned.fit(X_train,y_train)\n",
    "\n",
    "## results F1 and stdF1 ##\n",
    "avgF1set3_TCmulti_p10tunedXGBoost  = cross_val_score(xgbc_tuned, X, y, scoring=\"f1\", cv = 10).mean() ##<3## \n",
    "stdF1set3_TCmulti_p10tunedXGBoost  = cross_val_score(xgbc_tuned, X, y, scoring=\"f1\", cv = 10).std() ##<3##\n",
    "print('Mean F1 Score: ', avgF1set3_TCmulti_p10tunedXGBoost)\n",
    "print('std F1 Score: ', stdF1set3_TCmulti_p10tunedXGBoost)"
   ]
  },
  {
   "cell_type": "code",
   "execution_count": 297,
   "id": "de66e593",
   "metadata": {},
   "outputs": [
    {
     "name": "stdout",
     "output_type": "stream",
     "text": [
      "Fitting 5 folds for each of 729 candidates, totalling 3645 fits\n",
      "\n",
      " Time taken: 0 hours 0 minutes and 13.87 seconds.\n",
      "{'colsample_bytree': 0.1, 'eta': 0.01, 'learning_rate': 0.1, 'max_depth': 5, 'min_child_weight': 5, 'subsample': 0.75}\n",
      "Mean F1 Score:  0.4166666666666667\n",
      "std F1 Score:  0.3593976442141304\n"
     ]
    }
   ],
   "source": [
    "## tuned parameter_set4##\n",
    "\n",
    "start_time = timer(None)\n",
    "# Instantiate the grid search model\n",
    "grid_search = GridSearchCV(estimator = xgbc, param_grid = paramXGBoost_grid4,\n",
    "                           cv = 5, n_jobs = -1, verbose = 2,scoring='f1')\n",
    "# Fit the grid search to the data\n",
    "grid_search.fit(X_train, y_train)\n",
    "\n",
    "timer(start_time)\n",
    "print(grid_search.best_params_)\n",
    "\n",
    "\n",
    "xgbc_tuned = XGBClassifier(subsample=grid_search.best_params_['subsample'],\n",
    "                                   max_depth=grid_search.best_params_['max_depth'],\n",
    "                                   colsample_bytree=grid_search.best_params_['colsample_bytree'],\n",
    "                                   min_child_weight=grid_search.best_params_['min_child_weight'],\n",
    "                                   learning_rate=grid_search.best_params_['learning_rate'],\n",
    "                                   eta=grid_search.best_params_['eta'])\n",
    "xgbc_tuned.fit(X_train,y_train)\n",
    "\n",
    "## results F1 and stdF1 ##\n",
    "avgF1set4_TCmulti_p10tunedXGBoost  = cross_val_score(xgbc_tuned, X, y, scoring=\"f1\", cv = 10).mean() ##<3## \n",
    "stdF1set4_TCmulti_p10tunedXGBoost = cross_val_score(xgbc_tuned, X, y, scoring=\"f1\", cv = 10).std() ##<3##\n",
    "print('Mean F1 Score: ', avgF1set4_TCmulti_p10tunedXGBoost)\n",
    "print('std F1 Score: ', stdF1set4_TCmulti_p10tunedXGBoost)"
   ]
  },
  {
   "cell_type": "code",
   "execution_count": null,
   "id": "0baaed0d",
   "metadata": {},
   "outputs": [],
   "source": [
    "\n"
   ]
  },
  {
   "cell_type": "markdown",
   "id": "27cd679c",
   "metadata": {},
   "source": [
    "### threshold: 20%"
   ]
  },
  {
   "cell_type": "code",
   "execution_count": 298,
   "id": "5794f0af",
   "metadata": {},
   "outputs": [
    {
     "name": "stdout",
     "output_type": "stream",
     "text": [
      "Mean F1 Score:  0.6923809523809524\n",
      "std F1 Score:  0.2964047609484793\n"
     ]
    }
   ],
   "source": [
    "# threshold: 20%\n",
    "f_df123_1 = pd.read_csv('f_df123_xgb.csv')\n",
    "\n",
    "\n",
    "dfMI = f_df123_1[['Feature','rank_mi']]\n",
    "dfMI = dfMI.sort_values(by=['rank_mi'])\n",
    "dfMI = dfMI.set_index('Feature')\n",
    "dfMI_p20 = dfMI.iloc[:thres_p20] ## threshold here\n",
    "dfMI_p20 = set(dfMI_p20.index.tolist())\n",
    "\n",
    "dfSHAP = f_df123_1[['Feature','rank_SHAP']]\n",
    "dfSHAP = dfSHAP.sort_values(by=['rank_SHAP'])\n",
    "dfSHAP = dfSHAP.set_index('Feature')\n",
    "dfSHAP_p20 = dfSHAP.iloc[:thres_p20]  ## threshold here\n",
    "dfSHAP_p20 = set(dfSHAP_p20.index.tolist())\n",
    "\n",
    "dfEmbed = f_df123_1[['Feature','rank_embed']]\n",
    "dfEmbed = dfEmbed.sort_values(by=['rank_embed'])\n",
    "dfEmbed = dfEmbed.set_index('Feature')\n",
    "dfEmbed_p20 = dfEmbed.iloc[:thres_p20]  ## threshold here\n",
    "dfEmbed_p20 = set(dfEmbed_p20.index.tolist())\n",
    "\n",
    "fea12_inters = list(dfMI_p20.intersection(dfSHAP_p20))\n",
    "fea13_inters = list(dfMI_p20.intersection(dfEmbed_p20))\n",
    "fea23_inters = list(dfSHAP_p20.intersection(dfEmbed_p20))\n",
    "fea123_inters = list(dfMI_p20.intersection(dfSHAP_p20,dfEmbed_p20))\n",
    "\n",
    "feature_TC = list(set().union(fea12_inters+fea13_inters+fea23_inters+fea123_inters))\n",
    "\n",
    "df_filter = df1.filter(items=feature_TC)\n",
    "X = df_filter\n",
    "y = df1['class']\n",
    "\n",
    "\n",
    "\n",
    "\n",
    "## before tuned ##\n",
    "X_train, X_test, y_train, y_test = train_test_split(X, y, test_size=0.2, random_state=123) \n",
    "xgbc = XGBClassifier(random_state=123)\n",
    "xgbc.fit(X_train,y_train)\n",
    "## results F1 and stdF1 ##\n",
    "avgF1_TCmulti_p20XGBoost = cross_val_score(xgbc, X, y, scoring=\"f1\", cv = 10).mean() ##<3## \n",
    "stdF1_TCmulti_p20XGBoost = cross_val_score(xgbc, X, y, scoring=\"f1\", cv = 10).std() ##<3##\n",
    "print('Mean F1 Score: ', avgF1_TCmulti_p20XGBoost)\n",
    "print('std F1 Score: ', stdF1_TCmulti_p20XGBoost)"
   ]
  },
  {
   "cell_type": "code",
   "execution_count": 299,
   "id": "2ba27fc1",
   "metadata": {},
   "outputs": [
    {
     "data": {
      "text/plain": [
       "400"
      ]
     },
     "execution_count": 299,
     "metadata": {},
     "output_type": "execute_result"
    }
   ],
   "source": [
    "n_TCmulti_p20XGBoost = len(feature_TC)\n",
    "n_TCmulti_p20XGBoost"
   ]
  },
  {
   "cell_type": "code",
   "execution_count": 300,
   "id": "6463c0b3",
   "metadata": {},
   "outputs": [
    {
     "name": "stdout",
     "output_type": "stream",
     "text": [
      "Fitting 5 folds for each of 729 candidates, totalling 3645 fits\n",
      "\n",
      " Time taken: 0 hours 0 minutes and 28.08 seconds.\n",
      "{'colsample_bytree': 0.5, 'eta': 0.01, 'learning_rate': 0.1, 'max_depth': 5, 'min_child_weight': 1, 'subsample': 0.75}\n",
      "Mean F1 Score:  0.7757142857142857\n",
      "std F1 Score:  0.21463939067005125\n"
     ]
    }
   ],
   "source": [
    "## tuned parameter_set1##\n",
    "\n",
    "start_time = timer(None)\n",
    "# Instantiate the grid search model\n",
    "grid_search = GridSearchCV(estimator = xgbc, param_grid = paramXGBoost_grid1,\n",
    "                           cv = 5, n_jobs = -1, verbose = 2,scoring='f1')\n",
    "# Fit the grid search to the data\n",
    "grid_search.fit(X_train, y_train)\n",
    "\n",
    "timer(start_time)\n",
    "print(grid_search.best_params_)\n",
    "\n",
    "\n",
    "xgbc_tuned = XGBClassifier(subsample=grid_search.best_params_['subsample'],\n",
    "                                   max_depth=grid_search.best_params_['max_depth'],\n",
    "                                   colsample_bytree=grid_search.best_params_['colsample_bytree'],\n",
    "                                   min_child_weight=grid_search.best_params_['min_child_weight'],\n",
    "                                   learning_rate=grid_search.best_params_['learning_rate'],\n",
    "                                   eta=grid_search.best_params_['eta'])\n",
    "xgbc_tuned.fit(X_train,y_train)\n",
    "\n",
    "## results F1 and stdF1 ##\n",
    "avgF1set1_TCmulti_p20tunedXGBoost  = cross_val_score(xgbc_tuned, X, y, scoring=\"f1\", cv = 10).mean() ##<3## \n",
    "stdF1set1_TCmulti_p20tunedXGBoost  = cross_val_score(xgbc_tuned, X, y, scoring=\"f1\", cv = 10).std() ##<3##\n",
    "print('Mean F1 Score: ', avgF1set1_TCmulti_p20tunedXGBoost)\n",
    "print('std F1 Score: ', stdF1set1_TCmulti_p20tunedXGBoost)"
   ]
  },
  {
   "cell_type": "code",
   "execution_count": 301,
   "id": "5c105e7f",
   "metadata": {},
   "outputs": [
    {
     "name": "stdout",
     "output_type": "stream",
     "text": [
      "Fitting 5 folds for each of 729 candidates, totalling 3645 fits\n",
      "\n",
      " Time taken: 0 hours 0 minutes and 40.86 seconds.\n",
      "{'colsample_bytree': 0.75, 'eta': 0.01, 'learning_rate': 0.1, 'max_depth': 7, 'min_child_weight': 0.1, 'subsample': 0.6}\n",
      "Mean F1 Score:  0.7423809523809524\n",
      "std F1 Score:  0.20277496658816127\n"
     ]
    }
   ],
   "source": [
    "## tuned parameter_set2##\n",
    "\n",
    "start_time = timer(None)\n",
    "# Instantiate the grid search model\n",
    "grid_search = GridSearchCV(estimator = xgbc, param_grid = paramXGBoost_grid2,\n",
    "                           cv = 5, n_jobs = -1, verbose = 2,scoring='f1')\n",
    "# Fit the grid search to the data\n",
    "grid_search.fit(X_train, y_train)\n",
    "\n",
    "timer(start_time)\n",
    "print(grid_search.best_params_)\n",
    "\n",
    "\n",
    "xgbc_tuned = XGBClassifier(subsample=grid_search.best_params_['subsample'],\n",
    "                                   max_depth=grid_search.best_params_['max_depth'],\n",
    "                                   colsample_bytree=grid_search.best_params_['colsample_bytree'],\n",
    "                                   min_child_weight=grid_search.best_params_['min_child_weight'],\n",
    "                                   learning_rate=grid_search.best_params_['learning_rate'],\n",
    "                                   eta=grid_search.best_params_['eta'])\n",
    "xgbc_tuned.fit(X_train,y_train)\n",
    "\n",
    "## results F1 and stdF1 ##\n",
    "avgF1set2_TCmulti_p20tunedXGBoost = cross_val_score(xgbc_tuned, X, y, scoring=\"f1\", cv = 10).mean() ##<3## \n",
    "stdF1set2_TCmulti_p20tunedXGBoost  = cross_val_score(xgbc_tuned, X, y, scoring=\"f1\", cv = 10).std() ##<3##\n",
    "print('Mean F1 Score: ', avgF1set2_TCmulti_p20tunedXGBoost)\n",
    "print('std F1 Score: ', stdF1set2_TCmulti_p20tunedXGBoost)"
   ]
  },
  {
   "cell_type": "code",
   "execution_count": 302,
   "id": "8629dcd0",
   "metadata": {},
   "outputs": [
    {
     "name": "stdout",
     "output_type": "stream",
     "text": [
      "Fitting 5 folds for each of 729 candidates, totalling 3645 fits\n",
      "\n",
      " Time taken: 0 hours 0 minutes and 11.09 seconds.\n",
      "{'colsample_bytree': 0.1, 'eta': 0.01, 'learning_rate': 0.1, 'max_depth': 10, 'min_child_weight': 20, 'subsample': 0.2}\n",
      "Mean F1 Score:  0.0\n",
      "std F1 Score:  0.0\n"
     ]
    }
   ],
   "source": [
    "## tuned parameter_set3##\n",
    "\n",
    "start_time = timer(None)\n",
    "# Instantiate the grid search model\n",
    "grid_search = GridSearchCV(estimator = xgbc, param_grid = paramXGBoost_grid3,\n",
    "                           cv = 5, n_jobs = -1, verbose = 2,scoring='f1')\n",
    "# Fit the grid search to the data\n",
    "grid_search.fit(X_train, y_train)\n",
    "\n",
    "timer(start_time)\n",
    "print(grid_search.best_params_)\n",
    "\n",
    "\n",
    "xgbc_tuned = XGBClassifier(subsample=grid_search.best_params_['subsample'],\n",
    "                                   max_depth=grid_search.best_params_['max_depth'],\n",
    "                                   colsample_bytree=grid_search.best_params_['colsample_bytree'],\n",
    "                                   min_child_weight=grid_search.best_params_['min_child_weight'],\n",
    "                                   learning_rate=grid_search.best_params_['learning_rate'],\n",
    "                                   eta=grid_search.best_params_['eta'])\n",
    "xgbc_tuned.fit(X_train,y_train)\n",
    "\n",
    "## results F1 and stdF1 ##\n",
    "avgF1set3_TCmulti_p20tunedXGBoost  = cross_val_score(xgbc_tuned, X, y, scoring=\"f1\", cv = 10).mean() ##<3## \n",
    "stdF1set3_TCmulti_p20tunedXGBoost  = cross_val_score(xgbc_tuned, X, y, scoring=\"f1\", cv = 10).std() ##<3##\n",
    "print('Mean F1 Score: ', avgF1set3_TCmulti_p20tunedXGBoost)\n",
    "print('std F1 Score: ', stdF1set3_TCmulti_p20tunedXGBoost)"
   ]
  },
  {
   "cell_type": "code",
   "execution_count": 303,
   "id": "9b917142",
   "metadata": {},
   "outputs": [
    {
     "name": "stdout",
     "output_type": "stream",
     "text": [
      "Fitting 5 folds for each of 729 candidates, totalling 3645 fits\n",
      "\n",
      " Time taken: 0 hours 0 minutes and 11.12 seconds.\n",
      "{'colsample_bytree': 0.1, 'eta': 0.01, 'learning_rate': 0.1, 'max_depth': 5, 'min_child_weight': 5, 'subsample': 0.75}\n",
      "Mean F1 Score:  0.45\n",
      "std F1 Score:  0.29860788111948194\n"
     ]
    }
   ],
   "source": [
    "## tuned parameter_set4##\n",
    "\n",
    "start_time = timer(None)\n",
    "# Instantiate the grid search model\n",
    "grid_search = GridSearchCV(estimator = xgbc, param_grid = paramXGBoost_grid4,\n",
    "                           cv = 5, n_jobs = -1, verbose = 2,scoring='f1')\n",
    "# Fit the grid search to the data\n",
    "grid_search.fit(X_train, y_train)\n",
    "\n",
    "timer(start_time)\n",
    "print(grid_search.best_params_)\n",
    "\n",
    "\n",
    "xgbc_tuned = XGBClassifier(subsample=grid_search.best_params_['subsample'],\n",
    "                                   max_depth=grid_search.best_params_['max_depth'],\n",
    "                                   colsample_bytree=grid_search.best_params_['colsample_bytree'],\n",
    "                                   min_child_weight=grid_search.best_params_['min_child_weight'],\n",
    "                                   learning_rate=grid_search.best_params_['learning_rate'],\n",
    "                                   eta=grid_search.best_params_['eta'])\n",
    "xgbc_tuned.fit(X_train,y_train)\n",
    "\n",
    "## results F1 and stdF1 ##\n",
    "avgF1set4_TCmulti_p20tunedXGBoost  = cross_val_score(xgbc_tuned, X, y, scoring=\"f1\", cv = 10).mean() ##<3## \n",
    "stdF1set4_TCmulti_p20tunedXGBoost = cross_val_score(xgbc_tuned, X, y, scoring=\"f1\", cv = 10).std() ##<3##\n",
    "print('Mean F1 Score: ', avgF1set4_TCmulti_p20tunedXGBoost)\n",
    "print('std F1 Score: ', stdF1set4_TCmulti_p20tunedXGBoost)"
   ]
  },
  {
   "cell_type": "code",
   "execution_count": null,
   "id": "ea8c44c6",
   "metadata": {},
   "outputs": [],
   "source": []
  },
  {
   "cell_type": "code",
   "execution_count": null,
   "id": "76edb4ef",
   "metadata": {},
   "outputs": [],
   "source": []
  },
  {
   "cell_type": "markdown",
   "id": "b50acdf3",
   "metadata": {},
   "source": [
    "## intersection"
   ]
  },
  {
   "cell_type": "markdown",
   "id": "ddb96595",
   "metadata": {},
   "source": [
    "### threshold: logbase2(n)"
   ]
  },
  {
   "cell_type": "code",
   "execution_count": 304,
   "id": "67035581",
   "metadata": {},
   "outputs": [
    {
     "name": "stdout",
     "output_type": "stream",
     "text": [
      "Mean F1 Score:  0.5766666666666667\n",
      "std F1 Score:  0.4158124577258358\n"
     ]
    }
   ],
   "source": [
    "# threshold: logbase2(n)\n",
    "\n",
    "f_df123_1 = pd.read_csv('f_df123_xgb.csv')\n",
    "\n",
    "\n",
    "dfMI = f_df123_1[['Feature','rank_mi']]\n",
    "dfMI = dfMI.sort_values(by=['rank_mi'])\n",
    "dfMI = dfMI.set_index('Feature')\n",
    "dfMI_base2 = dfMI.iloc[:thres_base2n] ## threshold here\n",
    "dfMI_base2 = set(dfMI_base2.index.tolist())\n",
    "\n",
    "dfSHAP = f_df123_1[['Feature','rank_SHAP']]\n",
    "dfSHAP = dfSHAP.sort_values(by=['rank_SHAP'])\n",
    "dfSHAP = dfSHAP.set_index('Feature')\n",
    "dfSHAP_base2 = dfSHAP.iloc[:thres_base2n]  ## threshold here\n",
    "dfSHAP_base2 = set(dfSHAP_base2.index.tolist())\n",
    "\n",
    "dfEmbed = f_df123_1[['Feature','rank_embed']]\n",
    "dfEmbed = dfEmbed.sort_values(by=['rank_embed'])\n",
    "dfEmbed = dfEmbed.set_index('Feature')\n",
    "dfEmbed_base2 = dfEmbed.iloc[:thres_base2n]  ## threshold here\n",
    "dfEmbed_base2 = set(dfEmbed_base2.index.tolist())\n",
    "\n",
    "fea123_inters = list(dfMI_base2.intersection(dfSHAP_base2,dfEmbed_base2))\n",
    "\n",
    "feature_TC = list(fea123_inters)\n",
    "\n",
    "df_filter = df1.filter(items=feature_TC)\n",
    "X = df_filter\n",
    "y = df1['class']\n",
    "\n",
    "\n",
    "\n",
    "\n",
    "## before tuned ##\n",
    "X_train, X_test, y_train, y_test = train_test_split(X, y, test_size=0.2, random_state=123) \n",
    "xgbc = XGBClassifier(random_state=123)\n",
    "xgbc.fit(X_train,y_train)\n",
    "## results F1 and stdF1 ##\n",
    "avgF1_TCinters_base2XGBoost = cross_val_score(xgbc, X, y, scoring=\"f1\", cv = 10).mean() ##<3## \n",
    "stdF1_TCinters_base2XGBoost = cross_val_score(xgbc, X, y, scoring=\"f1\", cv = 10).std() ##<3##\n",
    "print('Mean F1 Score: ', avgF1_TCinters_base2XGBoost)\n",
    "print('std F1 Score: ', stdF1_TCinters_base2XGBoost)"
   ]
  },
  {
   "cell_type": "code",
   "execution_count": 305,
   "id": "688c0c38",
   "metadata": {},
   "outputs": [
    {
     "data": {
      "text/plain": [
       "1"
      ]
     },
     "execution_count": 305,
     "metadata": {},
     "output_type": "execute_result"
    }
   ],
   "source": [
    "n_TCinters_base2XGBoost = len(feature_TC)\n",
    "n_TCinters_base2XGBoost"
   ]
  },
  {
   "cell_type": "code",
   "execution_count": 306,
   "id": "081af6c0",
   "metadata": {},
   "outputs": [
    {
     "name": "stdout",
     "output_type": "stream",
     "text": [
      "Fitting 5 folds for each of 729 candidates, totalling 3645 fits\n",
      "\n",
      " Time taken: 0 hours 0 minutes and 6.97 seconds.\n",
      "{'colsample_bytree': 0.5, 'eta': 0.01, 'learning_rate': 0.01, 'max_depth': 5, 'min_child_weight': 1, 'subsample': 0.75}\n",
      "Mean F1 Score:  0.6333333333333333\n",
      "std F1 Score:  0.4333333333333334\n"
     ]
    }
   ],
   "source": [
    "## tuned parameter_set1##\n",
    "\n",
    "start_time = timer(None)\n",
    "# Instantiate the grid search model\n",
    "grid_search = GridSearchCV(estimator = xgbc, param_grid = paramXGBoost_grid1,\n",
    "                           cv = 5, n_jobs = -1, verbose = 2,scoring='f1')\n",
    "# Fit the grid search to the data\n",
    "grid_search.fit(X_train, y_train)\n",
    "\n",
    "timer(start_time)\n",
    "print(grid_search.best_params_)\n",
    "\n",
    "\n",
    "xgbc_tuned = XGBClassifier(subsample=grid_search.best_params_['subsample'],\n",
    "                                   max_depth=grid_search.best_params_['max_depth'],\n",
    "                                   colsample_bytree=grid_search.best_params_['colsample_bytree'],\n",
    "                                   min_child_weight=grid_search.best_params_['min_child_weight'],\n",
    "                                   learning_rate=grid_search.best_params_['learning_rate'],\n",
    "                                   eta=grid_search.best_params_['eta'])\n",
    "xgbc_tuned.fit(X_train,y_train)\n",
    "\n",
    "## results F1 and stdF1 ##\n",
    "avgF1set1_TCinters_base2tunedXGBoost  = cross_val_score(xgbc_tuned, X, y, scoring=\"f1\", cv = 10).mean() ##<3## \n",
    "stdF1set1_TCinters_base2tunedXGBoost  = cross_val_score(xgbc_tuned, X, y, scoring=\"f1\", cv = 10).std() ##<3##\n",
    "print('Mean F1 Score: ', avgF1set1_TCinters_base2tunedXGBoost)\n",
    "print('std F1 Score: ', stdF1set1_TCinters_base2tunedXGBoost)"
   ]
  },
  {
   "cell_type": "code",
   "execution_count": 307,
   "id": "fdbea023",
   "metadata": {},
   "outputs": [
    {
     "name": "stdout",
     "output_type": "stream",
     "text": [
      "Fitting 5 folds for each of 729 candidates, totalling 3645 fits\n",
      "\n",
      " Time taken: 0 hours 0 minutes and 7.37 seconds.\n",
      "{'colsample_bytree': 0.5, 'eta': 0.01, 'learning_rate': 0.1, 'max_depth': 7, 'min_child_weight': 0.1, 'subsample': 0.2}\n",
      "Mean F1 Score:  0.6333333333333333\n",
      "std F1 Score:  0.4333333333333334\n"
     ]
    }
   ],
   "source": [
    "## tuned parameter_set2##\n",
    "\n",
    "start_time = timer(None)\n",
    "# Instantiate the grid search model\n",
    "grid_search = GridSearchCV(estimator = xgbc, param_grid = paramXGBoost_grid2,\n",
    "                           cv = 5, n_jobs = -1, verbose = 2,scoring='f1')\n",
    "# Fit the grid search to the data\n",
    "grid_search.fit(X_train, y_train)\n",
    "\n",
    "timer(start_time)\n",
    "print(grid_search.best_params_)\n",
    "\n",
    "\n",
    "xgbc_tuned = XGBClassifier(subsample=grid_search.best_params_['subsample'],\n",
    "                                   max_depth=grid_search.best_params_['max_depth'],\n",
    "                                   colsample_bytree=grid_search.best_params_['colsample_bytree'],\n",
    "                                   min_child_weight=grid_search.best_params_['min_child_weight'],\n",
    "                                   learning_rate=grid_search.best_params_['learning_rate'],\n",
    "                                   eta=grid_search.best_params_['eta'])\n",
    "xgbc_tuned.fit(X_train,y_train)\n",
    "\n",
    "## results F1 and stdF1 ##\n",
    "avgF1set2_TCinters_base2tunedXGBoost  = cross_val_score(xgbc_tuned, X, y, scoring=\"f1\", cv = 10).mean() ##<3## \n",
    "stdF1set2_TCinters_base2tunedXGBoost  = cross_val_score(xgbc_tuned, X, y, scoring=\"f1\", cv = 10).std() ##<3##\n",
    "print('Mean F1 Score: ', avgF1set2_TCinters_base2tunedXGBoost)\n",
    "print('std F1 Score: ', stdF1set2_TCinters_base2tunedXGBoost)"
   ]
  },
  {
   "cell_type": "code",
   "execution_count": 308,
   "id": "dbc784ad",
   "metadata": {},
   "outputs": [
    {
     "name": "stdout",
     "output_type": "stream",
     "text": [
      "Fitting 5 folds for each of 729 candidates, totalling 3645 fits\n",
      "\n",
      " Time taken: 0 hours 0 minutes and 6.92 seconds.\n",
      "{'colsample_bytree': 0.1, 'eta': 0.01, 'learning_rate': 0.1, 'max_depth': 10, 'min_child_weight': 20, 'subsample': 0.2}\n",
      "Mean F1 Score:  0.0\n",
      "std F1 Score:  0.0\n"
     ]
    }
   ],
   "source": [
    "## tuned parameter_set3##\n",
    "\n",
    "start_time = timer(None)\n",
    "# Instantiate the grid search model\n",
    "grid_search = GridSearchCV(estimator = xgbc, param_grid = paramXGBoost_grid3,\n",
    "                           cv = 5, n_jobs = -1, verbose = 2,scoring='f1')\n",
    "# Fit the grid search to the data\n",
    "grid_search.fit(X_train, y_train)\n",
    "\n",
    "timer(start_time)\n",
    "print(grid_search.best_params_)\n",
    "\n",
    "\n",
    "xgbc_tuned = XGBClassifier(subsample=grid_search.best_params_['subsample'],\n",
    "                                   max_depth=grid_search.best_params_['max_depth'],\n",
    "                                   colsample_bytree=grid_search.best_params_['colsample_bytree'],\n",
    "                                   min_child_weight=grid_search.best_params_['min_child_weight'],\n",
    "                                   learning_rate=grid_search.best_params_['learning_rate'],\n",
    "                                   eta=grid_search.best_params_['eta'])\n",
    "xgbc_tuned.fit(X_train,y_train)\n",
    "\n",
    "## results F1 and stdF1 ##\n",
    "avgF1set3_TCinters_base2tunedXGBoost  = cross_val_score(xgbc_tuned, X, y, scoring=\"f1\", cv = 10).mean() ##<3## \n",
    "stdF1set3_TCinters_base2tunedXGBoost  = cross_val_score(xgbc_tuned, X, y, scoring=\"f1\", cv = 10).std() ##<3##\n",
    "print('Mean F1 Score: ', avgF1set3_TCinters_base2tunedXGBoost)\n",
    "print('std F1 Score: ', stdF1set3_TCinters_base2tunedXGBoost)"
   ]
  },
  {
   "cell_type": "code",
   "execution_count": 309,
   "id": "fe42e928",
   "metadata": {},
   "outputs": [
    {
     "name": "stdout",
     "output_type": "stream",
     "text": [
      "Fitting 5 folds for each of 729 candidates, totalling 3645 fits\n",
      "\n",
      " Time taken: 0 hours 0 minutes and 6.85 seconds.\n",
      "{'colsample_bytree': 0.1, 'eta': 0.01, 'learning_rate': 0.1, 'max_depth': 5, 'min_child_weight': 5, 'subsample': 0.75}\n",
      "Mean F1 Score:  0.0\n",
      "std F1 Score:  0.0\n"
     ]
    }
   ],
   "source": [
    "## tuned parameter_set4##\n",
    "\n",
    "start_time = timer(None)\n",
    "# Instantiate the grid search model\n",
    "grid_search = GridSearchCV(estimator = xgbc, param_grid = paramXGBoost_grid4,\n",
    "                           cv = 5, n_jobs = -1, verbose = 2,scoring='f1')\n",
    "# Fit the grid search to the data\n",
    "grid_search.fit(X_train, y_train)\n",
    "\n",
    "timer(start_time)\n",
    "print(grid_search.best_params_)\n",
    "\n",
    "\n",
    "xgbc_tuned = XGBClassifier(subsample=grid_search.best_params_['subsample'],\n",
    "                                   max_depth=grid_search.best_params_['max_depth'],\n",
    "                                   colsample_bytree=grid_search.best_params_['colsample_bytree'],\n",
    "                                   min_child_weight=grid_search.best_params_['min_child_weight'],\n",
    "                                   learning_rate=grid_search.best_params_['learning_rate'],\n",
    "                                   eta=grid_search.best_params_['eta'])\n",
    "xgbc_tuned.fit(X_train,y_train)\n",
    "\n",
    "## results F1 and stdF1 ##\n",
    "avgF1set4_TCinters_base2tunedXGBoost  = cross_val_score(xgbc_tuned, X, y, scoring=\"f1\", cv = 10).mean() ##<3## \n",
    "stdF1set4_TCinters_base2tunedXGBoost  = cross_val_score(xgbc_tuned, X, y, scoring=\"f1\", cv = 10).std() ##<3##\n",
    "print('Mean F1 Score: ', avgF1set4_TCinters_base2tunedXGBoost)\n",
    "print('std F1 Score: ', stdF1set4_TCinters_base2tunedXGBoost)"
   ]
  },
  {
   "cell_type": "markdown",
   "id": "4c485456",
   "metadata": {},
   "source": [
    "### threshold: 2.5%"
   ]
  },
  {
   "cell_type": "code",
   "execution_count": 310,
   "id": "567321fd",
   "metadata": {},
   "outputs": [
    {
     "name": "stdout",
     "output_type": "stream",
     "text": [
      "Mean F1 Score:  0.7223809523809523\n",
      "std F1 Score:  0.18550721056085134\n"
     ]
    }
   ],
   "source": [
    "# threshold: 2.5%\n",
    "f_df123_1 = pd.read_csv('f_df123_xgb.csv')\n",
    "\n",
    "\n",
    "dfMI = f_df123_1[['Feature','rank_mi']]\n",
    "dfMI = dfMI.sort_values(by=['rank_mi'])\n",
    "dfMI = dfMI.set_index('Feature')\n",
    "dfMI_p2_5 = dfMI.iloc[:thres_p2_5] ## threshold here\n",
    "dfMI_p2_5 = set(dfMI_p2_5.index.tolist())\n",
    "\n",
    "dfSHAP = f_df123_1[['Feature','rank_SHAP']]\n",
    "dfSHAP = dfSHAP.sort_values(by=['rank_SHAP'])\n",
    "dfSHAP = dfSHAP.set_index('Feature')\n",
    "dfSHAP_p2_5 = dfSHAP.iloc[:thres_p2_5]  ## threshold here\n",
    "dfSHAP_p2_5 = set(dfSHAP_p2_5.index.tolist())\n",
    "\n",
    "dfEmbed = f_df123_1[['Feature','rank_embed']]\n",
    "dfEmbed = dfEmbed.sort_values(by=['rank_embed'])\n",
    "dfEmbed = dfEmbed.set_index('Feature')\n",
    "dfEmbed_p2_5 = dfEmbed.iloc[:thres_p2_5]  ## threshold here\n",
    "dfEmbed_p2_5 = set(dfEmbed_p2_5.index.tolist())\n",
    "\n",
    "fea123_inters = list(dfMI_p2_5.intersection(dfSHAP_p2_5,dfEmbed_p2_5))\n",
    "\n",
    "feature_TC = list(fea123_inters)\n",
    "\n",
    "df_filter = df1.filter(items=feature_TC)\n",
    "X = df_filter\n",
    "y = df1['class']\n",
    "\n",
    "\n",
    "\n",
    "\n",
    "## before tuned ##\n",
    "X_train, X_test, y_train, y_test = train_test_split(X, y, test_size=0.2, random_state=123) \n",
    "xgbc = XGBClassifier(random_state=123)\n",
    "xgbc.fit(X_train,y_train)\n",
    "## results F1 and stdF1 ##\n",
    "avgF1_TCinters_p2_5XGBoost = cross_val_score(xgbc, X, y, scoring=\"f1\", cv = 10).mean() ##<3## \n",
    "stdF1_TCinters_p2_5XGBoost = cross_val_score(xgbc, X, y, scoring=\"f1\", cv = 10).std() ##<3##\n",
    "print('Mean F1 Score: ', avgF1_TCinters_p2_5XGBoost)\n",
    "print('std F1 Score: ', stdF1_TCinters_p2_5XGBoost)"
   ]
  },
  {
   "cell_type": "code",
   "execution_count": 311,
   "id": "3b0c1c3b",
   "metadata": {},
   "outputs": [
    {
     "data": {
      "text/plain": [
       "17"
      ]
     },
     "execution_count": 311,
     "metadata": {},
     "output_type": "execute_result"
    }
   ],
   "source": [
    "n_TCinters_p2_5XGBoost = len(feature_TC)\n",
    "n_TCinters_p2_5XGBoost"
   ]
  },
  {
   "cell_type": "code",
   "execution_count": 312,
   "id": "b8e01277",
   "metadata": {},
   "outputs": [
    {
     "name": "stdout",
     "output_type": "stream",
     "text": [
      "Fitting 5 folds for each of 729 candidates, totalling 3645 fits\n",
      "\n",
      " Time taken: 0 hours 0 minutes and 7.43 seconds.\n",
      "{'colsample_bytree': 0.5, 'eta': 0.01, 'learning_rate': 0.1, 'max_depth': 5, 'min_child_weight': 1, 'subsample': 0.75}\n",
      "Mean F1 Score:  0.79\n",
      "std F1 Score:  0.2241279396535232\n"
     ]
    }
   ],
   "source": [
    "## tuned parameter_set1##\n",
    "\n",
    "start_time = timer(None)\n",
    "# Instantiate the grid search model\n",
    "grid_search = GridSearchCV(estimator = xgbc, param_grid = paramXGBoost_grid1,\n",
    "                           cv = 5, n_jobs = -1, verbose = 2,scoring='f1')\n",
    "# Fit the grid search to the data\n",
    "grid_search.fit(X_train, y_train)\n",
    "\n",
    "timer(start_time)\n",
    "print(grid_search.best_params_)\n",
    "\n",
    "\n",
    "xgbc_tuned = XGBClassifier(subsample=grid_search.best_params_['subsample'],\n",
    "                                   max_depth=grid_search.best_params_['max_depth'],\n",
    "                                   colsample_bytree=grid_search.best_params_['colsample_bytree'],\n",
    "                                   min_child_weight=grid_search.best_params_['min_child_weight'],\n",
    "                                   learning_rate=grid_search.best_params_['learning_rate'],\n",
    "                                   eta=grid_search.best_params_['eta'])\n",
    "xgbc_tuned.fit(X_train,y_train)\n",
    "\n",
    "## results F1 and stdF1 ##\n",
    "avgF1set1_TCinters_p2_5tunedXGBoost  = cross_val_score(xgbc_tuned, X, y, scoring=\"f1\", cv = 10).mean() ##<3## \n",
    "stdF1set1_TCinters_p2_5tunedXGBoost  = cross_val_score(xgbc_tuned, X, y, scoring=\"f1\", cv = 10).std() ##<3##\n",
    "print('Mean F1 Score: ', avgF1set1_TCinters_p2_5tunedXGBoost)\n",
    "print('std F1 Score: ', stdF1set1_TCinters_p2_5tunedXGBoost)"
   ]
  },
  {
   "cell_type": "code",
   "execution_count": 313,
   "id": "370e6be7",
   "metadata": {},
   "outputs": [
    {
     "name": "stdout",
     "output_type": "stream",
     "text": [
      "Fitting 5 folds for each of 729 candidates, totalling 3645 fits\n",
      "\n",
      " Time taken: 0 hours 0 minutes and 8.11 seconds.\n",
      "{'colsample_bytree': 0.5, 'eta': 0.01, 'learning_rate': 0.1, 'max_depth': 7, 'min_child_weight': 1, 'subsample': 0.2}\n",
      "Mean F1 Score:  0.7066666666666668\n",
      "std F1 Score:  0.30724582991474436\n"
     ]
    }
   ],
   "source": [
    "## tuned parameter_set2##\n",
    "\n",
    "start_time = timer(None)\n",
    "# Instantiate the grid search model\n",
    "grid_search = GridSearchCV(estimator = xgbc, param_grid = paramXGBoost_grid2,\n",
    "                           cv = 5, n_jobs = -1, verbose = 2,scoring='f1')\n",
    "# Fit the grid search to the data\n",
    "grid_search.fit(X_train, y_train)\n",
    "\n",
    "timer(start_time)\n",
    "print(grid_search.best_params_)\n",
    "\n",
    "\n",
    "xgbc_tuned = XGBClassifier(subsample=grid_search.best_params_['subsample'],\n",
    "                                   max_depth=grid_search.best_params_['max_depth'],\n",
    "                                   colsample_bytree=grid_search.best_params_['colsample_bytree'],\n",
    "                                   min_child_weight=grid_search.best_params_['min_child_weight'],\n",
    "                                   learning_rate=grid_search.best_params_['learning_rate'],\n",
    "                                   eta=grid_search.best_params_['eta'])\n",
    "xgbc_tuned.fit(X_train,y_train)\n",
    "\n",
    "## results F1 and stdF1 ##\n",
    "avgF1set2_TCinters_p2_5tunedXGBoost  = cross_val_score(xgbc_tuned, X, y, scoring=\"f1\", cv = 10).mean() ##<3## \n",
    "stdF1set2_TCinters_p2_5tunedXGBoost  = cross_val_score(xgbc_tuned, X, y, scoring=\"f1\", cv = 10).std() ##<3##\n",
    "print('Mean F1 Score: ', avgF1set2_TCinters_p2_5tunedXGBoost)\n",
    "print('std F1 Score: ', stdF1set2_TCinters_p2_5tunedXGBoost)"
   ]
  },
  {
   "cell_type": "code",
   "execution_count": 314,
   "id": "8ba6c000",
   "metadata": {},
   "outputs": [
    {
     "name": "stdout",
     "output_type": "stream",
     "text": [
      "Fitting 5 folds for each of 729 candidates, totalling 3645 fits\n",
      "\n",
      " Time taken: 0 hours 0 minutes and 7.07 seconds.\n",
      "{'colsample_bytree': 0.1, 'eta': 0.01, 'learning_rate': 0.1, 'max_depth': 10, 'min_child_weight': 20, 'subsample': 0.2}\n",
      "Mean F1 Score:  0.0\n",
      "std F1 Score:  0.0\n"
     ]
    }
   ],
   "source": [
    "## tuned parameter_set3##\n",
    "\n",
    "start_time = timer(None)\n",
    "# Instantiate the grid search model\n",
    "grid_search = GridSearchCV(estimator = xgbc, param_grid = paramXGBoost_grid3,\n",
    "                           cv = 5, n_jobs = -1, verbose = 2,scoring='f1')\n",
    "# Fit the grid search to the data\n",
    "grid_search.fit(X_train, y_train)\n",
    "\n",
    "timer(start_time)\n",
    "print(grid_search.best_params_)\n",
    "\n",
    "\n",
    "xgbc_tuned = XGBClassifier(subsample=grid_search.best_params_['subsample'],\n",
    "                                   max_depth=grid_search.best_params_['max_depth'],\n",
    "                                   colsample_bytree=grid_search.best_params_['colsample_bytree'],\n",
    "                                   min_child_weight=grid_search.best_params_['min_child_weight'],\n",
    "                                   learning_rate=grid_search.best_params_['learning_rate'],\n",
    "                                   eta=grid_search.best_params_['eta'])\n",
    "xgbc_tuned.fit(X_train,y_train)\n",
    "\n",
    "## results F1 and stdF1 ##\n",
    "avgF1set3_TCinters_p2_5tunedXGBoost  = cross_val_score(xgbc_tuned, X, y, scoring=\"f1\", cv = 10).mean() ##<3## \n",
    "stdF1set3_TCinters_p2_5tunedXGBoost  = cross_val_score(xgbc_tuned, X, y, scoring=\"f1\", cv = 10).std() ##<3##\n",
    "print('Mean F1 Score: ', avgF1set3_TCinters_p2_5tunedXGBoost)\n",
    "print('std F1 Score: ', stdF1set3_TCinters_p2_5tunedXGBoost)"
   ]
  },
  {
   "cell_type": "code",
   "execution_count": 315,
   "id": "24189854",
   "metadata": {},
   "outputs": [
    {
     "name": "stdout",
     "output_type": "stream",
     "text": [
      "Fitting 5 folds for each of 729 candidates, totalling 3645 fits\n",
      "\n",
      " Time taken: 0 hours 0 minutes and 7.05 seconds.\n",
      "{'colsample_bytree': 0.1, 'eta': 0.01, 'learning_rate': 0.1, 'max_depth': 5, 'min_child_weight': 5, 'subsample': 0.75}\n",
      "Mean F1 Score:  0.4333333333333333\n",
      "std F1 Score:  0.36666666666666664\n"
     ]
    }
   ],
   "source": [
    "## tuned parameter_set4##\n",
    "\n",
    "start_time = timer(None)\n",
    "# Instantiate the grid search model\n",
    "grid_search = GridSearchCV(estimator = xgbc, param_grid = paramXGBoost_grid4,\n",
    "                           cv = 5, n_jobs = -1, verbose = 2,scoring='f1')\n",
    "# Fit the grid search to the data\n",
    "grid_search.fit(X_train, y_train)\n",
    "\n",
    "timer(start_time)\n",
    "print(grid_search.best_params_)\n",
    "\n",
    "\n",
    "xgbc_tuned = XGBClassifier(subsample=grid_search.best_params_['subsample'],\n",
    "                                   max_depth=grid_search.best_params_['max_depth'],\n",
    "                                   colsample_bytree=grid_search.best_params_['colsample_bytree'],\n",
    "                                   min_child_weight=grid_search.best_params_['min_child_weight'],\n",
    "                                   learning_rate=grid_search.best_params_['learning_rate'],\n",
    "                                   eta=grid_search.best_params_['eta'])\n",
    "xgbc_tuned.fit(X_train,y_train)\n",
    "\n",
    "## results F1 and stdF1 ##\n",
    "avgF1set4_TCinters_p2_5tunedXGBoost  = cross_val_score(xgbc_tuned, X, y, scoring=\"f1\", cv = 10).mean() ##<3## \n",
    "stdF1set4_TCinters_p2_5tunedXGBoost  = cross_val_score(xgbc_tuned, X, y, scoring=\"f1\", cv = 10).std() ##<3##\n",
    "print('Mean F1 Score: ', avgF1set4_TCinters_p2_5tunedXGBoost)\n",
    "print('std F1 Score: ', stdF1set4_TCinters_p2_5tunedXGBoost)"
   ]
  },
  {
   "cell_type": "raw",
   "id": "a541f7f7",
   "metadata": {},
   "source": []
  },
  {
   "cell_type": "code",
   "execution_count": 316,
   "id": "b7856c7f",
   "metadata": {},
   "outputs": [],
   "source": [
    "# n_TCinters_p2_5XGBoost  =0\n",
    "# avgF1_TCinters_p2_5XGBoost =0\n",
    "# stdF1_TCinters_p2_5XGBoost =0\n",
    "# avgF1set1_TCinters_p2_5tunedXGBoost =0\n",
    "# stdF1set1_TCinters_p2_5tunedXGBoost =0\n",
    "# avgF1set2_TCinters_p2_5tunedXGBoost =0\n",
    "# stdF1set2_TCinters_p2_5tunedXGBoost =0\n",
    "# avgF1set3_TCinters_p2_5tunedXGBoost =0\n",
    "# stdF1set3_TCinters_p2_5tunedXGBoost =0\n",
    "# avgF1set4_TCinters_p2_5tunedXGBoost =0\n",
    "# stdF1set4_TCinters_p2_5tunedXGBoost =0"
   ]
  },
  {
   "cell_type": "code",
   "execution_count": null,
   "id": "90f39cd2",
   "metadata": {},
   "outputs": [],
   "source": []
  },
  {
   "cell_type": "code",
   "execution_count": null,
   "id": "eac03d81",
   "metadata": {},
   "outputs": [],
   "source": []
  },
  {
   "cell_type": "markdown",
   "id": "41adaa0f",
   "metadata": {},
   "source": [
    "### threshold: 5%"
   ]
  },
  {
   "cell_type": "code",
   "execution_count": 317,
   "id": "4c8c0cc0",
   "metadata": {},
   "outputs": [
    {
     "name": "stdout",
     "output_type": "stream",
     "text": [
      "Mean F1 Score:  0.6757142857142857\n",
      "std F1 Score:  0.30201477641014196\n"
     ]
    }
   ],
   "source": [
    "# threshold: 5%\n",
    "f_df123_1 = pd.read_csv('f_df123_xgb.csv')\n",
    "\n",
    "\n",
    "dfMI = f_df123_1[['Feature','rank_mi']]\n",
    "dfMI = dfMI.sort_values(by=['rank_mi'])\n",
    "dfMI = dfMI.set_index('Feature')\n",
    "dfMI_p5 = dfMI.iloc[:thres_p5] ## threshold here\n",
    "dfMI_p5 = set(dfMI_p5.index.tolist())\n",
    "\n",
    "dfSHAP = f_df123_1[['Feature','rank_SHAP']]\n",
    "dfSHAP = dfSHAP.sort_values(by=['rank_SHAP'])\n",
    "dfSHAP = dfSHAP.set_index('Feature')\n",
    "dfSHAP_p5 = dfSHAP.iloc[:thres_p5]  ## threshold here\n",
    "dfSHAP_p5 = set(dfSHAP_p5.index.tolist())\n",
    "\n",
    "dfEmbed = f_df123_1[['Feature','rank_embed']]\n",
    "dfEmbed = dfEmbed.sort_values(by=['rank_embed'])\n",
    "dfEmbed = dfEmbed.set_index('Feature')\n",
    "dfEmbed_p5 = dfEmbed.iloc[:thres_p5]  ## threshold here\n",
    "dfEmbed_p5 = set(dfEmbed_p5.index.tolist())\n",
    "\n",
    "fea123_inters = list(dfMI_p5.intersection(dfSHAP_p5,dfEmbed_p5))\n",
    "\n",
    "feature_TC = list(fea123_inters)\n",
    "\n",
    "df_filter = df1.filter(items=feature_TC)\n",
    "X = df_filter\n",
    "y = df1['class']\n",
    "\n",
    "\n",
    "\n",
    "\n",
    "## before tuned ##\n",
    "X_train, X_test, y_train, y_test = train_test_split(X, y, test_size=0.2, random_state=123) \n",
    "xgbc = XGBClassifier(random_state=123)\n",
    "xgbc.fit(X_train,y_train)\n",
    "## results F1 and stdF1 ##\n",
    "avgF1_TCinters_p5XGBoost = cross_val_score(xgbc, X, y, scoring=\"f1\", cv = 10).mean() ##<3## \n",
    "stdF1_TCinters_p5XGBoost = cross_val_score(xgbc, X, y, scoring=\"f1\", cv = 10).std() ##<3##\n",
    "print('Mean F1 Score: ', avgF1_TCinters_p5XGBoost)\n",
    "print('std F1 Score: ', stdF1_TCinters_p5XGBoost)"
   ]
  },
  {
   "cell_type": "code",
   "execution_count": 318,
   "id": "8db3b69a",
   "metadata": {},
   "outputs": [
    {
     "data": {
      "text/plain": [
       "26"
      ]
     },
     "execution_count": 318,
     "metadata": {},
     "output_type": "execute_result"
    }
   ],
   "source": [
    "n_TCinters_p5XGBoost = len(feature_TC)\n",
    "n_TCinters_p5XGBoost"
   ]
  },
  {
   "cell_type": "code",
   "execution_count": 319,
   "id": "321733f4",
   "metadata": {},
   "outputs": [
    {
     "name": "stdout",
     "output_type": "stream",
     "text": [
      "Fitting 5 folds for each of 729 candidates, totalling 3645 fits\n",
      "\n",
      " Time taken: 0 hours 0 minutes and 7.69 seconds.\n",
      "{'colsample_bytree': 0.5, 'eta': 0.01, 'learning_rate': 0.1, 'max_depth': 5, 'min_child_weight': 1, 'subsample': 0.5}\n",
      "Mean F1 Score:  0.82\n",
      "std F1 Score:  0.20231987873991358\n"
     ]
    }
   ],
   "source": [
    "## tuned parameter_set1##\n",
    "\n",
    "start_time = timer(None)\n",
    "# Instantiate the grid search model\n",
    "grid_search = GridSearchCV(estimator = xgbc, param_grid = paramXGBoost_grid1,\n",
    "                           cv = 5, n_jobs = -1, verbose = 2,scoring='f1')\n",
    "# Fit the grid search to the data\n",
    "grid_search.fit(X_train, y_train)\n",
    "\n",
    "timer(start_time)\n",
    "print(grid_search.best_params_)\n",
    "\n",
    "\n",
    "xgbc_tuned = XGBClassifier(subsample=grid_search.best_params_['subsample'],\n",
    "                                   max_depth=grid_search.best_params_['max_depth'],\n",
    "                                   colsample_bytree=grid_search.best_params_['colsample_bytree'],\n",
    "                                   min_child_weight=grid_search.best_params_['min_child_weight'],\n",
    "                                   learning_rate=grid_search.best_params_['learning_rate'],\n",
    "                                   eta=grid_search.best_params_['eta'])\n",
    "xgbc_tuned.fit(X_train,y_train)\n",
    "\n",
    "## results F1 and stdF1 ##\n",
    "avgF1set1_TCinters_p5tunedXGBoost  = cross_val_score(xgbc_tuned, X, y, scoring=\"f1\", cv = 10).mean() ##<3## \n",
    "stdF1set1_TCinters_p5tunedXGBoost  = cross_val_score(xgbc_tuned, X, y, scoring=\"f1\", cv = 10).std() ##<3##\n",
    "print('Mean F1 Score: ', avgF1set1_TCinters_p5tunedXGBoost)\n",
    "print('std F1 Score: ', stdF1set1_TCinters_p5tunedXGBoost)"
   ]
  },
  {
   "cell_type": "code",
   "execution_count": 320,
   "id": "e5a1b06c",
   "metadata": {},
   "outputs": [
    {
     "name": "stdout",
     "output_type": "stream",
     "text": [
      "Fitting 5 folds for each of 729 candidates, totalling 3645 fits\n",
      "\n",
      " Time taken: 0 hours 0 minutes and 8.67 seconds.\n",
      "{'colsample_bytree': 1, 'eta': 0.01, 'learning_rate': 0.05, 'max_depth': 7, 'min_child_weight': 0.5, 'subsample': 0.2}\n",
      "Mean F1 Score:  0.72\n",
      "std F1 Score:  0.3081125335544358\n"
     ]
    }
   ],
   "source": [
    "## tuned parameter_set2##\n",
    "\n",
    "start_time = timer(None)\n",
    "# Instantiate the grid search model\n",
    "grid_search = GridSearchCV(estimator = xgbc, param_grid = paramXGBoost_grid2,\n",
    "                           cv = 5, n_jobs = -1, verbose = 2,scoring='f1')\n",
    "# Fit the grid search to the data\n",
    "grid_search.fit(X_train, y_train)\n",
    "\n",
    "timer(start_time)\n",
    "print(grid_search.best_params_)\n",
    "\n",
    "\n",
    "xgbc_tuned = XGBClassifier(subsample=grid_search.best_params_['subsample'],\n",
    "                                   max_depth=grid_search.best_params_['max_depth'],\n",
    "                                   colsample_bytree=grid_search.best_params_['colsample_bytree'],\n",
    "                                   min_child_weight=grid_search.best_params_['min_child_weight'],\n",
    "                                   learning_rate=grid_search.best_params_['learning_rate'],\n",
    "                                   eta=grid_search.best_params_['eta'])\n",
    "xgbc_tuned.fit(X_train,y_train)\n",
    "\n",
    "## results F1 and stdF1 ##\n",
    "avgF1set2_TCinters_p5tunedXGBoost  = cross_val_score(xgbc_tuned, X, y, scoring=\"f1\", cv = 10).mean() ##<3## \n",
    "stdF1set2_TCinters_p5tunedXGBoost  = cross_val_score(xgbc_tuned, X, y, scoring=\"f1\", cv = 10).std() ##<3##\n",
    "print('Mean F1 Score: ', avgF1set2_TCinters_p5tunedXGBoost)\n",
    "print('std F1 Score: ', stdF1set2_TCinters_p5tunedXGBoost)"
   ]
  },
  {
   "cell_type": "code",
   "execution_count": 321,
   "id": "f86be28e",
   "metadata": {},
   "outputs": [
    {
     "name": "stdout",
     "output_type": "stream",
     "text": [
      "Fitting 5 folds for each of 729 candidates, totalling 3645 fits\n",
      "\n",
      " Time taken: 0 hours 0 minutes and 7.19 seconds.\n",
      "{'colsample_bytree': 0.1, 'eta': 0.01, 'learning_rate': 0.1, 'max_depth': 10, 'min_child_weight': 20, 'subsample': 0.2}\n",
      "Mean F1 Score:  0.0\n",
      "std F1 Score:  0.0\n"
     ]
    }
   ],
   "source": [
    "## tuned parameter_set3##\n",
    "\n",
    "start_time = timer(None)\n",
    "# Instantiate the grid search model\n",
    "grid_search = GridSearchCV(estimator = xgbc, param_grid = paramXGBoost_grid3,\n",
    "                           cv = 5, n_jobs = -1, verbose = 2,scoring='f1')\n",
    "# Fit the grid search to the data\n",
    "grid_search.fit(X_train, y_train)\n",
    "\n",
    "timer(start_time)\n",
    "print(grid_search.best_params_)\n",
    "\n",
    "\n",
    "xgbc_tuned = XGBClassifier(subsample=grid_search.best_params_['subsample'],\n",
    "                                   max_depth=grid_search.best_params_['max_depth'],\n",
    "                                   colsample_bytree=grid_search.best_params_['colsample_bytree'],\n",
    "                                   min_child_weight=grid_search.best_params_['min_child_weight'],\n",
    "                                   learning_rate=grid_search.best_params_['learning_rate'],\n",
    "                                   eta=grid_search.best_params_['eta'])\n",
    "xgbc_tuned.fit(X_train,y_train)\n",
    "\n",
    "## results F1 and stdF1 ##\n",
    "avgF1set3_TCinters_p5tunedXGBoost  = cross_val_score(xgbc_tuned, X, y, scoring=\"f1\", cv = 10).mean() ##<3## \n",
    "stdF1set3_TCinters_p5tunedXGBoost  = cross_val_score(xgbc_tuned, X, y, scoring=\"f1\", cv = 10).std() ##<3##\n",
    "print('Mean F1 Score: ', avgF1set3_TCinters_p5tunedXGBoost)\n",
    "print('std F1 Score: ', stdF1set3_TCinters_p5tunedXGBoost)"
   ]
  },
  {
   "cell_type": "code",
   "execution_count": 322,
   "id": "394e099a",
   "metadata": {},
   "outputs": [
    {
     "name": "stdout",
     "output_type": "stream",
     "text": [
      "Fitting 5 folds for each of 729 candidates, totalling 3645 fits\n",
      "\n",
      " Time taken: 0 hours 0 minutes and 7.15 seconds.\n",
      "{'colsample_bytree': 0.1, 'eta': 0.01, 'learning_rate': 0.1, 'max_depth': 5, 'min_child_weight': 5, 'subsample': 0.75}\n",
      "Mean F1 Score:  0.3333333333333333\n",
      "std F1 Score:  0.4216370213557839\n"
     ]
    }
   ],
   "source": [
    "## tuned parameter_set4##\n",
    "\n",
    "start_time = timer(None)\n",
    "# Instantiate the grid search model\n",
    "grid_search = GridSearchCV(estimator = xgbc, param_grid = paramXGBoost_grid4,\n",
    "                           cv = 5, n_jobs = -1, verbose = 2,scoring='f1')\n",
    "# Fit the grid search to the data\n",
    "grid_search.fit(X_train, y_train)\n",
    "\n",
    "timer(start_time)\n",
    "print(grid_search.best_params_)\n",
    "\n",
    "\n",
    "xgbc_tuned = XGBClassifier(subsample=grid_search.best_params_['subsample'],\n",
    "                                   max_depth=grid_search.best_params_['max_depth'],\n",
    "                                   colsample_bytree=grid_search.best_params_['colsample_bytree'],\n",
    "                                   min_child_weight=grid_search.best_params_['min_child_weight'],\n",
    "                                   learning_rate=grid_search.best_params_['learning_rate'],\n",
    "                                   eta=grid_search.best_params_['eta'])\n",
    "xgbc_tuned.fit(X_train,y_train)\n",
    "\n",
    "## results F1 and stdF1 ##\n",
    "avgF1set4_TCinters_p5tunedXGBoost  = cross_val_score(xgbc_tuned, X, y, scoring=\"f1\", cv = 10).mean() ##<3## \n",
    "stdF1set4_TCinters_p5tunedXGBoost  = cross_val_score(xgbc_tuned, X, y, scoring=\"f1\", cv = 10).std() ##<3##\n",
    "print('Mean F1 Score: ', avgF1set4_TCinters_p5tunedXGBoost)\n",
    "print('std F1 Score: ', stdF1set4_TCinters_p5tunedXGBoost)"
   ]
  },
  {
   "cell_type": "code",
   "execution_count": null,
   "id": "663a858c",
   "metadata": {},
   "outputs": [],
   "source": []
  },
  {
   "cell_type": "code",
   "execution_count": 323,
   "id": "f47a19ed",
   "metadata": {},
   "outputs": [],
   "source": [
    "# n_TCinters_p5XGBoost  =0\n",
    "# avgF1_TCinters_p5XGBoost =0\n",
    "# stdF1_TCinters_p5XGBoost =0\n",
    "# avgF1set1_TCinters_p5tunedXGBoost =0\n",
    "# stdF1set1_TCinters_p5tunedXGBoost =0\n",
    "# avgF1set2_TCinters_p5tunedXGBoost =0\n",
    "# stdF1set2_TCinters_p5tunedXGBoost =0\n",
    "# avgF1set3_TCinters_p5tunedXGBoost =0\n",
    "# stdF1set3_TCinters_p5tunedXGBoost =0\n",
    "# avgF1set4_TCinters_p5tunedXGBoost =0\n",
    "# stdF1set4_TCinters_p5tunedXGBoost =0"
   ]
  },
  {
   "cell_type": "code",
   "execution_count": null,
   "id": "50c1b4c7",
   "metadata": {},
   "outputs": [],
   "source": []
  },
  {
   "cell_type": "markdown",
   "id": "34887aee",
   "metadata": {},
   "source": [
    "### threshold: 10%"
   ]
  },
  {
   "cell_type": "code",
   "execution_count": 324,
   "id": "b049dd97",
   "metadata": {},
   "outputs": [
    {
     "name": "stdout",
     "output_type": "stream",
     "text": [
      "Mean F1 Score:  0.6733333333333333\n",
      "std F1 Score:  0.2912806969993797\n"
     ]
    }
   ],
   "source": [
    "# threshold: 10%\n",
    "f_df123_1 = pd.read_csv('f_df123_xgb.csv')\n",
    "\n",
    "\n",
    "dfMI = f_df123_1[['Feature','rank_mi']]\n",
    "dfMI = dfMI.sort_values(by=['rank_mi'])\n",
    "dfMI = dfMI.set_index('Feature')\n",
    "dfMI_p10 = dfMI.iloc[:thres_p10] ## threshold here\n",
    "dfMI_p10 = set(dfMI_p10.index.tolist())\n",
    "\n",
    "dfSHAP = f_df123_1[['Feature','rank_SHAP']]\n",
    "dfSHAP = dfSHAP.sort_values(by=['rank_SHAP'])\n",
    "dfSHAP = dfSHAP.set_index('Feature')\n",
    "dfSHAP_p10 = dfSHAP.iloc[:thres_p10]  ## threshold here\n",
    "dfSHAP_p10 = set(dfSHAP_p10.index.tolist())\n",
    "\n",
    "dfEmbed = f_df123_1[['Feature','rank_embed']]\n",
    "dfEmbed = dfEmbed.sort_values(by=['rank_embed'])\n",
    "dfEmbed = dfEmbed.set_index('Feature')\n",
    "dfEmbed_p10 = dfEmbed.iloc[:thres_p10]  ## threshold here\n",
    "dfEmbed_p10 = set(dfEmbed_p10.index.tolist())\n",
    "\n",
    "fea123_inters = list(dfMI_p10.intersection(dfSHAP_p10,dfEmbed_p10))\n",
    "\n",
    "feature_TC = list(fea123_inters)\n",
    "\n",
    "df_filter = df1.filter(items=feature_TC)\n",
    "\n",
    "X = df_filter\n",
    "y = df1['class']\n",
    "\n",
    "\n",
    "\n",
    "\n",
    "## before tuned ##\n",
    "X_train, X_test, y_train, y_test = train_test_split(X, y, test_size=0.2, random_state=123) \n",
    "xgbc = XGBClassifier(random_state=123)\n",
    "xgbc.fit(X_train,y_train)\n",
    "## results F1 and stdF1 ##\n",
    "avgF1_TCinters_p10XGBoost = cross_val_score(xgbc, X, y, scoring=\"f1\", cv = 10).mean() ##<3## \n",
    "stdF1_TCinters_p10XGBoost = cross_val_score(xgbc, X, y, scoring=\"f1\", cv = 10).std() ##<3##\n",
    "print('Mean F1 Score: ', avgF1_TCinters_p10XGBoost)\n",
    "print('std F1 Score: ', stdF1_TCinters_p10XGBoost)"
   ]
  },
  {
   "cell_type": "code",
   "execution_count": 325,
   "id": "c3c7ebb2",
   "metadata": {},
   "outputs": [
    {
     "data": {
      "text/plain": [
       "47"
      ]
     },
     "execution_count": 325,
     "metadata": {},
     "output_type": "execute_result"
    }
   ],
   "source": [
    "n_TCinters_p10XGBoost = len(feature_TC)\n",
    "n_TCinters_p10XGBoost"
   ]
  },
  {
   "cell_type": "code",
   "execution_count": 326,
   "id": "aad63e63",
   "metadata": {},
   "outputs": [
    {
     "name": "stdout",
     "output_type": "stream",
     "text": [
      "Fitting 5 folds for each of 729 candidates, totalling 3645 fits\n",
      "\n",
      " Time taken: 0 hours 0 minutes and 8.33 seconds.\n",
      "{'colsample_bytree': 0.5, 'eta': 0.01, 'learning_rate': 0.1, 'max_depth': 5, 'min_child_weight': 1, 'subsample': 0.5}\n",
      "Mean F1 Score:  0.75\n",
      "std F1 Score:  0.19958289839896937\n"
     ]
    }
   ],
   "source": [
    "## tuned parameter_set1##\n",
    "\n",
    "start_time = timer(None)\n",
    "# Instantiate the grid search model\n",
    "grid_search = GridSearchCV(estimator = xgbc, param_grid = paramXGBoost_grid1,\n",
    "                           cv = 5, n_jobs = -1, verbose = 2,scoring='f1')\n",
    "# Fit the grid search to the data\n",
    "grid_search.fit(X_train, y_train)\n",
    "\n",
    "timer(start_time)\n",
    "print(grid_search.best_params_)\n",
    "\n",
    "\n",
    "xgbc_tuned = XGBClassifier(subsample=grid_search.best_params_['subsample'],\n",
    "                                   max_depth=grid_search.best_params_['max_depth'],\n",
    "                                   colsample_bytree=grid_search.best_params_['colsample_bytree'],\n",
    "                                   min_child_weight=grid_search.best_params_['min_child_weight'],\n",
    "                                   learning_rate=grid_search.best_params_['learning_rate'],\n",
    "                                   eta=grid_search.best_params_['eta'])\n",
    "xgbc_tuned.fit(X_train,y_train)\n",
    "\n",
    "## results F1 and stdF1 ##\n",
    "avgF1set1_TCinters_p10tunedXGBoost  = cross_val_score(xgbc_tuned, X, y, scoring=\"f1\", cv = 10).mean() ##<3## \n",
    "stdF1set1_TCinters_p10tunedXGBoost  = cross_val_score(xgbc_tuned, X, y, scoring=\"f1\", cv = 10).std() ##<3##\n",
    "print('Mean F1 Score: ', avgF1set1_TCinters_p10tunedXGBoost)\n",
    "print('std F1 Score: ', stdF1set1_TCinters_p10tunedXGBoost)"
   ]
  },
  {
   "cell_type": "code",
   "execution_count": 327,
   "id": "33fb81b9",
   "metadata": {},
   "outputs": [
    {
     "name": "stdout",
     "output_type": "stream",
     "text": [
      "Fitting 5 folds for each of 729 candidates, totalling 3645 fits\n",
      "\n",
      " Time taken: 0 hours 0 minutes and 9.78 seconds.\n",
      "{'colsample_bytree': 0.5, 'eta': 0.01, 'learning_rate': 0.1, 'max_depth': 7, 'min_child_weight': 0.5, 'subsample': 0.2}\n",
      "Mean F1 Score:  0.7557142857142857\n",
      "std F1 Score:  0.20173903800648577\n"
     ]
    }
   ],
   "source": [
    "## tuned parameter_set2##\n",
    "\n",
    "start_time = timer(None)\n",
    "# Instantiate the grid search model\n",
    "grid_search = GridSearchCV(estimator = xgbc, param_grid = paramXGBoost_grid2,\n",
    "                           cv = 5, n_jobs = -1, verbose = 2,scoring='f1')\n",
    "# Fit the grid search to the data\n",
    "grid_search.fit(X_train, y_train)\n",
    "\n",
    "timer(start_time)\n",
    "print(grid_search.best_params_)\n",
    "\n",
    "\n",
    "xgbc_tuned = XGBClassifier(subsample=grid_search.best_params_['subsample'],\n",
    "                                   max_depth=grid_search.best_params_['max_depth'],\n",
    "                                   colsample_bytree=grid_search.best_params_['colsample_bytree'],\n",
    "                                   min_child_weight=grid_search.best_params_['min_child_weight'],\n",
    "                                   learning_rate=grid_search.best_params_['learning_rate'],\n",
    "                                   eta=grid_search.best_params_['eta'])\n",
    "xgbc_tuned.fit(X_train,y_train)\n",
    "\n",
    "## results F1 and stdF1 ##\n",
    "avgF1set2_TCinters_p10tunedXGBoost = cross_val_score(xgbc_tuned, X, y, scoring=\"f1\", cv = 10).mean() ##<3## \n",
    "stdF1set2_TCinters_p10tunedXGBoost  = cross_val_score(xgbc_tuned, X, y, scoring=\"f1\", cv = 10).std() ##<3##\n",
    "print('Mean F1 Score: ', avgF1set2_TCinters_p10tunedXGBoost)\n",
    "print('std F1 Score: ', stdF1set2_TCinters_p10tunedXGBoost)"
   ]
  },
  {
   "cell_type": "code",
   "execution_count": 328,
   "id": "84f39f6f",
   "metadata": {},
   "outputs": [
    {
     "name": "stdout",
     "output_type": "stream",
     "text": [
      "Fitting 5 folds for each of 729 candidates, totalling 3645 fits\n",
      "\n",
      " Time taken: 0 hours 0 minutes and 7.45 seconds.\n",
      "{'colsample_bytree': 0.1, 'eta': 0.01, 'learning_rate': 0.1, 'max_depth': 10, 'min_child_weight': 20, 'subsample': 0.2}\n",
      "Mean F1 Score:  0.0\n",
      "std F1 Score:  0.0\n"
     ]
    }
   ],
   "source": [
    "## tuned parameter_set3##\n",
    "\n",
    "start_time = timer(None)\n",
    "# Instantiate the grid search model\n",
    "grid_search = GridSearchCV(estimator = xgbc, param_grid = paramXGBoost_grid3,\n",
    "                           cv = 5, n_jobs = -1, verbose = 2,scoring='f1')\n",
    "# Fit the grid search to the data\n",
    "grid_search.fit(X_train, y_train)\n",
    "\n",
    "timer(start_time)\n",
    "print(grid_search.best_params_)\n",
    "\n",
    "\n",
    "xgbc_tuned = XGBClassifier(subsample=grid_search.best_params_['subsample'],\n",
    "                                   max_depth=grid_search.best_params_['max_depth'],\n",
    "                                   colsample_bytree=grid_search.best_params_['colsample_bytree'],\n",
    "                                   min_child_weight=grid_search.best_params_['min_child_weight'],\n",
    "                                   learning_rate=grid_search.best_params_['learning_rate'],\n",
    "                                   eta=grid_search.best_params_['eta'])\n",
    "xgbc_tuned.fit(X_train,y_train)\n",
    "\n",
    "## results F1 and stdF1 ##\n",
    "avgF1set3_TCinters_p10tunedXGBoost  = cross_val_score(xgbc_tuned, X, y, scoring=\"f1\", cv = 10).mean() ##<3## \n",
    "stdF1set3_TCinters_p10tunedXGBoost  = cross_val_score(xgbc_tuned, X, y, scoring=\"f1\", cv = 10).std() ##<3##\n",
    "print('Mean F1 Score: ', avgF1set3_TCinters_p10tunedXGBoost)\n",
    "print('std F1 Score: ', stdF1set3_TCinters_p10tunedXGBoost)"
   ]
  },
  {
   "cell_type": "code",
   "execution_count": 329,
   "id": "9d039805",
   "metadata": {},
   "outputs": [
    {
     "name": "stdout",
     "output_type": "stream",
     "text": [
      "Fitting 5 folds for each of 729 candidates, totalling 3645 fits\n",
      "\n",
      " Time taken: 0 hours 0 minutes and 7.41 seconds.\n",
      "{'colsample_bytree': 0.1, 'eta': 0.01, 'learning_rate': 0.1, 'max_depth': 5, 'min_child_weight': 5, 'subsample': 0.75}\n",
      "Mean F1 Score:  0.25\n",
      "std F1 Score:  0.3095695936834451\n"
     ]
    }
   ],
   "source": [
    "## tuned parameter_set4##\n",
    "\n",
    "start_time = timer(None)\n",
    "# Instantiate the grid search model\n",
    "grid_search = GridSearchCV(estimator = xgbc, param_grid = paramXGBoost_grid4,\n",
    "                           cv = 5, n_jobs = -1, verbose = 2,scoring='f1')\n",
    "# Fit the grid search to the data\n",
    "grid_search.fit(X_train, y_train)\n",
    "\n",
    "timer(start_time)\n",
    "print(grid_search.best_params_)\n",
    "\n",
    "\n",
    "xgbc_tuned = XGBClassifier(subsample=grid_search.best_params_['subsample'],\n",
    "                                   max_depth=grid_search.best_params_['max_depth'],\n",
    "                                   colsample_bytree=grid_search.best_params_['colsample_bytree'],\n",
    "                                   min_child_weight=grid_search.best_params_['min_child_weight'],\n",
    "                                   learning_rate=grid_search.best_params_['learning_rate'],\n",
    "                                   eta=grid_search.best_params_['eta'])\n",
    "xgbc_tuned.fit(X_train,y_train)\n",
    "\n",
    "## results F1 and stdF1 ##\n",
    "avgF1set4_TCinters_p10tunedXGBoost  = cross_val_score(xgbc_tuned, X, y, scoring=\"f1\", cv = 10).mean() ##<3## \n",
    "stdF1set4_TCinters_p10tunedXGBoost = cross_val_score(xgbc_tuned, X, y, scoring=\"f1\", cv = 10).std() ##<3##\n",
    "print('Mean F1 Score: ', avgF1set4_TCinters_p10tunedXGBoost)\n",
    "print('std F1 Score: ', stdF1set4_TCinters_p10tunedXGBoost)"
   ]
  },
  {
   "cell_type": "code",
   "execution_count": null,
   "id": "be90a228",
   "metadata": {},
   "outputs": [],
   "source": [
    "\n"
   ]
  },
  {
   "cell_type": "markdown",
   "id": "88380dce",
   "metadata": {},
   "source": [
    "### threshold: 20%"
   ]
  },
  {
   "cell_type": "code",
   "execution_count": 330,
   "id": "8da86383",
   "metadata": {},
   "outputs": [
    {
     "name": "stdout",
     "output_type": "stream",
     "text": [
      "Mean F1 Score:  0.6923809523809524\n",
      "std F1 Score:  0.1945656246949218\n"
     ]
    }
   ],
   "source": [
    "# threshold: 20%\n",
    "f_df123_1 = pd.read_csv('f_df123_xgb.csv')\n",
    "\n",
    "\n",
    "dfMI = f_df123_1[['Feature','rank_mi']]\n",
    "dfMI = dfMI.sort_values(by=['rank_mi'])\n",
    "dfMI = dfMI.set_index('Feature')\n",
    "dfMI_p20 = dfMI.iloc[:thres_p20] ## threshold here\n",
    "dfMI_p20 = set(dfMI_p20.index.tolist())\n",
    "\n",
    "dfSHAP = f_df123_1[['Feature','rank_SHAP']]\n",
    "dfSHAP = dfSHAP.sort_values(by=['rank_SHAP'])\n",
    "dfSHAP = dfSHAP.set_index('Feature')\n",
    "dfSHAP_p20 = dfSHAP.iloc[:thres_p20]  ## threshold here\n",
    "dfSHAP_p20 = set(dfSHAP_p20.index.tolist())\n",
    "\n",
    "dfEmbed = f_df123_1[['Feature','rank_embed']]\n",
    "dfEmbed = dfEmbed.sort_values(by=['rank_embed'])\n",
    "dfEmbed = dfEmbed.set_index('Feature')\n",
    "dfEmbed_p20 = dfEmbed.iloc[:thres_p20]  ## threshold here\n",
    "dfEmbed_p20 = set(dfEmbed_p20.index.tolist())\n",
    "\n",
    "fea123_inters = list(dfMI_p20.intersection(dfSHAP_p20,dfEmbed_p20))\n",
    "\n",
    "feature_TC = list(fea123_inters)\n",
    "\n",
    "df_filter = df1.filter(items=feature_TC)\n",
    "X = df_filter\n",
    "y = df1['class']\n",
    "\n",
    "\n",
    "\n",
    "\n",
    "## before tuned ##\n",
    "X_train, X_test, y_train, y_test = train_test_split(X, y, test_size=0.2, random_state=123) \n",
    "xgbc = XGBClassifier(random_state=123)\n",
    "xgbc.fit(X_train,y_train)\n",
    "## results F1 and stdF1 ##\n",
    "avgF1_TCinters_p20XGBoost = cross_val_score(xgbc, X, y, scoring=\"f1\", cv = 10).mean() ##<3## \n",
    "stdF1_TCinters_p20XGBoost = cross_val_score(xgbc, X, y, scoring=\"f1\", cv = 10).std() ##<3##\n",
    "print('Mean F1 Score: ', avgF1_TCinters_p20XGBoost)\n",
    "print('std F1 Score: ', stdF1_TCinters_p20XGBoost)"
   ]
  },
  {
   "cell_type": "code",
   "execution_count": 331,
   "id": "1a54d8d2",
   "metadata": {},
   "outputs": [
    {
     "data": {
      "text/plain": [
       "98"
      ]
     },
     "execution_count": 331,
     "metadata": {},
     "output_type": "execute_result"
    }
   ],
   "source": [
    "n_TCinters_p20XGBoost = len(feature_TC)\n",
    "n_TCinters_p20XGBoost"
   ]
  },
  {
   "cell_type": "code",
   "execution_count": 332,
   "id": "795f82cc",
   "metadata": {},
   "outputs": [
    {
     "name": "stdout",
     "output_type": "stream",
     "text": [
      "Fitting 5 folds for each of 729 candidates, totalling 3645 fits\n",
      "\n",
      " Time taken: 0 hours 0 minutes and 9.67 seconds.\n",
      "{'colsample_bytree': 0.5, 'eta': 0.01, 'learning_rate': 0.1, 'max_depth': 5, 'min_child_weight': 1, 'subsample': 0.75}\n",
      "Mean F1 Score:  0.809047619047619\n",
      "std F1 Score:  0.2209077335843397\n"
     ]
    }
   ],
   "source": [
    "## tuned parameter_set1##\n",
    "\n",
    "start_time = timer(None)\n",
    "# Instantiate the grid search model\n",
    "grid_search = GridSearchCV(estimator = xgbc, param_grid = paramXGBoost_grid1,\n",
    "                           cv = 5, n_jobs = -1, verbose = 2,scoring='f1')\n",
    "# Fit the grid search to the data\n",
    "grid_search.fit(X_train, y_train)\n",
    "\n",
    "timer(start_time)\n",
    "print(grid_search.best_params_)\n",
    "\n",
    "\n",
    "xgbc_tuned = XGBClassifier(subsample=grid_search.best_params_['subsample'],\n",
    "                                   max_depth=grid_search.best_params_['max_depth'],\n",
    "                                   colsample_bytree=grid_search.best_params_['colsample_bytree'],\n",
    "                                   min_child_weight=grid_search.best_params_['min_child_weight'],\n",
    "                                   learning_rate=grid_search.best_params_['learning_rate'],\n",
    "                                   eta=grid_search.best_params_['eta'])\n",
    "xgbc_tuned.fit(X_train,y_train)\n",
    "\n",
    "## results F1 and stdF1 ##\n",
    "avgF1set1_TCinters_p20tunedXGBoost  = cross_val_score(xgbc_tuned, X, y, scoring=\"f1\", cv = 10).mean() ##<3## \n",
    "stdF1set1_TCinters_p20tunedXGBoost  = cross_val_score(xgbc_tuned, X, y, scoring=\"f1\", cv = 10).std() ##<3##\n",
    "print('Mean F1 Score: ', avgF1set1_TCinters_p20tunedXGBoost)\n",
    "print('std F1 Score: ', stdF1set1_TCinters_p20tunedXGBoost)"
   ]
  },
  {
   "cell_type": "code",
   "execution_count": 333,
   "id": "bac933c7",
   "metadata": {},
   "outputs": [
    {
     "name": "stdout",
     "output_type": "stream",
     "text": [
      "Fitting 5 folds for each of 729 candidates, totalling 3645 fits\n",
      "\n",
      " Time taken: 0 hours 0 minutes and 12.52 seconds.\n",
      "{'colsample_bytree': 1, 'eta': 0.01, 'learning_rate': 0.1, 'max_depth': 7, 'min_child_weight': 0.1, 'subsample': 0.2}\n",
      "Mean F1 Score:  0.639047619047619\n",
      "std F1 Score:  0.36602789133283287\n"
     ]
    }
   ],
   "source": [
    "## tuned parameter_set2##\n",
    "\n",
    "start_time = timer(None)\n",
    "# Instantiate the grid search model\n",
    "grid_search = GridSearchCV(estimator = xgbc, param_grid = paramXGBoost_grid2,\n",
    "                           cv = 5, n_jobs = -1, verbose = 2,scoring='f1')\n",
    "# Fit the grid search to the data\n",
    "grid_search.fit(X_train, y_train)\n",
    "\n",
    "timer(start_time)\n",
    "print(grid_search.best_params_)\n",
    "\n",
    "\n",
    "xgbc_tuned = XGBClassifier(subsample=grid_search.best_params_['subsample'],\n",
    "                                   max_depth=grid_search.best_params_['max_depth'],\n",
    "                                   colsample_bytree=grid_search.best_params_['colsample_bytree'],\n",
    "                                   min_child_weight=grid_search.best_params_['min_child_weight'],\n",
    "                                   learning_rate=grid_search.best_params_['learning_rate'],\n",
    "                                   eta=grid_search.best_params_['eta'])\n",
    "xgbc_tuned.fit(X_train,y_train)\n",
    "\n",
    "## results F1 and stdF1 ##\n",
    "avgF1set2_TCinters_p20tunedXGBoost = cross_val_score(xgbc_tuned, X, y, scoring=\"f1\", cv = 10).mean() ##<3## \n",
    "stdF1set2_TCinters_p20tunedXGBoost  = cross_val_score(xgbc_tuned, X, y, scoring=\"f1\", cv = 10).std() ##<3##\n",
    "print('Mean F1 Score: ', avgF1set2_TCinters_p20tunedXGBoost)\n",
    "print('std F1 Score: ', stdF1set2_TCinters_p20tunedXGBoost)"
   ]
  },
  {
   "cell_type": "code",
   "execution_count": 334,
   "id": "827166a8",
   "metadata": {},
   "outputs": [
    {
     "name": "stdout",
     "output_type": "stream",
     "text": [
      "Fitting 5 folds for each of 729 candidates, totalling 3645 fits\n",
      "\n",
      " Time taken: 0 hours 0 minutes and 8.07 seconds.\n",
      "{'colsample_bytree': 0.1, 'eta': 0.01, 'learning_rate': 0.1, 'max_depth': 10, 'min_child_weight': 20, 'subsample': 0.2}\n",
      "Mean F1 Score:  0.0\n",
      "std F1 Score:  0.0\n"
     ]
    }
   ],
   "source": [
    "## tuned parameter_set3##\n",
    "\n",
    "start_time = timer(None)\n",
    "# Instantiate the grid search model\n",
    "grid_search = GridSearchCV(estimator = xgbc, param_grid = paramXGBoost_grid3,\n",
    "                           cv = 5, n_jobs = -1, verbose = 2,scoring='f1')\n",
    "# Fit the grid search to the data\n",
    "grid_search.fit(X_train, y_train)\n",
    "\n",
    "timer(start_time)\n",
    "print(grid_search.best_params_)\n",
    "\n",
    "\n",
    "xgbc_tuned = XGBClassifier(subsample=grid_search.best_params_['subsample'],\n",
    "                                   max_depth=grid_search.best_params_['max_depth'],\n",
    "                                   colsample_bytree=grid_search.best_params_['colsample_bytree'],\n",
    "                                   min_child_weight=grid_search.best_params_['min_child_weight'],\n",
    "                                   learning_rate=grid_search.best_params_['learning_rate'],\n",
    "                                   eta=grid_search.best_params_['eta'])\n",
    "xgbc_tuned.fit(X_train,y_train)\n",
    "\n",
    "## results F1 and stdF1 ##\n",
    "avgF1set3_TCinters_p20tunedXGBoost  = cross_val_score(xgbc_tuned, X, y, scoring=\"f1\", cv = 10).mean() ##<3## \n",
    "stdF1set3_TCinters_p20tunedXGBoost  = cross_val_score(xgbc_tuned, X, y, scoring=\"f1\", cv = 10).std() ##<3##\n",
    "print('Mean F1 Score: ', avgF1set3_TCinters_p20tunedXGBoost)\n",
    "print('std F1 Score: ', stdF1set3_TCinters_p20tunedXGBoost)"
   ]
  },
  {
   "cell_type": "code",
   "execution_count": 335,
   "id": "23f69819",
   "metadata": {
    "scrolled": true
   },
   "outputs": [
    {
     "name": "stdout",
     "output_type": "stream",
     "text": [
      "Fitting 5 folds for each of 729 candidates, totalling 3645 fits\n",
      "\n",
      " Time taken: 0 hours 0 minutes and 8.06 seconds.\n",
      "{'colsample_bytree': 0.1, 'eta': 0.01, 'learning_rate': 0.1, 'max_depth': 5, 'min_child_weight': 5, 'subsample': 0.75}\n",
      "Mean F1 Score:  0.5\n",
      "std F1 Score:  0.2886751345948129\n"
     ]
    }
   ],
   "source": [
    "## tuned parameter_set4##\n",
    "\n",
    "start_time = timer(None)\n",
    "# Instantiate the grid search model\n",
    "grid_search = GridSearchCV(estimator = xgbc, param_grid = paramXGBoost_grid4,\n",
    "                           cv = 5, n_jobs = -1, verbose = 2,scoring='f1')\n",
    "# Fit the grid search to the data\n",
    "grid_search.fit(X_train, y_train)\n",
    "\n",
    "timer(start_time)\n",
    "print(grid_search.best_params_)\n",
    "\n",
    "\n",
    "xgbc_tuned = XGBClassifier(subsample=grid_search.best_params_['subsample'],\n",
    "                                   max_depth=grid_search.best_params_['max_depth'],\n",
    "                                   colsample_bytree=grid_search.best_params_['colsample_bytree'],\n",
    "                                   min_child_weight=grid_search.best_params_['min_child_weight'],\n",
    "                                   learning_rate=grid_search.best_params_['learning_rate'],\n",
    "                                   eta=grid_search.best_params_['eta'])\n",
    "xgbc_tuned.fit(X_train,y_train)\n",
    "\n",
    "## results F1 and stdF1 ##\n",
    "avgF1set4_TCinters_p20tunedXGBoost  = cross_val_score(xgbc_tuned, X, y, scoring=\"f1\", cv = 10).mean() ##<3## \n",
    "stdF1set4_TCinters_p20tunedXGBoost = cross_val_score(xgbc_tuned, X, y, scoring=\"f1\", cv = 10).std() ##<3##\n",
    "print('Mean F1 Score: ', avgF1set4_TCinters_p20tunedXGBoost)\n",
    "print('std F1 Score: ', stdF1set4_TCinters_p20tunedXGBoost)"
   ]
  },
  {
   "cell_type": "code",
   "execution_count": null,
   "id": "70e05ced",
   "metadata": {},
   "outputs": [],
   "source": []
  },
  {
   "cell_type": "code",
   "execution_count": 336,
   "id": "a0b5c950",
   "metadata": {},
   "outputs": [],
   "source": [
    "output_TCdesignXGBoost = {'n_TCunion_base2XGBoost':n_TCunion_base2XGBoost ,\n",
    "                     'avgF1_TCunion_base2XGBoost':avgF1_TCunion_base2XGBoost ,\n",
    "                     'stdF1_TCunion_base2XGBoost':stdF1_TCunion_base2XGBoost ,\n",
    "                     'avgF1set1_TCunion_base2tunedXGBoost':avgF1set1_TCunion_base2tunedXGBoost ,\n",
    "                     'stdF1set1_TCunion_base2tunedXGBoost':stdF1set1_TCunion_base2tunedXGBoost ,\n",
    "                     'avgF1set2_TCunion_base2tunedXGBoost':avgF1set2_TCunion_base2tunedXGBoost ,\n",
    "                     'stdF1set2_TCunion_base2tunedXGBoost':stdF1set2_TCunion_base2tunedXGBoost ,\n",
    "                     'avgF1set3_TCunion_base2tunedXGBoost':avgF1set3_TCunion_base2tunedXGBoost ,\n",
    "                     'stdF1set3_TCunion_base2tunedXGBoost':stdF1set3_TCunion_base2tunedXGBoost ,\n",
    "                     'avgF1set4_TCunion_base2tunedXGBoost':avgF1set4_TCunion_base2tunedXGBoost ,\n",
    "                     'stdF1set4_TCunion_base2tunedXGBoost':stdF1set4_TCunion_base2tunedXGBoost ,\n",
    "                     'n_TCunion_p2_5XGBoost':n_TCunion_p2_5XGBoost ,\n",
    "                     'avgF1_TCunion_p2_5XGBoost':avgF1_TCunion_p2_5XGBoost ,\n",
    "                     'stdF1_TCunion_p2_5XGBoost':stdF1_TCunion_p2_5XGBoost ,\n",
    "                     'avgF1set1_TCunion_p2_5tunedXGBoost':avgF1set1_TCunion_p2_5tunedXGBoost ,\n",
    "                     'stdF1set1_TCunion_p2_5tunedXGBoost':stdF1set1_TCunion_p2_5tunedXGBoost ,\n",
    "                     'avgF1set2_TCunion_p2_5tunedXGBoost':avgF1set2_TCunion_p2_5tunedXGBoost ,\n",
    "                     'stdF1set2_TCunion_p2_5tunedXGBoost':stdF1set2_TCunion_p2_5tunedXGBoost ,\n",
    "                     'avgF1set3_TCunion_p2_5tunedXGBoost':avgF1set3_TCunion_p2_5tunedXGBoost ,\n",
    "                     'stdF1set3_TCunion_p2_5tunedXGBoost':stdF1set3_TCunion_p2_5tunedXGBoost ,\n",
    "                     'avgF1set4_TCunion_p2_5tunedXGBoost':avgF1set4_TCunion_p2_5tunedXGBoost ,\n",
    "                     'stdF1set4_TCunion_p2_5tunedXGBoost':stdF1set4_TCunion_p2_5tunedXGBoost ,\n",
    "                     'n_TCunion_p5XGBoost':n_TCunion_p5XGBoost ,\n",
    "                     'avgF1_TCunion_p5XGBoost':avgF1_TCunion_p5XGBoost ,\n",
    "                     'stdF1_TCunion_p5XGBoost':stdF1_TCunion_p5XGBoost ,\n",
    "                     'avgF1set1_TCunion_p5tunedXGBoost':avgF1set1_TCunion_p5tunedXGBoost ,\n",
    "                     'stdF1set1_TCunion_p5tunedXGBoost':stdF1set1_TCunion_p5tunedXGBoost ,\n",
    "                     'avgF1set2_TCunion_p5tunedXGBoost':avgF1set2_TCunion_p5tunedXGBoost ,\n",
    "                     'stdF1set2_TCunion_p5tunedXGBoost':stdF1set2_TCunion_p5tunedXGBoost ,\n",
    "                     'avgF1set3_TCunion_p5tunedXGBoost':avgF1set3_TCunion_p5tunedXGBoost ,\n",
    "                     'stdF1set3_TCunion_p5tunedXGBoost':stdF1set3_TCunion_p5tunedXGBoost ,\n",
    "                     'avgF1set4_TCunion_p5tunedXGBoost':avgF1set4_TCunion_p5tunedXGBoost ,\n",
    "                     'stdF1set4_TCunion_p5tunedXGBoost':stdF1set4_TCunion_p5tunedXGBoost ,\n",
    "                     'n_TCunion_p10XGBoost':n_TCunion_p10XGBoost ,\n",
    "                     'avgF1_TCunion_p10XGBoost':avgF1_TCunion_p10XGBoost ,\n",
    "                     'stdF1_TCunion_p10XGBoost':stdF1_TCunion_p10XGBoost ,\n",
    "                     'avgF1set1_TCunion_p10tunedXGBoost':avgF1set1_TCunion_p10tunedXGBoost ,\n",
    "                     'stdF1set1_TCunion_p10tunedXGBoost':stdF1set1_TCunion_p10tunedXGBoost ,\n",
    "                     'avgF1set2_TCunion_p10tunedXGBoost':avgF1set2_TCunion_p10tunedXGBoost ,\n",
    "                     'stdF1set2_TCunion_p10tunedXGBoost':stdF1set2_TCunion_p10tunedXGBoost ,\n",
    "                     'avgF1set3_TCunion_p10tunedXGBoost':avgF1set3_TCunion_p10tunedXGBoost ,\n",
    "                     'stdF1set3_TCunion_p10tunedXGBoost':stdF1set3_TCunion_p10tunedXGBoost ,\n",
    "                     'avgF1set4_TCunion_p10tunedXGBoost':avgF1set4_TCunion_p10tunedXGBoost ,\n",
    "                     'stdF1set4_TCunion_p10tunedXGBoost':stdF1set4_TCunion_p10tunedXGBoost ,\n",
    "                     'n_TCunion_p20XGBoost':n_TCunion_p20XGBoost ,\n",
    "                     'avgF1_TCunion_p20XGBoost':avgF1_TCunion_p20XGBoost ,\n",
    "                     'stdF1_TCunion_p20XGBoost':stdF1_TCunion_p20XGBoost ,\n",
    "                     'avgF1set1_TCunion_p20tunedXGBoost':avgF1set1_TCunion_p20tunedXGBoost ,\n",
    "                     'stdF1set1_TCunion_p20tunedXGBoost':stdF1set1_TCunion_p20tunedXGBoost ,\n",
    "                     'avgF1set2_TCunion_p20tunedXGBoost':avgF1set2_TCunion_p20tunedXGBoost ,\n",
    "                     'stdF1set2_TCunion_p20tunedXGBoost':stdF1set2_TCunion_p20tunedXGBoost ,\n",
    "                     'avgF1set3_TCunion_p20tunedXGBoost':avgF1set3_TCunion_p20tunedXGBoost ,\n",
    "                     'stdF1set3_TCunion_p20tunedXGBoost':stdF1set3_TCunion_p20tunedXGBoost ,\n",
    "                     'avgF1set4_TCunion_p20tunedXGBoost':avgF1set4_TCunion_p20tunedXGBoost ,\n",
    "                     'stdF1set4_TCunion_p20tunedXGBoost':stdF1set4_TCunion_p20tunedXGBoost ,\n",
    "                     'n_TCmulti_base2XGBoost':n_TCmulti_base2XGBoost ,\n",
    "                     'avgF1_TCmulti_base2XGBoost':avgF1_TCmulti_base2XGBoost ,\n",
    "                     'stdF1_TCmulti_base2XGBoost':stdF1_TCmulti_base2XGBoost ,\n",
    "                     'avgF1set1_TCmulti_base2tunedXGBoost':avgF1set1_TCmulti_base2tunedXGBoost ,\n",
    "                     'stdF1set1_TCmulti_base2tunedXGBoost':stdF1set1_TCmulti_base2tunedXGBoost ,\n",
    "                     'avgF1set2_TCmulti_base2tunedXGBoost':avgF1set2_TCmulti_base2tunedXGBoost ,\n",
    "                     'stdF1set2_TCmulti_base2tunedXGBoost':stdF1set2_TCmulti_base2tunedXGBoost ,\n",
    "                     'avgF1set3_TCmulti_base2tunedXGBoost':avgF1set3_TCmulti_base2tunedXGBoost ,\n",
    "                     'stdF1set3_TCmulti_base2tunedXGBoost':stdF1set3_TCmulti_base2tunedXGBoost ,\n",
    "                     'avgF1set4_TCmulti_base2tunedXGBoost':avgF1set4_TCmulti_base2tunedXGBoost ,\n",
    "                     'stdF1set4_TCmulti_base2tunedXGBoost':stdF1set4_TCmulti_base2tunedXGBoost ,\n",
    "                     'n_TCmulti_p2_5XGBoost':n_TCmulti_p2_5XGBoost ,\n",
    "                     'avgF1_TCmulti_p2_5XGBoost':avgF1_TCmulti_p2_5XGBoost ,\n",
    "                     'stdF1_TCmulti_p2_5XGBoost':stdF1_TCmulti_p2_5XGBoost ,\n",
    "                     'avgF1set1_TCmulti_p2_5tunedXGBoost':avgF1set1_TCmulti_p2_5tunedXGBoost ,\n",
    "                     'stdF1set1_TCmulti_p2_5tunedXGBoost':stdF1set1_TCmulti_p2_5tunedXGBoost ,\n",
    "                     'avgF1set2_TCmulti_p2_5tunedXGBoost':avgF1set2_TCmulti_p2_5tunedXGBoost ,\n",
    "                     'stdF1set2_TCmulti_p2_5tunedXGBoost':stdF1set2_TCmulti_p2_5tunedXGBoost ,\n",
    "                     'avgF1set3_TCmulti_p2_5tunedXGBoost':avgF1set3_TCmulti_p2_5tunedXGBoost ,\n",
    "                     'stdF1set3_TCmulti_p2_5tunedXGBoost':stdF1set3_TCmulti_p2_5tunedXGBoost ,\n",
    "                     'avgF1set4_TCmulti_p2_5tunedXGBoost':avgF1set4_TCmulti_p2_5tunedXGBoost ,\n",
    "                     'stdF1set4_TCmulti_p2_5tunedXGBoost':stdF1set4_TCmulti_p2_5tunedXGBoost ,\n",
    "                     'n_TCmulti_p5XGBoost':n_TCmulti_p5XGBoost ,\n",
    "                     'avgF1_TCmulti_p5XGBoost':avgF1_TCmulti_p5XGBoost ,\n",
    "                     'stdF1_TCmulti_p5XGBoost':stdF1_TCmulti_p5XGBoost ,\n",
    "                     'avgF1set1_TCmulti_p5tunedXGBoost':avgF1set1_TCmulti_p5tunedXGBoost ,\n",
    "                     'stdF1set1_TCmulti_p5tunedXGBoost':stdF1set1_TCmulti_p5tunedXGBoost ,\n",
    "                     'avgF1set2_TCmulti_p5tunedXGBoost':avgF1set2_TCmulti_p5tunedXGBoost ,\n",
    "                     'stdF1set2_TCmulti_p5tunedXGBoost':stdF1set2_TCmulti_p5tunedXGBoost ,\n",
    "                     'avgF1set3_TCmulti_p5tunedXGBoost':avgF1set3_TCmulti_p5tunedXGBoost ,\n",
    "                     'stdF1set3_TCmulti_p5tunedXGBoost':stdF1set3_TCmulti_p5tunedXGBoost ,\n",
    "                     'avgF1set4_TCmulti_p5tunedXGBoost':avgF1set4_TCmulti_p5tunedXGBoost ,\n",
    "                     'stdF1set4_TCmulti_p5tunedXGBoost':stdF1set4_TCmulti_p5tunedXGBoost ,\n",
    "                     'n_TCmulti_p10XGBoost':n_TCmulti_p10XGBoost ,\n",
    "                     'avgF1_TCmulti_p10XGBoost':avgF1_TCmulti_p10XGBoost ,\n",
    "                     'stdF1_TCmulti_p10XGBoost':stdF1_TCmulti_p10XGBoost ,\n",
    "                     'avgF1set1_TCmulti_p10tunedXGBoost':avgF1set1_TCmulti_p10tunedXGBoost ,\n",
    "                     'stdF1set1_TCmulti_p10tunedXGBoost':stdF1set1_TCmulti_p10tunedXGBoost ,\n",
    "                     'avgF1set2_TCmulti_p10tunedXGBoost':avgF1set2_TCmulti_p10tunedXGBoost ,\n",
    "                     'stdF1set2_TCmulti_p10tunedXGBoost':stdF1set2_TCmulti_p10tunedXGBoost ,\n",
    "                     'avgF1set3_TCmulti_p10tunedXGBoost':avgF1set3_TCmulti_p10tunedXGBoost ,\n",
    "                     'stdF1set3_TCmulti_p10tunedXGBoost':stdF1set3_TCmulti_p10tunedXGBoost ,\n",
    "                     'avgF1set4_TCmulti_p10tunedXGBoost':avgF1set4_TCmulti_p10tunedXGBoost ,\n",
    "                     'stdF1set4_TCmulti_p10tunedXGBoost':stdF1set4_TCmulti_p10tunedXGBoost ,\n",
    "                     'n_TCmulti_p20XGBoost':n_TCmulti_p20XGBoost ,\n",
    "                     'avgF1_TCmulti_p20XGBoost':avgF1_TCmulti_p20XGBoost ,\n",
    "                     'stdF1_TCmulti_p20XGBoost':stdF1_TCmulti_p20XGBoost ,\n",
    "                     'avgF1set1_TCmulti_p20tunedXGBoost':avgF1set1_TCmulti_p20tunedXGBoost ,\n",
    "                     'stdF1set1_TCmulti_p20tunedXGBoost':stdF1set1_TCmulti_p20tunedXGBoost ,\n",
    "                     'avgF1set2_TCmulti_p20tunedXGBoost':avgF1set2_TCmulti_p20tunedXGBoost ,\n",
    "                     'stdF1set2_TCmulti_p20tunedXGBoost':stdF1set2_TCmulti_p20tunedXGBoost ,\n",
    "                     'avgF1set3_TCmulti_p20tunedXGBoost':avgF1set3_TCmulti_p20tunedXGBoost ,\n",
    "                     'stdF1set3_TCmulti_p20tunedXGBoost':stdF1set3_TCmulti_p20tunedXGBoost ,\n",
    "                     'avgF1set4_TCmulti_p20tunedXGBoost':avgF1set4_TCmulti_p20tunedXGBoost ,\n",
    "                     'stdF1set4_TCmulti_p20tunedXGBoost':stdF1set4_TCmulti_p20tunedXGBoost ,\n",
    "                     'n_TCinters_base2XGBoost':n_TCinters_base2XGBoost ,\n",
    "                     'avgF1_TCinters_base2XGBoost':avgF1_TCinters_base2XGBoost ,\n",
    "                     'stdF1_TCinters_base2XGBoost':stdF1_TCinters_base2XGBoost ,\n",
    "                     'avgF1set1_TCinters_base2tunedXGBoost':avgF1set1_TCinters_base2tunedXGBoost ,\n",
    "                     'stdF1set1_TCinters_base2tunedXGBoost':stdF1set1_TCinters_base2tunedXGBoost ,\n",
    "                     'avgF1set2_TCinters_base2tunedXGBoost':avgF1set2_TCinters_base2tunedXGBoost ,\n",
    "                     'stdF1set2_TCinters_base2tunedXGBoost':stdF1set2_TCinters_base2tunedXGBoost ,\n",
    "                     'avgF1set3_TCinters_base2tunedXGBoost':avgF1set3_TCinters_base2tunedXGBoost ,\n",
    "                     'stdF1set3_TCinters_base2tunedXGBoost':stdF1set3_TCinters_base2tunedXGBoost ,\n",
    "                     'avgF1set4_TCinters_base2tunedXGBoost':avgF1set4_TCinters_base2tunedXGBoost ,\n",
    "                     'stdF1set4_TCinters_base2tunedXGBoost':stdF1set4_TCinters_base2tunedXGBoost ,\n",
    "                     'n_TCinters_p2_5XGBoost':n_TCinters_p2_5XGBoost ,\n",
    "                     'avgF1_TCinters_p2_5XGBoost':avgF1_TCinters_p2_5XGBoost ,\n",
    "                     'stdF1_TCinters_p2_5XGBoost':stdF1_TCinters_p2_5XGBoost ,\n",
    "                     'avgF1set1_TCinters_p2_5tunedXGBoost':avgF1set1_TCinters_p2_5tunedXGBoost ,\n",
    "                     'stdF1set1_TCinters_p2_5tunedXGBoost':stdF1set1_TCinters_p2_5tunedXGBoost ,\n",
    "                     'avgF1set2_TCinters_p2_5tunedXGBoost':avgF1set2_TCinters_p2_5tunedXGBoost ,\n",
    "                     'stdF1set2_TCinters_p2_5tunedXGBoost':stdF1set2_TCinters_p2_5tunedXGBoost ,\n",
    "                     'avgF1set3_TCinters_p2_5tunedXGBoost':avgF1set3_TCinters_p2_5tunedXGBoost ,\n",
    "                     'stdF1set3_TCinters_p2_5tunedXGBoost':stdF1set3_TCinters_p2_5tunedXGBoost ,\n",
    "                     'avgF1set4_TCinters_p2_5tunedXGBoost':avgF1set4_TCinters_p2_5tunedXGBoost ,\n",
    "                     'stdF1set4_TCinters_p2_5tunedXGBoost':stdF1set4_TCinters_p2_5tunedXGBoost ,\n",
    "                     'n_TCinters_p5XGBoost':n_TCinters_p5XGBoost ,\n",
    "                     'avgF1_TCinters_p5XGBoost':avgF1_TCinters_p5XGBoost ,\n",
    "                     'stdF1_TCinters_p5XGBoost':stdF1_TCinters_p5XGBoost ,\n",
    "                     'avgF1set1_TCinters_p5tunedXGBoost':avgF1set1_TCinters_p5tunedXGBoost ,\n",
    "                     'stdF1set1_TCinters_p5tunedXGBoost':stdF1set1_TCinters_p5tunedXGBoost ,\n",
    "                     'avgF1set2_TCinters_p5tunedXGBoost':avgF1set2_TCinters_p5tunedXGBoost ,\n",
    "                     'stdF1set2_TCinters_p5tunedXGBoost':stdF1set2_TCinters_p5tunedXGBoost ,\n",
    "                     'avgF1set3_TCinters_p5tunedXGBoost':avgF1set3_TCinters_p5tunedXGBoost ,\n",
    "                     'stdF1set3_TCinters_p5tunedXGBoost':stdF1set3_TCinters_p5tunedXGBoost ,\n",
    "                     'avgF1set4_TCinters_p5tunedXGBoost':avgF1set4_TCinters_p5tunedXGBoost ,\n",
    "                     'stdF1set4_TCinters_p5tunedXGBoost':stdF1set4_TCinters_p5tunedXGBoost ,\n",
    "                     'n_TCinters_p10XGBoost':n_TCinters_p10XGBoost ,\n",
    "                     'avgF1_TCinters_p10XGBoost':avgF1_TCinters_p10XGBoost ,\n",
    "                     'stdF1_TCinters_p10XGBoost':stdF1_TCinters_p10XGBoost ,\n",
    "                     'avgF1set1_TCinters_p10tunedXGBoost':avgF1set1_TCinters_p10tunedXGBoost ,\n",
    "                     'stdF1set1_TCinters_p10tunedXGBoost':stdF1set1_TCinters_p10tunedXGBoost ,\n",
    "                     'avgF1set2_TCinters_p10tunedXGBoost':avgF1set2_TCinters_p10tunedXGBoost ,\n",
    "                     'stdF1set2_TCinters_p10tunedXGBoost':stdF1set2_TCinters_p10tunedXGBoost ,\n",
    "                     'avgF1set3_TCinters_p10tunedXGBoost':avgF1set3_TCinters_p10tunedXGBoost ,\n",
    "                     'stdF1set3_TCinters_p10tunedXGBoost':stdF1set3_TCinters_p10tunedXGBoost ,\n",
    "                     'avgF1set4_TCinters_p10tunedXGBoost':avgF1set4_TCinters_p10tunedXGBoost ,\n",
    "                     'stdF1set4_TCinters_p10tunedXGBoost':stdF1set4_TCinters_p10tunedXGBoost ,\n",
    "                     'n_TCinters_p20XGBoost':n_TCinters_p20XGBoost ,\n",
    "                     'avgF1_TCinters_p20XGBoost':avgF1_TCinters_p20XGBoost ,\n",
    "                     'stdF1_TCinters_p20XGBoost':stdF1_TCinters_p20XGBoost ,\n",
    "                     'avgF1set1_TCinters_p20tunedXGBoost':avgF1set1_TCinters_p20tunedXGBoost ,\n",
    "                     'stdF1set1_TCinters_p20tunedXGBoost':stdF1set1_TCinters_p20tunedXGBoost ,\n",
    "                     'avgF1set2_TCinters_p20tunedXGBoost':avgF1set2_TCinters_p20tunedXGBoost ,\n",
    "                     'stdF1set2_TCinters_p20tunedXGBoost':stdF1set2_TCinters_p20tunedXGBoost ,\n",
    "                     'avgF1set3_TCinters_p20tunedXGBoost':avgF1set3_TCinters_p20tunedXGBoost ,\n",
    "                     'stdF1set3_TCinters_p20tunedXGBoost':stdF1set3_TCinters_p20tunedXGBoost ,\n",
    "                     'avgF1set4_TCinters_p20tunedXGBoost':avgF1set4_TCinters_p20tunedXGBoost ,\n",
    "                     'stdF1set4_TCinters_p20tunedXGBoost':stdF1set4_TCinters_p20tunedXGBoost \n",
    "                    }\n",
    "\n",
    "           "
   ]
  },
  {
   "cell_type": "code",
   "execution_count": 337,
   "id": "ff6e54ec",
   "metadata": {},
   "outputs": [],
   "source": [
    "output_TCdesignXGBoost = pd.DataFrame([output_TCdesignXGBoost])\n",
    "output_TCdesignXGBoost = output_TCdesignXGBoost.transpose()\n",
    "output_TCdesignXGBoost.to_csv('output_TCdesignXGBoost.csv', index=True)"
   ]
  },
  {
   "cell_type": "code",
   "execution_count": null,
   "id": "0d29a41e",
   "metadata": {},
   "outputs": [],
   "source": []
  },
  {
   "cell_type": "code",
   "execution_count": 338,
   "id": "07967e44",
   "metadata": {},
   "outputs": [],
   "source": [
    "output_XGBoost = {'n_baselineXGBoost':n_baselineXGBoost ,\n",
    "                   'avgF1_baselineXGBoost':avgF1_baselineXGBoost ,\n",
    "                   'stdF1_baselineXGBoost': stdF1_baselineXGBoost,\n",
    "                   'avgF1set1_baselineXGBoost':avgF1set1_baselineXGBoost  ,\n",
    "                   'stdF1set1_baselineXGBoost': stdF1set1_baselineXGBoost,\n",
    "                   'avgF1set2_baselineXGBoost':avgF1set2_baselineXGBoost ,\n",
    "                   'stdF1set2_baselineXGBoost':stdF1set2_baselineXGBoost ,\n",
    "                   'avgF1set3_baselineXGBoost':avgF1set3_baselineXGBoost ,\n",
    "                   'stdF1set3_baselineXGBoost':stdF1set3_baselineXGBoost ,\n",
    "                   'avgF1set4_baselineXGBoost':avgF1set4_baselineXGBoost ,\n",
    "                   'stdF1set4_baselineXGBoost':stdF1set4_baselineXGBoost ,\n",
    "\n",
    "\n",
    "                    'n_singleMI_base2XGBoost':n_singleMI_base2XGBoost ,\n",
    "                   'avgF1_singleMI_base2XGBoost': avgF1_singleMI_base2XGBoost,\n",
    "                   'stdF1_singleMI_base2XGBoost': stdF1_singleMI_base2XGBoost,\n",
    "                   'avgF1set1_singleMI_base2tunedXGBoost': avgF1set1_singleMI_base2tunedXGBoost,\n",
    "                   'stdF1set1_singleMI_base2tunedXGBoost': stdF1set1_singleMI_base2tunedXGBoost,\n",
    "                   'avgF1set2_singleMI_base2tunedXGBoost':avgF1set2_singleMI_base2tunedXGBoost ,\n",
    "                   'stdF1set2_singleMI_base2tunedXGBoost':stdF1set2_singleMI_base2tunedXGBoost ,\n",
    "                   'avgF1set3_singleMI_base2tunedXGBoost':avgF1set3_singleMI_base2tunedXGBoost ,\n",
    "                   'stdF1set3_singleMI_base2tunedXGBoost':stdF1set3_singleMI_base2tunedXGBoost ,\n",
    "                   'avgF1set4_singleMI_base2tunedXGBoost':avgF1set4_singleMI_base2tunedXGBoost ,\n",
    "                   'stdF1set4_singleMI_base2tunedXGBoost':stdF1set4_singleMI_base2tunedXGBoost ,\n",
    "                   'n_singleMI_p2_5XGBoost':n_singleMI_p2_5XGBoost ,\n",
    "                   'avgF1_singleMI_p2_5XGBoost': avgF1_singleMI_p2_5XGBoost,\n",
    "                   'stdF1_singleMI_p2_5XGBoost': stdF1_singleMI_p2_5XGBoost,\n",
    "                   'avgF1set1_singleMI_p2_5tunedXGBoost': avgF1set1_singleMI_p2_5tunedXGBoost,\n",
    "                   'stdF1set1_singleMI_p2_5tunedXGBoost': stdF1set1_singleMI_p2_5tunedXGBoost,\n",
    "                   'avgF1set2_singleMI_p2_5tunedXGBoost':avgF1set2_singleMI_p2_5tunedXGBoost ,\n",
    "                   'stdF1set2_singleMI_p2_5tunedXGBoost':stdF1set2_singleMI_p2_5tunedXGBoost ,\n",
    "                   'avgF1set3_singleMI_p2_5tunedXGBoost':avgF1set3_singleMI_p2_5tunedXGBoost ,\n",
    "                   'stdF1set3_singleMI_p2_5tunedXGBoost':stdF1set3_singleMI_p2_5tunedXGBoost ,\n",
    "                   'avgF1set4_singleMI_p2_5tunedXGBoost':avgF1set4_singleMI_p2_5tunedXGBoost ,\n",
    "                   'stdF1set4_singleMI_p2_5tunedXGBoost':stdF1set4_singleMI_p2_5tunedXGBoost ,\n",
    "                   'n_singleMI_p5XGBoost':n_singleMI_p5XGBoost ,\n",
    "                   'avgF1_singleMI_p5XGBoost': avgF1_singleMI_p5XGBoost,\n",
    "                   'stdF1_singleMI_p5XGBoost': stdF1_singleMI_p5XGBoost,\n",
    "                   'avgF1set1_singleMI_p5tunedXGBoost': avgF1set1_singleMI_p5tunedXGBoost,\n",
    "                   'stdF1set1_singleMI_p5tunedXGBoost': stdF1set1_singleMI_p5tunedXGBoost,\n",
    "                   'avgF1set2_singleMI_p5tunedXGBoost':avgF1set2_singleMI_p5tunedXGBoost ,\n",
    "                   'stdF1set2_singleMI_p5tunedXGBoost':stdF1set2_singleMI_p5tunedXGBoost ,\n",
    "                   'avgF1set3_singleMI_p5tunedXGBoost':avgF1set3_singleMI_p5tunedXGBoost ,\n",
    "                   'stdF1set3_singleMI_p5tunedXGBoost':stdF1set3_singleMI_p5tunedXGBoost ,\n",
    "                   'avgF1set4_singleMI_p5tunedXGBoost':avgF1set4_singleMI_p5tunedXGBoost ,\n",
    "                   'stdF1set4_singleMI_p5tunedXGBoost':stdF1set4_singleMI_p5tunedXGBoost ,\n",
    "                   'n_singleMI_p10XGBoost':n_singleMI_p10XGBoost ,\n",
    "                   'avgF1_singleMI_p10XGBoost': avgF1_singleMI_p10XGBoost,\n",
    "                   'stdF1_singleMI_p10XGBoost': stdF1_singleMI_p10XGBoost,\n",
    "                   'avgF1set1_singleMI_p10tunedXGBoost': avgF1set1_singleMI_p10tunedXGBoost,\n",
    "                   'stdF1set1_singleMI_p10tunedXGBoost': stdF1set1_singleMI_p10tunedXGBoost,\n",
    "                   'avgF1set2_singleMI_p10tunedXGBoost':avgF1set2_singleMI_p10tunedXGBoost ,\n",
    "                   'stdF1set2_singleMI_p10tunedXGBoost':stdF1set2_singleMI_p10tunedXGBoost ,\n",
    "                   'avgF1set3_singleMI_p10tunedXGBoost':avgF1set3_singleMI_p10tunedXGBoost ,\n",
    "                   'stdF1set3_singleMI_p10tunedXGBoost':stdF1set3_singleMI_p10tunedXGBoost ,\n",
    "                   'avgF1set4_singleMI_p10tunedXGBoost':avgF1set4_singleMI_p10tunedXGBoost ,\n",
    "                   'stdF1set4_singleMI_p10tunedXGBoost':stdF1set4_singleMI_p10tunedXGBoost ,\n",
    "                   'n_singleMI_p20XGBoost':n_singleMI_p20XGBoost ,\n",
    "                   'avgF1_singleMI_p20XGBoost': avgF1_singleMI_p20XGBoost,\n",
    "                   'stdF1_singleMI_p20XGBoost': stdF1_singleMI_p20XGBoost,\n",
    "                   'avgF1set1_singleMI_p20tunedXGBoost': avgF1set1_singleMI_p20tunedXGBoost,\n",
    "                   'stdF1set1_singleMI_p20tunedXGBoost': stdF1set1_singleMI_p20tunedXGBoost,\n",
    "                   'avgF1set2_singleMI_p20tunedXGBoost':avgF1set2_singleMI_p20tunedXGBoost ,\n",
    "                   'stdF1set2_singleMI_p20tunedXGBoost':stdF1set2_singleMI_p20tunedXGBoost ,\n",
    "                   'avgF1set3_singleMI_p20tunedXGBoost':avgF1set3_singleMI_p20tunedXGBoost ,\n",
    "                   'stdF1set3_singleMI_p20tunedXGBoost':stdF1set3_singleMI_p20tunedXGBoost ,\n",
    "                   'avgF1set4_singleMI_p20tunedXGBoost':avgF1set4_singleMI_p20tunedXGBoost ,\n",
    "                   'stdF1set4_singleMI_p20tunedXGBoost':stdF1set4_singleMI_p20tunedXGBoost ,\n",
    "                   'n_singleSHAP_base2XGBoost':n_singleSHAP_base2XGBoost ,\n",
    "                   'avgF1_singleSHAP_base2XGBoost': avgF1_singleSHAP_base2XGBoost,\n",
    "                   'stdF1_singleSHAP_base2XGBoost': stdF1_singleSHAP_base2XGBoost,\n",
    "                   'avgF1set1_singleSHAP_base2tunedXGBoost': avgF1set1_singleSHAP_base2tunedXGBoost,\n",
    "                   'stdF1set1_singleSHAP_base2tunedXGBoost': stdF1set1_singleSHAP_base2tunedXGBoost,\n",
    "                   'avgF1set2_singleSHAP_base2tunedXGBoost':avgF1set2_singleSHAP_base2tunedXGBoost ,\n",
    "                   'stdF1set2_singleSHAP_base2tunedXGBoost':stdF1set2_singleSHAP_base2tunedXGBoost ,\n",
    "                   'avgF1set3_singleSHAP_base2tunedXGBoost':avgF1set3_singleSHAP_base2tunedXGBoost ,\n",
    "                   'stdF1set3_singleSHAP_base2tunedXGBoost':stdF1set3_singleSHAP_base2tunedXGBoost ,\n",
    "                   'avgF1set4_singleSHAP_base2tunedXGBoost':avgF1set4_singleSHAP_base2tunedXGBoost ,\n",
    "                   'stdF1set4_singleSHAP_base2tunedXGBoost':stdF1set4_singleSHAP_base2tunedXGBoost ,\n",
    "                   'n_singleSHAP_p2_5XGBoost':n_singleSHAP_p2_5XGBoost ,\n",
    "                   'avgF1_singleSHAP_p2_5XGBoost': avgF1_singleSHAP_p2_5XGBoost,\n",
    "                   'stdF1_singleSHAP_p2_5XGBoost': stdF1_singleSHAP_p2_5XGBoost,\n",
    "                   'avgF1set1_singleSHAP_p2_5tunedXGBoost': avgF1set1_singleSHAP_p2_5tunedXGBoost,\n",
    "                   'stdF1set1_singleSHAP_p2_5tunedXGBoost': stdF1set1_singleSHAP_p2_5tunedXGBoost,\n",
    "                   'avgF1set2_singleSHAP_p2_5tunedXGBoost':avgF1set2_singleSHAP_p2_5tunedXGBoost ,\n",
    "                   'stdF1set2_singleSHAP_p2_5tunedXGBoost':stdF1set2_singleSHAP_p2_5tunedXGBoost ,\n",
    "                   'avgF1set3_singleSHAP_p2_5tunedXGBoost':avgF1set3_singleSHAP_p2_5tunedXGBoost ,\n",
    "                   'stdF1set3_singleSHAP_p2_5tunedXGBoost':stdF1set3_singleSHAP_p2_5tunedXGBoost ,\n",
    "                   'avgF1set4_singleSHAP_p2_5tunedXGBoost':avgF1set4_singleSHAP_p2_5tunedXGBoost ,\n",
    "                   'stdF1set4_singleSHAP_p2_5tunedXGBoost':stdF1set4_singleSHAP_p2_5tunedXGBoost ,\n",
    "                   'n_singleSHAP_p5XGBoost':n_singleSHAP_p5XGBoost ,\n",
    "                   'avgF1_singleSHAP_p5XGBoost': avgF1_singleSHAP_p5XGBoost,\n",
    "                   'stdF1_singleSHAP_p5XGBoost': stdF1_singleSHAP_p5XGBoost,\n",
    "                   'avgF1set1_singleSHAP_p5tunedXGBoost': avgF1set1_singleSHAP_p5tunedXGBoost,\n",
    "                   'stdF1set1_singleSHAP_p5tunedXGBoost': stdF1set1_singleSHAP_p5tunedXGBoost,\n",
    "                   'avgF1set2_singleSHAP_p5tunedXGBoost':avgF1set2_singleSHAP_p5tunedXGBoost ,\n",
    "                   'stdF1set2_singleSHAP_p5tunedXGBoost':stdF1set2_singleSHAP_p5tunedXGBoost ,\n",
    "                   'avgF1set3_singleSHAP_p5tunedXGBoost':avgF1set3_singleSHAP_p5tunedXGBoost ,\n",
    "                   'stdF1set3_singleSHAP_p5tunedXGBoost':stdF1set3_singleSHAP_p5tunedXGBoost ,\n",
    "                   'avgF1set4_singleSHAP_p5tunedXGBoost':avgF1set4_singleSHAP_p5tunedXGBoost ,\n",
    "                   'stdF1set4_singleSHAP_p5tunedXGBoost':stdF1set4_singleSHAP_p5tunedXGBoost ,\n",
    "                   'n_singleSHAP_p10XGBoost':n_singleSHAP_p10XGBoost ,\n",
    "                   'avgF1_singleSHAP_p10XGBoost': avgF1_singleSHAP_p10XGBoost,\n",
    "                   'stdF1_singleSHAP_p10XGBoost': stdF1_singleSHAP_p10XGBoost,\n",
    "                   'avgF1set1_singleSHAP_p10tunedXGBoost': avgF1set1_singleSHAP_p10tunedXGBoost,\n",
    "                   'stdF1set1_singleSHAP_p10tunedXGBoost': stdF1set1_singleSHAP_p10tunedXGBoost,\n",
    "                   'avgF1set2_singleSHAP_p10tunedXGBoost':avgF1set2_singleSHAP_p10tunedXGBoost ,\n",
    "                   'stdF1set2_singleSHAP_p10tunedXGBoost':stdF1set2_singleSHAP_p10tunedXGBoost ,\n",
    "                   'avgF1set3_singleSHAP_p10tunedXGBoost':avgF1set3_singleSHAP_p10tunedXGBoost ,\n",
    "                   'stdF1set3_singleSHAP_p10tunedXGBoost':stdF1set3_singleSHAP_p10tunedXGBoost ,\n",
    "                   'avgF1set4_singleSHAP_p10tunedXGBoost':avgF1set4_singleSHAP_p10tunedXGBoost ,\n",
    "                   'stdF1set4_singleSHAP_p10tunedXGBoost':stdF1set4_singleSHAP_p10tunedXGBoost ,\n",
    "                   'n_singleSHAP_p20XGBoost':n_singleSHAP_p20XGBoost ,\n",
    "                   'avgF1_singleSHAP_p20XGBoost': avgF1_singleSHAP_p20XGBoost,\n",
    "                   'stdF1_singleSHAP_p20XGBoost': stdF1_singleSHAP_p20XGBoost,\n",
    "                   'avgF1set1_singleSHAP_p20tunedXGBoost': avgF1set1_singleSHAP_p20tunedXGBoost,\n",
    "                   'stdF1set1_singleSHAP_p20tunedXGBoost': stdF1set1_singleSHAP_p20tunedXGBoost,\n",
    "                   'avgF1set2_singleSHAP_p20tunedXGBoost':avgF1set2_singleSHAP_p20tunedXGBoost ,\n",
    "                   'stdF1set2_singleSHAP_p20tunedXGBoost':stdF1set2_singleSHAP_p20tunedXGBoost ,\n",
    "                   'avgF1set3_singleSHAP_p20tunedXGBoost':avgF1set3_singleSHAP_p20tunedXGBoost ,\n",
    "                   'stdF1set3_singleSHAP_p20tunedXGBoost':stdF1set3_singleSHAP_p20tunedXGBoost ,\n",
    "                   'avgF1set4_singleSHAP_p20tunedXGBoost':avgF1set4_singleSHAP_p20tunedXGBoost ,\n",
    "                   'stdF1set4_singleSHAP_p20tunedXGBoost':stdF1set4_singleSHAP_p20tunedXGBoost ,\n",
    "                   'n_singleEmbed_base2XGBoost':n_singleEmbed_base2XGBoost ,\n",
    "                   'avgF1_singleEmbed_base2XGBoost': avgF1_singleEmbed_base2XGBoost,\n",
    "                   'stdF1_singleEmbed_base2XGBoost': stdF1_singleEmbed_base2XGBoost,\n",
    "                   'avgF1set1_singleEmbed_base2tunedXGBoost': avgF1set1_singleEmbed_base2tunedXGBoost,\n",
    "                   'stdF1set1_singleEmbed_base2tunedXGBoost': stdF1set1_singleEmbed_base2tunedXGBoost,\n",
    "                   'avgF1set2_singleEmbed_base2tunedXGBoost':avgF1set2_singleEmbed_base2tunedXGBoost ,\n",
    "                   'stdF1set2_singleEmbed_base2tunedXGBoost':stdF1set2_singleEmbed_base2tunedXGBoost ,\n",
    "                   'avgF1set3_singleEmbed_base2tunedXGBoost':avgF1set3_singleEmbed_base2tunedXGBoost ,\n",
    "                   'stdF1set3_singleEmbed_base2tunedXGBoost':stdF1set3_singleEmbed_base2tunedXGBoost ,\n",
    "                   'avgF1set4_singleEmbed_base2tunedXGBoost':avgF1set4_singleEmbed_base2tunedXGBoost ,\n",
    "                   'stdF1set4_singleEmbed_base2tunedXGBoost':stdF1set4_singleEmbed_base2tunedXGBoost ,\n",
    "                   'n_singleEmbed_p2_5XGBoost':n_singleEmbed_p2_5XGBoost ,\n",
    "                   'avgF1_singleEmbed_p2_5XGBoost': avgF1_singleEmbed_p2_5XGBoost,\n",
    "                   'stdF1_singleEmbed_p2_5XGBoost': stdF1_singleEmbed_p2_5XGBoost,\n",
    "                   'avgF1set1_singleEmbed_p2_5tunedXGBoost': avgF1set1_singleEmbed_p2_5tunedXGBoost,\n",
    "                   'stdF1set1_singleEmbed_p2_5tunedXGBoost': stdF1set1_singleEmbed_p2_5tunedXGBoost,\n",
    "                   'avgF1set2_singleEmbed_p2_5tunedXGBoost':avgF1set2_singleEmbed_p2_5tunedXGBoost ,\n",
    "                   'stdF1set2_singleEmbed_p2_5tunedXGBoost':stdF1set2_singleEmbed_p2_5tunedXGBoost ,\n",
    "                   'avgF1set3_singleEmbed_p2_5tunedXGBoost':avgF1set3_singleEmbed_p2_5tunedXGBoost ,\n",
    "                   'stdF1set3_singleEmbed_p2_5tunedXGBoost':stdF1set3_singleEmbed_p2_5tunedXGBoost ,\n",
    "                   'avgF1set4_singleEmbed_p2_5tunedXGBoost':avgF1set4_singleEmbed_p2_5tunedXGBoost ,\n",
    "                   'stdF1set4_singleEmbed_p2_5tunedXGBoost':stdF1set4_singleEmbed_p2_5tunedXGBoost ,\n",
    "                   'n_singleEmbed_p5XGBoost':n_singleEmbed_p5XGBoost ,\n",
    "                   'avgF1_singleEmbed_p5XGBoost': avgF1_singleEmbed_p5XGBoost,\n",
    "                   'stdF1_singleEmbed_p5XGBoost': stdF1_singleEmbed_p5XGBoost,\n",
    "                   'avgF1set1_singleEmbed_p5tunedXGBoost': avgF1set1_singleEmbed_p5tunedXGBoost,\n",
    "                   'stdF1set1_singleEmbed_p5tunedXGBoost': stdF1set1_singleEmbed_p5tunedXGBoost,\n",
    "                   'avgF1set2_singleEmbed_p5tunedXGBoost':avgF1set2_singleEmbed_p5tunedXGBoost ,\n",
    "                   'stdF1set2_singleEmbed_p5tunedXGBoost':stdF1set2_singleEmbed_p5tunedXGBoost ,\n",
    "                   'avgF1set3_singleEmbed_p5tunedXGBoost':avgF1set3_singleEmbed_p5tunedXGBoost ,\n",
    "                   'stdF1set3_singleEmbed_p5tunedXGBoost':stdF1set3_singleEmbed_p5tunedXGBoost ,\n",
    "                   'avgF1set4_singleEmbed_p5tunedXGBoost':avgF1set4_singleEmbed_p5tunedXGBoost ,\n",
    "                   'stdF1set4_singleEmbed_p5tunedXGBoost':stdF1set4_singleEmbed_p5tunedXGBoost ,\n",
    "                   'n_singleEmbed_p10XGBoost':n_singleEmbed_p10XGBoost ,\n",
    "                   'avgF1_singleEmbed_p10XGBoost': avgF1_singleEmbed_p10XGBoost,\n",
    "                   'stdF1_singleEmbed_p10XGBoost': stdF1_singleEmbed_p10XGBoost,\n",
    "                   'avgF1set1_singleEmbed_p10tunedXGBoost': avgF1set1_singleEmbed_p10tunedXGBoost,\n",
    "                   'stdF1set1_singleEmbed_p10tunedXGBoost': stdF1set1_singleEmbed_p10tunedXGBoost,\n",
    "                   'avgF1set2_singleEmbed_p10tunedXGBoost':avgF1set2_singleEmbed_p10tunedXGBoost ,\n",
    "                   'stdF1set2_singleEmbed_p10tunedXGBoost':stdF1set2_singleEmbed_p10tunedXGBoost ,\n",
    "                   'avgF1set3_singleEmbed_p10tunedXGBoost':avgF1set3_singleEmbed_p10tunedXGBoost ,\n",
    "                   'stdF1set3_singleEmbed_p10tunedXGBoost':stdF1set3_singleEmbed_p10tunedXGBoost ,\n",
    "                   'avgF1set4_singleEmbed_p10tunedXGBoost':avgF1set4_singleEmbed_p10tunedXGBoost ,\n",
    "                   'stdF1set4_singleEmbed_p10tunedXGBoost':stdF1set4_singleEmbed_p10tunedXGBoost ,\n",
    "                   'n_singleEmbed_p20XGBoost':n_singleEmbed_p20XGBoost ,\n",
    "                   'avgF1_singleEmbed_p20XGBoost': avgF1_singleEmbed_p20XGBoost,\n",
    "                   'stdF1_singleEmbed_p20XGBoost': stdF1_singleEmbed_p20XGBoost,\n",
    "                   'avgF1set1_singleEmbed_p20tunedXGBoost': avgF1set1_singleEmbed_p20tunedXGBoost,\n",
    "                   'stdF1set1_singleEmbed_p20tunedXGBoost': stdF1set1_singleEmbed_p20tunedXGBoost,\n",
    "                   'avgF1set2_singleEmbed_p20tunedXGBoost':avgF1set2_singleEmbed_p20tunedXGBoost ,\n",
    "                   'stdF1set2_singleEmbed_p20tunedXGBoost':stdF1set2_singleEmbed_p20tunedXGBoost ,\n",
    "                   'avgF1set3_singleEmbed_p20tunedXGBoost':avgF1set3_singleEmbed_p20tunedXGBoost ,\n",
    "                   'stdF1set3_singleEmbed_p20tunedXGBoost':stdF1set3_singleEmbed_p20tunedXGBoost ,\n",
    "                   'avgF1set4_singleEmbed_p20tunedXGBoost':avgF1set4_singleEmbed_p20tunedXGBoost ,\n",
    "                   'stdF1set4_singleEmbed_p20tunedXGBoost':stdF1set4_singleEmbed_p20tunedXGBoost ,\n",
    "\n",
    "\n",
    "                    'n_CTmin_base2XGBoost':n_CTmin_base2XGBoost ,\n",
    "                     'avgF1_CTmin_base2XGBoost' :avgF1_CTmin_base2XGBoost ,\n",
    "                     'stdF1_CTmin_base2XGBoost' :stdF1_CTmin_base2XGBoost ,\n",
    "                     'avgF1set1_CTmin_base2tunedXGBoost' :avgF1set1_CTmin_base2tunedXGBoost ,\n",
    "                     'stdF1set1_CTmin_base2tunedXGBoost' :stdF1set1_CTmin_base2tunedXGBoost ,\n",
    "                     'avgF1set2_CTmin_base2tunedXGBoost' :avgF1set2_CTmin_base2tunedXGBoost ,\n",
    "                     'stdF1set2_CTmin_base2tunedXGBoost' :stdF1set2_CTmin_base2tunedXGBoost ,\n",
    "                     'avgF1set3_CTmin_base2tunedXGBoost' :avgF1set3_CTmin_base2tunedXGBoost ,\n",
    "                     'stdF1set3_CTmin_base2tunedXGBoost' :stdF1set3_CTmin_base2tunedXGBoost ,\n",
    "                     'avgF1set4_CTmin_base2tunedXGBoost' :avgF1set4_CTmin_base2tunedXGBoost ,\n",
    "                     'stdF1set4_CTmin_base2tunedXGBoost' :stdF1set4_CTmin_base2tunedXGBoost ,\n",
    "                     'n_CTmin_p2_5XGBoost':n_CTmin_p2_5XGBoost ,\n",
    "                     'avgF1_CTmin_p2_5XGBoost' :avgF1_CTmin_p2_5XGBoost ,\n",
    "                     'stdF1_CTmin_p2_5XGBoost' :stdF1_CTmin_p2_5XGBoost ,\n",
    "                     'avgF1set1_CTmin_p2_5tunedXGBoost' :avgF1set1_CTmin_p2_5tunedXGBoost ,\n",
    "                     'stdF1set1_CTmin_p2_5tunedXGBoost' :stdF1set1_CTmin_p2_5tunedXGBoost ,\n",
    "                     'avgF1set2_CTmin_p2_5tunedXGBoost' :avgF1set2_CTmin_p2_5tunedXGBoost ,\n",
    "                     'stdF1set2_CTmin_p2_5tunedXGBoost' :stdF1set2_CTmin_p2_5tunedXGBoost ,\n",
    "                     'avgF1set3_CTmin_p2_5tunedXGBoost' :avgF1set3_CTmin_p2_5tunedXGBoost ,\n",
    "                     'stdF1set3_CTmin_p2_5tunedXGBoost' :stdF1set3_CTmin_p2_5tunedXGBoost ,\n",
    "                     'avgF1set4_CTmin_p2_5tunedXGBoost' :avgF1set4_CTmin_p2_5tunedXGBoost ,\n",
    "                     'stdF1set4_CTmin_p2_5tunedXGBoost' :stdF1set4_CTmin_p2_5tunedXGBoost ,\n",
    "                     'n_CTmin_p5XGBoost':n_CTmin_p5XGBoost ,\n",
    "                     'avgF1_CTmin_p5XGBoost' :avgF1_CTmin_p5XGBoost ,\n",
    "                     'stdF1_CTmin_p5XGBoost' :stdF1_CTmin_p5XGBoost ,\n",
    "                     'avgF1set1_CTmin_p5tunedXGBoost' :avgF1set1_CTmin_p5tunedXGBoost ,\n",
    "                     'stdF1set1_CTmin_p5tunedXGBoost' :stdF1set1_CTmin_p5tunedXGBoost ,\n",
    "                     'avgF1set2_CTmin_p5tunedXGBoost' :avgF1set2_CTmin_p5tunedXGBoost ,\n",
    "                     'stdF1set2_CTmin_p5tunedXGBoost' :stdF1set2_CTmin_p5tunedXGBoost ,\n",
    "                     'avgF1set3_CTmin_p5tunedXGBoost' :avgF1set3_CTmin_p5tunedXGBoost ,\n",
    "                     'stdF1set3_CTmin_p5tunedXGBoost' :stdF1set3_CTmin_p5tunedXGBoost ,\n",
    "                     'avgF1set4_CTmin_p5tunedXGBoost' :avgF1set4_CTmin_p5tunedXGBoost ,\n",
    "                     'stdF1set4_CTmin_p5tunedXGBoost' :stdF1set4_CTmin_p5tunedXGBoost ,\n",
    "                     'n_CTmin_p10XGBoost':n_CTmin_p10XGBoost ,\n",
    "                     'avgF1_CTmin_p10XGBoost' :avgF1_CTmin_p10XGBoost ,\n",
    "                     'stdF1_CTmin_p10XGBoost' :stdF1_CTmin_p10XGBoost ,\n",
    "                     'avgF1set1_CTmin_p10tunedXGBoost' :avgF1set1_CTmin_p10tunedXGBoost ,\n",
    "                     'stdF1set1_CTmin_p10tunedXGBoost' :stdF1set1_CTmin_p10tunedXGBoost ,\n",
    "                     'avgF1set2_CTmin_p10tunedXGBoost' :avgF1set2_CTmin_p10tunedXGBoost ,\n",
    "                     'stdF1set2_CTmin_p10tunedXGBoost' :stdF1set2_CTmin_p10tunedXGBoost ,\n",
    "                     'avgF1set3_CTmin_p10tunedXGBoost' :avgF1set3_CTmin_p10tunedXGBoost ,\n",
    "                     'stdF1set3_CTmin_p10tunedXGBoost' :stdF1set3_CTmin_p10tunedXGBoost ,\n",
    "                     'avgF1set4_CTmin_p10tunedXGBoost' :avgF1set4_CTmin_p10tunedXGBoost ,\n",
    "                     'stdF1set4_CTmin_p10tunedXGBoost' :stdF1set4_CTmin_p10tunedXGBoost ,\n",
    "                     'n_CTmin_p20XGBoost':n_CTmin_p20XGBoost ,\n",
    "                     'avgF1_CTmin_p20XGBoost' :avgF1_CTmin_p20XGBoost ,\n",
    "                     'stdF1_CTmin_p20XGBoost' :stdF1_CTmin_p20XGBoost ,\n",
    "                     'avgF1set1_CTmin_p20tunedXGBoost' :avgF1set1_CTmin_p20tunedXGBoost ,\n",
    "                     'stdF1set1_CTmin_p20tunedXGBoost' :stdF1set1_CTmin_p20tunedXGBoost ,\n",
    "                     'avgF1set2_CTmin_p20tunedXGBoost' :avgF1set2_CTmin_p20tunedXGBoost ,\n",
    "                     'stdF1set2_CTmin_p20tunedXGBoost' :stdF1set2_CTmin_p20tunedXGBoost ,\n",
    "                     'avgF1set3_CTmin_p20tunedXGBoost' :avgF1set3_CTmin_p20tunedXGBoost ,\n",
    "                     'stdF1set3_CTmin_p20tunedXGBoost' :stdF1set3_CTmin_p20tunedXGBoost ,\n",
    "                     'avgF1set4_CTmin_p20tunedXGBoost' :avgF1set4_CTmin_p20tunedXGBoost ,\n",
    "                     'stdF1set4_CTmin_p20tunedXGBoost' :stdF1set4_CTmin_p20tunedXGBoost ,\n",
    "                     'n_CTmed_base2XGBoost':n_CTmed_base2XGBoost ,\n",
    "                     'avgF1_CTmed_base2XGBoost' :avgF1_CTmed_base2XGBoost ,\n",
    "                     'stdF1_CTmed_base2XGBoost' :stdF1_CTmed_base2XGBoost ,\n",
    "                     'avgF1set1_CTmed_base2tunedXGBoost' :avgF1set1_CTmed_base2tunedXGBoost ,\n",
    "                     'stdF1set1_CTmed_base2tunedXGBoost' :stdF1set1_CTmed_base2tunedXGBoost ,\n",
    "                     'avgF1set2_CTmed_base2tunedXGBoost' :avgF1set2_CTmed_base2tunedXGBoost ,\n",
    "                     'stdF1set2_CTmed_base2tunedXGBoost' :stdF1set2_CTmed_base2tunedXGBoost ,\n",
    "                     'avgF1set3_CTmed_base2tunedXGBoost' :avgF1set3_CTmed_base2tunedXGBoost ,\n",
    "                     'stdF1set3_CTmed_base2tunedXGBoost' :stdF1set3_CTmed_base2tunedXGBoost ,\n",
    "                     'avgF1set4_CTmed_base2tunedXGBoost' :avgF1set4_CTmed_base2tunedXGBoost ,\n",
    "                     'stdF1set4_CTmed_base2tunedXGBoost' :stdF1set4_CTmed_base2tunedXGBoost ,\n",
    "                     'n_CTmed_p2_5XGBoost':n_CTmed_p2_5XGBoost ,\n",
    "                     'avgF1_CTmed_p2_5XGBoost' :avgF1_CTmed_p2_5XGBoost ,\n",
    "                     'stdF1_CTmed_p2_5XGBoost' :stdF1_CTmed_p2_5XGBoost ,\n",
    "                     'avgF1set1_CTmed_p2_5tunedXGBoost' :avgF1set1_CTmed_p2_5tunedXGBoost ,\n",
    "                     'stdF1set1_CTmed_p2_5tunedXGBoost' :stdF1set1_CTmed_p2_5tunedXGBoost ,\n",
    "                     'avgF1set2_CTmed_p2_5tunedXGBoost' :avgF1set2_CTmed_p2_5tunedXGBoost ,\n",
    "                     'stdF1set2_CTmed_p2_5tunedXGBoost' :stdF1set2_CTmed_p2_5tunedXGBoost ,\n",
    "                     'avgF1set3_CTmed_p2_5tunedXGBoost' :avgF1set3_CTmed_p2_5tunedXGBoost ,\n",
    "                     'stdF1set3_CTmed_p2_5tunedXGBoost' :stdF1set3_CTmed_p2_5tunedXGBoost ,\n",
    "                     'avgF1set4_CTmed_p2_5tunedXGBoost' :avgF1set4_CTmed_p2_5tunedXGBoost ,\n",
    "                     'stdF1set4_CTmed_p2_5tunedXGBoost' :stdF1set4_CTmed_p2_5tunedXGBoost ,\n",
    "                     'n_CTmed_p5XGBoost':n_CTmed_p5XGBoost ,\n",
    "                     'avgF1_CTmed_p5XGBoost' :avgF1_CTmed_p5XGBoost ,\n",
    "                     'stdF1_CTmed_p5XGBoost' :stdF1_CTmed_p5XGBoost ,\n",
    "                     'avgF1set1_CTmed_p5tunedXGBoost' :avgF1set1_CTmed_p5tunedXGBoost ,\n",
    "                     'stdF1set1_CTmed_p5tunedXGBoost' :stdF1set1_CTmed_p5tunedXGBoost ,\n",
    "                     'avgF1set2_CTmed_p5tunedXGBoost' :avgF1set2_CTmed_p5tunedXGBoost ,\n",
    "                     'stdF1set2_CTmed_p5tunedXGBoost' :stdF1set2_CTmed_p5tunedXGBoost ,\n",
    "                     'avgF1set3_CTmed_p5tunedXGBoost' :avgF1set3_CTmed_p5tunedXGBoost ,\n",
    "                     'stdF1set3_CTmed_p5tunedXGBoost' :stdF1set3_CTmed_p5tunedXGBoost ,\n",
    "                     'avgF1set4_CTmed_p5tunedXGBoost' :avgF1set4_CTmed_p5tunedXGBoost ,\n",
    "                     'stdF1set4_CTmed_p5tunedXGBoost' :stdF1set4_CTmed_p5tunedXGBoost ,\n",
    "                     'n_CTmed_p10XGBoost':n_CTmed_p10XGBoost ,\n",
    "                     'avgF1_CTmed_p10XGBoost' :avgF1_CTmed_p10XGBoost ,\n",
    "                     'stdF1_CTmed_p10XGBoost' :stdF1_CTmed_p10XGBoost ,\n",
    "                     'avgF1set1_CTmed_p10tunedXGBoost' :avgF1set1_CTmed_p10tunedXGBoost ,\n",
    "                     'stdF1set1_CTmed_p10tunedXGBoost' :stdF1set1_CTmed_p10tunedXGBoost ,\n",
    "                     'avgF1set2_CTmed_p10tunedXGBoost' :avgF1set2_CTmed_p10tunedXGBoost ,\n",
    "                     'stdF1set2_CTmed_p10tunedXGBoost' :stdF1set2_CTmed_p10tunedXGBoost ,\n",
    "                     'avgF1set3_CTmed_p10tunedXGBoost' :avgF1set3_CTmed_p10tunedXGBoost ,\n",
    "                     'stdF1set3_CTmed_p10tunedXGBoost' :stdF1set3_CTmed_p10tunedXGBoost ,\n",
    "                     'avgF1set4_CTmed_p10tunedXGBoost' :avgF1set4_CTmed_p10tunedXGBoost ,\n",
    "                     'stdF1set4_CTmed_p10tunedXGBoost' :stdF1set4_CTmed_p10tunedXGBoost ,\n",
    "                     'n_CTmed_p20XGBoost':n_CTmed_p20XGBoost ,\n",
    "                     'avgF1_CTmed_p20XGBoost' :avgF1_CTmed_p20XGBoost ,\n",
    "                     'stdF1_CTmed_p20XGBoost' :stdF1_CTmed_p20XGBoost ,\n",
    "                     'avgF1set1_CTmed_p20tunedXGBoost' :avgF1set1_CTmed_p20tunedXGBoost ,\n",
    "                     'stdF1set1_CTmed_p20tunedXGBoost' :stdF1set1_CTmed_p20tunedXGBoost ,\n",
    "                     'avgF1set2_CTmed_p20tunedXGBoost' :avgF1set2_CTmed_p20tunedXGBoost ,\n",
    "                     'stdF1set2_CTmed_p20tunedXGBoost' :stdF1set2_CTmed_p20tunedXGBoost ,\n",
    "                     'avgF1set3_CTmed_p20tunedXGBoost' :avgF1set3_CTmed_p20tunedXGBoost ,\n",
    "                     'stdF1set3_CTmed_p20tunedXGBoost' :stdF1set3_CTmed_p20tunedXGBoost ,\n",
    "                     'avgF1set4_CTmed_p20tunedXGBoost' :avgF1set4_CTmed_p20tunedXGBoost ,\n",
    "                     'stdF1set4_CTmed_p20tunedXGBoost' :stdF1set4_CTmed_p20tunedXGBoost ,\n",
    "                     'n_CTmean_base2XGBoost':n_CTmean_base2XGBoost ,\n",
    "                     'avgF1_CTmean_base2XGBoost' :avgF1_CTmean_base2XGBoost ,\n",
    "                     'stdF1_CTmean_base2XGBoost' :stdF1_CTmean_base2XGBoost ,\n",
    "                     'avgF1set1_CTmean_base2tunedXGBoost' :avgF1set1_CTmean_base2tunedXGBoost ,\n",
    "                     'stdF1set1_CTmean_base2tunedXGBoost' :stdF1set1_CTmean_base2tunedXGBoost ,\n",
    "                     'avgF1set2_CTmean_base2tunedXGBoost' :avgF1set2_CTmean_base2tunedXGBoost ,\n",
    "                     'stdF1set2_CTmean_base2tunedXGBoost' :stdF1set2_CTmean_base2tunedXGBoost ,\n",
    "                     'avgF1set3_CTmean_base2tunedXGBoost' :avgF1set3_CTmean_base2tunedXGBoost ,\n",
    "                     'stdF1set3_CTmean_base2tunedXGBoost' :stdF1set3_CTmean_base2tunedXGBoost ,\n",
    "                     'avgF1set4_CTmean_base2tunedXGBoost' :avgF1set4_CTmean_base2tunedXGBoost ,\n",
    "                     'stdF1set4_CTmean_base2tunedXGBoost' :stdF1set4_CTmean_base2tunedXGBoost ,\n",
    "                     'n_CTmean_p2_5XGBoost':n_CTmean_p2_5XGBoost ,\n",
    "                     'avgF1_CTmean_p2_5XGBoost' :avgF1_CTmean_p2_5XGBoost ,\n",
    "                     'stdF1_CTmean_p2_5XGBoost' :stdF1_CTmean_p2_5XGBoost ,\n",
    "                     'avgF1set1_CTmean_p2_5tunedXGBoost' :avgF1set1_CTmean_p2_5tunedXGBoost ,\n",
    "                     'stdF1set1_CTmean_p2_5tunedXGBoost' :stdF1set1_CTmean_p2_5tunedXGBoost ,\n",
    "                     'avgF1set2_CTmean_p2_5tunedXGBoost' :avgF1set2_CTmean_p2_5tunedXGBoost ,\n",
    "                     'stdF1set2_CTmean_p2_5tunedXGBoost' :stdF1set2_CTmean_p2_5tunedXGBoost ,\n",
    "                     'avgF1set3_CTmean_p2_5tunedXGBoost' :avgF1set3_CTmean_p2_5tunedXGBoost ,\n",
    "                     'stdF1set3_CTmean_p2_5tunedXGBoost' :stdF1set3_CTmean_p2_5tunedXGBoost ,\n",
    "                     'avgF1set4_CTmean_p2_5tunedXGBoost' :avgF1set4_CTmean_p2_5tunedXGBoost ,\n",
    "                     'stdF1set4_CTmean_p2_5tunedXGBoost' :stdF1set4_CTmean_p2_5tunedXGBoost ,\n",
    "                     'n_CTmean_p5XGBoost':n_CTmean_p5XGBoost ,\n",
    "                     'avgF1_CTmean_p5XGBoost' :avgF1_CTmean_p5XGBoost ,\n",
    "                     'stdF1_CTmean_p5XGBoost' :stdF1_CTmean_p5XGBoost ,\n",
    "                     'avgF1set1_CTmean_p5tunedXGBoost' :avgF1set1_CTmean_p5tunedXGBoost ,\n",
    "                     'stdF1set1_CTmean_p5tunedXGBoost' :stdF1set1_CTmean_p5tunedXGBoost ,\n",
    "                     'avgF1set2_CTmean_p5tunedXGBoost' :avgF1set2_CTmean_p5tunedXGBoost ,\n",
    "                     'stdF1set2_CTmean_p5tunedXGBoost' :stdF1set2_CTmean_p5tunedXGBoost ,\n",
    "                     'avgF1set3_CTmean_p5tunedXGBoost' :avgF1set3_CTmean_p5tunedXGBoost ,\n",
    "                     'stdF1set3_CTmean_p5tunedXGBoost' :stdF1set3_CTmean_p5tunedXGBoost ,\n",
    "                     'avgF1set4_CTmean_p5tunedXGBoost' :avgF1set4_CTmean_p5tunedXGBoost ,\n",
    "                     'stdF1set4_CTmean_p5tunedXGBoost' :stdF1set4_CTmean_p5tunedXGBoost ,\n",
    "                     'n_CTmean_p10XGBoost':n_CTmean_p10XGBoost ,\n",
    "                     'avgF1_CTmean_p10XGBoost' :avgF1_CTmean_p10XGBoost ,\n",
    "                     'stdF1_CTmean_p10XGBoost' :stdF1_CTmean_p10XGBoost ,\n",
    "                     'avgF1set1_CTmean_p10tunedXGBoost' :avgF1set1_CTmean_p10tunedXGBoost ,\n",
    "                     'stdF1set1_CTmean_p10tunedXGBoost' :stdF1set1_CTmean_p10tunedXGBoost ,\n",
    "                     'avgF1set2_CTmean_p10tunedXGBoost' :avgF1set2_CTmean_p10tunedXGBoost ,\n",
    "                     'stdF1set2_CTmean_p10tunedXGBoost' :stdF1set2_CTmean_p10tunedXGBoost ,\n",
    "                     'avgF1set3_CTmean_p10tunedXGBoost' :avgF1set3_CTmean_p10tunedXGBoost ,\n",
    "                     'stdF1set3_CTmean_p10tunedXGBoost' :stdF1set3_CTmean_p10tunedXGBoost ,\n",
    "                     'avgF1set4_CTmean_p10tunedXGBoost' :avgF1set4_CTmean_p10tunedXGBoost ,\n",
    "                     'stdF1set4_CTmean_p10tunedXGBoost' :stdF1set4_CTmean_p10tunedXGBoost ,\n",
    "                     'n_CTmean_p20XGBoost':n_CTmean_p20XGBoost ,\n",
    "                     'avgF1_CTmean_p20XGBoost' :avgF1_CTmean_p20XGBoost ,\n",
    "                     'stdF1_CTmean_p20XGBoost' :stdF1_CTmean_p20XGBoost ,\n",
    "                     'avgF1set1_CTmean_p20tunedXGBoost' :avgF1set1_CTmean_p20tunedXGBoost ,\n",
    "                     'stdF1set1_CTmean_p20tunedXGBoost' :stdF1set1_CTmean_p20tunedXGBoost ,\n",
    "                     'avgF1set2_CTmean_p20tunedXGBoost' :avgF1set2_CTmean_p20tunedXGBoost ,\n",
    "                     'stdF1set2_CTmean_p20tunedXGBoost' :stdF1set2_CTmean_p20tunedXGBoost ,\n",
    "                     'avgF1set3_CTmean_p20tunedXGBoost' :avgF1set3_CTmean_p20tunedXGBoost ,\n",
    "                     'stdF1set3_CTmean_p20tunedXGBoost' :stdF1set3_CTmean_p20tunedXGBoost ,\n",
    "                     'avgF1set4_CTmean_p20tunedXGBoost' :avgF1set4_CTmean_p20tunedXGBoost ,\n",
    "                     'stdF1set4_CTmean_p20tunedXGBoost' :stdF1set4_CTmean_p20tunedXGBoost ,\n",
    "                     'n_CTharmo_base2XGBoost':n_CTharmo_base2XGBoost ,\n",
    "                     'avgF1_CTharmo_base2XGBoost' :avgF1_CTharmo_base2XGBoost ,\n",
    "                     'stdF1_CTharmo_base2XGBoost' :stdF1_CTharmo_base2XGBoost ,\n",
    "                     'avgF1set1_CTharmo_base2tunedXGBoost' :avgF1set1_CTharmo_base2tunedXGBoost ,\n",
    "                     'stdF1set1_CTharmo_base2tunedXGBoost' :stdF1set1_CTharmo_base2tunedXGBoost ,\n",
    "                     'avgF1set2_CTharmo_base2tunedXGBoost' :avgF1set2_CTharmo_base2tunedXGBoost ,\n",
    "                     'stdF1set2_CTharmo_base2tunedXGBoost' :stdF1set2_CTharmo_base2tunedXGBoost ,\n",
    "                     'avgF1set3_CTharmo_base2tunedXGBoost' :avgF1set3_CTharmo_base2tunedXGBoost ,\n",
    "                     'stdF1set3_CTharmo_base2tunedXGBoost' :stdF1set3_CTharmo_base2tunedXGBoost ,\n",
    "                     'avgF1set4_CTharmo_base2tunedXGBoost' :avgF1set4_CTharmo_base2tunedXGBoost ,\n",
    "                     'stdF1set4_CTharmo_base2tunedXGBoost' :stdF1set4_CTharmo_base2tunedXGBoost ,\n",
    "                     'n_CTharmo_p2_5XGBoost':n_CTharmo_p2_5XGBoost ,\n",
    "                     'avgF1_CTharmo_p2_5XGBoost' :avgF1_CTharmo_p2_5XGBoost ,\n",
    "                     'stdF1_CTharmo_p2_5XGBoost' :stdF1_CTharmo_p2_5XGBoost ,\n",
    "                     'avgF1set1_CTharmo_p2_5tunedXGBoost' :avgF1set1_CTharmo_p2_5tunedXGBoost ,\n",
    "                     'stdF1set1_CTharmo_p2_5tunedXGBoost' :stdF1set1_CTharmo_p2_5tunedXGBoost ,\n",
    "                     'avgF1set2_CTharmo_p2_5tunedXGBoost' :avgF1set2_CTharmo_p2_5tunedXGBoost ,\n",
    "                     'stdF1set2_CTharmo_p2_5tunedXGBoost' :stdF1set2_CTharmo_p2_5tunedXGBoost ,\n",
    "                     'avgF1set3_CTharmo_p2_5tunedXGBoost' :avgF1set3_CTharmo_p2_5tunedXGBoost ,\n",
    "                     'stdF1set3_CTharmo_p2_5tunedXGBoost' :stdF1set3_CTharmo_p2_5tunedXGBoost ,\n",
    "                     'avgF1set4_CTharmo_p2_5tunedXGBoost' :avgF1set4_CTharmo_p2_5tunedXGBoost ,\n",
    "                     'stdF1set4_CTharmo_p2_5tunedXGBoost' :stdF1set4_CTharmo_p2_5tunedXGBoost ,\n",
    "                     'n_CTharmo_p5XGBoost':n_CTharmo_p5XGBoost ,\n",
    "                     'avgF1_CTharmo_p5XGBoost' :avgF1_CTharmo_p5XGBoost ,\n",
    "                     'stdF1_CTharmo_p5XGBoost' :stdF1_CTharmo_p5XGBoost ,\n",
    "                     'avgF1set1_CTharmo_p5tunedXGBoost' :avgF1set1_CTharmo_p5tunedXGBoost ,\n",
    "                     'stdF1set1_CTharmo_p5tunedXGBoost' :stdF1set1_CTharmo_p5tunedXGBoost ,\n",
    "                     'avgF1set2_CTharmo_p5tunedXGBoost' :avgF1set2_CTharmo_p5tunedXGBoost ,\n",
    "                     'stdF1set2_CTharmo_p5tunedXGBoost' :stdF1set2_CTharmo_p5tunedXGBoost ,\n",
    "                     'avgF1set3_CTharmo_p5tunedXGBoost' :avgF1set3_CTharmo_p5tunedXGBoost ,\n",
    "                     'stdF1set3_CTharmo_p5tunedXGBoost' :stdF1set3_CTharmo_p5tunedXGBoost ,\n",
    "                     'avgF1set4_CTharmo_p5tunedXGBoost' :avgF1set4_CTharmo_p5tunedXGBoost ,\n",
    "                     'stdF1set4_CTharmo_p5tunedXGBoost' :stdF1set4_CTharmo_p5tunedXGBoost ,\n",
    "                     'n_CTharmo_p10XGBoost':n_CTharmo_p10XGBoost ,\n",
    "                     'avgF1_CTharmo_p10XGBoost' :avgF1_CTharmo_p10XGBoost ,\n",
    "                     'stdF1_CTharmo_p10XGBoost' :stdF1_CTharmo_p10XGBoost ,\n",
    "                     'avgF1set1_CTharmo_p10tunedXGBoost' :avgF1set1_CTharmo_p10tunedXGBoost ,\n",
    "                     'stdF1set1_CTharmo_p10tunedXGBoost' :stdF1set1_CTharmo_p10tunedXGBoost ,\n",
    "                     'avgF1set2_CTharmo_p10tunedXGBoost' :avgF1set2_CTharmo_p10tunedXGBoost ,\n",
    "                     'stdF1set2_CTharmo_p10tunedXGBoost' :stdF1set2_CTharmo_p10tunedXGBoost ,\n",
    "                     'avgF1set3_CTharmo_p10tunedXGBoost' :avgF1set3_CTharmo_p10tunedXGBoost ,\n",
    "                     'stdF1set3_CTharmo_p10tunedXGBoost' :stdF1set3_CTharmo_p10tunedXGBoost ,\n",
    "                     'avgF1set4_CTharmo_p10tunedXGBoost' :avgF1set4_CTharmo_p10tunedXGBoost ,\n",
    "                     'stdF1set4_CTharmo_p10tunedXGBoost' :stdF1set4_CTharmo_p10tunedXGBoost ,\n",
    "                     'n_CTharmo_p20XGBoost':n_CTharmo_p20XGBoost ,\n",
    "                     'avgF1_CTharmo_p20XGBoost' :avgF1_CTharmo_p20XGBoost ,\n",
    "                     'stdF1_CTharmo_p20XGBoost' :stdF1_CTharmo_p20XGBoost ,\n",
    "                     'avgF1set1_CTharmo_p20tunedXGBoost' :avgF1set1_CTharmo_p20tunedXGBoost ,\n",
    "                     'stdF1set1_CTharmo_p20tunedXGBoost' :stdF1set1_CTharmo_p20tunedXGBoost ,\n",
    "                     'avgF1set2_CTharmo_p20tunedXGBoost' :avgF1set2_CTharmo_p20tunedXGBoost ,\n",
    "                     'stdF1set2_CTharmo_p20tunedXGBoost' :stdF1set2_CTharmo_p20tunedXGBoost ,\n",
    "                     'avgF1set3_CTharmo_p20tunedXGBoost' :avgF1set3_CTharmo_p20tunedXGBoost ,\n",
    "                     'stdF1set3_CTharmo_p20tunedXGBoost' :stdF1set3_CTharmo_p20tunedXGBoost ,\n",
    "                     'avgF1set4_CTharmo_p20tunedXGBoost' :avgF1set4_CTharmo_p20tunedXGBoost ,\n",
    "                     'stdF1set4_CTharmo_p20tunedXGBoost' :stdF1set4_CTharmo_p20tunedXGBoost ,\n",
    "\n",
    "\n",
    "\n",
    "                    'n_TCunion_base2XGBoost':n_TCunion_base2XGBoost ,\n",
    "                     'avgF1_TCunion_base2XGBoost':avgF1_TCunion_base2XGBoost ,\n",
    "                     'stdF1_TCunion_base2XGBoost':stdF1_TCunion_base2XGBoost ,\n",
    "                     'avgF1set1_TCunion_base2tunedXGBoost':avgF1set1_TCunion_base2tunedXGBoost ,\n",
    "                     'stdF1set1_TCunion_base2tunedXGBoost':stdF1set1_TCunion_base2tunedXGBoost ,\n",
    "                     'avgF1set2_TCunion_base2tunedXGBoost':avgF1set2_TCunion_base2tunedXGBoost ,\n",
    "                     'stdF1set2_TCunion_base2tunedXGBoost':stdF1set2_TCunion_base2tunedXGBoost ,\n",
    "                     'avgF1set3_TCunion_base2tunedXGBoost':avgF1set3_TCunion_base2tunedXGBoost ,\n",
    "                     'stdF1set3_TCunion_base2tunedXGBoost':stdF1set3_TCunion_base2tunedXGBoost ,\n",
    "                     'avgF1set4_TCunion_base2tunedXGBoost':avgF1set4_TCunion_base2tunedXGBoost ,\n",
    "                     'stdF1set4_TCunion_base2tunedXGBoost':stdF1set4_TCunion_base2tunedXGBoost ,\n",
    "                     'n_TCunion_p2_5XGBoost':n_TCunion_p2_5XGBoost ,\n",
    "                     'avgF1_TCunion_p2_5XGBoost':avgF1_TCunion_p2_5XGBoost ,\n",
    "                     'stdF1_TCunion_p2_5XGBoost':stdF1_TCunion_p2_5XGBoost ,\n",
    "                     'avgF1set1_TCunion_p2_5tunedXGBoost':avgF1set1_TCunion_p2_5tunedXGBoost ,\n",
    "                     'stdF1set1_TCunion_p2_5tunedXGBoost':stdF1set1_TCunion_p2_5tunedXGBoost ,\n",
    "                     'avgF1set2_TCunion_p2_5tunedXGBoost':avgF1set2_TCunion_p2_5tunedXGBoost ,\n",
    "                     'stdF1set2_TCunion_p2_5tunedXGBoost':stdF1set2_TCunion_p2_5tunedXGBoost ,\n",
    "                     'avgF1set3_TCunion_p2_5tunedXGBoost':avgF1set3_TCunion_p2_5tunedXGBoost ,\n",
    "                     'stdF1set3_TCunion_p2_5tunedXGBoost':stdF1set3_TCunion_p2_5tunedXGBoost ,\n",
    "                     'avgF1set4_TCunion_p2_5tunedXGBoost':avgF1set4_TCunion_p2_5tunedXGBoost ,\n",
    "                     'stdF1set4_TCunion_p2_5tunedXGBoost':stdF1set4_TCunion_p2_5tunedXGBoost ,\n",
    "                     'n_TCunion_p5XGBoost':n_TCunion_p5XGBoost ,\n",
    "                     'avgF1_TCunion_p5XGBoost':avgF1_TCunion_p5XGBoost ,\n",
    "                     'stdF1_TCunion_p5XGBoost':stdF1_TCunion_p5XGBoost ,\n",
    "                     'avgF1set1_TCunion_p5tunedXGBoost':avgF1set1_TCunion_p5tunedXGBoost ,\n",
    "                     'stdF1set1_TCunion_p5tunedXGBoost':stdF1set1_TCunion_p5tunedXGBoost ,\n",
    "                     'avgF1set2_TCunion_p5tunedXGBoost':avgF1set2_TCunion_p5tunedXGBoost ,\n",
    "                     'stdF1set2_TCunion_p5tunedXGBoost':stdF1set2_TCunion_p5tunedXGBoost ,\n",
    "                     'avgF1set3_TCunion_p5tunedXGBoost':avgF1set3_TCunion_p5tunedXGBoost ,\n",
    "                     'stdF1set3_TCunion_p5tunedXGBoost':stdF1set3_TCunion_p5tunedXGBoost ,\n",
    "                     'avgF1set4_TCunion_p5tunedXGBoost':avgF1set4_TCunion_p5tunedXGBoost ,\n",
    "                     'stdF1set4_TCunion_p5tunedXGBoost':stdF1set4_TCunion_p5tunedXGBoost ,\n",
    "                     'n_TCunion_p10XGBoost':n_TCunion_p10XGBoost ,\n",
    "                     'avgF1_TCunion_p10XGBoost':avgF1_TCunion_p10XGBoost ,\n",
    "                     'stdF1_TCunion_p10XGBoost':stdF1_TCunion_p10XGBoost ,\n",
    "                     'avgF1set1_TCunion_p10tunedXGBoost':avgF1set1_TCunion_p10tunedXGBoost ,\n",
    "                     'stdF1set1_TCunion_p10tunedXGBoost':stdF1set1_TCunion_p10tunedXGBoost ,\n",
    "                     'avgF1set2_TCunion_p10tunedXGBoost':avgF1set2_TCunion_p10tunedXGBoost ,\n",
    "                     'stdF1set2_TCunion_p10tunedXGBoost':stdF1set2_TCunion_p10tunedXGBoost ,\n",
    "                     'avgF1set3_TCunion_p10tunedXGBoost':avgF1set3_TCunion_p10tunedXGBoost ,\n",
    "                     'stdF1set3_TCunion_p10tunedXGBoost':stdF1set3_TCunion_p10tunedXGBoost ,\n",
    "                     'avgF1set4_TCunion_p10tunedXGBoost':avgF1set4_TCunion_p10tunedXGBoost ,\n",
    "                     'stdF1set4_TCunion_p10tunedXGBoost':stdF1set4_TCunion_p10tunedXGBoost ,\n",
    "                     'n_TCunion_p20XGBoost':n_TCunion_p20XGBoost ,\n",
    "                     'avgF1_TCunion_p20XGBoost':avgF1_TCunion_p20XGBoost ,\n",
    "                     'stdF1_TCunion_p20XGBoost':stdF1_TCunion_p20XGBoost ,\n",
    "                     'avgF1set1_TCunion_p20tunedXGBoost':avgF1set1_TCunion_p20tunedXGBoost ,\n",
    "                     'stdF1set1_TCunion_p20tunedXGBoost':stdF1set1_TCunion_p20tunedXGBoost ,\n",
    "                     'avgF1set2_TCunion_p20tunedXGBoost':avgF1set2_TCunion_p20tunedXGBoost ,\n",
    "                     'stdF1set2_TCunion_p20tunedXGBoost':stdF1set2_TCunion_p20tunedXGBoost ,\n",
    "                     'avgF1set3_TCunion_p20tunedXGBoost':avgF1set3_TCunion_p20tunedXGBoost ,\n",
    "                     'stdF1set3_TCunion_p20tunedXGBoost':stdF1set3_TCunion_p20tunedXGBoost ,\n",
    "                     'avgF1set4_TCunion_p20tunedXGBoost':avgF1set4_TCunion_p20tunedXGBoost ,\n",
    "                     'stdF1set4_TCunion_p20tunedXGBoost':stdF1set4_TCunion_p20tunedXGBoost ,\n",
    "                     'n_TCmulti_base2XGBoost':n_TCmulti_base2XGBoost ,\n",
    "                     'avgF1_TCmulti_base2XGBoost':avgF1_TCmulti_base2XGBoost ,\n",
    "                     'stdF1_TCmulti_base2XGBoost':stdF1_TCmulti_base2XGBoost ,\n",
    "                     'avgF1set1_TCmulti_base2tunedXGBoost':avgF1set1_TCmulti_base2tunedXGBoost ,\n",
    "                     'stdF1set1_TCmulti_base2tunedXGBoost':stdF1set1_TCmulti_base2tunedXGBoost ,\n",
    "                     'avgF1set2_TCmulti_base2tunedXGBoost':avgF1set2_TCmulti_base2tunedXGBoost ,\n",
    "                     'stdF1set2_TCmulti_base2tunedXGBoost':stdF1set2_TCmulti_base2tunedXGBoost ,\n",
    "                     'avgF1set3_TCmulti_base2tunedXGBoost':avgF1set3_TCmulti_base2tunedXGBoost ,\n",
    "                     'stdF1set3_TCmulti_base2tunedXGBoost':stdF1set3_TCmulti_base2tunedXGBoost ,\n",
    "                     'avgF1set4_TCmulti_base2tunedXGBoost':avgF1set4_TCmulti_base2tunedXGBoost ,\n",
    "                     'stdF1set4_TCmulti_base2tunedXGBoost':stdF1set4_TCmulti_base2tunedXGBoost ,\n",
    "                     'n_TCmulti_p2_5XGBoost':n_TCmulti_p2_5XGBoost ,\n",
    "                     'avgF1_TCmulti_p2_5XGBoost':avgF1_TCmulti_p2_5XGBoost ,\n",
    "                     'stdF1_TCmulti_p2_5XGBoost':stdF1_TCmulti_p2_5XGBoost ,\n",
    "                     'avgF1set1_TCmulti_p2_5tunedXGBoost':avgF1set1_TCmulti_p2_5tunedXGBoost ,\n",
    "                     'stdF1set1_TCmulti_p2_5tunedXGBoost':stdF1set1_TCmulti_p2_5tunedXGBoost ,\n",
    "                     'avgF1set2_TCmulti_p2_5tunedXGBoost':avgF1set2_TCmulti_p2_5tunedXGBoost ,\n",
    "                     'stdF1set2_TCmulti_p2_5tunedXGBoost':stdF1set2_TCmulti_p2_5tunedXGBoost ,\n",
    "                     'avgF1set3_TCmulti_p2_5tunedXGBoost':avgF1set3_TCmulti_p2_5tunedXGBoost ,\n",
    "                     'stdF1set3_TCmulti_p2_5tunedXGBoost':stdF1set3_TCmulti_p2_5tunedXGBoost ,\n",
    "                     'avgF1set4_TCmulti_p2_5tunedXGBoost':avgF1set4_TCmulti_p2_5tunedXGBoost ,\n",
    "                     'stdF1set4_TCmulti_p2_5tunedXGBoost':stdF1set4_TCmulti_p2_5tunedXGBoost ,\n",
    "                     'n_TCmulti_p5XGBoost':n_TCmulti_p5XGBoost ,\n",
    "                     'avgF1_TCmulti_p5XGBoost':avgF1_TCmulti_p5XGBoost ,\n",
    "                     'stdF1_TCmulti_p5XGBoost':stdF1_TCmulti_p5XGBoost ,\n",
    "                     'avgF1set1_TCmulti_p5tunedXGBoost':avgF1set1_TCmulti_p5tunedXGBoost ,\n",
    "                     'stdF1set1_TCmulti_p5tunedXGBoost':stdF1set1_TCmulti_p5tunedXGBoost ,\n",
    "                     'avgF1set2_TCmulti_p5tunedXGBoost':avgF1set2_TCmulti_p5tunedXGBoost ,\n",
    "                     'stdF1set2_TCmulti_p5tunedXGBoost':stdF1set2_TCmulti_p5tunedXGBoost ,\n",
    "                     'avgF1set3_TCmulti_p5tunedXGBoost':avgF1set3_TCmulti_p5tunedXGBoost ,\n",
    "                     'stdF1set3_TCmulti_p5tunedXGBoost':stdF1set3_TCmulti_p5tunedXGBoost ,\n",
    "                     'avgF1set4_TCmulti_p5tunedXGBoost':avgF1set4_TCmulti_p5tunedXGBoost ,\n",
    "                     'stdF1set4_TCmulti_p5tunedXGBoost':stdF1set4_TCmulti_p5tunedXGBoost ,\n",
    "                     'n_TCmulti_p10XGBoost':n_TCmulti_p10XGBoost ,\n",
    "                     'avgF1_TCmulti_p10XGBoost':avgF1_TCmulti_p10XGBoost ,\n",
    "                     'stdF1_TCmulti_p10XGBoost':stdF1_TCmulti_p10XGBoost ,\n",
    "                     'avgF1set1_TCmulti_p10tunedXGBoost':avgF1set1_TCmulti_p10tunedXGBoost ,\n",
    "                     'stdF1set1_TCmulti_p10tunedXGBoost':stdF1set1_TCmulti_p10tunedXGBoost ,\n",
    "                     'avgF1set2_TCmulti_p10tunedXGBoost':avgF1set2_TCmulti_p10tunedXGBoost ,\n",
    "                     'stdF1set2_TCmulti_p10tunedXGBoost':stdF1set2_TCmulti_p10tunedXGBoost ,\n",
    "                     'avgF1set3_TCmulti_p10tunedXGBoost':avgF1set3_TCmulti_p10tunedXGBoost ,\n",
    "                     'stdF1set3_TCmulti_p10tunedXGBoost':stdF1set3_TCmulti_p10tunedXGBoost ,\n",
    "                     'avgF1set4_TCmulti_p10tunedXGBoost':avgF1set4_TCmulti_p10tunedXGBoost ,\n",
    "                     'stdF1set4_TCmulti_p10tunedXGBoost':stdF1set4_TCmulti_p10tunedXGBoost ,\n",
    "                     'n_TCmulti_p20XGBoost':n_TCmulti_p20XGBoost ,\n",
    "                     'avgF1_TCmulti_p20XGBoost':avgF1_TCmulti_p20XGBoost ,\n",
    "                     'stdF1_TCmulti_p20XGBoost':stdF1_TCmulti_p20XGBoost ,\n",
    "                     'avgF1set1_TCmulti_p20tunedXGBoost':avgF1set1_TCmulti_p20tunedXGBoost ,\n",
    "                     'stdF1set1_TCmulti_p20tunedXGBoost':stdF1set1_TCmulti_p20tunedXGBoost ,\n",
    "                     'avgF1set2_TCmulti_p20tunedXGBoost':avgF1set2_TCmulti_p20tunedXGBoost ,\n",
    "                     'stdF1set2_TCmulti_p20tunedXGBoost':stdF1set2_TCmulti_p20tunedXGBoost ,\n",
    "                     'avgF1set3_TCmulti_p20tunedXGBoost':avgF1set3_TCmulti_p20tunedXGBoost ,\n",
    "                     'stdF1set3_TCmulti_p20tunedXGBoost':stdF1set3_TCmulti_p20tunedXGBoost ,\n",
    "                     'avgF1set4_TCmulti_p20tunedXGBoost':avgF1set4_TCmulti_p20tunedXGBoost ,\n",
    "                     'stdF1set4_TCmulti_p20tunedXGBoost':stdF1set4_TCmulti_p20tunedXGBoost ,\n",
    "                     'n_TCinters_base2XGBoost':n_TCinters_base2XGBoost ,\n",
    "                     'avgF1_TCinters_base2XGBoost':avgF1_TCinters_base2XGBoost ,\n",
    "                     'stdF1_TCinters_base2XGBoost':stdF1_TCinters_base2XGBoost ,\n",
    "                     'avgF1set1_TCinters_base2tunedXGBoost':avgF1set1_TCinters_base2tunedXGBoost ,\n",
    "                     'stdF1set1_TCinters_base2tunedXGBoost':stdF1set1_TCinters_base2tunedXGBoost ,\n",
    "                     'avgF1set2_TCinters_base2tunedXGBoost':avgF1set2_TCinters_base2tunedXGBoost ,\n",
    "                     'stdF1set2_TCinters_base2tunedXGBoost':stdF1set2_TCinters_base2tunedXGBoost ,\n",
    "                     'avgF1set3_TCinters_base2tunedXGBoost':avgF1set3_TCinters_base2tunedXGBoost ,\n",
    "                     'stdF1set3_TCinters_base2tunedXGBoost':stdF1set3_TCinters_base2tunedXGBoost ,\n",
    "                     'avgF1set4_TCinters_base2tunedXGBoost':avgF1set4_TCinters_base2tunedXGBoost ,\n",
    "                     'stdF1set4_TCinters_base2tunedXGBoost':stdF1set4_TCinters_base2tunedXGBoost ,\n",
    "                     'n_TCinters_p2_5XGBoost':n_TCinters_p2_5XGBoost ,\n",
    "                     'avgF1_TCinters_p2_5XGBoost':avgF1_TCinters_p2_5XGBoost ,\n",
    "                     'stdF1_TCinters_p2_5XGBoost':stdF1_TCinters_p2_5XGBoost ,\n",
    "                     'avgF1set1_TCinters_p2_5tunedXGBoost':avgF1set1_TCinters_p2_5tunedXGBoost ,\n",
    "                     'stdF1set1_TCinters_p2_5tunedXGBoost':stdF1set1_TCinters_p2_5tunedXGBoost ,\n",
    "                     'avgF1set2_TCinters_p2_5tunedXGBoost':avgF1set2_TCinters_p2_5tunedXGBoost ,\n",
    "                     'stdF1set2_TCinters_p2_5tunedXGBoost':stdF1set2_TCinters_p2_5tunedXGBoost ,\n",
    "                     'avgF1set3_TCinters_p2_5tunedXGBoost':avgF1set3_TCinters_p2_5tunedXGBoost ,\n",
    "                     'stdF1set3_TCinters_p2_5tunedXGBoost':stdF1set3_TCinters_p2_5tunedXGBoost ,\n",
    "                     'avgF1set4_TCinters_p2_5tunedXGBoost':avgF1set4_TCinters_p2_5tunedXGBoost ,\n",
    "                     'stdF1set4_TCinters_p2_5tunedXGBoost':stdF1set4_TCinters_p2_5tunedXGBoost ,\n",
    "                     'n_TCinters_p5XGBoost':n_TCinters_p5XGBoost ,\n",
    "                     'avgF1_TCinters_p5XGBoost':avgF1_TCinters_p5XGBoost ,\n",
    "                     'stdF1_TCinters_p5XGBoost':stdF1_TCinters_p5XGBoost ,\n",
    "                     'avgF1set1_TCinters_p5tunedXGBoost':avgF1set1_TCinters_p5tunedXGBoost ,\n",
    "                     'stdF1set1_TCinters_p5tunedXGBoost':stdF1set1_TCinters_p5tunedXGBoost ,\n",
    "                     'avgF1set2_TCinters_p5tunedXGBoost':avgF1set2_TCinters_p5tunedXGBoost ,\n",
    "                     'stdF1set2_TCinters_p5tunedXGBoost':stdF1set2_TCinters_p5tunedXGBoost ,\n",
    "                     'avgF1set3_TCinters_p5tunedXGBoost':avgF1set3_TCinters_p5tunedXGBoost ,\n",
    "                     'stdF1set3_TCinters_p5tunedXGBoost':stdF1set3_TCinters_p5tunedXGBoost ,\n",
    "                     'avgF1set4_TCinters_p5tunedXGBoost':avgF1set4_TCinters_p5tunedXGBoost ,\n",
    "                     'stdF1set4_TCinters_p5tunedXGBoost':stdF1set4_TCinters_p5tunedXGBoost ,\n",
    "                     'n_TCinters_p10XGBoost':n_TCinters_p10XGBoost ,\n",
    "                     'avgF1_TCinters_p10XGBoost':avgF1_TCinters_p10XGBoost ,\n",
    "                     'stdF1_TCinters_p10XGBoost':stdF1_TCinters_p10XGBoost ,\n",
    "                     'avgF1set1_TCinters_p10tunedXGBoost':avgF1set1_TCinters_p10tunedXGBoost ,\n",
    "                     'stdF1set1_TCinters_p10tunedXGBoost':stdF1set1_TCinters_p10tunedXGBoost ,\n",
    "                     'avgF1set2_TCinters_p10tunedXGBoost':avgF1set2_TCinters_p10tunedXGBoost ,\n",
    "                     'stdF1set2_TCinters_p10tunedXGBoost':stdF1set2_TCinters_p10tunedXGBoost ,\n",
    "                     'avgF1set3_TCinters_p10tunedXGBoost':avgF1set3_TCinters_p10tunedXGBoost ,\n",
    "                     'stdF1set3_TCinters_p10tunedXGBoost':stdF1set3_TCinters_p10tunedXGBoost ,\n",
    "                     'avgF1set4_TCinters_p10tunedXGBoost':avgF1set4_TCinters_p10tunedXGBoost ,\n",
    "                     'stdF1set4_TCinters_p10tunedXGBoost':stdF1set4_TCinters_p10tunedXGBoost ,\n",
    "                     'n_TCinters_p20XGBoost':n_TCinters_p20XGBoost ,\n",
    "                     'avgF1_TCinters_p20XGBoost':avgF1_TCinters_p20XGBoost ,\n",
    "                     'stdF1_TCinters_p20XGBoost':stdF1_TCinters_p20XGBoost ,\n",
    "                     'avgF1set1_TCinters_p20tunedXGBoost':avgF1set1_TCinters_p20tunedXGBoost ,\n",
    "                     'stdF1set1_TCinters_p20tunedXGBoost':stdF1set1_TCinters_p20tunedXGBoost ,\n",
    "                     'avgF1set2_TCinters_p20tunedXGBoost':avgF1set2_TCinters_p20tunedXGBoost ,\n",
    "                     'stdF1set2_TCinters_p20tunedXGBoost':stdF1set2_TCinters_p20tunedXGBoost ,\n",
    "                     'avgF1set3_TCinters_p20tunedXGBoost':avgF1set3_TCinters_p20tunedXGBoost ,\n",
    "                     'stdF1set3_TCinters_p20tunedXGBoost':stdF1set3_TCinters_p20tunedXGBoost ,\n",
    "                     'avgF1set4_TCinters_p20tunedXGBoost':avgF1set4_TCinters_p20tunedXGBoost ,\n",
    "                     'stdF1set4_TCinters_p20tunedXGBoost':stdF1set4_TCinters_p20tunedXGBoost\n",
    "\n",
    "\n",
    "\n",
    "\n",
    "}"
   ]
  },
  {
   "cell_type": "code",
   "execution_count": 339,
   "id": "cc887283",
   "metadata": {},
   "outputs": [],
   "source": [
    "output_XGBoost = pd.DataFrame([output_XGBoost])\n",
    "output_XGBoost = output_XGBoost.transpose()\n",
    "output_XGBoost.to_csv('output_XGBoost.csv', index=True)"
   ]
  }
 ],
 "metadata": {
  "kernelspec": {
   "display_name": "Python 3 (ipykernel)",
   "language": "python",
   "name": "python3"
  },
  "language_info": {
   "codemirror_mode": {
    "name": "ipython",
    "version": 3
   },
   "file_extension": ".py",
   "mimetype": "text/x-python",
   "name": "python",
   "nbconvert_exporter": "python",
   "pygments_lexer": "ipython3",
   "version": "3.10.8"
  }
 },
 "nbformat": 4,
 "nbformat_minor": 5
}
